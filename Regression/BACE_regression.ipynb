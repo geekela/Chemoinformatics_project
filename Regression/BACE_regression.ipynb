{
 "cells": [
  {
   "cell_type": "markdown",
   "metadata": {
    "id": "DG9lm6CZ4Yv0"
   },
   "source": [
    "# Code"
   ]
  },
  {
   "cell_type": "code",
   "execution_count": 1,
   "metadata": {
    "id": "ueDAL5pHno8P"
   },
   "outputs": [],
   "source": [
    "!rm -rf Chemoinformatics_project"
   ]
  },
  {
   "cell_type": "code",
   "execution_count": 2,
   "metadata": {
    "colab": {
     "base_uri": "https://localhost:8080/"
    },
    "id": "yAdgzug3n38J",
    "outputId": "9e40470a-26df-41bf-95b5-cc509609e009"
   },
   "outputs": [
    {
     "name": "stdout",
     "output_type": "stream",
     "text": [
      "Cloning into 'Chemoinformatics_project'...\n",
      "remote: Enumerating objects: 480, done.\u001b[K\n",
      "remote: Counting objects: 100% (12/12), done.\u001b[K\n",
      "remote: Compressing objects: 100% (11/11), done.\u001b[K\n",
      "remote: Total 480 (delta 1), reused 4 (delta 1), pack-reused 468 (from 1)\u001b[K\n",
      "Receiving objects: 100% (480/480), 14.35 MiB | 13.43 MiB/s, done.\n",
      "Resolving deltas: 100% (206/206), done.\n",
      "/content/Chemoinformatics_project\n"
     ]
    }
   ],
   "source": [
    "!git clone https://github.com/geekela/Chemoinformatics_project.git\n",
    "%cd Chemoinformatics_project"
   ]
  },
  {
   "cell_type": "markdown",
   "metadata": {
    "id": "gZEBSJalq5xF"
   },
   "source": [
    "## Import"
   ]
  },
  {
   "cell_type": "code",
   "execution_count": 3,
   "metadata": {
    "id": "7AeeCDjf35BM"
   },
   "outputs": [],
   "source": [
    "import sys, os\n",
    "sys.path.append(os.getcwd())"
   ]
  },
  {
   "cell_type": "code",
   "execution_count": 4,
   "metadata": {
    "colab": {
     "base_uri": "https://localhost:8080/"
    },
    "id": "6pwRy7yVCWH6",
    "outputId": "504bc06c-0876-48ff-c72e-482f42ed79f0"
   },
   "outputs": [
    {
     "name": "stdout",
     "output_type": "stream",
     "text": [
      "Collecting deepchem\n",
      "  Downloading deepchem-2.5.0-py3-none-any.whl.metadata (1.1 kB)\n",
      "Collecting rdkit\n",
      "  Downloading rdkit-2025.9.1-cp312-cp312-manylinux_2_28_x86_64.whl.metadata (4.1 kB)\n",
      "Requirement already satisfied: joblib in /usr/local/lib/python3.12/dist-packages (from deepchem) (1.5.2)\n",
      "Requirement already satisfied: numpy in /usr/local/lib/python3.12/dist-packages (from deepchem) (2.0.2)\n",
      "Requirement already satisfied: pandas in /usr/local/lib/python3.12/dist-packages (from deepchem) (2.2.2)\n",
      "Requirement already satisfied: scikit-learn in /usr/local/lib/python3.12/dist-packages (from deepchem) (1.6.1)\n",
      "Requirement already satisfied: scipy in /usr/local/lib/python3.12/dist-packages (from deepchem) (1.16.2)\n",
      "Requirement already satisfied: Pillow in /usr/local/lib/python3.12/dist-packages (from rdkit) (11.3.0)\n",
      "Requirement already satisfied: python-dateutil>=2.8.2 in /usr/local/lib/python3.12/dist-packages (from pandas->deepchem) (2.9.0.post0)\n",
      "Requirement already satisfied: pytz>=2020.1 in /usr/local/lib/python3.12/dist-packages (from pandas->deepchem) (2025.2)\n",
      "Requirement already satisfied: tzdata>=2022.7 in /usr/local/lib/python3.12/dist-packages (from pandas->deepchem) (2025.2)\n",
      "Requirement already satisfied: threadpoolctl>=3.1.0 in /usr/local/lib/python3.12/dist-packages (from scikit-learn->deepchem) (3.6.0)\n",
      "Requirement already satisfied: six>=1.5 in /usr/local/lib/python3.12/dist-packages (from python-dateutil>=2.8.2->pandas->deepchem) (1.17.0)\n",
      "Downloading deepchem-2.5.0-py3-none-any.whl (552 kB)\n",
      "\u001b[2K   \u001b[90m━━━━━━━━━━━━━━━━━━━━━━━━━━━━━━━━━━━━━━━━\u001b[0m \u001b[32m552.4/552.4 kB\u001b[0m \u001b[31m9.0 MB/s\u001b[0m eta \u001b[36m0:00:00\u001b[0m\n",
      "\u001b[?25hDownloading rdkit-2025.9.1-cp312-cp312-manylinux_2_28_x86_64.whl (36.2 MB)\n",
      "\u001b[2K   \u001b[90m━━━━━━━━━━━━━━━━━━━━━━━━━━━━━━━━━━━━━━━━\u001b[0m \u001b[32m36.2/36.2 MB\u001b[0m \u001b[31m50.4 MB/s\u001b[0m eta \u001b[36m0:00:00\u001b[0m\n",
      "\u001b[?25hInstalling collected packages: rdkit, deepchem\n",
      "Successfully installed deepchem-2.5.0 rdkit-2025.9.1\n",
      "Requirement already satisfied: xgboost in /usr/local/lib/python3.12/dist-packages (3.1.0)\n",
      "Requirement already satisfied: numpy in /usr/local/lib/python3.12/dist-packages (from xgboost) (2.0.2)\n",
      "Requirement already satisfied: nvidia-nccl-cu12 in /usr/local/lib/python3.12/dist-packages (from xgboost) (2.27.3)\n",
      "Requirement already satisfied: scipy in /usr/local/lib/python3.12/dist-packages (from xgboost) (1.16.2)\n",
      "Collecting pytorch_lightning\n",
      "  Downloading pytorch_lightning-2.5.5-py3-none-any.whl.metadata (20 kB)\n",
      "Requirement already satisfied: torch>=2.1.0 in /usr/local/lib/python3.12/dist-packages (from pytorch_lightning) (2.8.0+cu126)\n",
      "Requirement already satisfied: tqdm>=4.57.0 in /usr/local/lib/python3.12/dist-packages (from pytorch_lightning) (4.67.1)\n",
      "Requirement already satisfied: PyYAML>5.4 in /usr/local/lib/python3.12/dist-packages (from pytorch_lightning) (6.0.3)\n",
      "Requirement already satisfied: fsspec>=2022.5.0 in /usr/local/lib/python3.12/dist-packages (from fsspec[http]>=2022.5.0->pytorch_lightning) (2025.3.0)\n",
      "Collecting torchmetrics>0.7.0 (from pytorch_lightning)\n",
      "  Downloading torchmetrics-1.8.2-py3-none-any.whl.metadata (22 kB)\n",
      "Requirement already satisfied: packaging>=20.0 in /usr/local/lib/python3.12/dist-packages (from pytorch_lightning) (25.0)\n",
      "Requirement already satisfied: typing-extensions>4.5.0 in /usr/local/lib/python3.12/dist-packages (from pytorch_lightning) (4.15.0)\n",
      "Collecting lightning-utilities>=0.10.0 (from pytorch_lightning)\n",
      "  Downloading lightning_utilities-0.15.2-py3-none-any.whl.metadata (5.7 kB)\n",
      "Requirement already satisfied: aiohttp!=4.0.0a0,!=4.0.0a1 in /usr/local/lib/python3.12/dist-packages (from fsspec[http]>=2022.5.0->pytorch_lightning) (3.13.1)\n",
      "Requirement already satisfied: setuptools in /usr/local/lib/python3.12/dist-packages (from lightning-utilities>=0.10.0->pytorch_lightning) (75.2.0)\n",
      "Requirement already satisfied: filelock in /usr/local/lib/python3.12/dist-packages (from torch>=2.1.0->pytorch_lightning) (3.20.0)\n",
      "Requirement already satisfied: sympy>=1.13.3 in /usr/local/lib/python3.12/dist-packages (from torch>=2.1.0->pytorch_lightning) (1.13.3)\n",
      "Requirement already satisfied: networkx in /usr/local/lib/python3.12/dist-packages (from torch>=2.1.0->pytorch_lightning) (3.5)\n",
      "Requirement already satisfied: jinja2 in /usr/local/lib/python3.12/dist-packages (from torch>=2.1.0->pytorch_lightning) (3.1.6)\n",
      "Requirement already satisfied: nvidia-cuda-nvrtc-cu12==12.6.77 in /usr/local/lib/python3.12/dist-packages (from torch>=2.1.0->pytorch_lightning) (12.6.77)\n",
      "Requirement already satisfied: nvidia-cuda-runtime-cu12==12.6.77 in /usr/local/lib/python3.12/dist-packages (from torch>=2.1.0->pytorch_lightning) (12.6.77)\n",
      "Requirement already satisfied: nvidia-cuda-cupti-cu12==12.6.80 in /usr/local/lib/python3.12/dist-packages (from torch>=2.1.0->pytorch_lightning) (12.6.80)\n",
      "Requirement already satisfied: nvidia-cudnn-cu12==9.10.2.21 in /usr/local/lib/python3.12/dist-packages (from torch>=2.1.0->pytorch_lightning) (9.10.2.21)\n",
      "Requirement already satisfied: nvidia-cublas-cu12==12.6.4.1 in /usr/local/lib/python3.12/dist-packages (from torch>=2.1.0->pytorch_lightning) (12.6.4.1)\n",
      "Requirement already satisfied: nvidia-cufft-cu12==11.3.0.4 in /usr/local/lib/python3.12/dist-packages (from torch>=2.1.0->pytorch_lightning) (11.3.0.4)\n",
      "Requirement already satisfied: nvidia-curand-cu12==10.3.7.77 in /usr/local/lib/python3.12/dist-packages (from torch>=2.1.0->pytorch_lightning) (10.3.7.77)\n",
      "Requirement already satisfied: nvidia-cusolver-cu12==11.7.1.2 in /usr/local/lib/python3.12/dist-packages (from torch>=2.1.0->pytorch_lightning) (11.7.1.2)\n",
      "Requirement already satisfied: nvidia-cusparse-cu12==12.5.4.2 in /usr/local/lib/python3.12/dist-packages (from torch>=2.1.0->pytorch_lightning) (12.5.4.2)\n",
      "Requirement already satisfied: nvidia-cusparselt-cu12==0.7.1 in /usr/local/lib/python3.12/dist-packages (from torch>=2.1.0->pytorch_lightning) (0.7.1)\n",
      "Requirement already satisfied: nvidia-nccl-cu12==2.27.3 in /usr/local/lib/python3.12/dist-packages (from torch>=2.1.0->pytorch_lightning) (2.27.3)\n",
      "Requirement already satisfied: nvidia-nvtx-cu12==12.6.77 in /usr/local/lib/python3.12/dist-packages (from torch>=2.1.0->pytorch_lightning) (12.6.77)\n",
      "Requirement already satisfied: nvidia-nvjitlink-cu12==12.6.85 in /usr/local/lib/python3.12/dist-packages (from torch>=2.1.0->pytorch_lightning) (12.6.85)\n",
      "Requirement already satisfied: nvidia-cufile-cu12==1.11.1.6 in /usr/local/lib/python3.12/dist-packages (from torch>=2.1.0->pytorch_lightning) (1.11.1.6)\n",
      "Requirement already satisfied: triton==3.4.0 in /usr/local/lib/python3.12/dist-packages (from torch>=2.1.0->pytorch_lightning) (3.4.0)\n",
      "Requirement already satisfied: numpy>1.20.0 in /usr/local/lib/python3.12/dist-packages (from torchmetrics>0.7.0->pytorch_lightning) (2.0.2)\n",
      "Requirement already satisfied: aiohappyeyeballs>=2.5.0 in /usr/local/lib/python3.12/dist-packages (from aiohttp!=4.0.0a0,!=4.0.0a1->fsspec[http]>=2022.5.0->pytorch_lightning) (2.6.1)\n",
      "Requirement already satisfied: aiosignal>=1.4.0 in /usr/local/lib/python3.12/dist-packages (from aiohttp!=4.0.0a0,!=4.0.0a1->fsspec[http]>=2022.5.0->pytorch_lightning) (1.4.0)\n",
      "Requirement already satisfied: attrs>=17.3.0 in /usr/local/lib/python3.12/dist-packages (from aiohttp!=4.0.0a0,!=4.0.0a1->fsspec[http]>=2022.5.0->pytorch_lightning) (25.4.0)\n",
      "Requirement already satisfied: frozenlist>=1.1.1 in /usr/local/lib/python3.12/dist-packages (from aiohttp!=4.0.0a0,!=4.0.0a1->fsspec[http]>=2022.5.0->pytorch_lightning) (1.8.0)\n",
      "Requirement already satisfied: multidict<7.0,>=4.5 in /usr/local/lib/python3.12/dist-packages (from aiohttp!=4.0.0a0,!=4.0.0a1->fsspec[http]>=2022.5.0->pytorch_lightning) (6.7.0)\n",
      "Requirement already satisfied: propcache>=0.2.0 in /usr/local/lib/python3.12/dist-packages (from aiohttp!=4.0.0a0,!=4.0.0a1->fsspec[http]>=2022.5.0->pytorch_lightning) (0.4.1)\n",
      "Requirement already satisfied: yarl<2.0,>=1.17.0 in /usr/local/lib/python3.12/dist-packages (from aiohttp!=4.0.0a0,!=4.0.0a1->fsspec[http]>=2022.5.0->pytorch_lightning) (1.22.0)\n",
      "Requirement already satisfied: mpmath<1.4,>=1.1.0 in /usr/local/lib/python3.12/dist-packages (from sympy>=1.13.3->torch>=2.1.0->pytorch_lightning) (1.3.0)\n",
      "Requirement already satisfied: MarkupSafe>=2.0 in /usr/local/lib/python3.12/dist-packages (from jinja2->torch>=2.1.0->pytorch_lightning) (3.0.3)\n",
      "Requirement already satisfied: idna>=2.0 in /usr/local/lib/python3.12/dist-packages (from yarl<2.0,>=1.17.0->aiohttp!=4.0.0a0,!=4.0.0a1->fsspec[http]>=2022.5.0->pytorch_lightning) (3.11)\n",
      "Downloading pytorch_lightning-2.5.5-py3-none-any.whl (832 kB)\n",
      "\u001b[2K   \u001b[90m━━━━━━━━━━━━━━━━━━━━━━━━━━━━━━━━━━━━━━━━\u001b[0m \u001b[32m832.4/832.4 kB\u001b[0m \u001b[31m14.0 MB/s\u001b[0m eta \u001b[36m0:00:00\u001b[0m\n",
      "\u001b[?25hDownloading lightning_utilities-0.15.2-py3-none-any.whl (29 kB)\n",
      "Downloading torchmetrics-1.8.2-py3-none-any.whl (983 kB)\n",
      "\u001b[2K   \u001b[90m━━━━━━━━━━━━━━━━━━━━━━━━━━━━━━━━━━━━━━━━\u001b[0m \u001b[32m983.2/983.2 kB\u001b[0m \u001b[31m40.5 MB/s\u001b[0m eta \u001b[36m0:00:00\u001b[0m\n",
      "\u001b[?25hInstalling collected packages: lightning-utilities, torchmetrics, pytorch_lightning\n",
      "Successfully installed lightning-utilities-0.15.2 pytorch_lightning-2.5.5 torchmetrics-1.8.2\n"
     ]
    }
   ],
   "source": [
    "!pip install deepchem rdkit\n",
    "!pip install xgboost\n",
    "!pip install pytorch_lightning"
   ]
  },
  {
   "cell_type": "code",
   "execution_count": 5,
   "metadata": {
    "colab": {
     "base_uri": "https://localhost:8080/"
    },
    "collapsed": true,
    "id": "Z2SaFk_TfZzR",
    "jupyter": {
     "outputs_hidden": true
    },
    "outputId": "116a7e0f-bfaf-45e8-9130-0156c17f64a8"
   },
   "outputs": [
    {
     "name": "stderr",
     "output_type": "stream",
     "text": [
      "\u001b[34m\u001b[1mwandb\u001b[0m: \u001b[33mWARNING\u001b[0m W&B installed but not logged in.  Run `wandb login` or set the WANDB_API_KEY env variable.\n",
      "WARNING:tensorflow:From /usr/local/lib/python3.12/dist-packages/tensorflow/python/util/deprecation.py:588: calling function (from tensorflow.python.eager.polymorphic_function.polymorphic_function) with experimental_relax_shapes is deprecated and will be removed in a future version.\n",
      "Instructions for updating:\n",
      "experimental_relax_shapes is deprecated, use reduce_retracing instead\n",
      "\u001b[34m\u001b[1mwandb\u001b[0m: \u001b[33mWARNING\u001b[0m W&B installed but not logged in.  Run `wandb login` or set the WANDB_API_KEY env variable.\n"
     ]
    }
   ],
   "source": [
    "import pandas as pd\n",
    "import numpy as np\n",
    "import matplotlib.pyplot as plt\n",
    "import deepchem as dc\n",
    "from rdkit import Chem\n",
    "from rdkit.Chem import Draw"
   ]
  },
  {
   "cell_type": "markdown",
   "metadata": {
    "id": "BCNYpd92rcgY"
   },
   "source": [
    "## Visualization"
   ]
  },
  {
   "cell_type": "code",
   "execution_count": 6,
   "metadata": {
    "id": "BMB_gTxDf6mF"
   },
   "outputs": [],
   "source": [
    "df=pd.read_csv('data/raw/bace.csv')"
   ]
  },
  {
   "cell_type": "code",
   "execution_count": null,
   "metadata": {
    "id": "1xRSkzi-geTv"
   },
   "outputs": [],
   "source": [
    "df"
   ]
  },
  {
   "cell_type": "code",
   "execution_count": null,
   "metadata": {
    "id": "_PPQywvGY7ID"
   },
   "outputs": [],
   "source": [
    "df.describe()"
   ]
  },
  {
   "cell_type": "code",
   "execution_count": 7,
   "metadata": {
    "id": "Zk6Yw8sEAOhZ"
   },
   "outputs": [],
   "source": [
    "df_bace=df[['mol','pIC50']]"
   ]
  },
  {
   "cell_type": "code",
   "execution_count": 8,
   "metadata": {
    "colab": {
     "base_uri": "https://localhost:8080/",
     "height": 423
    },
    "id": "-CPDNehcAWgk",
    "outputId": "335162dd-a30a-4e7d-cb0f-ff6d17e7220f"
   },
   "outputs": [
    {
     "data": {
      "application/vnd.google.colaboratory.intrinsic+json": {
       "summary": "{\n  \"name\": \"df_bace\",\n  \"rows\": 1513,\n  \"fields\": [\n    {\n      \"column\": \"mol\",\n      \"properties\": {\n        \"dtype\": \"string\",\n        \"num_unique_values\": 1513,\n        \"samples\": [\n          \"s1nc(cc1)-c1cc2c(OC(CC23N=C(N)N(C)C3=O)(C)C)cc1\",\n          \"FC(F)Oc1ccc(cc1)[C@@]1(N=C(N)N(C)C1=O)c1cc(ccc1)\\\\C=C\\\\CCCO\",\n          \"S1(=O)(=O)N(CCCC1)c1cc(cc(NCC)c1)C(=O)NC(Cc1ccccc1)C(O)C[NH2+]C1CC1\"\n        ],\n        \"semantic_type\": \"\",\n        \"description\": \"\"\n      }\n    },\n    {\n      \"column\": \"pIC50\",\n      \"properties\": {\n        \"dtype\": \"number\",\n        \"std\": 1.3424169311061227,\n        \"min\": 2.5445461,\n        \"max\": 10.522879,\n        \"num_unique_values\": 651,\n        \"samples\": [\n          3.4689045,\n          7.167491,\n          7.2146702\n        ],\n        \"semantic_type\": \"\",\n        \"description\": \"\"\n      }\n    }\n  ]\n}",
       "type": "dataframe",
       "variable_name": "df_bace"
      },
      "text/html": [
       "\n",
       "  <div id=\"df-130d2edb-94c1-4cca-84de-870f0dbe487a\" class=\"colab-df-container\">\n",
       "    <div>\n",
       "<style scoped>\n",
       "    .dataframe tbody tr th:only-of-type {\n",
       "        vertical-align: middle;\n",
       "    }\n",
       "\n",
       "    .dataframe tbody tr th {\n",
       "        vertical-align: top;\n",
       "    }\n",
       "\n",
       "    .dataframe thead th {\n",
       "        text-align: right;\n",
       "    }\n",
       "</style>\n",
       "<table border=\"1\" class=\"dataframe\">\n",
       "  <thead>\n",
       "    <tr style=\"text-align: right;\">\n",
       "      <th></th>\n",
       "      <th>mol</th>\n",
       "      <th>pIC50</th>\n",
       "    </tr>\n",
       "  </thead>\n",
       "  <tbody>\n",
       "    <tr>\n",
       "      <th>0</th>\n",
       "      <td>O1CC[C@@H](NC(=O)[C@@H](Cc2cc3cc(ccc3nc2N)-c2c...</td>\n",
       "      <td>9.154901</td>\n",
       "    </tr>\n",
       "    <tr>\n",
       "      <th>1</th>\n",
       "      <td>Fc1cc(cc(F)c1)C[C@H](NC(=O)[C@@H](N1CC[C@](NC(...</td>\n",
       "      <td>8.853872</td>\n",
       "    </tr>\n",
       "    <tr>\n",
       "      <th>2</th>\n",
       "      <td>S1(=O)(=O)N(c2cc(cc3c2n(cc3CC)CC1)C(=O)N[C@H](...</td>\n",
       "      <td>8.698970</td>\n",
       "    </tr>\n",
       "    <tr>\n",
       "      <th>3</th>\n",
       "      <td>S1(=O)(=O)C[C@@H](Cc2cc(O[C@H](COCC)C(F)(F)F)c...</td>\n",
       "      <td>8.698970</td>\n",
       "    </tr>\n",
       "    <tr>\n",
       "      <th>4</th>\n",
       "      <td>S1(=O)(=O)N(c2cc(cc3c2n(cc3CC)CC1)C(=O)N[C@H](...</td>\n",
       "      <td>8.698970</td>\n",
       "    </tr>\n",
       "    <tr>\n",
       "      <th>...</th>\n",
       "      <td>...</td>\n",
       "      <td>...</td>\n",
       "    </tr>\n",
       "    <tr>\n",
       "      <th>1508</th>\n",
       "      <td>Clc1cc2nc(n(c2cc1)C(CC(=O)NCC1CCOCC1)CC)N</td>\n",
       "      <td>3.000000</td>\n",
       "    </tr>\n",
       "    <tr>\n",
       "      <th>1509</th>\n",
       "      <td>Clc1cc2nc(n(c2cc1)C(CC(=O)NCc1ncccc1)CC)N</td>\n",
       "      <td>3.000000</td>\n",
       "    </tr>\n",
       "    <tr>\n",
       "      <th>1510</th>\n",
       "      <td>Brc1cc(ccc1)C1CC1C=1N=C(N)N(C)C(=O)C=1</td>\n",
       "      <td>2.953115</td>\n",
       "    </tr>\n",
       "    <tr>\n",
       "      <th>1511</th>\n",
       "      <td>O=C1N(C)C(=NC(=C1)C1CC1c1cc(ccc1)-c1ccccc1)N</td>\n",
       "      <td>2.733298</td>\n",
       "    </tr>\n",
       "    <tr>\n",
       "      <th>1512</th>\n",
       "      <td>Clc1cc2nc(n(c2cc1)CCCC(=O)NCC1CC1)N</td>\n",
       "      <td>2.544546</td>\n",
       "    </tr>\n",
       "  </tbody>\n",
       "</table>\n",
       "<p>1513 rows × 2 columns</p>\n",
       "</div>\n",
       "    <div class=\"colab-df-buttons\">\n",
       "\n",
       "  <div class=\"colab-df-container\">\n",
       "    <button class=\"colab-df-convert\" onclick=\"convertToInteractive('df-130d2edb-94c1-4cca-84de-870f0dbe487a')\"\n",
       "            title=\"Convert this dataframe to an interactive table.\"\n",
       "            style=\"display:none;\">\n",
       "\n",
       "  <svg xmlns=\"http://www.w3.org/2000/svg\" height=\"24px\" viewBox=\"0 -960 960 960\">\n",
       "    <path d=\"M120-120v-720h720v720H120Zm60-500h600v-160H180v160Zm220 220h160v-160H400v160Zm0 220h160v-160H400v160ZM180-400h160v-160H180v160Zm440 0h160v-160H620v160ZM180-180h160v-160H180v160Zm440 0h160v-160H620v160Z\"/>\n",
       "  </svg>\n",
       "    </button>\n",
       "\n",
       "  <style>\n",
       "    .colab-df-container {\n",
       "      display:flex;\n",
       "      gap: 12px;\n",
       "    }\n",
       "\n",
       "    .colab-df-convert {\n",
       "      background-color: #E8F0FE;\n",
       "      border: none;\n",
       "      border-radius: 50%;\n",
       "      cursor: pointer;\n",
       "      display: none;\n",
       "      fill: #1967D2;\n",
       "      height: 32px;\n",
       "      padding: 0 0 0 0;\n",
       "      width: 32px;\n",
       "    }\n",
       "\n",
       "    .colab-df-convert:hover {\n",
       "      background-color: #E2EBFA;\n",
       "      box-shadow: 0px 1px 2px rgba(60, 64, 67, 0.3), 0px 1px 3px 1px rgba(60, 64, 67, 0.15);\n",
       "      fill: #174EA6;\n",
       "    }\n",
       "\n",
       "    .colab-df-buttons div {\n",
       "      margin-bottom: 4px;\n",
       "    }\n",
       "\n",
       "    [theme=dark] .colab-df-convert {\n",
       "      background-color: #3B4455;\n",
       "      fill: #D2E3FC;\n",
       "    }\n",
       "\n",
       "    [theme=dark] .colab-df-convert:hover {\n",
       "      background-color: #434B5C;\n",
       "      box-shadow: 0px 1px 3px 1px rgba(0, 0, 0, 0.15);\n",
       "      filter: drop-shadow(0px 1px 2px rgba(0, 0, 0, 0.3));\n",
       "      fill: #FFFFFF;\n",
       "    }\n",
       "  </style>\n",
       "\n",
       "    <script>\n",
       "      const buttonEl =\n",
       "        document.querySelector('#df-130d2edb-94c1-4cca-84de-870f0dbe487a button.colab-df-convert');\n",
       "      buttonEl.style.display =\n",
       "        google.colab.kernel.accessAllowed ? 'block' : 'none';\n",
       "\n",
       "      async function convertToInteractive(key) {\n",
       "        const element = document.querySelector('#df-130d2edb-94c1-4cca-84de-870f0dbe487a');\n",
       "        const dataTable =\n",
       "          await google.colab.kernel.invokeFunction('convertToInteractive',\n",
       "                                                    [key], {});\n",
       "        if (!dataTable) return;\n",
       "\n",
       "        const docLinkHtml = 'Like what you see? Visit the ' +\n",
       "          '<a target=\"_blank\" href=https://colab.research.google.com/notebooks/data_table.ipynb>data table notebook</a>'\n",
       "          + ' to learn more about interactive tables.';\n",
       "        element.innerHTML = '';\n",
       "        dataTable['output_type'] = 'display_data';\n",
       "        await google.colab.output.renderOutput(dataTable, element);\n",
       "        const docLink = document.createElement('div');\n",
       "        docLink.innerHTML = docLinkHtml;\n",
       "        element.appendChild(docLink);\n",
       "      }\n",
       "    </script>\n",
       "  </div>\n",
       "\n",
       "\n",
       "    <div id=\"df-013dd625-0f17-4ab6-8d38-127e16f3c50a\">\n",
       "      <button class=\"colab-df-quickchart\" onclick=\"quickchart('df-013dd625-0f17-4ab6-8d38-127e16f3c50a')\"\n",
       "                title=\"Suggest charts\"\n",
       "                style=\"display:none;\">\n",
       "\n",
       "<svg xmlns=\"http://www.w3.org/2000/svg\" height=\"24px\"viewBox=\"0 0 24 24\"\n",
       "     width=\"24px\">\n",
       "    <g>\n",
       "        <path d=\"M19 3H5c-1.1 0-2 .9-2 2v14c0 1.1.9 2 2 2h14c1.1 0 2-.9 2-2V5c0-1.1-.9-2-2-2zM9 17H7v-7h2v7zm4 0h-2V7h2v10zm4 0h-2v-4h2v4z\"/>\n",
       "    </g>\n",
       "</svg>\n",
       "      </button>\n",
       "\n",
       "<style>\n",
       "  .colab-df-quickchart {\n",
       "      --bg-color: #E8F0FE;\n",
       "      --fill-color: #1967D2;\n",
       "      --hover-bg-color: #E2EBFA;\n",
       "      --hover-fill-color: #174EA6;\n",
       "      --disabled-fill-color: #AAA;\n",
       "      --disabled-bg-color: #DDD;\n",
       "  }\n",
       "\n",
       "  [theme=dark] .colab-df-quickchart {\n",
       "      --bg-color: #3B4455;\n",
       "      --fill-color: #D2E3FC;\n",
       "      --hover-bg-color: #434B5C;\n",
       "      --hover-fill-color: #FFFFFF;\n",
       "      --disabled-bg-color: #3B4455;\n",
       "      --disabled-fill-color: #666;\n",
       "  }\n",
       "\n",
       "  .colab-df-quickchart {\n",
       "    background-color: var(--bg-color);\n",
       "    border: none;\n",
       "    border-radius: 50%;\n",
       "    cursor: pointer;\n",
       "    display: none;\n",
       "    fill: var(--fill-color);\n",
       "    height: 32px;\n",
       "    padding: 0;\n",
       "    width: 32px;\n",
       "  }\n",
       "\n",
       "  .colab-df-quickchart:hover {\n",
       "    background-color: var(--hover-bg-color);\n",
       "    box-shadow: 0 1px 2px rgba(60, 64, 67, 0.3), 0 1px 3px 1px rgba(60, 64, 67, 0.15);\n",
       "    fill: var(--button-hover-fill-color);\n",
       "  }\n",
       "\n",
       "  .colab-df-quickchart-complete:disabled,\n",
       "  .colab-df-quickchart-complete:disabled:hover {\n",
       "    background-color: var(--disabled-bg-color);\n",
       "    fill: var(--disabled-fill-color);\n",
       "    box-shadow: none;\n",
       "  }\n",
       "\n",
       "  .colab-df-spinner {\n",
       "    border: 2px solid var(--fill-color);\n",
       "    border-color: transparent;\n",
       "    border-bottom-color: var(--fill-color);\n",
       "    animation:\n",
       "      spin 1s steps(1) infinite;\n",
       "  }\n",
       "\n",
       "  @keyframes spin {\n",
       "    0% {\n",
       "      border-color: transparent;\n",
       "      border-bottom-color: var(--fill-color);\n",
       "      border-left-color: var(--fill-color);\n",
       "    }\n",
       "    20% {\n",
       "      border-color: transparent;\n",
       "      border-left-color: var(--fill-color);\n",
       "      border-top-color: var(--fill-color);\n",
       "    }\n",
       "    30% {\n",
       "      border-color: transparent;\n",
       "      border-left-color: var(--fill-color);\n",
       "      border-top-color: var(--fill-color);\n",
       "      border-right-color: var(--fill-color);\n",
       "    }\n",
       "    40% {\n",
       "      border-color: transparent;\n",
       "      border-right-color: var(--fill-color);\n",
       "      border-top-color: var(--fill-color);\n",
       "    }\n",
       "    60% {\n",
       "      border-color: transparent;\n",
       "      border-right-color: var(--fill-color);\n",
       "    }\n",
       "    80% {\n",
       "      border-color: transparent;\n",
       "      border-right-color: var(--fill-color);\n",
       "      border-bottom-color: var(--fill-color);\n",
       "    }\n",
       "    90% {\n",
       "      border-color: transparent;\n",
       "      border-bottom-color: var(--fill-color);\n",
       "    }\n",
       "  }\n",
       "</style>\n",
       "\n",
       "      <script>\n",
       "        async function quickchart(key) {\n",
       "          const quickchartButtonEl =\n",
       "            document.querySelector('#' + key + ' button');\n",
       "          quickchartButtonEl.disabled = true;  // To prevent multiple clicks.\n",
       "          quickchartButtonEl.classList.add('colab-df-spinner');\n",
       "          try {\n",
       "            const charts = await google.colab.kernel.invokeFunction(\n",
       "                'suggestCharts', [key], {});\n",
       "          } catch (error) {\n",
       "            console.error('Error during call to suggestCharts:', error);\n",
       "          }\n",
       "          quickchartButtonEl.classList.remove('colab-df-spinner');\n",
       "          quickchartButtonEl.classList.add('colab-df-quickchart-complete');\n",
       "        }\n",
       "        (() => {\n",
       "          let quickchartButtonEl =\n",
       "            document.querySelector('#df-013dd625-0f17-4ab6-8d38-127e16f3c50a button');\n",
       "          quickchartButtonEl.style.display =\n",
       "            google.colab.kernel.accessAllowed ? 'block' : 'none';\n",
       "        })();\n",
       "      </script>\n",
       "    </div>\n",
       "\n",
       "  <div id=\"id_585dfada-2336-42cd-a212-2634685d62ec\">\n",
       "    <style>\n",
       "      .colab-df-generate {\n",
       "        background-color: #E8F0FE;\n",
       "        border: none;\n",
       "        border-radius: 50%;\n",
       "        cursor: pointer;\n",
       "        display: none;\n",
       "        fill: #1967D2;\n",
       "        height: 32px;\n",
       "        padding: 0 0 0 0;\n",
       "        width: 32px;\n",
       "      }\n",
       "\n",
       "      .colab-df-generate:hover {\n",
       "        background-color: #E2EBFA;\n",
       "        box-shadow: 0px 1px 2px rgba(60, 64, 67, 0.3), 0px 1px 3px 1px rgba(60, 64, 67, 0.15);\n",
       "        fill: #174EA6;\n",
       "      }\n",
       "\n",
       "      [theme=dark] .colab-df-generate {\n",
       "        background-color: #3B4455;\n",
       "        fill: #D2E3FC;\n",
       "      }\n",
       "\n",
       "      [theme=dark] .colab-df-generate:hover {\n",
       "        background-color: #434B5C;\n",
       "        box-shadow: 0px 1px 3px 1px rgba(0, 0, 0, 0.15);\n",
       "        filter: drop-shadow(0px 1px 2px rgba(0, 0, 0, 0.3));\n",
       "        fill: #FFFFFF;\n",
       "      }\n",
       "    </style>\n",
       "    <button class=\"colab-df-generate\" onclick=\"generateWithVariable('df_bace')\"\n",
       "            title=\"Generate code using this dataframe.\"\n",
       "            style=\"display:none;\">\n",
       "\n",
       "  <svg xmlns=\"http://www.w3.org/2000/svg\" height=\"24px\"viewBox=\"0 0 24 24\"\n",
       "       width=\"24px\">\n",
       "    <path d=\"M7,19H8.4L18.45,9,17,7.55,7,17.6ZM5,21V16.75L18.45,3.32a2,2,0,0,1,2.83,0l1.4,1.43a1.91,1.91,0,0,1,.58,1.4,1.91,1.91,0,0,1-.58,1.4L9.25,21ZM18.45,9,17,7.55Zm-12,3A5.31,5.31,0,0,0,4.9,8.1,5.31,5.31,0,0,0,1,6.5,5.31,5.31,0,0,0,4.9,4.9,5.31,5.31,0,0,0,6.5,1,5.31,5.31,0,0,0,8.1,4.9,5.31,5.31,0,0,0,12,6.5,5.46,5.46,0,0,0,6.5,12Z\"/>\n",
       "  </svg>\n",
       "    </button>\n",
       "    <script>\n",
       "      (() => {\n",
       "      const buttonEl =\n",
       "        document.querySelector('#id_585dfada-2336-42cd-a212-2634685d62ec button.colab-df-generate');\n",
       "      buttonEl.style.display =\n",
       "        google.colab.kernel.accessAllowed ? 'block' : 'none';\n",
       "\n",
       "      buttonEl.onclick = () => {\n",
       "        google.colab.notebook.generateWithVariable('df_bace');\n",
       "      }\n",
       "      })();\n",
       "    </script>\n",
       "  </div>\n",
       "\n",
       "    </div>\n",
       "  </div>\n"
      ],
      "text/plain": [
       "                                                    mol     pIC50\n",
       "0     O1CC[C@@H](NC(=O)[C@@H](Cc2cc3cc(ccc3nc2N)-c2c...  9.154901\n",
       "1     Fc1cc(cc(F)c1)C[C@H](NC(=O)[C@@H](N1CC[C@](NC(...  8.853872\n",
       "2     S1(=O)(=O)N(c2cc(cc3c2n(cc3CC)CC1)C(=O)N[C@H](...  8.698970\n",
       "3     S1(=O)(=O)C[C@@H](Cc2cc(O[C@H](COCC)C(F)(F)F)c...  8.698970\n",
       "4     S1(=O)(=O)N(c2cc(cc3c2n(cc3CC)CC1)C(=O)N[C@H](...  8.698970\n",
       "...                                                 ...       ...\n",
       "1508          Clc1cc2nc(n(c2cc1)C(CC(=O)NCC1CCOCC1)CC)N  3.000000\n",
       "1509          Clc1cc2nc(n(c2cc1)C(CC(=O)NCc1ncccc1)CC)N  3.000000\n",
       "1510             Brc1cc(ccc1)C1CC1C=1N=C(N)N(C)C(=O)C=1  2.953115\n",
       "1511       O=C1N(C)C(=NC(=C1)C1CC1c1cc(ccc1)-c1ccccc1)N  2.733298\n",
       "1512                Clc1cc2nc(n(c2cc1)CCCC(=O)NCC1CC1)N  2.544546\n",
       "\n",
       "[1513 rows x 2 columns]"
      ]
     },
     "execution_count": 8,
     "metadata": {},
     "output_type": "execute_result"
    }
   ],
   "source": [
    "df_bace"
   ]
  },
  {
   "cell_type": "code",
   "execution_count": 9,
   "metadata": {
    "colab": {
     "base_uri": "https://localhost:8080/"
    },
    "collapsed": true,
    "id": "qYVQefeIxsAP",
    "jupyter": {
     "outputs_hidden": true
    },
    "outputId": "645de6b0-c9d5-4095-f7a1-eaba02e010cc"
   },
   "outputs": [
    {
     "name": "stderr",
     "output_type": "stream",
     "text": [
      "/tmp/ipython-input-4287560437.py:19: SettingWithCopyWarning: \n",
      "A value is trying to be set on a copy of a slice from a DataFrame.\n",
      "Try using .loc[row_indexer,col_indexer] = value instead\n",
      "\n",
      "See the caveats in the documentation: https://pandas.pydata.org/pandas-docs/stable/user_guide/indexing.html#returning-a-view-versus-a-copy\n",
      "  df_bace['canonical_smiles'] = df_bace['mol'].apply(canonicalize_smiles)\n"
     ]
    }
   ],
   "source": [
    "def canonicalize_smiles(smiles):\n",
    "        '''This function takes a non-canonical SMILES and\n",
    "        returns the canonical version\n",
    "        Args:\n",
    "            -smiles: str, non-canonical SMILES of a molecule\n",
    "        Out:\n",
    "            - canonical_smiles: str, canonical SMILES of the molecule\n",
    "        '''\n",
    "\n",
    "        mol = Chem.MolFromSmiles(smiles) # create a mol object from input smiles\n",
    "\n",
    "        canonical_smiles = Chem.MolToSmiles(mol) # convert the previous mol object to SMILES using Chem.MolToSmiles()\n",
    "\n",
    "\n",
    "        return canonical_smiles\n",
    "\n",
    "\n",
    "    # apply canonical smiles to our df\n",
    "df_bace['canonical_smiles'] = df_bace['mol'].apply(canonicalize_smiles)\n"
   ]
  },
  {
   "cell_type": "code",
   "execution_count": 10,
   "metadata": {
    "colab": {
     "base_uri": "https://localhost:8080/",
     "height": 423
    },
    "id": "vZgQZMtFCijt",
    "outputId": "97367198-e8cd-451c-b756-b2aa7506559c"
   },
   "outputs": [
    {
     "data": {
      "application/vnd.google.colaboratory.intrinsic+json": {
       "summary": "{\n  \"name\": \"df_bace\",\n  \"rows\": 1513,\n  \"fields\": [\n    {\n      \"column\": \"mol\",\n      \"properties\": {\n        \"dtype\": \"string\",\n        \"num_unique_values\": 1513,\n        \"samples\": [\n          \"s1nc(cc1)-c1cc2c(OC(CC23N=C(N)N(C)C3=O)(C)C)cc1\",\n          \"FC(F)Oc1ccc(cc1)[C@@]1(N=C(N)N(C)C1=O)c1cc(ccc1)\\\\C=C\\\\CCCO\",\n          \"S1(=O)(=O)N(CCCC1)c1cc(cc(NCC)c1)C(=O)NC(Cc1ccccc1)C(O)C[NH2+]C1CC1\"\n        ],\n        \"semantic_type\": \"\",\n        \"description\": \"\"\n      }\n    },\n    {\n      \"column\": \"pIC50\",\n      \"properties\": {\n        \"dtype\": \"number\",\n        \"std\": 1.3424169311061227,\n        \"min\": 2.5445461,\n        \"max\": 10.522879,\n        \"num_unique_values\": 651,\n        \"samples\": [\n          3.4689045,\n          7.167491,\n          7.2146702\n        ],\n        \"semantic_type\": \"\",\n        \"description\": \"\"\n      }\n    },\n    {\n      \"column\": \"canonical_smiles\",\n      \"properties\": {\n        \"dtype\": \"string\",\n        \"num_unique_values\": 1513,\n        \"samples\": [\n          \"CN1C(=O)C2(CC(C)(C)Oc3ccc(-c4ccsn4)cc32)N=C1N\",\n          \"CN1C(=O)[C@@](c2ccc(OC(F)F)cc2)(c2cccc(/C=C/CCCO)c2)N=C1N\",\n          \"CCNc1cc(C(=O)NC(Cc2ccccc2)C(O)C[NH2+]C2CC2)cc(N2CCCCS2(=O)=O)c1\"\n        ],\n        \"semantic_type\": \"\",\n        \"description\": \"\"\n      }\n    }\n  ]\n}",
       "type": "dataframe",
       "variable_name": "df_bace"
      },
      "text/html": [
       "\n",
       "  <div id=\"df-274d4288-2eca-480b-9efd-9368fbaa1e31\" class=\"colab-df-container\">\n",
       "    <div>\n",
       "<style scoped>\n",
       "    .dataframe tbody tr th:only-of-type {\n",
       "        vertical-align: middle;\n",
       "    }\n",
       "\n",
       "    .dataframe tbody tr th {\n",
       "        vertical-align: top;\n",
       "    }\n",
       "\n",
       "    .dataframe thead th {\n",
       "        text-align: right;\n",
       "    }\n",
       "</style>\n",
       "<table border=\"1\" class=\"dataframe\">\n",
       "  <thead>\n",
       "    <tr style=\"text-align: right;\">\n",
       "      <th></th>\n",
       "      <th>mol</th>\n",
       "      <th>pIC50</th>\n",
       "      <th>canonical_smiles</th>\n",
       "    </tr>\n",
       "  </thead>\n",
       "  <tbody>\n",
       "    <tr>\n",
       "      <th>0</th>\n",
       "      <td>O1CC[C@@H](NC(=O)[C@@H](Cc2cc3cc(ccc3nc2N)-c2c...</td>\n",
       "      <td>9.154901</td>\n",
       "      <td>Cc1ccccc1-c1ccc2nc(N)c(C[C@@H](C)C(=O)N[C@@H]3...</td>\n",
       "    </tr>\n",
       "    <tr>\n",
       "      <th>1</th>\n",
       "      <td>Fc1cc(cc(F)c1)C[C@H](NC(=O)[C@@H](N1CC[C@](NC(...</td>\n",
       "      <td>8.853872</td>\n",
       "      <td>CCCO[C@H]1C[NH2+][C@@H]([C@@H](O)[C@H](Cc2cc(F...</td>\n",
       "    </tr>\n",
       "    <tr>\n",
       "      <th>2</th>\n",
       "      <td>S1(=O)(=O)N(c2cc(cc3c2n(cc3CC)CC1)C(=O)N[C@H](...</td>\n",
       "      <td>8.698970</td>\n",
       "      <td>CCc1cn2c3c(cc(C(=O)N[C@@H](Cc4ccccc4)[C@H](O)C...</td>\n",
       "    </tr>\n",
       "    <tr>\n",
       "      <th>3</th>\n",
       "      <td>S1(=O)(=O)C[C@@H](Cc2cc(O[C@H](COCC)C(F)(F)F)c...</td>\n",
       "      <td>8.698970</td>\n",
       "      <td>CCOC[C@@H](Oc1cc(C[C@@H]2CS(=O)(=O)C[C@H]([NH2...</td>\n",
       "    </tr>\n",
       "    <tr>\n",
       "      <th>4</th>\n",
       "      <td>S1(=O)(=O)N(c2cc(cc3c2n(cc3CC)CC1)C(=O)N[C@H](...</td>\n",
       "      <td>8.698970</td>\n",
       "      <td>CCc1cn2c3c(cc(C(=O)N[C@@H](Cc4ccccc4)[C@H](O)C...</td>\n",
       "    </tr>\n",
       "    <tr>\n",
       "      <th>...</th>\n",
       "      <td>...</td>\n",
       "      <td>...</td>\n",
       "      <td>...</td>\n",
       "    </tr>\n",
       "    <tr>\n",
       "      <th>1508</th>\n",
       "      <td>Clc1cc2nc(n(c2cc1)C(CC(=O)NCC1CCOCC1)CC)N</td>\n",
       "      <td>3.000000</td>\n",
       "      <td>CCC(CC(=O)NCC1CCOCC1)n1c(N)nc2cc(Cl)ccc21</td>\n",
       "    </tr>\n",
       "    <tr>\n",
       "      <th>1509</th>\n",
       "      <td>Clc1cc2nc(n(c2cc1)C(CC(=O)NCc1ncccc1)CC)N</td>\n",
       "      <td>3.000000</td>\n",
       "      <td>CCC(CC(=O)NCc1ccccn1)n1c(N)nc2cc(Cl)ccc21</td>\n",
       "    </tr>\n",
       "    <tr>\n",
       "      <th>1510</th>\n",
       "      <td>Brc1cc(ccc1)C1CC1C=1N=C(N)N(C)C(=O)C=1</td>\n",
       "      <td>2.953115</td>\n",
       "      <td>Cn1c(N)nc(C2CC2c2cccc(Br)c2)cc1=O</td>\n",
       "    </tr>\n",
       "    <tr>\n",
       "      <th>1511</th>\n",
       "      <td>O=C1N(C)C(=NC(=C1)C1CC1c1cc(ccc1)-c1ccccc1)N</td>\n",
       "      <td>2.733298</td>\n",
       "      <td>Cn1c(N)nc(C2CC2c2cccc(-c3ccccc3)c2)cc1=O</td>\n",
       "    </tr>\n",
       "    <tr>\n",
       "      <th>1512</th>\n",
       "      <td>Clc1cc2nc(n(c2cc1)CCCC(=O)NCC1CC1)N</td>\n",
       "      <td>2.544546</td>\n",
       "      <td>Nc1nc2cc(Cl)ccc2n1CCCC(=O)NCC1CC1</td>\n",
       "    </tr>\n",
       "  </tbody>\n",
       "</table>\n",
       "<p>1513 rows × 3 columns</p>\n",
       "</div>\n",
       "    <div class=\"colab-df-buttons\">\n",
       "\n",
       "  <div class=\"colab-df-container\">\n",
       "    <button class=\"colab-df-convert\" onclick=\"convertToInteractive('df-274d4288-2eca-480b-9efd-9368fbaa1e31')\"\n",
       "            title=\"Convert this dataframe to an interactive table.\"\n",
       "            style=\"display:none;\">\n",
       "\n",
       "  <svg xmlns=\"http://www.w3.org/2000/svg\" height=\"24px\" viewBox=\"0 -960 960 960\">\n",
       "    <path d=\"M120-120v-720h720v720H120Zm60-500h600v-160H180v160Zm220 220h160v-160H400v160Zm0 220h160v-160H400v160ZM180-400h160v-160H180v160Zm440 0h160v-160H620v160ZM180-180h160v-160H180v160Zm440 0h160v-160H620v160Z\"/>\n",
       "  </svg>\n",
       "    </button>\n",
       "\n",
       "  <style>\n",
       "    .colab-df-container {\n",
       "      display:flex;\n",
       "      gap: 12px;\n",
       "    }\n",
       "\n",
       "    .colab-df-convert {\n",
       "      background-color: #E8F0FE;\n",
       "      border: none;\n",
       "      border-radius: 50%;\n",
       "      cursor: pointer;\n",
       "      display: none;\n",
       "      fill: #1967D2;\n",
       "      height: 32px;\n",
       "      padding: 0 0 0 0;\n",
       "      width: 32px;\n",
       "    }\n",
       "\n",
       "    .colab-df-convert:hover {\n",
       "      background-color: #E2EBFA;\n",
       "      box-shadow: 0px 1px 2px rgba(60, 64, 67, 0.3), 0px 1px 3px 1px rgba(60, 64, 67, 0.15);\n",
       "      fill: #174EA6;\n",
       "    }\n",
       "\n",
       "    .colab-df-buttons div {\n",
       "      margin-bottom: 4px;\n",
       "    }\n",
       "\n",
       "    [theme=dark] .colab-df-convert {\n",
       "      background-color: #3B4455;\n",
       "      fill: #D2E3FC;\n",
       "    }\n",
       "\n",
       "    [theme=dark] .colab-df-convert:hover {\n",
       "      background-color: #434B5C;\n",
       "      box-shadow: 0px 1px 3px 1px rgba(0, 0, 0, 0.15);\n",
       "      filter: drop-shadow(0px 1px 2px rgba(0, 0, 0, 0.3));\n",
       "      fill: #FFFFFF;\n",
       "    }\n",
       "  </style>\n",
       "\n",
       "    <script>\n",
       "      const buttonEl =\n",
       "        document.querySelector('#df-274d4288-2eca-480b-9efd-9368fbaa1e31 button.colab-df-convert');\n",
       "      buttonEl.style.display =\n",
       "        google.colab.kernel.accessAllowed ? 'block' : 'none';\n",
       "\n",
       "      async function convertToInteractive(key) {\n",
       "        const element = document.querySelector('#df-274d4288-2eca-480b-9efd-9368fbaa1e31');\n",
       "        const dataTable =\n",
       "          await google.colab.kernel.invokeFunction('convertToInteractive',\n",
       "                                                    [key], {});\n",
       "        if (!dataTable) return;\n",
       "\n",
       "        const docLinkHtml = 'Like what you see? Visit the ' +\n",
       "          '<a target=\"_blank\" href=https://colab.research.google.com/notebooks/data_table.ipynb>data table notebook</a>'\n",
       "          + ' to learn more about interactive tables.';\n",
       "        element.innerHTML = '';\n",
       "        dataTable['output_type'] = 'display_data';\n",
       "        await google.colab.output.renderOutput(dataTable, element);\n",
       "        const docLink = document.createElement('div');\n",
       "        docLink.innerHTML = docLinkHtml;\n",
       "        element.appendChild(docLink);\n",
       "      }\n",
       "    </script>\n",
       "  </div>\n",
       "\n",
       "\n",
       "    <div id=\"df-665dd584-fb27-415a-8252-1357ef7308d4\">\n",
       "      <button class=\"colab-df-quickchart\" onclick=\"quickchart('df-665dd584-fb27-415a-8252-1357ef7308d4')\"\n",
       "                title=\"Suggest charts\"\n",
       "                style=\"display:none;\">\n",
       "\n",
       "<svg xmlns=\"http://www.w3.org/2000/svg\" height=\"24px\"viewBox=\"0 0 24 24\"\n",
       "     width=\"24px\">\n",
       "    <g>\n",
       "        <path d=\"M19 3H5c-1.1 0-2 .9-2 2v14c0 1.1.9 2 2 2h14c1.1 0 2-.9 2-2V5c0-1.1-.9-2-2-2zM9 17H7v-7h2v7zm4 0h-2V7h2v10zm4 0h-2v-4h2v4z\"/>\n",
       "    </g>\n",
       "</svg>\n",
       "      </button>\n",
       "\n",
       "<style>\n",
       "  .colab-df-quickchart {\n",
       "      --bg-color: #E8F0FE;\n",
       "      --fill-color: #1967D2;\n",
       "      --hover-bg-color: #E2EBFA;\n",
       "      --hover-fill-color: #174EA6;\n",
       "      --disabled-fill-color: #AAA;\n",
       "      --disabled-bg-color: #DDD;\n",
       "  }\n",
       "\n",
       "  [theme=dark] .colab-df-quickchart {\n",
       "      --bg-color: #3B4455;\n",
       "      --fill-color: #D2E3FC;\n",
       "      --hover-bg-color: #434B5C;\n",
       "      --hover-fill-color: #FFFFFF;\n",
       "      --disabled-bg-color: #3B4455;\n",
       "      --disabled-fill-color: #666;\n",
       "  }\n",
       "\n",
       "  .colab-df-quickchart {\n",
       "    background-color: var(--bg-color);\n",
       "    border: none;\n",
       "    border-radius: 50%;\n",
       "    cursor: pointer;\n",
       "    display: none;\n",
       "    fill: var(--fill-color);\n",
       "    height: 32px;\n",
       "    padding: 0;\n",
       "    width: 32px;\n",
       "  }\n",
       "\n",
       "  .colab-df-quickchart:hover {\n",
       "    background-color: var(--hover-bg-color);\n",
       "    box-shadow: 0 1px 2px rgba(60, 64, 67, 0.3), 0 1px 3px 1px rgba(60, 64, 67, 0.15);\n",
       "    fill: var(--button-hover-fill-color);\n",
       "  }\n",
       "\n",
       "  .colab-df-quickchart-complete:disabled,\n",
       "  .colab-df-quickchart-complete:disabled:hover {\n",
       "    background-color: var(--disabled-bg-color);\n",
       "    fill: var(--disabled-fill-color);\n",
       "    box-shadow: none;\n",
       "  }\n",
       "\n",
       "  .colab-df-spinner {\n",
       "    border: 2px solid var(--fill-color);\n",
       "    border-color: transparent;\n",
       "    border-bottom-color: var(--fill-color);\n",
       "    animation:\n",
       "      spin 1s steps(1) infinite;\n",
       "  }\n",
       "\n",
       "  @keyframes spin {\n",
       "    0% {\n",
       "      border-color: transparent;\n",
       "      border-bottom-color: var(--fill-color);\n",
       "      border-left-color: var(--fill-color);\n",
       "    }\n",
       "    20% {\n",
       "      border-color: transparent;\n",
       "      border-left-color: var(--fill-color);\n",
       "      border-top-color: var(--fill-color);\n",
       "    }\n",
       "    30% {\n",
       "      border-color: transparent;\n",
       "      border-left-color: var(--fill-color);\n",
       "      border-top-color: var(--fill-color);\n",
       "      border-right-color: var(--fill-color);\n",
       "    }\n",
       "    40% {\n",
       "      border-color: transparent;\n",
       "      border-right-color: var(--fill-color);\n",
       "      border-top-color: var(--fill-color);\n",
       "    }\n",
       "    60% {\n",
       "      border-color: transparent;\n",
       "      border-right-color: var(--fill-color);\n",
       "    }\n",
       "    80% {\n",
       "      border-color: transparent;\n",
       "      border-right-color: var(--fill-color);\n",
       "      border-bottom-color: var(--fill-color);\n",
       "    }\n",
       "    90% {\n",
       "      border-color: transparent;\n",
       "      border-bottom-color: var(--fill-color);\n",
       "    }\n",
       "  }\n",
       "</style>\n",
       "\n",
       "      <script>\n",
       "        async function quickchart(key) {\n",
       "          const quickchartButtonEl =\n",
       "            document.querySelector('#' + key + ' button');\n",
       "          quickchartButtonEl.disabled = true;  // To prevent multiple clicks.\n",
       "          quickchartButtonEl.classList.add('colab-df-spinner');\n",
       "          try {\n",
       "            const charts = await google.colab.kernel.invokeFunction(\n",
       "                'suggestCharts', [key], {});\n",
       "          } catch (error) {\n",
       "            console.error('Error during call to suggestCharts:', error);\n",
       "          }\n",
       "          quickchartButtonEl.classList.remove('colab-df-spinner');\n",
       "          quickchartButtonEl.classList.add('colab-df-quickchart-complete');\n",
       "        }\n",
       "        (() => {\n",
       "          let quickchartButtonEl =\n",
       "            document.querySelector('#df-665dd584-fb27-415a-8252-1357ef7308d4 button');\n",
       "          quickchartButtonEl.style.display =\n",
       "            google.colab.kernel.accessAllowed ? 'block' : 'none';\n",
       "        })();\n",
       "      </script>\n",
       "    </div>\n",
       "\n",
       "  <div id=\"id_bb88d131-ea25-40b5-af34-ee2ebbbf3cd2\">\n",
       "    <style>\n",
       "      .colab-df-generate {\n",
       "        background-color: #E8F0FE;\n",
       "        border: none;\n",
       "        border-radius: 50%;\n",
       "        cursor: pointer;\n",
       "        display: none;\n",
       "        fill: #1967D2;\n",
       "        height: 32px;\n",
       "        padding: 0 0 0 0;\n",
       "        width: 32px;\n",
       "      }\n",
       "\n",
       "      .colab-df-generate:hover {\n",
       "        background-color: #E2EBFA;\n",
       "        box-shadow: 0px 1px 2px rgba(60, 64, 67, 0.3), 0px 1px 3px 1px rgba(60, 64, 67, 0.15);\n",
       "        fill: #174EA6;\n",
       "      }\n",
       "\n",
       "      [theme=dark] .colab-df-generate {\n",
       "        background-color: #3B4455;\n",
       "        fill: #D2E3FC;\n",
       "      }\n",
       "\n",
       "      [theme=dark] .colab-df-generate:hover {\n",
       "        background-color: #434B5C;\n",
       "        box-shadow: 0px 1px 3px 1px rgba(0, 0, 0, 0.15);\n",
       "        filter: drop-shadow(0px 1px 2px rgba(0, 0, 0, 0.3));\n",
       "        fill: #FFFFFF;\n",
       "      }\n",
       "    </style>\n",
       "    <button class=\"colab-df-generate\" onclick=\"generateWithVariable('df_bace')\"\n",
       "            title=\"Generate code using this dataframe.\"\n",
       "            style=\"display:none;\">\n",
       "\n",
       "  <svg xmlns=\"http://www.w3.org/2000/svg\" height=\"24px\"viewBox=\"0 0 24 24\"\n",
       "       width=\"24px\">\n",
       "    <path d=\"M7,19H8.4L18.45,9,17,7.55,7,17.6ZM5,21V16.75L18.45,3.32a2,2,0,0,1,2.83,0l1.4,1.43a1.91,1.91,0,0,1,.58,1.4,1.91,1.91,0,0,1-.58,1.4L9.25,21ZM18.45,9,17,7.55Zm-12,3A5.31,5.31,0,0,0,4.9,8.1,5.31,5.31,0,0,0,1,6.5,5.31,5.31,0,0,0,4.9,4.9,5.31,5.31,0,0,0,6.5,1,5.31,5.31,0,0,0,8.1,4.9,5.31,5.31,0,0,0,12,6.5,5.46,5.46,0,0,0,6.5,12Z\"/>\n",
       "  </svg>\n",
       "    </button>\n",
       "    <script>\n",
       "      (() => {\n",
       "      const buttonEl =\n",
       "        document.querySelector('#id_bb88d131-ea25-40b5-af34-ee2ebbbf3cd2 button.colab-df-generate');\n",
       "      buttonEl.style.display =\n",
       "        google.colab.kernel.accessAllowed ? 'block' : 'none';\n",
       "\n",
       "      buttonEl.onclick = () => {\n",
       "        google.colab.notebook.generateWithVariable('df_bace');\n",
       "      }\n",
       "      })();\n",
       "    </script>\n",
       "  </div>\n",
       "\n",
       "    </div>\n",
       "  </div>\n"
      ],
      "text/plain": [
       "                                                    mol     pIC50  \\\n",
       "0     O1CC[C@@H](NC(=O)[C@@H](Cc2cc3cc(ccc3nc2N)-c2c...  9.154901   \n",
       "1     Fc1cc(cc(F)c1)C[C@H](NC(=O)[C@@H](N1CC[C@](NC(...  8.853872   \n",
       "2     S1(=O)(=O)N(c2cc(cc3c2n(cc3CC)CC1)C(=O)N[C@H](...  8.698970   \n",
       "3     S1(=O)(=O)C[C@@H](Cc2cc(O[C@H](COCC)C(F)(F)F)c...  8.698970   \n",
       "4     S1(=O)(=O)N(c2cc(cc3c2n(cc3CC)CC1)C(=O)N[C@H](...  8.698970   \n",
       "...                                                 ...       ...   \n",
       "1508          Clc1cc2nc(n(c2cc1)C(CC(=O)NCC1CCOCC1)CC)N  3.000000   \n",
       "1509          Clc1cc2nc(n(c2cc1)C(CC(=O)NCc1ncccc1)CC)N  3.000000   \n",
       "1510             Brc1cc(ccc1)C1CC1C=1N=C(N)N(C)C(=O)C=1  2.953115   \n",
       "1511       O=C1N(C)C(=NC(=C1)C1CC1c1cc(ccc1)-c1ccccc1)N  2.733298   \n",
       "1512                Clc1cc2nc(n(c2cc1)CCCC(=O)NCC1CC1)N  2.544546   \n",
       "\n",
       "                                       canonical_smiles  \n",
       "0     Cc1ccccc1-c1ccc2nc(N)c(C[C@@H](C)C(=O)N[C@@H]3...  \n",
       "1     CCCO[C@H]1C[NH2+][C@@H]([C@@H](O)[C@H](Cc2cc(F...  \n",
       "2     CCc1cn2c3c(cc(C(=O)N[C@@H](Cc4ccccc4)[C@H](O)C...  \n",
       "3     CCOC[C@@H](Oc1cc(C[C@@H]2CS(=O)(=O)C[C@H]([NH2...  \n",
       "4     CCc1cn2c3c(cc(C(=O)N[C@@H](Cc4ccccc4)[C@H](O)C...  \n",
       "...                                                 ...  \n",
       "1508          CCC(CC(=O)NCC1CCOCC1)n1c(N)nc2cc(Cl)ccc21  \n",
       "1509          CCC(CC(=O)NCc1ccccn1)n1c(N)nc2cc(Cl)ccc21  \n",
       "1510                  Cn1c(N)nc(C2CC2c2cccc(Br)c2)cc1=O  \n",
       "1511           Cn1c(N)nc(C2CC2c2cccc(-c3ccccc3)c2)cc1=O  \n",
       "1512                  Nc1nc2cc(Cl)ccc2n1CCCC(=O)NCC1CC1  \n",
       "\n",
       "[1513 rows x 3 columns]"
      ]
     },
     "execution_count": 10,
     "metadata": {},
     "output_type": "execute_result"
    }
   ],
   "source": [
    "df_bace"
   ]
  },
  {
   "cell_type": "code",
   "execution_count": 11,
   "metadata": {
    "colab": {
     "base_uri": "https://localhost:8080/",
     "height": 447
    },
    "id": "VpkNDDjskKdk",
    "outputId": "34e4b08d-cf0d-473d-9300-fc4e47d44e8b"
   },
   "outputs": [
    {
     "data": {
      "text/plain": [
       "<Axes: >"
      ]
     },
     "execution_count": 11,
     "metadata": {},
     "output_type": "execute_result"
    },
    {
     "data": {
      "image/png": "[encoded data removed]",
      "text/plain": [
       "<Figure size 640x480 with 1 Axes>"
      ]
     },
     "metadata": {},
     "output_type": "display_data"
    }
   ],
   "source": [
    "df_bace.boxplot(column='pIC50')"
   ]
  },
  {
   "cell_type": "code",
   "execution_count": 12,
   "metadata": {
    "colab": {
     "base_uri": "https://localhost:8080/"
    },
    "id": "BkaoEB6PyIvC",
    "outputId": "eda4b474-3189-4f4e-ecc8-d3c0e3f6d8b9"
   },
   "outputs": [
    {
     "name": "stdout",
     "output_type": "stream",
     "text": [
      "\n",
      "Total number of rows in the DataFrame: 1513\n",
      "\n",
      "Number of unique canonical SMILES: 1513\n",
      "\n",
      "\n",
      "--- BACE Preprocessing Report ---\n",
      "\n",
      "Final dataset size: (1513, 2)\n",
      "\n"
     ]
    }
   ],
   "source": [
    "num_rows = len(df_bace)\n",
    "num_unique_smiles = df_bace['canonical_smiles'].nunique()\n",
    "\n",
    "print(f\"\\nTotal number of rows in the DataFrame: {num_rows}\")\n",
    "print(f\"\\nNumber of unique canonical SMILES: {num_unique_smiles}\\n\")\n",
    "\n",
    "# drop old 'smiles' column\n",
    "df_bace = df_bace.drop(columns='mol')\n",
    "\n",
    "\n",
    "print(f\"\\n--- BACE Preprocessing Report ---\\n\")\n",
    "print(f\"Final dataset size: {df_bace.shape}\\n\")\n"
   ]
  },
  {
   "cell_type": "code",
   "execution_count": null,
   "metadata": {
    "id": "iCPLt06Vhqma"
   },
   "outputs": [],
   "source": [
    "\n",
    "# Visualize some of the molecules of this dataset\n",
    "n=6\n",
    "df_sample=df_bace.sample(n)\n",
    "\n",
    "smiles = df_sample['canonical_smiles'].values\n",
    "legend = df_sample['pIC50'].values\n",
    "molecs = [Chem.MolFromSmiles(s) for s in smiles]\n",
    "\n",
    "Draw.MolsToGridImage(\n",
    "    molecs,\n",
    "    subImgSize=(600,300),\n",
    ")"
   ]
  },
  {
   "cell_type": "code",
   "execution_count": null,
   "metadata": {
    "id": "5W-v1wwSD05X"
   },
   "outputs": [],
   "source": [
    "total_na_values = df_bace.isna().sum().sum()\n",
    "print(f\"\\nTOTAL number of Na in the DataFrame: {total_na_values}\")\n",
    "non_numeric_df = df_bace.select_dtypes(exclude=np.number)\n",
    "print(\"\\nNon-Numeric Columns (Categorical/Objects):\")\n",
    "print(non_numeric_df.columns.tolist())"
   ]
  },
  {
   "cell_type": "code",
   "execution_count": null,
   "metadata": {
    "id": "HDgJjIBt35Bl"
   },
   "outputs": [],
   "source": [
    "df_bace"
   ]
  },
  {
   "cell_type": "markdown",
   "metadata": {
    "id": "ibRvH8lwrr4l"
   },
   "source": [
    "## Featurization"
   ]
  },
  {
   "cell_type": "code",
   "execution_count": null,
   "metadata": {
    "collapsed": true,
    "id": "xiFyL9EE35Bn",
    "jupyter": {
     "outputs_hidden": true
    }
   },
   "outputs": [],
   "source": [
    "from Regression.src.featurizers import featurize_molecules\n",
    "features = featurize_molecules(df=df_bace,\n",
    "    methods=[\"rdkit\", \"ecfp\",\"maccs\"],smiles_col=\"canonical_smiles\",\n",
    "    target_col=\"pIC50\",concatenate=False)"
   ]
  },
  {
   "cell_type": "code",
   "execution_count": null,
   "metadata": {
    "id": "Lc7NvbJT35Bn"
   },
   "outputs": [],
   "source": [
    "features['rdkit'].columns"
   ]
  },
  {
   "cell_type": "code",
   "execution_count": null,
   "metadata": {
    "collapsed": true,
    "id": "Pwd6ELFV35Bo",
    "jupyter": {
     "outputs_hidden": true
    }
   },
   "outputs": [],
   "source": [
    "concatenated_features= featurize_molecules(df=df_bace,\n",
    "    methods=[\"rdkit\", \"ecfp\",\"maccs\"],concatenate=True)"
   ]
  },
  {
   "cell_type": "code",
   "execution_count": null,
   "metadata": {
    "id": "tpuA4YK135Bo"
   },
   "outputs": [],
   "source": [
    "features['rdkit'].columns"
   ]
  },
  {
   "cell_type": "markdown",
   "metadata": {
    "id": "bifCaOI-0cbg"
   },
   "source": [
    "## Baseline ML Models"
   ]
  },
  {
   "cell_type": "code",
   "execution_count": null,
   "metadata": {
    "id": "xp4H_4wi35Bo"
   },
   "outputs": [],
   "source": [
    "from Regression.src import baseline_regression_models\n",
    "results_base_models, trained_base_models=baseline_regression_models.run_base_regressors(features)"
   ]
  },
  {
   "cell_type": "code",
   "execution_count": null,
   "metadata": {
    "id": "r52C4QB_g593"
   },
   "outputs": [],
   "source": [
    "from Regression.src.baseline_regression_models import run_base_regressors, run_base_regressors_kv, run_gridsearch\n",
    "from sklearn.model_selection import train_test_split\n",
    "import pandas as pd\n",
    "\n",
    "features_dict = features\n",
    "\n",
    "for feat_name, df_feat in features_dict.items():\n",
    "\n",
    "    X = df_feat.drop(columns=[\"canonical_smiles\", \"pIC50\"], axis=1).values\n",
    "    y = df_feat[\"pIC50\"].values\n",
    "\n",
    "    X_train, X_test, y_train, y_test = train_test_split(X, y, test_size=0.2, random_state=42)\n",
    "\n",
    "    results_df, trained_models = run_base_regressors(X_train, X_test, y_train, y_test, feat_name)"
   ]
  },
  {
   "cell_type": "code",
   "execution_count": null,
   "metadata": {
    "id": "zL3zpl6c35Bp"
   },
   "outputs": [],
   "source": [
    "from Regression.src.baseline_regression_models import run_base_regressors_kv\n",
    "\n",
    "cv_results, best_models = run_base_regressors_kv(features_dict)"
   ]
  },
  {
   "cell_type": "code",
   "execution_count": null,
   "metadata": {
    "id": "23wMfJ0mqRXT"
   },
   "outputs": [],
   "source": [
    "from Regression.src.baseline_regression_models import run_gridsearch\n",
    "grid_search_input_dict = {feat_name: df_feat}\n",
    "\n",
    "grid_search_results, grid_models= run_gridsearch(\n",
    "    grid_search_input_dict,\n",
    "    X_train, X_test, y_train, y_test,\n",
    "    verbose=True\n",
    ")"
   ]
  },
  {
   "cell_type": "markdown",
   "metadata": {
    "id": "lbHiVlRm-neV"
   },
   "source": [
    "## MLP on each featurization vs MLP with the 3 featurizations"
   ]
  },
  {
   "cell_type": "code",
   "execution_count": null,
   "metadata": {
    "id": "J_fftqoI-qV6"
   },
   "outputs": [],
   "source": [
    "from sklearn.model_selection import train_test_split\n",
    "import pandas as pd\n",
    "import torch\n",
    "import pytorch_lightning as pl\n",
    "from torch.utils.data import DataLoader, random_split, TensorDataset\n",
    "from pytorch_lightning.callbacks import ModelCheckpoint, EarlyStopping\n",
    "from Regression.src.MLP import MLP_BACE\n",
    "from pytorch_lightning.loggers import CSVLogger\n",
    "import matplotlib.pyplot as plt\n",
    "import os\n",
    "\n",
    "features_dict = features\n",
    "mlp_results_rmse = {}\n",
    "\n",
    "target_and_smiles = features_dict[list(features_dict.keys())[0]][[\"canonical_smiles\", \"pIC50\"]].reset_index(drop=True)\n",
    "\n",
    "feature_dfs = [df.drop(columns=[\"canonical_smiles\", \"pIC50\"], errors='ignore').reset_index(drop=True)\n",
    "               for df in features_dict.values()]\n",
    "\n",
    "combined_features_only = pd.concat(feature_dfs, axis=1)\n",
    "\n",
    "df_feat_combined = pd.concat([target_and_smiles, combined_features_only], axis=1)\n",
    "\n",
    "all_features_to_run = features_dict.copy()\n",
    "all_features_to_run['combined'] = df_feat_combined\n",
    "\n",
    "for feat_name, df_feat in all_features_to_run.items():\n",
    "\n",
    "    X = df_feat.drop(columns=[\"canonical_smiles\", \"pIC50\"], axis=1).values\n",
    "    y = df_feat[\"pIC50\"].values\n",
    "\n",
    "    X_train, X_test, y_train, y_test = train_test_split(X, y, test_size=0.2, random_state=42)\n",
    "\n",
    "    X_train_tensor = torch.FloatTensor(X_train)\n",
    "    y_train_tensor = torch.FloatTensor(y_train).unsqueeze(1)\n",
    "    X_test_tensor = torch.FloatTensor(X_test)\n",
    "    y_test_tensor = torch.FloatTensor(y_test).unsqueeze(1)\n",
    "\n",
    "    train_dataset_full = TensorDataset(X_train_tensor, y_train_tensor)\n",
    "    test_dataset = TensorDataset(X_test_tensor, y_test_tensor)\n",
    "\n",
    "    train_size = int(0.875 * len(train_dataset_full))\n",
    "    val_size = len(train_dataset_full) - train_size\n",
    "\n",
    "    train_subset, val_subset = random_split(\n",
    "        train_dataset_full, [train_size, val_size],\n",
    "        generator=torch.Generator().manual_seed(42)\n",
    "    )\n",
    "\n",
    "    batch_size = 32\n",
    "    train_loader = DataLoader(train_subset, batch_size=batch_size, shuffle=True)\n",
    "    val_loader = DataLoader(val_subset, batch_size=batch_size, shuffle=False)\n",
    "    test_loader = DataLoader(test_dataset, batch_size=batch_size, shuffle=False)\n",
    "\n",
    "    input_dim = X_train.shape[1]\n",
    "    mlp_model = MLP_BACE(\n",
    "        input_dim=input_dim,\n",
    "        out_dim=1)\n",
    "\n",
    "    logger = CSVLogger('lightning_logs', name=f'mlp_run_{feat_name}')\n",
    "\n",
    "    checkpoint_callback = ModelCheckpoint(\n",
    "        monitor='val_loss',\n",
    "        dirpath='mlp_checkpoints/',\n",
    "        filename=f'best-mlp-{feat_name}-model',\n",
    "        save_top_k=1,\n",
    "        mode='min'\n",
    "    )\n",
    "    early_stop_callback = EarlyStopping(\n",
    "        monitor='val_loss',\n",
    "        patience=15,\n",
    "        mode='min',\n",
    "        verbose=False\n",
    "    )\n",
    "\n",
    "    trainer = pl.Trainer(\n",
    "        max_epochs=100,\n",
    "        callbacks=[checkpoint_callback, early_stop_callback],\n",
    "        logger=logger,\n",
    "        accelerator='auto',\n",
    "        log_every_n_steps=10,\n",
    "        enable_progress_bar=True\n",
    "    )\n",
    "    print(f\"Training MLP model on {feat_name}...\")\n",
    "    trainer.fit(mlp_model, train_loader, val_loader)\n",
    "\n",
    "    test_results = trainer.test(mlp_model, dataloaders=test_loader)\n",
    "\n",
    "    current_rmse = test_results[0].get('test_rmse')\n",
    "    mlp_results_rmse[feat_name] = current_rmse\n",
    "\n",
    "    print(f\"MLP Test RMSE for {feat_name}: {current_rmse:.4f}\")\n",
    "\n",
    "print(\"\\n--- Summary of all MLP RMSE results ---\")\n",
    "print(mlp_results_rmse)\n",
    "\n",
    "plot_results = {}\n",
    "for feat_name in all_features_to_run.keys():\n",
    "    log_dir = os.path.join('lightning_logs', f'mlp_run_{feat_name}')\n",
    "    metrics_path_v0 = os.path.join(log_dir, 'version_0', 'metrics.csv')\n",
    "    metrics_path_v1 = os.path.join(log_dir, 'version_1', 'metrics.csv')\n",
    "\n",
    "    if os.path.exists(metrics_path_v0):\n",
    "        metrics_df = pd.read_csv(metrics_path_v0)\n",
    "    elif os.path.exists(metrics_path_v1):\n",
    "        metrics_df = pd.read_csv(metrics_path_v1)\n",
    "    else:\n",
    "        continue\n",
    "\n",
    "    val_loss = metrics_df['val_loss'].dropna().reset_index(drop=True)\n",
    "    if not val_loss.empty:\n",
    "        plot_results[feat_name] = val_loss\n",
    "\n",
    "plt.figure(figsize=(10, 6))\n",
    "for name, loss_values in plot_results.items():\n",
    "    plt.plot(loss_values.index, loss_values.values, label=name.capitalize())\n",
    "\n",
    "plt.title(\"Validation Loss Comparison (Separate vs. Combined Features)\")\n",
    "plt.xlabel(\"Epochs\")\n",
    "plt.ylabel(\"Validation Loss (MSE)\")\n",
    "plt.legend()\n",
    "plt.grid(True, linestyle='--', alpha=0.6)\n",
    "plt.show()"
   ]
  },
  {
   "cell_type": "code",
   "execution_count": null,
   "metadata": {
    "id": "xkI_05AGAL_Z"
   },
   "outputs": [],
   "source": [
    "plt.figure(figsize=(12, 7))\n",
    "markers = ['o', 's', '^', 'D']\n",
    "line_styles = ['-', '--', ':', '-.']\n",
    "color_map = {'rdkit': 'red', 'ecfp': 'green', 'maccs': 'blue', 'combined': 'black'}\n",
    "\n",
    "# Filter RDKit out\n",
    "filtered_plot_results = {k: v for k, v in plot_results.items() if k != 'rdkit'}\n",
    "\n",
    "# Define smoothing window\n",
    "SMOOTHING_WINDOW = 5\n",
    "\n",
    "for i, (name, loss_values) in enumerate(filtered_plot_results.items()):\n",
    "\n",
    "    # Apply rolling average for smoothing\n",
    "    smoothed_loss = loss_values.rolling(window=SMOOTHING_WINDOW, min_periods=1).mean()\n",
    "\n",
    "    plt.plot(\n",
    "        smoothed_loss.index,\n",
    "        smoothed_loss.values,\n",
    "        label=name.capitalize(),\n",
    "        color=color_map.get(name, 'gray'),\n",
    "        linestyle=line_styles[i % 4],\n",
    "        linewidth=2\n",
    "    )\n",
    "\n",
    "plt.title(\"Evolution of the test loss between the three MLP\", fontsize=16)\n",
    "plt.xlabel(\"Epochs\", fontsize=14)\n",
    "plt.ylabel(f\"Test Loss\", fontsize=14)\n",
    "\n",
    "plt.ylim(0.4, 0.75)\n",
    "\n",
    "plt.legend(title=\"Featurisation\", fontsize=12)\n",
    "plt.grid(True, linestyle='--', alpha=0.6)\n",
    "plt.show()"
   ]
  },
  {
   "cell_type": "markdown",
   "metadata": {
    "id": "XXwtqqUQ3hvM"
   },
   "source": [
    "## GNN"
   ]
  },
  {
   "cell_type": "code",
   "execution_count": 13,
   "metadata": {
    "colab": {
     "base_uri": "https://localhost:8080/"
    },
    "id": "_zn9F4pQ31wt",
    "outputId": "cb08a9a4-eab9-4fef-c5e0-d3847a1196b4"
   },
   "outputs": [
    {
     "name": "stdout",
     "output_type": "stream",
     "text": [
      "Collecting torch-geometric\n",
      "  Downloading torch_geometric-2.7.0-py3-none-any.whl.metadata (63 kB)\n",
      "\u001b[?25l     \u001b[90m━━━━━━━━━━━━━━━━━━━━━━━━━━━━━━━━━━━━━━━━\u001b[0m \u001b[32m0.0/63.7 kB\u001b[0m \u001b[31m?\u001b[0m eta \u001b[36m-:--:--\u001b[0m\r",
      "\u001b[2K     \u001b[90m━━━━━━━━━━━━━━━━━━━━━━━━━━━━━━━━━━━━━━━━\u001b[0m \u001b[32m63.7/63.7 kB\u001b[0m \u001b[31m2.3 MB/s\u001b[0m eta \u001b[36m0:00:00\u001b[0m\n",
      "\u001b[?25hCollecting ogb\n",
      "  Downloading ogb-1.3.6-py3-none-any.whl.metadata (6.2 kB)\n",
      "Requirement already satisfied: pytorch-lightning in /usr/local/lib/python3.12/dist-packages (2.5.5)\n",
      "Requirement already satisfied: aiohttp in /usr/local/lib/python3.12/dist-packages (from torch-geometric) (3.13.1)\n",
      "Requirement already satisfied: fsspec in /usr/local/lib/python3.12/dist-packages (from torch-geometric) (2025.3.0)\n",
      "Requirement already satisfied: jinja2 in /usr/local/lib/python3.12/dist-packages (from torch-geometric) (3.1.6)\n",
      "Requirement already satisfied: numpy in /usr/local/lib/python3.12/dist-packages (from torch-geometric) (2.0.2)\n",
      "Requirement already satisfied: psutil>=5.8.0 in /usr/local/lib/python3.12/dist-packages (from torch-geometric) (5.9.5)\n",
      "Requirement already satisfied: pyparsing in /usr/local/lib/python3.12/dist-packages (from torch-geometric) (3.2.5)\n",
      "Requirement already satisfied: requests in /usr/local/lib/python3.12/dist-packages (from torch-geometric) (2.32.4)\n",
      "Requirement already satisfied: tqdm in /usr/local/lib/python3.12/dist-packages (from torch-geometric) (4.67.1)\n",
      "Requirement already satisfied: xxhash in /usr/local/lib/python3.12/dist-packages (from torch-geometric) (3.6.0)\n",
      "Requirement already satisfied: torch>=1.6.0 in /usr/local/lib/python3.12/dist-packages (from ogb) (2.8.0+cu126)\n",
      "Requirement already satisfied: scikit-learn>=0.20.0 in /usr/local/lib/python3.12/dist-packages (from ogb) (1.6.1)\n",
      "Requirement already satisfied: pandas>=0.24.0 in /usr/local/lib/python3.12/dist-packages (from ogb) (2.2.2)\n",
      "Requirement already satisfied: six>=1.12.0 in /usr/local/lib/python3.12/dist-packages (from ogb) (1.17.0)\n",
      "Requirement already satisfied: urllib3>=1.24.0 in /usr/local/lib/python3.12/dist-packages (from ogb) (2.5.0)\n",
      "Collecting outdated>=0.2.0 (from ogb)\n",
      "  Downloading outdated-0.2.2-py2.py3-none-any.whl.metadata (4.7 kB)\n",
      "Requirement already satisfied: PyYAML>5.4 in /usr/local/lib/python3.12/dist-packages (from pytorch-lightning) (6.0.3)\n",
      "Requirement already satisfied: torchmetrics>0.7.0 in /usr/local/lib/python3.12/dist-packages (from pytorch-lightning) (1.8.2)\n",
      "Requirement already satisfied: packaging>=20.0 in /usr/local/lib/python3.12/dist-packages (from pytorch-lightning) (25.0)\n",
      "Requirement already satisfied: typing-extensions>4.5.0 in /usr/local/lib/python3.12/dist-packages (from pytorch-lightning) (4.15.0)\n",
      "Requirement already satisfied: lightning-utilities>=0.10.0 in /usr/local/lib/python3.12/dist-packages (from pytorch-lightning) (0.15.2)\n",
      "Requirement already satisfied: aiohappyeyeballs>=2.5.0 in /usr/local/lib/python3.12/dist-packages (from aiohttp->torch-geometric) (2.6.1)\n",
      "Requirement already satisfied: aiosignal>=1.4.0 in /usr/local/lib/python3.12/dist-packages (from aiohttp->torch-geometric) (1.4.0)\n",
      "Requirement already satisfied: attrs>=17.3.0 in /usr/local/lib/python3.12/dist-packages (from aiohttp->torch-geometric) (25.4.0)\n",
      "Requirement already satisfied: frozenlist>=1.1.1 in /usr/local/lib/python3.12/dist-packages (from aiohttp->torch-geometric) (1.8.0)\n",
      "Requirement already satisfied: multidict<7.0,>=4.5 in /usr/local/lib/python3.12/dist-packages (from aiohttp->torch-geometric) (6.7.0)\n",
      "Requirement already satisfied: propcache>=0.2.0 in /usr/local/lib/python3.12/dist-packages (from aiohttp->torch-geometric) (0.4.1)\n",
      "Requirement already satisfied: yarl<2.0,>=1.17.0 in /usr/local/lib/python3.12/dist-packages (from aiohttp->torch-geometric) (1.22.0)\n",
      "Requirement already satisfied: setuptools in /usr/local/lib/python3.12/dist-packages (from lightning-utilities>=0.10.0->pytorch-lightning) (75.2.0)\n",
      "Collecting littleutils (from outdated>=0.2.0->ogb)\n",
      "  Downloading littleutils-0.2.4-py3-none-any.whl.metadata (679 bytes)\n",
      "Requirement already satisfied: python-dateutil>=2.8.2 in /usr/local/lib/python3.12/dist-packages (from pandas>=0.24.0->ogb) (2.9.0.post0)\n",
      "Requirement already satisfied: pytz>=2020.1 in /usr/local/lib/python3.12/dist-packages (from pandas>=0.24.0->ogb) (2025.2)\n",
      "Requirement already satisfied: tzdata>=2022.7 in /usr/local/lib/python3.12/dist-packages (from pandas>=0.24.0->ogb) (2025.2)\n",
      "Requirement already satisfied: scipy>=1.6.0 in /usr/local/lib/python3.12/dist-packages (from scikit-learn>=0.20.0->ogb) (1.16.2)\n",
      "Requirement already satisfied: joblib>=1.2.0 in /usr/local/lib/python3.12/dist-packages (from scikit-learn>=0.20.0->ogb) (1.5.2)\n",
      "Requirement already satisfied: threadpoolctl>=3.1.0 in /usr/local/lib/python3.12/dist-packages (from scikit-learn>=0.20.0->ogb) (3.6.0)\n",
      "Requirement already satisfied: filelock in /usr/local/lib/python3.12/dist-packages (from torch>=1.6.0->ogb) (3.20.0)\n",
      "Requirement already satisfied: sympy>=1.13.3 in /usr/local/lib/python3.12/dist-packages (from torch>=1.6.0->ogb) (1.13.3)\n",
      "Requirement already satisfied: networkx in /usr/local/lib/python3.12/dist-packages (from torch>=1.6.0->ogb) (3.5)\n",
      "Requirement already satisfied: nvidia-cuda-nvrtc-cu12==12.6.77 in /usr/local/lib/python3.12/dist-packages (from torch>=1.6.0->ogb) (12.6.77)\n",
      "Requirement already satisfied: nvidia-cuda-runtime-cu12==12.6.77 in /usr/local/lib/python3.12/dist-packages (from torch>=1.6.0->ogb) (12.6.77)\n",
      "Requirement already satisfied: nvidia-cuda-cupti-cu12==12.6.80 in /usr/local/lib/python3.12/dist-packages (from torch>=1.6.0->ogb) (12.6.80)\n",
      "Requirement already satisfied: nvidia-cudnn-cu12==9.10.2.21 in /usr/local/lib/python3.12/dist-packages (from torch>=1.6.0->ogb) (9.10.2.21)\n",
      "Requirement already satisfied: nvidia-cublas-cu12==12.6.4.1 in /usr/local/lib/python3.12/dist-packages (from torch>=1.6.0->ogb) (12.6.4.1)\n",
      "Requirement already satisfied: nvidia-cufft-cu12==11.3.0.4 in /usr/local/lib/python3.12/dist-packages (from torch>=1.6.0->ogb) (11.3.0.4)\n",
      "Requirement already satisfied: nvidia-curand-cu12==10.3.7.77 in /usr/local/lib/python3.12/dist-packages (from torch>=1.6.0->ogb) (10.3.7.77)\n",
      "Requirement already satisfied: nvidia-cusolver-cu12==11.7.1.2 in /usr/local/lib/python3.12/dist-packages (from torch>=1.6.0->ogb) (11.7.1.2)\n",
      "Requirement already satisfied: nvidia-cusparse-cu12==12.5.4.2 in /usr/local/lib/python3.12/dist-packages (from torch>=1.6.0->ogb) (12.5.4.2)\n",
      "Requirement already satisfied: nvidia-cusparselt-cu12==0.7.1 in /usr/local/lib/python3.12/dist-packages (from torch>=1.6.0->ogb) (0.7.1)\n",
      "Requirement already satisfied: nvidia-nccl-cu12==2.27.3 in /usr/local/lib/python3.12/dist-packages (from torch>=1.6.0->ogb) (2.27.3)\n",
      "Requirement already satisfied: nvidia-nvtx-cu12==12.6.77 in /usr/local/lib/python3.12/dist-packages (from torch>=1.6.0->ogb) (12.6.77)\n",
      "Requirement already satisfied: nvidia-nvjitlink-cu12==12.6.85 in /usr/local/lib/python3.12/dist-packages (from torch>=1.6.0->ogb) (12.6.85)\n",
      "Requirement already satisfied: nvidia-cufile-cu12==1.11.1.6 in /usr/local/lib/python3.12/dist-packages (from torch>=1.6.0->ogb) (1.11.1.6)\n",
      "Requirement already satisfied: triton==3.4.0 in /usr/local/lib/python3.12/dist-packages (from torch>=1.6.0->ogb) (3.4.0)\n",
      "Requirement already satisfied: MarkupSafe>=2.0 in /usr/local/lib/python3.12/dist-packages (from jinja2->torch-geometric) (3.0.3)\n",
      "Requirement already satisfied: charset_normalizer<4,>=2 in /usr/local/lib/python3.12/dist-packages (from requests->torch-geometric) (3.4.4)\n",
      "Requirement already satisfied: idna<4,>=2.5 in /usr/local/lib/python3.12/dist-packages (from requests->torch-geometric) (3.11)\n",
      "Requirement already satisfied: certifi>=2017.4.17 in /usr/local/lib/python3.12/dist-packages (from requests->torch-geometric) (2025.10.5)\n",
      "Requirement already satisfied: mpmath<1.4,>=1.1.0 in /usr/local/lib/python3.12/dist-packages (from sympy>=1.13.3->torch>=1.6.0->ogb) (1.3.0)\n",
      "Downloading torch_geometric-2.7.0-py3-none-any.whl (1.3 MB)\n",
      "\u001b[2K   \u001b[90m━━━━━━━━━━━━━━━━━━━━━━━━━━━━━━━━━━━━━━━━\u001b[0m \u001b[32m1.3/1.3 MB\u001b[0m \u001b[31m24.5 MB/s\u001b[0m eta \u001b[36m0:00:00\u001b[0m\n",
      "\u001b[?25hDownloading ogb-1.3.6-py3-none-any.whl (78 kB)\n",
      "\u001b[2K   \u001b[90m━━━━━━━━━━━━━━━━━━━━━━━━━━━━━━━━━━━━━━━━\u001b[0m \u001b[32m78.8/78.8 kB\u001b[0m \u001b[31m5.8 MB/s\u001b[0m eta \u001b[36m0:00:00\u001b[0m\n",
      "\u001b[?25hDownloading outdated-0.2.2-py2.py3-none-any.whl (7.5 kB)\n",
      "Downloading littleutils-0.2.4-py3-none-any.whl (8.1 kB)\n",
      "Installing collected packages: littleutils, outdated, torch-geometric, ogb\n",
      "Successfully installed littleutils-0.2.4 ogb-1.3.6 outdated-0.2.2 torch-geometric-2.7.0\n"
     ]
    }
   ],
   "source": [
    "!pip install torch-geometric ogb pytorch-lightning\n"
   ]
  },
  {
   "cell_type": "code",
   "execution_count": 14,
   "metadata": {
    "id": "Qk3jLMaR4g9g"
   },
   "outputs": [],
   "source": [
    "from sklearn.model_selection import train_test_split\n",
    "from torch_geometric.loader import DataLoader\n",
    "import pytorch_lightning as pl\n",
    "from Regression.src.bace_gnn import BACEGraphDataset, MPNN_BACE\n",
    "import torch"
   ]
  },
  {
   "cell_type": "code",
   "execution_count": 15,
   "metadata": {
    "colab": {
     "base_uri": "https://localhost:8080/",
     "height": 1000,
     "referenced_widgets": [
      "44aebc31e7d04eac85f12de576c841e6",
      "7b7c9e984bb04d7d8198438874d9f44f",
      "5d78bc6b325540ffb7eb4e02d9bebe55",
      "27024d3346904444a370db02634a41cf",
      "c82d884efcdf4bc49c5273575cf5d9c9",
      "100100b913cf4d15bfb4ce4bdfe1a94d",
      "7ed6c68bd08a473faaa3482580e794df",
      "1a702ac5323d4a8eba3687e4943add28",
      "0b4123207c7a47c5a1f0c4efd8a5c28b",
      "3c38f5fd73a84bf99cef41304d6783a9",
      "f811a2d460a94066ac068aa96a036332",
      "82db7fcdcd6c4220a72c0a3a5a2738be",
      "e6438240b98140219738ef639ffa60ae",
      "e0d9e2b90f0649eabbc8b9297588e6d1",
      "57b15cb6efec4d44a644be0cc5cadab6",
      "ad34954b3b824996b19ab30d01b7049d",
      "c8f132c5df354cd0ac0531b596815179",
      "3da27098df954ede817cb6b49120a241",
      "0887d542571a4f25b633c3c67e53cc61",
      "e7a2c2ea9ddf42e893e8ade7cc2fd884",
      "fcd6506acef54fecb0a247c586560fd8",
      "efb4943819ed40ed9dbc70da641bf07b",
      "e257cd1442ff4863a960688eab522e4c",
      "1d42b3e2d147418bb1eb44d0644fb81f",
      "03eca472c05a472fbd56ed8976322c6b",
      "4fed817b8c934f52b89dd2dcdfdb99ca",
      "810c00031cb640f6bce4b968a2228129",
      "d97b1ed7041b4cb9b83ad2c4f338678a",
      "332d6092a6d44ab488d9eb58e3df4130",
      "71d86fc0ed494e1fafc929755dd3e89d",
      "cbbc4e6119aa40f29ef5912239a53dc9",
      "fc0af2721ebc4607a9d91c785cc29e18",
      "f7dce252634444c9b20210b54f7d3f71",
      "5a281cb756ac4102a32145f74952223c",
      "452e731d54214ab38c57123448b8e11f",
      "a6fee1ebdaab46619b65d9074124d2ac",
      "a0d136f5a87a4a4989685ebcbf3f75fa",
      "3b9f697a877c4d3a9a21ad3411cfc138",
      "bf36e5f6116844c3a6cd8ba7a167b2c4",
      "c1e009e1b9124026afe2d8df922e6f03",
      "fa7061f6d98f4411b0d79fb56d2417bb",
      "6b29e74fba1e4286b58cc89bc0bb16ce",
      "9053cf3ac8534ebf950d4c34a0af0bc7",
      "33943f5f0e664f6b99e2e72a9ae475ea",
      "eec47d3dd7834f249c871c9042b5dda9",
      "23cb71ba71fe449a956f7d93f29d63de",
      "463b25e4865b4bfb8a21ea9715ce4c30",
      "8dc11f43269949189a0bdc37084530f8",
      "3171dcac152d4283941e027acfcf0e87",
      "d9473be77b4945d08acef84c78730e6e",
      "cbce866aa4f74e4ba25e616d377c19c2",
      "7ff78f05bb33436c9571905579a27306",
      "83f0be03768e486fa81d8ee6d02467ad",
      "ab3ad85bef0346cdae467a867521916d",
      "d0e0ef88b8444ae1b7ab6aa516794d51",
      "1d7103b09ad6495bb25f8c3100539c48",
      "35ee4529528540b382eb6c8955c545c3",
      "3f7bad5aada4488db031ed332299707d",
      "1879917c117743cdb8e42bad2a052e9d",
      "8e7cead8e95c4487a1fb166c9f5df5d6",
      "2bc9fb3fd6db4ce6aea5d8d2a1221760",
      "4db7689cae704abd85e0b91b8921a041",
      "fd7eb1720929472ea2bbee4c3144a53b",
      "f6d5e312f7464e6daba3f388149f67da",
      "7e7e0ea59c1b4761a2e78bc477d58342",
      "4af15b46ea3746e78bfbaf0ef982c315",
      "a2f66ab793984a17a0b1a2eda19fbca9",
      "dd306f1654d8467ea31258af26cff2b8",
      "88bc6542c8d14970abf71e2b203df187",
      "9ec9b38f65594fffa909bfab2007a37c",
      "bc2ac7a52b2a4a74bf76145c42c5ff6f",
      "174ed802a1884dc9b216700b310f3b21",
      "f404df96eef34605aad9f683b09dde41",
      "b56f01d1f7bc4be4a8116455208dd859",
      "ca44c5bb50344a05abe5248bd3ccb40f",
      "e81e89b7701344e8ae2f9fad4758138e",
      "c0ca6d9669d74f89b5dfef79b12a2a29",
      "94747145848040a5b70861275b5b5291",
      "c7aed3e0592941e8baed7f62fa9d535f",
      "8ce65f28eaf84bebb37f4113919d9ee3",
      "2478687cb880474395d23d851819c902",
      "9428e45efe9c4c6ea6ab891fb10b11fa",
      "72482ed0c89b42c6bb0b44bda35e314a",
      "9226cc3618e24a15aafd7ffb4b587755",
      "c4f6385d76d54a56ae36cec604540d1a",
      "f0a3f4342dc0492d92333b03ff661011",
      "8f403ffd7fa44ba48a7bd5274c23176a",
      "466e9d83b481429c92eda25994f1de0c",
      "cb1f45243e4d4e4bafaa9a4541a36906",
      "08fb8445d16c402390d5a8b5004caf03",
      "ef83f66db96e4651becfa6022fd7ad69",
      "a93ff95549944f3bbc4a8e6a2a881c31",
      "1362a264e1d14f479c45123e265d81f4",
      "1579b1cb87f44705bcd30ec53318f41e",
      "c498735a1f294cd0a16d058ef8091dcd",
      "5a04052476714a70baafc6f7a3be0b5e",
      "a0103fc63b394ba99332e6b075092138",
      "3ffc27c122cc4c778173976db5b7f258",
      "110cd4b7fcd94f908f90fdb84b14ecc8",
      "760bd631a6e743228886c3ad717cb414",
      "5f3e94dab9274cd0827b31ff248f2cbb",
      "1f3b425bd66a48f5bd7ee521a91599ab",
      "e67f4dc042734f4794298afdd1a2bea5",
      "5676d3af933a48bb84ad611d6c424eb1",
      "36de583196e84100a1c0b56a286d2dc8",
      "b482e97de8a14c4ba071e878fb83c794",
      "bad0d304e0e44042a45d53bee1964520",
      "42dd47e168184a1ca6697018186cf5cc",
      "a8527777557348f29b0b8bdee22b0365",
      "84d65bf01f0a4a628b28cfcbaba91554",
      "262297b83c55469081125feb5b3a1b57",
      "bd33b21517f348d795c2d08efb2d8c73",
      "853a35f511f24804bf8749a9b7c31ba8",
      "5c1df81b1c544693be7416436c352ed1",
      "0cded81212214bd1b30fa7108b2700f0",
      "eb1c1b012f034ddeaa9f6d88c7349039",
      "93cb2ea2a51e4f4ca6774bddae9de9a3",
      "2d029a34544d4825a2d3767f9f6b7e79",
      "5c77edf2f7484d1397b6a2d355616bb7",
      "6291fafc7e0e417cacc6070a73e2819e",
      "c8ca50584c5943afa1459c30c4081d88",
      "71e9062a84e54a5b83015c842e54ebd6",
      "bb5d25c3b36b49d7a5647918b0dc66f4",
      "fcd252460e4d4883b98d7da8caad1c30",
      "0bef8b34e09c431da69ac761c39bc910",
      "55ff005483c14890a8ce8ef6f95b52dc",
      "f6a5f506f7d3420ba3b0a954c0e50b83",
      "b362a196f2954392b5c5b046d1f17158",
      "f14a157e82ee43fbabbe3ed313fbc769",
      "fafa330eb5764bcdb51b197c016eecf6",
      "0b63d232a7a54907bd5c2c79c1b71220",
      "fb5289f3081043818e43763f3dcddcfd",
      "9ce06d61f7bf4e28a8606fd390599147",
      "3e4fb8b01dd74ff4a8010ad2dbd61a6e",
      "572d024510d54b38907359c8038fcb4d",
      "b4132c763e42415dbc4409dbcfc279ca",
      "39099b48d5b24706884e0a1cf38909d0",
      "9d5e92351c6849459fbfea0526ce6e0c",
      "bc387d9b82a94034af3a37d1d8050d4d",
      "3ac9a930d98941a79b28c31f4f105c51",
      "4c5818866416408fb1ee13b3decaeb60",
      "edb2243c041e43469f6eeaaacabf0a8e",
      "46c4c3f06647491e84cfdd21ae49bf38",
      "971038452dc94f4894e74ca31bdca282",
      "639bd895063b4466a58fa3ae250c4802",
      "a96903173c1f47cba3dc21112431abd6",
      "84704195c86547e68c9b35ccf8fd57f7",
      "9eb18b826c31483ab50f925dab390295",
      "d2f483781a1d48018dd7e18aae399e55",
      "950cfbaccd204f8792aeb6502afaf280",
      "eaf424917d6241e7bbf1d5e8bed487d0",
      "0542a8a5b35d434caf8eecac61e50a8a",
      "44de82f956db46fa88fa8218b24b099e",
      "c7b1b72029f645598b2b83485c82a736",
      "9f0ff80265e548d8b2a758b900a43e39",
      "2e2a41b7d1554c4493614f440593d592",
      "cc2083bac09a4235bdad3f786ef2b975",
      "7bd884f48522469c970377b74dc697f2",
      "49a0d248a9a5450d9b69bc63eb1e85d4",
      "ed2d83d7c3ce41aa89a37a2835755fe2",
      "18e8fd79783842de832353db37a97173",
      "647766e157584502a62d904d12a85124",
      "ac6684f798354dd9a488fc7fa89230f4",
      "48edc25bf92e42c0a6125dd55e3d3bbf",
      "730ec514b8ad42c5bb363adff8c70e40",
      "3b4b72a374cc4f07a1e824153cc774ea",
      "753f77493e2e4c89a9fd95b190e4e624",
      "ac9a1352ee294d6f8fd79a9985cb0384",
      "14a83ead96ee42e7bcb99713a54b1eda",
      "7a346f78713c48889d1ff84cdce28017",
      "8f62a75478ee49e4a60bd4b155e8f210",
      "e0dbac0cec9b4729b5785a0b71319563",
      "70617b94a16044cd92122573839a4c7b",
      "fc53484b57e14dafae67a83b8e2cf017",
      "d6ec9511b66246f5ab2f0783e705abb1",
      "4e9da9c420bc4b7aaafaddde87fc25c6",
      "6b95e2f95dc44776acbaa786c0eac0c0",
      "94cc120426a54155bc2322f6661fee4a",
      "aabbf74db9fb47d485e9d64c74d2fa8d",
      "29d53f98da454f909c50d1f3341da9d3",
      "35b14889dcdb43008c9faa806b2b2523",
      "95fa78b23be84641860576a59d32ec6c",
      "e1573fc9edce4630b8bbe7c80a39c41c",
      "73582afe92c64fb591bac8d1f0f4a0e0",
      "25890957c1e8405e8049112f8f95f68e",
      "af6f03cd9d3c48f5ad81100039f50aec",
      "10381b4e92b549b9bee6a4b2e1702aa4",
      "1b59e5a75f224b3bb8e977d2896742e9",
      "0a4289328dfb4254a7db578085907267",
      "5262cec3e1b0469dbee9936a4a4a4f5f",
      "aafb3be8e3864509ab9ccf790b0362b1",
      "b51dc104139b4b84b5a136eb57f15651",
      "74ece90c5768483db20075c925860d34",
      "050e971837844e7d8ea4bb68ed2ce554",
      "2c3e37821b71428988519eb6edbeda33",
      "68fdea9c09ce4407955e621cb8d7c5c9",
      "803113fae07a4acbbd0d1263f72a8a2e",
      "dc4e7128490e49d9921c516878c0a47a",
      "6cc3da96d14b49b5a60ff4c523ae0df2",
      "f1827d96e3824d3e9d48e5d7a4986a5e",
      "303f5ca61a4d4094a81869822233aaab",
      "524a745071b44838822246a1fb562413",
      "ecc7fd89f4a142d9be5704ca1990689a",
      "8ed9f6271bdb4f2187a5b580458a6114",
      "63fc4aef89b24fe1a82e50e4147db27d",
      "fa5ba5cc98f74ac7b7bdb984c6bfe3b2",
      "a7c05a838ecb4d3f94872eb6cf8ada89",
      "90afe99019cb436ab46027a232887e01",
      "a3eb2638430247bfb5658f99add57abf",
      "d1992fc4a7ad4979b8ffe6ada57de709",
      "0f781de126794e66b0f6deb49f2d1194",
      "97625dbc36a64a8782354e77d61d2700",
      "6c328f374a3f449da1408270ee75c72c",
      "f8dadaa7ce6c4314b0c37e076fe78317",
      "664b57b5512940079157f975573b3479",
      "a38825ed52b146c98b1f5f32dfec2b12",
      "48b5605202284beeb785ba27d0e75400",
      "8ba64865736845a9a601b089a6955428",
      "f2911de0065548fe9e40e9c4e2c89f96",
      "fb98e26143f048f8a37bfaceec29c33c",
      "22a348017f0b41a89558860d6fe60f94",
      "9d0bf0d2205c4ad5a9764bf0e4537d43",
      "af538055d1494bfe8a0af47d844534bc",
      "f31ce84d59fc4adab056211a9298ef86",
      "286a7f0276c34500a23b209186bf7192",
      "9faf92193e7c4e55880dfc1d93d2d847",
      "9d0d957048154e03b194721ed0a657b4",
      "7538a6c67dad42b18224f46dd044bd0a",
      "d7d15fad19db4a36b4e0b6dd5adcab82",
      "910f7ed029e14e5898f877a27f956146",
      "ef4c3349a2df4d848d5457e09b51b806",
      "0913dc8c558a4545aa855899052a45d0",
      "3ae361310f544fc1bff2cc14a46ca770",
      "72f7a7472d7640149487f435de099069",
      "d8b8efebd1d745f6919e8fa3656a55ae",
      "3c8727ea1c044de49f489ccddae895fb",
      "0f9d578ba9e64622bafc9e37a9dd1f46",
      "b2ca21dc7c13403c9c13f2d228f4fdc0",
      "6a98bd35cb9d4178ab6c56a807579d91",
      "73ea00a2121e41cb8b034ea196c2a9c9",
      "ec378867aacc4cd58427d08e7abcaea4",
      "64c20503b28b4b858edfbe43ad356578",
      "82985d74237f4b2c9d5633bf90794202",
      "1f3bad319ee64d2daab7d557eea67af1",
      "f8da7fc64cac44239f13ed949f5dc8ec",
      "c4323ded1fec462881b38f5c139ab8ee",
      "8663931ddc934725bfbb2cc3d7150969",
      "b728c5df61934c3eadc0376c5d4608c7",
      "5883314bfe5a46f6a265f02da1e44bc2",
      "b1290b7e224c4c80911f7bb128363ce6",
      "62354f8101f14126b4ad4cbc28cbfa5e",
      "7f901c90dbe24f6a9f30128d146b0194",
      "2f24bad39f51490d8c46af4b0662c755",
      "74440f1f14e1445a9bd8e7c5c86a4c75",
      "827a5d9cd69a46d8ab709cf3f06fd311",
      "1fca038f9a8e4b95bb3cd613c80ae9a5",
      "89b9fd0268c143fa9f723ca43fe06243",
      "19b8adfd30bb481c9da7c0874a99e88a",
      "ec5b05a9714c42af96070439197a5f54",
      "0ef013aa5821418d94d92f1996f04a2c",
      "aa1c41283b834b309e66cdf9c87ee26b",
      "5d9fdf6d26f14bada8ad4c9e023001b3",
      "693fff7d7372437d81b16c60e356c855",
      "9c15031dc4234661ac1cd88bb87ebf13",
      "50b8aff179224275ab1c952de89b5c5b",
      "a2f0b192731b46eab2c0557aead1a5c1",
      "5e4da10eb21b4bd78e58044993a592fe",
      "e20ce17446a749d983e038510b1b1457",
      "56c48a59480b424cbef9e383c0d4572d",
      "39dd0166f3b84d3096bdd184c9da7ca0",
      "14abcd165c1e442596fe1441bf37ae9e",
      "2f7f24fb04834736bfb280780a95cf1c",
      "ae79c1f9df104c8aaefa83b851744654",
      "adc13c4c1ead491d93a69cc85f4474c8",
      "adc0810388764cb8a736945dc88a0fa2",
      "75ad3ff4c18846b69404ee2ae01b0373",
      "a4ccd41a00c0430290488a7b88ea9f00",
      "ba869221ce404aa1a876d98ce1ab2934",
      "48415fdc3c6a46bc8e5c3dd2c0317947",
      "f15de437227e4f6ab9e36b22ea1a2c6f",
      "8066944336a446b0a18b24b7d2dbbc9e",
      "3c6cee533ce9487bbea0fa69e6f2a0ef",
      "ef669d5628074ca495aa7e487cd7961b",
      "0a6d3d3b103e4be1a930900fbd5b26f9",
      "c63d28f4b46c4ff781d0ee5f7cc17983",
      "a9258308a4264e9aa18e05b444bfd2ca",
      "b54faf326209477dba7f2d8927cc321d",
      "64938c649d1245c380766fb2c730d029",
      "473e2f33622e4b6986cd1cd05587d923",
      "d36b1e23a9014e69a4c8391a5bcaa4e9",
      "fcfa1ea06b9e4c75b60e6ba4860f9df3",
      "60e6467a7b9845ce889e9375f4a4c714",
      "0e5a4e2856e3412d93bbfd9263dc0734",
      "4e061a24dd764b64a01d62804786a322",
      "70bdc34df7414d46b3a639f0369b6eea",
      "e752857072e9497297ba62ea17f579dc",
      "94e0486a8f054ab9a2ba6da9bb74dc61",
      "06df5bccd15a48ebafc5613cb64544c1",
      "4ec09aa6533d413387e94dbc06c32790",
      "3834d9610e2d4ac89a8b0340af119c26",
      "3abe8cf789b84fad9c370216891ce293",
      "b1a185d61044478abe4da2b540443bf0",
      "8aca8c0a26a04b91afe6b6609ca1c19a",
      "460a4aa6e40d4c78a0e8f689263fdaa0",
      "7d556a1e471d4334b70130bfb5396b7e",
      "44632a2ca6554e9d9daff0db0d843f98",
      "267e74f414cf44c9a1c1da3ce6605ade",
      "e726e75ea1624e03929f014899ed8945",
      "02fd058d072f4972804229357826d99a",
      "d79d762a524b49388ff35308768a85ba",
      "29c73fc9f05b41b19970a6d766eb46d7",
      "eb1f098c02264efeba9ef5eaa0dba98f",
      "2f84d39f37674d28bdfe9f3b052c418c",
      "1e5da9911ff54dcbabec8a539757ad3e",
      "32bd7ae0ae184a11a42be7497b50280d",
      "bf2950ddd49c46d4bff1574cf954f38d",
      "d82a07f760a8486b8e1d8f4346d6b703",
      "db1cef6e1230404c9d2f2d915c116cd3",
      "24c22c6c81a147b8b6bb7bac00489179",
      "ed114f94e60944189fc1ec13df7f93a1",
      "1ecda1924e73443fb7db4e47a3648fe8",
      "ddd79ad8fc0345fdab3d651978881d04",
      "ec67bc70d3024ba9a23fc88522458fb1",
      "8f2406526c7c491f849cd4a1eb8dca88",
      "cf0806a6407945bbbcae117cca3fc303",
      "5aeada34b7ef47ea9a61afdd39bb0a38",
      "c58d23156c934dac8b63b8c9b825feca",
      "2bcb151ebbfe47318c705e40eb6cf4a4",
      "0610d3470320474e879969de116891c0",
      "a7efe527f7f943b5b4588f86d4e797c2",
      "965fd51b20c04960932cd7b384689a2e",
      "a60c07c0bd8b4c17a1bfe154039a62be",
      "1faf078c688b45af8a8bc7053ea3a28b",
      "37330b521b1d4a36b2d89577969c9880",
      "797fb4906ee94f29b029a15c9bebbb2f",
      "8d82ee9a53a749c8b0e6189b6ddd977d",
      "51a77be0d3fe43918643c0d31ae66fd2",
      "dffdd2661bb742a49015be3ae748297e",
      "fbb4f1ca2a994743bea50aed9b5e76b9",
      "3095d8c0e2e942a5b61f2d51a3ce1aed",
      "9ccc3e4311074312bad017f3e073452a",
      "38f507f805d04dbd802c94637a959bbd",
      "7db2b983ff564ec3a41ee9c417e1c0f1",
      "5481fca6e429488daf4ba2e44ea01dbd",
      "c3060c1c14424d35a7ffff92d5ce67ef",
      "9064b737cb96463391e1d8d3e12804da",
      "3b7228f8749a4a2b965618fcc08ebffa",
      "79d6cb69a09a428ea52996126b64ae2b",
      "9a08de0703254f158512dc1efecf0989",
      "3adfed03a4d847f78fd11a0e8fba4572",
      "edb716da68da4438881ad8d4c57cff22",
      "cb8a3230eba048a584a2891f4c8b2c90",
      "63b2c871caf94a21a5c46cc195307799",
      "7efe4558042c42a694f2eaed82274cb3",
      "ce3e48415a1a4e4cb98c9c3b402c0140",
      "742258a8fd074ad8bb6aad18350fc9ed",
      "64e777a696e249ff83c40df912986f39",
      "b27507faf2d5482989a4508048b1651f",
      "509f0679f6cf4769903217447e4e58cf",
      "1bfbe938568048f5aa0bad2766735da5",
      "c5aed131d3cb40f0bef6b0978d430474",
      "827c95f2362f428e86f9d6a2ba8e427b",
      "9dd39d13f8f14179a6c7fe812782d4a9",
      "be5d887154a94a88b0d6be47e3db1489",
      "7105cad3afe245b1900e0d51b8c8bc01",
      "e0935bddf0ce4105a07ae77126140fb2",
      "f80f65f636b244f5b2a83711a270ddf1",
      "49ee8f1589a541fe834e31a1ffeb334c",
      "366cabd96b0b41af882e81992e8d51a8",
      "bcc7edb6cf2d4cfa9b0d2d16e94a2d58",
      "d34a2dc4691445b2b45efc83a4fcab10",
      "62a2aa2b5bd0491e96190294e19aabc5",
      "b49d7d8bff1d44bbbc86d800fae18915",
      "8a19b94bc8664492b752c83efeb0f198",
      "6f52b031f00243db9719181c4b106693",
      "1c058e12a4c840cdb91d428fb81b1753",
      "26871fd7bf3c4df094eec19d37d2f9a4",
      "90ecdefad1444041b6b7d4671a0f0e36",
      "f0865618b0aa4e8e9b5237266c9d5cec",
      "53d0d5d9c02b4e38b1a98e03e8e543ab",
      "4f83f962623c4bbda9c09dd10c41cabe",
      "80d5405e28894036a1cd58511e5c6a79",
      "d04be4edc6384d2081d043bb2bd2931b",
      "3f3a9c0dd85845bd95070df651413003",
      "72a885c55a1540a380c3c573e12ab893",
      "82d0a7f05952433d9bd275162007289d",
      "50ce2e88f6d44e3d82a40c529dc49a8b",
      "1c99e2ee590e469b910b96196d71ac61",
      "ef091ca1f4dc412f95fd90535663579b",
      "3022f068f4d645d59cbd95c8f17d20b2",
      "fa0e0fa9020d475e9d3d66213c0f97cb",
      "8deaa4011964465b9ffdf11dd13cf882",
      "7fa68aa0ab554ef58d47f6e807ab113e",
      "c5c1234fa88146f990ebdda7193915d4",
      "bfa934930c8d40fe8c70ed4b5470db4a",
      "1c7341e0f8464013b335b58353ee91b4",
      "908b03a08eb9495dbca3446e419f3e76",
      "fd04e3224c674fa7a3dc1d274430e62b",
      "ed5d381122c149d28ba2484fe6151423",
      "b591063d2c884b6192121c156912a934",
      "d60fb629bd294a9da1a20b7344f47caf",
      "45285808830049cfbce7fc85e09467c3",
      "9dfa08e971624168bd0c4a50910748bd",
      "6e3b55199ecb45a88a3dde406ab157e7",
      "7687ce015e134c0fb73348729ec39cc9",
      "076378dd5d2e4b48a25d220940908940",
      "611ebb170a8b416a8d9ddd97455ccfd6",
      "2aeba2bf37534381bf5355f8c8e59de0",
      "7d0d0cade6184a648e3d871631763af4",
      "a59619e9c4ad44258a9c9ef0e839caee",
      "f07043c7ea7b4bbaa5af44ef573305a3",
      "63ec76da6b054aa4835030e03ed3d379",
      "0b24d1935ab2463c92550b98a3c099ad",
      "f192bf1c1cb34e68b50111f1e9a2207d",
      "31d588d768844e5195bf00e484f03b73",
      "47ca20ded3444dc4a822638ec35f48fd",
      "f030a20a65df44eb8c8a15c66d2aed87",
      "b0df091f89a24af2acb934d1f050b9a3",
      "11538c97736243ad961b1fe2dbb67518",
      "48f94c74838a4b38a604fb7636cb3693",
      "b7e38d882aa947d69356c7e211966bb8",
      "5ace90b90ac74b209d8a3df3cd78abe0",
      "71e16bfd450d4e84be4186cd4b8f2909",
      "e47b57584c254b929cb05acc32b9a9d3",
      "4a68c3033988441c84f618f913fa9b8f",
      "259a2acaaa9d478b839f6a2b637c4cdf",
      "4ea5196f9c6542f0a0138a09e6c96831",
      "626fca22e52a4847adc8e9511e09e118",
      "ccfaa83fa60240bc889131c82d47e35f",
      "2695227fe6874700b8efc86c57f23432",
      "70a374664f7046918c8ac78f1f1153d9",
      "2834c354dc20421988935556c9610551",
      "57d7e5e087054bc09a012492346e4ac0",
      "abe5f7889d434ae8b24799846a40f027",
      "a9bf683976ab4415be67accd30dd2fd3",
      "f829b6b11e5b41f3a1eed84c26480005",
      "bc7c4063da004380824e06c7fc8ca68b",
      "e413489f0a554b1e8de234165840c471",
      "94739687a92846c8872a312b8d5359ed",
      "6eab02b8024b4197b11b26a065040ec0",
      "7f99b8f0cb8f4097b670094095edcb51",
      "846d66e9f2514ab582578d9a862cdebb",
      "77e8251d7bb34edc8e49f052f0b5da8f",
      "11334d7ea36846d28a7bc317865ff708",
      "98867e50aabf40c9ba6331c87dcbdd47",
      "c08fa4b644f64e9ba0c9ab6ee699458d",
      "ee77380a95cf4f0bb1347ea98330c8b0",
      "32f1e0a206ad4921a35dab13688251ee",
      "86fa826a284948019a5a65374efeae29",
      "6938d4f3a37e4b0b80b665945ed6a772",
      "85895e4228374bcaaa61184bf47300cc",
      "97d781f4d38b4f91a85f7f4638bada04",
      "2316f73399f949da8ef3063dcb7f14b7",
      "c95d879a96504c9cbac703d7465d2a52",
      "27c69d93eba248058c96a928f4a44403",
      "971bffc3fb6547e7ba16f0d839671363",
      "7af6c2cf5a2046f2965dc448060f9365",
      "dd9f542f0f954f96b0fb007a79162237",
      "459c8c452b6347b79556fbad232d5ba3",
      "63f9a2068c7040c2a632dca5eab46b10",
      "f770f247dfda470791927c653b2b4509",
      "cbd6152467c14f2cb22cfc389e75f25b",
      "881f85fd5dfc4595b2d50fa051c5ed3f",
      "0d866a83f1bc49a19cc6d03de4287580",
      "2e130bf81b224b57b4d2d7d86f2813a7",
      "6cf6e61dba0d4cc7b901eddd1797db63",
      "3c75c15660a843feb08b09743b11afe2",
      "238841ee2b344a3d95072ce4e83e2b09",
      "490f31799fcf44fb9bf163e1a4c21109",
      "818acdc575d440218f1419813180a82e",
      "2239bdfca3c14eaeaf4ce5c69484ae92",
      "72352367797741aeb9323441a42d516f",
      "9527f2552a1c41009db114daf00cc794",
      "e3cc16abbd294a91ae3c7b6075a04104",
      "5401ff60c94e494c8659dbc823cad179",
      "c77d337f44274ad7acb2318ad4a63f09",
      "b59f14e47a6a4972b2876ca5abc588ee",
      "d454959bfe064417b31fe04379815dcc",
      "7001e4c4943541499c5f0f80939b5dd6",
      "ac6ddeadd7934894a28dc3418b9045ba",
      "9e8e7ef10eba4629a0247b85951cd589",
      "738627c281904ca1b7abaa95f32488a9",
      "d9215547895744569825cdd169a3db89",
      "a60241c0adcb46888ad70959a5fcb898",
      "53731d47f9214f4ba3e325dd011f33ce",
      "a54f10b82ec6485680e7094913dcbc48",
      "1cfd06d0e98e4dd9b96cce469dfaca6f",
      "29607cae5fd041c4bf4c15e6065f7160",
      "48d59cfd92b84139b88d0f2e7f1f4b2c",
      "f06c60aa8a5f41f5a402fae528319d88",
      "be3f6ef09a7f41439c853efe39fff846",
      "73c639eca0da4931ba96b8f14a185e55",
      "718c3f5dd3bb470f8ddf55b4a49adcdc",
      "6d9e21b3ed54494abafd81dfd83f901b",
      "1a36e66ef5d247468c654822c83b23c7",
      "17bed9c84783433daf08d7085d3e35ef",
      "59bd2061bb7d479588590537fa1048b1",
      "2a97c5bdb37e463fafd90ecc056d917f",
      "c26213d35fd541a5bd1ec8932e0a4a3f",
      "4d29638f09fa45c18d3e5e6aee1c8f4c",
      "fe638969d6974a969f5b59461c2d4509",
      "e9ed999be1b34d6c9b7b5e1180ec713c",
      "2a79eee619df45e1855f8ae3ad15888e",
      "68c23a4ea11248ea8f4f7f4d70da133f",
      "12b45032f0184faab08ef9946076c6d4",
      "4bacc55fa2624127bbb5d4df9ce6b7d1",
      "da32020c41224496b3eed8f1c17e3752",
      "06d1cc024da341e58feb77f352ee081e",
      "6f8d0227a05f456f9a6c6439cc2a0da1",
      "f2aae8d063d9489e84115c08ccbfd0ad",
      "9b16afb89eef45fd930fc438fe4f3b4b",
      "aabbd3b671f046f2a1eb8eb720ea9d14",
      "58d888ffbebe423b9f7a08776266c458",
      "4c5566f7c4a84500b70b890bfdc4fca6",
      "68a30b0469be4cea92d5f7e1f57b75ac",
      "2a13f8028ff741ceac834e14df46a5b1",
      "d9419b90698a4f77883dc3c43276ae42",
      "9b5f703ba1e94db5964e66ceb69136a9",
      "6e2e7a3be08247bb840b8c1ceca2f6c3",
      "a048eb96b6614d058267a7fdba976b15",
      "a9d1ad23e1e34ab2aa9885d4954c0819",
      "ad0cd065bcfd422ea1e55ff6d5abe93b",
      "997f5fcb35ff4950aa300665b1b81624",
      "fb65ca19915d4cc382f01a9896709be0",
      "70016733b1004f20806544a2a43f9440",
      "58666db8654d4830ba138a8eff447914",
      "d1466c6bbbef400bac9a5cb785f2896c",
      "db0146f57b9a4049a6b4329c8780628b",
      "7ecfe530437f4535b8c77c5aa87a0387",
      "c3ed9fbf0bfb42f993dd4b490437d541",
      "e870f621ab574ddcbfad6aa8266c7059",
      "25f00f9eac0e4efba77161d48c148bb1",
      "7870bd0fa93c4d53bbe524399076a5ad",
      "cd3b00058f674a30a2db6ab5ec18ebb7",
      "6f084fec3c6d4b68a26eb0341ce15f0d",
      "b3b1a84e9ad94fb2b061c0dade538bd9",
      "4044c5ebbffc456c92ff2cbe96b77929",
      "ad6eb766b4b64c80b022c6c2b8631b8a",
      "7ab70abb8085419c982859133c194782",
      "19c7bdc3b32c46c08b523ce7fd90fdd0",
      "6c11b48941e04bb5985f029544d30d49",
      "e485302769b04b1bb528cf84d593d9ce",
      "13dba27f5ca64b7d96e048ec7211ac62",
      "e10ed519533c4d3ebc5a6b030e39cb50",
      "edb19809a0364421aec853595d706d5a",
      "d529f9aec23c4162bb9bdf4d66e34bac",
      "9fe3396181c147eeb2546caed8fbdfd4",
      "fda9898622a742f29d79bf591bebab59",
      "5135ec311f1f46a0acc0c926a5e1440e",
      "66955199631846fca45136ebad223fec",
      "8005889e51ca4e18b6a867848b6c6ebf",
      "0b671783e5ff4340b969d11e13fc0caa",
      "514951e5f8e44980ab85bd872bce51cf",
      "a77ba286f26b458dbfb93daa83bcfea8",
      "377603c511ac441fb7ad0cdeec4a859d",
      "47d04754e8834e00aed0be2b27ea0f7b",
      "d73a1999400a4bc9a18bf0b33828620e",
      "72dbab8f030941e088da6c60763efc87",
      "cabd70867d1b4da68664d02f650ef9c7",
      "65b2ad41ec6748e7930d665b6f623213",
      "1aa66964cde2450f8112a36b33dee5ff",
      "617679ab6e5a443baf1e2016aa97bafd",
      "a4a3328febba4e0a9e9275a9b83d2456",
      "ad90cf0a4ad446b0b605f685a3c6f2bf",
      "6f94814ac9ec4455adb793611c0799b6",
      "e5067eb262c54743bbb83c8e67faab75",
      "fe8610b9a0dc45389abc372e209f438d",
      "c1e5c2744ee4431ea74efeb9369f03d0",
      "5850270b8e6c440c8d592d63b4182e11",
      "4eec94b738d543cdbd3ed3dda9b94169",
      "bfb437607688423bac7824a7f5cc10a0",
      "7d7865603b03441c8860c96152d95882",
      "84a43f80eb114853afa8b39544273c30",
      "39175e630350485a88eb8eca90f3b975",
      "f35bd2a7121e4fdaa233c3a2233307cc",
      "d67e743007974a2f90077e90f1305cda",
      "b33427bb141f4cdb971be618f71d3431",
      "ae64a132e84245a08e0af76291878017",
      "1b59c26279984dfd8150a4aeb19679a2",
      "556fc71aa0834717a2e22c036973fef1",
      "cfb17f8798a4482ba2cc068fcfa5a070",
      "3c9425f1d17649049aff8c2ed74f74a9",
      "8d6e769e8bab424ca626032da9c7fa4f",
      "2aac2df499ff488e8bb4a4e467ddd2c3",
      "36a634fd73c14e51b55a047ce01a537d",
      "35d7498c3c8646a98ee6ab6e6549bf69",
      "d62db0e0c7664e9f915dbd3f91d2e63d",
      "b0d48504a274478ea181c5714ad367f3",
      "32863e72c6ac4c6bb2f7e1be49f44713",
      "8152a95e81a5415ab223fc419b8c0963",
      "1db47b7cf0f64e96be624955cf85b07a",
      "43562150d8514d60b7acd992ed1b71ae",
      "1ce5d6596f954a6eb7ea51fadecaa03f",
      "be32b7ca4b9f4e019045258c8d490960",
      "e54c3329b19642fbac851e352284b131",
      "bc991213e09c4f879e5b3841f635477a",
      "b5f57710ae0e480faee62f469e9e5a4e",
      "6485bfc1198644f99f42c39e482e19f5",
      "1153f21a0ae44b14bc07f3451b23fa0a",
      "7b142ba69821456a994024d708016291",
      "48760bc4d05348e8bcf8704655184d7d",
      "8321b6326b4a464c8526193b00445e30",
      "82cd5c5d5c3e4c2e8493f3021dc36d63",
      "da8a45396797413ca4896bf2dec7ad9a",
      "659eec9cee33487e83a9d1fd4ae67435",
      "82d3d978994949f3abb34e29fb3ab157",
      "c30c49f71d054270ae1610e316539509",
      "8b0bf369d29b4504a2f633c39f3dd0c3",
      "846ddc78b5954cab8b42c8241663c507",
      "1f6e0ac02b52419196b1b32db3ae333e",
      "fc0022bf7da649a1b38e2aabb0e49624",
      "4c8e3dc5693c4160a5693e46bc9b8301",
      "9397ac1888754fb58f4df8fd99cd6cba",
      "0d119ab3aa9748c4a094b219cad9560b",
      "14fcba94402c4d2bbfab03ab36590af7",
      "faddbbb5d68c49a0a150cf7475cc07bb",
      "a8ff19250b4f44fe8b859edac82c5328",
      "2b8ac62576234b2d9f4f470bc4133180",
      "eaab340ddd294f15a6e098a5b9ac669a",
      "58b4c2d59cef4c44b044250a42e35232",
      "ccd143a61f3e4a18ac3619366cefb0ed",
      "367739e03a0d4dabb86de90e3fc2ecd0",
      "2940c0a50a67406e83fbee77ed90ea19",
      "961b2ee0cfa74b03814212bd6f43d436",
      "e6fe3d4d6ef94379a37af23fcf811de9",
      "0fb20b79e737471aae941101946f8125",
      "3b8bef8a4812414189dcb7853824ff44",
      "9e30db22a9b1400ebb0d8dd9fab73099",
      "7b1b6a55eda34285a9ae00f0331f492b",
      "e005165774334ccd81c8289853d2f7dd",
      "560a5863da3249599d9d49ecc1243e16",
      "b3f594f956674d3ea1a6cd8584929ac7",
      "e1f80405ccae48cda4717158bae3997e",
      "e184a5de8cb24295bde7227a891a4fc7",
      "d7e87decfc5847bbbc3b1af74936e934",
      "72e88ed981594898b329f9c4336e180f",
      "ec7af35a28714304ad11c8c50bd17f37",
      "ea1cea5c427c4bc3a0aff1e65ba8483f",
      "25619d2d469d4ab583a9f62489389eb6",
      "b1f13c4bdd484c6ca9c8684280a98005",
      "839772df095940f6a816131621f03427",
      "a7a9ab9b7a9a4f32bc97c52ebdfd73d8",
      "708cc3cd048748259b04735c98265064",
      "6c07f12cf4504f13869dee31be0c4b98",
      "907245b97194404cbe1d901e526e88a1",
      "79b30d2e3b634d3ab2ceaa474bc34120",
      "777d77d2bfe54534a265311600980d14",
      "2aa205b951e1418aa2bdd82c8b51c904",
      "de4de20942d8467cb88bac8a0b184c54",
      "abfd0c098d35411d8d989cf099557844",
      "00a9fd1927854fcaad053a9323128e06",
      "8962e77a39b84e75a43828e70abf221a",
      "a4b703c8ee9b4505b25a40e60bcbd72c",
      "ce9152fba76a42f2a571d0a131c07a8e",
      "93de86d34b6d48ac93ce04294c886f9e",
      "ce8382c1eaa041bbb66d94227ef9f04c",
      "858d10532abd46e78d7bb05f28d0184d",
      "431011ea96f64286af2283e851c77ad1",
      "9d18fce14c3e4be796ee49afeb82170f",
      "ba26f71cf67341cfb77ef3d86c7f11eb",
      "8c3767d438eb475dbefc69ab56d0c79d",
      "40761203b8ec402eba150c75163c5a50",
      "273bd6ee783e410b80b2837f6c2227df",
      "31933413a1904728ae83b540bf666cd6",
      "9b61a5b4a7a5406ba9319ff706dad58c",
      "0600aa1a911c46e09345b629365dae34",
      "7f2f70bd9a974209b4efe1adce687ea9",
      "a92c2c578afc44b2b48f4b7e15262a6f",
      "e91e7774f5c14b41bc969013301b8907",
      "b92f8f233c074fd1a82e07be01717c7a",
      "c1801a749db946f9a4a981d79a2613d5",
      "73bdb0a043574c0b8ee5e71f3b2c84d0",
      "c4c2548188f54a9994e404d33f94d0bd",
      "c6d8241930dd43ad8a6ed986f1e310fb",
      "ef7e4748ce614850a3e1786ff5f4af13",
      "b3a04e8990f3449dbb565c2552852a22",
      "84fd4e20808e45a8910a5b7d2cc29811",
      "4778b7a2fd7742eca0b590de0aad8511",
      "7c4e9c25f13b4fba8e9565b35ba3f51f",
      "0906b1b9beb042e7bbfe99fa0b5d643c",
      "89b6cfa002e6477eb5ec1b56ee0c61aa",
      "8a9a978caac940ddb827e0b69140cac1",
      "dfde227587bd48a19983f6c9f7074ea6",
      "80ec72b73d90421db6694c8fec48549d",
      "0ffcc8c9bfa142c38719e08859f26fa7",
      "950ed8f95a0643b09f1c0371b22b7a9e",
      "f73ffac279cc488d814dd048b0e4bcf1",
      "fd2e6ca4fe944b1c80b66c7181c5123e",
      "9dda76d21dd84e9ca5b4ed3a5f9de9fc",
      "131eee69812542f8bb11f5bad1cb0400",
      "d36c528bb304433394dab8948870924f",
      "46c51ac12ef54a8e9af7c87723613ff9",
      "1a5c037c2e994bad9512ab6751eed2d2",
      "dcb1084045ae48869be311b404bfcea7",
      "0be199407ff7481d8c5be699d50537ed",
      "08bfeb2e21d9454aad0cc76495860498",
      "24656c5f9c604156924e014e49060cdb",
      "1456b7c73b5c43dabd5b97e2306716db",
      "b97482d31eea4219aace6da256771dbe",
      "90ab8a66e1804ddd98fdcad6e132b964",
      "f3e22f0505f04ee88fffb426bf600747",
      "86c8205b6470431f82eead8b8b70e828",
      "de9ccc4e3fcb4cbba30364ca93c89d19",
      "3b414862a3f34dfc9d7cfcac310fa047",
      "732962924684431cbcefb678c011fd07",
      "28e995060f3243e0a5de091b34106c18",
      "325852029b0a42d2afe566c48fe862e0",
      "379b888aa2bc4be89c21ead810ea985c",
      "321e82092b3d46fe9240aa512250371a",
      "6318346094b14c84979de70c0b4ce4ab",
      "1cc0e7c371a54fe19f4dbbab46441f05",
      "57bae9184c8f449d8721701fa9b454dd",
      "668f26baafe5489786995316327aae03",
      "d2b83c969e5c495999b808162f99db4e",
      "10f1b089115548f685020e7e978ca271",
      "7233e6a3d8744881824c52ab6f29f79c",
      "fbe8bde3977e4b369ddaf1d465f54043",
      "94e649b1bb98491ebca21b8c52299fc5",
      "ade19eaab7c54e7291bcabef9b6f02c4",
      "c1c015f45b414466999bf40afa6f0a14",
      "2c7397a9ba19429692f9188af2005edf",
      "bbaa8c78362749e0b990acb3148cc7ea",
      "9b9d26c7782a4fbbb915ce1615989d92",
      "f0e0d9023f254100897ba633d3fa52a5",
      "230ba33da1054d229a3561740a3a696e",
      "b890d9715b514639a30382ec13df106a",
      "c4a47b1f10764a4db9089181a16bbf0d",
      "afacc1f70f2f4afa9731f2e453e60219",
      "43e20660aee64c13bb7682a847f267b8",
      "3089c22ddfb54ceda78b7d785766e7e1",
      "58553e324a084023a645a1eb373936f6",
      "530417f9ea6044a5ac201938cf990e34",
      "4f3eb137354d4c35ba1ad8a0c55337a4",
      "dc8a77f541f44b8a8ceaa65e2fe7bddc",
      "adea05474696404a92200422750ce1e6",
      "132338e449ea4a8085cde4b8216f51d6",
      "886fe5dfb59f4e1597c1191a702acde1",
      "9a36a5402d2c4d71bb5214f5d7bb085b",
      "a3459e61a8514c51b1b5f7a7d93a7939",
      "dceea46e605e4ed396f9490dc292b372",
      "927b0fac17be4b96a79997a5d5d46351",
      "d8fcf3cb0b9343e8ae108d08ac0ec4e1",
      "78b236bf24104624ad422230863a45fb",
      "0890803bb92d4ea79b7e4d8bb6d1de5f",
      "e183fd0a3f9b48218d0c03ca63074039",
      "8aba6e41b3514d949ce04d1b925998ea",
      "527ede86d693466486a48a527425a600",
      "b068d17a7cb643eeaaabdfec5d189f00",
      "fa70aad4696141b5a6b315df3d5b8477",
      "c260f5151e2f41ccb32c02310a366934",
      "33d8aa0a9e534b5293503bb96c9f48d4",
      "ae951ea965df4ef698caa5c636d4582a",
      "c96faec9e6bd4787877ac491ad017e11",
      "363ddcabe6f0463dbff6e3eee56ffd64",
      "0518d9ec16e846ad91f4415a4dc560a1",
      "4f20b9d049da4ecab49e150987841da0",
      "7cbe537ccc2041f7a33d2a57e42f4877",
      "e1d82ac8322642e1b96c1cfdd00c4def",
      "b0be4d13bbd34a718306043151464e48",
      "b7ae70c1c3004b6a8998f368d3808bdd",
      "9bf6841ad9794266a158420fed3e88e5",
      "3abd4174dba24ba2be797b4579c46321",
      "239706fc01bd4dedb1f4c89ffea56597",
      "8a039213b76e4e48bd15538961c7b369",
      "09aafb5e1f864530aa65bf94a267430b",
      "3a3998c92eb442c581a3005f70f9805a",
      "fce59276fb3d493bb76b686eb703bf1f",
      "3238a61643db4af18bdb72d6ff334f69",
      "c919dff3a3414860a9a2afa48bf2c2ad",
      "543c951446c4459285f96f268520fbd3",
      "2dca62a771ca486982d00308f50c3ddd",
      "c66637ffe3884cfb9d09a12ac891f991",
      "35ba826419304946a1f7f0a48c86dae1",
      "2f33c464a1fd4600883c683f669233b8",
      "9ca3da6f34ca482ca06148f1042600b4",
      "d056ea9daa0947b581725b2b647ec749",
      "a6a7664db431403b9f31decdcc88927f",
      "0a1de568cdfc440e89cd6cbf294ec156",
      "c245002e1fc9473daaf8bef0f499a7ac",
      "296d8c30ba7848558d5f42c858e10aea",
      "8faf972edfbd40acb8ce7ece8ad04e2b",
      "083f535203f44e5aa0b6c3caf6ac4a44",
      "c81a791e5e0840478d3b1fe2f41ad939",
      "882b1ffed3994fb0a5ba18483aaacde0",
      "75869f18ee9f423296a26a77b289a499",
      "c4e26eb190ea455da686e354a52ffeae",
      "01d7519aa4b049ca9bd8bab471fa8a39",
      "cfa98e27676a4bf7bc7637e39475a31f",
      "07a17c675c3446bcb19cc0278948ea66",
      "58f45cbc29ee4ab2be8e57c219d556cf",
      "f59e8006abfe4420829f38cb26ebe302",
      "582ea03d91c64d1db267f034e68f5d4a",
      "69bc8aa404404be2a5e76e29da34409d",
      "32ab409e1c1342c38e2148bce63568d2",
      "6f32ef1bbb05473089fb7649a6380a0a",
      "67343afde404468e8be0a79928f484f2",
      "58d5d8d2b17d41508e446dd332ee9d26",
      "083498855a284059b5bbc24c28f95456",
      "a2590aa717c1453c8d8ae3a854285a53",
      "b6c24eea2bee4c5fad80ed351f3d972d",
      "193434f6811841579df81908fffcb56f",
      "d3ca9820a5d24a1d9c5d76cf2dd4b972",
      "a7aaeac8872849038026a65baec60983",
      "fded43c5e946403fb356fb382b58cb1b",
      "e5fdc7cefe2e4b8786d0cb59563091e0",
      "bf36a3a4a3874ebf94deff6b8888c787",
      "649b35dda14b425aad8746c3b9c365b0",
      "730fa22c838646a08cc989eb77161148",
      "b4a7d595cbc3489ba92b8b5191ff0154",
      "45baab4ca6774effb5ff04df15c36ea9",
      "319b03134fd841ffb9ba8510fc540282",
      "b8de6e40cb2d42d485f2a971af239bd8",
      "7f4e3f819562483780016440ca366202",
      "d7104fb5897941ab9ba7cb42db418cde",
      "01794209bc3b4b639b54f036bd1cd228",
      "435425b1334f45d9af97c524a1d78f62",
      "4e4c616a4d9c4bb4a9f3bfe1bcf4edd5",
      "ced647b4163649d0bb1cefe71db09e37",
      "4b8d054a0f6c4f2087b20a458cef758a",
      "c6335abc83944ea68dad87df44e4274a",
      "107cc082b4f14cd381d2e06de012ecae",
      "327b70ce846a4417a77d4476cde3dd0f",
      "1abc53230fac4a9382ca359eb830c369",
      "ff889662c7ca422e97a12376768c949a",
      "1418a35a6f1543a982ad8e71fe2f157a",
      "7f26913fa15248e2a4b466f17269564f",
      "e76c7489dcf34a669439c8daa78af969",
      "c75f744427b84ac0832feb2647e66305",
      "9f55753d21c34f3dbe80ad19541db612",
      "92307c61848149cda4dac9c296a8dfde",
      "fcc606fa824947a38972e53af8ce5009",
      "40c7fb0bd61f49559266ccfdfcb8f24f",
      "4481125214dc43da8c3ccf0d35315060",
      "19c1e767948a4b219f48976b217a96d5",
      "38c4f28777704d2f8874f323ccdda15c",
      "a731c02dfc454ca88a69a90596d1d272",
      "4a863d22f08f44299d786edb04242222",
      "9b77382985a941798337ca3c6b97749b",
      "28788705b61345fa94d8cd76ffe17554",
      "02a347a34dc24a5f99b94383efd866b6",
      "f5dd267d427e4c68a5772de4c7d8d600",
      "2dcc289d81374395b03bfccdc4631d19",
      "f80e1893b15a4de18ed906743571bb37",
      "ac76b7f5d9f8439299312514600223f4",
      "d1a97c353169414a864de2f5ff70098c",
      "d30b43ff38da4b6782cb068d78bfd6c0",
      "359e59f89483410ab7212934b58411cb",
      "4bc62bd91af04c8897bfb914683615ae",
      "3186f5906f79467b95eb5152d438622a",
      "03922db0070a417b8c48a9cc95e5a5f3",
      "d95a06d97a7d41d9bd7d9f3261bfc960",
      "9e77d5218f194d598601fede16e45b1f",
      "d62ca865e9f0479281448d13435de992",
      "57a0bfdddd994a7fa04048c2b6f50ae1",
      "56a84eab4cd24f7a8de20cc3e76f9eb4",
      "c1b763015aa747eb866c15aa6e770f2b",
      "19331eb36d71428a83e7b4a5043be0d3",
      "bb7795a99427440eae4270011ff06426",
      "4238d2e4d94b4eb68a5ace11e775a6e5",
      "f7c02af57d78435d8421556917a22f79",
      "15ee4d55890149e1be60d09bb4b18b76",
      "59fe613a0a644b4e8d0c5f83afcb8014",
      "4d1776c026b2429dbdc11181fe77e357",
      "9a1b239de3bc4169a11139fe8ea85e12",
      "0363e2c68218459c96e3671de3c8fcca",
      "fe60a6b353184103a592ae8cab2c3f40",
      "b916275d95c248baafeff166d256ae10",
      "cc3d27867d7d40dfb7246131aa3f00db",
      "71214afe7c864a2d84f28fd3e674d8de",
      "10cb9598dcd545c8bf296f11dabe43e8",
      "95543af61e43450f90328849860c7550",
      "32842e12b46447979d04de7a7ce7cc06",
      "6d9a1e1d5ab2412a91050c23b45f18fb",
      "435d182714c741d8b12c6aeb897e2a65",
      "30545bc3075d46a296526e836ad62439",
      "d7ff50cd44e24b1dbe53e830e85b719d",
      "ad88532bfef644eda6641ce670be5fc6",
      "5ffaaab64d3b4608beca254334c34f35",
      "5da207823dcc4af3b7feb207c5df9dc6",
      "ec16c1e674934cfba3397d0f2f1d54a5",
      "ea56e0225abe49d99fa6d397ca935bf0",
      "ba8509a1d91c43e488abe5f465d6cb45",
      "547de9076d4a4af99ebba4aed0cde528",
      "5a5ba564e76a4430aaacad3cfdf4a2e8",
      "7f82baf3a4c34a1bb146f512a081e9f6",
      "4ea65bedb70744248a0c6c950503b017",
      "2108b4b3dd4c46c0884600797c455760",
      "151542ede9fc4e28b1455b87ece13c77",
      "3e69268f219841788fa0accf9adc0d24",
      "6f000098502949fcbda9cd622c71471a",
      "f870401bac184721b51d77b4393d01c0",
      "d2d938a1c9f641b7a54460a9d9393797",
      "92c7b081776440ef92e56aa995d90488",
      "5389ce76b7764b309d09b349a1f242df",
      "5afdc562d64a48cbaf07476303ff4b20",
      "e9fc7e6611f74d6e99d49fe64b1405ce",
      "f5e1ec3c0c41463f8fed1cd0d90edb4a",
      "764097e249e343729978a91730b9a019",
      "62da28c6ad3343869526f22873c7fa97",
      "22ca44db9f4f4f98bb561d8afb717ca5",
      "6f95999dfdcd441386343df53f8d3e52",
      "02f39d726b054c92becd9c0261ea75e4",
      "c9f42ce00a5149b891d12e73cf2d2c63",
      "3e580b2a7e764a5d955ca0b273be5a7c",
      "d4c0bf7f43f541c294a0cbbae55eb9ba",
      "f8e3363410c1463cbe400272285449b3",
      "50b37a1e6b9f4009838b07cc085836aa",
      "20a49420af684a39a84a8e4f33978512",
      "19261d4593c7488b9af066f213e879de",
      "fbc6fb7c189f45e99df7d3d23dd52705",
      "136bf31ebc1549baacf102e901b587ed",
      "2812dda3780f47938b9e8bdb3e3cb136",
      "58ddd7345e8a40199be7cf55b14d0e99",
      "1a5ee083512e4888a8ea5eb44bb1a567",
      "0a5f675826b849fbae48505240c25661",
      "a5069e925cc04b01a32d8374b52563bd",
      "5a7ca43c05dc4fbb984563f43abc68ae",
      "59d092aca66f4c91be972d012da4d3ff",
      "8cd5d039ede44d37b7059e7a3ab14dd4",
      "94d0def5f44a4de1a419113a2cefbdc4",
      "5ac1f83d7de94a9fbfe639bdf302b4b9",
      "72f2f1af7e6c431a82a5c5b8456cfda4",
      "6e6789e3e95c40c387439c373f36c761",
      "69f24450947344e38464cea04c1c5ce0",
      "788195d9adae4caa90ac40de420f67e3",
      "4ea50b6381174d13a22d2356c52debdc",
      "bc6e7940ad01420284cd61727dc2347b",
      "1f77b4e36b82403aae5e4ae8823d70d2",
      "e52b731ec31a45c2b7750f15a4728f0a",
      "dca5e0e5631f477093b4ed6f5bb7c708",
      "2bb68b18af7747869065ac9e744099bb",
      "d589a28eb1a84bb2997e996f5c8c86bc",
      "69f71bf3c7544ddbb1621761e99a9c9c",
      "7714d881c4e84666814586a5e40909c7",
      "5794c34127b646a4a860cd3a9c2a37aa",
      "c32ac71283e34989bc5464ee58eca399",
      "4ef29c3a2b3f4d9286e8ae448fd16d26",
      "3b213491db2f480aba9366744935f0fe",
      "e24b268539e548beb60a46155b50b0f2",
      "939a4dec9b394e2db744120cee4235aa",
      "a26b6668313644f18667a99c8331d239",
      "c069d450b1054338a84014d332bba40d",
      "06eb05422fc545dfb56b62baeb252a92",
      "a1ae02c3c88c4f8ba472c3cbcf842372",
      "b850648b52e142c18d252301d9ac0484",
      "3207701ff6424a3ebea6bf2549590c2f",
      "e2abade4cb5d42479b027a4e87084b5b",
      "4f569788122040d1890bad09a676624d",
      "82f2f2458e114392bd8d0bc699ca18b7",
      "db9b0295339a4766ad3d746eeb660059",
      "d59cbe84ce684088be27d10a35979542",
      "b9bb0915e5d24b73b7cf97972d1029f2",
      "7e78808145a6436a9bce1cdca79a5a56",
      "f985a50b4a214884b8c4446d0542eaea",
      "a3734618b93c4a5db1425c68c35194f0",
      "6cf4a36098514c9386e897235ac32568",
      "2c70266fbcf349e183e5f9c0f1ff4f3b",
      "2eec05accb4e4bdcbc37ac9d824c0db2",
      "8acd060566d44ea7b1f23fcc49b08be7",
      "682cad0db46346619a0e4ab99fdec8af",
      "07020e2e59594bfd86acb1ca83bf1e37",
      "7d865255b3ee47638e7fa720bc6e73da",
      "f69f4aab4ac64bafadb8e6707cc42602",
      "3294dd93257a41af8537e8ea5eb3e06e",
      "8a4a894916254fe5a5497b270519f965",
      "a23732b5213b40e5a7caa9e6d82d90a6",
      "95af23b53c08463b81e1b6978f600e58",
      "a0c4eaf1d01946b6b6d16eca7eed7161",
      "68f0ad9f36e749749b6635abcedeb19c",
      "360b4bf01f5d4a9996351075feb3a677",
      "bfa4599f14c74789b394218d6f26835d",
      "97318e3adb1e48fcbd85b347144a6ab3",
      "60d65611c45f4025b3b437892ab64dfd",
      "965dbc65ae33446aac690435b9dd02bd",
      "844bd084a1a54fe088db8d11d48ac3fc",
      "7b817263dc244e48aac1bdc5b50cbe61",
      "c46cdecd04fa4c83b1fa9546329d8e8a",
      "34f4cee55802475498236dd594b811b2",
      "5b588e5d91554160bb9d91719fae816d",
      "6c4f9444c8fb4c428899a0a0768f70d1",
      "a27ed83d5bf440448f1f666a3a9d34a0",
      "37ca3b793570440b947ada9e8b391004",
      "82b20d7caf2c4964bc06bfdbdd837262",
      "5f597cda91154bad9d66163ba36f1261",
      "672af2028a404de89e1b9568e1e0bdce",
      "59dc8262dafd4220b4d1cd8213355a06",
      "a7541ce787f044bfa913a9ed8d919bea",
      "67c87a2e989b40d1b540452ed4686723",
      "563057d94b124ca7a24b98a4525aee01",
      "b8f3bab1d6b64d57a2bbac90fdce1b35",
      "f021f9bab28b4647a7d83f0c38912d18",
      "3ba3ae4fc40b477d9debb5e56ee9c3e5",
      "fc8cfe28e58c4d9292b20f06ada3649a",
      "7f12fd9939a949c4a91a7fe97ee6428c",
      "6d7a14b2bbcd4a0daca94eea639c6f30",
      "58198ad6dca340bc8eec04775377b741",
      "867c426d7f7e4c1ba211c92a0daa7fdb",
      "9a51a3d7cbbe47b4946a639553592f99",
      "fa77d9f14d864681929816b4da2b37b8",
      "8d8740e2adec49efaef622dae890f14c",
      "27c53599cd914bc5bbbc500e7277eb91",
      "ed0bb539a98f4fba8196ea06c1cfc87f",
      "6382155df7b14a9e8b6d1f9661ffb901",
      "b2905765ce274beca9a72a283a9e2590",
      "534f193a2c2b4acab721b732669cfd2b",
      "0df6602e411b4b61a89d1e959c1170c6",
      "3e8461a61abe408094741f81f2849605",
      "4180838894384cde820f46feab872bef",
      "aac450889b2c4ff1a43d6affb50bacde",
      "a041376e82ef4706a4cf1014b9efce86",
      "a49ac017e23047ec9fc5d8cb30d3981f",
      "0fa8e8726e00403a93dda71e67b34526",
      "0fbb345c329e4242a1c7405d590c410c",
      "49ae7d87838244cf9d7711ee50ce05f1",
      "b0ebbeb1c7ac465da7c0e83575d1e215",
      "d8c6193ba874404090bd36471f283fd2",
      "999f144266a64aa095205be90751c835",
      "69eb887cff724bfab4168e470bfaf147",
      "246096ad09bc4d039d8f2ffd197aa184",
      "5efb661df58845e08bac98092a9add82",
      "e1bc79331de4423683240452442cf708",
      "0ed189da806d4daba9b199b4b8dbbafc",
      "99d751588f3647dca8eb866ba008d821",
      "cfb7878a8de44a5d98139c2d4c912f2d",
      "8600653da3374da4a4a4f966ce27e18d",
      "4d859ff77931431a98281a4f6269d942",
      "159bd00c9b8b406098ab64c29e503848",
      "8f92278cbfcb49c7aa540a490efd3f5b",
      "5930b6a8bded40a585d39d799991be3d",
      "2ed0f19f18334e0b9d11a1e592614316",
      "0d50063dae7d41059ad37608be47ab86",
      "dab2fab88cd94b27a0f0a56e9bec8b36",
      "910541b69a5f402b8e919d33203d839d",
      "8009aa0fd30a499eac7b9f0cd090077f",
      "27c440b366a840fa901cf6806661c962",
      "55bd9b38f5c9425ca088c17add78062c",
      "c90751a6686849728b8c0262cba2bbf1",
      "8ff88f4f678349b0a0aad59715ae0f20",
      "911ff07b9834456f83f2f3598134611b",
      "fad7843038804b438faeea8c32eec11d",
      "b4c504770e084ced91bb373036c09d4b",
      "4044cd7551bc4e53b66e00cc7fedb80f",
      "b5fa271443b445c2b6528d2241546905",
      "36df80ab30fe4ecda7271071fb3fee87",
      "2cff9884f14c4acb8ae637bd2b6891b3",
      "2b9f58568b8a4eefadd7d527dbba2d47",
      "5885ac0ba50c45bea0f561e8bede2584",
      "f23df2e0c99b41a585d01da9cded271d",
      "8ab56f88c9fc4cf38dead9a735f1e81f",
      "2358fdf493574dd3a63124e49267b840",
      "cdf5b8996b3d43fc9d1aee9e6e15fbce",
      "5ad234738592454da3740d110f8c2fbb",
      "051484687ce34bbfaea8fdad69ad5365",
      "750ccfbfd95849799a94a55ff08d85ae",
      "56cb576024e6416f92358d84a8e90fcc",
      "91330d35d8d94889a33f6dedfdb6a351",
      "b2a294122a7e441190f7035bfc421dfd",
      "f10c5a396f3d44369c77150d76f8c50f",
      "b93fb60f284548fe862b2f19bd90d9fc",
      "a307d20e9b994c7abf28614be5caa75c",
      "0cdba8cc84aa46e79a2db547cfa2d8f8",
      "241aa7fccdf34eab996b65653023d138",
      "1a4468805f314ecbbee40220cedf6062",
      "a8836602966d4a9983f96519836f51cc",
      "847c737c503d4907916a9446bab2fec6",
      "8b4bd908372d4341b5af306d5aa420c3",
      "3ed3cafe88e24fa5b0da019faa78799c",
      "9538ded5d83b4807b0dee5ec665dfacf",
      "e445dd51269b4c408ff2cd0a872a8734",
      "935a00e0eb2a412baadbabd66da1c599",
      "3ef543b68a764f8b831f74d5ffb6298f",
      "3dfb2d0c481c401a8318ae3dc761b2a9",
      "e1c1066431744b6b98eab3a94c3633ac",
      "23d6fd7e3c2e4766a573f0ffb7c42e83",
      "13b718238ed4431d8af78d23d319e021",
      "07399c1fe18743f4b6dcd31e617008d2",
      "6f0e2a0084c548128c9474bffa03576d",
      "f792a85c2dd4472f84e3f92daf7ef7e9",
      "aa5552d2842942f9ab788ccf4faf6a77",
      "546adc10f6e445179cb87970aa4c62ab",
      "614e80477c3f4694a4496b103364c411",
      "c636ced59ce64de1b8ad86a9d385121e",
      "9721a491e1484dd8909a77a71fd1215c",
      "9e90fced3fea4d8588aaecf5d7c6cfd2",
      "e86320c25ca0479bba741f0d03acd2ab",
      "06032833387947f186dfd79e5a6db26b",
      "759a1daa7a7e4be3913e9e27f3cf490b",
      "0fed3ffcc2984da59f2d3329cb76c019",
      "bdc01cab92594c4f8c8655b3479046b3",
      "2b5ca069439146d4bd3ebacdf25204b2",
      "2002c2ad9e1f4b6ea8f77eac7988e247",
      "464e9f7d469e44ac80db472f39b0db13",
      "63a33c068e38476aa9baa2067aeee2e7",
      "03b74be1f73e45a1add365e7616257f0",
      "b3a6fcbb121d45a3b4d726894feaa010",
      "8f3f5253ab864bc59d2be3e5a472aa9a",
      "ac4136413d3f4084867380c149d2efe5",
      "e537587c1a664ec7b8f94409f9fb7b8b",
      "ced47bb2e1eb494d8a578bce731e0b62",
      "e7a0d9d1830a46548d44b26535388265",
      "2448dd596a9f4af3a73fb33efa39e15d",
      "4326461fe100448e9739cb304f032684",
      "ddf11ae20780493fb6b52c06e02a5aec",
      "124e9bc0dfda4041ace5739daea06bff",
      "4e3f09cac8f744a085ee8becb5cf28e5",
      "a66ec356af794954a7f8b5e5e8f72991",
      "039bb440f92d487f933c4d70d353a108",
      "29052f859bcb4c989a5a5e7601b2b839",
      "a0aeafbb030843d4b1c715ec96c0047a",
      "c5acc5384b6f4c749712fc93b4084be0",
      "635b87c73e7344c89ffd03f58baab5fe",
      "4f16c228cb6c46ffab56c962798674bb",
      "1dad404825a64237bb302793bbeb287b",
      "34da4e50f10c4affb046a7faa6860784",
      "b8533b60010f4b6189c93907662a5692",
      "3f5a995a815f49e599762535d72cc078",
      "28814c96ef2242d1a958ba5c72c575dd",
      "e6dcde613a684c9ebfe7ea66802f05ae",
      "c85209db082d446cb468eadd3c506e7f",
      "fbe516a5a8f84d18b968dc8ab417984a",
      "bd0c985e01e64ec6bd460a9a057e46e5",
      "26c5608a59024f838cf7af92d148325e",
      "fd8fad9a09c8461e9d8b1c84b8f06a3d",
      "1d5abfaf06ca4db791b5003a8ab0e24c",
      "a34c0c961c7f45fbb7d9fd05d0ef8247",
      "c0e2cedb7cac49b893bc837b4d30ef91",
      "318ded8218664113a8b5b7424be13cb2",
      "7d66a6ffceb94c88ae34ee174f15cfee",
      "8c31ce7851144eae9817a8d4366d4b0c",
      "b10299bc0fbf43bc9bebd7319d94cbd4",
      "3d83cca87aa94fefb7a8206b8a33aeb4",
      "ef0b26235947431caac62c05e0e9d5d6",
      "2ca3e47328454a41a824e19ee987c2e1"
     ]
    },
    "id": "y6IoFKlclQ9L",
    "outputId": "e2053b33-bf53-4f20-ede8-15d5a1acc3b5"
   },
   "outputs": [
    {
     "name": "stderr",
     "output_type": "stream",
     "text": [
      "Processing...\n"
     ]
    },
    {
     "name": "stdout",
     "output_type": "stream",
     "text": [
      "Train: 1089, Val: 121, Test: 303\n",
      "Target normalization - Mean: 6.502, Std: 1.354\n",
      "Normalized targets - Train mean: -0.000, Train std: 1.000\n",
      "Converting 1089 molecules to graphs...\n"
     ]
    },
    {
     "name": "stderr",
     "output_type": "stream",
     "text": [
      "100%|██████████| 1089/1089 [00:02<00:00, 464.74it/s]\n",
      "Done!\n",
      "Processing...\n"
     ]
    },
    {
     "name": "stdout",
     "output_type": "stream",
     "text": [
      "Successfully converted 1089 molecules\n",
      "Converting 121 molecules to graphs...\n"
     ]
    },
    {
     "name": "stderr",
     "output_type": "stream",
     "text": [
      "100%|██████████| 121/121 [00:00<00:00, 402.95it/s]\n",
      "Done!\n",
      "Processing...\n"
     ]
    },
    {
     "name": "stdout",
     "output_type": "stream",
     "text": [
      "Successfully converted 121 molecules\n",
      "Converting 303 molecules to graphs...\n"
     ]
    },
    {
     "name": "stderr",
     "output_type": "stream",
     "text": [
      "100%|██████████| 303/303 [00:00<00:00, 398.38it/s]\n",
      "Done!\n",
      "INFO:pytorch_lightning.utilities.rank_zero:💡 Tip: For seamless cloud uploads and versioning, try installing [litmodels](https://pypi.org/project/litmodels/) to enable LitModelCheckpoint, which syncs automatically with the Lightning model registry.\n",
      "INFO:pytorch_lightning.utilities.rank_zero:GPU available: False, used: False\n",
      "INFO:pytorch_lightning.utilities.rank_zero:TPU available: False, using: 0 TPU cores\n",
      "INFO:pytorch_lightning.utilities.rank_zero:HPU available: False, using: 0 HPUs\n"
     ]
    },
    {
     "name": "stdout",
     "output_type": "stream",
     "text": [
      "Successfully converted 303 molecules\n",
      "\n",
      "--- Training GNN model... ---\n"
     ]
    },
    {
     "name": "stderr",
     "output_type": "stream",
     "text": [
      "INFO:pytorch_lightning.callbacks.model_summary:\n",
      "  | Name     | Type        | Params | Mode \n",
      "-------------------------------------------------\n",
      "0 | atom_emb | AtomEncoder | 11.1 K | train\n",
      "1 | bond_emb | BondEncoder | 832    | train\n",
      "2 | conv     | NNConv      | 541 K  | train\n",
      "3 | gru      | GRU         | 25.0 K | train\n",
      "4 | mlp      | MLP         | 2.2 K  | train\n",
      "-------------------------------------------------\n",
      "580 K     Trainable params\n",
      "0         Non-trainable params\n",
      "580 K     Total params\n",
      "2.321     Total estimated model params size (MB)\n",
      "36        Modules in train mode\n",
      "0         Modules in eval mode\n"
     ]
    },
    {
     "data": {
      "application/vnd.jupyter.widget-view+json": {
       "model_id": "44aebc31e7d04eac85f12de576c841e6",
       "version_major": 2,
       "version_minor": 0
      },
      "text/plain": [
       "Sanity Checking: |          | 0/? [00:00<?, ?it/s]"
      ]
     },
     "metadata": {},
     "output_type": "display_data"
    },
    {
     "data": {
      "application/vnd.jupyter.widget-view+json": {
       "model_id": "82db7fcdcd6c4220a72c0a3a5a2738be",
       "version_major": 2,
       "version_minor": 0
      },
      "text/plain": [
       "Training: |          | 0/? [00:00<?, ?it/s]"
      ]
     },
     "metadata": {},
     "output_type": "display_data"
    },
    {
     "data": {
      "application/vnd.jupyter.widget-view+json": {
       "model_id": "e257cd1442ff4863a960688eab522e4c",
       "version_major": 2,
       "version_minor": 0
      },
      "text/plain": [
       "Validation: |          | 0/? [00:00<?, ?it/s]"
      ]
     },
     "metadata": {},
     "output_type": "display_data"
    },
    {
     "data": {
      "application/vnd.jupyter.widget-view+json": {
       "model_id": "5a281cb756ac4102a32145f74952223c",
       "version_major": 2,
       "version_minor": 0
      },
      "text/plain": [
       "Validation: |          | 0/? [00:00<?, ?it/s]"
      ]
     },
     "metadata": {},
     "output_type": "display_data"
    },
    {
     "data": {
      "application/vnd.jupyter.widget-view+json": {
       "model_id": "eec47d3dd7834f249c871c9042b5dda9",
       "version_major": 2,
       "version_minor": 0
      },
      "text/plain": [
       "Validation: |          | 0/? [00:00<?, ?it/s]"
      ]
     },
     "metadata": {},
     "output_type": "display_data"
    },
    {
     "data": {
      "application/vnd.jupyter.widget-view+json": {
       "model_id": "1d7103b09ad6495bb25f8c3100539c48",
       "version_major": 2,
       "version_minor": 0
      },
      "text/plain": [
       "Validation: |          | 0/? [00:00<?, ?it/s]"
      ]
     },
     "metadata": {},
     "output_type": "display_data"
    },
    {
     "data": {
      "application/vnd.jupyter.widget-view+json": {
       "model_id": "a2f66ab793984a17a0b1a2eda19fbca9",
       "version_major": 2,
       "version_minor": 0
      },
      "text/plain": [
       "Validation: |          | 0/? [00:00<?, ?it/s]"
      ]
     },
     "metadata": {},
     "output_type": "display_data"
    },
    {
     "data": {
      "application/vnd.jupyter.widget-view+json": {
       "model_id": "94747145848040a5b70861275b5b5291",
       "version_major": 2,
       "version_minor": 0
      },
      "text/plain": [
       "Validation: |          | 0/? [00:00<?, ?it/s]"
      ]
     },
     "metadata": {},
     "output_type": "display_data"
    },
    {
     "data": {
      "application/vnd.jupyter.widget-view+json": {
       "model_id": "cb1f45243e4d4e4bafaa9a4541a36906",
       "version_major": 2,
       "version_minor": 0
      },
      "text/plain": [
       "Validation: |          | 0/? [00:00<?, ?it/s]"
      ]
     },
     "metadata": {},
     "output_type": "display_data"
    },
    {
     "data": {
      "application/vnd.jupyter.widget-view+json": {
       "model_id": "760bd631a6e743228886c3ad717cb414",
       "version_major": 2,
       "version_minor": 0
      },
      "text/plain": [
       "Validation: |          | 0/? [00:00<?, ?it/s]"
      ]
     },
     "metadata": {},
     "output_type": "display_data"
    },
    {
     "data": {
      "application/vnd.jupyter.widget-view+json": {
       "model_id": "262297b83c55469081125feb5b3a1b57",
       "version_major": 2,
       "version_minor": 0
      },
      "text/plain": [
       "Validation: |          | 0/? [00:00<?, ?it/s]"
      ]
     },
     "metadata": {},
     "output_type": "display_data"
    },
    {
     "data": {
      "application/vnd.jupyter.widget-view+json": {
       "model_id": "71e9062a84e54a5b83015c842e54ebd6",
       "version_major": 2,
       "version_minor": 0
      },
      "text/plain": [
       "Validation: |          | 0/? [00:00<?, ?it/s]"
      ]
     },
     "metadata": {},
     "output_type": "display_data"
    },
    {
     "data": {
      "application/vnd.jupyter.widget-view+json": {
       "model_id": "9ce06d61f7bf4e28a8606fd390599147",
       "version_major": 2,
       "version_minor": 0
      },
      "text/plain": [
       "Validation: |          | 0/? [00:00<?, ?it/s]"
      ]
     },
     "metadata": {},
     "output_type": "display_data"
    },
    {
     "data": {
      "application/vnd.jupyter.widget-view+json": {
       "model_id": "971038452dc94f4894e74ca31bdca282",
       "version_major": 2,
       "version_minor": 0
      },
      "text/plain": [
       "Validation: |          | 0/? [00:00<?, ?it/s]"
      ]
     },
     "metadata": {},
     "output_type": "display_data"
    },
    {
     "data": {
      "application/vnd.jupyter.widget-view+json": {
       "model_id": "9f0ff80265e548d8b2a758b900a43e39",
       "version_major": 2,
       "version_minor": 0
      },
      "text/plain": [
       "Validation: |          | 0/? [00:00<?, ?it/s]"
      ]
     },
     "metadata": {},
     "output_type": "display_data"
    },
    {
     "data": {
      "application/vnd.jupyter.widget-view+json": {
       "model_id": "3b4b72a374cc4f07a1e824153cc774ea",
       "version_major": 2,
       "version_minor": 0
      },
      "text/plain": [
       "Validation: |          | 0/? [00:00<?, ?it/s]"
      ]
     },
     "metadata": {},
     "output_type": "display_data"
    },
    {
     "data": {
      "application/vnd.jupyter.widget-view+json": {
       "model_id": "6b95e2f95dc44776acbaa786c0eac0c0",
       "version_major": 2,
       "version_minor": 0
      },
      "text/plain": [
       "Validation: |          | 0/? [00:00<?, ?it/s]"
      ]
     },
     "metadata": {},
     "output_type": "display_data"
    },
    {
     "data": {
      "application/vnd.jupyter.widget-view+json": {
       "model_id": "1b59e5a75f224b3bb8e977d2896742e9",
       "version_major": 2,
       "version_minor": 0
      },
      "text/plain": [
       "Validation: |          | 0/? [00:00<?, ?it/s]"
      ]
     },
     "metadata": {},
     "output_type": "display_data"
    },
    {
     "data": {
      "application/vnd.jupyter.widget-view+json": {
       "model_id": "6cc3da96d14b49b5a60ff4c523ae0df2",
       "version_major": 2,
       "version_minor": 0
      },
      "text/plain": [
       "Validation: |          | 0/? [00:00<?, ?it/s]"
      ]
     },
     "metadata": {},
     "output_type": "display_data"
    },
    {
     "data": {
      "application/vnd.jupyter.widget-view+json": {
       "model_id": "d1992fc4a7ad4979b8ffe6ada57de709",
       "version_major": 2,
       "version_minor": 0
      },
      "text/plain": [
       "Validation: |          | 0/? [00:00<?, ?it/s]"
      ]
     },
     "metadata": {},
     "output_type": "display_data"
    },
    {
     "data": {
      "application/vnd.jupyter.widget-view+json": {
       "model_id": "22a348017f0b41a89558860d6fe60f94",
       "version_major": 2,
       "version_minor": 0
      },
      "text/plain": [
       "Validation: |          | 0/? [00:00<?, ?it/s]"
      ]
     },
     "metadata": {},
     "output_type": "display_data"
    },
    {
     "data": {
      "application/vnd.jupyter.widget-view+json": {
       "model_id": "0913dc8c558a4545aa855899052a45d0",
       "version_major": 2,
       "version_minor": 0
      },
      "text/plain": [
       "Validation: |          | 0/? [00:00<?, ?it/s]"
      ]
     },
     "metadata": {},
     "output_type": "display_data"
    },
    {
     "data": {
      "application/vnd.jupyter.widget-view+json": {
       "model_id": "82985d74237f4b2c9d5633bf90794202",
       "version_major": 2,
       "version_minor": 0
      },
      "text/plain": [
       "Validation: |          | 0/? [00:00<?, ?it/s]"
      ]
     },
     "metadata": {},
     "output_type": "display_data"
    },
    {
     "data": {
      "application/vnd.jupyter.widget-view+json": {
       "model_id": "74440f1f14e1445a9bd8e7c5c86a4c75",
       "version_major": 2,
       "version_minor": 0
      },
      "text/plain": [
       "Validation: |          | 0/? [00:00<?, ?it/s]"
      ]
     },
     "metadata": {},
     "output_type": "display_data"
    },
    {
     "data": {
      "application/vnd.jupyter.widget-view+json": {
       "model_id": "50b8aff179224275ab1c952de89b5c5b",
       "version_major": 2,
       "version_minor": 0
      },
      "text/plain": [
       "Validation: |          | 0/? [00:00<?, ?it/s]"
      ]
     },
     "metadata": {},
     "output_type": "display_data"
    },
    {
     "data": {
      "application/vnd.jupyter.widget-view+json": {
       "model_id": "75ad3ff4c18846b69404ee2ae01b0373",
       "version_major": 2,
       "version_minor": 0
      },
      "text/plain": [
       "Validation: |          | 0/? [00:00<?, ?it/s]"
      ]
     },
     "metadata": {},
     "output_type": "display_data"
    },
    {
     "data": {
      "application/vnd.jupyter.widget-view+json": {
       "model_id": "b54faf326209477dba7f2d8927cc321d",
       "version_major": 2,
       "version_minor": 0
      },
      "text/plain": [
       "Validation: |          | 0/? [00:00<?, ?it/s]"
      ]
     },
     "metadata": {},
     "output_type": "display_data"
    },
    {
     "data": {
      "application/vnd.jupyter.widget-view+json": {
       "model_id": "06df5bccd15a48ebafc5613cb64544c1",
       "version_major": 2,
       "version_minor": 0
      },
      "text/plain": [
       "Validation: |          | 0/? [00:00<?, ?it/s]"
      ]
     },
     "metadata": {},
     "output_type": "display_data"
    },
    {
     "data": {
      "application/vnd.jupyter.widget-view+json": {
       "model_id": "02fd058d072f4972804229357826d99a",
       "version_major": 2,
       "version_minor": 0
      },
      "text/plain": [
       "Validation: |          | 0/? [00:00<?, ?it/s]"
      ]
     },
     "metadata": {},
     "output_type": "display_data"
    },
    {
     "data": {
      "application/vnd.jupyter.widget-view+json": {
       "model_id": "ed114f94e60944189fc1ec13df7f93a1",
       "version_major": 2,
       "version_minor": 0
      },
      "text/plain": [
       "Validation: |          | 0/? [00:00<?, ?it/s]"
      ]
     },
     "metadata": {},
     "output_type": "display_data"
    },
    {
     "data": {
      "application/vnd.jupyter.widget-view+json": {
       "model_id": "965fd51b20c04960932cd7b384689a2e",
       "version_major": 2,
       "version_minor": 0
      },
      "text/plain": [
       "Validation: |          | 0/? [00:00<?, ?it/s]"
      ]
     },
     "metadata": {},
     "output_type": "display_data"
    },
    {
     "data": {
      "application/vnd.jupyter.widget-view+json": {
       "model_id": "38f507f805d04dbd802c94637a959bbd",
       "version_major": 2,
       "version_minor": 0
      },
      "text/plain": [
       "Validation: |          | 0/? [00:00<?, ?it/s]"
      ]
     },
     "metadata": {},
     "output_type": "display_data"
    },
    {
     "data": {
      "application/vnd.jupyter.widget-view+json": {
       "model_id": "63b2c871caf94a21a5c46cc195307799",
       "version_major": 2,
       "version_minor": 0
      },
      "text/plain": [
       "Validation: |          | 0/? [00:00<?, ?it/s]"
      ]
     },
     "metadata": {},
     "output_type": "display_data"
    },
    {
     "data": {
      "application/vnd.jupyter.widget-view+json": {
       "model_id": "be5d887154a94a88b0d6be47e3db1489",
       "version_major": 2,
       "version_minor": 0
      },
      "text/plain": [
       "Validation: |          | 0/? [00:00<?, ?it/s]"
      ]
     },
     "metadata": {},
     "output_type": "display_data"
    },
    {
     "data": {
      "application/vnd.jupyter.widget-view+json": {
       "model_id": "6f52b031f00243db9719181c4b106693",
       "version_major": 2,
       "version_minor": 0
      },
      "text/plain": [
       "Validation: |          | 0/? [00:00<?, ?it/s]"
      ]
     },
     "metadata": {},
     "output_type": "display_data"
    },
    {
     "data": {
      "application/vnd.jupyter.widget-view+json": {
       "model_id": "82d0a7f05952433d9bd275162007289d",
       "version_major": 2,
       "version_minor": 0
      },
      "text/plain": [
       "Validation: |          | 0/? [00:00<?, ?it/s]"
      ]
     },
     "metadata": {},
     "output_type": "display_data"
    },
    {
     "data": {
      "application/vnd.jupyter.widget-view+json": {
       "model_id": "908b03a08eb9495dbca3446e419f3e76",
       "version_major": 2,
       "version_minor": 0
      },
      "text/plain": [
       "Validation: |          | 0/? [00:00<?, ?it/s]"
      ]
     },
     "metadata": {},
     "output_type": "display_data"
    },
    {
     "data": {
      "application/vnd.jupyter.widget-view+json": {
       "model_id": "2aeba2bf37534381bf5355f8c8e59de0",
       "version_major": 2,
       "version_minor": 0
      },
      "text/plain": [
       "Validation: |          | 0/? [00:00<?, ?it/s]"
      ]
     },
     "metadata": {},
     "output_type": "display_data"
    },
    {
     "data": {
      "application/vnd.jupyter.widget-view+json": {
       "model_id": "11538c97736243ad961b1fe2dbb67518",
       "version_major": 2,
       "version_minor": 0
      },
      "text/plain": [
       "Validation: |          | 0/? [00:00<?, ?it/s]"
      ]
     },
     "metadata": {},
     "output_type": "display_data"
    },
    {
     "data": {
      "application/vnd.jupyter.widget-view+json": {
       "model_id": "2695227fe6874700b8efc86c57f23432",
       "version_major": 2,
       "version_minor": 0
      },
      "text/plain": [
       "Validation: |          | 0/? [00:00<?, ?it/s]"
      ]
     },
     "metadata": {},
     "output_type": "display_data"
    },
    {
     "data": {
      "application/vnd.jupyter.widget-view+json": {
       "model_id": "7f99b8f0cb8f4097b670094095edcb51",
       "version_major": 2,
       "version_minor": 0
      },
      "text/plain": [
       "Validation: |          | 0/? [00:00<?, ?it/s]"
      ]
     },
     "metadata": {},
     "output_type": "display_data"
    },
    {
     "data": {
      "application/vnd.jupyter.widget-view+json": {
       "model_id": "97d781f4d38b4f91a85f7f4638bada04",
       "version_major": 2,
       "version_minor": 0
      },
      "text/plain": [
       "Validation: |          | 0/? [00:00<?, ?it/s]"
      ]
     },
     "metadata": {},
     "output_type": "display_data"
    },
    {
     "data": {
      "application/vnd.jupyter.widget-view+json": {
       "model_id": "881f85fd5dfc4595b2d50fa051c5ed3f",
       "version_major": 2,
       "version_minor": 0
      },
      "text/plain": [
       "Validation: |          | 0/? [00:00<?, ?it/s]"
      ]
     },
     "metadata": {},
     "output_type": "display_data"
    },
    {
     "data": {
      "application/vnd.jupyter.widget-view+json": {
       "model_id": "e3cc16abbd294a91ae3c7b6075a04104",
       "version_major": 2,
       "version_minor": 0
      },
      "text/plain": [
       "Validation: |          | 0/? [00:00<?, ?it/s]"
      ]
     },
     "metadata": {},
     "output_type": "display_data"
    },
    {
     "data": {
      "application/vnd.jupyter.widget-view+json": {
       "model_id": "53731d47f9214f4ba3e325dd011f33ce",
       "version_major": 2,
       "version_minor": 0
      },
      "text/plain": [
       "Validation: |          | 0/? [00:00<?, ?it/s]"
      ]
     },
     "metadata": {},
     "output_type": "display_data"
    },
    {
     "data": {
      "application/vnd.jupyter.widget-view+json": {
       "model_id": "17bed9c84783433daf08d7085d3e35ef",
       "version_major": 2,
       "version_minor": 0
      },
      "text/plain": [
       "Validation: |          | 0/? [00:00<?, ?it/s]"
      ]
     },
     "metadata": {},
     "output_type": "display_data"
    },
    {
     "data": {
      "application/vnd.jupyter.widget-view+json": {
       "model_id": "da32020c41224496b3eed8f1c17e3752",
       "version_major": 2,
       "version_minor": 0
      },
      "text/plain": [
       "Validation: |          | 0/? [00:00<?, ?it/s]"
      ]
     },
     "metadata": {},
     "output_type": "display_data"
    },
    {
     "data": {
      "application/vnd.jupyter.widget-view+json": {
       "model_id": "9b5f703ba1e94db5964e66ceb69136a9",
       "version_major": 2,
       "version_minor": 0
      },
      "text/plain": [
       "Validation: |          | 0/? [00:00<?, ?it/s]"
      ]
     },
     "metadata": {},
     "output_type": "display_data"
    },
    {
     "data": {
      "application/vnd.jupyter.widget-view+json": {
       "model_id": "7ecfe530437f4535b8c77c5aa87a0387",
       "version_major": 2,
       "version_minor": 0
      },
      "text/plain": [
       "Validation: |          | 0/? [00:00<?, ?it/s]"
      ]
     },
     "metadata": {},
     "output_type": "display_data"
    },
    {
     "data": {
      "application/vnd.jupyter.widget-view+json": {
       "model_id": "19c7bdc3b32c46c08b523ce7fd90fdd0",
       "version_major": 2,
       "version_minor": 0
      },
      "text/plain": [
       "Validation: |          | 0/? [00:00<?, ?it/s]"
      ]
     },
     "metadata": {},
     "output_type": "display_data"
    },
    {
     "data": {
      "application/vnd.jupyter.widget-view+json": {
       "model_id": "8005889e51ca4e18b6a867848b6c6ebf",
       "version_major": 2,
       "version_minor": 0
      },
      "text/plain": [
       "Validation: |          | 0/? [00:00<?, ?it/s]"
      ]
     },
     "metadata": {},
     "output_type": "display_data"
    },
    {
     "data": {
      "application/vnd.jupyter.widget-view+json": {
       "model_id": "617679ab6e5a443baf1e2016aa97bafd",
       "version_major": 2,
       "version_minor": 0
      },
      "text/plain": [
       "Validation: |          | 0/? [00:00<?, ?it/s]"
      ]
     },
     "metadata": {},
     "output_type": "display_data"
    },
    {
     "data": {
      "application/vnd.jupyter.widget-view+json": {
       "model_id": "84a43f80eb114853afa8b39544273c30",
       "version_major": 2,
       "version_minor": 0
      },
      "text/plain": [
       "Validation: |          | 0/? [00:00<?, ?it/s]"
      ]
     },
     "metadata": {},
     "output_type": "display_data"
    },
    {
     "data": {
      "application/vnd.jupyter.widget-view+json": {
       "model_id": "2aac2df499ff488e8bb4a4e467ddd2c3",
       "version_major": 2,
       "version_minor": 0
      },
      "text/plain": [
       "Validation: |          | 0/? [00:00<?, ?it/s]"
      ]
     },
     "metadata": {},
     "output_type": "display_data"
    },
    {
     "data": {
      "application/vnd.jupyter.widget-view+json": {
       "model_id": "e54c3329b19642fbac851e352284b131",
       "version_major": 2,
       "version_minor": 0
      },
      "text/plain": [
       "Validation: |          | 0/? [00:00<?, ?it/s]"
      ]
     },
     "metadata": {},
     "output_type": "display_data"
    },
    {
     "data": {
      "application/vnd.jupyter.widget-view+json": {
       "model_id": "82d3d978994949f3abb34e29fb3ab157",
       "version_major": 2,
       "version_minor": 0
      },
      "text/plain": [
       "Validation: |          | 0/? [00:00<?, ?it/s]"
      ]
     },
     "metadata": {},
     "output_type": "display_data"
    },
    {
     "data": {
      "application/vnd.jupyter.widget-view+json": {
       "model_id": "a8ff19250b4f44fe8b859edac82c5328",
       "version_major": 2,
       "version_minor": 0
      },
      "text/plain": [
       "Validation: |          | 0/? [00:00<?, ?it/s]"
      ]
     },
     "metadata": {},
     "output_type": "display_data"
    },
    {
     "data": {
      "application/vnd.jupyter.widget-view+json": {
       "model_id": "9e30db22a9b1400ebb0d8dd9fab73099",
       "version_major": 2,
       "version_minor": 0
      },
      "text/plain": [
       "Validation: |          | 0/? [00:00<?, ?it/s]"
      ]
     },
     "metadata": {},
     "output_type": "display_data"
    },
    {
     "data": {
      "application/vnd.jupyter.widget-view+json": {
       "model_id": "25619d2d469d4ab583a9f62489389eb6",
       "version_major": 2,
       "version_minor": 0
      },
      "text/plain": [
       "Validation: |          | 0/? [00:00<?, ?it/s]"
      ]
     },
     "metadata": {},
     "output_type": "display_data"
    },
    {
     "data": {
      "application/vnd.jupyter.widget-view+json": {
       "model_id": "abfd0c098d35411d8d989cf099557844",
       "version_major": 2,
       "version_minor": 0
      },
      "text/plain": [
       "Validation: |          | 0/? [00:00<?, ?it/s]"
      ]
     },
     "metadata": {},
     "output_type": "display_data"
    },
    {
     "data": {
      "application/vnd.jupyter.widget-view+json": {
       "model_id": "8c3767d438eb475dbefc69ab56d0c79d",
       "version_major": 2,
       "version_minor": 0
      },
      "text/plain": [
       "Validation: |          | 0/? [00:00<?, ?it/s]"
      ]
     },
     "metadata": {},
     "output_type": "display_data"
    },
    {
     "data": {
      "application/vnd.jupyter.widget-view+json": {
       "model_id": "73bdb0a043574c0b8ee5e71f3b2c84d0",
       "version_major": 2,
       "version_minor": 0
      },
      "text/plain": [
       "Validation: |          | 0/? [00:00<?, ?it/s]"
      ]
     },
     "metadata": {},
     "output_type": "display_data"
    },
    {
     "data": {
      "application/vnd.jupyter.widget-view+json": {
       "model_id": "dfde227587bd48a19983f6c9f7074ea6",
       "version_major": 2,
       "version_minor": 0
      },
      "text/plain": [
       "Validation: |          | 0/? [00:00<?, ?it/s]"
      ]
     },
     "metadata": {},
     "output_type": "display_data"
    },
    {
     "data": {
      "application/vnd.jupyter.widget-view+json": {
       "model_id": "dcb1084045ae48869be311b404bfcea7",
       "version_major": 2,
       "version_minor": 0
      },
      "text/plain": [
       "Validation: |          | 0/? [00:00<?, ?it/s]"
      ]
     },
     "metadata": {},
     "output_type": "display_data"
    },
    {
     "data": {
      "application/vnd.jupyter.widget-view+json": {
       "model_id": "732962924684431cbcefb678c011fd07",
       "version_major": 2,
       "version_minor": 0
      },
      "text/plain": [
       "Validation: |          | 0/? [00:00<?, ?it/s]"
      ]
     },
     "metadata": {},
     "output_type": "display_data"
    },
    {
     "data": {
      "application/vnd.jupyter.widget-view+json": {
       "model_id": "7233e6a3d8744881824c52ab6f29f79c",
       "version_major": 2,
       "version_minor": 0
      },
      "text/plain": [
       "Validation: |          | 0/? [00:00<?, ?it/s]"
      ]
     },
     "metadata": {},
     "output_type": "display_data"
    },
    {
     "data": {
      "application/vnd.jupyter.widget-view+json": {
       "model_id": "c4a47b1f10764a4db9089181a16bbf0d",
       "version_major": 2,
       "version_minor": 0
      },
      "text/plain": [
       "Validation: |          | 0/? [00:00<?, ?it/s]"
      ]
     },
     "metadata": {},
     "output_type": "display_data"
    },
    {
     "data": {
      "application/vnd.jupyter.widget-view+json": {
       "model_id": "9a36a5402d2c4d71bb5214f5d7bb085b",
       "version_major": 2,
       "version_minor": 0
      },
      "text/plain": [
       "Validation: |          | 0/? [00:00<?, ?it/s]"
      ]
     },
     "metadata": {},
     "output_type": "display_data"
    },
    {
     "data": {
      "application/vnd.jupyter.widget-view+json": {
       "model_id": "fa70aad4696141b5a6b315df3d5b8477",
       "version_major": 2,
       "version_minor": 0
      },
      "text/plain": [
       "Validation: |          | 0/? [00:00<?, ?it/s]"
      ]
     },
     "metadata": {},
     "output_type": "display_data"
    },
    {
     "data": {
      "application/vnd.jupyter.widget-view+json": {
       "model_id": "b7ae70c1c3004b6a8998f368d3808bdd",
       "version_major": 2,
       "version_minor": 0
      },
      "text/plain": [
       "Validation: |          | 0/? [00:00<?, ?it/s]"
      ]
     },
     "metadata": {},
     "output_type": "display_data"
    },
    {
     "data": {
      "application/vnd.jupyter.widget-view+json": {
       "model_id": "2dca62a771ca486982d00308f50c3ddd",
       "version_major": 2,
       "version_minor": 0
      },
      "text/plain": [
       "Validation: |          | 0/? [00:00<?, ?it/s]"
      ]
     },
     "metadata": {},
     "output_type": "display_data"
    },
    {
     "data": {
      "application/vnd.jupyter.widget-view+json": {
       "model_id": "083f535203f44e5aa0b6c3caf6ac4a44",
       "version_major": 2,
       "version_minor": 0
      },
      "text/plain": [
       "Validation: |          | 0/? [00:00<?, ?it/s]"
      ]
     },
     "metadata": {},
     "output_type": "display_data"
    },
    {
     "data": {
      "application/vnd.jupyter.widget-view+json": {
       "model_id": "69bc8aa404404be2a5e76e29da34409d",
       "version_major": 2,
       "version_minor": 0
      },
      "text/plain": [
       "Validation: |          | 0/? [00:00<?, ?it/s]"
      ]
     },
     "metadata": {},
     "output_type": "display_data"
    },
    {
     "data": {
      "application/vnd.jupyter.widget-view+json": {
       "model_id": "fded43c5e946403fb356fb382b58cb1b",
       "version_major": 2,
       "version_minor": 0
      },
      "text/plain": [
       "Validation: |          | 0/? [00:00<?, ?it/s]"
      ]
     },
     "metadata": {},
     "output_type": "display_data"
    },
    {
     "data": {
      "application/vnd.jupyter.widget-view+json": {
       "model_id": "01794209bc3b4b639b54f036bd1cd228",
       "version_major": 2,
       "version_minor": 0
      },
      "text/plain": [
       "Validation: |          | 0/? [00:00<?, ?it/s]"
      ]
     },
     "metadata": {},
     "output_type": "display_data"
    },
    {
     "data": {
      "application/vnd.jupyter.widget-view+json": {
       "model_id": "7f26913fa15248e2a4b466f17269564f",
       "version_major": 2,
       "version_minor": 0
      },
      "text/plain": [
       "Validation: |          | 0/? [00:00<?, ?it/s]"
      ]
     },
     "metadata": {},
     "output_type": "display_data"
    },
    {
     "data": {
      "application/vnd.jupyter.widget-view+json": {
       "model_id": "4a863d22f08f44299d786edb04242222",
       "version_major": 2,
       "version_minor": 0
      },
      "text/plain": [
       "Validation: |          | 0/? [00:00<?, ?it/s]"
      ]
     },
     "metadata": {},
     "output_type": "display_data"
    },
    {
     "data": {
      "application/vnd.jupyter.widget-view+json": {
       "model_id": "4bc62bd91af04c8897bfb914683615ae",
       "version_major": 2,
       "version_minor": 0
      },
      "text/plain": [
       "Validation: |          | 0/? [00:00<?, ?it/s]"
      ]
     },
     "metadata": {},
     "output_type": "display_data"
    },
    {
     "data": {
      "application/vnd.jupyter.widget-view+json": {
       "model_id": "4238d2e4d94b4eb68a5ace11e775a6e5",
       "version_major": 2,
       "version_minor": 0
      },
      "text/plain": [
       "Validation: |          | 0/? [00:00<?, ?it/s]"
      ]
     },
     "metadata": {},
     "output_type": "display_data"
    },
    {
     "data": {
      "application/vnd.jupyter.widget-view+json": {
       "model_id": "10cb9598dcd545c8bf296f11dabe43e8",
       "version_major": 2,
       "version_minor": 0
      },
      "text/plain": [
       "Validation: |          | 0/? [00:00<?, ?it/s]"
      ]
     },
     "metadata": {},
     "output_type": "display_data"
    },
    {
     "data": {
      "application/vnd.jupyter.widget-view+json": {
       "model_id": "ea56e0225abe49d99fa6d397ca935bf0",
       "version_major": 2,
       "version_minor": 0
      },
      "text/plain": [
       "Validation: |          | 0/? [00:00<?, ?it/s]"
      ]
     },
     "metadata": {},
     "output_type": "display_data"
    },
    {
     "data": {
      "application/vnd.jupyter.widget-view+json": {
       "model_id": "d2d938a1c9f641b7a54460a9d9393797",
       "version_major": 2,
       "version_minor": 0
      },
      "text/plain": [
       "Validation: |          | 0/? [00:00<?, ?it/s]"
      ]
     },
     "metadata": {},
     "output_type": "display_data"
    },
    {
     "data": {
      "application/vnd.jupyter.widget-view+json": {
       "model_id": "c9f42ce00a5149b891d12e73cf2d2c63",
       "version_major": 2,
       "version_minor": 0
      },
      "text/plain": [
       "Validation: |          | 0/? [00:00<?, ?it/s]"
      ]
     },
     "metadata": {},
     "output_type": "display_data"
    },
    {
     "data": {
      "application/vnd.jupyter.widget-view+json": {
       "model_id": "1a5ee083512e4888a8ea5eb44bb1a567",
       "version_major": 2,
       "version_minor": 0
      },
      "text/plain": [
       "Validation: |          | 0/? [00:00<?, ?it/s]"
      ]
     },
     "metadata": {},
     "output_type": "display_data"
    },
    {
     "data": {
      "application/vnd.jupyter.widget-view+json": {
       "model_id": "788195d9adae4caa90ac40de420f67e3",
       "version_major": 2,
       "version_minor": 0
      },
      "text/plain": [
       "Validation: |          | 0/? [00:00<?, ?it/s]"
      ]
     },
     "metadata": {},
     "output_type": "display_data"
    },
    {
     "data": {
      "application/vnd.jupyter.widget-view+json": {
       "model_id": "c32ac71283e34989bc5464ee58eca399",
       "version_major": 2,
       "version_minor": 0
      },
      "text/plain": [
       "Validation: |          | 0/? [00:00<?, ?it/s]"
      ]
     },
     "metadata": {},
     "output_type": "display_data"
    },
    {
     "data": {
      "application/vnd.jupyter.widget-view+json": {
       "model_id": "e2abade4cb5d42479b027a4e87084b5b",
       "version_major": 2,
       "version_minor": 0
      },
      "text/plain": [
       "Validation: |          | 0/? [00:00<?, ?it/s]"
      ]
     },
     "metadata": {},
     "output_type": "display_data"
    },
    {
     "data": {
      "application/vnd.jupyter.widget-view+json": {
       "model_id": "2eec05accb4e4bdcbc37ac9d824c0db2",
       "version_major": 2,
       "version_minor": 0
      },
      "text/plain": [
       "Validation: |          | 0/? [00:00<?, ?it/s]"
      ]
     },
     "metadata": {},
     "output_type": "display_data"
    },
    {
     "data": {
      "application/vnd.jupyter.widget-view+json": {
       "model_id": "68f0ad9f36e749749b6635abcedeb19c",
       "version_major": 2,
       "version_minor": 0
      },
      "text/plain": [
       "Validation: |          | 0/? [00:00<?, ?it/s]"
      ]
     },
     "metadata": {},
     "output_type": "display_data"
    },
    {
     "data": {
      "application/vnd.jupyter.widget-view+json": {
       "model_id": "6c4f9444c8fb4c428899a0a0768f70d1",
       "version_major": 2,
       "version_minor": 0
      },
      "text/plain": [
       "Validation: |          | 0/? [00:00<?, ?it/s]"
      ]
     },
     "metadata": {},
     "output_type": "display_data"
    },
    {
     "data": {
      "application/vnd.jupyter.widget-view+json": {
       "model_id": "f021f9bab28b4647a7d83f0c38912d18",
       "version_major": 2,
       "version_minor": 0
      },
      "text/plain": [
       "Validation: |          | 0/? [00:00<?, ?it/s]"
      ]
     },
     "metadata": {},
     "output_type": "display_data"
    },
    {
     "data": {
      "application/vnd.jupyter.widget-view+json": {
       "model_id": "ed0bb539a98f4fba8196ea06c1cfc87f",
       "version_major": 2,
       "version_minor": 0
      },
      "text/plain": [
       "Validation: |          | 0/? [00:00<?, ?it/s]"
      ]
     },
     "metadata": {},
     "output_type": "display_data"
    },
    {
     "data": {
      "application/vnd.jupyter.widget-view+json": {
       "model_id": "0fbb345c329e4242a1c7405d590c410c",
       "version_major": 2,
       "version_minor": 0
      },
      "text/plain": [
       "Validation: |          | 0/? [00:00<?, ?it/s]"
      ]
     },
     "metadata": {},
     "output_type": "display_data"
    },
    {
     "data": {
      "application/vnd.jupyter.widget-view+json": {
       "model_id": "cfb7878a8de44a5d98139c2d4c912f2d",
       "version_major": 2,
       "version_minor": 0
      },
      "text/plain": [
       "Validation: |          | 0/? [00:00<?, ?it/s]"
      ]
     },
     "metadata": {},
     "output_type": "display_data"
    },
    {
     "data": {
      "application/vnd.jupyter.widget-view+json": {
       "model_id": "27c440b366a840fa901cf6806661c962",
       "version_major": 2,
       "version_minor": 0
      },
      "text/plain": [
       "Validation: |          | 0/? [00:00<?, ?it/s]"
      ]
     },
     "metadata": {},
     "output_type": "display_data"
    },
    {
     "data": {
      "application/vnd.jupyter.widget-view+json": {
       "model_id": "2b9f58568b8a4eefadd7d527dbba2d47",
       "version_major": 2,
       "version_minor": 0
      },
      "text/plain": [
       "Validation: |          | 0/? [00:00<?, ?it/s]"
      ]
     },
     "metadata": {},
     "output_type": "display_data"
    },
    {
     "data": {
      "application/vnd.jupyter.widget-view+json": {
       "model_id": "b2a294122a7e441190f7035bfc421dfd",
       "version_major": 2,
       "version_minor": 0
      },
      "text/plain": [
       "Validation: |          | 0/? [00:00<?, ?it/s]"
      ]
     },
     "metadata": {},
     "output_type": "display_data"
    },
    {
     "data": {
      "application/vnd.jupyter.widget-view+json": {
       "model_id": "9538ded5d83b4807b0dee5ec665dfacf",
       "version_major": 2,
       "version_minor": 0
      },
      "text/plain": [
       "Validation: |          | 0/? [00:00<?, ?it/s]"
      ]
     },
     "metadata": {},
     "output_type": "display_data"
    },
    {
     "data": {
      "application/vnd.jupyter.widget-view+json": {
       "model_id": "aa5552d2842942f9ab788ccf4faf6a77",
       "version_major": 2,
       "version_minor": 0
      },
      "text/plain": [
       "Validation: |          | 0/? [00:00<?, ?it/s]"
      ]
     },
     "metadata": {},
     "output_type": "display_data"
    },
    {
     "data": {
      "application/vnd.jupyter.widget-view+json": {
       "model_id": "2b5ca069439146d4bd3ebacdf25204b2",
       "version_major": 2,
       "version_minor": 0
      },
      "text/plain": [
       "Validation: |          | 0/? [00:00<?, ?it/s]"
      ]
     },
     "metadata": {},
     "output_type": "display_data"
    },
    {
     "data": {
      "application/vnd.jupyter.widget-view+json": {
       "model_id": "2448dd596a9f4af3a73fb33efa39e15d",
       "version_major": 2,
       "version_minor": 0
      },
      "text/plain": [
       "Validation: |          | 0/? [00:00<?, ?it/s]"
      ]
     },
     "metadata": {},
     "output_type": "display_data"
    },
    {
     "data": {
      "application/vnd.jupyter.widget-view+json": {
       "model_id": "4f16c228cb6c46ffab56c962798674bb",
       "version_major": 2,
       "version_minor": 0
      },
      "text/plain": [
       "Validation: |          | 0/? [00:00<?, ?it/s]"
      ]
     },
     "metadata": {},
     "output_type": "display_data"
    },
    {
     "name": "stderr",
     "output_type": "stream",
     "text": [
      "INFO:pytorch_lightning.utilities.rank_zero:`Trainer.fit` stopped: `max_epochs=100` reached.\n"
     ]
    },
    {
     "name": "stdout",
     "output_type": "stream",
     "text": [
      "\n",
      "--- Evaluating on test set... ---\n"
     ]
    },
    {
     "data": {
      "application/vnd.jupyter.widget-view+json": {
       "model_id": "fd8fad9a09c8461e9d8b1c84b8f06a3d",
       "version_major": 2,
       "version_minor": 0
      },
      "text/plain": [
       "Testing: |          | 0/? [00:00<?, ?it/s]"
      ]
     },
     "metadata": {},
     "output_type": "display_data"
    },
    {
     "name": "stdout",
     "output_type": "stream",
     "text": [
      "\n",
      "======================================================================\n",
      "Final GNN Performance on BACE Test Set\n",
      "======================================================================\n",
      "MSE:  0.4098\n",
      "RMSE: 0.6401\n",
      "======================================================================\n",
      "\n"
     ]
    },
    {
     "data": {
      "text/html": [
       "<pre style=\"white-space:pre;overflow-x:auto;line-height:normal;font-family:Menlo,'DejaVu Sans Mono',consolas,'Courier New',monospace\">┏━━━━━━━━━━━━━━━━━━━━━━━━━━━┳━━━━━━━━━━━━━━━━━━━━━━━━━━━┓\n",
       "┃<span style=\"font-weight: bold\">        Test metric        </span>┃<span style=\"font-weight: bold\">       DataLoader 0        </span>┃\n",
       "┡━━━━━━━━━━━━━━━━━━━━━━━━━━━╇━━━━━━━━━━━━━━━━━━━━━━━━━━━┩\n",
       "│<span style=\"color: #008080; text-decoration-color: #008080\">         test_mse          </span>│<span style=\"color: #800080; text-decoration-color: #800080\">    0.40977388620376587    </span>│\n",
       "│<span style=\"color: #008080; text-decoration-color: #008080\">         test_rmse         </span>│<span style=\"color: #800080; text-decoration-color: #800080\">    0.6401358246803284     </span>│\n",
       "└───────────────────────────┴───────────────────────────┘\n",
       "</pre>\n"
      ],
      "text/plain": [
       "┏━━━━━━━━━━━━━━━━━━━━━━━━━━━┳━━━━━━━━━━━━━━━━━━━━━━━━━━━┓\n",
       "┃\u001b[1m \u001b[0m\u001b[1m       Test metric       \u001b[0m\u001b[1m \u001b[0m┃\u001b[1m \u001b[0m\u001b[1m      DataLoader 0       \u001b[0m\u001b[1m \u001b[0m┃\n",
       "┡━━━━━━━━━━━━━━━━━━━━━━━━━━━╇━━━━━━━━━━━━━━━━━━━━━━━━━━━┩\n",
       "│\u001b[36m \u001b[0m\u001b[36m        test_mse         \u001b[0m\u001b[36m \u001b[0m│\u001b[35m \u001b[0m\u001b[35m   0.40977388620376587   \u001b[0m\u001b[35m \u001b[0m│\n",
       "│\u001b[36m \u001b[0m\u001b[36m        test_rmse        \u001b[0m\u001b[36m \u001b[0m│\u001b[35m \u001b[0m\u001b[35m   0.6401358246803284    \u001b[0m\u001b[35m \u001b[0m│\n",
       "└───────────────────────────┴───────────────────────────┘\n"
      ]
     },
     "metadata": {},
     "output_type": "display_data"
    },
    {
     "data": {
      "text/plain": [
       "[{'test_mse': 0.40977388620376587, 'test_rmse': 0.6401358246803284}]"
      ]
     },
     "execution_count": 15,
     "metadata": {},
     "output_type": "execute_result"
    }
   ],
   "source": [
    "# FIRST: Split the dataframe (before creating datasets)\n",
    "train_df, test_df = train_test_split(df_bace, train_size=0.8, random_state=42, shuffle=True)\n",
    "train_df, val_df = train_test_split(train_df, train_size=0.9, random_state=42, shuffle=True)\n",
    "\n",
    "# SECOND: Calculate normalization statistics from TRAINING data only\n",
    "mean_target = train_df['pIC50'].mean()\n",
    "std_target = train_df['pIC50'].std()\n",
    "\n",
    "print(f\"Train: {len(train_df)}, Val: {len(val_df)}, Test: {len(test_df)}\")\n",
    "print(f\"Target normalization - Mean: {mean_target:.3f}, Std: {std_target:.3f}\")\n",
    "\n",
    "# THIRD: Normalize the pIC50 values in each split\n",
    "train_df = train_df.copy()\n",
    "val_df = val_df.copy()\n",
    "test_df = test_df.copy()\n",
    "\n",
    "train_df['pIC50'] = (train_df['pIC50'] - mean_target) / std_target\n",
    "val_df['pIC50'] = (val_df['pIC50'] - mean_target) / std_target\n",
    "test_df['pIC50'] = (test_df['pIC50'] - mean_target) / std_target\n",
    "\n",
    "print(f\"Normalized targets - Train mean: {train_df['pIC50'].mean():.3f}, Train std: {train_df['pIC50'].std():.3f}\")\n",
    "\n",
    "# FOURTH: Create graph datasets with NORMALIZED targets\n",
    "train_dataset = BACEGraphDataset(root='./bace_pyg_train', df=train_df,\n",
    "                                  smiles_col='canonical_smiles', target_col='pIC50')\n",
    "val_dataset = BACEGraphDataset(root='./bace_pyg_val', df=val_df,\n",
    "                                smiles_col='canonical_smiles', target_col='pIC50')\n",
    "test_dataset = BACEGraphDataset(root='./bace_pyg_test', df=test_df,\n",
    "                                 smiles_col='canonical_smiles', target_col='pIC50')\n",
    "\n",
    "# Create DataLoaders\n",
    "train_loader = DataLoader(train_dataset, batch_size=32, shuffle=True, drop_last=True)\n",
    "val_loader = DataLoader(val_dataset, batch_size=32, shuffle=False, drop_last=True)\n",
    "test_loader = DataLoader(test_dataset, batch_size=32, shuffle=False, drop_last=False)\n",
    "\n",
    "# Initialize and Train the GNN Model (WITH BOTH MEAN AND STD!)\n",
    "gnn_model = MPNN_BACE(hidden_dim=64, out_dim=1, mean=mean_target, std=std_target, lr=0.001)\n",
    "\n",
    "# PyTorch Lightning Trainer\n",
    "trainer = pl.Trainer(\n",
    "    max_epochs=100,\n",
    "    log_every_n_steps=10,\n",
    "    accelerator='auto'\n",
    ")\n",
    "\n",
    "print(\"\\n--- Training GNN model... ---\")\n",
    "trainer.fit(model=gnn_model, train_dataloaders=train_loader, val_dataloaders=val_loader)\n",
    "\n",
    "# Evaluation on test set\n",
    "print(\"\\n--- Evaluating on test set... ---\")\n",
    "trainer.test(model=gnn_model, dataloaders=test_loader)"
   ]
  }
 ],
 "metadata": {
  "colab": {
   "provenance": []
  },
  "kernelspec": {
   "display_name": "Python 3 (ipykernel)",
   "language": "python",
   "name": "python3"
  },
  "language_info": {
   "codemirror_mode": {
    "name": "ipython",
    "version": 3
   },
   "file_extension": ".py",
   "mimetype": "text/x-python",
   "name": "python",
   "nbconvert_exporter": "python",
   "pygments_lexer": "ipython3",
   "version": "3.11.13"
  }
 },
 "nbformat": 4,
 "nbformat_minor": 0
}
