{
 "cells": [
  {
   "cell_type": "markdown",
   "metadata": {
    "id": "DG9lm6CZ4Yv0"
   },
   "source": [
    "# Code"
   ]
  },
  {
   "cell_type": "markdown",
   "metadata": {
    "id": "gZEBSJalq5xF"
   },
   "source": [
    "## Import"
   ]
  },
  {
   "cell_type": "code",
   "execution_count": 6,
   "metadata": {
    "id": "7AeeCDjf35BM"
   },
   "outputs": [],
   "source": [
    "import sys, os\n",
    "sys.path.append(os.getcwd())"
   ]
  },
  {
   "cell_type": "code",
   "execution_count": null,
   "metadata": {
    "id": "6pwRy7yVCWH6"
   },
   "outputs": [],
   "source": [
    "!pip install deepchem rdkit\n",
    "!pip install xgboost\n",
    "!pip install pytorch_lightning"
   ]
  },
  {
   "cell_type": "code",
   "execution_count": null,
   "metadata": {
    "collapsed": true,
    "id": "Z2SaFk_TfZzR",
    "jupyter": {
     "outputs_hidden": true
    }
   },
   "outputs": [],
   "source": [
    "import pandas as pd\n",
    "import numpy as np\n",
    "import matplotlib.pyplot as plt\n",
    "import deepchem as dc\n",
    "from rdkit import Chem\n",
    "from rdkit.Chem import Draw"
   ]
  },
  {
   "cell_type": "markdown",
   "metadata": {
    "id": "BCNYpd92rcgY"
   },
   "source": [
    "## Visualization"
   ]
  },
  {
   "cell_type": "code",
   "execution_count": 9,
   "metadata": {
    "id": "BMB_gTxDf6mF"
   },
   "outputs": [],
   "source": [
    "df=pd.read_csv('data/raw/bace.csv')"
   ]
  },
  {
   "cell_type": "code",
   "execution_count": 10,
   "metadata": {
    "colab": {
     "base_uri": "https://localhost:8080/",
     "height": 565
    },
    "id": "1xRSkzi-geTv",
    "outputId": "db15f7f4-3550-46bf-81ab-ab7d4f9753e6"
   },
   "outputs": [
    {
     "data": {
      "application/vnd.google.colaboratory.intrinsic+json": {
       "type": "dataframe",
       "variable_name": "df"
      },
      "text/html": [
       "\n",
       "  <div id=\"df-a72436b4-e8bc-4739-8394-94fbf9ea34e0\" class=\"colab-df-container\">\n",
       "    <div>\n",
       "<style scoped>\n",
       "    .dataframe tbody tr th:only-of-type {\n",
       "        vertical-align: middle;\n",
       "    }\n",
       "\n",
       "    .dataframe tbody tr th {\n",
       "        vertical-align: top;\n",
       "    }\n",
       "\n",
       "    .dataframe thead th {\n",
       "        text-align: right;\n",
       "    }\n",
       "</style>\n",
       "<table border=\"1\" class=\"dataframe\">\n",
       "  <thead>\n",
       "    <tr style=\"text-align: right;\">\n",
       "      <th></th>\n",
       "      <th>mol</th>\n",
       "      <th>CID</th>\n",
       "      <th>Class</th>\n",
       "      <th>Model</th>\n",
       "      <th>pIC50</th>\n",
       "      <th>MW</th>\n",
       "      <th>AlogP</th>\n",
       "      <th>HBA</th>\n",
       "      <th>HBD</th>\n",
       "      <th>RB</th>\n",
       "      <th>...</th>\n",
       "      <th>PEOE6 (PEOE6)</th>\n",
       "      <th>PEOE7 (PEOE7)</th>\n",
       "      <th>PEOE8 (PEOE8)</th>\n",
       "      <th>PEOE9 (PEOE9)</th>\n",
       "      <th>PEOE10 (PEOE10)</th>\n",
       "      <th>PEOE11 (PEOE11)</th>\n",
       "      <th>PEOE12 (PEOE12)</th>\n",
       "      <th>PEOE13 (PEOE13)</th>\n",
       "      <th>PEOE14 (PEOE14)</th>\n",
       "      <th>canvasUID</th>\n",
       "    </tr>\n",
       "  </thead>\n",
       "  <tbody>\n",
       "    <tr>\n",
       "      <th>0</th>\n",
       "      <td>O1CC[C@@H](NC(=O)[C@@H](Cc2cc3cc(ccc3nc2N)-c2c...</td>\n",
       "      <td>BACE_1</td>\n",
       "      <td>1</td>\n",
       "      <td>Train</td>\n",
       "      <td>9.154901</td>\n",
       "      <td>431.56979</td>\n",
       "      <td>4.4014</td>\n",
       "      <td>3</td>\n",
       "      <td>2</td>\n",
       "      <td>5</td>\n",
       "      <td>...</td>\n",
       "      <td>53.205711</td>\n",
       "      <td>78.640335</td>\n",
       "      <td>226.855410</td>\n",
       "      <td>107.434910</td>\n",
       "      <td>37.133846</td>\n",
       "      <td>0.000000</td>\n",
       "      <td>7.980170</td>\n",
       "      <td>0.000000</td>\n",
       "      <td>0.000000</td>\n",
       "      <td>1</td>\n",
       "    </tr>\n",
       "    <tr>\n",
       "      <th>1</th>\n",
       "      <td>Fc1cc(cc(F)c1)C[C@H](NC(=O)[C@@H](N1CC[C@](NC(...</td>\n",
       "      <td>BACE_2</td>\n",
       "      <td>1</td>\n",
       "      <td>Train</td>\n",
       "      <td>8.853872</td>\n",
       "      <td>657.81073</td>\n",
       "      <td>2.6412</td>\n",
       "      <td>5</td>\n",
       "      <td>4</td>\n",
       "      <td>16</td>\n",
       "      <td>...</td>\n",
       "      <td>73.817162</td>\n",
       "      <td>47.171600</td>\n",
       "      <td>365.676940</td>\n",
       "      <td>174.076750</td>\n",
       "      <td>34.923889</td>\n",
       "      <td>7.980170</td>\n",
       "      <td>24.148668</td>\n",
       "      <td>0.000000</td>\n",
       "      <td>24.663788</td>\n",
       "      <td>2</td>\n",
       "    </tr>\n",
       "    <tr>\n",
       "      <th>2</th>\n",
       "      <td>S1(=O)(=O)N(c2cc(cc3c2n(cc3CC)CC1)C(=O)N[C@H](...</td>\n",
       "      <td>BACE_3</td>\n",
       "      <td>1</td>\n",
       "      <td>Train</td>\n",
       "      <td>8.698970</td>\n",
       "      <td>591.74091</td>\n",
       "      <td>2.5499</td>\n",
       "      <td>4</td>\n",
       "      <td>3</td>\n",
       "      <td>11</td>\n",
       "      <td>...</td>\n",
       "      <td>70.365707</td>\n",
       "      <td>47.941147</td>\n",
       "      <td>192.406520</td>\n",
       "      <td>255.752550</td>\n",
       "      <td>23.654478</td>\n",
       "      <td>0.230159</td>\n",
       "      <td>15.879790</td>\n",
       "      <td>0.000000</td>\n",
       "      <td>24.663788</td>\n",
       "      <td>3</td>\n",
       "    </tr>\n",
       "    <tr>\n",
       "      <th>3</th>\n",
       "      <td>S1(=O)(=O)C[C@@H](Cc2cc(O[C@H](COCC)C(F)(F)F)c...</td>\n",
       "      <td>BACE_4</td>\n",
       "      <td>1</td>\n",
       "      <td>Train</td>\n",
       "      <td>8.698970</td>\n",
       "      <td>591.67828</td>\n",
       "      <td>3.1680</td>\n",
       "      <td>4</td>\n",
       "      <td>3</td>\n",
       "      <td>12</td>\n",
       "      <td>...</td>\n",
       "      <td>56.657166</td>\n",
       "      <td>37.954151</td>\n",
       "      <td>194.353040</td>\n",
       "      <td>202.763350</td>\n",
       "      <td>36.498634</td>\n",
       "      <td>0.980913</td>\n",
       "      <td>8.188327</td>\n",
       "      <td>0.000000</td>\n",
       "      <td>26.385181</td>\n",
       "      <td>4</td>\n",
       "    </tr>\n",
       "    <tr>\n",
       "      <th>4</th>\n",
       "      <td>S1(=O)(=O)N(c2cc(cc3c2n(cc3CC)CC1)C(=O)N[C@H](...</td>\n",
       "      <td>BACE_5</td>\n",
       "      <td>1</td>\n",
       "      <td>Train</td>\n",
       "      <td>8.698970</td>\n",
       "      <td>629.71283</td>\n",
       "      <td>3.5086</td>\n",
       "      <td>3</td>\n",
       "      <td>3</td>\n",
       "      <td>11</td>\n",
       "      <td>...</td>\n",
       "      <td>78.945702</td>\n",
       "      <td>39.361153</td>\n",
       "      <td>179.712880</td>\n",
       "      <td>220.461300</td>\n",
       "      <td>23.654478</td>\n",
       "      <td>0.230159</td>\n",
       "      <td>15.879790</td>\n",
       "      <td>0.000000</td>\n",
       "      <td>26.100143</td>\n",
       "      <td>5</td>\n",
       "    </tr>\n",
       "    <tr>\n",
       "      <th>...</th>\n",
       "      <td>...</td>\n",
       "      <td>...</td>\n",
       "      <td>...</td>\n",
       "      <td>...</td>\n",
       "      <td>...</td>\n",
       "      <td>...</td>\n",
       "      <td>...</td>\n",
       "      <td>...</td>\n",
       "      <td>...</td>\n",
       "      <td>...</td>\n",
       "      <td>...</td>\n",
       "      <td>...</td>\n",
       "      <td>...</td>\n",
       "      <td>...</td>\n",
       "      <td>...</td>\n",
       "      <td>...</td>\n",
       "      <td>...</td>\n",
       "      <td>...</td>\n",
       "      <td>...</td>\n",
       "      <td>...</td>\n",
       "      <td>...</td>\n",
       "    </tr>\n",
       "    <tr>\n",
       "      <th>1508</th>\n",
       "      <td>Clc1cc2nc(n(c2cc1)C(CC(=O)NCC1CCOCC1)CC)N</td>\n",
       "      <td>BACE_1543</td>\n",
       "      <td>0</td>\n",
       "      <td>Test</td>\n",
       "      <td>3.000000</td>\n",
       "      <td>364.86969</td>\n",
       "      <td>2.5942</td>\n",
       "      <td>3</td>\n",
       "      <td>2</td>\n",
       "      <td>6</td>\n",
       "      <td>...</td>\n",
       "      <td>37.212799</td>\n",
       "      <td>37.681076</td>\n",
       "      <td>180.226410</td>\n",
       "      <td>95.670128</td>\n",
       "      <td>30.107586</td>\n",
       "      <td>9.368159</td>\n",
       "      <td>7.980170</td>\n",
       "      <td>0.000000</td>\n",
       "      <td>0.000000</td>\n",
       "      <td>1543</td>\n",
       "    </tr>\n",
       "    <tr>\n",
       "      <th>1509</th>\n",
       "      <td>Clc1cc2nc(n(c2cc1)C(CC(=O)NCc1ncccc1)CC)N</td>\n",
       "      <td>BACE_1544</td>\n",
       "      <td>0</td>\n",
       "      <td>Test</td>\n",
       "      <td>3.000000</td>\n",
       "      <td>357.83731</td>\n",
       "      <td>2.8229</td>\n",
       "      <td>3</td>\n",
       "      <td>2</td>\n",
       "      <td>6</td>\n",
       "      <td>...</td>\n",
       "      <td>45.792797</td>\n",
       "      <td>47.349350</td>\n",
       "      <td>122.401500</td>\n",
       "      <td>99.877144</td>\n",
       "      <td>30.107586</td>\n",
       "      <td>9.368159</td>\n",
       "      <td>7.980170</td>\n",
       "      <td>0.000000</td>\n",
       "      <td>0.000000</td>\n",
       "      <td>1544</td>\n",
       "    </tr>\n",
       "    <tr>\n",
       "      <th>1510</th>\n",
       "      <td>Brc1cc(ccc1)C1CC1C=1N=C(N)N(C)C(=O)C=1</td>\n",
       "      <td>BACE_1545</td>\n",
       "      <td>0</td>\n",
       "      <td>Test</td>\n",
       "      <td>2.953115</td>\n",
       "      <td>320.18451</td>\n",
       "      <td>3.0895</td>\n",
       "      <td>2</td>\n",
       "      <td>1</td>\n",
       "      <td>2</td>\n",
       "      <td>...</td>\n",
       "      <td>47.790600</td>\n",
       "      <td>22.563574</td>\n",
       "      <td>96.290794</td>\n",
       "      <td>58.798935</td>\n",
       "      <td>20.071724</td>\n",
       "      <td>9.368159</td>\n",
       "      <td>0.000000</td>\n",
       "      <td>6.904104</td>\n",
       "      <td>0.000000</td>\n",
       "      <td>1545</td>\n",
       "    </tr>\n",
       "    <tr>\n",
       "      <th>1511</th>\n",
       "      <td>O=C1N(C)C(=NC(=C1)C1CC1c1cc(ccc1)-c1ccccc1)N</td>\n",
       "      <td>BACE_1546</td>\n",
       "      <td>0</td>\n",
       "      <td>Test</td>\n",
       "      <td>2.733298</td>\n",
       "      <td>317.38440</td>\n",
       "      <td>3.8595</td>\n",
       "      <td>2</td>\n",
       "      <td>1</td>\n",
       "      <td>3</td>\n",
       "      <td>...</td>\n",
       "      <td>77.219978</td>\n",
       "      <td>9.316234</td>\n",
       "      <td>95.907784</td>\n",
       "      <td>112.609720</td>\n",
       "      <td>20.071724</td>\n",
       "      <td>9.368159</td>\n",
       "      <td>0.000000</td>\n",
       "      <td>6.904104</td>\n",
       "      <td>0.000000</td>\n",
       "      <td>1546</td>\n",
       "    </tr>\n",
       "    <tr>\n",
       "      <th>1512</th>\n",
       "      <td>Clc1cc2nc(n(c2cc1)CCCC(=O)NCC1CC1)N</td>\n",
       "      <td>BACE_1547</td>\n",
       "      <td>0</td>\n",
       "      <td>Test</td>\n",
       "      <td>2.544546</td>\n",
       "      <td>306.79059</td>\n",
       "      <td>3.4271</td>\n",
       "      <td>2</td>\n",
       "      <td>2</td>\n",
       "      <td>6</td>\n",
       "      <td>...</td>\n",
       "      <td>26.907076</td>\n",
       "      <td>37.681076</td>\n",
       "      <td>161.450780</td>\n",
       "      <td>40.882919</td>\n",
       "      <td>30.107586</td>\n",
       "      <td>9.368159</td>\n",
       "      <td>7.980170</td>\n",
       "      <td>0.000000</td>\n",
       "      <td>0.000000</td>\n",
       "      <td>1547</td>\n",
       "    </tr>\n",
       "  </tbody>\n",
       "</table>\n",
       "<p>1513 rows × 595 columns</p>\n",
       "</div>\n",
       "    <div class=\"colab-df-buttons\">\n",
       "\n",
       "  <div class=\"colab-df-container\">\n",
       "    <button class=\"colab-df-convert\" onclick=\"convertToInteractive('df-a72436b4-e8bc-4739-8394-94fbf9ea34e0')\"\n",
       "            title=\"Convert this dataframe to an interactive table.\"\n",
       "            style=\"display:none;\">\n",
       "\n",
       "  <svg xmlns=\"http://www.w3.org/2000/svg\" height=\"24px\" viewBox=\"0 -960 960 960\">\n",
       "    <path d=\"M120-120v-720h720v720H120Zm60-500h600v-160H180v160Zm220 220h160v-160H400v160Zm0 220h160v-160H400v160ZM180-400h160v-160H180v160Zm440 0h160v-160H620v160ZM180-180h160v-160H180v160Zm440 0h160v-160H620v160Z\"/>\n",
       "  </svg>\n",
       "    </button>\n",
       "\n",
       "  <style>\n",
       "    .colab-df-container {\n",
       "      display:flex;\n",
       "      gap: 12px;\n",
       "    }\n",
       "\n",
       "    .colab-df-convert {\n",
       "      background-color: #E8F0FE;\n",
       "      border: none;\n",
       "      border-radius: 50%;\n",
       "      cursor: pointer;\n",
       "      display: none;\n",
       "      fill: #1967D2;\n",
       "      height: 32px;\n",
       "      padding: 0 0 0 0;\n",
       "      width: 32px;\n",
       "    }\n",
       "\n",
       "    .colab-df-convert:hover {\n",
       "      background-color: #E2EBFA;\n",
       "      box-shadow: 0px 1px 2px rgba(60, 64, 67, 0.3), 0px 1px 3px 1px rgba(60, 64, 67, 0.15);\n",
       "      fill: #174EA6;\n",
       "    }\n",
       "\n",
       "    .colab-df-buttons div {\n",
       "      margin-bottom: 4px;\n",
       "    }\n",
       "\n",
       "    [theme=dark] .colab-df-convert {\n",
       "      background-color: #3B4455;\n",
       "      fill: #D2E3FC;\n",
       "    }\n",
       "\n",
       "    [theme=dark] .colab-df-convert:hover {\n",
       "      background-color: #434B5C;\n",
       "      box-shadow: 0px 1px 3px 1px rgba(0, 0, 0, 0.15);\n",
       "      filter: drop-shadow(0px 1px 2px rgba(0, 0, 0, 0.3));\n",
       "      fill: #FFFFFF;\n",
       "    }\n",
       "  </style>\n",
       "\n",
       "    <script>\n",
       "      const buttonEl =\n",
       "        document.querySelector('#df-a72436b4-e8bc-4739-8394-94fbf9ea34e0 button.colab-df-convert');\n",
       "      buttonEl.style.display =\n",
       "        google.colab.kernel.accessAllowed ? 'block' : 'none';\n",
       "\n",
       "      async function convertToInteractive(key) {\n",
       "        const element = document.querySelector('#df-a72436b4-e8bc-4739-8394-94fbf9ea34e0');\n",
       "        const dataTable =\n",
       "          await google.colab.kernel.invokeFunction('convertToInteractive',\n",
       "                                                    [key], {});\n",
       "        if (!dataTable) return;\n",
       "\n",
       "        const docLinkHtml = 'Like what you see? Visit the ' +\n",
       "          '<a target=\"_blank\" href=https://colab.research.google.com/notebooks/data_table.ipynb>data table notebook</a>'\n",
       "          + ' to learn more about interactive tables.';\n",
       "        element.innerHTML = '';\n",
       "        dataTable['output_type'] = 'display_data';\n",
       "        await google.colab.output.renderOutput(dataTable, element);\n",
       "        const docLink = document.createElement('div');\n",
       "        docLink.innerHTML = docLinkHtml;\n",
       "        element.appendChild(docLink);\n",
       "      }\n",
       "    </script>\n",
       "  </div>\n",
       "\n",
       "\n",
       "    <div id=\"df-010bf1b0-7c1a-42fe-889e-045bede5be00\">\n",
       "      <button class=\"colab-df-quickchart\" onclick=\"quickchart('df-010bf1b0-7c1a-42fe-889e-045bede5be00')\"\n",
       "                title=\"Suggest charts\"\n",
       "                style=\"display:none;\">\n",
       "\n",
       "<svg xmlns=\"http://www.w3.org/2000/svg\" height=\"24px\"viewBox=\"0 0 24 24\"\n",
       "     width=\"24px\">\n",
       "    <g>\n",
       "        <path d=\"M19 3H5c-1.1 0-2 .9-2 2v14c0 1.1.9 2 2 2h14c1.1 0 2-.9 2-2V5c0-1.1-.9-2-2-2zM9 17H7v-7h2v7zm4 0h-2V7h2v10zm4 0h-2v-4h2v4z\"/>\n",
       "    </g>\n",
       "</svg>\n",
       "      </button>\n",
       "\n",
       "<style>\n",
       "  .colab-df-quickchart {\n",
       "      --bg-color: #E8F0FE;\n",
       "      --fill-color: #1967D2;\n",
       "      --hover-bg-color: #E2EBFA;\n",
       "      --hover-fill-color: #174EA6;\n",
       "      --disabled-fill-color: #AAA;\n",
       "      --disabled-bg-color: #DDD;\n",
       "  }\n",
       "\n",
       "  [theme=dark] .colab-df-quickchart {\n",
       "      --bg-color: #3B4455;\n",
       "      --fill-color: #D2E3FC;\n",
       "      --hover-bg-color: #434B5C;\n",
       "      --hover-fill-color: #FFFFFF;\n",
       "      --disabled-bg-color: #3B4455;\n",
       "      --disabled-fill-color: #666;\n",
       "  }\n",
       "\n",
       "  .colab-df-quickchart {\n",
       "    background-color: var(--bg-color);\n",
       "    border: none;\n",
       "    border-radius: 50%;\n",
       "    cursor: pointer;\n",
       "    display: none;\n",
       "    fill: var(--fill-color);\n",
       "    height: 32px;\n",
       "    padding: 0;\n",
       "    width: 32px;\n",
       "  }\n",
       "\n",
       "  .colab-df-quickchart:hover {\n",
       "    background-color: var(--hover-bg-color);\n",
       "    box-shadow: 0 1px 2px rgba(60, 64, 67, 0.3), 0 1px 3px 1px rgba(60, 64, 67, 0.15);\n",
       "    fill: var(--button-hover-fill-color);\n",
       "  }\n",
       "\n",
       "  .colab-df-quickchart-complete:disabled,\n",
       "  .colab-df-quickchart-complete:disabled:hover {\n",
       "    background-color: var(--disabled-bg-color);\n",
       "    fill: var(--disabled-fill-color);\n",
       "    box-shadow: none;\n",
       "  }\n",
       "\n",
       "  .colab-df-spinner {\n",
       "    border: 2px solid var(--fill-color);\n",
       "    border-color: transparent;\n",
       "    border-bottom-color: var(--fill-color);\n",
       "    animation:\n",
       "      spin 1s steps(1) infinite;\n",
       "  }\n",
       "\n",
       "  @keyframes spin {\n",
       "    0% {\n",
       "      border-color: transparent;\n",
       "      border-bottom-color: var(--fill-color);\n",
       "      border-left-color: var(--fill-color);\n",
       "    }\n",
       "    20% {\n",
       "      border-color: transparent;\n",
       "      border-left-color: var(--fill-color);\n",
       "      border-top-color: var(--fill-color);\n",
       "    }\n",
       "    30% {\n",
       "      border-color: transparent;\n",
       "      border-left-color: var(--fill-color);\n",
       "      border-top-color: var(--fill-color);\n",
       "      border-right-color: var(--fill-color);\n",
       "    }\n",
       "    40% {\n",
       "      border-color: transparent;\n",
       "      border-right-color: var(--fill-color);\n",
       "      border-top-color: var(--fill-color);\n",
       "    }\n",
       "    60% {\n",
       "      border-color: transparent;\n",
       "      border-right-color: var(--fill-color);\n",
       "    }\n",
       "    80% {\n",
       "      border-color: transparent;\n",
       "      border-right-color: var(--fill-color);\n",
       "      border-bottom-color: var(--fill-color);\n",
       "    }\n",
       "    90% {\n",
       "      border-color: transparent;\n",
       "      border-bottom-color: var(--fill-color);\n",
       "    }\n",
       "  }\n",
       "</style>\n",
       "\n",
       "      <script>\n",
       "        async function quickchart(key) {\n",
       "          const quickchartButtonEl =\n",
       "            document.querySelector('#' + key + ' button');\n",
       "          quickchartButtonEl.disabled = true;  // To prevent multiple clicks.\n",
       "          quickchartButtonEl.classList.add('colab-df-spinner');\n",
       "          try {\n",
       "            const charts = await google.colab.kernel.invokeFunction(\n",
       "                'suggestCharts', [key], {});\n",
       "          } catch (error) {\n",
       "            console.error('Error during call to suggestCharts:', error);\n",
       "          }\n",
       "          quickchartButtonEl.classList.remove('colab-df-spinner');\n",
       "          quickchartButtonEl.classList.add('colab-df-quickchart-complete');\n",
       "        }\n",
       "        (() => {\n",
       "          let quickchartButtonEl =\n",
       "            document.querySelector('#df-010bf1b0-7c1a-42fe-889e-045bede5be00 button');\n",
       "          quickchartButtonEl.style.display =\n",
       "            google.colab.kernel.accessAllowed ? 'block' : 'none';\n",
       "        })();\n",
       "      </script>\n",
       "    </div>\n",
       "\n",
       "  <div id=\"id_a9d1d2af-cfc5-4505-98f3-b776a085d675\">\n",
       "    <style>\n",
       "      .colab-df-generate {\n",
       "        background-color: #E8F0FE;\n",
       "        border: none;\n",
       "        border-radius: 50%;\n",
       "        cursor: pointer;\n",
       "        display: none;\n",
       "        fill: #1967D2;\n",
       "        height: 32px;\n",
       "        padding: 0 0 0 0;\n",
       "        width: 32px;\n",
       "      }\n",
       "\n",
       "      .colab-df-generate:hover {\n",
       "        background-color: #E2EBFA;\n",
       "        box-shadow: 0px 1px 2px rgba(60, 64, 67, 0.3), 0px 1px 3px 1px rgba(60, 64, 67, 0.15);\n",
       "        fill: #174EA6;\n",
       "      }\n",
       "\n",
       "      [theme=dark] .colab-df-generate {\n",
       "        background-color: #3B4455;\n",
       "        fill: #D2E3FC;\n",
       "      }\n",
       "\n",
       "      [theme=dark] .colab-df-generate:hover {\n",
       "        background-color: #434B5C;\n",
       "        box-shadow: 0px 1px 3px 1px rgba(0, 0, 0, 0.15);\n",
       "        filter: drop-shadow(0px 1px 2px rgba(0, 0, 0, 0.3));\n",
       "        fill: #FFFFFF;\n",
       "      }\n",
       "    </style>\n",
       "    <button class=\"colab-df-generate\" onclick=\"generateWithVariable('df')\"\n",
       "            title=\"Generate code using this dataframe.\"\n",
       "            style=\"display:none;\">\n",
       "\n",
       "  <svg xmlns=\"http://www.w3.org/2000/svg\" height=\"24px\"viewBox=\"0 0 24 24\"\n",
       "       width=\"24px\">\n",
       "    <path d=\"M7,19H8.4L18.45,9,17,7.55,7,17.6ZM5,21V16.75L18.45,3.32a2,2,0,0,1,2.83,0l1.4,1.43a1.91,1.91,0,0,1,.58,1.4,1.91,1.91,0,0,1-.58,1.4L9.25,21ZM18.45,9,17,7.55Zm-12,3A5.31,5.31,0,0,0,4.9,8.1,5.31,5.31,0,0,0,1,6.5,5.31,5.31,0,0,0,4.9,4.9,5.31,5.31,0,0,0,6.5,1,5.31,5.31,0,0,0,8.1,4.9,5.31,5.31,0,0,0,12,6.5,5.46,5.46,0,0,0,6.5,12Z\"/>\n",
       "  </svg>\n",
       "    </button>\n",
       "    <script>\n",
       "      (() => {\n",
       "      const buttonEl =\n",
       "        document.querySelector('#id_a9d1d2af-cfc5-4505-98f3-b776a085d675 button.colab-df-generate');\n",
       "      buttonEl.style.display =\n",
       "        google.colab.kernel.accessAllowed ? 'block' : 'none';\n",
       "\n",
       "      buttonEl.onclick = () => {\n",
       "        google.colab.notebook.generateWithVariable('df');\n",
       "      }\n",
       "      })();\n",
       "    </script>\n",
       "  </div>\n",
       "\n",
       "    </div>\n",
       "  </div>\n"
      ],
      "text/plain": [
       "                                                    mol        CID  Class  \\\n",
       "0     O1CC[C@@H](NC(=O)[C@@H](Cc2cc3cc(ccc3nc2N)-c2c...     BACE_1      1   \n",
       "1     Fc1cc(cc(F)c1)C[C@H](NC(=O)[C@@H](N1CC[C@](NC(...     BACE_2      1   \n",
       "2     S1(=O)(=O)N(c2cc(cc3c2n(cc3CC)CC1)C(=O)N[C@H](...     BACE_3      1   \n",
       "3     S1(=O)(=O)C[C@@H](Cc2cc(O[C@H](COCC)C(F)(F)F)c...     BACE_4      1   \n",
       "4     S1(=O)(=O)N(c2cc(cc3c2n(cc3CC)CC1)C(=O)N[C@H](...     BACE_5      1   \n",
       "...                                                 ...        ...    ...   \n",
       "1508          Clc1cc2nc(n(c2cc1)C(CC(=O)NCC1CCOCC1)CC)N  BACE_1543      0   \n",
       "1509          Clc1cc2nc(n(c2cc1)C(CC(=O)NCc1ncccc1)CC)N  BACE_1544      0   \n",
       "1510             Brc1cc(ccc1)C1CC1C=1N=C(N)N(C)C(=O)C=1  BACE_1545      0   \n",
       "1511       O=C1N(C)C(=NC(=C1)C1CC1c1cc(ccc1)-c1ccccc1)N  BACE_1546      0   \n",
       "1512                Clc1cc2nc(n(c2cc1)CCCC(=O)NCC1CC1)N  BACE_1547      0   \n",
       "\n",
       "      Model     pIC50         MW   AlogP  HBA  HBD  RB  ...  PEOE6 (PEOE6)  \\\n",
       "0     Train  9.154901  431.56979  4.4014    3    2   5  ...      53.205711   \n",
       "1     Train  8.853872  657.81073  2.6412    5    4  16  ...      73.817162   \n",
       "2     Train  8.698970  591.74091  2.5499    4    3  11  ...      70.365707   \n",
       "3     Train  8.698970  591.67828  3.1680    4    3  12  ...      56.657166   \n",
       "4     Train  8.698970  629.71283  3.5086    3    3  11  ...      78.945702   \n",
       "...     ...       ...        ...     ...  ...  ...  ..  ...            ...   \n",
       "1508   Test  3.000000  364.86969  2.5942    3    2   6  ...      37.212799   \n",
       "1509   Test  3.000000  357.83731  2.8229    3    2   6  ...      45.792797   \n",
       "1510   Test  2.953115  320.18451  3.0895    2    1   2  ...      47.790600   \n",
       "1511   Test  2.733298  317.38440  3.8595    2    1   3  ...      77.219978   \n",
       "1512   Test  2.544546  306.79059  3.4271    2    2   6  ...      26.907076   \n",
       "\n",
       "      PEOE7 (PEOE7)  PEOE8 (PEOE8)  PEOE9 (PEOE9)  PEOE10 (PEOE10)  \\\n",
       "0         78.640335     226.855410     107.434910        37.133846   \n",
       "1         47.171600     365.676940     174.076750        34.923889   \n",
       "2         47.941147     192.406520     255.752550        23.654478   \n",
       "3         37.954151     194.353040     202.763350        36.498634   \n",
       "4         39.361153     179.712880     220.461300        23.654478   \n",
       "...             ...            ...            ...              ...   \n",
       "1508      37.681076     180.226410      95.670128        30.107586   \n",
       "1509      47.349350     122.401500      99.877144        30.107586   \n",
       "1510      22.563574      96.290794      58.798935        20.071724   \n",
       "1511       9.316234      95.907784     112.609720        20.071724   \n",
       "1512      37.681076     161.450780      40.882919        30.107586   \n",
       "\n",
       "      PEOE11 (PEOE11)  PEOE12 (PEOE12)  PEOE13 (PEOE13)  PEOE14 (PEOE14)  \\\n",
       "0            0.000000         7.980170         0.000000         0.000000   \n",
       "1            7.980170        24.148668         0.000000        24.663788   \n",
       "2            0.230159        15.879790         0.000000        24.663788   \n",
       "3            0.980913         8.188327         0.000000        26.385181   \n",
       "4            0.230159        15.879790         0.000000        26.100143   \n",
       "...               ...              ...              ...              ...   \n",
       "1508         9.368159         7.980170         0.000000         0.000000   \n",
       "1509         9.368159         7.980170         0.000000         0.000000   \n",
       "1510         9.368159         0.000000         6.904104         0.000000   \n",
       "1511         9.368159         0.000000         6.904104         0.000000   \n",
       "1512         9.368159         7.980170         0.000000         0.000000   \n",
       "\n",
       "      canvasUID  \n",
       "0             1  \n",
       "1             2  \n",
       "2             3  \n",
       "3             4  \n",
       "4             5  \n",
       "...         ...  \n",
       "1508       1543  \n",
       "1509       1544  \n",
       "1510       1545  \n",
       "1511       1546  \n",
       "1512       1547  \n",
       "\n",
       "[1513 rows x 595 columns]"
      ]
     },
     "execution_count": 10,
     "metadata": {},
     "output_type": "execute_result"
    }
   ],
   "source": [
    "df"
   ]
  },
  {
   "cell_type": "code",
   "execution_count": 11,
   "metadata": {
    "colab": {
     "base_uri": "https://localhost:8080/",
     "height": 367
    },
    "id": "_PPQywvGY7ID",
    "outputId": "2573b619-06f2-4193-9dc3-4a6bf3e08211"
   },
   "outputs": [
    {
     "data": {
      "application/vnd.google.colaboratory.intrinsic+json": {
       "type": "dataframe"
      },
      "text/html": [
       "\n",
       "  <div id=\"df-9fe3a3e2-d5b7-45bc-89a7-21d56753e3b6\" class=\"colab-df-container\">\n",
       "    <div>\n",
       "<style scoped>\n",
       "    .dataframe tbody tr th:only-of-type {\n",
       "        vertical-align: middle;\n",
       "    }\n",
       "\n",
       "    .dataframe tbody tr th {\n",
       "        vertical-align: top;\n",
       "    }\n",
       "\n",
       "    .dataframe thead th {\n",
       "        text-align: right;\n",
       "    }\n",
       "</style>\n",
       "<table border=\"1\" class=\"dataframe\">\n",
       "  <thead>\n",
       "    <tr style=\"text-align: right;\">\n",
       "      <th></th>\n",
       "      <th>Class</th>\n",
       "      <th>pIC50</th>\n",
       "      <th>MW</th>\n",
       "      <th>AlogP</th>\n",
       "      <th>HBA</th>\n",
       "      <th>HBD</th>\n",
       "      <th>RB</th>\n",
       "      <th>HeavyAtomCount</th>\n",
       "      <th>ChiralCenterCount</th>\n",
       "      <th>ChiralCenterCountAllPossible</th>\n",
       "      <th>...</th>\n",
       "      <th>PEOE6 (PEOE6)</th>\n",
       "      <th>PEOE7 (PEOE7)</th>\n",
       "      <th>PEOE8 (PEOE8)</th>\n",
       "      <th>PEOE9 (PEOE9)</th>\n",
       "      <th>PEOE10 (PEOE10)</th>\n",
       "      <th>PEOE11 (PEOE11)</th>\n",
       "      <th>PEOE12 (PEOE12)</th>\n",
       "      <th>PEOE13 (PEOE13)</th>\n",
       "      <th>PEOE14 (PEOE14)</th>\n",
       "      <th>canvasUID</th>\n",
       "    </tr>\n",
       "  </thead>\n",
       "  <tbody>\n",
       "    <tr>\n",
       "      <th>count</th>\n",
       "      <td>1513.000000</td>\n",
       "      <td>1513.000000</td>\n",
       "      <td>1513.000000</td>\n",
       "      <td>1513.000000</td>\n",
       "      <td>1513.000000</td>\n",
       "      <td>1513.000000</td>\n",
       "      <td>1513.000000</td>\n",
       "      <td>1513.000000</td>\n",
       "      <td>1513.000000</td>\n",
       "      <td>1513.000000</td>\n",
       "      <td>...</td>\n",
       "      <td>1513.000000</td>\n",
       "      <td>1513.000000</td>\n",
       "      <td>1513.000000</td>\n",
       "      <td>1513.000000</td>\n",
       "      <td>1513.000000</td>\n",
       "      <td>1513.000000</td>\n",
       "      <td>1513.000000</td>\n",
       "      <td>1513.000000</td>\n",
       "      <td>1513.000000</td>\n",
       "      <td>1513.000000</td>\n",
       "    </tr>\n",
       "    <tr>\n",
       "      <th>mean</th>\n",
       "      <td>0.456709</td>\n",
       "      <td>6.521991</td>\n",
       "      <td>479.661988</td>\n",
       "      <td>3.177080</td>\n",
       "      <td>3.732981</td>\n",
       "      <td>2.001322</td>\n",
       "      <td>8.049570</td>\n",
       "      <td>34.089227</td>\n",
       "      <td>0.522802</td>\n",
       "      <td>2.317250</td>\n",
       "      <td>...</td>\n",
       "      <td>52.348846</td>\n",
       "      <td>48.763740</td>\n",
       "      <td>181.835580</td>\n",
       "      <td>148.442348</td>\n",
       "      <td>30.371697</td>\n",
       "      <td>3.488650</td>\n",
       "      <td>11.740560</td>\n",
       "      <td>1.239762</td>\n",
       "      <td>14.387597</td>\n",
       "      <td>783.779907</td>\n",
       "    </tr>\n",
       "    <tr>\n",
       "      <th>std</th>\n",
       "      <td>0.498287</td>\n",
       "      <td>1.342417</td>\n",
       "      <td>122.083053</td>\n",
       "      <td>1.396633</td>\n",
       "      <td>1.444778</td>\n",
       "      <td>1.629343</td>\n",
       "      <td>4.741135</td>\n",
       "      <td>8.520088</td>\n",
       "      <td>1.162539</td>\n",
       "      <td>1.612558</td>\n",
       "      <td>...</td>\n",
       "      <td>25.993800</td>\n",
       "      <td>18.201519</td>\n",
       "      <td>99.717702</td>\n",
       "      <td>60.548833</td>\n",
       "      <td>12.162452</td>\n",
       "      <td>5.148336</td>\n",
       "      <td>9.073406</td>\n",
       "      <td>3.293804</td>\n",
       "      <td>13.329890</td>\n",
       "      <td>444.468806</td>\n",
       "    </tr>\n",
       "    <tr>\n",
       "      <th>min</th>\n",
       "      <td>0.000000</td>\n",
       "      <td>2.544546</td>\n",
       "      <td>138.187000</td>\n",
       "      <td>-4.361100</td>\n",
       "      <td>0.000000</td>\n",
       "      <td>0.000000</td>\n",
       "      <td>0.000000</td>\n",
       "      <td>10.000000</td>\n",
       "      <td>0.000000</td>\n",
       "      <td>0.000000</td>\n",
       "      <td>...</td>\n",
       "      <td>0.000000</td>\n",
       "      <td>-3.551821</td>\n",
       "      <td>1.916970</td>\n",
       "      <td>-5.536391</td>\n",
       "      <td>-2.216191</td>\n",
       "      <td>-7.286308</td>\n",
       "      <td>-6.106466</td>\n",
       "      <td>-7.379991</td>\n",
       "      <td>-1.273524</td>\n",
       "      <td>1.000000</td>\n",
       "    </tr>\n",
       "    <tr>\n",
       "      <th>25%</th>\n",
       "      <td>0.000000</td>\n",
       "      <td>5.585027</td>\n",
       "      <td>389.331300</td>\n",
       "      <td>2.335500</td>\n",
       "      <td>3.000000</td>\n",
       "      <td>0.000000</td>\n",
       "      <td>4.000000</td>\n",
       "      <td>28.000000</td>\n",
       "      <td>0.000000</td>\n",
       "      <td>1.000000</td>\n",
       "      <td>...</td>\n",
       "      <td>34.319988</td>\n",
       "      <td>36.547150</td>\n",
       "      <td>102.233770</td>\n",
       "      <td>102.510450</td>\n",
       "      <td>20.132990</td>\n",
       "      <td>0.000000</td>\n",
       "      <td>7.980170</td>\n",
       "      <td>0.000000</td>\n",
       "      <td>0.000000</td>\n",
       "      <td>407.000000</td>\n",
       "    </tr>\n",
       "    <tr>\n",
       "      <th>50%</th>\n",
       "      <td>0.000000</td>\n",
       "      <td>6.761954</td>\n",
       "      <td>463.628300</td>\n",
       "      <td>3.171300</td>\n",
       "      <td>4.000000</td>\n",
       "      <td>2.000000</td>\n",
       "      <td>7.000000</td>\n",
       "      <td>33.000000</td>\n",
       "      <td>0.000000</td>\n",
       "      <td>2.000000</td>\n",
       "      <td>...</td>\n",
       "      <td>51.479984</td>\n",
       "      <td>47.624382</td>\n",
       "      <td>171.917220</td>\n",
       "      <td>140.683620</td>\n",
       "      <td>30.107586</td>\n",
       "      <td>0.550130</td>\n",
       "      <td>8.188327</td>\n",
       "      <td>0.000000</td>\n",
       "      <td>21.710098</td>\n",
       "      <td>788.000000</td>\n",
       "    </tr>\n",
       "    <tr>\n",
       "      <th>75%</th>\n",
       "      <td>1.000000</td>\n",
       "      <td>7.540000</td>\n",
       "      <td>564.639530</td>\n",
       "      <td>4.015500</td>\n",
       "      <td>4.000000</td>\n",
       "      <td>3.000000</td>\n",
       "      <td>11.000000</td>\n",
       "      <td>40.000000</td>\n",
       "      <td>1.000000</td>\n",
       "      <td>3.000000</td>\n",
       "      <td>...</td>\n",
       "      <td>66.553795</td>\n",
       "      <td>58.844093</td>\n",
       "      <td>253.679080</td>\n",
       "      <td>185.659260</td>\n",
       "      <td>37.133846</td>\n",
       "      <td>7.980170</td>\n",
       "      <td>15.879790</td>\n",
       "      <td>0.000000</td>\n",
       "      <td>24.663788</td>\n",
       "      <td>1167.000000</td>\n",
       "    </tr>\n",
       "    <tr>\n",
       "      <th>max</th>\n",
       "      <td>1.000000</td>\n",
       "      <td>10.522879</td>\n",
       "      <td>1350.473300</td>\n",
       "      <td>7.617400</td>\n",
       "      <td>12.000000</td>\n",
       "      <td>15.000000</td>\n",
       "      <td>40.000000</td>\n",
       "      <td>97.000000</td>\n",
       "      <td>10.000000</td>\n",
       "      <td>12.000000</td>\n",
       "      <td>...</td>\n",
       "      <td>161.342860</td>\n",
       "      <td>124.272730</td>\n",
       "      <td>865.473330</td>\n",
       "      <td>378.516270</td>\n",
       "      <td>121.671900</td>\n",
       "      <td>29.823961</td>\n",
       "      <td>80.218018</td>\n",
       "      <td>16.681131</td>\n",
       "      <td>61.659470</td>\n",
       "      <td>1547.000000</td>\n",
       "    </tr>\n",
       "  </tbody>\n",
       "</table>\n",
       "<p>8 rows × 592 columns</p>\n",
       "</div>\n",
       "    <div class=\"colab-df-buttons\">\n",
       "\n",
       "  <div class=\"colab-df-container\">\n",
       "    <button class=\"colab-df-convert\" onclick=\"convertToInteractive('df-9fe3a3e2-d5b7-45bc-89a7-21d56753e3b6')\"\n",
       "            title=\"Convert this dataframe to an interactive table.\"\n",
       "            style=\"display:none;\">\n",
       "\n",
       "  <svg xmlns=\"http://www.w3.org/2000/svg\" height=\"24px\" viewBox=\"0 -960 960 960\">\n",
       "    <path d=\"M120-120v-720h720v720H120Zm60-500h600v-160H180v160Zm220 220h160v-160H400v160Zm0 220h160v-160H400v160ZM180-400h160v-160H180v160Zm440 0h160v-160H620v160ZM180-180h160v-160H180v160Zm440 0h160v-160H620v160Z\"/>\n",
       "  </svg>\n",
       "    </button>\n",
       "\n",
       "  <style>\n",
       "    .colab-df-container {\n",
       "      display:flex;\n",
       "      gap: 12px;\n",
       "    }\n",
       "\n",
       "    .colab-df-convert {\n",
       "      background-color: #E8F0FE;\n",
       "      border: none;\n",
       "      border-radius: 50%;\n",
       "      cursor: pointer;\n",
       "      display: none;\n",
       "      fill: #1967D2;\n",
       "      height: 32px;\n",
       "      padding: 0 0 0 0;\n",
       "      width: 32px;\n",
       "    }\n",
       "\n",
       "    .colab-df-convert:hover {\n",
       "      background-color: #E2EBFA;\n",
       "      box-shadow: 0px 1px 2px rgba(60, 64, 67, 0.3), 0px 1px 3px 1px rgba(60, 64, 67, 0.15);\n",
       "      fill: #174EA6;\n",
       "    }\n",
       "\n",
       "    .colab-df-buttons div {\n",
       "      margin-bottom: 4px;\n",
       "    }\n",
       "\n",
       "    [theme=dark] .colab-df-convert {\n",
       "      background-color: #3B4455;\n",
       "      fill: #D2E3FC;\n",
       "    }\n",
       "\n",
       "    [theme=dark] .colab-df-convert:hover {\n",
       "      background-color: #434B5C;\n",
       "      box-shadow: 0px 1px 3px 1px rgba(0, 0, 0, 0.15);\n",
       "      filter: drop-shadow(0px 1px 2px rgba(0, 0, 0, 0.3));\n",
       "      fill: #FFFFFF;\n",
       "    }\n",
       "  </style>\n",
       "\n",
       "    <script>\n",
       "      const buttonEl =\n",
       "        document.querySelector('#df-9fe3a3e2-d5b7-45bc-89a7-21d56753e3b6 button.colab-df-convert');\n",
       "      buttonEl.style.display =\n",
       "        google.colab.kernel.accessAllowed ? 'block' : 'none';\n",
       "\n",
       "      async function convertToInteractive(key) {\n",
       "        const element = document.querySelector('#df-9fe3a3e2-d5b7-45bc-89a7-21d56753e3b6');\n",
       "        const dataTable =\n",
       "          await google.colab.kernel.invokeFunction('convertToInteractive',\n",
       "                                                    [key], {});\n",
       "        if (!dataTable) return;\n",
       "\n",
       "        const docLinkHtml = 'Like what you see? Visit the ' +\n",
       "          '<a target=\"_blank\" href=https://colab.research.google.com/notebooks/data_table.ipynb>data table notebook</a>'\n",
       "          + ' to learn more about interactive tables.';\n",
       "        element.innerHTML = '';\n",
       "        dataTable['output_type'] = 'display_data';\n",
       "        await google.colab.output.renderOutput(dataTable, element);\n",
       "        const docLink = document.createElement('div');\n",
       "        docLink.innerHTML = docLinkHtml;\n",
       "        element.appendChild(docLink);\n",
       "      }\n",
       "    </script>\n",
       "  </div>\n",
       "\n",
       "\n",
       "    <div id=\"df-f4843ed4-09c9-4fae-9d4a-90125a40c027\">\n",
       "      <button class=\"colab-df-quickchart\" onclick=\"quickchart('df-f4843ed4-09c9-4fae-9d4a-90125a40c027')\"\n",
       "                title=\"Suggest charts\"\n",
       "                style=\"display:none;\">\n",
       "\n",
       "<svg xmlns=\"http://www.w3.org/2000/svg\" height=\"24px\"viewBox=\"0 0 24 24\"\n",
       "     width=\"24px\">\n",
       "    <g>\n",
       "        <path d=\"M19 3H5c-1.1 0-2 .9-2 2v14c0 1.1.9 2 2 2h14c1.1 0 2-.9 2-2V5c0-1.1-.9-2-2-2zM9 17H7v-7h2v7zm4 0h-2V7h2v10zm4 0h-2v-4h2v4z\"/>\n",
       "    </g>\n",
       "</svg>\n",
       "      </button>\n",
       "\n",
       "<style>\n",
       "  .colab-df-quickchart {\n",
       "      --bg-color: #E8F0FE;\n",
       "      --fill-color: #1967D2;\n",
       "      --hover-bg-color: #E2EBFA;\n",
       "      --hover-fill-color: #174EA6;\n",
       "      --disabled-fill-color: #AAA;\n",
       "      --disabled-bg-color: #DDD;\n",
       "  }\n",
       "\n",
       "  [theme=dark] .colab-df-quickchart {\n",
       "      --bg-color: #3B4455;\n",
       "      --fill-color: #D2E3FC;\n",
       "      --hover-bg-color: #434B5C;\n",
       "      --hover-fill-color: #FFFFFF;\n",
       "      --disabled-bg-color: #3B4455;\n",
       "      --disabled-fill-color: #666;\n",
       "  }\n",
       "\n",
       "  .colab-df-quickchart {\n",
       "    background-color: var(--bg-color);\n",
       "    border: none;\n",
       "    border-radius: 50%;\n",
       "    cursor: pointer;\n",
       "    display: none;\n",
       "    fill: var(--fill-color);\n",
       "    height: 32px;\n",
       "    padding: 0;\n",
       "    width: 32px;\n",
       "  }\n",
       "\n",
       "  .colab-df-quickchart:hover {\n",
       "    background-color: var(--hover-bg-color);\n",
       "    box-shadow: 0 1px 2px rgba(60, 64, 67, 0.3), 0 1px 3px 1px rgba(60, 64, 67, 0.15);\n",
       "    fill: var(--button-hover-fill-color);\n",
       "  }\n",
       "\n",
       "  .colab-df-quickchart-complete:disabled,\n",
       "  .colab-df-quickchart-complete:disabled:hover {\n",
       "    background-color: var(--disabled-bg-color);\n",
       "    fill: var(--disabled-fill-color);\n",
       "    box-shadow: none;\n",
       "  }\n",
       "\n",
       "  .colab-df-spinner {\n",
       "    border: 2px solid var(--fill-color);\n",
       "    border-color: transparent;\n",
       "    border-bottom-color: var(--fill-color);\n",
       "    animation:\n",
       "      spin 1s steps(1) infinite;\n",
       "  }\n",
       "\n",
       "  @keyframes spin {\n",
       "    0% {\n",
       "      border-color: transparent;\n",
       "      border-bottom-color: var(--fill-color);\n",
       "      border-left-color: var(--fill-color);\n",
       "    }\n",
       "    20% {\n",
       "      border-color: transparent;\n",
       "      border-left-color: var(--fill-color);\n",
       "      border-top-color: var(--fill-color);\n",
       "    }\n",
       "    30% {\n",
       "      border-color: transparent;\n",
       "      border-left-color: var(--fill-color);\n",
       "      border-top-color: var(--fill-color);\n",
       "      border-right-color: var(--fill-color);\n",
       "    }\n",
       "    40% {\n",
       "      border-color: transparent;\n",
       "      border-right-color: var(--fill-color);\n",
       "      border-top-color: var(--fill-color);\n",
       "    }\n",
       "    60% {\n",
       "      border-color: transparent;\n",
       "      border-right-color: var(--fill-color);\n",
       "    }\n",
       "    80% {\n",
       "      border-color: transparent;\n",
       "      border-right-color: var(--fill-color);\n",
       "      border-bottom-color: var(--fill-color);\n",
       "    }\n",
       "    90% {\n",
       "      border-color: transparent;\n",
       "      border-bottom-color: var(--fill-color);\n",
       "    }\n",
       "  }\n",
       "</style>\n",
       "\n",
       "      <script>\n",
       "        async function quickchart(key) {\n",
       "          const quickchartButtonEl =\n",
       "            document.querySelector('#' + key + ' button');\n",
       "          quickchartButtonEl.disabled = true;  // To prevent multiple clicks.\n",
       "          quickchartButtonEl.classList.add('colab-df-spinner');\n",
       "          try {\n",
       "            const charts = await google.colab.kernel.invokeFunction(\n",
       "                'suggestCharts', [key], {});\n",
       "          } catch (error) {\n",
       "            console.error('Error during call to suggestCharts:', error);\n",
       "          }\n",
       "          quickchartButtonEl.classList.remove('colab-df-spinner');\n",
       "          quickchartButtonEl.classList.add('colab-df-quickchart-complete');\n",
       "        }\n",
       "        (() => {\n",
       "          let quickchartButtonEl =\n",
       "            document.querySelector('#df-f4843ed4-09c9-4fae-9d4a-90125a40c027 button');\n",
       "          quickchartButtonEl.style.display =\n",
       "            google.colab.kernel.accessAllowed ? 'block' : 'none';\n",
       "        })();\n",
       "      </script>\n",
       "    </div>\n",
       "\n",
       "    </div>\n",
       "  </div>\n"
      ],
      "text/plain": [
       "             Class        pIC50           MW        AlogP          HBA  \\\n",
       "count  1513.000000  1513.000000  1513.000000  1513.000000  1513.000000   \n",
       "mean      0.456709     6.521991   479.661988     3.177080     3.732981   \n",
       "std       0.498287     1.342417   122.083053     1.396633     1.444778   \n",
       "min       0.000000     2.544546   138.187000    -4.361100     0.000000   \n",
       "25%       0.000000     5.585027   389.331300     2.335500     3.000000   \n",
       "50%       0.000000     6.761954   463.628300     3.171300     4.000000   \n",
       "75%       1.000000     7.540000   564.639530     4.015500     4.000000   \n",
       "max       1.000000    10.522879  1350.473300     7.617400    12.000000   \n",
       "\n",
       "               HBD           RB  HeavyAtomCount  ChiralCenterCount  \\\n",
       "count  1513.000000  1513.000000     1513.000000        1513.000000   \n",
       "mean      2.001322     8.049570       34.089227           0.522802   \n",
       "std       1.629343     4.741135        8.520088           1.162539   \n",
       "min       0.000000     0.000000       10.000000           0.000000   \n",
       "25%       0.000000     4.000000       28.000000           0.000000   \n",
       "50%       2.000000     7.000000       33.000000           0.000000   \n",
       "75%       3.000000    11.000000       40.000000           1.000000   \n",
       "max      15.000000    40.000000       97.000000          10.000000   \n",
       "\n",
       "       ChiralCenterCountAllPossible  ...  PEOE6 (PEOE6)  PEOE7 (PEOE7)  \\\n",
       "count                   1513.000000  ...    1513.000000    1513.000000   \n",
       "mean                       2.317250  ...      52.348846      48.763740   \n",
       "std                        1.612558  ...      25.993800      18.201519   \n",
       "min                        0.000000  ...       0.000000      -3.551821   \n",
       "25%                        1.000000  ...      34.319988      36.547150   \n",
       "50%                        2.000000  ...      51.479984      47.624382   \n",
       "75%                        3.000000  ...      66.553795      58.844093   \n",
       "max                       12.000000  ...     161.342860     124.272730   \n",
       "\n",
       "       PEOE8 (PEOE8)  PEOE9 (PEOE9)  PEOE10 (PEOE10)  PEOE11 (PEOE11)  \\\n",
       "count    1513.000000    1513.000000      1513.000000      1513.000000   \n",
       "mean      181.835580     148.442348        30.371697         3.488650   \n",
       "std        99.717702      60.548833        12.162452         5.148336   \n",
       "min         1.916970      -5.536391        -2.216191        -7.286308   \n",
       "25%       102.233770     102.510450        20.132990         0.000000   \n",
       "50%       171.917220     140.683620        30.107586         0.550130   \n",
       "75%       253.679080     185.659260        37.133846         7.980170   \n",
       "max       865.473330     378.516270       121.671900        29.823961   \n",
       "\n",
       "       PEOE12 (PEOE12)  PEOE13 (PEOE13)  PEOE14 (PEOE14)    canvasUID  \n",
       "count      1513.000000      1513.000000      1513.000000  1513.000000  \n",
       "mean         11.740560         1.239762        14.387597   783.779907  \n",
       "std           9.073406         3.293804        13.329890   444.468806  \n",
       "min          -6.106466        -7.379991        -1.273524     1.000000  \n",
       "25%           7.980170         0.000000         0.000000   407.000000  \n",
       "50%           8.188327         0.000000        21.710098   788.000000  \n",
       "75%          15.879790         0.000000        24.663788  1167.000000  \n",
       "max          80.218018        16.681131        61.659470  1547.000000  \n",
       "\n",
       "[8 rows x 592 columns]"
      ]
     },
     "execution_count": 11,
     "metadata": {},
     "output_type": "execute_result"
    }
   ],
   "source": [
    "df.describe()"
   ]
  },
  {
   "cell_type": "code",
   "execution_count": 10,
   "metadata": {
    "id": "Zk6Yw8sEAOhZ"
   },
   "outputs": [],
   "source": [
    "df_bace=df[['mol','pIC50']]"
   ]
  },
  {
   "cell_type": "code",
   "execution_count": 13,
   "metadata": {
    "colab": {
     "base_uri": "https://localhost:8080/",
     "height": 423
    },
    "id": "-CPDNehcAWgk",
    "outputId": "164468fa-62cf-4882-f238-d5a6e478be96"
   },
   "outputs": [
    {
     "data": {
      "application/vnd.google.colaboratory.intrinsic+json": {
       "summary": "{\n  \"name\": \"df_bace\",\n  \"rows\": 1513,\n  \"fields\": [\n    {\n      \"column\": \"mol\",\n      \"properties\": {\n        \"dtype\": \"string\",\n        \"num_unique_values\": 1513,\n        \"samples\": [\n          \"s1nc(cc1)-c1cc2c(OC(CC23N=C(N)N(C)C3=O)(C)C)cc1\",\n          \"FC(F)Oc1ccc(cc1)[C@@]1(N=C(N)N(C)C1=O)c1cc(ccc1)\\\\C=C\\\\CCCO\",\n          \"S1(=O)(=O)N(CCCC1)c1cc(cc(NCC)c1)C(=O)NC(Cc1ccccc1)C(O)C[NH2+]C1CC1\"\n        ],\n        \"semantic_type\": \"\",\n        \"description\": \"\"\n      }\n    },\n    {\n      \"column\": \"pIC50\",\n      \"properties\": {\n        \"dtype\": \"number\",\n        \"std\": 1.3424169311061227,\n        \"min\": 2.5445461,\n        \"max\": 10.522879,\n        \"num_unique_values\": 651,\n        \"samples\": [\n          3.4689045,\n          7.167491,\n          7.2146702\n        ],\n        \"semantic_type\": \"\",\n        \"description\": \"\"\n      }\n    }\n  ]\n}",
       "type": "dataframe",
       "variable_name": "df_bace"
      },
      "text/html": [
       "\n",
       "  <div id=\"df-475151f5-a208-42ed-b581-ca182fda0bfa\" class=\"colab-df-container\">\n",
       "    <div>\n",
       "<style scoped>\n",
       "    .dataframe tbody tr th:only-of-type {\n",
       "        vertical-align: middle;\n",
       "    }\n",
       "\n",
       "    .dataframe tbody tr th {\n",
       "        vertical-align: top;\n",
       "    }\n",
       "\n",
       "    .dataframe thead th {\n",
       "        text-align: right;\n",
       "    }\n",
       "</style>\n",
       "<table border=\"1\" class=\"dataframe\">\n",
       "  <thead>\n",
       "    <tr style=\"text-align: right;\">\n",
       "      <th></th>\n",
       "      <th>mol</th>\n",
       "      <th>pIC50</th>\n",
       "    </tr>\n",
       "  </thead>\n",
       "  <tbody>\n",
       "    <tr>\n",
       "      <th>0</th>\n",
       "      <td>O1CC[C@@H](NC(=O)[C@@H](Cc2cc3cc(ccc3nc2N)-c2c...</td>\n",
       "      <td>9.154901</td>\n",
       "    </tr>\n",
       "    <tr>\n",
       "      <th>1</th>\n",
       "      <td>Fc1cc(cc(F)c1)C[C@H](NC(=O)[C@@H](N1CC[C@](NC(...</td>\n",
       "      <td>8.853872</td>\n",
       "    </tr>\n",
       "    <tr>\n",
       "      <th>2</th>\n",
       "      <td>S1(=O)(=O)N(c2cc(cc3c2n(cc3CC)CC1)C(=O)N[C@H](...</td>\n",
       "      <td>8.698970</td>\n",
       "    </tr>\n",
       "    <tr>\n",
       "      <th>3</th>\n",
       "      <td>S1(=O)(=O)C[C@@H](Cc2cc(O[C@H](COCC)C(F)(F)F)c...</td>\n",
       "      <td>8.698970</td>\n",
       "    </tr>\n",
       "    <tr>\n",
       "      <th>4</th>\n",
       "      <td>S1(=O)(=O)N(c2cc(cc3c2n(cc3CC)CC1)C(=O)N[C@H](...</td>\n",
       "      <td>8.698970</td>\n",
       "    </tr>\n",
       "    <tr>\n",
       "      <th>...</th>\n",
       "      <td>...</td>\n",
       "      <td>...</td>\n",
       "    </tr>\n",
       "    <tr>\n",
       "      <th>1508</th>\n",
       "      <td>Clc1cc2nc(n(c2cc1)C(CC(=O)NCC1CCOCC1)CC)N</td>\n",
       "      <td>3.000000</td>\n",
       "    </tr>\n",
       "    <tr>\n",
       "      <th>1509</th>\n",
       "      <td>Clc1cc2nc(n(c2cc1)C(CC(=O)NCc1ncccc1)CC)N</td>\n",
       "      <td>3.000000</td>\n",
       "    </tr>\n",
       "    <tr>\n",
       "      <th>1510</th>\n",
       "      <td>Brc1cc(ccc1)C1CC1C=1N=C(N)N(C)C(=O)C=1</td>\n",
       "      <td>2.953115</td>\n",
       "    </tr>\n",
       "    <tr>\n",
       "      <th>1511</th>\n",
       "      <td>O=C1N(C)C(=NC(=C1)C1CC1c1cc(ccc1)-c1ccccc1)N</td>\n",
       "      <td>2.733298</td>\n",
       "    </tr>\n",
       "    <tr>\n",
       "      <th>1512</th>\n",
       "      <td>Clc1cc2nc(n(c2cc1)CCCC(=O)NCC1CC1)N</td>\n",
       "      <td>2.544546</td>\n",
       "    </tr>\n",
       "  </tbody>\n",
       "</table>\n",
       "<p>1513 rows × 2 columns</p>\n",
       "</div>\n",
       "    <div class=\"colab-df-buttons\">\n",
       "\n",
       "  <div class=\"colab-df-container\">\n",
       "    <button class=\"colab-df-convert\" onclick=\"convertToInteractive('df-475151f5-a208-42ed-b581-ca182fda0bfa')\"\n",
       "            title=\"Convert this dataframe to an interactive table.\"\n",
       "            style=\"display:none;\">\n",
       "\n",
       "  <svg xmlns=\"http://www.w3.org/2000/svg\" height=\"24px\" viewBox=\"0 -960 960 960\">\n",
       "    <path d=\"M120-120v-720h720v720H120Zm60-500h600v-160H180v160Zm220 220h160v-160H400v160Zm0 220h160v-160H400v160ZM180-400h160v-160H180v160Zm440 0h160v-160H620v160ZM180-180h160v-160H180v160Zm440 0h160v-160H620v160Z\"/>\n",
       "  </svg>\n",
       "    </button>\n",
       "\n",
       "  <style>\n",
       "    .colab-df-container {\n",
       "      display:flex;\n",
       "      gap: 12px;\n",
       "    }\n",
       "\n",
       "    .colab-df-convert {\n",
       "      background-color: #E8F0FE;\n",
       "      border: none;\n",
       "      border-radius: 50%;\n",
       "      cursor: pointer;\n",
       "      display: none;\n",
       "      fill: #1967D2;\n",
       "      height: 32px;\n",
       "      padding: 0 0 0 0;\n",
       "      width: 32px;\n",
       "    }\n",
       "\n",
       "    .colab-df-convert:hover {\n",
       "      background-color: #E2EBFA;\n",
       "      box-shadow: 0px 1px 2px rgba(60, 64, 67, 0.3), 0px 1px 3px 1px rgba(60, 64, 67, 0.15);\n",
       "      fill: #174EA6;\n",
       "    }\n",
       "\n",
       "    .colab-df-buttons div {\n",
       "      margin-bottom: 4px;\n",
       "    }\n",
       "\n",
       "    [theme=dark] .colab-df-convert {\n",
       "      background-color: #3B4455;\n",
       "      fill: #D2E3FC;\n",
       "    }\n",
       "\n",
       "    [theme=dark] .colab-df-convert:hover {\n",
       "      background-color: #434B5C;\n",
       "      box-shadow: 0px 1px 3px 1px rgba(0, 0, 0, 0.15);\n",
       "      filter: drop-shadow(0px 1px 2px rgba(0, 0, 0, 0.3));\n",
       "      fill: #FFFFFF;\n",
       "    }\n",
       "  </style>\n",
       "\n",
       "    <script>\n",
       "      const buttonEl =\n",
       "        document.querySelector('#df-475151f5-a208-42ed-b581-ca182fda0bfa button.colab-df-convert');\n",
       "      buttonEl.style.display =\n",
       "        google.colab.kernel.accessAllowed ? 'block' : 'none';\n",
       "\n",
       "      async function convertToInteractive(key) {\n",
       "        const element = document.querySelector('#df-475151f5-a208-42ed-b581-ca182fda0bfa');\n",
       "        const dataTable =\n",
       "          await google.colab.kernel.invokeFunction('convertToInteractive',\n",
       "                                                    [key], {});\n",
       "        if (!dataTable) return;\n",
       "\n",
       "        const docLinkHtml = 'Like what you see? Visit the ' +\n",
       "          '<a target=\"_blank\" href=https://colab.research.google.com/notebooks/data_table.ipynb>data table notebook</a>'\n",
       "          + ' to learn more about interactive tables.';\n",
       "        element.innerHTML = '';\n",
       "        dataTable['output_type'] = 'display_data';\n",
       "        await google.colab.output.renderOutput(dataTable, element);\n",
       "        const docLink = document.createElement('div');\n",
       "        docLink.innerHTML = docLinkHtml;\n",
       "        element.appendChild(docLink);\n",
       "      }\n",
       "    </script>\n",
       "  </div>\n",
       "\n",
       "\n",
       "    <div id=\"df-a8ea7d59-c486-4b0e-b797-b1b1fa2418be\">\n",
       "      <button class=\"colab-df-quickchart\" onclick=\"quickchart('df-a8ea7d59-c486-4b0e-b797-b1b1fa2418be')\"\n",
       "                title=\"Suggest charts\"\n",
       "                style=\"display:none;\">\n",
       "\n",
       "<svg xmlns=\"http://www.w3.org/2000/svg\" height=\"24px\"viewBox=\"0 0 24 24\"\n",
       "     width=\"24px\">\n",
       "    <g>\n",
       "        <path d=\"M19 3H5c-1.1 0-2 .9-2 2v14c0 1.1.9 2 2 2h14c1.1 0 2-.9 2-2V5c0-1.1-.9-2-2-2zM9 17H7v-7h2v7zm4 0h-2V7h2v10zm4 0h-2v-4h2v4z\"/>\n",
       "    </g>\n",
       "</svg>\n",
       "      </button>\n",
       "\n",
       "<style>\n",
       "  .colab-df-quickchart {\n",
       "      --bg-color: #E8F0FE;\n",
       "      --fill-color: #1967D2;\n",
       "      --hover-bg-color: #E2EBFA;\n",
       "      --hover-fill-color: #174EA6;\n",
       "      --disabled-fill-color: #AAA;\n",
       "      --disabled-bg-color: #DDD;\n",
       "  }\n",
       "\n",
       "  [theme=dark] .colab-df-quickchart {\n",
       "      --bg-color: #3B4455;\n",
       "      --fill-color: #D2E3FC;\n",
       "      --hover-bg-color: #434B5C;\n",
       "      --hover-fill-color: #FFFFFF;\n",
       "      --disabled-bg-color: #3B4455;\n",
       "      --disabled-fill-color: #666;\n",
       "  }\n",
       "\n",
       "  .colab-df-quickchart {\n",
       "    background-color: var(--bg-color);\n",
       "    border: none;\n",
       "    border-radius: 50%;\n",
       "    cursor: pointer;\n",
       "    display: none;\n",
       "    fill: var(--fill-color);\n",
       "    height: 32px;\n",
       "    padding: 0;\n",
       "    width: 32px;\n",
       "  }\n",
       "\n",
       "  .colab-df-quickchart:hover {\n",
       "    background-color: var(--hover-bg-color);\n",
       "    box-shadow: 0 1px 2px rgba(60, 64, 67, 0.3), 0 1px 3px 1px rgba(60, 64, 67, 0.15);\n",
       "    fill: var(--button-hover-fill-color);\n",
       "  }\n",
       "\n",
       "  .colab-df-quickchart-complete:disabled,\n",
       "  .colab-df-quickchart-complete:disabled:hover {\n",
       "    background-color: var(--disabled-bg-color);\n",
       "    fill: var(--disabled-fill-color);\n",
       "    box-shadow: none;\n",
       "  }\n",
       "\n",
       "  .colab-df-spinner {\n",
       "    border: 2px solid var(--fill-color);\n",
       "    border-color: transparent;\n",
       "    border-bottom-color: var(--fill-color);\n",
       "    animation:\n",
       "      spin 1s steps(1) infinite;\n",
       "  }\n",
       "\n",
       "  @keyframes spin {\n",
       "    0% {\n",
       "      border-color: transparent;\n",
       "      border-bottom-color: var(--fill-color);\n",
       "      border-left-color: var(--fill-color);\n",
       "    }\n",
       "    20% {\n",
       "      border-color: transparent;\n",
       "      border-left-color: var(--fill-color);\n",
       "      border-top-color: var(--fill-color);\n",
       "    }\n",
       "    30% {\n",
       "      border-color: transparent;\n",
       "      border-left-color: var(--fill-color);\n",
       "      border-top-color: var(--fill-color);\n",
       "      border-right-color: var(--fill-color);\n",
       "    }\n",
       "    40% {\n",
       "      border-color: transparent;\n",
       "      border-right-color: var(--fill-color);\n",
       "      border-top-color: var(--fill-color);\n",
       "    }\n",
       "    60% {\n",
       "      border-color: transparent;\n",
       "      border-right-color: var(--fill-color);\n",
       "    }\n",
       "    80% {\n",
       "      border-color: transparent;\n",
       "      border-right-color: var(--fill-color);\n",
       "      border-bottom-color: var(--fill-color);\n",
       "    }\n",
       "    90% {\n",
       "      border-color: transparent;\n",
       "      border-bottom-color: var(--fill-color);\n",
       "    }\n",
       "  }\n",
       "</style>\n",
       "\n",
       "      <script>\n",
       "        async function quickchart(key) {\n",
       "          const quickchartButtonEl =\n",
       "            document.querySelector('#' + key + ' button');\n",
       "          quickchartButtonEl.disabled = true;  // To prevent multiple clicks.\n",
       "          quickchartButtonEl.classList.add('colab-df-spinner');\n",
       "          try {\n",
       "            const charts = await google.colab.kernel.invokeFunction(\n",
       "                'suggestCharts', [key], {});\n",
       "          } catch (error) {\n",
       "            console.error('Error during call to suggestCharts:', error);\n",
       "          }\n",
       "          quickchartButtonEl.classList.remove('colab-df-spinner');\n",
       "          quickchartButtonEl.classList.add('colab-df-quickchart-complete');\n",
       "        }\n",
       "        (() => {\n",
       "          let quickchartButtonEl =\n",
       "            document.querySelector('#df-a8ea7d59-c486-4b0e-b797-b1b1fa2418be button');\n",
       "          quickchartButtonEl.style.display =\n",
       "            google.colab.kernel.accessAllowed ? 'block' : 'none';\n",
       "        })();\n",
       "      </script>\n",
       "    </div>\n",
       "\n",
       "  <div id=\"id_80f6918c-d0a0-452d-af50-c654d236f114\">\n",
       "    <style>\n",
       "      .colab-df-generate {\n",
       "        background-color: #E8F0FE;\n",
       "        border: none;\n",
       "        border-radius: 50%;\n",
       "        cursor: pointer;\n",
       "        display: none;\n",
       "        fill: #1967D2;\n",
       "        height: 32px;\n",
       "        padding: 0 0 0 0;\n",
       "        width: 32px;\n",
       "      }\n",
       "\n",
       "      .colab-df-generate:hover {\n",
       "        background-color: #E2EBFA;\n",
       "        box-shadow: 0px 1px 2px rgba(60, 64, 67, 0.3), 0px 1px 3px 1px rgba(60, 64, 67, 0.15);\n",
       "        fill: #174EA6;\n",
       "      }\n",
       "\n",
       "      [theme=dark] .colab-df-generate {\n",
       "        background-color: #3B4455;\n",
       "        fill: #D2E3FC;\n",
       "      }\n",
       "\n",
       "      [theme=dark] .colab-df-generate:hover {\n",
       "        background-color: #434B5C;\n",
       "        box-shadow: 0px 1px 3px 1px rgba(0, 0, 0, 0.15);\n",
       "        filter: drop-shadow(0px 1px 2px rgba(0, 0, 0, 0.3));\n",
       "        fill: #FFFFFF;\n",
       "      }\n",
       "    </style>\n",
       "    <button class=\"colab-df-generate\" onclick=\"generateWithVariable('df_bace')\"\n",
       "            title=\"Generate code using this dataframe.\"\n",
       "            style=\"display:none;\">\n",
       "\n",
       "  <svg xmlns=\"http://www.w3.org/2000/svg\" height=\"24px\"viewBox=\"0 0 24 24\"\n",
       "       width=\"24px\">\n",
       "    <path d=\"M7,19H8.4L18.45,9,17,7.55,7,17.6ZM5,21V16.75L18.45,3.32a2,2,0,0,1,2.83,0l1.4,1.43a1.91,1.91,0,0,1,.58,1.4,1.91,1.91,0,0,1-.58,1.4L9.25,21ZM18.45,9,17,7.55Zm-12,3A5.31,5.31,0,0,0,4.9,8.1,5.31,5.31,0,0,0,1,6.5,5.31,5.31,0,0,0,4.9,4.9,5.31,5.31,0,0,0,6.5,1,5.31,5.31,0,0,0,8.1,4.9,5.31,5.31,0,0,0,12,6.5,5.46,5.46,0,0,0,6.5,12Z\"/>\n",
       "  </svg>\n",
       "    </button>\n",
       "    <script>\n",
       "      (() => {\n",
       "      const buttonEl =\n",
       "        document.querySelector('#id_80f6918c-d0a0-452d-af50-c654d236f114 button.colab-df-generate');\n",
       "      buttonEl.style.display =\n",
       "        google.colab.kernel.accessAllowed ? 'block' : 'none';\n",
       "\n",
       "      buttonEl.onclick = () => {\n",
       "        google.colab.notebook.generateWithVariable('df_bace');\n",
       "      }\n",
       "      })();\n",
       "    </script>\n",
       "  </div>\n",
       "\n",
       "    </div>\n",
       "  </div>\n"
      ],
      "text/plain": [
       "                                                    mol     pIC50\n",
       "0     O1CC[C@@H](NC(=O)[C@@H](Cc2cc3cc(ccc3nc2N)-c2c...  9.154901\n",
       "1     Fc1cc(cc(F)c1)C[C@H](NC(=O)[C@@H](N1CC[C@](NC(...  8.853872\n",
       "2     S1(=O)(=O)N(c2cc(cc3c2n(cc3CC)CC1)C(=O)N[C@H](...  8.698970\n",
       "3     S1(=O)(=O)C[C@@H](Cc2cc(O[C@H](COCC)C(F)(F)F)c...  8.698970\n",
       "4     S1(=O)(=O)N(c2cc(cc3c2n(cc3CC)CC1)C(=O)N[C@H](...  8.698970\n",
       "...                                                 ...       ...\n",
       "1508          Clc1cc2nc(n(c2cc1)C(CC(=O)NCC1CCOCC1)CC)N  3.000000\n",
       "1509          Clc1cc2nc(n(c2cc1)C(CC(=O)NCc1ncccc1)CC)N  3.000000\n",
       "1510             Brc1cc(ccc1)C1CC1C=1N=C(N)N(C)C(=O)C=1  2.953115\n",
       "1511       O=C1N(C)C(=NC(=C1)C1CC1c1cc(ccc1)-c1ccccc1)N  2.733298\n",
       "1512                Clc1cc2nc(n(c2cc1)CCCC(=O)NCC1CC1)N  2.544546\n",
       "\n",
       "[1513 rows x 2 columns]"
      ]
     },
     "execution_count": 13,
     "metadata": {},
     "output_type": "execute_result"
    }
   ],
   "source": [
    "df_bace"
   ]
  },
  {
   "cell_type": "code",
   "execution_count": 11,
   "metadata": {
    "colab": {
     "base_uri": "https://localhost:8080/"
    },
    "collapsed": true,
    "id": "qYVQefeIxsAP",
    "jupyter": {
     "outputs_hidden": true
    },
    "outputId": "092a5638-63c1-49eb-801b-65f059ef5361"
   },
   "outputs": [
    {
     "name": "stderr",
     "output_type": "stream",
     "text": [
      "/tmp/ipython-input-4287560437.py:19: SettingWithCopyWarning: \n",
      "A value is trying to be set on a copy of a slice from a DataFrame.\n",
      "Try using .loc[row_indexer,col_indexer] = value instead\n",
      "\n",
      "See the caveats in the documentation: https://pandas.pydata.org/pandas-docs/stable/user_guide/indexing.html#returning-a-view-versus-a-copy\n",
      "  df_bace['canonical_smiles'] = df_bace['mol'].apply(canonicalize_smiles)\n"
     ]
    }
   ],
   "source": [
    "def canonicalize_smiles(smiles):\n",
    "        '''This function takes a non-canonical SMILES and\n",
    "        returns the canonical version\n",
    "        Args:\n",
    "            -smiles: str, non-canonical SMILES of a molecule\n",
    "        Out:\n",
    "            - canonical_smiles: str, canonical SMILES of the molecule\n",
    "        '''\n",
    "\n",
    "        mol = Chem.MolFromSmiles(smiles) # create a mol object from input smiles\n",
    "\n",
    "        canonical_smiles = Chem.MolToSmiles(mol) # convert the previous mol object to SMILES using Chem.MolToSmiles()\n",
    "\n",
    "\n",
    "        return canonical_smiles\n",
    "\n",
    "\n",
    "    # apply canonical smiles to our df\n",
    "df_bace['canonical_smiles'] = df_bace['mol'].apply(canonicalize_smiles)\n"
   ]
  },
  {
   "cell_type": "code",
   "execution_count": 12,
   "metadata": {
    "colab": {
     "base_uri": "https://localhost:8080/",
     "height": 475
    },
    "id": "vZgQZMtFCijt",
    "outputId": "acc7eca0-236f-46eb-bfea-b1dd5769a1b0"
   },
   "outputs": [
    {
     "data": {
      "application/vnd.google.colaboratory.intrinsic+json": {
       "summary": "{\n  \"name\": \"df_bace\",\n  \"rows\": 1513,\n  \"fields\": [\n    {\n      \"column\": \"mol\",\n      \"properties\": {\n        \"dtype\": \"string\",\n        \"num_unique_values\": 1513,\n        \"samples\": [\n          \"s1nc(cc1)-c1cc2c(OC(CC23N=C(N)N(C)C3=O)(C)C)cc1\",\n          \"FC(F)Oc1ccc(cc1)[C@@]1(N=C(N)N(C)C1=O)c1cc(ccc1)\\\\C=C\\\\CCCO\",\n          \"S1(=O)(=O)N(CCCC1)c1cc(cc(NCC)c1)C(=O)NC(Cc1ccccc1)C(O)C[NH2+]C1CC1\"\n        ],\n        \"semantic_type\": \"\",\n        \"description\": \"\"\n      }\n    },\n    {\n      \"column\": \"pIC50\",\n      \"properties\": {\n        \"dtype\": \"number\",\n        \"std\": 1.3424169311061227,\n        \"min\": 2.5445461,\n        \"max\": 10.522879,\n        \"num_unique_values\": 651,\n        \"samples\": [\n          3.4689045,\n          7.167491,\n          7.2146702\n        ],\n        \"semantic_type\": \"\",\n        \"description\": \"\"\n      }\n    },\n    {\n      \"column\": \"canonical_smiles\",\n      \"properties\": {\n        \"dtype\": \"string\",\n        \"num_unique_values\": 1513,\n        \"samples\": [\n          \"CN1C(=O)C2(CC(C)(C)Oc3ccc(-c4ccsn4)cc32)N=C1N\",\n          \"CN1C(=O)[C@@](c2ccc(OC(F)F)cc2)(c2cccc(/C=C/CCCO)c2)N=C1N\",\n          \"CCNc1cc(C(=O)NC(Cc2ccccc2)C(O)C[NH2+]C2CC2)cc(N2CCCCS2(=O)=O)c1\"\n        ],\n        \"semantic_type\": \"\",\n        \"description\": \"\"\n      }\n    }\n  ]\n}",
       "type": "dataframe",
       "variable_name": "df_bace"
      },
      "text/html": [
       "\n",
       "  <div id=\"df-a4d80ea9-9cc7-41af-bebc-d3828ab94b65\" class=\"colab-df-container\">\n",
       "    <div>\n",
       "<style scoped>\n",
       "    .dataframe tbody tr th:only-of-type {\n",
       "        vertical-align: middle;\n",
       "    }\n",
       "\n",
       "    .dataframe tbody tr th {\n",
       "        vertical-align: top;\n",
       "    }\n",
       "\n",
       "    .dataframe thead th {\n",
       "        text-align: right;\n",
       "    }\n",
       "</style>\n",
       "<table border=\"1\" class=\"dataframe\">\n",
       "  <thead>\n",
       "    <tr style=\"text-align: right;\">\n",
       "      <th></th>\n",
       "      <th>mol</th>\n",
       "      <th>pIC50</th>\n",
       "      <th>canonical_smiles</th>\n",
       "    </tr>\n",
       "  </thead>\n",
       "  <tbody>\n",
       "    <tr>\n",
       "      <th>0</th>\n",
       "      <td>O1CC[C@@H](NC(=O)[C@@H](Cc2cc3cc(ccc3nc2N)-c2c...</td>\n",
       "      <td>9.154901</td>\n",
       "      <td>Cc1ccccc1-c1ccc2nc(N)c(C[C@@H](C)C(=O)N[C@@H]3...</td>\n",
       "    </tr>\n",
       "    <tr>\n",
       "      <th>1</th>\n",
       "      <td>Fc1cc(cc(F)c1)C[C@H](NC(=O)[C@@H](N1CC[C@](NC(...</td>\n",
       "      <td>8.853872</td>\n",
       "      <td>CCCO[C@H]1C[NH2+][C@@H]([C@@H](O)[C@H](Cc2cc(F...</td>\n",
       "    </tr>\n",
       "    <tr>\n",
       "      <th>2</th>\n",
       "      <td>S1(=O)(=O)N(c2cc(cc3c2n(cc3CC)CC1)C(=O)N[C@H](...</td>\n",
       "      <td>8.698970</td>\n",
       "      <td>CCc1cn2c3c(cc(C(=O)N[C@@H](Cc4ccccc4)[C@H](O)C...</td>\n",
       "    </tr>\n",
       "    <tr>\n",
       "      <th>3</th>\n",
       "      <td>S1(=O)(=O)C[C@@H](Cc2cc(O[C@H](COCC)C(F)(F)F)c...</td>\n",
       "      <td>8.698970</td>\n",
       "      <td>CCOC[C@@H](Oc1cc(C[C@@H]2CS(=O)(=O)C[C@H]([NH2...</td>\n",
       "    </tr>\n",
       "    <tr>\n",
       "      <th>4</th>\n",
       "      <td>S1(=O)(=O)N(c2cc(cc3c2n(cc3CC)CC1)C(=O)N[C@H](...</td>\n",
       "      <td>8.698970</td>\n",
       "      <td>CCc1cn2c3c(cc(C(=O)N[C@@H](Cc4ccccc4)[C@H](O)C...</td>\n",
       "    </tr>\n",
       "    <tr>\n",
       "      <th>...</th>\n",
       "      <td>...</td>\n",
       "      <td>...</td>\n",
       "      <td>...</td>\n",
       "    </tr>\n",
       "    <tr>\n",
       "      <th>1508</th>\n",
       "      <td>Clc1cc2nc(n(c2cc1)C(CC(=O)NCC1CCOCC1)CC)N</td>\n",
       "      <td>3.000000</td>\n",
       "      <td>CCC(CC(=O)NCC1CCOCC1)n1c(N)nc2cc(Cl)ccc21</td>\n",
       "    </tr>\n",
       "    <tr>\n",
       "      <th>1509</th>\n",
       "      <td>Clc1cc2nc(n(c2cc1)C(CC(=O)NCc1ncccc1)CC)N</td>\n",
       "      <td>3.000000</td>\n",
       "      <td>CCC(CC(=O)NCc1ccccn1)n1c(N)nc2cc(Cl)ccc21</td>\n",
       "    </tr>\n",
       "    <tr>\n",
       "      <th>1510</th>\n",
       "      <td>Brc1cc(ccc1)C1CC1C=1N=C(N)N(C)C(=O)C=1</td>\n",
       "      <td>2.953115</td>\n",
       "      <td>Cn1c(N)nc(C2CC2c2cccc(Br)c2)cc1=O</td>\n",
       "    </tr>\n",
       "    <tr>\n",
       "      <th>1511</th>\n",
       "      <td>O=C1N(C)C(=NC(=C1)C1CC1c1cc(ccc1)-c1ccccc1)N</td>\n",
       "      <td>2.733298</td>\n",
       "      <td>Cn1c(N)nc(C2CC2c2cccc(-c3ccccc3)c2)cc1=O</td>\n",
       "    </tr>\n",
       "    <tr>\n",
       "      <th>1512</th>\n",
       "      <td>Clc1cc2nc(n(c2cc1)CCCC(=O)NCC1CC1)N</td>\n",
       "      <td>2.544546</td>\n",
       "      <td>Nc1nc2cc(Cl)ccc2n1CCCC(=O)NCC1CC1</td>\n",
       "    </tr>\n",
       "  </tbody>\n",
       "</table>\n",
       "<p>1513 rows × 3 columns</p>\n",
       "</div>\n",
       "    <div class=\"colab-df-buttons\">\n",
       "\n",
       "  <div class=\"colab-df-container\">\n",
       "    <button class=\"colab-df-convert\" onclick=\"convertToInteractive('df-a4d80ea9-9cc7-41af-bebc-d3828ab94b65')\"\n",
       "            title=\"Convert this dataframe to an interactive table.\"\n",
       "            style=\"display:none;\">\n",
       "\n",
       "  <svg xmlns=\"http://www.w3.org/2000/svg\" height=\"24px\" viewBox=\"0 -960 960 960\">\n",
       "    <path d=\"M120-120v-720h720v720H120Zm60-500h600v-160H180v160Zm220 220h160v-160H400v160Zm0 220h160v-160H400v160ZM180-400h160v-160H180v160Zm440 0h160v-160H620v160ZM180-180h160v-160H180v160Zm440 0h160v-160H620v160Z\"/>\n",
       "  </svg>\n",
       "    </button>\n",
       "\n",
       "  <style>\n",
       "    .colab-df-container {\n",
       "      display:flex;\n",
       "      gap: 12px;\n",
       "    }\n",
       "\n",
       "    .colab-df-convert {\n",
       "      background-color: #E8F0FE;\n",
       "      border: none;\n",
       "      border-radius: 50%;\n",
       "      cursor: pointer;\n",
       "      display: none;\n",
       "      fill: #1967D2;\n",
       "      height: 32px;\n",
       "      padding: 0 0 0 0;\n",
       "      width: 32px;\n",
       "    }\n",
       "\n",
       "    .colab-df-convert:hover {\n",
       "      background-color: #E2EBFA;\n",
       "      box-shadow: 0px 1px 2px rgba(60, 64, 67, 0.3), 0px 1px 3px 1px rgba(60, 64, 67, 0.15);\n",
       "      fill: #174EA6;\n",
       "    }\n",
       "\n",
       "    .colab-df-buttons div {\n",
       "      margin-bottom: 4px;\n",
       "    }\n",
       "\n",
       "    [theme=dark] .colab-df-convert {\n",
       "      background-color: #3B4455;\n",
       "      fill: #D2E3FC;\n",
       "    }\n",
       "\n",
       "    [theme=dark] .colab-df-convert:hover {\n",
       "      background-color: #434B5C;\n",
       "      box-shadow: 0px 1px 3px 1px rgba(0, 0, 0, 0.15);\n",
       "      filter: drop-shadow(0px 1px 2px rgba(0, 0, 0, 0.3));\n",
       "      fill: #FFFFFF;\n",
       "    }\n",
       "  </style>\n",
       "\n",
       "    <script>\n",
       "      const buttonEl =\n",
       "        document.querySelector('#df-a4d80ea9-9cc7-41af-bebc-d3828ab94b65 button.colab-df-convert');\n",
       "      buttonEl.style.display =\n",
       "        google.colab.kernel.accessAllowed ? 'block' : 'none';\n",
       "\n",
       "      async function convertToInteractive(key) {\n",
       "        const element = document.querySelector('#df-a4d80ea9-9cc7-41af-bebc-d3828ab94b65');\n",
       "        const dataTable =\n",
       "          await google.colab.kernel.invokeFunction('convertToInteractive',\n",
       "                                                    [key], {});\n",
       "        if (!dataTable) return;\n",
       "\n",
       "        const docLinkHtml = 'Like what you see? Visit the ' +\n",
       "          '<a target=\"_blank\" href=https://colab.research.google.com/notebooks/data_table.ipynb>data table notebook</a>'\n",
       "          + ' to learn more about interactive tables.';\n",
       "        element.innerHTML = '';\n",
       "        dataTable['output_type'] = 'display_data';\n",
       "        await google.colab.output.renderOutput(dataTable, element);\n",
       "        const docLink = document.createElement('div');\n",
       "        docLink.innerHTML = docLinkHtml;\n",
       "        element.appendChild(docLink);\n",
       "      }\n",
       "    </script>\n",
       "  </div>\n",
       "\n",
       "\n",
       "    <div id=\"df-7f16f226-d3c3-4d48-8af5-a60aaac14f8b\">\n",
       "      <button class=\"colab-df-quickchart\" onclick=\"quickchart('df-7f16f226-d3c3-4d48-8af5-a60aaac14f8b')\"\n",
       "                title=\"Suggest charts\"\n",
       "                style=\"display:none;\">\n",
       "\n",
       "<svg xmlns=\"http://www.w3.org/2000/svg\" height=\"24px\"viewBox=\"0 0 24 24\"\n",
       "     width=\"24px\">\n",
       "    <g>\n",
       "        <path d=\"M19 3H5c-1.1 0-2 .9-2 2v14c0 1.1.9 2 2 2h14c1.1 0 2-.9 2-2V5c0-1.1-.9-2-2-2zM9 17H7v-7h2v7zm4 0h-2V7h2v10zm4 0h-2v-4h2v4z\"/>\n",
       "    </g>\n",
       "</svg>\n",
       "      </button>\n",
       "\n",
       "<style>\n",
       "  .colab-df-quickchart {\n",
       "      --bg-color: #E8F0FE;\n",
       "      --fill-color: #1967D2;\n",
       "      --hover-bg-color: #E2EBFA;\n",
       "      --hover-fill-color: #174EA6;\n",
       "      --disabled-fill-color: #AAA;\n",
       "      --disabled-bg-color: #DDD;\n",
       "  }\n",
       "\n",
       "  [theme=dark] .colab-df-quickchart {\n",
       "      --bg-color: #3B4455;\n",
       "      --fill-color: #D2E3FC;\n",
       "      --hover-bg-color: #434B5C;\n",
       "      --hover-fill-color: #FFFFFF;\n",
       "      --disabled-bg-color: #3B4455;\n",
       "      --disabled-fill-color: #666;\n",
       "  }\n",
       "\n",
       "  .colab-df-quickchart {\n",
       "    background-color: var(--bg-color);\n",
       "    border: none;\n",
       "    border-radius: 50%;\n",
       "    cursor: pointer;\n",
       "    display: none;\n",
       "    fill: var(--fill-color);\n",
       "    height: 32px;\n",
       "    padding: 0;\n",
       "    width: 32px;\n",
       "  }\n",
       "\n",
       "  .colab-df-quickchart:hover {\n",
       "    background-color: var(--hover-bg-color);\n",
       "    box-shadow: 0 1px 2px rgba(60, 64, 67, 0.3), 0 1px 3px 1px rgba(60, 64, 67, 0.15);\n",
       "    fill: var(--button-hover-fill-color);\n",
       "  }\n",
       "\n",
       "  .colab-df-quickchart-complete:disabled,\n",
       "  .colab-df-quickchart-complete:disabled:hover {\n",
       "    background-color: var(--disabled-bg-color);\n",
       "    fill: var(--disabled-fill-color);\n",
       "    box-shadow: none;\n",
       "  }\n",
       "\n",
       "  .colab-df-spinner {\n",
       "    border: 2px solid var(--fill-color);\n",
       "    border-color: transparent;\n",
       "    border-bottom-color: var(--fill-color);\n",
       "    animation:\n",
       "      spin 1s steps(1) infinite;\n",
       "  }\n",
       "\n",
       "  @keyframes spin {\n",
       "    0% {\n",
       "      border-color: transparent;\n",
       "      border-bottom-color: var(--fill-color);\n",
       "      border-left-color: var(--fill-color);\n",
       "    }\n",
       "    20% {\n",
       "      border-color: transparent;\n",
       "      border-left-color: var(--fill-color);\n",
       "      border-top-color: var(--fill-color);\n",
       "    }\n",
       "    30% {\n",
       "      border-color: transparent;\n",
       "      border-left-color: var(--fill-color);\n",
       "      border-top-color: var(--fill-color);\n",
       "      border-right-color: var(--fill-color);\n",
       "    }\n",
       "    40% {\n",
       "      border-color: transparent;\n",
       "      border-right-color: var(--fill-color);\n",
       "      border-top-color: var(--fill-color);\n",
       "    }\n",
       "    60% {\n",
       "      border-color: transparent;\n",
       "      border-right-color: var(--fill-color);\n",
       "    }\n",
       "    80% {\n",
       "      border-color: transparent;\n",
       "      border-right-color: var(--fill-color);\n",
       "      border-bottom-color: var(--fill-color);\n",
       "    }\n",
       "    90% {\n",
       "      border-color: transparent;\n",
       "      border-bottom-color: var(--fill-color);\n",
       "    }\n",
       "  }\n",
       "</style>\n",
       "\n",
       "      <script>\n",
       "        async function quickchart(key) {\n",
       "          const quickchartButtonEl =\n",
       "            document.querySelector('#' + key + ' button');\n",
       "          quickchartButtonEl.disabled = true;  // To prevent multiple clicks.\n",
       "          quickchartButtonEl.classList.add('colab-df-spinner');\n",
       "          try {\n",
       "            const charts = await google.colab.kernel.invokeFunction(\n",
       "                'suggestCharts', [key], {});\n",
       "          } catch (error) {\n",
       "            console.error('Error during call to suggestCharts:', error);\n",
       "          }\n",
       "          quickchartButtonEl.classList.remove('colab-df-spinner');\n",
       "          quickchartButtonEl.classList.add('colab-df-quickchart-complete');\n",
       "        }\n",
       "        (() => {\n",
       "          let quickchartButtonEl =\n",
       "            document.querySelector('#df-7f16f226-d3c3-4d48-8af5-a60aaac14f8b button');\n",
       "          quickchartButtonEl.style.display =\n",
       "            google.colab.kernel.accessAllowed ? 'block' : 'none';\n",
       "        })();\n",
       "      </script>\n",
       "    </div>\n",
       "\n",
       "  <div id=\"id_b21e50fa-f558-4b73-9363-e39b21118ce8\">\n",
       "    <style>\n",
       "      .colab-df-generate {\n",
       "        background-color: #E8F0FE;\n",
       "        border: none;\n",
       "        border-radius: 50%;\n",
       "        cursor: pointer;\n",
       "        display: none;\n",
       "        fill: #1967D2;\n",
       "        height: 32px;\n",
       "        padding: 0 0 0 0;\n",
       "        width: 32px;\n",
       "      }\n",
       "\n",
       "      .colab-df-generate:hover {\n",
       "        background-color: #E2EBFA;\n",
       "        box-shadow: 0px 1px 2px rgba(60, 64, 67, 0.3), 0px 1px 3px 1px rgba(60, 64, 67, 0.15);\n",
       "        fill: #174EA6;\n",
       "      }\n",
       "\n",
       "      [theme=dark] .colab-df-generate {\n",
       "        background-color: #3B4455;\n",
       "        fill: #D2E3FC;\n",
       "      }\n",
       "\n",
       "      [theme=dark] .colab-df-generate:hover {\n",
       "        background-color: #434B5C;\n",
       "        box-shadow: 0px 1px 3px 1px rgba(0, 0, 0, 0.15);\n",
       "        filter: drop-shadow(0px 1px 2px rgba(0, 0, 0, 0.3));\n",
       "        fill: #FFFFFF;\n",
       "      }\n",
       "    </style>\n",
       "    <button class=\"colab-df-generate\" onclick=\"generateWithVariable('df_bace')\"\n",
       "            title=\"Generate code using this dataframe.\"\n",
       "            style=\"display:none;\">\n",
       "\n",
       "  <svg xmlns=\"http://www.w3.org/2000/svg\" height=\"24px\"viewBox=\"0 0 24 24\"\n",
       "       width=\"24px\">\n",
       "    <path d=\"M7,19H8.4L18.45,9,17,7.55,7,17.6ZM5,21V16.75L18.45,3.32a2,2,0,0,1,2.83,0l1.4,1.43a1.91,1.91,0,0,1,.58,1.4,1.91,1.91,0,0,1-.58,1.4L9.25,21ZM18.45,9,17,7.55Zm-12,3A5.31,5.31,0,0,0,4.9,8.1,5.31,5.31,0,0,0,1,6.5,5.31,5.31,0,0,0,4.9,4.9,5.31,5.31,0,0,0,6.5,1,5.31,5.31,0,0,0,8.1,4.9,5.31,5.31,0,0,0,12,6.5,5.46,5.46,0,0,0,6.5,12Z\"/>\n",
       "  </svg>\n",
       "    </button>\n",
       "    <script>\n",
       "      (() => {\n",
       "      const buttonEl =\n",
       "        document.querySelector('#id_b21e50fa-f558-4b73-9363-e39b21118ce8 button.colab-df-generate');\n",
       "      buttonEl.style.display =\n",
       "        google.colab.kernel.accessAllowed ? 'block' : 'none';\n",
       "\n",
       "      buttonEl.onclick = () => {\n",
       "        google.colab.notebook.generateWithVariable('df_bace');\n",
       "      }\n",
       "      })();\n",
       "    </script>\n",
       "  </div>\n",
       "\n",
       "    </div>\n",
       "  </div>\n"
      ],
      "text/plain": [
       "                                                    mol     pIC50  \\\n",
       "0     O1CC[C@@H](NC(=O)[C@@H](Cc2cc3cc(ccc3nc2N)-c2c...  9.154901   \n",
       "1     Fc1cc(cc(F)c1)C[C@H](NC(=O)[C@@H](N1CC[C@](NC(...  8.853872   \n",
       "2     S1(=O)(=O)N(c2cc(cc3c2n(cc3CC)CC1)C(=O)N[C@H](...  8.698970   \n",
       "3     S1(=O)(=O)C[C@@H](Cc2cc(O[C@H](COCC)C(F)(F)F)c...  8.698970   \n",
       "4     S1(=O)(=O)N(c2cc(cc3c2n(cc3CC)CC1)C(=O)N[C@H](...  8.698970   \n",
       "...                                                 ...       ...   \n",
       "1508          Clc1cc2nc(n(c2cc1)C(CC(=O)NCC1CCOCC1)CC)N  3.000000   \n",
       "1509          Clc1cc2nc(n(c2cc1)C(CC(=O)NCc1ncccc1)CC)N  3.000000   \n",
       "1510             Brc1cc(ccc1)C1CC1C=1N=C(N)N(C)C(=O)C=1  2.953115   \n",
       "1511       O=C1N(C)C(=NC(=C1)C1CC1c1cc(ccc1)-c1ccccc1)N  2.733298   \n",
       "1512                Clc1cc2nc(n(c2cc1)CCCC(=O)NCC1CC1)N  2.544546   \n",
       "\n",
       "                                       canonical_smiles  \n",
       "0     Cc1ccccc1-c1ccc2nc(N)c(C[C@@H](C)C(=O)N[C@@H]3...  \n",
       "1     CCCO[C@H]1C[NH2+][C@@H]([C@@H](O)[C@H](Cc2cc(F...  \n",
       "2     CCc1cn2c3c(cc(C(=O)N[C@@H](Cc4ccccc4)[C@H](O)C...  \n",
       "3     CCOC[C@@H](Oc1cc(C[C@@H]2CS(=O)(=O)C[C@H]([NH2...  \n",
       "4     CCc1cn2c3c(cc(C(=O)N[C@@H](Cc4ccccc4)[C@H](O)C...  \n",
       "...                                                 ...  \n",
       "1508          CCC(CC(=O)NCC1CCOCC1)n1c(N)nc2cc(Cl)ccc21  \n",
       "1509          CCC(CC(=O)NCc1ccccn1)n1c(N)nc2cc(Cl)ccc21  \n",
       "1510                  Cn1c(N)nc(C2CC2c2cccc(Br)c2)cc1=O  \n",
       "1511           Cn1c(N)nc(C2CC2c2cccc(-c3ccccc3)c2)cc1=O  \n",
       "1512                  Nc1nc2cc(Cl)ccc2n1CCCC(=O)NCC1CC1  \n",
       "\n",
       "[1513 rows x 3 columns]"
      ]
     },
     "execution_count": 12,
     "metadata": {},
     "output_type": "execute_result"
    }
   ],
   "source": [
    "df_bace"
   ]
  },
  {
   "cell_type": "code",
   "execution_count": 16,
   "metadata": {
    "colab": {
     "base_uri": "https://localhost:8080/",
     "height": 447
    },
    "id": "VpkNDDjskKdk",
    "outputId": "7eebd6c7-81f6-4682-b9fd-ed6c49827f67"
   },
   "outputs": [
    {
     "data": {
      "text/plain": [
       "<Axes: >"
      ]
     },
     "execution_count": 16,
     "metadata": {},
     "output_type": "execute_result"
    },
    {
     "data": {
      "image/png": "[encoded data removed]",
      "text/plain": [
       "<Figure size 640x480 with 1 Axes>"
      ]
     },
     "metadata": {},
     "output_type": "display_data"
    }
   ],
   "source": [
    "df_bace.boxplot(column='pIC50')"
   ]
  },
  {
   "cell_type": "code",
   "execution_count": 17,
   "metadata": {
    "colab": {
     "base_uri": "https://localhost:8080/"
    },
    "id": "BkaoEB6PyIvC",
    "outputId": "5c82bec4-f0f9-44e2-d797-cae0ae389878"
   },
   "outputs": [
    {
     "name": "stdout",
     "output_type": "stream",
     "text": [
      "\n",
      "Total number of rows in the DataFrame: 1513\n",
      "\n",
      "Number of unique canonical SMILES: 1513\n",
      "\n",
      "\n",
      "--- BACE Preprocessing Report ---\n",
      "\n",
      "Final dataset size: (1513, 2)\n",
      "\n"
     ]
    }
   ],
   "source": [
    "    num_rows = len(df_bace)\n",
    "    num_unique_smiles = df_bace['canonical_smiles'].nunique()\n",
    "\n",
    "    print(f\"\\nTotal number of rows in the DataFrame: {num_rows}\")\n",
    "    print(f\"\\nNumber of unique canonical SMILES: {num_unique_smiles}\\n\")\n",
    "\n",
    "    # drop old 'smiles' column\n",
    "    df_bace = df_bace.drop(columns='mol')\n",
    "\n",
    "\n",
    "    print(f\"\\n--- BACE Preprocessing Report ---\\n\")\n",
    "    print(f\"Final dataset size: {df_bace.shape}\\n\")\n"
   ]
  },
  {
   "cell_type": "code",
   "execution_count": 18,
   "metadata": {
    "colab": {
     "base_uri": "https://localhost:8080/",
     "height": 332
    },
    "id": "iCPLt06Vhqma",
    "outputId": "d749134f-870c-4bae-f751-96fbd6cee82b"
   },
   "outputs": [
    {
     "data": {
      "image/png": "[encoded data removed]",
      "text/plain": [
       "<IPython.core.display.Image object>"
      ]
     },
     "execution_count": 18,
     "metadata": {},
     "output_type": "execute_result"
    }
   ],
   "source": [
    "\n",
    "# Visualize some of the molecules of this dataset\n",
    "n=6\n",
    "df_sample=df_bace.sample(n)\n",
    "\n",
    "smiles = df_sample['canonical_smiles'].values\n",
    "legend = df_sample['pIC50'].values\n",
    "molecs = [Chem.MolFromSmiles(s) for s in smiles]\n",
    "\n",
    "Draw.MolsToGridImage(\n",
    "    molecs,\n",
    "    subImgSize=(600,300),\n",
    ")"
   ]
  },
  {
   "cell_type": "code",
   "execution_count": 19,
   "metadata": {
    "colab": {
     "base_uri": "https://localhost:8080/"
    },
    "id": "5W-v1wwSD05X",
    "outputId": "c9e7f75b-c964-4450-9609-f07523d595b0"
   },
   "outputs": [
    {
     "name": "stdout",
     "output_type": "stream",
     "text": [
      "\n",
      "TOTAL number of Na in the DataFrame: 0\n",
      "\n",
      "Non-Numeric Columns (Categorical/Objects):\n",
      "['canonical_smiles']\n"
     ]
    }
   ],
   "source": [
    "total_na_values = df_bace.isna().sum().sum()\n",
    "print(f\"\\nTOTAL number of Na in the DataFrame: {total_na_values}\")\n",
    "non_numeric_df = df_bace.select_dtypes(exclude=np.number)\n",
    "print(\"\\nNon-Numeric Columns (Categorical/Objects):\")\n",
    "print(non_numeric_df.columns.tolist())"
   ]
  },
  {
   "cell_type": "code",
   "execution_count": 20,
   "metadata": {
    "colab": {
     "base_uri": "https://localhost:8080/",
     "height": 423
    },
    "id": "HDgJjIBt35Bl",
    "outputId": "1555e769-22f2-4741-8048-96a4dd940bb3"
   },
   "outputs": [
    {
     "data": {
      "application/vnd.google.colaboratory.intrinsic+json": {
       "summary": "{\n  \"name\": \"df_bace\",\n  \"rows\": 1513,\n  \"fields\": [\n    {\n      \"column\": \"pIC50\",\n      \"properties\": {\n        \"dtype\": \"number\",\n        \"std\": 1.3424169311061227,\n        \"min\": 2.5445461,\n        \"max\": 10.522879,\n        \"num_unique_values\": 651,\n        \"samples\": [\n          3.4689045,\n          7.167491,\n          7.2146702\n        ],\n        \"semantic_type\": \"\",\n        \"description\": \"\"\n      }\n    },\n    {\n      \"column\": \"canonical_smiles\",\n      \"properties\": {\n        \"dtype\": \"string\",\n        \"num_unique_values\": 1513,\n        \"samples\": [\n          \"CN1C(=O)C2(CC(C)(C)Oc3ccc(-c4ccsn4)cc32)N=C1N\",\n          \"CN1C(=O)[C@@](c2ccc(OC(F)F)cc2)(c2cccc(/C=C/CCCO)c2)N=C1N\",\n          \"CCNc1cc(C(=O)NC(Cc2ccccc2)C(O)C[NH2+]C2CC2)cc(N2CCCCS2(=O)=O)c1\"\n        ],\n        \"semantic_type\": \"\",\n        \"description\": \"\"\n      }\n    }\n  ]\n}",
       "type": "dataframe",
       "variable_name": "df_bace"
      },
      "text/html": [
       "\n",
       "  <div id=\"df-2121f913-204b-42bf-8cd9-403a65e9b411\" class=\"colab-df-container\">\n",
       "    <div>\n",
       "<style scoped>\n",
       "    .dataframe tbody tr th:only-of-type {\n",
       "        vertical-align: middle;\n",
       "    }\n",
       "\n",
       "    .dataframe tbody tr th {\n",
       "        vertical-align: top;\n",
       "    }\n",
       "\n",
       "    .dataframe thead th {\n",
       "        text-align: right;\n",
       "    }\n",
       "</style>\n",
       "<table border=\"1\" class=\"dataframe\">\n",
       "  <thead>\n",
       "    <tr style=\"text-align: right;\">\n",
       "      <th></th>\n",
       "      <th>pIC50</th>\n",
       "      <th>canonical_smiles</th>\n",
       "    </tr>\n",
       "  </thead>\n",
       "  <tbody>\n",
       "    <tr>\n",
       "      <th>0</th>\n",
       "      <td>9.154901</td>\n",
       "      <td>Cc1ccccc1-c1ccc2nc(N)c(C[C@@H](C)C(=O)N[C@@H]3...</td>\n",
       "    </tr>\n",
       "    <tr>\n",
       "      <th>1</th>\n",
       "      <td>8.853872</td>\n",
       "      <td>CCCO[C@H]1C[NH2+][C@@H]([C@@H](O)[C@H](Cc2cc(F...</td>\n",
       "    </tr>\n",
       "    <tr>\n",
       "      <th>2</th>\n",
       "      <td>8.698970</td>\n",
       "      <td>CCc1cn2c3c(cc(C(=O)N[C@@H](Cc4ccccc4)[C@H](O)C...</td>\n",
       "    </tr>\n",
       "    <tr>\n",
       "      <th>3</th>\n",
       "      <td>8.698970</td>\n",
       "      <td>CCOC[C@@H](Oc1cc(C[C@@H]2CS(=O)(=O)C[C@H]([NH2...</td>\n",
       "    </tr>\n",
       "    <tr>\n",
       "      <th>4</th>\n",
       "      <td>8.698970</td>\n",
       "      <td>CCc1cn2c3c(cc(C(=O)N[C@@H](Cc4ccccc4)[C@H](O)C...</td>\n",
       "    </tr>\n",
       "    <tr>\n",
       "      <th>...</th>\n",
       "      <td>...</td>\n",
       "      <td>...</td>\n",
       "    </tr>\n",
       "    <tr>\n",
       "      <th>1508</th>\n",
       "      <td>3.000000</td>\n",
       "      <td>CCC(CC(=O)NCC1CCOCC1)n1c(N)nc2cc(Cl)ccc21</td>\n",
       "    </tr>\n",
       "    <tr>\n",
       "      <th>1509</th>\n",
       "      <td>3.000000</td>\n",
       "      <td>CCC(CC(=O)NCc1ccccn1)n1c(N)nc2cc(Cl)ccc21</td>\n",
       "    </tr>\n",
       "    <tr>\n",
       "      <th>1510</th>\n",
       "      <td>2.953115</td>\n",
       "      <td>Cn1c(N)nc(C2CC2c2cccc(Br)c2)cc1=O</td>\n",
       "    </tr>\n",
       "    <tr>\n",
       "      <th>1511</th>\n",
       "      <td>2.733298</td>\n",
       "      <td>Cn1c(N)nc(C2CC2c2cccc(-c3ccccc3)c2)cc1=O</td>\n",
       "    </tr>\n",
       "    <tr>\n",
       "      <th>1512</th>\n",
       "      <td>2.544546</td>\n",
       "      <td>Nc1nc2cc(Cl)ccc2n1CCCC(=O)NCC1CC1</td>\n",
       "    </tr>\n",
       "  </tbody>\n",
       "</table>\n",
       "<p>1513 rows × 2 columns</p>\n",
       "</div>\n",
       "    <div class=\"colab-df-buttons\">\n",
       "\n",
       "  <div class=\"colab-df-container\">\n",
       "    <button class=\"colab-df-convert\" onclick=\"convertToInteractive('df-2121f913-204b-42bf-8cd9-403a65e9b411')\"\n",
       "            title=\"Convert this dataframe to an interactive table.\"\n",
       "            style=\"display:none;\">\n",
       "\n",
       "  <svg xmlns=\"http://www.w3.org/2000/svg\" height=\"24px\" viewBox=\"0 -960 960 960\">\n",
       "    <path d=\"M120-120v-720h720v720H120Zm60-500h600v-160H180v160Zm220 220h160v-160H400v160Zm0 220h160v-160H400v160ZM180-400h160v-160H180v160Zm440 0h160v-160H620v160ZM180-180h160v-160H180v160Zm440 0h160v-160H620v160Z\"/>\n",
       "  </svg>\n",
       "    </button>\n",
       "\n",
       "  <style>\n",
       "    .colab-df-container {\n",
       "      display:flex;\n",
       "      gap: 12px;\n",
       "    }\n",
       "\n",
       "    .colab-df-convert {\n",
       "      background-color: #E8F0FE;\n",
       "      border: none;\n",
       "      border-radius: 50%;\n",
       "      cursor: pointer;\n",
       "      display: none;\n",
       "      fill: #1967D2;\n",
       "      height: 32px;\n",
       "      padding: 0 0 0 0;\n",
       "      width: 32px;\n",
       "    }\n",
       "\n",
       "    .colab-df-convert:hover {\n",
       "      background-color: #E2EBFA;\n",
       "      box-shadow: 0px 1px 2px rgba(60, 64, 67, 0.3), 0px 1px 3px 1px rgba(60, 64, 67, 0.15);\n",
       "      fill: #174EA6;\n",
       "    }\n",
       "\n",
       "    .colab-df-buttons div {\n",
       "      margin-bottom: 4px;\n",
       "    }\n",
       "\n",
       "    [theme=dark] .colab-df-convert {\n",
       "      background-color: #3B4455;\n",
       "      fill: #D2E3FC;\n",
       "    }\n",
       "\n",
       "    [theme=dark] .colab-df-convert:hover {\n",
       "      background-color: #434B5C;\n",
       "      box-shadow: 0px 1px 3px 1px rgba(0, 0, 0, 0.15);\n",
       "      filter: drop-shadow(0px 1px 2px rgba(0, 0, 0, 0.3));\n",
       "      fill: #FFFFFF;\n",
       "    }\n",
       "  </style>\n",
       "\n",
       "    <script>\n",
       "      const buttonEl =\n",
       "        document.querySelector('#df-2121f913-204b-42bf-8cd9-403a65e9b411 button.colab-df-convert');\n",
       "      buttonEl.style.display =\n",
       "        google.colab.kernel.accessAllowed ? 'block' : 'none';\n",
       "\n",
       "      async function convertToInteractive(key) {\n",
       "        const element = document.querySelector('#df-2121f913-204b-42bf-8cd9-403a65e9b411');\n",
       "        const dataTable =\n",
       "          await google.colab.kernel.invokeFunction('convertToInteractive',\n",
       "                                                    [key], {});\n",
       "        if (!dataTable) return;\n",
       "\n",
       "        const docLinkHtml = 'Like what you see? Visit the ' +\n",
       "          '<a target=\"_blank\" href=https://colab.research.google.com/notebooks/data_table.ipynb>data table notebook</a>'\n",
       "          + ' to learn more about interactive tables.';\n",
       "        element.innerHTML = '';\n",
       "        dataTable['output_type'] = 'display_data';\n",
       "        await google.colab.output.renderOutput(dataTable, element);\n",
       "        const docLink = document.createElement('div');\n",
       "        docLink.innerHTML = docLinkHtml;\n",
       "        element.appendChild(docLink);\n",
       "      }\n",
       "    </script>\n",
       "  </div>\n",
       "\n",
       "\n",
       "    <div id=\"df-714a1f1c-fff3-4c20-83ec-4de318a31f56\">\n",
       "      <button class=\"colab-df-quickchart\" onclick=\"quickchart('df-714a1f1c-fff3-4c20-83ec-4de318a31f56')\"\n",
       "                title=\"Suggest charts\"\n",
       "                style=\"display:none;\">\n",
       "\n",
       "<svg xmlns=\"http://www.w3.org/2000/svg\" height=\"24px\"viewBox=\"0 0 24 24\"\n",
       "     width=\"24px\">\n",
       "    <g>\n",
       "        <path d=\"M19 3H5c-1.1 0-2 .9-2 2v14c0 1.1.9 2 2 2h14c1.1 0 2-.9 2-2V5c0-1.1-.9-2-2-2zM9 17H7v-7h2v7zm4 0h-2V7h2v10zm4 0h-2v-4h2v4z\"/>\n",
       "    </g>\n",
       "</svg>\n",
       "      </button>\n",
       "\n",
       "<style>\n",
       "  .colab-df-quickchart {\n",
       "      --bg-color: #E8F0FE;\n",
       "      --fill-color: #1967D2;\n",
       "      --hover-bg-color: #E2EBFA;\n",
       "      --hover-fill-color: #174EA6;\n",
       "      --disabled-fill-color: #AAA;\n",
       "      --disabled-bg-color: #DDD;\n",
       "  }\n",
       "\n",
       "  [theme=dark] .colab-df-quickchart {\n",
       "      --bg-color: #3B4455;\n",
       "      --fill-color: #D2E3FC;\n",
       "      --hover-bg-color: #434B5C;\n",
       "      --hover-fill-color: #FFFFFF;\n",
       "      --disabled-bg-color: #3B4455;\n",
       "      --disabled-fill-color: #666;\n",
       "  }\n",
       "\n",
       "  .colab-df-quickchart {\n",
       "    background-color: var(--bg-color);\n",
       "    border: none;\n",
       "    border-radius: 50%;\n",
       "    cursor: pointer;\n",
       "    display: none;\n",
       "    fill: var(--fill-color);\n",
       "    height: 32px;\n",
       "    padding: 0;\n",
       "    width: 32px;\n",
       "  }\n",
       "\n",
       "  .colab-df-quickchart:hover {\n",
       "    background-color: var(--hover-bg-color);\n",
       "    box-shadow: 0 1px 2px rgba(60, 64, 67, 0.3), 0 1px 3px 1px rgba(60, 64, 67, 0.15);\n",
       "    fill: var(--button-hover-fill-color);\n",
       "  }\n",
       "\n",
       "  .colab-df-quickchart-complete:disabled,\n",
       "  .colab-df-quickchart-complete:disabled:hover {\n",
       "    background-color: var(--disabled-bg-color);\n",
       "    fill: var(--disabled-fill-color);\n",
       "    box-shadow: none;\n",
       "  }\n",
       "\n",
       "  .colab-df-spinner {\n",
       "    border: 2px solid var(--fill-color);\n",
       "    border-color: transparent;\n",
       "    border-bottom-color: var(--fill-color);\n",
       "    animation:\n",
       "      spin 1s steps(1) infinite;\n",
       "  }\n",
       "\n",
       "  @keyframes spin {\n",
       "    0% {\n",
       "      border-color: transparent;\n",
       "      border-bottom-color: var(--fill-color);\n",
       "      border-left-color: var(--fill-color);\n",
       "    }\n",
       "    20% {\n",
       "      border-color: transparent;\n",
       "      border-left-color: var(--fill-color);\n",
       "      border-top-color: var(--fill-color);\n",
       "    }\n",
       "    30% {\n",
       "      border-color: transparent;\n",
       "      border-left-color: var(--fill-color);\n",
       "      border-top-color: var(--fill-color);\n",
       "      border-right-color: var(--fill-color);\n",
       "    }\n",
       "    40% {\n",
       "      border-color: transparent;\n",
       "      border-right-color: var(--fill-color);\n",
       "      border-top-color: var(--fill-color);\n",
       "    }\n",
       "    60% {\n",
       "      border-color: transparent;\n",
       "      border-right-color: var(--fill-color);\n",
       "    }\n",
       "    80% {\n",
       "      border-color: transparent;\n",
       "      border-right-color: var(--fill-color);\n",
       "      border-bottom-color: var(--fill-color);\n",
       "    }\n",
       "    90% {\n",
       "      border-color: transparent;\n",
       "      border-bottom-color: var(--fill-color);\n",
       "    }\n",
       "  }\n",
       "</style>\n",
       "\n",
       "      <script>\n",
       "        async function quickchart(key) {\n",
       "          const quickchartButtonEl =\n",
       "            document.querySelector('#' + key + ' button');\n",
       "          quickchartButtonEl.disabled = true;  // To prevent multiple clicks.\n",
       "          quickchartButtonEl.classList.add('colab-df-spinner');\n",
       "          try {\n",
       "            const charts = await google.colab.kernel.invokeFunction(\n",
       "                'suggestCharts', [key], {});\n",
       "          } catch (error) {\n",
       "            console.error('Error during call to suggestCharts:', error);\n",
       "          }\n",
       "          quickchartButtonEl.classList.remove('colab-df-spinner');\n",
       "          quickchartButtonEl.classList.add('colab-df-quickchart-complete');\n",
       "        }\n",
       "        (() => {\n",
       "          let quickchartButtonEl =\n",
       "            document.querySelector('#df-714a1f1c-fff3-4c20-83ec-4de318a31f56 button');\n",
       "          quickchartButtonEl.style.display =\n",
       "            google.colab.kernel.accessAllowed ? 'block' : 'none';\n",
       "        })();\n",
       "      </script>\n",
       "    </div>\n",
       "\n",
       "  <div id=\"id_64c28c92-6977-4ecb-839b-a107e0ebd306\">\n",
       "    <style>\n",
       "      .colab-df-generate {\n",
       "        background-color: #E8F0FE;\n",
       "        border: none;\n",
       "        border-radius: 50%;\n",
       "        cursor: pointer;\n",
       "        display: none;\n",
       "        fill: #1967D2;\n",
       "        height: 32px;\n",
       "        padding: 0 0 0 0;\n",
       "        width: 32px;\n",
       "      }\n",
       "\n",
       "      .colab-df-generate:hover {\n",
       "        background-color: #E2EBFA;\n",
       "        box-shadow: 0px 1px 2px rgba(60, 64, 67, 0.3), 0px 1px 3px 1px rgba(60, 64, 67, 0.15);\n",
       "        fill: #174EA6;\n",
       "      }\n",
       "\n",
       "      [theme=dark] .colab-df-generate {\n",
       "        background-color: #3B4455;\n",
       "        fill: #D2E3FC;\n",
       "      }\n",
       "\n",
       "      [theme=dark] .colab-df-generate:hover {\n",
       "        background-color: #434B5C;\n",
       "        box-shadow: 0px 1px 3px 1px rgba(0, 0, 0, 0.15);\n",
       "        filter: drop-shadow(0px 1px 2px rgba(0, 0, 0, 0.3));\n",
       "        fill: #FFFFFF;\n",
       "      }\n",
       "    </style>\n",
       "    <button class=\"colab-df-generate\" onclick=\"generateWithVariable('df_bace')\"\n",
       "            title=\"Generate code using this dataframe.\"\n",
       "            style=\"display:none;\">\n",
       "\n",
       "  <svg xmlns=\"http://www.w3.org/2000/svg\" height=\"24px\"viewBox=\"0 0 24 24\"\n",
       "       width=\"24px\">\n",
       "    <path d=\"M7,19H8.4L18.45,9,17,7.55,7,17.6ZM5,21V16.75L18.45,3.32a2,2,0,0,1,2.83,0l1.4,1.43a1.91,1.91,0,0,1,.58,1.4,1.91,1.91,0,0,1-.58,1.4L9.25,21ZM18.45,9,17,7.55Zm-12,3A5.31,5.31,0,0,0,4.9,8.1,5.31,5.31,0,0,0,1,6.5,5.31,5.31,0,0,0,4.9,4.9,5.31,5.31,0,0,0,6.5,1,5.31,5.31,0,0,0,8.1,4.9,5.31,5.31,0,0,0,12,6.5,5.46,5.46,0,0,0,6.5,12Z\"/>\n",
       "  </svg>\n",
       "    </button>\n",
       "    <script>\n",
       "      (() => {\n",
       "      const buttonEl =\n",
       "        document.querySelector('#id_64c28c92-6977-4ecb-839b-a107e0ebd306 button.colab-df-generate');\n",
       "      buttonEl.style.display =\n",
       "        google.colab.kernel.accessAllowed ? 'block' : 'none';\n",
       "\n",
       "      buttonEl.onclick = () => {\n",
       "        google.colab.notebook.generateWithVariable('df_bace');\n",
       "      }\n",
       "      })();\n",
       "    </script>\n",
       "  </div>\n",
       "\n",
       "    </div>\n",
       "  </div>\n"
      ],
      "text/plain": [
       "         pIC50                                   canonical_smiles\n",
       "0     9.154901  Cc1ccccc1-c1ccc2nc(N)c(C[C@@H](C)C(=O)N[C@@H]3...\n",
       "1     8.853872  CCCO[C@H]1C[NH2+][C@@H]([C@@H](O)[C@H](Cc2cc(F...\n",
       "2     8.698970  CCc1cn2c3c(cc(C(=O)N[C@@H](Cc4ccccc4)[C@H](O)C...\n",
       "3     8.698970  CCOC[C@@H](Oc1cc(C[C@@H]2CS(=O)(=O)C[C@H]([NH2...\n",
       "4     8.698970  CCc1cn2c3c(cc(C(=O)N[C@@H](Cc4ccccc4)[C@H](O)C...\n",
       "...        ...                                                ...\n",
       "1508  3.000000          CCC(CC(=O)NCC1CCOCC1)n1c(N)nc2cc(Cl)ccc21\n",
       "1509  3.000000          CCC(CC(=O)NCc1ccccn1)n1c(N)nc2cc(Cl)ccc21\n",
       "1510  2.953115                  Cn1c(N)nc(C2CC2c2cccc(Br)c2)cc1=O\n",
       "1511  2.733298           Cn1c(N)nc(C2CC2c2cccc(-c3ccccc3)c2)cc1=O\n",
       "1512  2.544546                  Nc1nc2cc(Cl)ccc2n1CCCC(=O)NCC1CC1\n",
       "\n",
       "[1513 rows x 2 columns]"
      ]
     },
     "execution_count": 20,
     "metadata": {},
     "output_type": "execute_result"
    }
   ],
   "source": [
    "df_bace"
   ]
  },
  {
   "cell_type": "markdown",
   "metadata": {
    "id": "ibRvH8lwrr4l"
   },
   "source": [
    "## Featurization"
   ]
  },
  {
   "cell_type": "code",
   "execution_count": null,
   "metadata": {
    "collapsed": true,
    "id": "xiFyL9EE35Bn",
    "jupyter": {
     "outputs_hidden": true
    }
   },
   "outputs": [],
   "source": [
    "from Regression.src.featurizers import featurize_molecules\n",
    "features = featurize_molecules(df=df_bace,\n",
    "    methods=[\"rdkit\", \"ecfp\",\"maccs\"],smiles_col=\"canonical_smiles\",\n",
    "    target_col=\"pIC50\",concatenate=False)"
   ]
  },
  {
   "cell_type": "code",
   "execution_count": 14,
   "metadata": {
    "colab": {
     "base_uri": "https://localhost:8080/"
    },
    "id": "Lc7NvbJT35Bn",
    "outputId": "bd9f8f31-fcca-4098-c15c-1133cd9cd9aa"
   },
   "outputs": [
    {
     "data": {
      "text/plain": [
       "Index(['canonical_smiles', 'pIC50', 'rdkit_0', 'rdkit_1', 'rdkit_2', 'rdkit_3',\n",
       "       'rdkit_4', 'rdkit_5', 'rdkit_6', 'rdkit_7',\n",
       "       ...\n",
       "       'rdkit_182', 'rdkit_183', 'rdkit_184', 'rdkit_185', 'rdkit_186',\n",
       "       'rdkit_187', 'rdkit_188', 'rdkit_189', 'rdkit_190', 'rdkit_191'],\n",
       "      dtype='object', length=194)"
      ]
     },
     "execution_count": 14,
     "metadata": {},
     "output_type": "execute_result"
    }
   ],
   "source": [
    "features['rdkit'].columns"
   ]
  },
  {
   "cell_type": "code",
   "execution_count": null,
   "metadata": {
    "collapsed": true,
    "id": "Pwd6ELFV35Bo",
    "jupyter": {
     "outputs_hidden": true
    }
   },
   "outputs": [],
   "source": [
    "concatenated_features= featurize_molecules(df=df_bace,\n",
    "    methods=[\"rdkit\", \"ecfp\",\"maccs\"],concatenate=True)"
   ]
  },
  {
   "cell_type": "code",
   "execution_count": 16,
   "metadata": {
    "colab": {
     "base_uri": "https://localhost:8080/"
    },
    "id": "tpuA4YK135Bo",
    "outputId": "28c50003-fa7a-44b8-9ef0-540801801a8f"
   },
   "outputs": [
    {
     "data": {
      "text/plain": [
       "Index(['canonical_smiles', 'pIC50', 'rdkit_0', 'rdkit_1', 'rdkit_2', 'rdkit_3',\n",
       "       'rdkit_4', 'rdkit_5', 'rdkit_6', 'rdkit_7',\n",
       "       ...\n",
       "       'rdkit_182', 'rdkit_183', 'rdkit_184', 'rdkit_185', 'rdkit_186',\n",
       "       'rdkit_187', 'rdkit_188', 'rdkit_189', 'rdkit_190', 'rdkit_191'],\n",
       "      dtype='object', length=194)"
      ]
     },
     "execution_count": 16,
     "metadata": {},
     "output_type": "execute_result"
    }
   ],
   "source": [
    "features['rdkit'].columns"
   ]
  },
  {
   "cell_type": "markdown",
   "metadata": {
    "id": "bifCaOI-0cbg"
   },
   "source": [
    "## Baseline ML Models"
   ]
  },
  {
   "cell_type": "code",
   "execution_count": null,
   "metadata": {
    "colab": {
     "base_uri": "https://localhost:8080/"
    },
    "id": "xp4H_4wi35Bo",
    "outputId": "9b64b925-1381-44b1-d404-21655d8ec0e2"
   },
   "outputs": [
    {
     "name": "stdout",
     "output_type": "stream",
     "text": [
      "Running models for featurizer: rdkit\n",
      "Applied Standard scaling (continuous features detected).\n",
      "Training RandomForest...\n",
      "Training XGBoost...\n",
      "Training SVR...\n",
      "Running models for featurizer: ecfp\n",
      " Skipping scaling (binary fingerprint detected).\n",
      "Training RandomForest...\n",
      "Training XGBoost...\n",
      "Training SVR...\n",
      "Running models for featurizer: maccs\n",
      " Skipping scaling (binary fingerprint detected).\n",
      "Training RandomForest...\n",
      "Training XGBoost...\n",
      "Training SVR...\n",
      "Finished training all models.\n",
      "  Featurizer         Model        R2      RMSE\n",
      "5       ecfp           SVR  0.779339  0.614987\n",
      "3       ecfp  RandomForest  0.699172  0.718063\n",
      "4       ecfp       XGBoost  0.691204  0.727510\n",
      "8      maccs           SVR  0.676656  0.744450\n",
      "6      maccs  RandomForest  0.646910  0.777939\n",
      "7      maccs       XGBoost  0.613675  0.813728\n",
      "2      rdkit           SVR  0.722587  0.689551\n",
      "0      rdkit  RandomForest  0.717549  0.695784\n",
      "1      rdkit       XGBoost  0.712659  0.701781\n"
     ]
    }
   ],
   "source": [
    "from Regression.src import baseline_regression_models\n",
    "results_base_models, trained_base_models=baseline_regression_models.run_base_regressors(features)"
   ]
  },
  {
   "cell_type": "code",
   "execution_count": null,
   "metadata": {
    "colab": {
     "base_uri": "https://localhost:8080/"
    },
    "id": "r52C4QB_g593",
    "outputId": "b666f75e-85a8-49c2-9dc8-2bcc1bd1a0f1"
   },
   "outputs": [
    {
     "name": "stdout",
     "output_type": "stream",
     "text": [
      "Running models for featurizer: rdkit\n",
      "Applied StandardScaler (continuous features detected).\n",
      "Training RandomForest...\n",
      "Training XGBoost...\n",
      "Training SVR...\n",
      "Finished training all models.\n",
      "  Featurizer         Model        R2      RMSE\n",
      "2      rdkit           SVR  0.745756  0.660128\n",
      "0      rdkit  RandomForest  0.718810  0.694229\n",
      "1      rdkit       XGBoost  0.712171  0.702376\n",
      "Running models for featurizer: ecfp\n",
      "Skipping scaling (binary features detected).\n",
      "Training RandomForest...\n",
      "Training XGBoost...\n",
      "Training SVR...\n",
      "Finished training all models.\n",
      "  Featurizer         Model        R2      RMSE\n",
      "2       ecfp           SVR  0.779339  0.614987\n",
      "0       ecfp  RandomForest  0.699172  0.718063\n",
      "1       ecfp       XGBoost  0.691204  0.727510\n",
      "Running models for featurizer: maccs\n",
      "Skipping scaling (binary features detected).\n",
      "Training RandomForest...\n",
      "Training XGBoost...\n",
      "Training SVR...\n",
      "Finished training all models.\n",
      "  Featurizer         Model        R2      RMSE\n",
      "2      maccs           SVR  0.676656  0.744450\n",
      "0      maccs  RandomForest  0.646910  0.777939\n",
      "1      maccs       XGBoost  0.613675  0.813728\n"
     ]
    }
   ],
   "source": [
    "from Regression.src.baseline_regression_models import run_base_regressors, run_base_regressors_kv, run_gridsearch\n",
    "from sklearn.model_selection import train_test_split\n",
    "import pandas as pd\n",
    "\n",
    "features_dict = features\n",
    "\n",
    "for feat_name, df_feat in features_dict.items():\n",
    "\n",
    "    X = df_feat.drop(columns=[\"canonical_smiles\", \"pIC50\"], axis=1).values\n",
    "    y = df_feat[\"pIC50\"].values\n",
    "\n",
    "    X_train, X_test, y_train, y_test = train_test_split(X, y, test_size=0.2, random_state=42)\n",
    "\n",
    "    results_df, trained_models = run_base_regressors(X_train, X_test, y_train, y_test, feat_name)"
   ]
  },
  {
   "cell_type": "code",
   "execution_count": null,
   "metadata": {
    "colab": {
     "base_uri": "https://localhost:8080/"
    },
    "id": "zL3zpl6c35Bp",
    "outputId": "24d14bc5-4f97-48b1-c774-519d235dd9ad"
   },
   "outputs": [
    {
     "name": "stdout",
     "output_type": "stream",
     "text": [
      " Featurizer: rdkit\n",
      "Continuous descriptors:using StandardScaler.\n",
      " RandomForest: R²=0.699, RMSE=0.730\n",
      " XGBoost: R²=0.713, RMSE=0.714\n",
      " SVR: R²=0.720, RMSE=0.704\n",
      " Best model for rdkit: SVR (R²=0.720)\n",
      " Featurizer: ecfp\n",
      "Binary fingerprints: no scaling applied.\n",
      " RandomForest: R²=0.716, RMSE=0.712\n",
      " XGBoost: R²=0.715, RMSE=0.713\n",
      " SVR: R²=0.764, RMSE=0.647\n",
      " Best model for ecfp: SVR (R²=0.764)\n",
      " Featurizer: maccs\n",
      "Binary fingerprints: no scaling applied.\n",
      " RandomForest: R²=0.650, RMSE=0.788\n",
      " XGBoost: R²=0.689, RMSE=0.742\n",
      " SVR: R²=0.663, RMSE=0.773\n",
      " Best model for maccs: XGBoost (R²=0.689)\n",
      "Cross-validation complete.\n",
      "\n",
      "  Featurizer         Model   R2_mean    R2_std  RMSE_mean  RMSE_std\n",
      "5       ecfp           SVR  0.763634  0.040370   0.647475  0.057558\n",
      "3       ecfp  RandomForest  0.715505  0.032617   0.711736  0.044094\n",
      "4       ecfp       XGBoost  0.714677  0.033423   0.712769  0.046056\n",
      "7      maccs       XGBoost  0.689412  0.044849   0.742143  0.042397\n",
      "8      maccs           SVR  0.663317  0.047882   0.773234  0.052770\n",
      "6      maccs  RandomForest  0.650387  0.049316   0.787556  0.047018\n",
      "2      rdkit           SVR  0.720099  0.054546   0.703649  0.071038\n",
      "1      rdkit       XGBoost  0.712951  0.043543   0.713909  0.057948\n",
      "0      rdkit  RandomForest  0.699426  0.049158   0.730355  0.064677\n"
     ]
    }
   ],
   "source": [
    "from Regression.src.baseline_regression_models import run_base_regressors_kv\n",
    "\n",
    "cv_results, best_models = run_base_regressors_kv(features_dict)"
   ]
  },
  {
   "cell_type": "code",
   "execution_count": null,
   "metadata": {
    "id": "23wMfJ0mqRXT"
   },
   "outputs": [],
   "source": [
    "from Regression.src.baseline_regression_models import run_gridsearch\n",
    "grid_search_input_dict = {feat_name: df_feat}\n",
    "\n",
    "grid_search_results, grid_models= run_gridsearch(\n",
    "    grid_search_input_dict,\n",
    "    X_train, X_test, y_train, y_test,\n",
    "    verbose=True\n",
    ")"
   ]
  },
  {
   "cell_type": "markdown",
   "metadata": {
    "id": "lbHiVlRm-neV"
   },
   "source": [
    "## MLP on each featurization vs MLP with the 3 featurizations"
   ]
  },
  {
   "cell_type": "code",
   "execution_count": 19,
   "metadata": {
    "colab": {
     "base_uri": "https://localhost:8080/",
     "height": 1000,
     "referenced_widgets": [
      "427d7631038f4594863e1cfbb3b0a630",
      "3923916e7a2f49eab57839f42b00facd",
      "58738355104b4160a9b7fc11997a92fd",
      "f7dec09222b74ec8a1c12483c94b47a7",
      "5c49a3e17d034253bccd534aa0332a9a",
      "e7dbe9334f8e41aab63aa20bd109908c",
      "859bc62794914124a6b2069d9a2512cb",
      "cc96ce90aabd4cfabac7605b9693fe54",
      "134639afc25d48e6bed2fac019e9e9e2",
      "859970c215504d36bc0088930a6dcc3d",
      "a2796e779ce14d919cd3c700664f54d5",
      "6a8db6ceb42548a58090e5c952679d59",
      "a5a6651c31c14a16854f5dda566ccabd",
      "a7ab61d7aa1f4a72aa32a1a0da20d914",
      "64f09cdad4b74f98adc94222e5c76a81",
      "e4ca56b876b140238237025cd720d6d6",
      "c65d7d38dbfb41e3a7e42f355198a2bf",
      "25d96a029c2641da8ba9e9f564bf2f41",
      "2fdcf863271049c79821ab25bda45b4d",
      "d5d7a326815f4846a8fb35373dfa49dc",
      "d5c33658b25e42baa8f4fc6627b63041",
      "92aee80a2f17403eb014a1b7e3caeb60",
      "c9c1bcfe2c7d405d890e93d8df8a3553",
      "59784790a7dd47e58b91ae406b8dbc10",
      "c4c6aac1847b4c728c2994a400f3259e",
      "3f3d836007aa437e8cea7da96f3f561b",
      "e296e7d155074660b9653f562427f863",
      "4612c8e3dc5946169ebe71a4bd257d87",
      "f7bf5f446d3a4aecb240185638d87a22",
      "6e41195881354753acfb60934e46c2ef",
      "bcccca30603c4bd780a80153e62aad46",
      "f1365585f4494a2594c2d986fcb1a28f",
      "fb27466544cb41caa3e7de7c2e7a5176",
      "6878b1814e4a4d76aa10977e6dc6d25b",
      "146515886be849db8b1c61367504aff9",
      "c08e559c02c84261b3f3adcb93f880e2",
      "e4a35d987f8c4ed093f14b074afb69f5",
      "7ace6a7625764c88955228d4ae225e82",
      "ad40caf12cd346d698395bb1ba831ba5",
      "41f005adab53440090eecf1231618687",
      "3c26b34b049649fa9b0ac9a67b623696",
      "4cd023e4017844bda31ea1e6d61eeb00",
      "e15eab111a6e44408843e08650639ae5",
      "d2b73289d4754949a5e25bc846e51769",
      "395e48ae671b476481850c5851b5f713",
      "37e9e6e37eb140f58314ac7eeab150b3",
      "a56f9115bcbd4309a0f03812e146c97b",
      "142f4bf4c5b349a69bf2d3da43495f53",
      "bf1b2979487547faaf1470b511a4d423",
      "423010213e9547fe8e08d53dce147eae",
      "14204781c0a848739f6b78b7b561f04c",
      "f365be5d91b74be38cfa2ac16da867fb",
      "e521c31dfdae4385b2ed08067d24acb5",
      "a22d81ff65e4443d81336b345d747d17",
      "968e6dc2c92042129d4fc64b2efe9707",
      "b425d3dd333e4f7288c26d266b5982b4",
      "0b6270bdc8444d1f974f730f0a472da4",
      "0f14407bac8f42bf896d5cdfa6c79794",
      "3f4267c2da2e4a9693358396bc8bd752",
      "12b2aa693bcd41f69d042b7fe09e0691",
      "bbf4d3987444452da850a2c925c2e0fe",
      "711041e9074c4d0f9e57ff9e3b3b3155",
      "22803e3c4d8c4e6386925594addfe9e1",
      "f90cb329c114421aa5cf19456aa4d309",
      "1a2b5dbe5a5840c2b5edbb073a09fefd",
      "6fe11eadf7ee492f8d0aa87263ed1b50",
      "543918aa9436407c9496bbbc6bd04ec4",
      "417d6a6097764fa79cf2e81876694af2",
      "fcc1df7b335c4bb8970e912bff4f7815",
      "eeeb44497c854ae7981a0c3cdaac54aa",
      "09fc42a39c8647aea6e131aaf691c846",
      "4509a0dbb80d429a94f5871461dd3665",
      "804741ce35184c00a3444010c51759ed",
      "285c6e6918c7416c881de0147eeb6530",
      "b0a48225a13f4e52be2c2e139ee31a39",
      "57138525df2c4ca09cbab239ec4b55e4",
      "a682df7f98a8471b96a3858f0200da05",
      "db0efc3818b94663925c75fbe26336a8",
      "e5d0fcd08c7647de994957c79f743e6f",
      "9586d5cd8b0c4115bfd5b291398e0a32",
      "96d1c9ca31ba4826b6b4461da2d94721",
      "94c62b3d122748ef9e85cbf2a3ec14ea",
      "a63edf894fcd4780871c413c0da2ebe0",
      "5a655d85fcda4c9db6357fe64a753a48",
      "c5541609b48341bd97af2fd484879fdb",
      "942795f1d08e4af4a1d45bbab84f1130",
      "b6420008340a4f88b5d49d55fae2e0ee",
      "a9ccf547e96e47918f1789afbfd1f011",
      "76b07babd29d45da9a641df854a21042",
      "0908676ea8ad423a9cd82c02991c736b",
      "77d2c3b3d590497ab59705f5c110a8e1",
      "2e7d6a6276ba48bd8f3ef1f01f7501d6",
      "36177d4c5b6d4cce808ac70e06110d10",
      "124302600e2644febbd61b0719a37629",
      "3cdf510b106d4ee8a06db69f34c99ba8",
      "838fb7383c7440eab0ec9a5eb6d93402",
      "7eeb1af1a0b34ca5bc276dec30f1f8a7",
      "8aca66f6ec654a2baf2931c6863fddeb",
      "ecd4e090d8f243fc91434df407f426d9",
      "a336c94bb2c34f13bd4c0ed37c232d62",
      "9c2625bfa2c1484587799adc3e6bfeb1",
      "75f898220bb04b76b77444de7d54ba04",
      "a5a51082d7444837b1ab70f715a50b4b",
      "a57f1b9dc4bf4b218819f8f915a8f555",
      "870d605ca19a477f86bade45bde1e79c",
      "a04cccc812054e31b45fba43a55cc8c1",
      "afd88758c54d47caa59e3f2bfe854616",
      "f00d3b0971f8426c92a6515c7278dd57",
      "f275a5eeab7c4caaa609493b3ed8f7ee",
      "8805f9e1c953410bb07905712d3bc393",
      "9d8c6965eaf745049d7cadc222f15912",
      "f79d23f4d92744c79755e3357edd3b82",
      "2df87395f57140f3b61195d1262c1e67",
      "0d874f6d387a442696fd8ae127b2b585",
      "9bff079cdf064d8d9d9a538228b3bf5a",
      "024d05afb6934ccfb864488421b49338",
      "793e1aad1356475085450c72936d7296",
      "e8c2bb4e45654295afc70369d971e281",
      "069740e619b443f181972dd11dc17647",
      "8c552636cba045758e55a3157c9cf74a",
      "d5f919e5938641cda4e44863c782f99c",
      "71b7fc47645e481db5788cd586af5874",
      "e89ab404720c40459081f7ac1c31165c",
      "d2250ca8cd484e7fae973f29cc379b5e",
      "350a0d130b2a4801896eeebf6822d5a4",
      "e264115df83c4393af9569e52432498c",
      "118c5902f7cd4c11934603721688a691",
      "e4c6f965cd1f45c4b1389d1d485050a6",
      "a2c577ae434d41dbb3ff4a955faedbdf",
      "336601cf7b2f40dcbf3b09abd90846e0",
      "c75a8db792a4422aaafb8137ee8165f9",
      "f2606d0cd7c642ac9851c9713657f569",
      "a7b25b137ab040a8a77c8b5f1ff980dd",
      "51a76e8a32704b45a02aa98d69f15a3f",
      "e0e91ea9d10f4b0c9b5ac7fd61920d48",
      "1bed5d966473497a8bc1248399280815",
      "7e0e5bcfbeaa46919f67c8cf5bfc53be",
      "276bcec8e58c45579a59e94d8ed0e91a",
      "8d99282bd8074556ab2a7d35d9b9c7d5",
      "d9e43f5ff4944368b64ea3a6f6202669",
      "413e4b8716924efd975073db06928438",
      "6a23f14f98224e80ac0a35ca5885ead0",
      "fd5cf5667c464eb7bea6135296402480",
      "63b96d53b7774f4d9161bfbe4a05bee3",
      "a67db10060a04d959abe9b370e616d10",
      "7077233e455f4032a87ce897fef9ab22",
      "43f7fb125f2c4d418da3f23cef7087a9",
      "e7068982021e43198ccf4bb79b30183f",
      "707313cc73b045029d58fb802753566d",
      "5232a5d7798a4b19a146a8b1a67a20fa",
      "b04e630b0579494cad714705d48f321f",
      "f50e374a518e4973b1ec406b435074e6",
      "d3f96e07ba584471a91a8bba278cca5f",
      "e551292602914e979019ca89ec2e5f3e",
      "49afdb9f7d1e4932af53950734e1aa00",
      "c3ba533a113e47aab20e4025ef05ccae",
      "c9c7aec5af124586af8b783541c04ff4",
      "d3e5c475e540451fa2280c8516456dd4",
      "71ddd7b76aa84641a11b630089158f8d",
      "dcbfdf98dca84e09ac948c1241418278",
      "aed56cc6269144dba72e6190529e6d5e",
      "238f96a08eb547c49bc781c30fa30170",
      "a3449441941f47818cc3ab64d06ef7c5",
      "6e16a34188d147af9ac878785a8fc41a",
      "ddbf9483a5bc4924b4a09b5c4295e5b2",
      "64c071e85bc84dde843c49c7b5db3b39",
      "3d8508fedfbe4a6d987f8e70fbf5740f",
      "138ce90353e949aaa039e8fd05f4902b",
      "9c9d5c363e5f4d79ba25e35b81b94546",
      "1a7a86085db04975b0bf1cf8cd8f1fb1",
      "6384277538f7468eb0a399ba63c50a15",
      "1e9f1c68281b422f9e2a9ae9c15bccd0",
      "505daec4a82a4d9f87429390fe9c0006",
      "d267a00b7cb34898af586c9dddf58f3a",
      "847737fb62b440b2ad95d8c1e5b8a794",
      "4ed6c932b0d242b3a6790f835b9449f5",
      "462d32c40f474dfdb0e4c175e050388d",
      "8a3ed35894e84c06a7c800eac50969ea",
      "0dd9df8068a345bf909617d0cd4d15a6",
      "2847b5255206445fb655a55a93b6e81d",
      "bd7228a72426424fb808870ae1643193",
      "90c4a3b991ea441ba9361a7ded50c4c3",
      "d7346b66bb734b72aa3f39dfc5fc2fc3",
      "1ba2f3198bee445e96342859a90c911e",
      "235ae0e23d9b4f9288d1272502ad150b",
      "94cefba2cd304a65b219202fd24f7197",
      "cf1adcca4783479888179f7ca30eb8a2",
      "852e103e3bdc40beaef700175b59beef",
      "7c8f905097da41bcbac5352e3260f91f",
      "0a7760200b654072aa7c0bcca4556b0b",
      "ebbd0c8fa9f94510aa9bd8ae0edbc4be",
      "aec9daa601ff4288af912b8557297c3b",
      "267e07b70d7c49fca4f388e126f36c0b",
      "0dfd405afa664717ab3162f0858deb12",
      "020c3011591a4a27b88674a79e40a4e2",
      "378e6483fd3a482ab61de37bb7e61993",
      "204be7cd09934330aa544e197cda7541",
      "befc60b6e11d4e7f9a60fd76180c5946",
      "90c8fc06a9304f4f9b8709b38853971d",
      "cda5955791ef4a91aa3bd157bdf18389",
      "41601230b928410391fd879439549b3f",
      "20024ea397b641c3b75dd05288bf4044",
      "7cd16799a7ae40288da7b99d831c86d6",
      "e45b8428372147edb43ba00f9d76a42b",
      "1d017117c9b34670b7e47d0868ca2f55",
      "c3531767ccc8428d8b28b58cc2823776",
      "c0c370b613b0464b84972385e343c4bf",
      "2e7d9a55f524487592e1540c37618c80",
      "b025459ee3aa45d1a9f4bf2b41c3f2e8",
      "97aa467f59674ec3a14794879c011fbe",
      "e0aece16cd3c4faaab8ad0f7a2f95d83",
      "52a2835fccc94560b4726718acc19204",
      "61eeefba0ddd4e1f8e8c4d15a46b116e",
      "c133c504fa384e428a990240f014cd1c",
      "fd16e52a54364b4d81b677ad56ab3c68",
      "81eaaf17b80746b6a3a33239f433f385",
      "3b85c568df6644568f778e8ce5a0acf0",
      "6c8181098abe4944bb0baf8d05735d0e",
      "da512c6fea8347f5ab576597bf4d525d",
      "2522c460878442b1b40f996706949b4f",
      "802b4ab12162463ba7e7d227d3ae6e84",
      "8bb7cc9f9fc949f8bc63feb864583005",
      "6137d6a041894c16a602431178dabcc0",
      "9ed7504cfca74302aef13a7ba35ac16a",
      "57183d5800f8495b8a1bfb17bea6eb4f",
      "4cb3aa3e90b84d6c8b07d63d56c6600c",
      "c00408c7866d4acd9230f8ee53f14c1d",
      "f72d1f83c28748a983d1188877242c7e",
      "b32503b8eddb4732bf64baf9053022ee",
      "3a6bd90ffd8f45c1a9f596b3d84f69ee",
      "a0417609d1104c1dadb2fad7bc6e8423",
      "0be2ac8768ba45548a22f5d05827d4a0",
      "4cc002539b394714ab8ddd0aa3cbcf9e",
      "9e80828674264a7b97a8b88047732cde",
      "7b6f86e7dc3f49408968821db901f3c2",
      "2917c040b70e4df0a234699748b13eb1",
      "7454023d08704c58acd4c64e2f64d86d",
      "283dd24f60c74d67a475ea4493f1d524",
      "b7ff6221521e4480ad4c559f7cceee0c",
      "3d4d1e684a1443158dab22e1bd62a221",
      "024eff80f5634bb48574b1f6000a7633",
      "925aab000102490ea353adf8f72e796d",
      "e7870b43d785441e97db2c894ae59188",
      "4192fa92ff3b4d879ef24130924e52e1",
      "292dfd4078fc4c9780c1a902c168f473",
      "255127c5e9544652a9aaa0647f03e3ac",
      "8928c500b1144d3ab2aa662589094dd2",
      "cd06c3947c7448ab8e8d031120cbcfbf",
      "8f8e323e04b64bd085df93dcd4552231",
      "35b42275630a448a813de93f82425e73",
      "a22e9e7309c54d4f8e674fc31e731b89",
      "e9692a955e7d484c90eb59bf92d1f350",
      "70beaee27a584f7084df357a7b98b60e",
      "3a6c08be313a409bb3f1ee35484082d0",
      "45ac117caead4a54a7827f1438d16e72",
      "548105d37a274c98abee9a912ecc44a1",
      "90d894d04f284d3a89592b8d5bbe7877",
      "6a5f10d8887f4d579b3eda95cb81d500",
      "4690860a26e9436b9feac90dd18da786",
      "02de9439099a4b5fb7d20c1fea55c3ba",
      "96067e32d750400080a5619572ba0508",
      "7d0a98c7801b479b98d9fd6d26fe30bd",
      "8219b2920d1347dfac73c777a163a22a",
      "2d6721e5f07f4d4b9fe9402abd620d63",
      "e47cffba670a454f9d8eaad84111dda7",
      "baabbb3740734b39ab59195a9020800d",
      "dc795debd0e34a3591cc86e4aa659a0e",
      "67b441afd2534484b16f7bef6e6e3625",
      "e1ff8e27078c4be3be24cd8d63466ab1",
      "6e9a034488364dada052585e307dc932",
      "f92f6a87e5884d93833c47925db3c7e8",
      "f2c57f91ab24427bb0b600f8fcc1ff84",
      "8b3b8c1614524d72803248f9f95315f6",
      "746d3582f0c549c2873d644999d7bb86",
      "2086e806d40b4f829bc1a51fb4c296c7",
      "187b1a4cb8d2437182e51344235fc5ed",
      "67419bb7ced84e56897253bbc176e760",
      "bc3dd2f4074243d3911e848d2d1b469a",
      "4ccaa85d4f4744dc8e258a577b05ffe1",
      "b497a7b7d8244769ae8e9ba5cee94aa6",
      "ef900dba427043c796db37db05c6cd66",
      "6b795a8ece68478da3a0268336590d4f",
      "3ca47a0504ba4b89b1cbbca9c1966f7e",
      "ce102149020a4d5686e1a30b44b7f72a",
      "9ab5d2df44174eb98ce9c4dcf7fc51d7",
      "8e927fd705b04ba3821a3418e55441c8",
      "14111c0359aa4d16a53323e85d9e8dea",
      "b3e11a623708444f947d2cbe0b432a6d",
      "3072d6d51d5a43139c48dda03c3f991e",
      "b17e1586645e4768b89ea16d06f90937",
      "841a2ac9b7754061b5c1b880b36fb610",
      "67e63c28e8da4783b123b820bd3f1fe2",
      "bf9ef6cd5d944b5296e1e8bdafa926e4",
      "cdb3326ddef144d9b39e8a21dadcfcc6",
      "52eee30dcbb54de7a0c609833751afba",
      "9037c4ada6654daa98dd1b666812d47e",
      "8fe42a432d474db0866600ba2aeaea07",
      "7284cb238cc74386ae030e047c81aa03",
      "923c09a70ddc47b79444a230a6a25222",
      "a09f2790e0fd49da90c214e981f35294",
      "84cd4aca546f4be2b931c338734c6bf7",
      "9424361b4a8f4fcb9d0c8a6facda494b",
      "c4c68005b06a4579a8de020d82d92392",
      "e2b6e7824f8a4a938c5ae10655a872fa",
      "16d01899da16419398ee9e074bd5b435",
      "d0cd5a4aab8c45d49a74882f78b09f71",
      "b8c8c383542845d59cdcc22d01100998",
      "ab13630f0344410e991e7a6faccfff18",
      "9200cef4dc504d5984fd49d8315e0de6",
      "442fa18687804267a2e6d2636b8e8aa9",
      "24c1a90bde0d488ba610225515c9f796",
      "a05f497720bf480dad844e31abb8ed3d",
      "08d80f70d4d946fe916ece77c2bee40b",
      "c625db7506c64cb09b347273f9dff3b2",
      "4a0d76b6af474aa096706903925b69c9",
      "40c745714c0e4efebfbcd64deae98fb5",
      "ef846b2772b540d1abae82c39463ced7",
      "0d4d8c02e0ed4b0baa20ead1a73df5dd",
      "4cdfdb4a4ce046cd9c4a872e5f5c3577",
      "a63e7561d1e843c6b147e8b7a51dce50",
      "c5b70545982d40f8b3d1daa30c7437f2",
      "de208dcbe1804bcab4db7fa1fdf14304",
      "d8624ef21f2a49d2a179496a8f304b45",
      "df95562ff4ca4327bc06d3d3c2eb1313",
      "9370b53ea610457a9c27a910156e522b",
      "ce648854f20a475e9f6badc9e34a607b",
      "1438d333f53d4f469791fa576d3bbd3c",
      "dd574d96c54442b5b53a562ec9256a1a",
      "5bf7200f7f954fe8ab7a90d2c1eca72e",
      "ea7150c2b4d74328b35a1583d0c2a696",
      "f34c25e5c1d8455995ecf318fb3c78c2",
      "5e4fbcda3d55465189fdf29f176ca45e",
      "ed68fb2994e0476a97c2b4ecedddc0b3",
      "de508769182b465b92f8ab7a6ed52c56",
      "b8e3e6526f494fd5a30039f7cdf3fb90",
      "11f8a8f5e2d9449bbd9c71b5a71c2277",
      "984d4c5b6aa945afa8a88854760e18be",
      "99101443c8e1432689c45e01ad535cb9",
      "863bddcc22a74b70bedb000f1e4765b8",
      "47fd0e6da6e047c09bb49fbbf122a987",
      "2bb2404dced747b5bdd2e755f3d2ef16",
      "f9e46ee4db734c8f982e9932cc77fccc",
      "c9b01dd87c654d72a931b720736cf50f",
      "2a39bd61dba64eafbf0682a2f6f8c032",
      "d95b37338563464485edc669cd49a9de",
      "41c48fdb9c254395813acbe961a4ebef",
      "82cd442c40c847dea423131082d34dbe",
      "a6a5d9632a494cbfaccaaa14384aad2a",
      "eff40b38c7c948b9b96b9f42e854f7e7",
      "5a51acea0c3948e88e30e2d1f6113fbf",
      "d9fc664555644e9095afbf9e1fe615ec",
      "66fdfbac2b1b4670b44eba07f31bacf8",
      "86591df441dd4a51a25e7e2d531eeecd",
      "6e7cc4e07f32425d8931a9a238820a4a",
      "8655bb34a1cf420394618b5a29cf7b24",
      "c51229b061d0474ea0524ede08b516db",
      "c5001eaf9f0f4d0ebca02ec3fc473740",
      "f9ff7378f73f4abd832350682082c3a5",
      "e5178176133e4ce7a0bcd58e3a16921e",
      "8036547a529d41be808dbc263dc46389",
      "5533456add1c4fd9822d26d9471ffbed",
      "3f8a71e5889c491caf4efb28227d7555",
      "71f47f7dd77d4278907ad1af19112294",
      "9a322ab2bd574a9f89264225bbc26d55",
      "382cd6fbecab42b9b74c65e461c1ffd5",
      "9c815b3f82cd4f9297951fbef1348c95",
      "a7b904a941234f9198525c16cf8248f0",
      "1041591ac2c345f98a2b41dfa8f70d4f",
      "c4c41d31e02e4a67a018c8c35e9f08a4",
      "95e4bd3ffc484a9b93880aee0377352b",
      "8c4318abd14b4976a361539e2d7a2eca",
      "76c30ba60fcf43feaf59f1a3de33c142",
      "9159c3e78cfa41d39a2bbe02ece3d818",
      "63b5dbc3597f4d2295535001a1662508",
      "2b857658c0ad444d864abf61d219f7a8",
      "60971498a21e480a9efd640bd63ab198",
      "5f0d122ba473494ea8906b3e9b51e154",
      "4543aeaa444442eab587961cd7e6a6ef",
      "2e4f7a58e73a476c9dcc3c4aa701d5f3",
      "1729255fdfdc406aaf50ab322bd44ad3",
      "f26696bffc81443a8973dc3f9dae96ac",
      "fa39ae83cc364105a9078bc763cd5a45",
      "52c1ad555b8a44df964a97c3588deafa",
      "15df26195d264bf2b954c2fcd81f486c",
      "6009c83e7cc64dcd8e9a4bd9cfb5464f",
      "06af6618198644db8de88ee41195242b",
      "c7a4ec7e6b8f444e829ced5c7fef3403",
      "fd0c8ff7e2db4c228877b0d301143206",
      "3452170744e84062841335cc02af6183",
      "3c87a0b2091e432788381b434e377df6",
      "7b81d6f7b52b4c77b081e9786ab1f5f6",
      "7c6ef36f25cf431fa9598e0d29536540",
      "af55907f0bf84232b87ed437611ef9df",
      "8cea6acde75240eab8b1025371eb8947",
      "79f7f1f387c14d7ca6ee131ee0bec00b",
      "aa1ce978ba4b4ee684dbe460fd5dcb18",
      "8ab132d68a8940fdaa5e872d0137ff71",
      "6f4c47a4b3c54c8399853f59342ae9ab",
      "d351f18d5bc04c65a0332e6a2b721336",
      "fa426ccc79ab4eeb841f8c8addcc9768",
      "2440cb5e058c4445a6605c521fac153c",
      "d2f77ea1731749a3a512ca178e2f963c",
      "42b8e022324c4afd9b13d1fe8d8046a5",
      "fa043ec668b5459d97ce36443eeeab51",
      "d3e3d23168b14be8bde8c7dfc671e4a8",
      "067b1eb09db94e18a6c9d25d9850cef0",
      "9abae9dec759424393a8b0c4a16d1b96",
      "c0015fd09b2c447d826ee484ea59aa19",
      "22dae8fcb16243b69b8effa41220b6ff",
      "78f96efba6bf49e396e776fd0fbc9934",
      "f4ad97dc3dd94c9f93cb7f8c55635e18",
      "d861cc6f5863472db8ec6496cf7ba0ed",
      "0e6d8cd8792847369e29e8b107dce411",
      "1d7e0e0637be4eaabcfb9340f9388bcf",
      "8981796c38df4abe8d299b703a8b8627",
      "6e8632aa63bf4b9eaf8a6f7a942087d3",
      "ed6eae04901b4b8f97891c1bcf7ceeae",
      "f0da7da35c2d44258d8a60faecc3fc50",
      "85821f8b6eb74bf9ac9df0580ed2ca1d",
      "e51c759579ae4bf2acf7ac5837df53ef",
      "f869f09fdb9a4879bb9badb8f1a84af9",
      "f6c2581977fa4fe593994d0781fa340e",
      "b2908beba234459493fbf4c76100893e",
      "a6b84e3677d04cac9380230f02cabe32",
      "76dd8fdd7bbe4473b9a8eab0fa9c42e1",
      "893573f69e9d4bafb59f8094a9377909",
      "65da3fd62d4c4f7387d7a483f4e85b28",
      "e2f08c2f9be1460fb5242a8e91426590",
      "0f8ae7a1e4984d60bb8c4cfbdb9e85f5",
      "62df9bca52bd4d88a0677e7a6cfff6f4",
      "8a550991b95643feb0a5332cb13c3c54",
      "014b43a1baf84e64a0e1094ca0f3409d",
      "fc0c559fafe7479180d7f0f450cf712c",
      "0c1b5e088c9048b3b5a817bd06c961b5",
      "860145b1998044b7b6be650c29ae19af",
      "424fcadd77074360a243ed18a95d994b",
      "ae23045918e74e3ba535bd600ff8cbbd",
      "d874052752ba459eb2e23545135f1644",
      "e51b244357054a7e9462fd4aa1533a99",
      "29bf8df286ca4a6c87f5db9d51400cef",
      "eadaec9b6e324aceabf114d244284a9e",
      "d868203da7694f9298c2a05e39bafb45",
      "14f770abe092485eb49c9dc2fb6b9a5f",
      "b9ed5c8c236a4b0790b9f24732d03180",
      "ce34125f26044b2485971d782492ebed",
      "49111945e2444a749a57aeeff2530e3a",
      "431350d282d94338920509d81fce946c",
      "76659a3493b541db9047a8f2df2a5390",
      "abd535e29e5f492497d10073e7819aba",
      "3ebee79d5fda4c42bc95223eb436d471",
      "ff45ceaa03cc4c91ac218d657ec8b093",
      "45d3e6fc1ee642f8a5864c3565f3d8a5",
      "bacac85fe13947348123bb4fc431a765",
      "4747c8dc516c473baa54cdcf000514cd",
      "1a75d48c46d1408abadcb297f9123d5d",
      "a21d63ad2cd7493d9827d73f60eec643",
      "87c17e028f534a6c89c4867369f806db",
      "4770fad8d7094fbc86a7247adc2102f2",
      "e46dc5108a5a41dca7226e311440c3f6",
      "8e74b148df8646ecaceb75562526d6a2",
      "c843179c401f430e8f06b9dea9716e5c",
      "39167414749e467b9f1e455d0b91b82e",
      "701d71a7db3242d89c1fb779237db744",
      "e7a7a3ae4e114b83a75e7ed4d4377af3",
      "e1e85c87e1344bd1a5dd2b0ed415c4f9",
      "820f2b755ecd4ce8980acd48cca9dcb2",
      "d9922e427a1f41e5b033b90ed2d56e6c",
      "07a56f1104e141e3983d6e90882f7b2d",
      "2d3499c2bdf64471bd22ff337a70947d",
      "f8708d3d59df443eafb8cc31e5c82970",
      "640480af3e08473faff3a1eba047330a",
      "e4936e022dce48b8a51acc490bd3cf6a",
      "7ac35f815fb547ea8099ad2f6920e141",
      "8d77d533768d4faeb9be9999436fefb2",
      "f548ee7f5801452d855afac133ec2e41",
      "0c5595507fbd48f3b54ba3a4bb7e0456",
      "df710876fabe4abea188ccdb6a34e085",
      "43f0884e818044e9b8bd90523dc2cfe3",
      "92324effa94c46998e18377315e9adc5",
      "74562aea6a77464894265f196e190f0b",
      "076a0516fd2f4efab9ffa29420f95f74",
      "95a215a908074132955ee2b0295b65cb",
      "f95b5c95402647bb99daeb2e2d6dcc93",
      "9d2307bf6e0d498199f52e6df34fbb50",
      "a7b91a6443034effa763c758509ff41e",
      "31e025f71ae54a10ba8a28ccadbae44e",
      "05072ec57ea8421ba806e7d1de1e90b2",
      "1bc22631edf540e7bfe333fa0b6b33d9",
      "9ee3128f75134a0fb3767d032a904d76",
      "27315f6787f7483680e6181a050dace2",
      "640ace33ccce4270a8b2f057d7c77822",
      "e0041e3ed5ce4066b74bc3c11bb75a54",
      "23b82d89cfc04113b3e78e5b27c116cd",
      "e6e3fbe0ec464287b57dcdf26811683e",
      "537f2fbcaeef4e17844078feaec6352f",
      "8c4ecc15e7a24c3681f38ceed35cfe29",
      "4df00904e0cb498badfa2a1990297f24",
      "f45c48032e924822aea997f0ed55be83",
      "7487f989124c46b2a5c1348c11087f6a",
      "789ab1a6ce13493ab7b0c5989395da1a",
      "a12bf1e09d5b4eca9ee1049fa2c8482c",
      "847ac0571cab4b3d8148f5aa5a50ec57",
      "d7e5dd550ab74fa986814f0f88eb5503",
      "ec89080df57c4df5a6a4b6f04581bd60",
      "a84fb026a53047969992349e2de8e966",
      "f6b8b515e06c4eb790afdc05212276e8",
      "5a7ba07ca80c4f7bb880850b43b2d86f",
      "aa6520f455b24fccb69fb040f46d6c47",
      "42432c5d52744d76a7059248ab0e3073",
      "0337e4ae9cb4458788dd5b827314105e",
      "ca6adf6781914cd9b4d88cc9df168074",
      "fa10a6f460ae48459aeee555a6372d2e",
      "f34f7db024ec45fc83d829f6149b6d30",
      "33749e3ab3924108be23e75615da3196",
      "c645588b48f24a418c6d606e936ff453",
      "ccbbf8786af04f489ea4f07abff8b039",
      "582ea21f595e497b964f9beffc18e73a",
      "9f7031888ada4ecea8ab81ad85659e0d",
      "8ce108a195754cd3b4bc930a5ddbbee1",
      "704929a700eb4c7da98c68a022d5fe2b",
      "6f7a9458e7df4bbb949504351ccb49ef",
      "def76c6bd5fe406298be36a65c417440",
      "b7f0461aa2cb413ab1d287bff2c6608a",
      "655a72f67e9c44719788c8dfb592a030",
      "8b1f093f6c11488388740fb1299f3acb",
      "c1fdccd2f28041fe967b62e831ca54ef",
      "d73d1f8c6bc6465c9c637bd17df82884",
      "97405ac23a8b4ab490c540c3da95d8d8",
      "0763e37dabe44df89800e8b70988882f",
      "21ea8afcabf34c91988d73de51df0ddf",
      "69f3d47eb6fe49dc8ce74bdfbb127899",
      "4cf49c5bdc744b01a3f24ed9b71c1041",
      "6d6afc2c70d447769863d37680e89c98",
      "17bc327f62b440b0a7ea8ea5980df0d1",
      "4b1607111f604d7c93a0fe0db015808e",
      "0ad11355e7414dcca725bcd7e9c361ad",
      "1aa1347266cb4eb08213024cf7ac911e",
      "be297ad26ee249a0bd6601db494fa50d",
      "c5ee6f518f494352a5c3c6f9acfb0eb2",
      "9e1347b4458d47a9a44932271d1311aa",
      "9dbbd999c46c44a5907515994a5dc96e",
      "f8e697390e39409ba6c5f8602c652d75",
      "28fbb41035134f1c98ce534ce5ba4185",
      "36a83915874143fb93738fa226edfeb0",
      "1cc872babb974168bb217a8da4df7af0",
      "a951fe277ca24d40bbc240f4eb58d39e",
      "179fbc7b0e8f4520969f23171293723c",
      "11177345227e47699d5572285048c88f",
      "13621c41750449cdb8cc7a3d36968ea1",
      "aed7df773e0e453fbf2240a279d88dfc",
      "9c6623380c6d4304bc2178ea4209d886",
      "740bf2d4c47a449885224b8929d4497d",
      "50a66c1dfc75450b8f29a2779c2aaed1",
      "48d7cb8e3a9e472f95b7ef8232c03d3c",
      "850fe499ca8d41f68c9069b03ea656f8",
      "a1d4899403ee4a79bae34f31e88cd5a6",
      "da1ccdf825ba4b0eb9f8afed66f38839",
      "aeeaa0b0c52048ee81f2a8ea393951fe",
      "3e283a87655f4bcdbd4d3eda097994fd",
      "ff941c3939f24c929328d5cef5900e52",
      "9962258177024d7a98b06751b118352f",
      "e5fe1aec5f1d4ce8855e476264417385",
      "8ed6ef4dba0c4bb086d226342b941c5a",
      "40e3b62d933b4b5090f14e5c14132f13",
      "ec8422fbc8e6448eaf99603e7cb714eb",
      "e386070e9e75465ab789c546db3aaba9",
      "e20d8784d47646abad7d6c00c8697837",
      "d9e9cfebfa0d44ae91164555a2ee6911",
      "61bf8e5034ea4fb98b93025ade6fcc9b",
      "4b1ae61eb8a74b218fb59c66a65c4142",
      "a0c5f86b6c8740e58eaf3803766562e1",
      "b79d0d82322c4669bd17b050518c672c",
      "ba63fd5ca6544b88a278c362588e81dd",
      "d51f743e26d34246a382d40b040e9508",
      "8399ec96178040b3b05f0882e9fe6e84",
      "fb827189987543eb82f4955852e4b908",
      "64cf8a87e8b14faa9f0565fbd5954407",
      "dd0c2f98bf3d422eb8fc498eec290754",
      "a61e3c31b58e476a9a3e70f7c9a9cd88",
      "593087d186d949eaa29e53b0d47de49e",
      "d024c763574b4b2eaf65ba8cc2f5722e",
      "d7fd7cbeff9e41858c0ea3b9ea6f09a6",
      "851721eedbcc497e90e349d44347d23f",
      "972a04368d994d50be31180a859a874b",
      "75ed1d476b0645c885dbabd38282fff5",
      "8012979057244fd59acbad9e1be97e21",
      "2c79d30899bb46a1ac48dba039524b1c",
      "cf03de693c554e8698c48a5c8f9fabfd",
      "f5f8f41df3a449a49cdc0952036ba610",
      "2d309726280940a29c60128a4b6d488d",
      "8526f26154d648aea5f6214e51cda5bb",
      "5b9caa9680eb4f378012245765b0f612",
      "e5140d11d80e4d09825a38c416944f0e",
      "239e2ddf023b4e38b1fa10612e3d5293",
      "6ffc0de39cb946b8aedfb4f0dc119038",
      "6bf392e813d948f6bd2965b08a03c5bc",
      "74b45199eeba4e91935dbe0ca9aaca6f",
      "40a9b737c0314f2ca854f95ab77e2500",
      "f8a437f994264fdcb82f8f5c413b025f",
      "5580f681758644958fed70468da96a50",
      "1247ee8713404f67a0f9915e734e7cc3",
      "8f5a048f0fa349b98cf0870d1e33b3a6",
      "9a2ec09b76464837b50a98a184079217",
      "f8839073431d45108c31b8a7090a8a21",
      "7f3bd821360b475997b915421c627b83",
      "5f25bee0f24e4248ac5f41480ad97e32",
      "bcc8ccd470034e86bf045a80ec4305f0",
      "c8383c2e75674a05a0709d37486cc5d9",
      "2912362b3d034de2bdcbc1de27745825",
      "4bf66efc31504550abae0f3336e71537",
      "ac545b89cfee4605b63ac5ab05fc2b1c",
      "1360ed19d7d0486baf6a3b43aa4d0f24",
      "a9b43cc0e1454c869fc7e3ce9f5cf5b7",
      "151d13f11d064f5ab712f590eb35888b",
      "943fcb581eff4b67882c839365a0ae3f",
      "7de7613913014265a652d662ed19a0c9",
      "9f238a8c81374feab567fc49c8f666fc",
      "c250ce54ab7845d6a36c0985d6746cd1",
      "4c14c7e9c2c340b7b59b1a6831c93852",
      "ab14dfb6828d419492bdc9dd7f697d8e",
      "193323f4564e4c3fb9cd8831e6d4e4f0",
      "6c70f6f98328479f91111b297dc1d8e2",
      "697732d037f6494d91c96ea65289dd0a",
      "0c31021889f34045a24ce6804e3eeb89",
      "36948e67b67d4e93bd2b0ec59df7aba3",
      "020581832fa043c28d00334021a640e0",
      "cbf00a68201d4991b699e67b69976635",
      "115b5134ce8a4d06aefc24d54fdeec10",
      "d84fbf5673144a55949c70229c06edab",
      "1cdff9ea057a4a259743312b6f2971fb",
      "43bf1be5faec43aba7b1b257741fb915",
      "8d18e0d621b0406a8cf4f6fb305eee99",
      "1897399b80404c14bd7777f749508741",
      "b429ad581a00482da007d74be75e8dc3",
      "740ce064ed3e4ba3bc4e1fd281742412",
      "8b752e1ec8904788b668a168c31c25dc",
      "b77e07c7938947608e366057e67150a0",
      "125d66a18bf747ce9bab9ad0bebac290",
      "bdbcfb6cbdfb4c06ba0559f6e8b4e04c",
      "28890d5ce7e9480c840607b6f4bb2396",
      "245db5fa08e845b4b30d902aa812bb4a",
      "0f9437126b234acf99ebe53e7dde3e42",
      "7bc3efaa0dd34cc2966c95da7c515cee",
      "711cadf4321c4466abb328fcfb3ef0c4",
      "d57f72d307d54c7b8c7a9c3c522449cd",
      "ba8efbc136bb4f8da5ed168804f4b64e",
      "9f76634b9ee74081a437b56787dbd685",
      "b19f107b04444deb938651781ad4058b",
      "3c6f1518989648b5b2b94fd498e5bff0",
      "79e88a3152ed41d39009a99d8936cd57",
      "18813bd2d468469c81cb27e83ae0f1de",
      "21483872a4b9483bae841ce1a99f4ca0",
      "a90131f1384a463298dd531a7aa64d32",
      "5f74ba29cfd14a2fa766b3cd7afe72e3",
      "55b8f233e4fc46beb19e92f225964d2f",
      "b453b516275f4f6baadbf3cd056ffedf",
      "f7c8a974a9df4fe7bf46086a9ba51b01",
      "030b7b121d974ecaa55160693d7ab2fa",
      "6a75f34aeadb49cea5a81359e9580a9b",
      "c63576e0e99a46d3a0da11949a007704",
      "cda244416d0a443d9a3a5031273cfafe",
      "bd514a21a19d42b6b5340a1483ceb52c",
      "34321db2ba254154a3bd94b6d8f0e187",
      "5a775a04b3fc44999a970843334a4df0",
      "d981a649904f4697a1c53237b7417e7a",
      "74fe411211bc48f29dbb0db5c3512a29",
      "34e76fa093ba41faae9253474bdb024c",
      "c84fd05276ae4aa4935b8d4b0480e4c2",
      "ae263835df7d438cbac3d336d1b8c6e5",
      "f05c4fe4f7204597a575fb6544a21d9d",
      "269f381ab7114a60a52c628e04eca4c0",
      "e388a294132041ab9c977321799c2135",
      "4c32d651c6d8470d89cab816da83b485",
      "de77d6829481443a94e20768bb0cd84a",
      "41cec913f5ef41a3a77cc425f8229b4e",
      "e4f8d669b48e4e2b875120d39d56b591",
      "890ca695fa474e17acd55213bdda9003",
      "564ad2e036284d93a838c3c3a90cb7fa",
      "b9f93c0fc04e49c5842f1db5b7d22956",
      "a9032210a55840a6bb3295c30e2ad2a2",
      "5693bd6460c34e548a717a7d63e9af96",
      "60d11108ec4943dfbbb077b728ed022d",
      "72c972277d8d42019a2b5bfe1e3cb3d4",
      "16a36ae680b847fb8c2a0073b37e306d",
      "2bb9c98c7614421e98daa0d819e6fcd1",
      "07317b78b0c54ea8865ac9ddc581233a",
      "0bdd9bccf1d44c2ea7bc03cd44c301a4",
      "40359aa924624616908e5c06c51ad03f",
      "79d55b2413254bd0ad6f5f3dde831014",
      "f52810acc68c4b19881895b8d839e2de",
      "1cae6e9936964a04bc2a4460cbb0f926",
      "8879264dd67042cf929b3191eb875c0d",
      "e43d204ef0ad47aaa8bcc7254892bb59",
      "21919e8817994d2292e6ab81542898c2",
      "b6070f1778fc444a8fd5ef451419dc5d",
      "bd66156a586545fab5048c6b312639e2",
      "3f9c37362fcd4467a56ebc860416320e",
      "57ccfbef95bb4a4da64d41eec3d4e5f3",
      "c17241ff8359450b93a28abb6f9b8e0b",
      "864af80b849f4ecb8f73d8a93765ad1f",
      "415213b4a2004446bec7029e68e0d511",
      "dc7ba2b052d6492d85bbea445fe69e70",
      "b2a04a0cd795462794dcc1414dd68c47",
      "ee28be534d0242d38040ada3d3d0f8b2",
      "3c15c577999f4beba3440f8953f7e6fb",
      "0081e1fb52a54b3a82dbcce1fc8f6677",
      "9a7aefdfacef40d8905b80b87e2cfb98",
      "38edaa6fbaf74c8ca7b91d36445da81e",
      "e0ec550af61c4e84967b1ad9ecc3c471",
      "f9f835ba92174747982a2b0a9e29d05d",
      "90d90eb56cc94c66a5aa3c39dd15ade5",
      "cc06581b44e24dc08f98215a515a4427",
      "a821f86b64d8473d80e6819bcb6c395c",
      "c12f308b351748efaa5b237c1773eeaa",
      "0181be9012544f50bf3989130475a1c4",
      "806176728cbb4d89a121588148605f2d",
      "6b36c19d774a49739a9023462c887a55",
      "fb42d417447f442d9f38b6a62860fc81",
      "3e885495136b4277ae36d2e2b5779e27",
      "c9fd228ff960427482e80d9bce11bb2c",
      "0409c8d7b29840d283b394d04e322671",
      "4207621652a3417e9c9708ba631feb6e",
      "108079c4232042f9841da82728026c5a",
      "a95205d0e2a2430482216337adef9137",
      "6861a26341f241f2b88984c9b330f6c8",
      "546cda010d6246f3b23de5e226e5a819",
      "b3fefc332d224eb0ab00af56c81787ac",
      "976e8c683ef34c67a828a989e3cfa634",
      "e782be7b018245e9ab8a23e7cdb85e16",
      "a3097b51f1cc40279730abd7461b36c5",
      "09ce24fff45e47a6826aef1c5fa12757",
      "69f76d2e35b14fe0bbccd0f7e2c74ba6",
      "c52f22e03c154adfbace09c8ef228856",
      "336cc5c5d13145fe984d9c028d9e5457",
      "1f58ee309f9d461ab1784e9714e08fd4",
      "8507ce4fd15f4ee58d334631809b5844",
      "4001e6959a3242ceb7ba1a75573d6a67",
      "5be138126a6a45e2b3885788978efb88",
      "1c5e223e360843dc973fd3024394c931",
      "caf459f04f31436188bd38e52b2a4768",
      "6e5bb6044c6b4e728058fe30707a19aa",
      "6a21b07f62a6490b98b35f56ecc007e3",
      "f7bf21eea5ab496dad6ee55ed41e2fc0",
      "fe16dd8402b0450fa6b95ee55e079eda",
      "b4c1e0fb98ef438eb468beab46f0dc1f",
      "4a0bc8d929854dde81022e5518f45f82",
      "c30731784d044c5d9999a6b7e772dc5f",
      "3674b3497c12464baf89cb4bcee5f16c",
      "1c9bfbc83d534b4287d1df3002c9f39a",
      "a6db805ff51f4cc59b7f8769b3cecc61",
      "e2d13e02a91442888cabdfb7131fa801",
      "55012a497e1742ff802067528bea6a9f",
      "8356938ad0a0453b86886e7548dc9c79",
      "afec18abd98e4dfbba8e1b13fed5bb88",
      "4c7af2fa3ee5446aae4aaf412e3182f0",
      "2a0b98cc17b745e28aaac0fdc1c72e06",
      "592a6f2dc25c41b3ba11cb5a7ea4e301",
      "a8a0ac75a85c4a8d830335d1aacbd647",
      "119629e2bf9d4d6b81d9fd8551873263",
      "63c1caff4b634f47addb1872d4e9b764",
      "f4bd6127ac98429d941d30e795543e71",
      "c29a7524c39f4ea1a2f3115c4d71d54a",
      "1aab7e44073e407db99b0b6716bac0df",
      "c6d5ba8c10034ee0a1f8bf707e7e94ff",
      "91c9b3e2c200474daa0ac629993d174e",
      "7adca16fa97c486d93dc0323b1c093ad",
      "0e4360c0fd6b42a6a711bed4f61794bb",
      "6e4557b893f34d6aadf987e98853a505",
      "ab6fa7a0b7124049937bc0a6c8920bf3",
      "e49c9ee6342c4998bbdef42f7ea54523",
      "2b6117d7636540e48aede835f3b6a0f0",
      "f32a3251f17949d38d6b813a576ff4d3",
      "2f152fba7f9d458a9f0ca8cb7c54deae",
      "726a4e07f02146a498cad8c3a4081705",
      "b92b205be36d4527bc6f36d02bbbc375",
      "a90a6d5e9ddf4b12ad524562824c6206",
      "5205e41ed5494ad4a9f56b6c73b34fb9",
      "7701901f654045c8a64e82c50ceaf279",
      "fdf29548328c478db02b7868fc267f8d",
      "94931722c1c9408dba71b7316ecb8f7a",
      "bac65ad2c6d04a0db3efa8536195f6ee",
      "d5f5ecbe706744feb87a569c777e93a8",
      "1e69b6e56b3549f288bfcab106467fc2",
      "d158f63d883740b49f5d1ba6ec4065a9",
      "8f6287ddb20b4e79bc7bfca89c590888",
      "6eb143c76fab4c16a32b10e103fcbea4",
      "da5bd9e886634884a8f6214437ffb185",
      "02297c6b6cfe4a2ebc3069b3c3abf100",
      "3ed0117a93aa4535be1333d7f67cb002",
      "7c8000e2ff6d45dab6557fe7bfa848ce",
      "5632b19f9ddc4610a08ac0f5c92cd481",
      "65b4b992e52545e8b9fc04cbbdc71a76",
      "2ae9efcbacef4ca4961871055ccaf488",
      "a4526f5e69024357a24d80faee50879a",
      "15aa2f779b9948c8b6b63a7ad13a1fb9",
      "422097fe1a4744a7b9ebce37968d81b1",
      "e24a663f38ce4311bcc2dda150fa67b1",
      "a4efc1c41a194b94a74115d45cd44c83",
      "dc2259939d884631a93d56c49355258d",
      "8687915445334be8bf4e0a6660285a86",
      "52bf0642586941a1aafb69b79926e685",
      "49c9697c69494805a3fa731ae0c1207b",
      "9bbbb6bed87e4f79a415ef66d1fd4c74",
      "304962c5f00345efa6b91aebbe4ed258",
      "c5690f93286f4bebbac28a8036c48efe",
      "b3f0558132b2403b917db2adc024eca9",
      "227e6118e8684b4f8f7ae9314ad28c0a",
      "ca37288687024567a84985efbe202d2a",
      "612590d8750b4245a1666a401a3e9299",
      "e313141870ca4680b3fa2f748156035d",
      "cb61ae3a980f4ee2a9361b9d7bdb484e",
      "4b107bbee2344195823f67faf94b8e1e",
      "7fde7d6ed377419d8be674a3b9c6b599",
      "34e3bce3e8f946cfa523349e18c34893",
      "5130655e2ec5452882ae2cffa95909b7",
      "461d3e3af17745698d5dbbbe7935524c",
      "cb0fd1a94a4e4b518481ed72795d80ab",
      "60096eba618f46c9b1a9f86fb685857a",
      "a8dcabf016b149439d4a72ffab23915d",
      "f86396a315624423af0d65ea869c3be8",
      "fb100b0f64284b0b83334ec8a0641672",
      "4b81146c55fa4df5b1de1e5e64cd287e",
      "8dd21396667f428c8f58926221ce7a41",
      "05bb76b8128e4d2ebaa5147efd3e08e6",
      "b1af473b241b40d8bd5a0cd63d7b942a",
      "fbb3359abdec4f3f98a187c5db02d6b5",
      "a49813ea333c4fa5bd6d7941cae68152",
      "b625c76bc1c14d95bf7fd05f65c40ebd",
      "dd074a7bb10040cb852dc4e69561d2dc",
      "a55d537520784097a180d40c6596111e",
      "4ff1067f8ec142e389a1b46d00834fc6",
      "8129a4e087ce4e4494c785bcc88c2d3f",
      "d4a136167d0541af8799625ba7521129",
      "1059af5853294e98aaa3e8d8809f585e",
      "3780ac21ff0342ad84f74fffc7c9e74d",
      "d8db9a3ff8f04071b73ac302822781ff",
      "63fc0f432530452da126c600057cfc04",
      "2b6cd4e155974fd298074685521fa4ea",
      "eec818ce34c04e11b61924b7e439cd7d",
      "1f75bee3d35f4824af9f76c97ded8309",
      "42a92edab4344717b3397dda40bf3184",
      "b951eb4f05a946179b2f80bceeed6b79",
      "7a9820cb42c64304b22125a51e19a54a",
      "5b42a384c4064a7882e208d58521f08f",
      "ae4d2628c42843ecba9d1b4c85d66192",
      "a5413c5cfd574da88f6ba211a1f37148",
      "974c5f2ee1914e2caffdc3023c59ab92",
      "78f30f5dbf2b42fab34e3e6aeb1c25df",
      "64043678f663439c907b4f5cc5b16a27",
      "03ff7ebd586c4b3392d8543ce09d2733",
      "6193c3877d504954b3cad761120b913f",
      "d31985aa20c14a87972bea87708b1996",
      "2bee4f17534a4cd18339c11e71a75ecb",
      "ac4ebdc8ab0c4cb898ccc6d6006ff537",
      "f6f943e9462c4ffa842759ff7d20618d",
      "5741836fadbb45b2b4ad78ff5b38b4a4",
      "33853e110e3d4cc694a95823b8226d48",
      "e0182611c66649f09f5363e079fc98b9",
      "124a8163a1f046f99f5e47600d972f78",
      "bc50327ba97940818cdc2b59f99416f4",
      "7873fe5f829d4814808a467265a10baa",
      "849fd7ba2f4e4f62809b61e851ae108d",
      "63951ea4aae04be7b286ffa310bc97bd",
      "0bdc501808774d81936577d7653c09fb",
      "25fa6e1f2d554aafb01c31c27831faf1",
      "736cc3203aa940129ab01529604dd154",
      "2ce48e096c2c4769a990148b12b65207",
      "29db4785a9a04d3fa9d2692f519e5274",
      "2656d48ab04b47298207400f49530f24",
      "4146d6fa1fc34063af178422ad8cdee8",
      "3dd86f76542c49fd9abd7e731a889889",
      "788fd9e88b4948e383576e692545c46d",
      "3098af8dbc0d44a9bc19ed9b2103ba2f",
      "ac0ef91f4d8547be958c1ad6a2acfd63",
      "63f9595fe0a54c93b59c8e285aa4bfb4",
      "056cb8b0fc614923b774a16b6a3d2884",
      "134acf42cfeb4b7997be6b07681e5a46",
      "c7ce87935ecc41e3b176212b27430f6a",
      "7785b35cdfb1479896601eec3c8d1ddc",
      "a08d3b3bd78b411580ebdffc8d9b4a2c",
      "0db2c273ba834d97bdb9f4af3ef0bfc0",
      "3d0617af68f34fd8aaff88f66318d6bb",
      "b9f17386dd0e4a6399b0511a55c2df4b",
      "acac225057064f3abe5b497dd1b0b757",
      "88c9fc664243402da1cdbf9660a6807c",
      "9b7e686ef91347bfafea59660da7f094",
      "c7ec62c9e0c04e96b0bb9a62a0e77502",
      "331e0b04626a4ffd8496b149613a5e05",
      "785437188c984964bff2ef1018715f8e",
      "46d4a9ee566f4867a5d834bca58d9fbd",
      "af50fced32604f86a44c156f5afea46e",
      "0aab78bb2f5b4ae7886c3a3c0be0ea3e",
      "96338e46afba40ee80b8feaa08c469a0",
      "706762767e6240eda71d3f4359ab3591",
      "55c9c3582b30479cbd9f70ba713f4a60",
      "3ba69a905f9a423f9e29173f610ea05d",
      "9f15fe7a248a44bf8bb999791e88a782",
      "9a6698a22bfd4a13ba7c7b3dc18c674a",
      "29f6573763404e4daba4162cc0b5a978",
      "9aacdf77fbc24172af674f570416b568",
      "06b9ab543f8945b58093352cb3106b46",
      "655c5f7ba2064b958793cb63095de2f6",
      "c7a5628394344634b1a7eb93b803fdd7",
      "e2f39d532641443483202a59153bc822",
      "2b67722798724485859057f518631efd",
      "ee50bbc4885f4774be467285a1639b6a",
      "e2f634928946495088bcb18c9f178919",
      "c26cb389ea6f44b58b9b01925c313c3e",
      "b3f23b6b94024513b2c1c3f50fd3ef61",
      "d7c412ab0e0c44f39053ac3ddf81dc6b",
      "f3227dfefb1b4b8da2d78ec39f5764bc",
      "454ff9f41c2648e09350de0e40b58ea0",
      "8fb507618dc749cca39eee96365ad067",
      "f59a5f89b0d147bb80577630fbba693b",
      "d3914fc973ab447e9f6443921fbb4d30",
      "ac0e18d32f87479fa3f480e7f9f7a621",
      "2eac864cf9fe478ea11c2271d3294c7c",
      "365933dce5f544bfbe96813698205786",
      "7b7c3c6ae7b14c9dab8b512adfae112d",
      "792ae4e320c347baa548bbc3687dd32b",
      "a14e31695047490880c73e770ff4e27b",
      "540fa34225cc467cbfd70756cb193a06",
      "762d9a63c657428bacced5e59ccc9b28",
      "4fa50c54a2d44d0fb660c86ad5a94657",
      "4ae1b72533a74aa6bc03f7e618e0fd03",
      "89d4fe26e4e74d21a81140e397863cce",
      "4a27803566474271a014775fa64dac75",
      "64f7c602b1724ab29391d84397bb4905",
      "6577a0befc7b40dfb571c4c6bcdd600b",
      "65e139e6cf594c1a9c85d9dc26683721",
      "c9cf0b6cf36b49beab69b6b945630b38",
      "0f4b9c0f46f14d8182b6b0bcb8450c15",
      "c2f3ac82ec08440a8779cad85c4b5a55",
      "513ee9018d2e4146b69e791722230cb8",
      "efbc164dd8604ccbab533980af5bbdc6",
      "da04918f1bf1421687ca39e47fa0f847",
      "c4046cf21e71404b916e39ada110cf6f",
      "8e18a6f2dbab4932804a45c6561d07dd",
      "84abc262f1564c4db08a66e8c6b77548",
      "18cbd3d5d7d44a6483c63bdaf7aebad0",
      "fa6e0c577869401bb90da70986c3b00f",
      "ece51dfbe1b843d3ad855513c217db83",
      "18f78cbc14814a1abbfd0336565c7a86",
      "397d09cf461140d7a550d3ec3adbf3ba",
      "248eb036d487440f87c5729ff4449145",
      "5a2c21b4eea34b55a07770eab68cd91f",
      "64c5c1840ecd456db21e37358dfc7cce",
      "e14b300ed2ff45a2ad00faa2871e242e",
      "ea0f80311bec4b8ba25ac2bcf1bc5822",
      "e763f1d2469a49dbbeda5c71828b969c",
      "079a2c5bcc5c4a47905016341a5d2bdf",
      "83ae7f13a1284225b760cedc64d7ab93",
      "b49f99cd0ef042dfbce54d8f85f010a0",
      "c958609a536f474295cae07e44ac9c6d",
      "d14711bb9f3c431da8bcc5aa3b008b6a",
      "8b65a76eb23445379495b1e4ab431b9c",
      "aa43c3699a0a4831aa2a02e5b21a720a",
      "ab327ae493ba44898de9431643a26db2",
      "1d5caacb7c0e43b987990b485ba9c7fd",
      "ea2ff36faadb4547a9ffb5ebb3df4abd",
      "52c3532c53f24cf4974a104a982bc821",
      "d93e9c8e05ee4e76917c7716f00e6636",
      "0774a2ce7f8744a0b33736d144a74922",
      "8ecab51d1bd848f6a0b78666fbdf9364",
      "98cdebd9cec34620be203aa8e221a60c",
      "a199521e70ab48ea81ec2a8fe388f338",
      "cdb8419c2d0d461dbfb206b1db44a1a4",
      "1dd31f0054864f8a9589caeedb31f8de",
      "ac9c83fcf47c4e659d566a0943d074c5",
      "d360f2d73e6f4b8b9290bf050a6a9127",
      "4ef8ac2841814a1d97b296ab52c6927b",
      "2a41104bf53040f0ad35ea2fa123a321",
      "7313fa3803d8483881fcc972097ceedd",
      "1f7adf14e1164145945f1246a364545d",
      "0f0dcc7960814b15ae1c4c3244dafeb0",
      "a7417b6ae4984aab96dc663a5c983c8b",
      "bb5bdb8dd28e4217b1f7cabf39e73496",
      "f38b78af6c7c4e21878a8276a3c36b58",
      "21e8cf2ca378450293e729f5275edab1",
      "dc57eae3df314caeb8a58f1ae042f9a7",
      "8b323f65efd74c52a105f7a6528bfef8",
      "fe36f568d6bd406eaf65f7036cdc00d2",
      "7465100197394121b2f1f7c8f8a549e5",
      "1526725746cb4c84ba3165a271c22402",
      "67372cbcd4ba4b09a0563759ea96e3b8",
      "1a1f42de67c94d9d9f98d8aa0a2a0e74",
      "1fb0a4fb77c9493ca425681657c18ee0",
      "8f0ae790f762458f93889e975ce1519a",
      "2770e419b8c845078c2330651c0364ed",
      "3e3d3a7426d34c5d95554f47c7365c92",
      "d5c94580b69d4c5bb2729a368fe301f6",
      "25399b426db845f39a7e2b58663a87de",
      "56a3283ed8d9407498587d0d9978a35e",
      "763d3b53894c48a4a871c99cd4206c6a",
      "edf75c2791264d2ea468d5ce4fd7d32e",
      "3ae1fd0dd76448628e5dbeca2f7a973c",
      "6aa319500ab046c88f45eba7539a83fa",
      "ff0f4cb4d6674e2cabee3480b0a6aed2",
      "994306c6fd704839a6f56e999a16be8b",
      "b1bdc9b8c54743ea89a0de7aa7e1cade",
      "1709db6d40e449408877b7d3fa073d4d",
      "5de81ef7f4904cc4834be2834af13444",
      "7132680f6bfe427e8ea8d7d43ae0df6c",
      "9fcec917051b47fca7a19a5abfa0541e",
      "b29560fbd7214eb8ba644964a0f0775b",
      "35569141e58a40dd941dfab54b2ab17c",
      "800afa6d415446399fd807e4dc270d1b",
      "90f0b5373d85417b8b7182657eb6dd89",
      "3d68bebcb3bf475c85c27f6c650c97a7",
      "09a15e5a804d4633993e79b2be935f7e",
      "ec1ea8370a4f45bbb2d2ab1acd52cf2d",
      "f57dd8a5cd004706b9f7e6e859b8f8c3",
      "3f9f03ed865946c28a74c21685fab28c",
      "7a23bf00118a4e05b75425073fe3233b",
      "120d6ae7eb1346f2ac403cb30f5aadd3",
      "0b8e932e8e404cf7a509e5e0b731fbff",
      "f1cf33bb86cc42a7adc03120128d9d4c",
      "6c7dfebf9b994c90bdb5766314563908",
      "b42c4cc66c804788b65493b93deaab71",
      "7b6a3f4c97514ff38affc1a00eafbb63",
      "5770877d7dbf4fb5bddc2068b631d1a3",
      "e0abce2e6a55489698151b97e93f2682",
      "6f31e8f33dec41a49c76e99d6eb6a52e",
      "10581aeb6b034f3daf712fa1542f2102",
      "428f9f3d470e4eb8afe9e23be293149a",
      "b473a709a96f47488bb8e11f971559df",
      "91332f536743408cb52ca11bbc26a02b",
      "0dadc9ca437a44e5b95d65332b1802a7",
      "961ed0235888450ab8a4285c307175d6",
      "51d9e70577f9423ea5c4ff6f62618771",
      "c796796a71904b338af642b40b358bc8",
      "46bee596551e4e3cbe873e8242e6ece6",
      "e06ac190ff264621bfd50b700ccff6ee",
      "c3854780d18e4869b26b9f7b2052c5bb",
      "30950e47cba14a60b15f690c32c06319",
      "a656930bfc9e4c6fae6b1110d108dfb1",
      "ca8db18eb5d74b6c96edb964932b26a3",
      "5e573b9fb2ac4af2929f2a0245f059b7",
      "28f0b5e2e02643109f1bdc950d550d82",
      "dc113cde84a44de495fa10dfd5c565d5",
      "538e40917fd341aa887bf598457d3e1b",
      "bd00e758bcb84c9281aead298ba613ce",
      "0c3d1f47267449978f0a36cb865993e6",
      "09248a849bac46b9a6713196da735d47",
      "05668d948b2e4aceaa249cbc5032b980",
      "ebd5fbfae9674702a5bb66563ad3b730",
      "b385f95c3abe45619a498e62f4560a94",
      "b1b822c475a3449dba7aefe99d351854",
      "e4416fae701043ee83722d2a7d1520ce",
      "deda60d1d2014257a3a7550474cdddfd",
      "7d8bc0a9a59f415d9759a37158d0c285",
      "8c4e0c20404d4a4e81f8e6f5ae3183a6",
      "724fc92c7e2841e38c69b9089ffa82e8",
      "7e200b99ce284a1584564d52b07d1c66",
      "949b2ec185324aa7998b7b72e306058a",
      "a31b504056ef4ed5afb49bf1bd165ac9",
      "daaff623874a4daaa47d49c8a04aa355",
      "51c8353d1ac34050beb4547c821c6e81",
      "021295cd1dc4459d9a5c7dd3dfd6a42b",
      "8b11160f57a5419ba7f1217d822b6b22",
      "333bcacebf8344b2989435a22c56b96c",
      "57f2fcd44f644641a707c81cb3382f42",
      "0001075e4ceb42899fb415c616be3187",
      "270aea9ad06e4e0882c46cac3dddb4e2",
      "0738ee27f2824e19b5d713ef2ae7ff85",
      "421008fc0d9b49518121ad7ad3f22723",
      "f8f77d6802134e9e92f98ef9fef48ad0",
      "5ed3f5dc02e34f04987c554a051ae54e",
      "c78b138dd887453ba52df7aa4837c1f3",
      "864e0e4570b7465fb32b1e590854b9f3",
      "53c55ef310ad42059aab64b9cc27abe1",
      "80a7b2c9f8e44f8d85946eb404bf25d1",
      "66f71d1002734621a1f79c2630520bb0",
      "b53f5301f5d34c8d9df48448626a5eba",
      "69db54ef5c7242c6be7f876820e493e1",
      "3b92d89f1e2c412ea2a961bfefe2937c",
      "b0146f4422234071be833d58edbdf92e",
      "aed14cbb8db3472d8d29d6d3956634ac",
      "edd5feb5adf541bab45f75ca97417ed4",
      "922ac9993c2e4bffbb3057bb12d1875b",
      "6d9a7b649d1e4ce880a31ec8f6e5b94b",
      "71ca98994e6545199ea068fc0484b0c1",
      "a82c59ca558f4537b248d09c0279b577",
      "ee605735b9564a988a4fd0726595bec0",
      "8c242ccf7e4848bea5a645295dc919f1",
      "0087380860584fc881fcd210084f5cb2",
      "9070ea7b747c4624b4df4bff052d0c8a",
      "1d711a4ef0234984871b5f24634ca2a4",
      "ee5a94e7c35d47358d992e1c16440456",
      "48a2ff03bcaf4f3c9e92ad38bb2b9283",
      "0122ef7f7e0c4cb09d17568352d0fc34",
      "f6ed86d179294aca94c6644647322130",
      "66a547c7edab4fe48a9e66f318b0b19a",
      "983b43c502b541eab14f01c6a2219510",
      "23b07d35f68e45f0820f9d96042937a9",
      "a47584cc910343a3aa2266b8b584bea6",
      "2d9e2500238a45c285093e6f2469d090",
      "d8078879e8674dcaacb99d77057b6de9",
      "6dbd01d7275b4ce58e2100ff126108c9",
      "47820e5440f14de38e1c7ba1f02273a7",
      "5104aa401974416db482e9b3452c3d56",
      "9c83ba30a9f44f5381a548fc13077d51",
      "4a7a4d8b987747ecb015aa18a633a47f",
      "3bd85125e6044834b17943fdf453ea7f",
      "e6640e15bada417f9895e77d6eb66dfe",
      "e3c4781ff47248419c7641f140fc82f4",
      "b99143b43d9348e6b15e0ad822a8ab1f",
      "572c4febb7264d4995c28055c5e0773d",
      "ae5870d6cfc841359127cacc3f25b8d2",
      "fafd0d9d82a940008b48735b2353ff72",
      "1b2cd82e16304bb5aced6ce8e3f02893",
      "16cd309488b44e4ab83bebbdc307eedb",
      "5642dd3e585349038a245a4b23d65fca",
      "b9ac91a749614fb8988a0113b99bab4c",
      "7c45456339734ce69b17fc4a34b50018",
      "4600c27804d143cdb7e70652660b8b1f",
      "299c52b52dfd4cf2966eab86ad776425",
      "2fb934ea601f4b3da0be6fe9c9576901",
      "6f86c292f6324859848ca90435063b37",
      "f0c469e993b7491692fbfe74ad63f4c0",
      "8e69531fd47040bead714c67bc58e1c3",
      "cdb65ecaeb3241399a151e4871b0d9df",
      "21db04c3c67345d2aff9e762b5133be2",
      "534dfe90b8684ed195c3d189bd33edb8",
      "7c1bf14baa2d4e658d7d8621830a957e",
      "b9a251720c064a12bfd08fa69c68b424",
      "f37d4b2cd017460eae5bdcd0b6be6d18",
      "f93f1700994f46f09276d095d751541a",
      "4d092ce031864628aee697901587fc0c",
      "3120baaeae8a4d6d822e113817686431",
      "f1051b4a76b749df87f331b64d1df8e8",
      "41dbfc4457064c30b25a9dea78c9bf16",
      "565a69552ec04e1fa77efd06344be232",
      "2147391cdf8a40fd87e84f1dd43fe208",
      "87355846d2b5443187e428e8d8a3ae6d",
      "55bb2fcb18994278aca1c291fa440567",
      "f30ec3ee09834f27897832702a4ecc96",
      "86bd01c249df4b3f9c892200f2739ba2",
      "064f7c7097794991be8780d28360e557",
      "cf5d7be03f054012b75d028e5492a93a",
      "831212356a2644e3876984a71bff46a5",
      "8cc28c5ddbae4f5fbd550056d82158d6",
      "5aafa6d6e49f43cfab9df7c45c7b10ce",
      "4257da05fa3847e79f5e4438e04bba5a",
      "ad1e4cc208f44ac68ce165ad601a034f",
      "5b9d387e7f7743598a99fbaad2d429d8",
      "360db0a4640947f495c29ec969102b10",
      "d327676797fa4a72a3ddda1191314477",
      "58aee5f83aa7474799708848078e9a6f",
      "1b1c9983c64e4c67b233328bb2a438c4",
      "cb83c52fecb24a8e8a10b0c06e69fde6",
      "bfe6d9bf64f74c5db4ca897fd5ba6dfe",
      "5f79c8fdd3bb4701853cb53f5487db88",
      "981316dd644c4cee89115d373b3dff45",
      "9b0429ea250e4d7b8a3e25e929f1670b",
      "d143cbaf0b2b434fbfb873aa66e0d502",
      "49d92a0531ab4b38825131e9542d0fdf",
      "cbd37793e65e4d2584d238ba30a59c1b",
      "03f84019cdfd455e993cabe58d36399e",
      "9b0c72cbc97a4c30892011538e30283c",
      "4eded735d49841069f9f75d4cf97d350",
      "cdacf387f98142248241a4d0765057d5",
      "792ed7747253482699c577fbccb5e59d",
      "a68d3c4b71314533992b14f9a309dafe",
      "968f68ad168f4d479cf5633397f91758",
      "5dad4541ab054056a1a644ab5d97221e",
      "f5690983d3c14fae832aee00df3512ca",
      "a40248f07549431194255928bf106313",
      "88d27e14ffc8404f9a2b158c094dbfde",
      "9626310c03f6458aa25516858c192596",
      "60f2e17596e94cc889467ffd8bacb884",
      "1e766e037eb54b9ead5cecfaf871887e",
      "cfb10cc27b2a4d7890c12904744c4f9f",
      "8360cb9d62a949afba593ea71b41c8ce",
      "bd9dd4acde504ed18dbfc451a51ea0c3",
      "fc2a60728ed54fed9ee0811ce8fd267f",
      "500af7beb98a4e4f8a69f2f596716374",
      "c7d65d9657134a28a5ef1ad404de5ff5",
      "f90ac87056b04dd196343a6ecb03baff",
      "3831cfd7eda24bfda328978189968514",
      "45c51a61efee47e4a448d9aaa9806a67",
      "4354daa3915445519bc84c4a55a916f5",
      "3ece2882cc5045c284508e15f2f9ed8d",
      "7478497edbfd4c96a43a8ffd64493617",
      "1a416aa44d91453b9b6f245c1b497ab4",
      "5a93d348f77042f18143e52b501557a3",
      "6a05585a704f43798388c10b072386d5",
      "403b23dd94d54da183d6f93a65ed4056",
      "3a97f605d09649769c5a65df9f7f4f68",
      "8b4a7056c71c4bada961ac4557b608b2",
      "8af938de771d4309bbd30e8ec1c18e36",
      "d8bce9b54dd5441c9a15b87cbe632042",
      "e2d28973dbf447ebb668009c80984bab",
      "ca1210dc4ac4476c8856f5268ec4469c",
      "02255cbc49c148059bf650a445d528a6",
      "83a06c69a54d4ea3a4142394405266be",
      "500f133dfa374eeda7bd7b860c53eb6d",
      "d8ae304759e04da491027b5c2f5578b8",
      "4bd747f52ff0448da027ddc54de5b904",
      "89a52df82edb4b1b8780e6eb6e695072",
      "98d515d3b25d4f26b21fc103b0adb087",
      "c3268d005eb64f1e955ee0bda1d930f3",
      "a7586793ea35407f9aed77a2277b8f92",
      "88f79165261942a49b3891d63045b077",
      "193aabc4c8ed4e19a64120298b311f73",
      "e172ff3ea2804a929df10e28ea22111c",
      "1eb9d25c07894dc98501e9057c7d27d3",
      "42bf580b318948b9aa7bd962a2bc323e",
      "ff631e5a9dae4cfda2ea413bad83bee0",
      "e45cc8a380cd46d9812d4acb4d6e6f58",
      "fbec10b2adcc4fb58b5328f0c8de48ab",
      "b9dd83bd906d46d6b2cb5adfb10dc9b7",
      "20a90de1ecaf4036a3b762654e3020d2",
      "12c1f125843947dfaff16d1b203c4a8c",
      "6439dde0c46e4bcebb213cc6c3f2fbb2",
      "a2126ad7fbce438a95b686069012049c",
      "e95c4772cb6a42a2a4b5ec32a9f65394",
      "96f3d3449d1a482e9608a62219b771cf",
      "d948d1af39cd4a5e9a4817c8a82f7fda",
      "039cdf8c8a7242968531e8ef67233343",
      "304100b7a4c245488128ccd906fb5c7b",
      "9ed8bfb6e53c45c686f44b5ef0d83a8d",
      "aee3521161a947c1b05fcab036f947ac",
      "d39f414f4b6b42bcb135df0b1f6a3dcc",
      "485f22cd63f040febdc8908a6b82add2",
      "fb4e2e6493a54bd199612a79d370a9ed",
      "96f1f842789045b5aac80235dd3b7de8",
      "49fdd9e4589547e1b4e8ae4cd6fbfb45",
      "f27d825f7a0b444e9980a3706307ffb6",
      "35f99cef1ca843d5994c72600e4f6cd2",
      "c9012946a8c8486eab8781b79fbc27c2",
      "f1621a5fc84141f5bbd55ea0b7867e4b",
      "997b44ba02944bf191d7e6fce1f1f1b7",
      "e540a10cb1d740d287a8bed492853c04",
      "ef51558848ed4f368898a1822b66c8f6",
      "09948dc66ced4a3bb12f4a20b70843c7",
      "c7df47e3ddcd41cc8bb992ad0bf0e9da",
      "8526770f27204ddf9e9c9948bf554e21",
      "45e02a7760334ce48e4239660c6e96a1",
      "7b01c09bae3b448ca72cc6bcc5f02c68",
      "65e3802745aa48f7b89973d75bb70326",
      "fb073fe254d8467488813603c92b46cc",
      "67b29ac840914724868a547424ed9389",
      "47c3141be8a84376b41745637a80d07c",
      "3d04f9ee89bc4de582a4d9798bf840b4",
      "eab334df997f4fe98fa245650a5f9b77",
      "31002b7215644bb4af0ed344a24b8fca",
      "a648b7c84c5c4b5eb3c12f3337b385ba",
      "9cf3a3fca93f4f7dbabae70a7d5483fd",
      "489f0d337ffe437c807a4f6147ca2a5b",
      "6447b0972b5c452da5a80e8a79a312bd",
      "4c72eb66d8b346ef9121daccf0437b82",
      "c8f4130ffb14441694e158c88068334c",
      "4244f638b5624a0ea52a46ffbc139c04",
      "44ae8ec49f8a448ebbdbbc8cafd8d561",
      "a6ded0c215c1484f8058cd427aea8f3d",
      "5270cb2ec8ca4b0088972d7dbebf70d7",
      "f7c3a1db4a884b28939d92e119fb8191",
      "a76bd4636a814b188fda207d94888c1f",
      "6c54169db3e34d3a9dab70c2ffa11ee3",
      "865fd0a2e3ae45e08098953809576532",
      "968328c659134c84a18899bfa8a6872b",
      "79a71df246c2452aa2007407c8658022",
      "f5962ebf3cc0456db504b0c365987368",
      "7778c00991d04e279a246c3ef97be475",
      "d96257dbdfd9446db5044805752349c6",
      "7f1603841e1749d7973a40762b0bcde9",
      "be859fa4ab57439b97d9b807cef3461b",
      "0a410fce394d46f9b079b265889e9dc8",
      "8f012cd9bf5748bbbcda8ddfd7df487c",
      "9f04d9e27eac4c27981a6b6fa8e0a47d",
      "25381a02dc634dfca472a9e41a48d3de",
      "4fc50631436c4dc1a09743b346970ff6",
      "63dacaf9952748ac88a4a4b011f832a4",
      "12ac6bdbe24e41629d25fe0db71b8cf9",
      "b4116898aa1546cb967fe41db62d0865",
      "1c2057a10056403ead65ca0a48288fe0",
      "9bcef965efbe4f408ae86994331f8a23",
      "169ba8ce80854bbc84d662b4503ec70b",
      "83aa34f5fca74a3c89c82a1c4d3ace65",
      "71707f18de434fc39c537973046f1e22",
      "c66de1a5a4f046e88b416ce7063404ec",
      "f71422f359ea498fa5ca9fb15843a4b7",
      "f9247bace8fc4620baf8720c67e00ad3",
      "dfbc43d5eb1043f0868e47fa7c7080bd",
      "7a81bb21bed34c5884d33a1a55a461f0",
      "4f4237b491d6413cb65d65283f954553",
      "0027800851a94655b33db591ecbfdb32",
      "38a6044393b84bfb98271213095aa8fd",
      "df9939a5fe7944a4b516e9bab311c395",
      "e626e2257f4f4aa09a8f2da5aaee9665",
      "04a63a6017f24c648aab51ee254915fd",
      "070be5f9477a422ebf1259ae9d8a065e",
      "aa0304ac390e45929ec1e6064c67d9fe",
      "7793f5a8b9e941c5a3f0d70ed3810134",
      "ddb626ff7b5b48c8b87becc90c0c752f",
      "933dc4d8d293458c8db4b6408557329f",
      "749d2d734ca84d6880dc5e87e624e9ac",
      "d98a0c3457dd405a9424ac5735600b77",
      "3794a009aa164d028e16ed71119af913",
      "1643d56bc0e84bceb61a378433d8d75b",
      "77f40706fd6244be9ea7f34b419feaff",
      "1c52dea148334c55825ce04e25ce4ead",
      "07c29c83037c442b805e9c9e35464f23",
      "0f71f2800f5e43b89072f32129a7ead4",
      "e430727d71274cc3adffc6b71abd0fff",
      "8b7bd5d6c92b490d89535d1722cc5637",
      "6d846f86964f43c9b2d8b452574d4203",
      "e8007be16f6f47fbbdf5638dc5b8bfea",
      "635f80223c2c47caad1d44849dcc464b",
      "23c4f53d469d4ab085beaa49c5116d54",
      "0c29078c5531479f987c2a124d1bb34b",
      "24b285e8d8c846d2836e2479291c729a",
      "b286b5305dbf473cb4435fa1861656b0",
      "860fb293e9cb442d91110e4c972d97d1",
      "75f8f07ec5d14cbea47918e39ad5d7a6",
      "2b30b3a4e4a84fc69eb92590d236dabb",
      "d8e8815845d347b1ae13ee707caad9ed",
      "ccd81a4562f4498282fc7cdb370f64eb",
      "cc94a4a378c54a17be715d68e6f8ce35",
      "951b62d06c9c455da2531ca38e72264f",
      "b43afe7d2ef74dab88471964d037a9c1",
      "ce6fbc847ff4462c97d06216677ce7f1",
      "c62ee2aa79e443c68b9b036e53432409",
      "bcd2ab6a5287483ba53c467454bbc6dc",
      "a0ab700227a2463a8cb79a0b25b0f639",
      "a36271e4847c45fa9ea6245e94b5d1d7",
      "6a3a2229acd148f9badd08f6bb3cb58a",
      "93437aa0b4564b5088b0eb8e41d01508",
      "706a2bdc25824320a467af7b7565ef73",
      "427598d9b4bf422ba422c1755c69925c",
      "06afab5d1ef34d859f33f3897343569a",
      "0a5f5dc26c87438d8a3a1070ffa4828f",
      "86b24612ca684e9fb80d187f1fed8ed0",
      "c1646c4663c8405190e1d062abcfb414",
      "a50f3cd1fc1c4a1daeda6fc289fe6ba6",
      "ce9f28ffb1b44463afa9cf1314755974",
      "0240ba166bb340abb21c32a34aea13dd",
      "43c7acdb18e049018639f4ad736a69b3",
      "8933700d71704f8a8cf46a8cf20f05eb",
      "925d33dd30004b2798c717572b35a7a5",
      "dad3ab5edf024aac9d50c1ec2600fc04",
      "ca6fa3c3e06743c490e55c7d261a6205",
      "e0075ff769054b3a991495f33d29d7f7",
      "129b18d03aae47c4a3a7351307b8b1f0",
      "76574a4ed3b745d581b38ad5c1d75b28",
      "2906c79a7e2c4fe8850aefd494098e7a",
      "35f06271ed0c4ce39d13cf4dd8fb931e",
      "e3751aaadac24e3f92ca76950ef7bbb5",
      "76e1bd3282f74c2da4554088607b3e06",
      "832598e9a0774f6cbbe038b3434d971b",
      "c8746eccee6442d99832926e94f94979",
      "427ae4a89e984e5283936a95c9ce7a6a",
      "e0445f8532ed40b49cfa0d9bb6efd906",
      "2f4ee90b82fa4e3a837b55d5d1763ccd",
      "46b42cb17e644166b8aab57316425959",
      "ca0893cf2933406aa632f62371e59e61",
      "ded57b0d368c4600ad75300499984ced",
      "fb6de86024fa4efcb34dd07d64bc194a",
      "bc94d9177a0149598a24fa2241326aa0",
      "f3ceb139f80f49849c20328752865ec6",
      "3417468bdd264a50b15130f8a52043b1",
      "2e939023d4ec47e7b165dccc1ec6d0bf",
      "5aab4bd002c94f43a6e56cfbec4c9390",
      "074bb97cdfca4fb698199c3c8686859a",
      "8485254c0d3348fca604643b29a26be9",
      "59ff5dcc7bd347f094909ebe1077e9aa",
      "23d3f8081445432a838fc12576e915c4",
      "ce6bcdec6eaa429c91c5a7e49fba8852",
      "19bb43a7092f4a3a878b04dda21f853c",
      "ea5f1dd135be42828fb2dcfda448bed3",
      "7cb90745891b48c4b47bbe92642d3e86",
      "25f798dfc1934810b4442db8e72f2c09",
      "2af912466c2b4759a0659b0422513289",
      "01eadb270f8145bb9104c6b5e8bda603",
      "608268c097a641808cd368a2b03091a5",
      "42b1f7480a1548c8a607a30c23336a2f",
      "13816387eea54335a98948fda6cc81c7",
      "64ebe54cb7e641a1af1819ab441c306d",
      "d61f4077995b4665b172382600244326",
      "b8d4ae9ad60e4f1cabb4d67c19f03205",
      "80d0325c367d4a99ae253bdc4aef4653",
      "88f102c92abc437f815777ac521e0251",
      "270f5fa8ba374723835b63feeac71f82",
      "f2400b632da242768f4208f828aa1fa3",
      "97f3f088f0e2459cb12960f77b98a4ec",
      "4b70021b1e25476f836494e819f299c1",
      "c4678e1abd164c2fa0dd98be8574229d",
      "6c253e3d606d4b14b743a5708282318d",
      "b5a018c06ff64c8696b11edf50bc0128",
      "080585372b4f413e8d34a2490672b263",
      "dfa6f9b941f24c85b9f0e503c336fe50",
      "c5acb3089320475e90022b43038e5c3b",
      "300ced02e21f48a895e052af18b1b0df",
      "84f9da27e7f94e819b3e7ca3cb940bf9",
      "d3f1f81fe8ea4918b0eff5535a03c241",
      "7c99044e99854e6a93d883ca0820224c",
      "d01674815366470bb3a203e2dd382d10",
      "4cffd15cbf18447daf7539e94e499207",
      "2b14d471407c4171b81b7fa92117b0d5",
      "85b8a9de0f53460997190904be9c4c94",
      "c1985428a8f24e5aa461b751ec58bbc4",
      "e730f76e89ac434f96f921fbd026f569",
      "54b0199c00dc4e7fbb2e779a5f3029ea",
      "e68b510514dc477e8bc6fc60ba1445de",
      "577f112f820d4ec2abe15bc7d953a336",
      "a8eaa30534f047559f6a33803fa01b74",
      "12e0a1005c0b4ba0bf9a01f99317f8de",
      "587927fd8c92487e962d9623a6dc70f1",
      "8996a558e77646a0abba6b864e035b1d",
      "051b6af7b86b4d90a3696dd6c0535c49",
      "91c649f83ee04c0ea61447c7cffb91a6",
      "d9342a23bcb24781a3d75d7da72b3e5b",
      "ebfb804fdad84c2fb7a738f7203dbdc9",
      "a7475237092d4cdcb57249cdb1774bcf",
      "b34ed04bdc4e471d80fc031d37296b2d",
      "5495435e5c9c40939276cecbced8268a",
      "5f3b3d376f8d434899f30bec665db86b",
      "8cab9de22d514318810a712502255cf9",
      "52b015e85e584b89890c74ee567fd9f5",
      "19cdddefbe8642e79952a11e85d278d7",
      "d9009a20d9c44f8cb5e537bd10c91794",
      "66523ac10e554d52abce3e00044abd12",
      "61f7c90e314d4f2cb9665bf54b08ff27",
      "514966b77e664cfd818d4e099c243e01",
      "6cbaff15a6e441d9bb2877c77cd2b1a6",
      "722e32536b124f7796735d4bffd3520a",
      "f9033ac90750427cbe3c71463a2e331f",
      "7f2b88d1442b49a98fc402fba8e3f11f",
      "275ecbb37a484e2eacc165d43fe36650",
      "051d858889664b87a9d95fa9e177ce6e",
      "b9482baaa28c4e49b5e15d08d9dc2748",
      "61ca7db1776647cd9e12b196b65a11b8",
      "e60f168e6d694d1da7f6efc1961b82be",
      "18d360fde8b84326a6cea68e40edc0b6",
      "4a67dfafef374068bfd35696579cde67",
      "29e79fce56124d4594c1df54f4ef22d6",
      "98ab76f39f6449778ebf85c45298d4cc",
      "982bcd28b6c44b0cb81fa902b3614e70",
      "7a832437d0bf4732b03b02cf7e0b5281",
      "aa8a5fc40fa2468da0c4139c6dcace96",
      "f6afc5774705497187bec2323f574fd4",
      "4fa80db5fe8d49849b3977e73b83be17",
      "052557cd8a3947e8b0c841a8998e3440",
      "77d669adb50345c29ab8cedb34a4c116",
      "d7dd298bd5d84d8a895c5b0257d30faa",
      "8a0d4fd71a90468ea5780b7bb0e48da5",
      "848fb29468154737a720eec230414d96",
      "bec070ff234141e5ba8ad02e2b84a6d6",
      "c112c56e0207471bb8a766f111c55579",
      "48b80f171db9467daf25e23bbf75e34c",
      "2248a3556cf24409a2e88d7eaa6f1b1b",
      "e190a6aed45f4444a5faab2aba47244c",
      "70b2ee06573f4247ba25ee377d265783",
      "4da65051939445faa3005a2a39dc7362",
      "628348d587be461493f2a69868df80e9",
      "5926938d40ae451bb3a2ee97a29a0ca5",
      "c13f46eeffbc4983b28156b5c6fcbf8d",
      "9153e43c4ba244dfa933d211a370fc9d",
      "6299d170eab0470f817023c0c2ba8b3f",
      "110dd40672924c14b573db145dfc23e0",
      "53c44bcf288b4915b9f5282aa5ff3394",
      "53131e315a5a49a0bc33af39379d2786",
      "8dd1feeac18643a3b8763bb64b263dfe",
      "56482c7037574f8fa75e558283d7af6a",
      "f1d8c1d7895d4bd28e52a3955da17d28",
      "ac3ad79163c746fe854d4f4ea29a5227",
      "cf33dd29e6004da7ae826e44398f214d",
      "ff743dd06ba24b87a9e003ed53cf9aa0",
      "05e744ac9ec44bed8dd1dc228f598966",
      "e9f503756a9f4fd9b8a158e18dcb3c02",
      "29647600e8a246ccac2f46a4ed26fbfa",
      "7fde553bfde04ea69d1e3eedcb4f19bc",
      "0fe9ae3cc581479ab4ff5d656cd6379c",
      "aa05614a26f5448d8e79af5688830ed8",
      "345f220a19f64be08a73e7802715d58d",
      "26902c43326b4a1784d59e1f2f447d62",
      "a2710e2defde45209eff6a169e23ffae",
      "2edb381100bb40c29b224f0d85080d6a",
      "7e1857a7f2c74316ae6ff62a1c7109d6",
      "58a4854ce1fb4b789de1883a396777c1",
      "66974868215b4283afdca8637318ce05",
      "5ac2ec365ef14d4bae6a7254c54c20b1",
      "9285312bb8d74b84a6a10662dfa334c8",
      "1da997f10f39463c82aac652194e91f3",
      "8a82c79b4ebd46d18bed0310780e5bcc",
      "cb0a998d96d34b2f83b77c4e6a3a70b6",
      "7d8a83cb89134176bdd387749339213b",
      "afc1edb5823a48168c094315dcb64dd5",
      "cf1d110672684f9c9c2ecbb077677032",
      "238f294d5d864c15b7b367a170206f4d",
      "ec551d2f286e44f09e49cc59e0c502d3",
      "89b620fe6319425bb671368d50186818",
      "e1c37309063749988847d882430ba71a",
      "8f6b78aec30b47e784dddb7983bf5c88",
      "579382ccb86a4cbd9c98ba1eab6e5eb4",
      "3c1a9f40a2ed4c7f810f6bb222420e68",
      "5d04d7f6bcd241be83628b8eed996904",
      "8f27074c5da14ccaa5351b23f32b252e",
      "8dce533c1565497080dc47bb8e4540fc",
      "ad2d2d7a40ca4f1d80c8cd32550fe057",
      "cea3451143e14e2db89c723ab813a58d",
      "03fc84c6a0cc4badbbc5e659bc81d48f",
      "6566cb76bc6e4e3f9309d278673a4655",
      "7316115098b541129bb64d6e5a000d79",
      "df5bd276cead499b94c7fbdd42039485",
      "dd01cd559216499aab5aa63421d5fc6b",
      "00048dd3819f4413a31ec922f49d69df",
      "7bcf3d0a6d204be6a76158a06a0361db",
      "0c038a0c8cdc49d9b89e842ea07c7745",
      "96ceb5766c9344709fdbfe60e556f7c7",
      "92ebe0a5bbd44281a16a986e45109277",
      "18d7ea07e9e945878f8c42ca4582f630",
      "00d97cafebc34426a9f4151d834f5bca",
      "840f57381d3647a9a358ad0bfe739bf9",
      "5ee4ef9c378e4eaf8bcaabb574e30443",
      "7c3d1ff2916b45c0823b05e168d703bd",
      "268cf9187da64bdeb9f9ed448d72f118",
      "6fe55b74531f4bdab1e170d7682dafce",
      "f6caf30d9fb9422383aa291945de4d3d",
      "6e844d541b87418d958f55614e194d94",
      "75d5f06118324e41a901d338fceda442",
      "2eeb92b995824bcab536daf382d7e9a0",
      "a0589e9ed07241a9a4d299970a569526",
      "c0e05597157c45678c4efc71462872e5",
      "2099654583584e66aedbf33ff397db69",
      "d7d42191ac7c4490a0513456b667ebcc",
      "b3ef8adb236347a1a77db9bdef1e88ed",
      "bbf1f59cfb6b4122b3cf5ca3a743fbf2",
      "7f18b2e407b348f1a1d584e915f7889e",
      "aadbbaafbbb54c56b588adb514ab6f30",
      "348c1887552c46aeb016d39aec3a1e44",
      "e08cfe11932a4a5880168fdb10c58c7a",
      "7785efb83d7f46d0845e0e4eebb48864",
      "22d1595a4d75448db55786a7577aac37",
      "4a8642fcbd3945bf856c2a3b10b484d8",
      "a0bccc6e68e34c5fa854b516fa6bd284",
      "e15731f42e99466e9d1aa2a62525ca08",
      "7f899e1285df491bb32e6af94f62939c",
      "2c5da5fd238945288708be40f1064f46",
      "12941f3ef00142aab337ce4cd4f3732a",
      "6105d7535f7c4f0f94ed1342c999e7a9",
      "c3a98aaec34a4d368383e494054b98a8",
      "44e87803080e47488df9ef87d5519879",
      "3c975be2cf154c3b81ecc5c8e63f3a89",
      "c714cf6e4d884a1890bf58959885e0be",
      "bf75e160dc564f81b5a2ffe6c90220fc",
      "b4f7202da3ac44dc8f154e026758c8e6",
      "799902a053b948a780e61c4576bbe50e",
      "eee9102249cd4c8f8d576fb99b7614ed",
      "11eb4f8521bf4d8699ce4a297867a7e9",
      "230c9c09758646e9b45f4ec512aec07a",
      "92c8411a67c0432295cc2f249b927988",
      "3823781a88bb4ec194f982205080c4ea",
      "3104e8d92cdb429088a4bcd602a11f51",
      "e99e064f6eba4b4f9f17222ae92938f4",
      "099860171cb8447d9a5817b13bbaf0eb",
      "e5c1bc49292e4a00bc9c0523fd4756ae",
      "4a5352b405b7457f9b6ca97eac30068b",
      "a4c9f9c5f31243c7b2a7f6e88c61b1ae",
      "1ecb97a71bc44e0bae7a8bed68e8f4ac",
      "f71be3e946cf4dae86ec4c7bf691a070",
      "60cf9042b554482dad66258ec9c5835c",
      "6d11f0c55bef4fac9640a811b112c071",
      "a62096dc9ce14718bb091e4d27087891",
      "0b244cb60cc94a90823ec0c297babc4d",
      "bdae151fc486443e9236afab3fb44e94",
      "a3b4e8e0662a4ad8b938efae2abbcaf7",
      "0f7fd0ccad614db8b33fdd70d05c7763",
      "09248dcdaf0044139b2ecf6005a8b424",
      "e487f54662214875b8360589db8f516c",
      "26fc6321b0664761a1f44671d934bfbc",
      "9002dd040ace4069b28f0ad56bd74fd3",
      "861d20f5b45340268e7882c33d1c4af7",
      "93935f020faf4d598ca3a2b554c9e51e",
      "fc9383b056454df69567f2e04f884508",
      "a0553d8736274a17b318711e4d963eac",
      "4f9ff64b85174942a306014f80e80fd9",
      "904483b884874462ac568682219e47d3",
      "76c3d88247864911bdbd4238b805945a",
      "32133e71556148bd978d6e3d602770b2",
      "631886e6d6884a10bb5416c9e7cdfebc",
      "adb4c047691b490da2e22ae49d7fc587",
      "8b7b0ac5a8754add8d19906f5b32e1a0",
      "3fc752cc3f334c43b170c9bd16ebcdf1",
      "e98fd73833af4e25962ecf7992f1f212",
      "8892b270483545d49da3562a28bb5e95",
      "c4145803f82e467db54cb4f166504acc",
      "9e44587610964d218daa7590483c5149",
      "5b13932289e141cb8263fa8233f5d341",
      "f411deac92f54b05add437f1559b53d8",
      "07b599f3b976471bb0f37102013a142a",
      "7f05320899644c029b5a2b6ebf9724c5",
      "cb67902b87344dd494c19c8c72c98265",
      "70864ff8466b4900b14d60dfde0c075d",
      "72658078699d482d9687161f6f6ddc09",
      "9aa8f8443373478e863008c660e9b157",
      "957f830b5c4741c5b77281788372b055",
      "1035ea7c7d92466da7cb25753d5b4c95",
      "1301e7e3b7d34cae9c7ae9d9a6e4ca81",
      "312d6f822773499c823123f0bdbeed91",
      "7e688b322d374604b23900ca0783fa37",
      "f23d4c846c354be689ceea7ddadabd39",
      "c9b97238fda9422cab87bd0c5298b3e7",
      "b64dd9c3faa645f88c5a53e8b5efb772",
      "ffde822c1260495cb4e4dce164d36327",
      "2d5f784f0a574bc583d56877a9ce7787",
      "ca17d9701b864ce9bd001977683725b1",
      "69dc340db6654ae29f2e4ed0a5abddbd",
      "9c7dea7da4ea418ca880778a77c2a0ab",
      "b5f3d17debc948e7877cd48e9ecf25a5",
      "bfff66ea9b3f4dada9a1eb1a4568509e",
      "bd120ddf10874b86a5bb882b471404f6",
      "9c8b1aed94404e44a25a0e0d3a61324b",
      "68534d06056145afbd8ad89433a3fd38",
      "e292f842c7164b6e98c79761fa03e5a3",
      "0aba38bd616f4cbfa0a072bfddbe617e",
      "ca8fd753a82d48c29aa4936ecb777aec",
      "a789ef29662a422d87c8052f2b616a0e",
      "48caa28935e941fb9a33abcead41e03a",
      "515b31e274004bf7b85bb7974c92731f",
      "aa949a4496234c558f518e92006f9d64",
      "aa5150239789430aaa7868dc76eff55f",
      "e81f0698903d416e8aef52639dbec451",
      "92bbe205072a42778a2c092c947e1041",
      "890e94c375914eaf99fabd021b2db34c",
      "fd548009fbed4f79823e8646773cacf4",
      "c6ba083609654ce7bc7d41704e5de94e",
      "138641cff1d240fda5c1e081c8bccb07",
      "3725f52e89ff4c379644ad0a01901265",
      "c4abf3b70f3c4c6bbb741d929a55d82a",
      "d3f32cc444bc444d870b8e5558e84dc6",
      "0f1cc3c8584f45dfb3908dd60704d680",
      "1e9b33e0340e448ea9f998fc6559065a",
      "47e7486930c042aaa9098ae71da7cbbc",
      "44a0f184a3824321bc61346907ab3ce8",
      "c7d91723596342e8bc2be562e17b9d7f",
      "92783dde88384450960014ad530e9bfa",
      "b3dd8e69cfb04672bc05879e72b2cede",
      "bfbf614a72d44da494c5bb5f325b89a0",
      "23cbc02948db4d1fae918e0d25cd4fb7",
      "dbb20d63da884d13a820b482e1b618fe",
      "379f345e78bb4e17a1d2f36bb66acb6c",
      "5231388664804cdfa5e0584cf0526680",
      "ccb5972122a34a1b985f620e726a3af6",
      "b7def847199b4bdea6e0228d3ca9d3cd",
      "0d1ad72b7cf44d6392848dff20efe9c5",
      "eaa09995e8de4f05b85755ce68a267aa",
      "29c348611fce49dcb9ffecfeec2d189b",
      "187447d8e9034999826b2e9d458b4ca4",
      "ca139245720e4169b0aebb0df47fed6a",
      "f93f1ced02df47c09e36a4affcc4706f",
      "1ac66f13ea6e44a092ea5b3013f54ec0",
      "9727f376466f4b54b7b663f61e5e87e5",
      "6cfcc09fd91142cc8a8fdfb9a9300b95",
      "5d988c512b6e49e0b756151a62b89400",
      "942af43c0c3b48d6af56c5c4be097088",
      "91ee71b6cc50480889891ceffd3c56a8",
      "0ca8ef78d5944fa1ba5cd29844ca88b3",
      "5b1641a05d3c4cb0b514a30b6141f0f5",
      "a4a66ac642574db88a61e453a31360b1",
      "5d790b4acc9a4b57b6afca7c2d0910c8",
      "805f451f93434e169960f9fd209f140c",
      "e930cb1a0c184fcc8335ef51943c9e26",
      "367345728d2a4c2ba978b824d50397c2",
      "919363f354b842bdb87d0aeefc01a94f",
      "21d9ea23715c471bb7bd1450dee88372",
      "7933cdc99e1641acb3b100a881fe0e63",
      "348aaed3f6914bf293fc1cd4d11b64cf",
      "2c335f82db41455f930545cc3c6a23f7",
      "c802c4b407014c1991e9e17ed364ab93",
      "f713a06fd36c4f3e9cd42abec3639403",
      "b68290006d5a4c589b363193042eb4a9",
      "7e228a3c08fc48d2bd338c33d5335b4d",
      "83c9abf9574f4d7083a22e7c6e5ed043",
      "1ab3af9470da4014b9064111640d2e16",
      "d7b472eb6fc84ae198f47c875f323cff",
      "fd47c0c3af4f469fa23b0df272481392",
      "6bfd9e4eff514d71bc3158c5197678a8",
      "5340c952ed9b4228a2648c33fcfa1fe2",
      "5237d44b319f4954a3c0d2a56d57185f",
      "c79c8bdf9244459599e4ffe3ecfe13de",
      "75bcd355f0bb49dbbd055568a655bbfd",
      "7aaac92b6d09482cb4dde46ac8f0f1bb",
      "e0e2deb8c75a4651b9fa2a32495f4f8d",
      "08e756973bc647cb9e2c71da5e1bbce5",
      "e22df93330de49b49f223ee896eb13c7",
      "814aaf8ba3a34d5d897748b1413b434c",
      "0097336566bc4703a791510dfccdcdc1",
      "9b1bc8762b524c3eb8d98221db6d3879",
      "904b4b7c1d51407f9861d6e7f8f54909",
      "1cc427019b8d401a8e6cd7472c5be47e",
      "e473cff2868545a8af839bc27ca57689",
      "6625ee7e69674ed796725c710e79c669",
      "6f2e822ec64247289e583852aaeded8b",
      "1308b6dbd389454eb881da7541ea4adb",
      "0dd29f2e2a49459789665af9623ab7ca",
      "1b29ac202fc84ad997080a1322047780",
      "d21b0c50df364f07b3f5ac6fb55ebfcc",
      "22217f21e776427b84defffbd057ed3a",
      "fef6d32ac2374d7db2cd2e7a0f1c07fd",
      "ff42383614184fc086672699dfb197cd",
      "b7889056c10045e2b87fa50d52abb911",
      "fe5faf20867c484189ce032e6386ba81",
      "c39209c6d2f446af878bbeb80d8d12d5",
      "8f7d3fe92ce14002a844f0fb1114816e",
      "c54a0f841f8c4faaa9854d60c066c435",
      "a7eaedccde5e4380967218e81ccf9fc5",
      "1caf7ad52b3c445f821a25d7d65b5f5a",
      "c00434902ea4413789b0d68a2a0f95db",
      "dc846ff7809b4ab3ac6d9519ff02451c",
      "348ed775e96a4975baea62de1fb6014c",
      "4d30e37a78cd480081d7c43a073ad2fe",
      "3bd5f307b73d4609808276afb17dd2f6",
      "11778e800e35435cb68e81bbd75af22f",
      "b760327cccd54ce2a3a11eb05a147fe0",
      "45546578930d45a188fd50591bd4d845",
      "62b03e7bdf8a4e82bd5b28557165501c",
      "308b8f0723ab4f3e9a83400ca8a6cc97",
      "e269f8c244d644e59e97a0978b7f97a0",
      "547cc70a183d4e13b3bd4ce3dbfd1ff8",
      "2d2bed0a3fa04f0ea1f09225e4394722",
      "364635eeda394d82a79a61fc5ec24de5",
      "032ebd450f86411da8abac3e6c89e53f",
      "02b285e3be2e4f07bfd4ce2d82701e16",
      "12507ebf7c3e4c17882e964b6a872c4c",
      "bbe3311d20844cf7847317b931461d8b",
      "adcce9d1db6d42aeb1b7f14e3172f338",
      "7cd9b423358f4424b72a2e5ab73f3239",
      "3cf62bf9ce054770bb36519098b7c484",
      "52fcc1c7c75c4461846ba82fb5558f23",
      "2c9d1600cf6043b49fb6ecafbce64d77",
      "0b0ec9fd66064b3789b97503cf15be63",
      "c1d3fad4513749a0a88eee99ec14a2d7",
      "62af81566be5403881d0c474f90ee92e",
      "c67ce2a25c8e4f30be24bc8e79a3317f",
      "653e61a1ce36443ea307e5bff59c9b3d",
      "2c2464a9b51e4e2488ec36b0b5b7d479",
      "0be8fe0e21b44cf3a8a5f1ecabf7edcf",
      "bf158ada629f495cbe1a27168d5d6773",
      "f656cdc69cc34e7dab1681eebd043f2e",
      "1707c756a98544debbf16f0406d1bf02",
      "b63b3bdbf3df49d9b70da107f3283ac6",
      "6aa4ca45c0fb4d0da2eebf08fc06e3da",
      "5360621015b0418dbe1073dd63dfa6be",
      "92ead3d8627b490fa607e6de009cbe35",
      "7ab1cfc8aac649b18b48bfcbec7d3a1a",
      "5413e4238ec3436d8e66ecbf903bd409",
      "13b55c7f528c4929b983a800ca3ee9e8",
      "7f29c6e373fe49e3bb80f79a6ddc1bb7",
      "85b28b861282461bb5105876aa15991f",
      "269c446ea9544f198eb7237c25e5e058",
      "b43cf94da59348a8921bfc80e4895d2d",
      "edceb5b1f066412c9dc1c16002053e0b",
      "9799568eaa634b9b900044c00e60b96e",
      "7346f2ddaba84e9391af893a55c6e139",
      "d47751cdac0543ec8bea373e40f320fd",
      "73e3c6ce857147d69b6b693c3116afa3",
      "84ced38cc9be4b4eaa656c4e84b15338",
      "39d848e0c24349ecbcfcab22a491466e",
      "31b7674a2af14311b0506a9d9cbfc70a",
      "89cdd335b3da4dabbf8e9a1e87bd1497",
      "3529ef5a5be847f0a9b7da83b536d0b9",
      "3c684e1e338f4537983abeaafb278063",
      "8a2dac328dbe4c809ccdaeb0ee6c6b8a",
      "d233657d601744cb928fde5a3db1321f",
      "1b9b279e0eb64282afe8659f659011ff",
      "6131ff00af6e45c29100c802d3f116ee",
      "8d3fd756c0fc49e69d2cacc1d1f9ae66",
      "5e07c82d09ae48ad9019aab09ff7c51c",
      "2d47989353114a92a1c6e0ea777d22e0",
      "7458cd4413994c318f1e8f52030667f1",
      "64aad694b89e4c91ac68ba9a26d371d3",
      "56e4c0e887e64908a1a19518a9870b76",
      "0751e6523439405480359a0175f583ec",
      "bc267e09b25f406caa09f070034b3ab0",
      "3ad892458a0f4d2da9c24517bce86ad2",
      "387e4f72a60047faac9222edc966819b",
      "e4d30bc386114589bbb96722a4c4afd7",
      "e57e14ec76d748b8a9f8f1b5c0674e17",
      "788ed6ef588a47deace9e7a11add3047",
      "5db3c7d3f0db4ba09986d10440bb5122",
      "df902a2b1a6548fb9b0316ed1c96d2fe",
      "adc52b2e569f480595cca20b1b73e97e",
      "a32687a6bfcb4c93aa4afffac60bbc74",
      "87fd1b42cbfb49d38316f526f2630314",
      "5d802f87e4994c26aa51737730a1f472",
      "b18311dd3b774aa3bfe3ae189a847092",
      "6bde28c219094a9f99782dbd2abc3132",
      "a3eac83c784e44419c4693b4c1cb3730",
      "1683482103b5413e8bdf130bfff1411a",
      "faaf28408c9c419aa8a42d0a8290323f",
      "ce78c90b4c5b481c852b8fc6b94adbc2",
      "e8607add714b432884b2faa8daffcdbe",
      "ed481d7afec0451b98359ab99b3d0228",
      "29325c35c37046c1b7bb012d3d7a06a7",
      "406ea9b449d8458fbc0d7ba3a45864a2",
      "8b69a96b93dd46b499ceb23ca087a3d9",
      "e03c1c4a3c2d4cd0a251e00ec8c7ae00",
      "9436195ffac645d194ce14243c4a1d0c",
      "fbc57ce02cd84300a249a89f80757dda",
      "c30c8200d5cd4c7b9ea8619725a5c44c",
      "b2c5341bab88441391c45bf57af1071d",
      "4d5cac5ca91746b2a007e718ebb0f6ab",
      "9220cc34e6554250a3f7cc061685715e",
      "d5f3faf1fa114371916ae37e4cd2e5e4",
      "4005ba890c874801b79ec9914aa36f43",
      "273cd6fa4f7e42aea08c8a20b8a276e6",
      "329e1b6478c148c5b0db71fa4bd77ed2",
      "00522893bd2042e480498e0837080ee3",
      "a0fed8b25d8f4515b4053553393baf27",
      "9c13473d578f443f819d2b20a2001069",
      "b9e5e454ae71415696d9c658d4d8bfa7",
      "9024f7110f0347d1bb3e4799ec8ff8d2",
      "06be4c0210b44ee089681eaf8ba78d2f",
      "0b7d5c9418aa475089e3f40310704fde",
      "3d297374333a49cbb1fe3fe1cfe16db9",
      "95d6d861f81e47899e15b8ad6064a194",
      "bbe8ff0b070a4b8a9fada2c0e43e5480",
      "a35e80cae379442894bea7cbb6ad44cc",
      "c97f86b9a28342dd8d773ed01b95f400",
      "9cc2957e7d444ed1bd4f18ec97290f02",
      "0a7f3bacb3d64d3784575423c4eac27d",
      "c3ad26b206cf44e48374f2fe7c583381",
      "8acdddd1e86c4552b7493aa1fdc7691d",
      "2fe953a2cae3421795c4b8b4c55dd6d2",
      "580233e8957941388e6a162d8c82e964",
      "ca5b0e5db8884d43ae3b221032209e1c",
      "8897de4b1f0f4d6580885602c9f8ec11",
      "0e0fa4b6c7464944b416a4111c0a7489",
      "4ce3208b11c449d4bb09354d9119f56a",
      "04ba0a2dc56b4729a00ac782f3571a2a",
      "58316bb7dd9b46d49fd43d0e1beb9649",
      "a85627bca69e4a0f82db46cae1f6e18a",
      "f90ab1173313400599025065cf9a3ef3",
      "c5c3831c1e7f466bbb6c6a4131a97cc7",
      "68852e7c960348a5b82711d6b37a5944",
      "976e76e8977f4b5ab70e3bfdb74eab21",
      "63305b05c5334eceaa621db1a08baf98",
      "8b428bd68a23492abfd4e6ad775d8f7c",
      "36fcd3be72924024861035cb355525d4",
      "cb502fd9e1dc4a6f9eaa477bcc858eb6",
      "c8a2ddd7b4db4f38953161c856769b39",
      "5fdb9fbbfcbb483284ef1275f76b5da0",
      "9b9f1808bf5c47bbbe7660ece61df4e4",
      "90b752a1cf6847968fd292b275ee8131",
      "d73944f74ec04cb2a82a3690b908fb27",
      "25782d13efdf43749dd30b29d9486875",
      "349485092e964f559ac9ef572aafd11a",
      "407ba51cb6d043588e83eddd90b05c0a",
      "130c0060fe5a4d1893f671810e47c74e",
      "12eab0a1d5d9499782738ee96335f0a7",
      "073161ff35704cddada960bceb8797c0",
      "26c8f7005b044b48b2f4d805f955aa96",
      "43baf2f3722c4c7fbc7ccb322645ca2f",
      "585b7772d9cb4f3fa494b2308d84da3b",
      "7cfe817071a44fc799000b6ea63826ec",
      "76c2fde1001c46ecb639e15fe3949284",
      "97537450af5b41a79c99708b44532d60",
      "f596e05ed68a4b65b7ab5fd87ee4d3ff",
      "68553ecd6cd548b786f2f51f34cb5a72",
      "4d2dd68e6c7848389a1ae7eb08343fa9",
      "65566b2db3744794a273047307743d29",
      "7c162b655ffe49e290bebc4dfe60f7cd",
      "17f5faa6479e4bdb84fd7e91a10745c8",
      "c7fa9200f5db45c286bf734f720de832",
      "7a4b82ed7346404491b7a8066314f000",
      "bfa436e5cc1541c49aed4fc874025f64",
      "2de67ec7a75c4ddb93f2ce536ea0716f",
      "e5ba0cabda9547afb8fc430a11834a6d",
      "56f4b08e6b474b778e03f40fe8504758",
      "f9578607355c486d8542b19590d58ead",
      "91eaf2a3d27c4fd686b443a64b7f49cd",
      "b276cbc9ddb44ce78194ab89e060ad13",
      "fbea7b2de80d419ba092e81dded73f8a",
      "cf970dc6e756492080c15122f1f55463",
      "be94b3c42c5643da929801958a91d6e4",
      "e085e75bdb5b4eee9a6302caeb9e8083",
      "69c0cfb35d034e0aa6e393b40b59cae1",
      "c47a961ba938442cb2e00fe9029bc4c0",
      "bb24c7126fd446529515dd7cff39e194",
      "a53dd39179d143f89dff65ce632203bc",
      "a5c574d66edb45588f226a555bc23fb8",
      "8fce90a931ae49fda669ed799ac0711f",
      "5fe1fa911ec44ecc8448cb75d4af9bcb",
      "87844dbbeaac450b99b62d316d6c130e",
      "74d0be5a6e1a4787823f715e2331ae5e",
      "793fb26b80654b1f8cba89c7e5e7399f",
      "10ba078a6fd6454986dcddc1ba128270",
      "b5d3659f17624ab989512216cc64f9fd",
      "41b6ced5322e4df496d807bd6b060d5d",
      "5e89dd10855a4947a82cf6e19956e988",
      "7fc3e198fd724a6c9db878dd6d2b710f",
      "6a3f896a12cf41a3953b70ed557fdc87",
      "6070faa3370e40668cb173724b343078",
      "60f8cac96063414596297a5cb0037d30",
      "056e9177907e41bdb24eea0aa303fd76",
      "834f7afcfaf840ae97479b43aa277311",
      "4f003db3caf44e34acde9fc8a967c7fd",
      "f3177cd86fb441a9aabaf2f7c1c542ee",
      "d341b81b36eb41f2841ea8d72b11d7f7",
      "ef1dec0f56e44899a474fd4a18717e07",
      "3a7fcfeb12f441ad99ee3bbdbec590d8",
      "e9427c54f0544e0685146b586713d926",
      "7e23df05b1d048368c06418ed75ad6e5",
      "637351cea8ed4aecb4ede0e509728a11",
      "2c361c2ce89944b591fa96481f94ee14",
      "d7fce0b8fa6547a681bab74b2302e68b",
      "29ccf33c45d84c54b6ef56b346da1a54",
      "03563469f36843f6966ca919168da82e",
      "1d3c994069194b80b0246b2e01ea8f62",
      "ba1308eddd25437cb33f1a7fde04b395",
      "76cbab740ff749b8a0f47833ca514f95",
      "36dd019adf284f8091258677528816dc",
      "e8840ead4bff465bbcd2297f744b3726",
      "84837d8ebf3b41b1aef19b9e02b1c639",
      "dfe4175132834bdf8d18abf7604f41e8",
      "20247bd29fd846d7b401b966935c6560",
      "11203040868f41f184c193a3c2be8d20",
      "3f3da99236ae4dba9054ab15c620642c",
      "c6b9ffb6356f4fffb2bc4f2a5e311ce7",
      "898366d02a5e475fb3d0707d7783e8be",
      "726eb949594e42c7a7bfe3e6dfa4b7d1",
      "f04af260e33f443ab68f59a8bb5cb439",
      "aedd3cf4237e41fc9e520d0203ba159d",
      "51607240acf24adb892a9d349a387b9f",
      "26aa145af27840e6b48e2829c337b234",
      "94488d3c79a648d1944b0055862e3212",
      "f61a37dc52a543d6b42d86cec9fefef6",
      "f8606c7f5e2542eea2b2218e73423e83",
      "64481afcef8e452a91e7f617bd1cf8df",
      "9c9d861b1cf7490099145f3b13f94368",
      "e9d2d44758ee4fd9b275b7c3134dfa3f",
      "3bf9def54388430fabe31ac6f5a18f1d",
      "7a221c03cac3447e932c3eefb4a85d15",
      "67d98e43c536410b9b8fd66e0e7ab015",
      "3a968b01452e4fc7b34b5d28b62a0651",
      "6425169ec0104529ab768a970163f281",
      "3ee884c0808c4d38922917aac7873c6e",
      "c31e4bfb35a242de8049ec672539eb04",
      "39f324eed359436ab09990b89ba3ef24",
      "eadda8fe58394df8a4836f3234878a00",
      "1d42f040f45e4b208966d2fbe2d379f9",
      "5fa858ac74974598b82fb30aeb44c271",
      "45b4b340617449a2a51775440ae6e274",
      "1568a039257d4efd855ac969f4419e39",
      "b214ee19e7c24fd7829222eddf944019",
      "fd64d160c4bf4d36beabf8d9ecb173f4",
      "8c5e47bf1e1040e8a9056cf91769c53a",
      "897f2da1d5224f389775d60b1b0a4f84",
      "6f9876c65f694f2780f1eb99ce858272",
      "cf773ee482924f4e94951af2e27d2ef3",
      "0d7ee14b88dc4818ba54bdd833917754",
      "74a821d7ab35467187ba8ee8e42d39d0",
      "110a406c7707459aac986a4714f4686b",
      "53531d81a48348b2a5eb2b61c48fb855",
      "730251bd58f04556a127e96bb29b640a",
      "f140cf68d2e64cd1b082b41e269dffe1",
      "082c770ab6dd45de9c4d151be18423e7",
      "bb6481bdd764412b80106011991ebfa5",
      "dd4bb5082c8f4756abbaca2d3073c0cd",
      "7c1a4edcbb4345c79843874485f49925",
      "a087c67f8493490fb526b105708520db",
      "ab565c78ddc74c5c971ff8085671a754",
      "a808377d2b4a4245be2547691b1cf89c",
      "188e88f7c10b45f09e5925ecd740e010",
      "e8a45aa8ed314baeb64107355e53dd37",
      "1c1591c484a14b4a8be16a5aaad36ab1",
      "3bf727876de0449da5c231baa1ad93d1",
      "a0fb11d06a4c40989dd4dc62ae31499b",
      "835dbb4a14dc4994a7cb5f064a709874",
      "2b31ae710fdc4725bd6205e0443c4f98",
      "b77ef335014b42ea802d249871d9ebe7",
      "c23d3c158cb8494e9ffc55a05e696fc7",
      "375be3bf22a34ec3a3d5ab0e5922ee2b",
      "cb71d79b8df84ea185da5334eb331c86",
      "5b3cbddc5a4b4018bf6fc13f49e42217",
      "d0b0675d78b74656b29419c241fb81c4",
      "1fd8eb52c1e04574b9ff51abf3f1c64d",
      "bf8da00e8b324752aceae0480c09a161",
      "13bf79c5f8da41e798ea372976d13d0d",
      "b019296cda954590abd8facc9a89a4d7",
      "b5e1915918dc4c6aabe474fd32896921",
      "bdc17c3993664a1d8a17a3ea091c2c4b",
      "0f7598876a1740859c4ec552dce7cd49",
      "932b9a97f81749d59bef830cdf5cbd40",
      "b0a23c8e217e47ac87e751fa90496486",
      "22839a4ad6154da68af4f21a0334bb0d",
      "5e376f5d9f3b4940a0f0b3308f0ce3c8",
      "f2982448b4df413d81ea0e0b1061e8f7",
      "949f4bf953a34b40b07f222af5dabf5d",
      "0be83efc57fd4db78916295af75c94de",
      "a7fb73199ae546c98b4f4d779aa68933",
      "c0d55c451c834fe29930d246ad706231",
      "13fe884eba2e42df9f5aedc7cf33f840",
      "91051f2fab6046e1b2f3ec210e605aa8",
      "ff1c650251514a069a77a3de6bb34471",
      "0acd505e16114d2fbbc1082c91d71291",
      "0a0c995de2184145bf876ba775199575",
      "915d3fd206084a1fa09aeb4bfacb0587",
      "aee6dc84a3364e9f9320cec3ea966acf",
      "4548d790c85c4dcd8eaf67dd94c2f932",
      "5c11ad89ef504884897dfd0f151d1a40",
      "45bf3bc470a74f50995d7992debe245b",
      "b728cca847884595b63591c5c6fef70b",
      "e38a9745b9ae4643b43f2945346c33ec",
      "6061baa7f23641b6b1aadaf055e7f0d5",
      "7fa0bf86a5a64746a450e78e90aed651",
      "d2ad6f2388564ce59e6b35682993965d",
      "15c8cf4740de485e9ab7e3b221817f1e",
      "37cecf955aa146b4b7a6b69b94ebfe69",
      "c4c266fcc2eb4cf9aff22f950ec25716",
      "226429df97f044eca78e362518330dea",
      "a4cc1136c6694e69889248e629035075",
      "944cf1dd46f943be9c509fc63200fd95",
      "6bc2053a84834131b94e038843e0391f",
      "da172aff1a3b490690f184d5acd3c10b",
      "67e28b7a116143539a8e85819dfcd9a8",
      "0bf0769e156b433b89a9f67f60e7e0a3",
      "12f2e9aade824a229b627e1ddc98015a",
      "c6dba73c88ce4fb2b9dc396ecfc2be9f",
      "e2986e8cf362453dbd6ef8ed8e9a8450",
      "d00d71d44a264c88b9222b4b0189f792",
      "01dad1d5551e423e9d39d7130fc2eda2",
      "5ae87b04c98a4221b159468e35984bac",
      "35d22f53ae6040639035246d6b06637c",
      "9b38e73d3962443cac1419ed4866131f",
      "998364d83d9d46a5b1381d693ec790b2",
      "6e28095846b843c3a3adbc22f88dd9e3",
      "9151a88421334335b84f6073513d6454",
      "efc2004abfe34ac184a08ed716774bca",
      "4c8b37bb331f4b00b0a17264408cc9f0",
      "82edb9340ad846738d1115ec335521ea",
      "30aa1ad41864461a93e105e93a28f25d",
      "fea49c0e20dd4cff86313d34a6ab7d1c",
      "02f9c56070d441a7b5b79e1b9da198eb",
      "a7b93b9705a94ae58b20125f1774a875",
      "8229c4de51f14d00b000b5df93a22f1f",
      "cc8939936a1c466bb051aa5d74c925bf",
      "f9497eedd6554df7b9f032fb15d62d86",
      "b3ebd1b6b0d94fe9a12307603810d7a2",
      "2a68f8a2d85644649a683e36d4092e67",
      "1b0769f585f94801b6eaec89e4c23e64",
      "1d337a141a2e4634b008ca68eb71ca9a",
      "f86e2e9684ad4205ac049271f686c76e",
      "c45733f4510f47adafe330c4c9302c21",
      "ce93a85f3d314baab50669e631c70c83",
      "ae57c56cff8140f98882920c3b328989",
      "0641f0254f194006a6e571ebbf0e1073",
      "dba9290e41ff49d7b807bc01e1fc0447",
      "2583fd2b19474d9297fdd28bc5214760",
      "8c07a51a0cfa42e7ac9455694c7b5242",
      "8801443dd546409dab04d5c9854c1220",
      "070b2cb56c3f45b0958b7bb92e4dbbb6",
      "088a0ea047f54aa3a0e41fee8ea626fd",
      "3806c9a3880f49e7a105d80b0fec8237",
      "e0706db9feb04e0ca3d2b3d22639b9d9",
      "1ef19497608545fab5c314932bb79326",
      "65d79dd44d464fcdb42d836a3e2764bf",
      "cf1fad20bbf6474ea4a2eb2d2bbb11bd",
      "a22aa575d0a54e3491ec834f445b5842",
      "de33d081c52147e1b7dd57aec9202f94",
      "c7fe65fa5b564c86b9cef75a60722084",
      "5b1e59082ba940bab9c5972f042a43de",
      "3f568a80605940b4b688a69952b1a6af",
      "72fa6adb4fd942bf8da122beeee34381",
      "a54544d321fc4a6b8877703cf6b39675",
      "f892ef4b8f954de8b106aeeebfe278f9",
      "7ba9e9248f14483aa163ea671fe93469",
      "d7e47ac8dd294235847ca0e4b0574b38",
      "cb7d37108dcb4ee8bfbff3ab37b16ae0",
      "48f2868cd85e4e91b68c2940b13d88fd",
      "378e9fb468614c1497bc1e789db83724",
      "64986c3a3fed49e7aaadeba93ec72be7",
      "7b3dc4edc1344cf89b71d0ede81d2691",
      "7be86b901bf24b0c87d1310c2f0d9f7b",
      "4f95d0fd615642d386042b261b00c302",
      "8159cf2f515b487193c866568fa2789d",
      "1c1232f1adc14b0483321f30a189a81c",
      "5e24f5963ec547eb94f718efd1d85978",
      "b86e7209dcf348508361575a1ef5de8c",
      "89a4bb5ccad94e359e2c83b8e3768ce2",
      "54985071b6e94d8694e73f8667b8d9ba",
      "02baa977fc7c4e86849780e27284e001",
      "7f3a94b014f64ed1aa1933d56c18c945",
      "badc11e192724e5984d51ef7d1c946fd",
      "b71ae20a779147aaaed186f15b904b82",
      "ac04cec187924abc814f8585615b035d",
      "06dc89b7993a45f3b5ee6d48a22b0723",
      "222fe0f966f049baac3a7cfbf95cfde0",
      "92c60bb8bbba4e85a3025f1c7a75a0ec",
      "46942550ccca432390b25c25979b60ce",
      "5f22e479abf54eac9da6ff941fd3d8cc",
      "b445b99865514c4e9b9f65bae91fbef1",
      "35835963854942538fa738286e86febc",
      "b7e01984fe1049e19571eb69479b833e",
      "ecb06a26ef924cffbd6969b7d7cad284",
      "8bbfd4473ccd4de4a710e6b6990f56c1",
      "e000d6ade8fd4918addc69de747f8a53",
      "29023240ed1647528f1e25c4c8240a00",
      "b61b795716fa4e318b26dbdbca4adf1a",
      "8f82a9fe95104ab4aed936f11524f3a4",
      "5ab09dcf14e5489baae13a6ce8aaa1f9",
      "a3949817d426465aa356dfad827364a1",
      "0fb1061e510f4428ac56841f57b3ed9c",
      "15e4c38af3cb4e95ab0dd019597f274c",
      "e1992e17f3fc4107ae08928e465e76d6",
      "0fc8f3a6d3a447119f2a03b486d83fda",
      "696a865de41546a19e66a98ef52cfa28",
      "e1342e39e928473bb1fd5b930d835732",
      "8a161f6eb4474b83827c044021b54bdc",
      "6770f68c10e34f7cad1cd97ec3069ea3",
      "46c2d183320744359e7db5badc6c29f8",
      "20a0db04d9bb48429c2152ea7ab93278",
      "16e3943fcd494241be79c8c635692c3f",
      "461897153033400fa9ce4cf45f9b9041",
      "03c26570893349a5b6ef7a49f7a0be68",
      "563c9f7e841a4458961ed8ae160512c8",
      "af5f4d9568794bbf8385bb862b5e32f2",
      "c89a6637a19f452595470306c5ba45a2",
      "9bdf92fa90724c5eae776bdbbf3b8d16",
      "8bed16661f014bc6b8284921da566409",
      "70c57f88f7a84c818a337d13fad395c4",
      "2530df7cc1004351990f716fc2fbde6f",
      "6cbf73cf9ccc4baf9eacb22085fba550",
      "5868b6fe77a94da0a64247c0c37af001",
      "85c4f4a3257b4f9c885eb18043affaa8",
      "a14604abaf804ccab86ec4a366355e4d",
      "96d6ab450631427caaeba35351f42031",
      "3621044343934a8b9ad1c474f28aef13",
      "0c40d8194a2e4ca6ad42339a941f8343",
      "4e51d5928fa14552bd1f4907bfba1f31",
      "94474d95fcc244e3af616dbf66a256af",
      "139f3b04233041d3b9b2c8093670b318",
      "b60a89201ff94f67aa0a016bbfe2317c",
      "baa6e939f7ea475aa6d5fae82ca06f71",
      "930d83b67dec42cd9b54fa939f855e9e",
      "3a8c63277966465aa16c755784c4e251",
      "981ee541c88041aeacb1d39962e66043",
      "f9ea795b0d4f429487b656e8cdc22672",
      "19c3f0f06f804913b32be39876594bb0",
      "d0b136408ceb453fbc9897e7b7587780",
      "5e01ee8147c84500a3dea5993ef8a344",
      "87c06221b8e8488a9e1217f1f3df3735",
      "b285db82ea5a4da2ad8d7b3b8cd07902",
      "6a673cb1072b4bc0b5b520a8b82a6345",
      "b36fae952a5f4c3fb241d7c755dbf97b",
      "f880b778dbab4c089416800b8974fd71",
      "5bef3d9dd415403587b49fb2007a221c",
      "163a2dc4050e4abd980827b928755802",
      "55eb34482b8b4b5e949fbd16b9656b1e",
      "64bf31df6c13449ba187d7f202fdfae1",
      "90c89b988e7847f59aeb4e1314ce3248",
      "e05e5b976e4240a5810f37699d166803",
      "08ffbd06ddef427a8ed662a61786859d",
      "dfac303c34f14438b5878e34e59a65bd",
      "25c44e0cb12844969bfa2fc525ac2ea2",
      "75cbf9b7ceb84935bd0e1588afd469d3",
      "31c9068a13584f229a99e9b799274b4f",
      "c88bd5dde18a48b0a44eb23b1a139baf",
      "d7a4e172c2d44c1a8c0735461b6fabf4",
      "751c1fb875dd43cda6be76d3551c0851",
      "c25b9f8138f44576a1510011476f074d",
      "4ff0eaa88942434fae35801ec77be50a",
      "43f157cd44b14d10b3731d6041a8a51c",
      "2a42b47677a74e8ab1582293a4bfcf83",
      "535bb4d504b94d958c8d57561aaad15c",
      "2cc76abff2f44029a8cc2c336a8bee2d",
      "0cdbf4abdcb84957a1bfc6584e734598",
      "3750f23e2b0a449789a252c5812e2a20",
      "bb36f1001e164545ba428160b17e7ae9",
      "7ff03b16563349febfa2352bad72da93",
      "d6b4af8600b14795b1c1b306ba54e5d1",
      "a27307e3ca9c416f8c1bfed75e65b491",
      "67187b2c85944133ac6aa1464f2ac28b",
      "201890c657ad4e848c4070b2f095d803",
      "3bcbd3945d2d4684aff218fe279fbfaf",
      "188812a2853740e8b12df0f58269c9ac",
      "2f7b3b901773490a92a5b3b83c6c9e54",
      "7403b2a4bfaa48289f7f8ae3a24da349",
      "0cfb011569904a43997516100c31c603",
      "6d67cfb63d284e0e85a73917c189ac2a",
      "e61446a35f95436bbd09f12645a19070",
      "695aefec63194d09845d4223f09ba7ce",
      "1110b6de2e3d4b9a9654d487db1f4869",
      "24de452bf6f743fb85e6591ebec16d44",
      "53da08ada00742d3af6725ce9597056f",
      "df5094a3abf743ad9265e0601919cb7d",
      "175e30741b6f437d9219267b5125695c",
      "af8f90fd2bac4845820dec975536ff8d",
      "3d9e7dd3e1914153a728f873199e7b3e",
      "8ce46d489d2044c68d0136e8d53ee47b",
      "0f1ee3db722e4de08ca3e4df7914519c",
      "f40140f013ff4e1eb5030c6bbd8ff2d8",
      "34742ba64b2f4c34879a6f99df680941",
      "6ea575dbc0c1402e881bdde3ce70f57a",
      "737f62de3a13435db139debf28fbab02",
      "c0625a99dedd4cfc9a2e2ab32af91cf9",
      "affda28f2bcb43dc8472e8f1949dd4e3",
      "6b0f9090feeb460384b51633d43200de",
      "d2f14b4784a34bd88fb6844147720509",
      "87ddb7e20e7c45f0810c925bacac9a7e",
      "7af751d8334947f28ffb2aee59f81281",
      "7b40cf54e8eb4fb2b7aa8971c6d9b3c6",
      "45ff7b0cbb0244f49d2bcc2cd150065c",
      "5498bcd29b6745d4b0aac46f789d8cdb",
      "b8170c700f8f4270a1d0d43281ac3bb9",
      "7b396588d07f41c29406fa610f841463",
      "dc583471693f4e5da62105c70a208a3f",
      "2715728ea2a74c50b026f956419b6b64",
      "0023bd8d35be4ba9bb23f058636369d4",
      "2757525f3aa04691b2a25e123340f5de",
      "f8842e440cc147e9a933b79866466ab5",
      "667c4e9873fb4e288a0e7aaa6048c4e1",
      "a9ad43e61e51462f958c10a91acfd941",
      "9ac46304205f434db9f89c814718c020",
      "df7ee285f2404fd49af0610cfe87d009",
      "bd493671963b49f4b96f35fbff5475a8",
      "181642b702a2489884aecb7b975b3f5a",
      "5f622d9c5daf46fe9be84f7fa8647ff6",
      "480190cb73834fbcb09cc4f448082b47",
      "3cd73a0fe0294ca1805755f81fc21f9e",
      "ca462413e2f44882ba981d2cc6d384e6",
      "a8be6f798df74a139deae1032b0e3d6c",
      "c0c092f395ed442c9d8fa0a028a4d7d1",
      "d58df13731e049278f480302e4c732f9",
      "8218970908b144bda541d364bfdb30a8",
      "05891ffcfd1f447ab065571b793b33ca",
      "9be779e1561d430d92b9b7d52d65a1a2",
      "e6dc7a93fe7d42cd963fd2158e76ff13",
      "43dc43a5886a4feaae30198be6cdee7e",
      "efd38d21b8de40459c96a9a0fe145ba1",
      "90bafdf5c2f54d959d724860d6c0341c",
      "e4ff38e8dabc494d9467a12d72df4aaa",
      "775d312e5c5742768b402af15146643e",
      "bd21df14b1ec453eb561bfd1670d59d6",
      "f8a050aad738499e8fdbcde9517a6fbe",
      "082e17e98ecd445f918a88f364a55c8f",
      "82a40e38d26d452cb66ca3eb275fc8ab",
      "8070f2bc3d4444d1866cda7157ade4f1",
      "1aca4b1b4c9b4cd4ab5ce427e3e06a4c",
      "19fb022dee264721828002871348087a",
      "088d52157f0c4fa29ffcbdf6176e73f3",
      "eeb705bb0e3b430b865c907422f692a2",
      "db5a4072eb81423abf472fc235914949",
      "40fbbada8b48432fb49b6279ce6b9c80",
      "f6600464e8934595b2b9f8ad3b060223",
      "030bf3522fd54152ad30245bc88d7f93",
      "966a5979433f4b8ba98e899e37f734ea",
      "3127588f5c7e4b7a86e729c9555b1f51",
      "e04c5015b66e46af800d82363f0deffd",
      "9b81dee9c6d5487a8f103f889736fb70",
      "b43542f4bd6a48c4bd2a4464ec344580",
      "f625916eeac2409cb3b5ee114fb258e3",
      "f369c0e12fef4d17b6bb84a415293bee",
      "356e478b29e146e6b265cfbf9c0dfb12",
      "a48df59e27e444cc873aef37eddf5a2b",
      "36395bab75df450592daf5c7c9354adf",
      "8e584b5af3af4bc59a2bc22e4442fa22",
      "6ebc2aeaa1884ecab4585e22ec3d38d1",
      "286d22e9684d425e8a23ad19760fd649",
      "b03b5506f80e416b9fb0768c75a4c9bc",
      "b413d6e7f8f849ffbe07d6bf4e5f85af",
      "09ba2f8ad9764a8d831a47698048fed7",
      "05295aa5642347e48599413bbc45fea4",
      "9b8024bc30cd4e9a88d8ca301454e0e2",
      "9eecc99f5cdf40ae9eadad86f1009303",
      "9cebd0b7ffb04afab917036ec33caa17",
      "257e6247a2174f11bed54d3c475cac47",
      "e94d44ef79994e7b8d0945a87f840498",
      "37bcb910566d4c1396d62ff09e7fb0df",
      "9255427a86dd4edf84db809410744e25",
      "d4cccabba7a14f0da4d6d85dee2dd9f6",
      "97574f5a959849c0b7c1cf527611368d",
      "30eae63520b84bdabf46d64d43c97d1c",
      "dc2d0f841d9844af985b37cb4fb4075d",
      "efa8c6bf1fea4e80b587a597c423e85c",
      "ebdb7d010fc64a4b9af3e47fab99cf0b",
      "7de2693384ec490883dedf0683346bd1",
      "61e58520932c42af9b24a3853b42a862",
      "fdb45b15e5194f9293ea728eba5e7a12",
      "5a019fc426b74b52af148ddd0a77565b",
      "97a31c3489f843a1ae8ddf075e23b938",
      "6243dd9daa8b499bbe1772ef7e3687cd",
      "4ee20b67ac4d4e2eaef7d827dd17e68b",
      "d46d913362f94651a68f8155bb18fe7d",
      "b501f70b6dac4039879bc101a40c42f8",
      "49b076cd4fdd4bc58145ed287f89d51a",
      "77785eeffa6b42fd8477b5c401b98d33",
      "fabbbbfed88e4ef881cd229772a7c5a1",
      "93618bb311de43408c39314157deff4d",
      "fcf041caf83f40ef820847e2e4004442",
      "f2e6008dcf064b24959a089f6056a555",
      "2c86f3e1cfb74dfe98eb3986bc11ba03",
      "e95036d731f64b4a945d92d41cfe2517",
      "3d0d197ba82d45cb821e90ef09429b11",
      "d2f808b169484466aeb375821d211c39",
      "6933dfda28bf4075b3fb1ce0a6a61b0b",
      "376add2eb1804fdcb78f218dfe193070",
      "1d1140e8f3bd466fba0d32a644dc36ec",
      "b6e82320746e4f9b9b5258908be8bea6",
      "f12a49a929d949b592e1bbd5e4c493ab",
      "2fe06ae6d7e74583bae432105add4f5b",
      "fc6ab78e8f394fdc9f2d17d4d58cfa44",
      "f92b42578d1f45ea8b949cbfa8005c85",
      "70c664061f9345518d0567927defeeb8",
      "f8d01e324af34ffa87b94a33f0a0a1c3",
      "fab4ad6cdee440e2a553295e98ea2065",
      "3f1d66692c934cd18c58ad755ca68042",
      "9d296d5e4c484a6abf7965e6ccf8689c",
      "9002597890694b2abf7238ddb663c1e5",
      "84b1a69eca514dc5a9a6463166e42dbf",
      "17098162a42c4c2395c456093cf0de0d",
      "24cb1084481d41ad8dc0cb210b95ea2f",
      "3da92bf4d25147209e71d1d9c6a0b803",
      "37b2eb1008f145979afdfcc26d06d449",
      "3ffe03a2c9cc429a80cb4296d12d88da",
      "e55fb9b0520d478eae41df86e59bbf70",
      "5cd6506c42314acb8c9a225fe7c0bd31",
      "9ad35e2100bd48399a26905c85e9da80",
      "78b34334959049cd8ab2aacff5cbdeb9",
      "9b0d6826b0124a549221ef1fb03ef8c8",
      "8936f8715eb84bd8bd565c375e7a8c91",
      "e85ff331546a4dfbb6ca18f12e92050e",
      "79446acf2c5644a7bda572cb5d6e5124",
      "eb7a2241db66487dad92a53e9d18455f",
      "31db6d8c61a44e3cb2d49f4bcb4428a4",
      "c55b79376aa948e083ec09cfb5f89ed5",
      "9e71527f8c834f07abd65042cb80cfbc",
      "c7b8333aa96842ef969b107932fcd004",
      "8bece96f2cfa420f850d1aeefb03c385",
      "25f0557cbe21401380d1041114c02139",
      "5123cf81a6d04f4185951b3dc9b5dc8c",
      "23824c6f77504f9c97611ef8db252632",
      "1db1a21453d04817977ae51712580225",
      "2253bfaefb4f465b90cd19782f3e1a29",
      "46c33fcb1fb5460c82309f666ba2bc2f",
      "49d1a58c32784b0f98093012ecebba9c",
      "8f34a0d12f454aa580b620c64b189170",
      "7e0440f234304b6b856b689b5b6db30b",
      "d6f789cb630a40be8cf6dbbfb41394ed",
      "5b6f79c7b4bd457981aec0ea42f8e64b",
      "5628c1e7dc224981aebe4dd97f6c4d4c",
      "2e03558f660c495dbfb5329331978b06",
      "a079b9e35af1453a81e1f617bd8cdc9f",
      "e566d186f95b4466a97cb3375eff17e6",
      "3acd1859eec54ba7839fb4d10a8a55f7",
      "c8e6b1a4738e48cf8f0fa0cb4d544a3e",
      "502c36b0427c488298cf9bc45e8b8b2a",
      "a8bf713436ae4aedb11f7ab2774ea7f9",
      "09a308190aae4ac1b1d1b600d870cd81",
      "7ae1c096a3484db195e6d93b4db9e147",
      "3b5db92a174f44ebae4e4a78ebcee52c",
      "85877d39a98347468edac238f9d32787",
      "db20bfae45dc40dab120d78272ab844b",
      "5afa366c5c0642faab32883f931c188d",
      "b47f8e182862479f84058ca797fc8362",
      "1a996c05c50641e89b766096877b0bac",
      "a2351ea58cb94a94bc793345127fca21",
      "400b6467c27f457ca66bbf89af788777",
      "10a7aa212ef44859be7877a967b20734",
      "c75fd597229940db936f3613d63e0e60",
      "27b6fe44478048f4a4280141b71d432f",
      "0500cd54153f4f6aa9164b0b968233a9",
      "583cb63c19594375a16122a1b4d34d91",
      "0d41040ec04e439698d955357c496e58",
      "0f286e92fcf54529a7004c6ada18d11d",
      "249ae19e46ba4703b1e12c23d5e2dec9",
      "9f94ae91647745d3a6305e49e6790083",
      "0b27dee405d44a2086a75555c285cdc4",
      "8fe545cf00924d87ac051f97df0e07db",
      "2a420f0000e54bacbbe7407c05f43a10",
      "8d2bba9728bb466eb05d5991339c9e45",
      "6949f8f8cadd4883b0d673bb7d7272f2",
      "b09b0ef793f549b8b281ffd71da3955c",
      "d71932149ced472584f6c4178d560268",
      "f2ae71dd18324862b90b7001da8957fc",
      "2b12a4da47e94d13a868d6342bf40d96",
      "ed5449f027d345c9a899d969ae4e9e8b",
      "58250a80052841c6af4a3a751c04b1d6",
      "dd93b1eeb9dd4889957a22967d69b5ba",
      "2c80e167339249d6b0ac6da6bb495bce",
      "f44ee16fe0d044ab86f7d5741a2a76ad",
      "19cf5107ca8843df8677f12f704829ed",
      "e45dc850a9c746eaa2c2598e6e9021cf",
      "db35a0dcadf642e8b720456ff73d0f38",
      "881ebd6e726a476b9f13482d76850a9d",
      "2fc5f749b25a4fdcbccb9ba017322f9f",
      "ce648963598b40b1850823910ce1c02a",
      "659b113ebfd74abd9c3fd7410a28e54b",
      "0fb616d123414e89864548af887cd94a",
      "0dc4b4fc5a62477794ce0dbb95c56a08",
      "2d5ae4d6c9194aed860fadfb806dec61",
      "05b86fcc5e624b7da9662f589e5cc3cb",
      "81a445216e5a4af2b1d02c2d170657db",
      "a262939f43ae4608bc09134a4f6b915c",
      "c2702ae35e3e4c64b959bc6c4eb35209",
      "5d8a6bd052f94d42a4251f3ef3d5c9e9",
      "63dc59da9053443b929b2423e62e1a40",
      "6dec7df68f48476494c3d7b0c62c08b9",
      "2f5cdb5400c74f50846305c6eac6cc29",
      "285fb7b9b74046838c5a0aadd3c6f536",
      "c6b4f2a985b44016a7c554f824dbb3b5",
      "362ff73e4b5c461d8ed50cdff55bbea3",
      "efb7a134113c4fef8111429fc39a21ac",
      "62eae31ea23b45c480fcff21a5e3b253",
      "aa6d4ef399bd44e0a0d9a1d48661f3fd",
      "90b0e38d26e64ea1b7122275fa631f60",
      "3babbfbc6750454da69649683f196ab1",
      "2fab6fe3f61646e58f0f0bd88437b8d7",
      "3e4717126dca4b5abcd5e572dab7cdef",
      "9c3cb2a921dd4bb2a3363d86c2063b1c",
      "e34e41d68b7f4a5db92c6b723cc6fb77",
      "e2992718a3cd477d9a22aeed151a1a97",
      "e9a4d71f5f344c829d47bdca14393287",
      "69ba892deb03447a9fe629c29919e455",
      "92aa6ce49e44421d917edadfd6c43ae3",
      "ddcc54f63c114e348ece2d122294c853",
      "9ce0d10093c04a999516d08d9a517a2c",
      "062eebef028545bda44a1dbcfe483500",
      "faf675d6cc14477493a817f68275ef45",
      "d21e46dc13fb4d02ae6168e4e2f55ed7",
      "fcaa6b3e008e4270a5a7714b2550acbd",
      "5056e87f528f46b3a56291e1f9be4c45",
      "777154d2553247479408dddc9d0100f4",
      "2b108f56e7d944b5a83f8e26dbd9dbfd",
      "a7de103bc11c4c9e87f4b22a0285e9fb",
      "f51ce3289b304aa8acd7d20d962433d5",
      "81b9e020e25c4727a6963b14776c4901",
      "74d54f6b452240fba3f3a2cb9582d352",
      "f356a0f177604a1fb94966391b35137c",
      "dbee8679c08840b7b994c20677df7572",
      "f8a239db41da483f85ad1fccd8f1a77f",
      "0559941820e44f399a94075ca33f8478",
      "ec993b7b9ac6431f838d82c6d91e5e71",
      "25a9999e73624a8eb0f10b7b1a4d10b4",
      "98704cb4bdc54b6698ebfce858f30f4f",
      "a6b0138c73064fb8a56d2fd338837ad2",
      "94274fd2e8ed4a5398e7ef2124e06d10",
      "5ed96d905eb7420095afed3f69805d61",
      "1f9deaed5d59437a9cbbdf196b536dff",
      "2e27608442734ee8bf3112319f7ca705",
      "e3df20ca53af46d5b52cebebfd4e1ec4",
      "2713b746d8534b4e9eaa3b8f35921e3a",
      "ebfa86cadba7466898c78e02ef8d4096",
      "8dc472f9e4654375ac5da648c5cf6f85",
      "3c5a39a23eab42c0ab61fe4dcdf916e3",
      "e0187ace9cc940fea4c62e07275a6359",
      "bf3d53b77bea4bb2a79b23e5f26968b8",
      "301ab77c24dc47e6b1e1ebce9009ec9e",
      "89c7de2dc59e4641a1b5d9df705134d9",
      "749291e7d7ae4cdda4435ce03777e6b8",
      "6c88299891cd4159895fff8e1bf7d554",
      "905120afcee34ed49af11c3279fa9992",
      "50b06d1b30394a9f91634602e5e759af",
      "e4bc84e6bf7140c7999ddb72020401b3",
      "514ddcd5c3894dacaec98e98bff66956",
      "0b6b356e8d21477aa2bfa4c85ba0fd12",
      "43640eba58264c4bb977c7fd390de0a4",
      "85b4bffedf564a6aafc4a2da488b5f72",
      "a3246a32090140d3bac4bdb7478d6d19",
      "9993c41e44f54e9e86ce00b408ba563c",
      "b221133b21f5426baf6cf44904d681a0",
      "adf26ddf2be442828ffea5065f38c11f",
      "78d6e74f030c4c90ac1a2df024b9c0d2",
      "83675e1a261344e391e9bb66d789cfa4",
      "fe07b0774589470792f140109ce3afd2",
      "2a2088a9678d42b48f417bd652b010f8",
      "1889fcf88d0545c2aa3404868749cd05",
      "7e66ef58259e435fa4189fd5dad66694",
      "ced99328e9164317b24a154e8cae8158",
      "0345968d30cd44bd9f63546711744c19",
      "9be3b6f9c90c418b87913b5e90e5da9c",
      "1e7cecf0849547b692ef047df42f64eb",
      "0d3f4af8035649f28c7c506d317e8812",
      "1b8f5019bd074bafb3c4fa2ae4e03ae7",
      "4a0e1ce08a9c4e6e9cfc26842bc25630",
      "496a0d2d911047b8a604fdb9a93e0795",
      "440f62d3a4fc4844815e0ad319f9a73f",
      "59b55756607d459c99c3c499b5c26307",
      "d1a26e99585749589fc3ecad13fddae0",
      "0d34c73356ff4db5ae008c77b8487061",
      "86650bbd4bcd4070b5a2854d56f0b11d",
      "1a0969ac300142a8bb92f1b357eb2d0e",
      "1616f929d95844c1a029e97cd156e21c",
      "400f2142e53148ce85e212fd8d731469",
      "31affaa9bb1f4474b8af0b2b9c53b937",
      "3af81b8cfd034704a962f1e8d80d73e7",
      "be85a138cff345fa87c4fe3958afba16",
      "45a41fef9c3e45dcb630f0035b9ba0ac",
      "fe5f1005964e4c798ccb80214a5efab6",
      "043283d479894fd4b63e25d86f595b26",
      "ab72802ffae14acb8516621457820976",
      "79079f08f3d94519b9676a239770e526",
      "caeaae78dc7f442192dd27d40e534f07",
      "95c24192ab6d4c059818823f26d22534",
      "464c8775c3e449a6a039f6d81d990eef",
      "73c78e429c6a4882a26dbddae68f24c5",
      "8c6428143f00487cbad1bd1274261b79",
      "a1aa466709684a0796ecf876f6b946ad",
      "c59765b46d34450790bad72b2d21ae62",
      "da260be20ea34b839c115b8183b88c46",
      "f2ef9cbd51614922bd8e91228eac5b6d",
      "1a12fda8f034484f83222dde18ba971e",
      "9cd6ae99449c46f69f014d69acf628c7",
      "272da13ead58452f919c1c544c614166",
      "8e437499f2c743348326dc1b640ba24e",
      "c19d8a39d4b9401e9f383a538bbb35f3",
      "c2158c6a657240f99db1dcc884fd3e6e",
      "adfbc54dc74c4d4bb5bb79c597a0aeb5",
      "ec657230bc1e4265a3077fd4085ad53b",
      "62eeaa78b43a4a99a2274c5b8c83b6d1",
      "4e1c4f335f294723805a2ec1d691a858",
      "3d704186269341de9494422185c4b7a8",
      "8f0efa25b48b4a578ca677429a4f2ab1",
      "bd099286211540a2998acaf24f7bb22a",
      "910c67683fbf4e69906ab12a0eaa9785",
      "b0ac62d0aff0458abdffeeb1930dbdcf",
      "1a5576c9f5494b64bc40309679c5945d"
     ]
    },
    "id": "J_fftqoI-qV6",
    "outputId": "acc5c928-2d82-433e-8838-c573f0ff999b"
   },
   "outputs": [
    {
     "name": "stderr",
     "output_type": "stream",
     "text": [
      "INFO:pytorch_lightning.utilities.rank_zero:GPU available: False, used: False\n",
      "INFO:pytorch_lightning.utilities.rank_zero:TPU available: False, using: 0 TPU cores\n",
      "INFO:pytorch_lightning.utilities.rank_zero:HPU available: False, using: 0 HPUs\n",
      "/usr/local/lib/python3.12/dist-packages/pytorch_lightning/callbacks/model_checkpoint.py:751: Checkpoint directory /content/Chemoinformatics_project/mlp_checkpoints exists and is not empty.\n",
      "INFO:pytorch_lightning.callbacks.model_summary:\n",
      "  | Name      | Type       | Params | Mode \n",
      "-------------------------------------------------\n",
      "0 | network   | Sequential | 264 K  | train\n",
      "1 | criterion | MSELoss    | 0      | train\n",
      "-------------------------------------------------\n",
      "264 K     Trainable params\n",
      "0         Non-trainable params\n",
      "264 K     Total params\n",
      "1.060     Total estimated model params size (MB)\n",
      "15        Modules in train mode\n",
      "0         Modules in eval mode\n"
     ]
    },
    {
     "name": "stdout",
     "output_type": "stream",
     "text": [
      "Training MLP model on rdkit...\n"
     ]
    },
    {
     "data": {
      "application/vnd.jupyter.widget-view+json": {
       "model_id": "427d7631038f4594863e1cfbb3b0a630",
       "version_major": 2,
       "version_minor": 0
      },
      "text/plain": [
       "Sanity Checking: |          | 0/? [00:00<?, ?it/s]"
      ]
     },
     "metadata": {},
     "output_type": "display_data"
    },
    {
     "data": {
      "application/vnd.jupyter.widget-view+json": {
       "model_id": "6a8db6ceb42548a58090e5c952679d59",
       "version_major": 2,
       "version_minor": 0
      },
      "text/plain": [
       "Training: |          | 0/? [00:00<?, ?it/s]"
      ]
     },
     "metadata": {},
     "output_type": "display_data"
    },
    {
     "data": {
      "application/vnd.jupyter.widget-view+json": {
       "model_id": "c9c1bcfe2c7d405d890e93d8df8a3553",
       "version_major": 2,
       "version_minor": 0
      },
      "text/plain": [
       "Validation: |          | 0/? [00:00<?, ?it/s]"
      ]
     },
     "metadata": {},
     "output_type": "display_data"
    },
    {
     "data": {
      "application/vnd.jupyter.widget-view+json": {
       "model_id": "6878b1814e4a4d76aa10977e6dc6d25b",
       "version_major": 2,
       "version_minor": 0
      },
      "text/plain": [
       "Validation: |          | 0/? [00:00<?, ?it/s]"
      ]
     },
     "metadata": {},
     "output_type": "display_data"
    },
    {
     "data": {
      "application/vnd.jupyter.widget-view+json": {
       "model_id": "395e48ae671b476481850c5851b5f713",
       "version_major": 2,
       "version_minor": 0
      },
      "text/plain": [
       "Validation: |          | 0/? [00:00<?, ?it/s]"
      ]
     },
     "metadata": {},
     "output_type": "display_data"
    },
    {
     "data": {
      "application/vnd.jupyter.widget-view+json": {
       "model_id": "b425d3dd333e4f7288c26d266b5982b4",
       "version_major": 2,
       "version_minor": 0
      },
      "text/plain": [
       "Validation: |          | 0/? [00:00<?, ?it/s]"
      ]
     },
     "metadata": {},
     "output_type": "display_data"
    },
    {
     "data": {
      "application/vnd.jupyter.widget-view+json": {
       "model_id": "543918aa9436407c9496bbbc6bd04ec4",
       "version_major": 2,
       "version_minor": 0
      },
      "text/plain": [
       "Validation: |          | 0/? [00:00<?, ?it/s]"
      ]
     },
     "metadata": {},
     "output_type": "display_data"
    },
    {
     "data": {
      "application/vnd.jupyter.widget-view+json": {
       "model_id": "db0efc3818b94663925c75fbe26336a8",
       "version_major": 2,
       "version_minor": 0
      },
      "text/plain": [
       "Validation: |          | 0/? [00:00<?, ?it/s]"
      ]
     },
     "metadata": {},
     "output_type": "display_data"
    },
    {
     "data": {
      "application/vnd.jupyter.widget-view+json": {
       "model_id": "76b07babd29d45da9a641df854a21042",
       "version_major": 2,
       "version_minor": 0
      },
      "text/plain": [
       "Validation: |          | 0/? [00:00<?, ?it/s]"
      ]
     },
     "metadata": {},
     "output_type": "display_data"
    },
    {
     "data": {
      "application/vnd.jupyter.widget-view+json": {
       "model_id": "a336c94bb2c34f13bd4c0ed37c232d62",
       "version_major": 2,
       "version_minor": 0
      },
      "text/plain": [
       "Validation: |          | 0/? [00:00<?, ?it/s]"
      ]
     },
     "metadata": {},
     "output_type": "display_data"
    },
    {
     "data": {
      "application/vnd.jupyter.widget-view+json": {
       "model_id": "9d8c6965eaf745049d7cadc222f15912",
       "version_major": 2,
       "version_minor": 0
      },
      "text/plain": [
       "Validation: |          | 0/? [00:00<?, ?it/s]"
      ]
     },
     "metadata": {},
     "output_type": "display_data"
    },
    {
     "data": {
      "application/vnd.jupyter.widget-view+json": {
       "model_id": "71b7fc47645e481db5788cd586af5874",
       "version_major": 2,
       "version_minor": 0
      },
      "text/plain": [
       "Validation: |          | 0/? [00:00<?, ?it/s]"
      ]
     },
     "metadata": {},
     "output_type": "display_data"
    },
    {
     "data": {
      "application/vnd.jupyter.widget-view+json": {
       "model_id": "a7b25b137ab040a8a77c8b5f1ff980dd",
       "version_major": 2,
       "version_minor": 0
      },
      "text/plain": [
       "Validation: |          | 0/? [00:00<?, ?it/s]"
      ]
     },
     "metadata": {},
     "output_type": "display_data"
    },
    {
     "data": {
      "application/vnd.jupyter.widget-view+json": {
       "model_id": "63b96d53b7774f4d9161bfbe4a05bee3",
       "version_major": 2,
       "version_minor": 0
      },
      "text/plain": [
       "Validation: |          | 0/? [00:00<?, ?it/s]"
      ]
     },
     "metadata": {},
     "output_type": "display_data"
    },
    {
     "data": {
      "application/vnd.jupyter.widget-view+json": {
       "model_id": "49afdb9f7d1e4932af53950734e1aa00",
       "version_major": 2,
       "version_minor": 0
      },
      "text/plain": [
       "Validation: |          | 0/? [00:00<?, ?it/s]"
      ]
     },
     "metadata": {},
     "output_type": "display_data"
    },
    {
     "data": {
      "application/vnd.jupyter.widget-view+json": {
       "model_id": "64c071e85bc84dde843c49c7b5db3b39",
       "version_major": 2,
       "version_minor": 0
      },
      "text/plain": [
       "Validation: |          | 0/? [00:00<?, ?it/s]"
      ]
     },
     "metadata": {},
     "output_type": "display_data"
    },
    {
     "data": {
      "application/vnd.jupyter.widget-view+json": {
       "model_id": "462d32c40f474dfdb0e4c175e050388d",
       "version_major": 2,
       "version_minor": 0
      },
      "text/plain": [
       "Validation: |          | 0/? [00:00<?, ?it/s]"
      ]
     },
     "metadata": {},
     "output_type": "display_data"
    },
    {
     "data": {
      "application/vnd.jupyter.widget-view+json": {
       "model_id": "852e103e3bdc40beaef700175b59beef",
       "version_major": 2,
       "version_minor": 0
      },
      "text/plain": [
       "Validation: |          | 0/? [00:00<?, ?it/s]"
      ]
     },
     "metadata": {},
     "output_type": "display_data"
    },
    {
     "data": {
      "application/vnd.jupyter.widget-view+json": {
       "model_id": "90c8fc06a9304f4f9b8709b38853971d",
       "version_major": 2,
       "version_minor": 0
      },
      "text/plain": [
       "Validation: |          | 0/? [00:00<?, ?it/s]"
      ]
     },
     "metadata": {},
     "output_type": "display_data"
    },
    {
     "data": {
      "application/vnd.jupyter.widget-view+json": {
       "model_id": "97aa467f59674ec3a14794879c011fbe",
       "version_major": 2,
       "version_minor": 0
      },
      "text/plain": [
       "Validation: |          | 0/? [00:00<?, ?it/s]"
      ]
     },
     "metadata": {},
     "output_type": "display_data"
    },
    {
     "data": {
      "application/vnd.jupyter.widget-view+json": {
       "model_id": "802b4ab12162463ba7e7d227d3ae6e84",
       "version_major": 2,
       "version_minor": 0
      },
      "text/plain": [
       "Validation: |          | 0/? [00:00<?, ?it/s]"
      ]
     },
     "metadata": {},
     "output_type": "display_data"
    },
    {
     "data": {
      "application/vnd.jupyter.widget-view+json": {
       "model_id": "0be2ac8768ba45548a22f5d05827d4a0",
       "version_major": 2,
       "version_minor": 0
      },
      "text/plain": [
       "Validation: |          | 0/? [00:00<?, ?it/s]"
      ]
     },
     "metadata": {},
     "output_type": "display_data"
    },
    {
     "data": {
      "application/vnd.jupyter.widget-view+json": {
       "model_id": "e7870b43d785441e97db2c894ae59188",
       "version_major": 2,
       "version_minor": 0
      },
      "text/plain": [
       "Validation: |          | 0/? [00:00<?, ?it/s]"
      ]
     },
     "metadata": {},
     "output_type": "display_data"
    },
    {
     "data": {
      "application/vnd.jupyter.widget-view+json": {
       "model_id": "3a6c08be313a409bb3f1ee35484082d0",
       "version_major": 2,
       "version_minor": 0
      },
      "text/plain": [
       "Validation: |          | 0/? [00:00<?, ?it/s]"
      ]
     },
     "metadata": {},
     "output_type": "display_data"
    },
    {
     "data": {
      "application/vnd.jupyter.widget-view+json": {
       "model_id": "e47cffba670a454f9d8eaad84111dda7",
       "version_major": 2,
       "version_minor": 0
      },
      "text/plain": [
       "Validation: |          | 0/? [00:00<?, ?it/s]"
      ]
     },
     "metadata": {},
     "output_type": "display_data"
    },
    {
     "data": {
      "application/vnd.jupyter.widget-view+json": {
       "model_id": "187b1a4cb8d2437182e51344235fc5ed",
       "version_major": 2,
       "version_minor": 0
      },
      "text/plain": [
       "Validation: |          | 0/? [00:00<?, ?it/s]"
      ]
     },
     "metadata": {},
     "output_type": "display_data"
    },
    {
     "data": {
      "application/vnd.jupyter.widget-view+json": {
       "model_id": "14111c0359aa4d16a53323e85d9e8dea",
       "version_major": 2,
       "version_minor": 0
      },
      "text/plain": [
       "Validation: |          | 0/? [00:00<?, ?it/s]"
      ]
     },
     "metadata": {},
     "output_type": "display_data"
    },
    {
     "data": {
      "application/vnd.jupyter.widget-view+json": {
       "model_id": "7284cb238cc74386ae030e047c81aa03",
       "version_major": 2,
       "version_minor": 0
      },
      "text/plain": [
       "Validation: |          | 0/? [00:00<?, ?it/s]"
      ]
     },
     "metadata": {},
     "output_type": "display_data"
    },
    {
     "data": {
      "application/vnd.jupyter.widget-view+json": {
       "model_id": "9200cef4dc504d5984fd49d8315e0de6",
       "version_major": 2,
       "version_minor": 0
      },
      "text/plain": [
       "Validation: |          | 0/? [00:00<?, ?it/s]"
      ]
     },
     "metadata": {},
     "output_type": "display_data"
    },
    {
     "data": {
      "application/vnd.jupyter.widget-view+json": {
       "model_id": "a63e7561d1e843c6b147e8b7a51dce50",
       "version_major": 2,
       "version_minor": 0
      },
      "text/plain": [
       "Validation: |          | 0/? [00:00<?, ?it/s]"
      ]
     },
     "metadata": {},
     "output_type": "display_data"
    },
    {
     "data": {
      "application/vnd.jupyter.widget-view+json": {
       "model_id": "f34c25e5c1d8455995ecf318fb3c78c2",
       "version_major": 2,
       "version_minor": 0
      },
      "text/plain": [
       "Validation: |          | 0/? [00:00<?, ?it/s]"
      ]
     },
     "metadata": {},
     "output_type": "display_data"
    },
    {
     "data": {
      "application/vnd.jupyter.widget-view+json": {
       "model_id": "f9e46ee4db734c8f982e9932cc77fccc",
       "version_major": 2,
       "version_minor": 0
      },
      "text/plain": [
       "Validation: |          | 0/? [00:00<?, ?it/s]"
      ]
     },
     "metadata": {},
     "output_type": "display_data"
    },
    {
     "data": {
      "application/vnd.jupyter.widget-view+json": {
       "model_id": "86591df441dd4a51a25e7e2d531eeecd",
       "version_major": 2,
       "version_minor": 0
      },
      "text/plain": [
       "Validation: |          | 0/? [00:00<?, ?it/s]"
      ]
     },
     "metadata": {},
     "output_type": "display_data"
    },
    {
     "data": {
      "application/vnd.jupyter.widget-view+json": {
       "model_id": "9a322ab2bd574a9f89264225bbc26d55",
       "version_major": 2,
       "version_minor": 0
      },
      "text/plain": [
       "Validation: |          | 0/? [00:00<?, ?it/s]"
      ]
     },
     "metadata": {},
     "output_type": "display_data"
    },
    {
     "data": {
      "application/vnd.jupyter.widget-view+json": {
       "model_id": "2b857658c0ad444d864abf61d219f7a8",
       "version_major": 2,
       "version_minor": 0
      },
      "text/plain": [
       "Validation: |          | 0/? [00:00<?, ?it/s]"
      ]
     },
     "metadata": {},
     "output_type": "display_data"
    },
    {
     "data": {
      "application/vnd.jupyter.widget-view+json": {
       "model_id": "06af6618198644db8de88ee41195242b",
       "version_major": 2,
       "version_minor": 0
      },
      "text/plain": [
       "Validation: |          | 0/? [00:00<?, ?it/s]"
      ]
     },
     "metadata": {},
     "output_type": "display_data"
    },
    {
     "data": {
      "application/vnd.jupyter.widget-view+json": {
       "model_id": "8ab132d68a8940fdaa5e872d0137ff71",
       "version_major": 2,
       "version_minor": 0
      },
      "text/plain": [
       "Validation: |          | 0/? [00:00<?, ?it/s]"
      ]
     },
     "metadata": {},
     "output_type": "display_data"
    },
    {
     "data": {
      "application/vnd.jupyter.widget-view+json": {
       "model_id": "c0015fd09b2c447d826ee484ea59aa19",
       "version_major": 2,
       "version_minor": 0
      },
      "text/plain": [
       "Validation: |          | 0/? [00:00<?, ?it/s]"
      ]
     },
     "metadata": {},
     "output_type": "display_data"
    },
    {
     "data": {
      "application/vnd.jupyter.widget-view+json": {
       "model_id": "85821f8b6eb74bf9ac9df0580ed2ca1d",
       "version_major": 2,
       "version_minor": 0
      },
      "text/plain": [
       "Validation: |          | 0/? [00:00<?, ?it/s]"
      ]
     },
     "metadata": {},
     "output_type": "display_data"
    },
    {
     "data": {
      "application/vnd.jupyter.widget-view+json": {
       "model_id": "62df9bca52bd4d88a0677e7a6cfff6f4",
       "version_major": 2,
       "version_minor": 0
      },
      "text/plain": [
       "Validation: |          | 0/? [00:00<?, ?it/s]"
      ]
     },
     "metadata": {},
     "output_type": "display_data"
    },
    {
     "data": {
      "application/vnd.jupyter.widget-view+json": {
       "model_id": "eadaec9b6e324aceabf114d244284a9e",
       "version_major": 2,
       "version_minor": 0
      },
      "text/plain": [
       "Validation: |          | 0/? [00:00<?, ?it/s]"
      ]
     },
     "metadata": {},
     "output_type": "display_data"
    },
    {
     "data": {
      "application/vnd.jupyter.widget-view+json": {
       "model_id": "45d3e6fc1ee642f8a5864c3565f3d8a5",
       "version_major": 2,
       "version_minor": 0
      },
      "text/plain": [
       "Validation: |          | 0/? [00:00<?, ?it/s]"
      ]
     },
     "metadata": {},
     "output_type": "display_data"
    },
    {
     "data": {
      "application/vnd.jupyter.widget-view+json": {
       "model_id": "701d71a7db3242d89c1fb779237db744",
       "version_major": 2,
       "version_minor": 0
      },
      "text/plain": [
       "Validation: |          | 0/? [00:00<?, ?it/s]"
      ]
     },
     "metadata": {},
     "output_type": "display_data"
    },
    {
     "data": {
      "application/vnd.jupyter.widget-view+json": {
       "model_id": "8d77d533768d4faeb9be9999436fefb2",
       "version_major": 2,
       "version_minor": 0
      },
      "text/plain": [
       "Validation: |          | 0/? [00:00<?, ?it/s]"
      ]
     },
     "metadata": {},
     "output_type": "display_data"
    },
    {
     "data": {
      "application/vnd.jupyter.widget-view+json": {
       "model_id": "a7b91a6443034effa763c758509ff41e",
       "version_major": 2,
       "version_minor": 0
      },
      "text/plain": [
       "Validation: |          | 0/? [00:00<?, ?it/s]"
      ]
     },
     "metadata": {},
     "output_type": "display_data"
    },
    {
     "data": {
      "application/vnd.jupyter.widget-view+json": {
       "model_id": "8c4ecc15e7a24c3681f38ceed35cfe29",
       "version_major": 2,
       "version_minor": 0
      },
      "text/plain": [
       "Validation: |          | 0/? [00:00<?, ?it/s]"
      ]
     },
     "metadata": {},
     "output_type": "display_data"
    },
    {
     "data": {
      "application/vnd.jupyter.widget-view+json": {
       "model_id": "5a7ba07ca80c4f7bb880850b43b2d86f",
       "version_major": 2,
       "version_minor": 0
      },
      "text/plain": [
       "Validation: |          | 0/? [00:00<?, ?it/s]"
      ]
     },
     "metadata": {},
     "output_type": "display_data"
    },
    {
     "data": {
      "application/vnd.jupyter.widget-view+json": {
       "model_id": "9f7031888ada4ecea8ab81ad85659e0d",
       "version_major": 2,
       "version_minor": 0
      },
      "text/plain": [
       "Validation: |          | 0/? [00:00<?, ?it/s]"
      ]
     },
     "metadata": {},
     "output_type": "display_data"
    },
    {
     "data": {
      "application/vnd.jupyter.widget-view+json": {
       "model_id": "0763e37dabe44df89800e8b70988882f",
       "version_major": 2,
       "version_minor": 0
      },
      "text/plain": [
       "Testing: |          | 0/? [00:00<?, ?it/s]"
      ]
     },
     "metadata": {},
     "output_type": "display_data"
    },
    {
     "data": {
      "text/html": [
       "<pre style=\"white-space:pre;overflow-x:auto;line-height:normal;font-family:Menlo,'DejaVu Sans Mono',consolas,'Courier New',monospace\">┏━━━━━━━━━━━━━━━━━━━━━━━━━━━┳━━━━━━━━━━━━━━━━━━━━━━━━━━━┓\n",
       "┃<span style=\"font-weight: bold\">        Test metric        </span>┃<span style=\"font-weight: bold\">       DataLoader 0        </span>┃\n",
       "┡━━━━━━━━━━━━━━━━━━━━━━━━━━━╇━━━━━━━━━━━━━━━━━━━━━━━━━━━┩\n",
       "│<span style=\"color: #008080; text-decoration-color: #008080\">         test_loss         </span>│<span style=\"color: #800080; text-decoration-color: #800080\">    2.0677106380462646     </span>│\n",
       "│<span style=\"color: #008080; text-decoration-color: #008080\">         test_rmse         </span>│<span style=\"color: #800080; text-decoration-color: #800080\">    1.4379535913467407     </span>│\n",
       "└───────────────────────────┴───────────────────────────┘\n",
       "</pre>\n"
      ],
      "text/plain": [
       "┏━━━━━━━━━━━━━━━━━━━━━━━━━━━┳━━━━━━━━━━━━━━━━━━━━━━━━━━━┓\n",
       "┃\u001b[1m \u001b[0m\u001b[1m       Test metric       \u001b[0m\u001b[1m \u001b[0m┃\u001b[1m \u001b[0m\u001b[1m      DataLoader 0       \u001b[0m\u001b[1m \u001b[0m┃\n",
       "┡━━━━━━━━━━━━━━━━━━━━━━━━━━━╇━━━━━━━━━━━━━━━━━━━━━━━━━━━┩\n",
       "│\u001b[36m \u001b[0m\u001b[36m        test_loss        \u001b[0m\u001b[36m \u001b[0m│\u001b[35m \u001b[0m\u001b[35m   2.0677106380462646    \u001b[0m\u001b[35m \u001b[0m│\n",
       "│\u001b[36m \u001b[0m\u001b[36m        test_rmse        \u001b[0m\u001b[36m \u001b[0m│\u001b[35m \u001b[0m\u001b[35m   1.4379535913467407    \u001b[0m\u001b[35m \u001b[0m│\n",
       "└───────────────────────────┴───────────────────────────┘\n"
      ]
     },
     "metadata": {},
     "output_type": "display_data"
    },
    {
     "name": "stderr",
     "output_type": "stream",
     "text": [
      "INFO:pytorch_lightning.utilities.rank_zero:GPU available: False, used: False\n",
      "INFO:pytorch_lightning.utilities.rank_zero:TPU available: False, using: 0 TPU cores\n",
      "INFO:pytorch_lightning.utilities.rank_zero:HPU available: False, using: 0 HPUs\n",
      "/usr/local/lib/python3.12/dist-packages/pytorch_lightning/callbacks/model_checkpoint.py:751: Checkpoint directory /content/Chemoinformatics_project/mlp_checkpoints exists and is not empty.\n",
      "INFO:pytorch_lightning.callbacks.model_summary:\n",
      "  | Name      | Type       | Params | Mode \n",
      "-------------------------------------------------\n",
      "0 | network   | Sequential | 686 K  | train\n",
      "1 | criterion | MSELoss    | 0      | train\n",
      "-------------------------------------------------\n",
      "686 K     Trainable params\n",
      "0         Non-trainable params\n",
      "686 K     Total params\n",
      "2.747     Total estimated model params size (MB)\n",
      "15        Modules in train mode\n",
      "0         Modules in eval mode\n"
     ]
    },
    {
     "name": "stdout",
     "output_type": "stream",
     "text": [
      "MLP Test RMSE for rdkit: 1.4380\n",
      "Training MLP model on ecfp...\n"
     ]
    },
    {
     "data": {
      "application/vnd.jupyter.widget-view+json": {
       "model_id": "9e1347b4458d47a9a44932271d1311aa",
       "version_major": 2,
       "version_minor": 0
      },
      "text/plain": [
       "Sanity Checking: |          | 0/? [00:00<?, ?it/s]"
      ]
     },
     "metadata": {},
     "output_type": "display_data"
    },
    {
     "data": {
      "application/vnd.jupyter.widget-view+json": {
       "model_id": "9c6623380c6d4304bc2178ea4209d886",
       "version_major": 2,
       "version_minor": 0
      },
      "text/plain": [
       "Training: |          | 0/? [00:00<?, ?it/s]"
      ]
     },
     "metadata": {},
     "output_type": "display_data"
    },
    {
     "data": {
      "application/vnd.jupyter.widget-view+json": {
       "model_id": "e5fe1aec5f1d4ce8855e476264417385",
       "version_major": 2,
       "version_minor": 0
      },
      "text/plain": [
       "Validation: |          | 0/? [00:00<?, ?it/s]"
      ]
     },
     "metadata": {},
     "output_type": "display_data"
    },
    {
     "data": {
      "application/vnd.jupyter.widget-view+json": {
       "model_id": "ba63fd5ca6544b88a278c362588e81dd",
       "version_major": 2,
       "version_minor": 0
      },
      "text/plain": [
       "Validation: |          | 0/? [00:00<?, ?it/s]"
      ]
     },
     "metadata": {},
     "output_type": "display_data"
    },
    {
     "data": {
      "application/vnd.jupyter.widget-view+json": {
       "model_id": "972a04368d994d50be31180a859a874b",
       "version_major": 2,
       "version_minor": 0
      },
      "text/plain": [
       "Validation: |          | 0/? [00:00<?, ?it/s]"
      ]
     },
     "metadata": {},
     "output_type": "display_data"
    },
    {
     "data": {
      "application/vnd.jupyter.widget-view+json": {
       "model_id": "6ffc0de39cb946b8aedfb4f0dc119038",
       "version_major": 2,
       "version_minor": 0
      },
      "text/plain": [
       "Validation: |          | 0/? [00:00<?, ?it/s]"
      ]
     },
     "metadata": {},
     "output_type": "display_data"
    },
    {
     "data": {
      "application/vnd.jupyter.widget-view+json": {
       "model_id": "5f25bee0f24e4248ac5f41480ad97e32",
       "version_major": 2,
       "version_minor": 0
      },
      "text/plain": [
       "Validation: |          | 0/? [00:00<?, ?it/s]"
      ]
     },
     "metadata": {},
     "output_type": "display_data"
    },
    {
     "data": {
      "application/vnd.jupyter.widget-view+json": {
       "model_id": "9f238a8c81374feab567fc49c8f666fc",
       "version_major": 2,
       "version_minor": 0
      },
      "text/plain": [
       "Validation: |          | 0/? [00:00<?, ?it/s]"
      ]
     },
     "metadata": {},
     "output_type": "display_data"
    },
    {
     "data": {
      "application/vnd.jupyter.widget-view+json": {
       "model_id": "115b5134ce8a4d06aefc24d54fdeec10",
       "version_major": 2,
       "version_minor": 0
      },
      "text/plain": [
       "Validation: |          | 0/? [00:00<?, ?it/s]"
      ]
     },
     "metadata": {},
     "output_type": "display_data"
    },
    {
     "data": {
      "application/vnd.jupyter.widget-view+json": {
       "model_id": "bdbcfb6cbdfb4c06ba0559f6e8b4e04c",
       "version_major": 2,
       "version_minor": 0
      },
      "text/plain": [
       "Validation: |          | 0/? [00:00<?, ?it/s]"
      ]
     },
     "metadata": {},
     "output_type": "display_data"
    },
    {
     "data": {
      "application/vnd.jupyter.widget-view+json": {
       "model_id": "79e88a3152ed41d39009a99d8936cd57",
       "version_major": 2,
       "version_minor": 0
      },
      "text/plain": [
       "Validation: |          | 0/? [00:00<?, ?it/s]"
      ]
     },
     "metadata": {},
     "output_type": "display_data"
    },
    {
     "data": {
      "application/vnd.jupyter.widget-view+json": {
       "model_id": "cda244416d0a443d9a3a5031273cfafe",
       "version_major": 2,
       "version_minor": 0
      },
      "text/plain": [
       "Validation: |          | 0/? [00:00<?, ?it/s]"
      ]
     },
     "metadata": {},
     "output_type": "display_data"
    },
    {
     "data": {
      "application/vnd.jupyter.widget-view+json": {
       "model_id": "e388a294132041ab9c977321799c2135",
       "version_major": 2,
       "version_minor": 0
      },
      "text/plain": [
       "Validation: |          | 0/? [00:00<?, ?it/s]"
      ]
     },
     "metadata": {},
     "output_type": "display_data"
    },
    {
     "data": {
      "application/vnd.jupyter.widget-view+json": {
       "model_id": "72c972277d8d42019a2b5bfe1e3cb3d4",
       "version_major": 2,
       "version_minor": 0
      },
      "text/plain": [
       "Validation: |          | 0/? [00:00<?, ?it/s]"
      ]
     },
     "metadata": {},
     "output_type": "display_data"
    },
    {
     "data": {
      "application/vnd.jupyter.widget-view+json": {
       "model_id": "21919e8817994d2292e6ab81542898c2",
       "version_major": 2,
       "version_minor": 0
      },
      "text/plain": [
       "Validation: |          | 0/? [00:00<?, ?it/s]"
      ]
     },
     "metadata": {},
     "output_type": "display_data"
    },
    {
     "data": {
      "application/vnd.jupyter.widget-view+json": {
       "model_id": "3c15c577999f4beba3440f8953f7e6fb",
       "version_major": 2,
       "version_minor": 0
      },
      "text/plain": [
       "Validation: |          | 0/? [00:00<?, ?it/s]"
      ]
     },
     "metadata": {},
     "output_type": "display_data"
    },
    {
     "data": {
      "application/vnd.jupyter.widget-view+json": {
       "model_id": "806176728cbb4d89a121588148605f2d",
       "version_major": 2,
       "version_minor": 0
      },
      "text/plain": [
       "Validation: |          | 0/? [00:00<?, ?it/s]"
      ]
     },
     "metadata": {},
     "output_type": "display_data"
    },
    {
     "data": {
      "application/vnd.jupyter.widget-view+json": {
       "model_id": "b3fefc332d224eb0ab00af56c81787ac",
       "version_major": 2,
       "version_minor": 0
      },
      "text/plain": [
       "Validation: |          | 0/? [00:00<?, ?it/s]"
      ]
     },
     "metadata": {},
     "output_type": "display_data"
    },
    {
     "data": {
      "application/vnd.jupyter.widget-view+json": {
       "model_id": "5be138126a6a45e2b3885788978efb88",
       "version_major": 2,
       "version_minor": 0
      },
      "text/plain": [
       "Validation: |          | 0/? [00:00<?, ?it/s]"
      ]
     },
     "metadata": {},
     "output_type": "display_data"
    },
    {
     "data": {
      "application/vnd.jupyter.widget-view+json": {
       "model_id": "1c9bfbc83d534b4287d1df3002c9f39a",
       "version_major": 2,
       "version_minor": 0
      },
      "text/plain": [
       "Validation: |          | 0/? [00:00<?, ?it/s]"
      ]
     },
     "metadata": {},
     "output_type": "display_data"
    },
    {
     "data": {
      "application/vnd.jupyter.widget-view+json": {
       "model_id": "63c1caff4b634f47addb1872d4e9b764",
       "version_major": 2,
       "version_minor": 0
      },
      "text/plain": [
       "Validation: |          | 0/? [00:00<?, ?it/s]"
      ]
     },
     "metadata": {},
     "output_type": "display_data"
    },
    {
     "data": {
      "application/vnd.jupyter.widget-view+json": {
       "model_id": "2b6117d7636540e48aede835f3b6a0f0",
       "version_major": 2,
       "version_minor": 0
      },
      "text/plain": [
       "Validation: |          | 0/? [00:00<?, ?it/s]"
      ]
     },
     "metadata": {},
     "output_type": "display_data"
    },
    {
     "data": {
      "application/vnd.jupyter.widget-view+json": {
       "model_id": "d5f5ecbe706744feb87a569c777e93a8",
       "version_major": 2,
       "version_minor": 0
      },
      "text/plain": [
       "Validation: |          | 0/? [00:00<?, ?it/s]"
      ]
     },
     "metadata": {},
     "output_type": "display_data"
    },
    {
     "data": {
      "application/vnd.jupyter.widget-view+json": {
       "model_id": "2ae9efcbacef4ca4961871055ccaf488",
       "version_major": 2,
       "version_minor": 0
      },
      "text/plain": [
       "Validation: |          | 0/? [00:00<?, ?it/s]"
      ]
     },
     "metadata": {},
     "output_type": "display_data"
    },
    {
     "data": {
      "application/vnd.jupyter.widget-view+json": {
       "model_id": "304962c5f00345efa6b91aebbe4ed258",
       "version_major": 2,
       "version_minor": 0
      },
      "text/plain": [
       "Validation: |          | 0/? [00:00<?, ?it/s]"
      ]
     },
     "metadata": {},
     "output_type": "display_data"
    },
    {
     "data": {
      "application/vnd.jupyter.widget-view+json": {
       "model_id": "5130655e2ec5452882ae2cffa95909b7",
       "version_major": 2,
       "version_minor": 0
      },
      "text/plain": [
       "Validation: |          | 0/? [00:00<?, ?it/s]"
      ]
     },
     "metadata": {},
     "output_type": "display_data"
    },
    {
     "data": {
      "application/vnd.jupyter.widget-view+json": {
       "model_id": "fbb3359abdec4f3f98a187c5db02d6b5",
       "version_major": 2,
       "version_minor": 0
      },
      "text/plain": [
       "Validation: |          | 0/? [00:00<?, ?it/s]"
      ]
     },
     "metadata": {},
     "output_type": "display_data"
    },
    {
     "data": {
      "application/vnd.jupyter.widget-view+json": {
       "model_id": "63fc0f432530452da126c600057cfc04",
       "version_major": 2,
       "version_minor": 0
      },
      "text/plain": [
       "Validation: |          | 0/? [00:00<?, ?it/s]"
      ]
     },
     "metadata": {},
     "output_type": "display_data"
    },
    {
     "data": {
      "application/vnd.jupyter.widget-view+json": {
       "model_id": "78f30f5dbf2b42fab34e3e6aeb1c25df",
       "version_major": 2,
       "version_minor": 0
      },
      "text/plain": [
       "Validation: |          | 0/? [00:00<?, ?it/s]"
      ]
     },
     "metadata": {},
     "output_type": "display_data"
    },
    {
     "data": {
      "application/vnd.jupyter.widget-view+json": {
       "model_id": "124a8163a1f046f99f5e47600d972f78",
       "version_major": 2,
       "version_minor": 0
      },
      "text/plain": [
       "Validation: |          | 0/? [00:00<?, ?it/s]"
      ]
     },
     "metadata": {},
     "output_type": "display_data"
    },
    {
     "data": {
      "application/vnd.jupyter.widget-view+json": {
       "model_id": "4146d6fa1fc34063af178422ad8cdee8",
       "version_major": 2,
       "version_minor": 0
      },
      "text/plain": [
       "Validation: |          | 0/? [00:00<?, ?it/s]"
      ]
     },
     "metadata": {},
     "output_type": "display_data"
    },
    {
     "data": {
      "application/vnd.jupyter.widget-view+json": {
       "model_id": "0db2c273ba834d97bdb9f4af3ef0bfc0",
       "version_major": 2,
       "version_minor": 0
      },
      "text/plain": [
       "Validation: |          | 0/? [00:00<?, ?it/s]"
      ]
     },
     "metadata": {},
     "output_type": "display_data"
    },
    {
     "data": {
      "application/vnd.jupyter.widget-view+json": {
       "model_id": "0aab78bb2f5b4ae7886c3a3c0be0ea3e",
       "version_major": 2,
       "version_minor": 0
      },
      "text/plain": [
       "Validation: |          | 0/? [00:00<?, ?it/s]"
      ]
     },
     "metadata": {},
     "output_type": "display_data"
    },
    {
     "data": {
      "application/vnd.jupyter.widget-view+json": {
       "model_id": "c7a5628394344634b1a7eb93b803fdd7",
       "version_major": 2,
       "version_minor": 0
      },
      "text/plain": [
       "Validation: |          | 0/? [00:00<?, ?it/s]"
      ]
     },
     "metadata": {},
     "output_type": "display_data"
    },
    {
     "data": {
      "application/vnd.jupyter.widget-view+json": {
       "model_id": "f59a5f89b0d147bb80577630fbba693b",
       "version_major": 2,
       "version_minor": 0
      },
      "text/plain": [
       "Validation: |          | 0/? [00:00<?, ?it/s]"
      ]
     },
     "metadata": {},
     "output_type": "display_data"
    },
    {
     "data": {
      "application/vnd.jupyter.widget-view+json": {
       "model_id": "4ae1b72533a74aa6bc03f7e618e0fd03",
       "version_major": 2,
       "version_minor": 0
      },
      "text/plain": [
       "Validation: |          | 0/? [00:00<?, ?it/s]"
      ]
     },
     "metadata": {},
     "output_type": "display_data"
    },
    {
     "data": {
      "application/vnd.jupyter.widget-view+json": {
       "model_id": "da04918f1bf1421687ca39e47fa0f847",
       "version_major": 2,
       "version_minor": 0
      },
      "text/plain": [
       "Validation: |          | 0/? [00:00<?, ?it/s]"
      ]
     },
     "metadata": {},
     "output_type": "display_data"
    },
    {
     "data": {
      "application/vnd.jupyter.widget-view+json": {
       "model_id": "64c5c1840ecd456db21e37358dfc7cce",
       "version_major": 2,
       "version_minor": 0
      },
      "text/plain": [
       "Validation: |          | 0/? [00:00<?, ?it/s]"
      ]
     },
     "metadata": {},
     "output_type": "display_data"
    },
    {
     "data": {
      "application/vnd.jupyter.widget-view+json": {
       "model_id": "ab327ae493ba44898de9431643a26db2",
       "version_major": 2,
       "version_minor": 0
      },
      "text/plain": [
       "Validation: |          | 0/? [00:00<?, ?it/s]"
      ]
     },
     "metadata": {},
     "output_type": "display_data"
    },
    {
     "data": {
      "application/vnd.jupyter.widget-view+json": {
       "model_id": "ac9c83fcf47c4e659d566a0943d074c5",
       "version_major": 2,
       "version_minor": 0
      },
      "text/plain": [
       "Validation: |          | 0/? [00:00<?, ?it/s]"
      ]
     },
     "metadata": {},
     "output_type": "display_data"
    },
    {
     "data": {
      "application/vnd.jupyter.widget-view+json": {
       "model_id": "dc57eae3df314caeb8a58f1ae042f9a7",
       "version_major": 2,
       "version_minor": 0
      },
      "text/plain": [
       "Validation: |          | 0/? [00:00<?, ?it/s]"
      ]
     },
     "metadata": {},
     "output_type": "display_data"
    },
    {
     "data": {
      "application/vnd.jupyter.widget-view+json": {
       "model_id": "d5c94580b69d4c5bb2729a368fe301f6",
       "version_major": 2,
       "version_minor": 0
      },
      "text/plain": [
       "Validation: |          | 0/? [00:00<?, ?it/s]"
      ]
     },
     "metadata": {},
     "output_type": "display_data"
    },
    {
     "data": {
      "application/vnd.jupyter.widget-view+json": {
       "model_id": "5de81ef7f4904cc4834be2834af13444",
       "version_major": 2,
       "version_minor": 0
      },
      "text/plain": [
       "Validation: |          | 0/? [00:00<?, ?it/s]"
      ]
     },
     "metadata": {},
     "output_type": "display_data"
    },
    {
     "data": {
      "application/vnd.jupyter.widget-view+json": {
       "model_id": "3f9f03ed865946c28a74c21685fab28c",
       "version_major": 2,
       "version_minor": 0
      },
      "text/plain": [
       "Validation: |          | 0/? [00:00<?, ?it/s]"
      ]
     },
     "metadata": {},
     "output_type": "display_data"
    },
    {
     "data": {
      "application/vnd.jupyter.widget-view+json": {
       "model_id": "10581aeb6b034f3daf712fa1542f2102",
       "version_major": 2,
       "version_minor": 0
      },
      "text/plain": [
       "Validation: |          | 0/? [00:00<?, ?it/s]"
      ]
     },
     "metadata": {},
     "output_type": "display_data"
    },
    {
     "data": {
      "application/vnd.jupyter.widget-view+json": {
       "model_id": "30950e47cba14a60b15f690c32c06319",
       "version_major": 2,
       "version_minor": 0
      },
      "text/plain": [
       "Validation: |          | 0/? [00:00<?, ?it/s]"
      ]
     },
     "metadata": {},
     "output_type": "display_data"
    },
    {
     "data": {
      "application/vnd.jupyter.widget-view+json": {
       "model_id": "ebd5fbfae9674702a5bb66563ad3b730",
       "version_major": 2,
       "version_minor": 0
      },
      "text/plain": [
       "Validation: |          | 0/? [00:00<?, ?it/s]"
      ]
     },
     "metadata": {},
     "output_type": "display_data"
    },
    {
     "data": {
      "application/vnd.jupyter.widget-view+json": {
       "model_id": "daaff623874a4daaa47d49c8a04aa355",
       "version_major": 2,
       "version_minor": 0
      },
      "text/plain": [
       "Validation: |          | 0/? [00:00<?, ?it/s]"
      ]
     },
     "metadata": {},
     "output_type": "display_data"
    },
    {
     "data": {
      "application/vnd.jupyter.widget-view+json": {
       "model_id": "5ed3f5dc02e34f04987c554a051ae54e",
       "version_major": 2,
       "version_minor": 0
      },
      "text/plain": [
       "Validation: |          | 0/? [00:00<?, ?it/s]"
      ]
     },
     "metadata": {},
     "output_type": "display_data"
    },
    {
     "data": {
      "application/vnd.jupyter.widget-view+json": {
       "model_id": "edd5feb5adf541bab45f75ca97417ed4",
       "version_major": 2,
       "version_minor": 0
      },
      "text/plain": [
       "Validation: |          | 0/? [00:00<?, ?it/s]"
      ]
     },
     "metadata": {},
     "output_type": "display_data"
    },
    {
     "data": {
      "application/vnd.jupyter.widget-view+json": {
       "model_id": "48a2ff03bcaf4f3c9e92ad38bb2b9283",
       "version_major": 2,
       "version_minor": 0
      },
      "text/plain": [
       "Validation: |          | 0/? [00:00<?, ?it/s]"
      ]
     },
     "metadata": {},
     "output_type": "display_data"
    },
    {
     "data": {
      "application/vnd.jupyter.widget-view+json": {
       "model_id": "5104aa401974416db482e9b3452c3d56",
       "version_major": 2,
       "version_minor": 0
      },
      "text/plain": [
       "Validation: |          | 0/? [00:00<?, ?it/s]"
      ]
     },
     "metadata": {},
     "output_type": "display_data"
    },
    {
     "data": {
      "application/vnd.jupyter.widget-view+json": {
       "model_id": "16cd309488b44e4ab83bebbdc307eedb",
       "version_major": 2,
       "version_minor": 0
      },
      "text/plain": [
       "Validation: |          | 0/? [00:00<?, ?it/s]"
      ]
     },
     "metadata": {},
     "output_type": "display_data"
    },
    {
     "data": {
      "application/vnd.jupyter.widget-view+json": {
       "model_id": "21db04c3c67345d2aff9e762b5133be2",
       "version_major": 2,
       "version_minor": 0
      },
      "text/plain": [
       "Validation: |          | 0/? [00:00<?, ?it/s]"
      ]
     },
     "metadata": {},
     "output_type": "display_data"
    },
    {
     "data": {
      "application/vnd.jupyter.widget-view+json": {
       "model_id": "2147391cdf8a40fd87e84f1dd43fe208",
       "version_major": 2,
       "version_minor": 0
      },
      "text/plain": [
       "Validation: |          | 0/? [00:00<?, ?it/s]"
      ]
     },
     "metadata": {},
     "output_type": "display_data"
    },
    {
     "data": {
      "application/vnd.jupyter.widget-view+json": {
       "model_id": "ad1e4cc208f44ac68ce165ad601a034f",
       "version_major": 2,
       "version_minor": 0
      },
      "text/plain": [
       "Validation: |          | 0/? [00:00<?, ?it/s]"
      ]
     },
     "metadata": {},
     "output_type": "display_data"
    },
    {
     "data": {
      "application/vnd.jupyter.widget-view+json": {
       "model_id": "d143cbaf0b2b434fbfb873aa66e0d502",
       "version_major": 2,
       "version_minor": 0
      },
      "text/plain": [
       "Validation: |          | 0/? [00:00<?, ?it/s]"
      ]
     },
     "metadata": {},
     "output_type": "display_data"
    },
    {
     "data": {
      "application/vnd.jupyter.widget-view+json": {
       "model_id": "f5690983d3c14fae832aee00df3512ca",
       "version_major": 2,
       "version_minor": 0
      },
      "text/plain": [
       "Validation: |          | 0/? [00:00<?, ?it/s]"
      ]
     },
     "metadata": {},
     "output_type": "display_data"
    },
    {
     "data": {
      "application/vnd.jupyter.widget-view+json": {
       "model_id": "c7d65d9657134a28a5ef1ad404de5ff5",
       "version_major": 2,
       "version_minor": 0
      },
      "text/plain": [
       "Validation: |          | 0/? [00:00<?, ?it/s]"
      ]
     },
     "metadata": {},
     "output_type": "display_data"
    },
    {
     "data": {
      "application/vnd.jupyter.widget-view+json": {
       "model_id": "3a97f605d09649769c5a65df9f7f4f68",
       "version_major": 2,
       "version_minor": 0
      },
      "text/plain": [
       "Validation: |          | 0/? [00:00<?, ?it/s]"
      ]
     },
     "metadata": {},
     "output_type": "display_data"
    },
    {
     "data": {
      "application/vnd.jupyter.widget-view+json": {
       "model_id": "89a52df82edb4b1b8780e6eb6e695072",
       "version_major": 2,
       "version_minor": 0
      },
      "text/plain": [
       "Testing: |          | 0/? [00:00<?, ?it/s]"
      ]
     },
     "metadata": {},
     "output_type": "display_data"
    },
    {
     "data": {
      "text/html": [
       "<pre style=\"white-space:pre;overflow-x:auto;line-height:normal;font-family:Menlo,'DejaVu Sans Mono',consolas,'Courier New',monospace\">┏━━━━━━━━━━━━━━━━━━━━━━━━━━━┳━━━━━━━━━━━━━━━━━━━━━━━━━━━┓\n",
       "┃<span style=\"font-weight: bold\">        Test metric        </span>┃<span style=\"font-weight: bold\">       DataLoader 0        </span>┃\n",
       "┡━━━━━━━━━━━━━━━━━━━━━━━━━━━╇━━━━━━━━━━━━━━━━━━━━━━━━━━━┩\n",
       "│<span style=\"color: #008080; text-decoration-color: #008080\">         test_loss         </span>│<span style=\"color: #800080; text-decoration-color: #800080\">    0.4379744827747345     </span>│\n",
       "│<span style=\"color: #008080; text-decoration-color: #008080\">         test_rmse         </span>│<span style=\"color: #800080; text-decoration-color: #800080\">    0.6617963910102844     </span>│\n",
       "└───────────────────────────┴───────────────────────────┘\n",
       "</pre>\n"
      ],
      "text/plain": [
       "┏━━━━━━━━━━━━━━━━━━━━━━━━━━━┳━━━━━━━━━━━━━━━━━━━━━━━━━━━┓\n",
       "┃\u001b[1m \u001b[0m\u001b[1m       Test metric       \u001b[0m\u001b[1m \u001b[0m┃\u001b[1m \u001b[0m\u001b[1m      DataLoader 0       \u001b[0m\u001b[1m \u001b[0m┃\n",
       "┡━━━━━━━━━━━━━━━━━━━━━━━━━━━╇━━━━━━━━━━━━━━━━━━━━━━━━━━━┩\n",
       "│\u001b[36m \u001b[0m\u001b[36m        test_loss        \u001b[0m\u001b[36m \u001b[0m│\u001b[35m \u001b[0m\u001b[35m   0.4379744827747345    \u001b[0m\u001b[35m \u001b[0m│\n",
       "│\u001b[36m \u001b[0m\u001b[36m        test_rmse        \u001b[0m\u001b[36m \u001b[0m│\u001b[35m \u001b[0m\u001b[35m   0.6617963910102844    \u001b[0m\u001b[35m \u001b[0m│\n",
       "└───────────────────────────┴───────────────────────────┘\n"
      ]
     },
     "metadata": {},
     "output_type": "display_data"
    },
    {
     "name": "stderr",
     "output_type": "stream",
     "text": [
      "INFO:pytorch_lightning.utilities.rank_zero:GPU available: False, used: False\n",
      "INFO:pytorch_lightning.utilities.rank_zero:TPU available: False, using: 0 TPU cores\n",
      "INFO:pytorch_lightning.utilities.rank_zero:HPU available: False, using: 0 HPUs\n",
      "/usr/local/lib/python3.12/dist-packages/pytorch_lightning/callbacks/model_checkpoint.py:751: Checkpoint directory /content/Chemoinformatics_project/mlp_checkpoints exists and is not empty.\n",
      "INFO:pytorch_lightning.callbacks.model_summary:\n",
      "  | Name      | Type       | Params | Mode \n",
      "-------------------------------------------------\n",
      "0 | network   | Sequential | 239 K  | train\n",
      "1 | criterion | MSELoss    | 0      | train\n",
      "-------------------------------------------------\n",
      "239 K     Trainable params\n",
      "0         Non-trainable params\n",
      "239 K     Total params\n",
      "0.957     Total estimated model params size (MB)\n",
      "15        Modules in train mode\n",
      "0         Modules in eval mode\n"
     ]
    },
    {
     "name": "stdout",
     "output_type": "stream",
     "text": [
      "MLP Test RMSE for ecfp: 0.6618\n",
      "Training MLP model on maccs...\n"
     ]
    },
    {
     "data": {
      "application/vnd.jupyter.widget-view+json": {
       "model_id": "fbec10b2adcc4fb58b5328f0c8de48ab",
       "version_major": 2,
       "version_minor": 0
      },
      "text/plain": [
       "Sanity Checking: |          | 0/? [00:00<?, ?it/s]"
      ]
     },
     "metadata": {},
     "output_type": "display_data"
    },
    {
     "data": {
      "application/vnd.jupyter.widget-view+json": {
       "model_id": "9ed8bfb6e53c45c686f44b5ef0d83a8d",
       "version_major": 2,
       "version_minor": 0
      },
      "text/plain": [
       "Training: |          | 0/? [00:00<?, ?it/s]"
      ]
     },
     "metadata": {},
     "output_type": "display_data"
    },
    {
     "data": {
      "application/vnd.jupyter.widget-view+json": {
       "model_id": "997b44ba02944bf191d7e6fce1f1f1b7",
       "version_major": 2,
       "version_minor": 0
      },
      "text/plain": [
       "Validation: |          | 0/? [00:00<?, ?it/s]"
      ]
     },
     "metadata": {},
     "output_type": "display_data"
    },
    {
     "data": {
      "application/vnd.jupyter.widget-view+json": {
       "model_id": "47c3141be8a84376b41745637a80d07c",
       "version_major": 2,
       "version_minor": 0
      },
      "text/plain": [
       "Validation: |          | 0/? [00:00<?, ?it/s]"
      ]
     },
     "metadata": {},
     "output_type": "display_data"
    },
    {
     "data": {
      "application/vnd.jupyter.widget-view+json": {
       "model_id": "44ae8ec49f8a448ebbdbbc8cafd8d561",
       "version_major": 2,
       "version_minor": 0
      },
      "text/plain": [
       "Validation: |          | 0/? [00:00<?, ?it/s]"
      ]
     },
     "metadata": {},
     "output_type": "display_data"
    },
    {
     "data": {
      "application/vnd.jupyter.widget-view+json": {
       "model_id": "d96257dbdfd9446db5044805752349c6",
       "version_major": 2,
       "version_minor": 0
      },
      "text/plain": [
       "Validation: |          | 0/? [00:00<?, ?it/s]"
      ]
     },
     "metadata": {},
     "output_type": "display_data"
    },
    {
     "data": {
      "application/vnd.jupyter.widget-view+json": {
       "model_id": "1c2057a10056403ead65ca0a48288fe0",
       "version_major": 2,
       "version_minor": 0
      },
      "text/plain": [
       "Validation: |          | 0/? [00:00<?, ?it/s]"
      ]
     },
     "metadata": {},
     "output_type": "display_data"
    },
    {
     "data": {
      "application/vnd.jupyter.widget-view+json": {
       "model_id": "0027800851a94655b33db591ecbfdb32",
       "version_major": 2,
       "version_minor": 0
      },
      "text/plain": [
       "Validation: |          | 0/? [00:00<?, ?it/s]"
      ]
     },
     "metadata": {},
     "output_type": "display_data"
    },
    {
     "data": {
      "application/vnd.jupyter.widget-view+json": {
       "model_id": "d98a0c3457dd405a9424ac5735600b77",
       "version_major": 2,
       "version_minor": 0
      },
      "text/plain": [
       "Validation: |          | 0/? [00:00<?, ?it/s]"
      ]
     },
     "metadata": {},
     "output_type": "display_data"
    },
    {
     "data": {
      "application/vnd.jupyter.widget-view+json": {
       "model_id": "635f80223c2c47caad1d44849dcc464b",
       "version_major": 2,
       "version_minor": 0
      },
      "text/plain": [
       "Validation: |          | 0/? [00:00<?, ?it/s]"
      ]
     },
     "metadata": {},
     "output_type": "display_data"
    },
    {
     "data": {
      "application/vnd.jupyter.widget-view+json": {
       "model_id": "951b62d06c9c455da2531ca38e72264f",
       "version_major": 2,
       "version_minor": 0
      },
      "text/plain": [
       "Validation: |          | 0/? [00:00<?, ?it/s]"
      ]
     },
     "metadata": {},
     "output_type": "display_data"
    },
    {
     "data": {
      "application/vnd.jupyter.widget-view+json": {
       "model_id": "06afab5d1ef34d859f33f3897343569a",
       "version_major": 2,
       "version_minor": 0
      },
      "text/plain": [
       "Validation: |          | 0/? [00:00<?, ?it/s]"
      ]
     },
     "metadata": {},
     "output_type": "display_data"
    },
    {
     "data": {
      "application/vnd.jupyter.widget-view+json": {
       "model_id": "ca6fa3c3e06743c490e55c7d261a6205",
       "version_major": 2,
       "version_minor": 0
      },
      "text/plain": [
       "Validation: |          | 0/? [00:00<?, ?it/s]"
      ]
     },
     "metadata": {},
     "output_type": "display_data"
    },
    {
     "data": {
      "application/vnd.jupyter.widget-view+json": {
       "model_id": "e0445f8532ed40b49cfa0d9bb6efd906",
       "version_major": 2,
       "version_minor": 0
      },
      "text/plain": [
       "Validation: |          | 0/? [00:00<?, ?it/s]"
      ]
     },
     "metadata": {},
     "output_type": "display_data"
    },
    {
     "data": {
      "application/vnd.jupyter.widget-view+json": {
       "model_id": "074bb97cdfca4fb698199c3c8686859a",
       "version_major": 2,
       "version_minor": 0
      },
      "text/plain": [
       "Validation: |          | 0/? [00:00<?, ?it/s]"
      ]
     },
     "metadata": {},
     "output_type": "display_data"
    },
    {
     "data": {
      "application/vnd.jupyter.widget-view+json": {
       "model_id": "608268c097a641808cd368a2b03091a5",
       "version_major": 2,
       "version_minor": 0
      },
      "text/plain": [
       "Validation: |          | 0/? [00:00<?, ?it/s]"
      ]
     },
     "metadata": {},
     "output_type": "display_data"
    },
    {
     "data": {
      "application/vnd.jupyter.widget-view+json": {
       "model_id": "4b70021b1e25476f836494e819f299c1",
       "version_major": 2,
       "version_minor": 0
      },
      "text/plain": [
       "Validation: |          | 0/? [00:00<?, ?it/s]"
      ]
     },
     "metadata": {},
     "output_type": "display_data"
    },
    {
     "data": {
      "application/vnd.jupyter.widget-view+json": {
       "model_id": "d01674815366470bb3a203e2dd382d10",
       "version_major": 2,
       "version_minor": 0
      },
      "text/plain": [
       "Validation: |          | 0/? [00:00<?, ?it/s]"
      ]
     },
     "metadata": {},
     "output_type": "display_data"
    },
    {
     "data": {
      "application/vnd.jupyter.widget-view+json": {
       "model_id": "587927fd8c92487e962d9623a6dc70f1",
       "version_major": 2,
       "version_minor": 0
      },
      "text/plain": [
       "Validation: |          | 0/? [00:00<?, ?it/s]"
      ]
     },
     "metadata": {},
     "output_type": "display_data"
    },
    {
     "data": {
      "application/vnd.jupyter.widget-view+json": {
       "model_id": "52b015e85e584b89890c74ee567fd9f5",
       "version_major": 2,
       "version_minor": 0
      },
      "text/plain": [
       "Validation: |          | 0/? [00:00<?, ?it/s]"
      ]
     },
     "metadata": {},
     "output_type": "display_data"
    },
    {
     "data": {
      "application/vnd.jupyter.widget-view+json": {
       "model_id": "051d858889664b87a9d95fa9e177ce6e",
       "version_major": 2,
       "version_minor": 0
      },
      "text/plain": [
       "Validation: |          | 0/? [00:00<?, ?it/s]"
      ]
     },
     "metadata": {},
     "output_type": "display_data"
    },
    {
     "data": {
      "application/vnd.jupyter.widget-view+json": {
       "model_id": "f6afc5774705497187bec2323f574fd4",
       "version_major": 2,
       "version_minor": 0
      },
      "text/plain": [
       "Validation: |          | 0/? [00:00<?, ?it/s]"
      ]
     },
     "metadata": {},
     "output_type": "display_data"
    },
    {
     "data": {
      "application/vnd.jupyter.widget-view+json": {
       "model_id": "e190a6aed45f4444a5faab2aba47244c",
       "version_major": 2,
       "version_minor": 0
      },
      "text/plain": [
       "Validation: |          | 0/? [00:00<?, ?it/s]"
      ]
     },
     "metadata": {},
     "output_type": "display_data"
    },
    {
     "data": {
      "application/vnd.jupyter.widget-view+json": {
       "model_id": "8dd1feeac18643a3b8763bb64b263dfe",
       "version_major": 2,
       "version_minor": 0
      },
      "text/plain": [
       "Validation: |          | 0/? [00:00<?, ?it/s]"
      ]
     },
     "metadata": {},
     "output_type": "display_data"
    },
    {
     "data": {
      "application/vnd.jupyter.widget-view+json": {
       "model_id": "aa05614a26f5448d8e79af5688830ed8",
       "version_major": 2,
       "version_minor": 0
      },
      "text/plain": [
       "Validation: |          | 0/? [00:00<?, ?it/s]"
      ]
     },
     "metadata": {},
     "output_type": "display_data"
    },
    {
     "data": {
      "application/vnd.jupyter.widget-view+json": {
       "model_id": "8a82c79b4ebd46d18bed0310780e5bcc",
       "version_major": 2,
       "version_minor": 0
      },
      "text/plain": [
       "Validation: |          | 0/? [00:00<?, ?it/s]"
      ]
     },
     "metadata": {},
     "output_type": "display_data"
    },
    {
     "data": {
      "application/vnd.jupyter.widget-view+json": {
       "model_id": "3c1a9f40a2ed4c7f810f6bb222420e68",
       "version_major": 2,
       "version_minor": 0
      },
      "text/plain": [
       "Validation: |          | 0/? [00:00<?, ?it/s]"
      ]
     },
     "metadata": {},
     "output_type": "display_data"
    },
    {
     "data": {
      "application/vnd.jupyter.widget-view+json": {
       "model_id": "00048dd3819f4413a31ec922f49d69df",
       "version_major": 2,
       "version_minor": 0
      },
      "text/plain": [
       "Validation: |          | 0/? [00:00<?, ?it/s]"
      ]
     },
     "metadata": {},
     "output_type": "display_data"
    },
    {
     "data": {
      "application/vnd.jupyter.widget-view+json": {
       "model_id": "6fe55b74531f4bdab1e170d7682dafce",
       "version_major": 2,
       "version_minor": 0
      },
      "text/plain": [
       "Validation: |          | 0/? [00:00<?, ?it/s]"
      ]
     },
     "metadata": {},
     "output_type": "display_data"
    },
    {
     "data": {
      "application/vnd.jupyter.widget-view+json": {
       "model_id": "7f18b2e407b348f1a1d584e915f7889e",
       "version_major": 2,
       "version_minor": 0
      },
      "text/plain": [
       "Validation: |          | 0/? [00:00<?, ?it/s]"
      ]
     },
     "metadata": {},
     "output_type": "display_data"
    },
    {
     "data": {
      "application/vnd.jupyter.widget-view+json": {
       "model_id": "12941f3ef00142aab337ce4cd4f3732a",
       "version_major": 2,
       "version_minor": 0
      },
      "text/plain": [
       "Validation: |          | 0/? [00:00<?, ?it/s]"
      ]
     },
     "metadata": {},
     "output_type": "display_data"
    },
    {
     "data": {
      "application/vnd.jupyter.widget-view+json": {
       "model_id": "230c9c09758646e9b45f4ec512aec07a",
       "version_major": 2,
       "version_minor": 0
      },
      "text/plain": [
       "Validation: |          | 0/? [00:00<?, ?it/s]"
      ]
     },
     "metadata": {},
     "output_type": "display_data"
    },
    {
     "data": {
      "application/vnd.jupyter.widget-view+json": {
       "model_id": "60cf9042b554482dad66258ec9c5835c",
       "version_major": 2,
       "version_minor": 0
      },
      "text/plain": [
       "Validation: |          | 0/? [00:00<?, ?it/s]"
      ]
     },
     "metadata": {},
     "output_type": "display_data"
    },
    {
     "data": {
      "application/vnd.jupyter.widget-view+json": {
       "model_id": "861d20f5b45340268e7882c33d1c4af7",
       "version_major": 2,
       "version_minor": 0
      },
      "text/plain": [
       "Validation: |          | 0/? [00:00<?, ?it/s]"
      ]
     },
     "metadata": {},
     "output_type": "display_data"
    },
    {
     "data": {
      "application/vnd.jupyter.widget-view+json": {
       "model_id": "3fc752cc3f334c43b170c9bd16ebcdf1",
       "version_major": 2,
       "version_minor": 0
      },
      "text/plain": [
       "Validation: |          | 0/? [00:00<?, ?it/s]"
      ]
     },
     "metadata": {},
     "output_type": "display_data"
    },
    {
     "data": {
      "application/vnd.jupyter.widget-view+json": {
       "model_id": "72658078699d482d9687161f6f6ddc09",
       "version_major": 2,
       "version_minor": 0
      },
      "text/plain": [
       "Validation: |          | 0/? [00:00<?, ?it/s]"
      ]
     },
     "metadata": {},
     "output_type": "display_data"
    },
    {
     "data": {
      "application/vnd.jupyter.widget-view+json": {
       "model_id": "2d5f784f0a574bc583d56877a9ce7787",
       "version_major": 2,
       "version_minor": 0
      },
      "text/plain": [
       "Validation: |          | 0/? [00:00<?, ?it/s]"
      ]
     },
     "metadata": {},
     "output_type": "display_data"
    },
    {
     "data": {
      "application/vnd.jupyter.widget-view+json": {
       "model_id": "ca8fd753a82d48c29aa4936ecb777aec",
       "version_major": 2,
       "version_minor": 0
      },
      "text/plain": [
       "Validation: |          | 0/? [00:00<?, ?it/s]"
      ]
     },
     "metadata": {},
     "output_type": "display_data"
    },
    {
     "data": {
      "application/vnd.jupyter.widget-view+json": {
       "model_id": "138641cff1d240fda5c1e081c8bccb07",
       "version_major": 2,
       "version_minor": 0
      },
      "text/plain": [
       "Validation: |          | 0/? [00:00<?, ?it/s]"
      ]
     },
     "metadata": {},
     "output_type": "display_data"
    },
    {
     "data": {
      "application/vnd.jupyter.widget-view+json": {
       "model_id": "bfbf614a72d44da494c5bb5f325b89a0",
       "version_major": 2,
       "version_minor": 0
      },
      "text/plain": [
       "Validation: |          | 0/? [00:00<?, ?it/s]"
      ]
     },
     "metadata": {},
     "output_type": "display_data"
    },
    {
     "data": {
      "application/vnd.jupyter.widget-view+json": {
       "model_id": "ca139245720e4169b0aebb0df47fed6a",
       "version_major": 2,
       "version_minor": 0
      },
      "text/plain": [
       "Validation: |          | 0/? [00:00<?, ?it/s]"
      ]
     },
     "metadata": {},
     "output_type": "display_data"
    },
    {
     "data": {
      "application/vnd.jupyter.widget-view+json": {
       "model_id": "5d790b4acc9a4b57b6afca7c2d0910c8",
       "version_major": 2,
       "version_minor": 0
      },
      "text/plain": [
       "Validation: |          | 0/? [00:00<?, ?it/s]"
      ]
     },
     "metadata": {},
     "output_type": "display_data"
    },
    {
     "data": {
      "application/vnd.jupyter.widget-view+json": {
       "model_id": "b68290006d5a4c589b363193042eb4a9",
       "version_major": 2,
       "version_minor": 0
      },
      "text/plain": [
       "Validation: |          | 0/? [00:00<?, ?it/s]"
      ]
     },
     "metadata": {},
     "output_type": "display_data"
    },
    {
     "data": {
      "application/vnd.jupyter.widget-view+json": {
       "model_id": "7aaac92b6d09482cb4dde46ac8f0f1bb",
       "version_major": 2,
       "version_minor": 0
      },
      "text/plain": [
       "Validation: |          | 0/? [00:00<?, ?it/s]"
      ]
     },
     "metadata": {},
     "output_type": "display_data"
    },
    {
     "data": {
      "application/vnd.jupyter.widget-view+json": {
       "model_id": "6f2e822ec64247289e583852aaeded8b",
       "version_major": 2,
       "version_minor": 0
      },
      "text/plain": [
       "Validation: |          | 0/? [00:00<?, ?it/s]"
      ]
     },
     "metadata": {},
     "output_type": "display_data"
    },
    {
     "data": {
      "application/vnd.jupyter.widget-view+json": {
       "model_id": "8f7d3fe92ce14002a844f0fb1114816e",
       "version_major": 2,
       "version_minor": 0
      },
      "text/plain": [
       "Validation: |          | 0/? [00:00<?, ?it/s]"
      ]
     },
     "metadata": {},
     "output_type": "display_data"
    },
    {
     "data": {
      "application/vnd.jupyter.widget-view+json": {
       "model_id": "45546578930d45a188fd50591bd4d845",
       "version_major": 2,
       "version_minor": 0
      },
      "text/plain": [
       "Validation: |          | 0/? [00:00<?, ?it/s]"
      ]
     },
     "metadata": {},
     "output_type": "display_data"
    },
    {
     "data": {
      "application/vnd.jupyter.widget-view+json": {
       "model_id": "adcce9d1db6d42aeb1b7f14e3172f338",
       "version_major": 2,
       "version_minor": 0
      },
      "text/plain": [
       "Validation: |          | 0/? [00:00<?, ?it/s]"
      ]
     },
     "metadata": {},
     "output_type": "display_data"
    },
    {
     "data": {
      "application/vnd.jupyter.widget-view+json": {
       "model_id": "0be8fe0e21b44cf3a8a5f1ecabf7edcf",
       "version_major": 2,
       "version_minor": 0
      },
      "text/plain": [
       "Validation: |          | 0/? [00:00<?, ?it/s]"
      ]
     },
     "metadata": {},
     "output_type": "display_data"
    },
    {
     "data": {
      "application/vnd.jupyter.widget-view+json": {
       "model_id": "7f29c6e373fe49e3bb80f79a6ddc1bb7",
       "version_major": 2,
       "version_minor": 0
      },
      "text/plain": [
       "Validation: |          | 0/? [00:00<?, ?it/s]"
      ]
     },
     "metadata": {},
     "output_type": "display_data"
    },
    {
     "data": {
      "application/vnd.jupyter.widget-view+json": {
       "model_id": "31b7674a2af14311b0506a9d9cbfc70a",
       "version_major": 2,
       "version_minor": 0
      },
      "text/plain": [
       "Validation: |          | 0/? [00:00<?, ?it/s]"
      ]
     },
     "metadata": {},
     "output_type": "display_data"
    },
    {
     "data": {
      "application/vnd.jupyter.widget-view+json": {
       "model_id": "7458cd4413994c318f1e8f52030667f1",
       "version_major": 2,
       "version_minor": 0
      },
      "text/plain": [
       "Validation: |          | 0/? [00:00<?, ?it/s]"
      ]
     },
     "metadata": {},
     "output_type": "display_data"
    },
    {
     "data": {
      "application/vnd.jupyter.widget-view+json": {
       "model_id": "df902a2b1a6548fb9b0316ed1c96d2fe",
       "version_major": 2,
       "version_minor": 0
      },
      "text/plain": [
       "Testing: |          | 0/? [00:00<?, ?it/s]"
      ]
     },
     "metadata": {},
     "output_type": "display_data"
    },
    {
     "data": {
      "text/html": [
       "<pre style=\"white-space:pre;overflow-x:auto;line-height:normal;font-family:Menlo,'DejaVu Sans Mono',consolas,'Courier New',monospace\">┏━━━━━━━━━━━━━━━━━━━━━━━━━━━┳━━━━━━━━━━━━━━━━━━━━━━━━━━━┓\n",
       "┃<span style=\"font-weight: bold\">        Test metric        </span>┃<span style=\"font-weight: bold\">       DataLoader 0        </span>┃\n",
       "┡━━━━━━━━━━━━━━━━━━━━━━━━━━━╇━━━━━━━━━━━━━━━━━━━━━━━━━━━┩\n",
       "│<span style=\"color: #008080; text-decoration-color: #008080\">         test_loss         </span>│<span style=\"color: #800080; text-decoration-color: #800080\">    0.6848549246788025     </span>│\n",
       "│<span style=\"color: #008080; text-decoration-color: #008080\">         test_rmse         </span>│<span style=\"color: #800080; text-decoration-color: #800080\">    0.8275595903396606     </span>│\n",
       "└───────────────────────────┴───────────────────────────┘\n",
       "</pre>\n"
      ],
      "text/plain": [
       "┏━━━━━━━━━━━━━━━━━━━━━━━━━━━┳━━━━━━━━━━━━━━━━━━━━━━━━━━━┓\n",
       "┃\u001b[1m \u001b[0m\u001b[1m       Test metric       \u001b[0m\u001b[1m \u001b[0m┃\u001b[1m \u001b[0m\u001b[1m      DataLoader 0       \u001b[0m\u001b[1m \u001b[0m┃\n",
       "┡━━━━━━━━━━━━━━━━━━━━━━━━━━━╇━━━━━━━━━━━━━━━━━━━━━━━━━━━┩\n",
       "│\u001b[36m \u001b[0m\u001b[36m        test_loss        \u001b[0m\u001b[36m \u001b[0m│\u001b[35m \u001b[0m\u001b[35m   0.6848549246788025    \u001b[0m\u001b[35m \u001b[0m│\n",
       "│\u001b[36m \u001b[0m\u001b[36m        test_rmse        \u001b[0m\u001b[36m \u001b[0m│\u001b[35m \u001b[0m\u001b[35m   0.8275595903396606    \u001b[0m\u001b[35m \u001b[0m│\n",
       "└───────────────────────────┴───────────────────────────┘\n"
      ]
     },
     "metadata": {},
     "output_type": "display_data"
    },
    {
     "name": "stderr",
     "output_type": "stream",
     "text": [
      "INFO:pytorch_lightning.utilities.rank_zero:GPU available: False, used: False\n",
      "INFO:pytorch_lightning.utilities.rank_zero:TPU available: False, using: 0 TPU cores\n",
      "INFO:pytorch_lightning.utilities.rank_zero:HPU available: False, using: 0 HPUs\n",
      "/usr/local/lib/python3.12/dist-packages/pytorch_lightning/callbacks/model_checkpoint.py:751: Checkpoint directory /content/Chemoinformatics_project/mlp_checkpoints exists and is not empty.\n",
      "INFO:pytorch_lightning.callbacks.model_summary:\n",
      "  | Name      | Type       | Params | Mode \n",
      "-------------------------------------------------\n",
      "0 | network   | Sequential | 857 K  | train\n",
      "1 | criterion | MSELoss    | 0      | train\n",
      "-------------------------------------------------\n",
      "857 K     Trainable params\n",
      "0         Non-trainable params\n",
      "857 K     Total params\n",
      "3.431     Total estimated model params size (MB)\n",
      "15        Modules in train mode\n",
      "0         Modules in eval mode\n"
     ]
    },
    {
     "name": "stdout",
     "output_type": "stream",
     "text": [
      "MLP Test RMSE for maccs: 0.8276\n",
      "Training MLP model on combined...\n"
     ]
    },
    {
     "data": {
      "application/vnd.jupyter.widget-view+json": {
       "model_id": "e8607add714b432884b2faa8daffcdbe",
       "version_major": 2,
       "version_minor": 0
      },
      "text/plain": [
       "Sanity Checking: |          | 0/? [00:00<?, ?it/s]"
      ]
     },
     "metadata": {},
     "output_type": "display_data"
    },
    {
     "data": {
      "application/vnd.jupyter.widget-view+json": {
       "model_id": "9220cc34e6554250a3f7cc061685715e",
       "version_major": 2,
       "version_minor": 0
      },
      "text/plain": [
       "Training: |          | 0/? [00:00<?, ?it/s]"
      ]
     },
     "metadata": {},
     "output_type": "display_data"
    },
    {
     "data": {
      "application/vnd.jupyter.widget-view+json": {
       "model_id": "0b7d5c9418aa475089e3f40310704fde",
       "version_major": 2,
       "version_minor": 0
      },
      "text/plain": [
       "Validation: |          | 0/? [00:00<?, ?it/s]"
      ]
     },
     "metadata": {},
     "output_type": "display_data"
    },
    {
     "data": {
      "application/vnd.jupyter.widget-view+json": {
       "model_id": "580233e8957941388e6a162d8c82e964",
       "version_major": 2,
       "version_minor": 0
      },
      "text/plain": [
       "Validation: |          | 0/? [00:00<?, ?it/s]"
      ]
     },
     "metadata": {},
     "output_type": "display_data"
    },
    {
     "data": {
      "application/vnd.jupyter.widget-view+json": {
       "model_id": "976e76e8977f4b5ab70e3bfdb74eab21",
       "version_major": 2,
       "version_minor": 0
      },
      "text/plain": [
       "Validation: |          | 0/? [00:00<?, ?it/s]"
      ]
     },
     "metadata": {},
     "output_type": "display_data"
    },
    {
     "data": {
      "application/vnd.jupyter.widget-view+json": {
       "model_id": "349485092e964f559ac9ef572aafd11a",
       "version_major": 2,
       "version_minor": 0
      },
      "text/plain": [
       "Validation: |          | 0/? [00:00<?, ?it/s]"
      ]
     },
     "metadata": {},
     "output_type": "display_data"
    },
    {
     "data": {
      "application/vnd.jupyter.widget-view+json": {
       "model_id": "f596e05ed68a4b65b7ab5fd87ee4d3ff",
       "version_major": 2,
       "version_minor": 0
      },
      "text/plain": [
       "Validation: |          | 0/? [00:00<?, ?it/s]"
      ]
     },
     "metadata": {},
     "output_type": "display_data"
    },
    {
     "data": {
      "application/vnd.jupyter.widget-view+json": {
       "model_id": "56f4b08e6b474b778e03f40fe8504758",
       "version_major": 2,
       "version_minor": 0
      },
      "text/plain": [
       "Validation: |          | 0/? [00:00<?, ?it/s]"
      ]
     },
     "metadata": {},
     "output_type": "display_data"
    },
    {
     "data": {
      "application/vnd.jupyter.widget-view+json": {
       "model_id": "a53dd39179d143f89dff65ce632203bc",
       "version_major": 2,
       "version_minor": 0
      },
      "text/plain": [
       "Validation: |          | 0/? [00:00<?, ?it/s]"
      ]
     },
     "metadata": {},
     "output_type": "display_data"
    },
    {
     "data": {
      "application/vnd.jupyter.widget-view+json": {
       "model_id": "7fc3e198fd724a6c9db878dd6d2b710f",
       "version_major": 2,
       "version_minor": 0
      },
      "text/plain": [
       "Validation: |          | 0/? [00:00<?, ?it/s]"
      ]
     },
     "metadata": {},
     "output_type": "display_data"
    },
    {
     "data": {
      "application/vnd.jupyter.widget-view+json": {
       "model_id": "e9427c54f0544e0685146b586713d926",
       "version_major": 2,
       "version_minor": 0
      },
      "text/plain": [
       "Validation: |          | 0/? [00:00<?, ?it/s]"
      ]
     },
     "metadata": {},
     "output_type": "display_data"
    },
    {
     "data": {
      "application/vnd.jupyter.widget-view+json": {
       "model_id": "e8840ead4bff465bbcd2297f744b3726",
       "version_major": 2,
       "version_minor": 0
      },
      "text/plain": [
       "Validation: |          | 0/? [00:00<?, ?it/s]"
      ]
     },
     "metadata": {},
     "output_type": "display_data"
    },
    {
     "data": {
      "application/vnd.jupyter.widget-view+json": {
       "model_id": "51607240acf24adb892a9d349a387b9f",
       "version_major": 2,
       "version_minor": 0
      },
      "text/plain": [
       "Validation: |          | 0/? [00:00<?, ?it/s]"
      ]
     },
     "metadata": {},
     "output_type": "display_data"
    },
    {
     "data": {
      "application/vnd.jupyter.widget-view+json": {
       "model_id": "3a968b01452e4fc7b34b5d28b62a0651",
       "version_major": 2,
       "version_minor": 0
      },
      "text/plain": [
       "Validation: |          | 0/? [00:00<?, ?it/s]"
      ]
     },
     "metadata": {},
     "output_type": "display_data"
    },
    {
     "data": {
      "application/vnd.jupyter.widget-view+json": {
       "model_id": "fd64d160c4bf4d36beabf8d9ecb173f4",
       "version_major": 2,
       "version_minor": 0
      },
      "text/plain": [
       "Validation: |          | 0/? [00:00<?, ?it/s]"
      ]
     },
     "metadata": {},
     "output_type": "display_data"
    },
    {
     "data": {
      "application/vnd.jupyter.widget-view+json": {
       "model_id": "082c770ab6dd45de9c4d151be18423e7",
       "version_major": 2,
       "version_minor": 0
      },
      "text/plain": [
       "Validation: |          | 0/? [00:00<?, ?it/s]"
      ]
     },
     "metadata": {},
     "output_type": "display_data"
    },
    {
     "data": {
      "application/vnd.jupyter.widget-view+json": {
       "model_id": "a0fb11d06a4c40989dd4dc62ae31499b",
       "version_major": 2,
       "version_minor": 0
      },
      "text/plain": [
       "Validation: |          | 0/? [00:00<?, ?it/s]"
      ]
     },
     "metadata": {},
     "output_type": "display_data"
    },
    {
     "data": {
      "application/vnd.jupyter.widget-view+json": {
       "model_id": "13bf79c5f8da41e798ea372976d13d0d",
       "version_major": 2,
       "version_minor": 0
      },
      "text/plain": [
       "Validation: |          | 0/? [00:00<?, ?it/s]"
      ]
     },
     "metadata": {},
     "output_type": "display_data"
    },
    {
     "data": {
      "application/vnd.jupyter.widget-view+json": {
       "model_id": "0be83efc57fd4db78916295af75c94de",
       "version_major": 2,
       "version_minor": 0
      },
      "text/plain": [
       "Validation: |          | 0/? [00:00<?, ?it/s]"
      ]
     },
     "metadata": {},
     "output_type": "display_data"
    },
    {
     "data": {
      "application/vnd.jupyter.widget-view+json": {
       "model_id": "5c11ad89ef504884897dfd0f151d1a40",
       "version_major": 2,
       "version_minor": 0
      },
      "text/plain": [
       "Validation: |          | 0/? [00:00<?, ?it/s]"
      ]
     },
     "metadata": {},
     "output_type": "display_data"
    },
    {
     "data": {
      "application/vnd.jupyter.widget-view+json": {
       "model_id": "a4cc1136c6694e69889248e629035075",
       "version_major": 2,
       "version_minor": 0
      },
      "text/plain": [
       "Validation: |          | 0/? [00:00<?, ?it/s]"
      ]
     },
     "metadata": {},
     "output_type": "display_data"
    },
    {
     "data": {
      "application/vnd.jupyter.widget-view+json": {
       "model_id": "5ae87b04c98a4221b159468e35984bac",
       "version_major": 2,
       "version_minor": 0
      },
      "text/plain": [
       "Validation: |          | 0/? [00:00<?, ?it/s]"
      ]
     },
     "metadata": {},
     "output_type": "display_data"
    },
    {
     "data": {
      "application/vnd.jupyter.widget-view+json": {
       "model_id": "02f9c56070d441a7b5b79e1b9da198eb",
       "version_major": 2,
       "version_minor": 0
      },
      "text/plain": [
       "Validation: |          | 0/? [00:00<?, ?it/s]"
      ]
     },
     "metadata": {},
     "output_type": "display_data"
    },
    {
     "data": {
      "application/vnd.jupyter.widget-view+json": {
       "model_id": "ce93a85f3d314baab50669e631c70c83",
       "version_major": 2,
       "version_minor": 0
      },
      "text/plain": [
       "Validation: |          | 0/? [00:00<?, ?it/s]"
      ]
     },
     "metadata": {},
     "output_type": "display_data"
    },
    {
     "data": {
      "application/vnd.jupyter.widget-view+json": {
       "model_id": "1ef19497608545fab5c314932bb79326",
       "version_major": 2,
       "version_minor": 0
      },
      "text/plain": [
       "Validation: |          | 0/? [00:00<?, ?it/s]"
      ]
     },
     "metadata": {},
     "output_type": "display_data"
    },
    {
     "data": {
      "application/vnd.jupyter.widget-view+json": {
       "model_id": "7ba9e9248f14483aa163ea671fe93469",
       "version_major": 2,
       "version_minor": 0
      },
      "text/plain": [
       "Validation: |          | 0/? [00:00<?, ?it/s]"
      ]
     },
     "metadata": {},
     "output_type": "display_data"
    },
    {
     "data": {
      "application/vnd.jupyter.widget-view+json": {
       "model_id": "5e24f5963ec547eb94f718efd1d85978",
       "version_major": 2,
       "version_minor": 0
      },
      "text/plain": [
       "Validation: |          | 0/? [00:00<?, ?it/s]"
      ]
     },
     "metadata": {},
     "output_type": "display_data"
    },
    {
     "data": {
      "application/vnd.jupyter.widget-view+json": {
       "model_id": "92c60bb8bbba4e85a3025f1c7a75a0ec",
       "version_major": 2,
       "version_minor": 0
      },
      "text/plain": [
       "Validation: |          | 0/? [00:00<?, ?it/s]"
      ]
     },
     "metadata": {},
     "output_type": "display_data"
    },
    {
     "data": {
      "application/vnd.jupyter.widget-view+json": {
       "model_id": "8f82a9fe95104ab4aed936f11524f3a4",
       "version_major": 2,
       "version_minor": 0
      },
      "text/plain": [
       "Validation: |          | 0/? [00:00<?, ?it/s]"
      ]
     },
     "metadata": {},
     "output_type": "display_data"
    },
    {
     "data": {
      "application/vnd.jupyter.widget-view+json": {
       "model_id": "46c2d183320744359e7db5badc6c29f8",
       "version_major": 2,
       "version_minor": 0
      },
      "text/plain": [
       "Validation: |          | 0/? [00:00<?, ?it/s]"
      ]
     },
     "metadata": {},
     "output_type": "display_data"
    },
    {
     "data": {
      "application/vnd.jupyter.widget-view+json": {
       "model_id": "2530df7cc1004351990f716fc2fbde6f",
       "version_major": 2,
       "version_minor": 0
      },
      "text/plain": [
       "Validation: |          | 0/? [00:00<?, ?it/s]"
      ]
     },
     "metadata": {},
     "output_type": "display_data"
    },
    {
     "data": {
      "application/vnd.jupyter.widget-view+json": {
       "model_id": "b60a89201ff94f67aa0a016bbfe2317c",
       "version_major": 2,
       "version_minor": 0
      },
      "text/plain": [
       "Validation: |          | 0/? [00:00<?, ?it/s]"
      ]
     },
     "metadata": {},
     "output_type": "display_data"
    },
    {
     "data": {
      "application/vnd.jupyter.widget-view+json": {
       "model_id": "6a673cb1072b4bc0b5b520a8b82a6345",
       "version_major": 2,
       "version_minor": 0
      },
      "text/plain": [
       "Validation: |          | 0/? [00:00<?, ?it/s]"
      ]
     },
     "metadata": {},
     "output_type": "display_data"
    },
    {
     "data": {
      "application/vnd.jupyter.widget-view+json": {
       "model_id": "25c44e0cb12844969bfa2fc525ac2ea2",
       "version_major": 2,
       "version_minor": 0
      },
      "text/plain": [
       "Validation: |          | 0/? [00:00<?, ?it/s]"
      ]
     },
     "metadata": {},
     "output_type": "display_data"
    },
    {
     "data": {
      "application/vnd.jupyter.widget-view+json": {
       "model_id": "2cc76abff2f44029a8cc2c336a8bee2d",
       "version_major": 2,
       "version_minor": 0
      },
      "text/plain": [
       "Validation: |          | 0/? [00:00<?, ?it/s]"
      ]
     },
     "metadata": {},
     "output_type": "display_data"
    },
    {
     "data": {
      "application/vnd.jupyter.widget-view+json": {
       "model_id": "2f7b3b901773490a92a5b3b83c6c9e54",
       "version_major": 2,
       "version_minor": 0
      },
      "text/plain": [
       "Validation: |          | 0/? [00:00<?, ?it/s]"
      ]
     },
     "metadata": {},
     "output_type": "display_data"
    },
    {
     "data": {
      "application/vnd.jupyter.widget-view+json": {
       "model_id": "af8f90fd2bac4845820dec975536ff8d",
       "version_major": 2,
       "version_minor": 0
      },
      "text/plain": [
       "Validation: |          | 0/? [00:00<?, ?it/s]"
      ]
     },
     "metadata": {},
     "output_type": "display_data"
    },
    {
     "data": {
      "application/vnd.jupyter.widget-view+json": {
       "model_id": "d2f14b4784a34bd88fb6844147720509",
       "version_major": 2,
       "version_minor": 0
      },
      "text/plain": [
       "Validation: |          | 0/? [00:00<?, ?it/s]"
      ]
     },
     "metadata": {},
     "output_type": "display_data"
    },
    {
     "data": {
      "application/vnd.jupyter.widget-view+json": {
       "model_id": "2757525f3aa04691b2a25e123340f5de",
       "version_major": 2,
       "version_minor": 0
      },
      "text/plain": [
       "Validation: |          | 0/? [00:00<?, ?it/s]"
      ]
     },
     "metadata": {},
     "output_type": "display_data"
    },
    {
     "data": {
      "application/vnd.jupyter.widget-view+json": {
       "model_id": "ca462413e2f44882ba981d2cc6d384e6",
       "version_major": 2,
       "version_minor": 0
      },
      "text/plain": [
       "Validation: |          | 0/? [00:00<?, ?it/s]"
      ]
     },
     "metadata": {},
     "output_type": "display_data"
    },
    {
     "data": {
      "application/vnd.jupyter.widget-view+json": {
       "model_id": "e4ff38e8dabc494d9467a12d72df4aaa",
       "version_major": 2,
       "version_minor": 0
      },
      "text/plain": [
       "Validation: |          | 0/? [00:00<?, ?it/s]"
      ]
     },
     "metadata": {},
     "output_type": "display_data"
    },
    {
     "data": {
      "application/vnd.jupyter.widget-view+json": {
       "model_id": "db5a4072eb81423abf472fc235914949",
       "version_major": 2,
       "version_minor": 0
      },
      "text/plain": [
       "Validation: |          | 0/? [00:00<?, ?it/s]"
      ]
     },
     "metadata": {},
     "output_type": "display_data"
    },
    {
     "data": {
      "application/vnd.jupyter.widget-view+json": {
       "model_id": "356e478b29e146e6b265cfbf9c0dfb12",
       "version_major": 2,
       "version_minor": 0
      },
      "text/plain": [
       "Validation: |          | 0/? [00:00<?, ?it/s]"
      ]
     },
     "metadata": {},
     "output_type": "display_data"
    },
    {
     "data": {
      "application/vnd.jupyter.widget-view+json": {
       "model_id": "9eecc99f5cdf40ae9eadad86f1009303",
       "version_major": 2,
       "version_minor": 0
      },
      "text/plain": [
       "Validation: |          | 0/? [00:00<?, ?it/s]"
      ]
     },
     "metadata": {},
     "output_type": "display_data"
    },
    {
     "data": {
      "application/vnd.jupyter.widget-view+json": {
       "model_id": "ebdb7d010fc64a4b9af3e47fab99cf0b",
       "version_major": 2,
       "version_minor": 0
      },
      "text/plain": [
       "Validation: |          | 0/? [00:00<?, ?it/s]"
      ]
     },
     "metadata": {},
     "output_type": "display_data"
    },
    {
     "data": {
      "application/vnd.jupyter.widget-view+json": {
       "model_id": "77785eeffa6b42fd8477b5c401b98d33",
       "version_major": 2,
       "version_minor": 0
      },
      "text/plain": [
       "Validation: |          | 0/? [00:00<?, ?it/s]"
      ]
     },
     "metadata": {},
     "output_type": "display_data"
    },
    {
     "data": {
      "application/vnd.jupyter.widget-view+json": {
       "model_id": "1d1140e8f3bd466fba0d32a644dc36ec",
       "version_major": 2,
       "version_minor": 0
      },
      "text/plain": [
       "Validation: |          | 0/? [00:00<?, ?it/s]"
      ]
     },
     "metadata": {},
     "output_type": "display_data"
    },
    {
     "data": {
      "application/vnd.jupyter.widget-view+json": {
       "model_id": "9002597890694b2abf7238ddb663c1e5",
       "version_major": 2,
       "version_minor": 0
      },
      "text/plain": [
       "Validation: |          | 0/? [00:00<?, ?it/s]"
      ]
     },
     "metadata": {},
     "output_type": "display_data"
    },
    {
     "data": {
      "application/vnd.jupyter.widget-view+json": {
       "model_id": "9b0d6826b0124a549221ef1fb03ef8c8",
       "version_major": 2,
       "version_minor": 0
      },
      "text/plain": [
       "Validation: |          | 0/? [00:00<?, ?it/s]"
      ]
     },
     "metadata": {},
     "output_type": "display_data"
    },
    {
     "data": {
      "application/vnd.jupyter.widget-view+json": {
       "model_id": "5123cf81a6d04f4185951b3dc9b5dc8c",
       "version_major": 2,
       "version_minor": 0
      },
      "text/plain": [
       "Validation: |          | 0/? [00:00<?, ?it/s]"
      ]
     },
     "metadata": {},
     "output_type": "display_data"
    },
    {
     "data": {
      "application/vnd.jupyter.widget-view+json": {
       "model_id": "2e03558f660c495dbfb5329331978b06",
       "version_major": 2,
       "version_minor": 0
      },
      "text/plain": [
       "Validation: |          | 0/? [00:00<?, ?it/s]"
      ]
     },
     "metadata": {},
     "output_type": "display_data"
    },
    {
     "data": {
      "application/vnd.jupyter.widget-view+json": {
       "model_id": "db20bfae45dc40dab120d78272ab844b",
       "version_major": 2,
       "version_minor": 0
      },
      "text/plain": [
       "Validation: |          | 0/? [00:00<?, ?it/s]"
      ]
     },
     "metadata": {},
     "output_type": "display_data"
    },
    {
     "data": {
      "application/vnd.jupyter.widget-view+json": {
       "model_id": "0d41040ec04e439698d955357c496e58",
       "version_major": 2,
       "version_minor": 0
      },
      "text/plain": [
       "Validation: |          | 0/? [00:00<?, ?it/s]"
      ]
     },
     "metadata": {},
     "output_type": "display_data"
    },
    {
     "data": {
      "application/vnd.jupyter.widget-view+json": {
       "model_id": "f2ae71dd18324862b90b7001da8957fc",
       "version_major": 2,
       "version_minor": 0
      },
      "text/plain": [
       "Validation: |          | 0/? [00:00<?, ?it/s]"
      ]
     },
     "metadata": {},
     "output_type": "display_data"
    },
    {
     "data": {
      "application/vnd.jupyter.widget-view+json": {
       "model_id": "2fc5f749b25a4fdcbccb9ba017322f9f",
       "version_major": 2,
       "version_minor": 0
      },
      "text/plain": [
       "Validation: |          | 0/? [00:00<?, ?it/s]"
      ]
     },
     "metadata": {},
     "output_type": "display_data"
    },
    {
     "data": {
      "application/vnd.jupyter.widget-view+json": {
       "model_id": "63dc59da9053443b929b2423e62e1a40",
       "version_major": 2,
       "version_minor": 0
      },
      "text/plain": [
       "Validation: |          | 0/? [00:00<?, ?it/s]"
      ]
     },
     "metadata": {},
     "output_type": "display_data"
    },
    {
     "data": {
      "application/vnd.jupyter.widget-view+json": {
       "model_id": "2fab6fe3f61646e58f0f0bd88437b8d7",
       "version_major": 2,
       "version_minor": 0
      },
      "text/plain": [
       "Validation: |          | 0/? [00:00<?, ?it/s]"
      ]
     },
     "metadata": {},
     "output_type": "display_data"
    },
    {
     "data": {
      "application/vnd.jupyter.widget-view+json": {
       "model_id": "faf675d6cc14477493a817f68275ef45",
       "version_major": 2,
       "version_minor": 0
      },
      "text/plain": [
       "Validation: |          | 0/? [00:00<?, ?it/s]"
      ]
     },
     "metadata": {},
     "output_type": "display_data"
    },
    {
     "data": {
      "application/vnd.jupyter.widget-view+json": {
       "model_id": "dbee8679c08840b7b994c20677df7572",
       "version_major": 2,
       "version_minor": 0
      },
      "text/plain": [
       "Validation: |          | 0/? [00:00<?, ?it/s]"
      ]
     },
     "metadata": {},
     "output_type": "display_data"
    },
    {
     "data": {
      "application/vnd.jupyter.widget-view+json": {
       "model_id": "e3df20ca53af46d5b52cebebfd4e1ec4",
       "version_major": 2,
       "version_minor": 0
      },
      "text/plain": [
       "Validation: |          | 0/? [00:00<?, ?it/s]"
      ]
     },
     "metadata": {},
     "output_type": "display_data"
    },
    {
     "data": {
      "application/vnd.jupyter.widget-view+json": {
       "model_id": "905120afcee34ed49af11c3279fa9992",
       "version_major": 2,
       "version_minor": 0
      },
      "text/plain": [
       "Validation: |          | 0/? [00:00<?, ?it/s]"
      ]
     },
     "metadata": {},
     "output_type": "display_data"
    },
    {
     "data": {
      "application/vnd.jupyter.widget-view+json": {
       "model_id": "78d6e74f030c4c90ac1a2df024b9c0d2",
       "version_major": 2,
       "version_minor": 0
      },
      "text/plain": [
       "Validation: |          | 0/? [00:00<?, ?it/s]"
      ]
     },
     "metadata": {},
     "output_type": "display_data"
    },
    {
     "data": {
      "application/vnd.jupyter.widget-view+json": {
       "model_id": "1b8f5019bd074bafb3c4fa2ae4e03ae7",
       "version_major": 2,
       "version_minor": 0
      },
      "text/plain": [
       "Validation: |          | 0/? [00:00<?, ?it/s]"
      ]
     },
     "metadata": {},
     "output_type": "display_data"
    },
    {
     "data": {
      "application/vnd.jupyter.widget-view+json": {
       "model_id": "31affaa9bb1f4474b8af0b2b9c53b937",
       "version_major": 2,
       "version_minor": 0
      },
      "text/plain": [
       "Validation: |          | 0/? [00:00<?, ?it/s]"
      ]
     },
     "metadata": {},
     "output_type": "display_data"
    },
    {
     "data": {
      "application/vnd.jupyter.widget-view+json": {
       "model_id": "73c78e429c6a4882a26dbddae68f24c5",
       "version_major": 2,
       "version_minor": 0
      },
      "text/plain": [
       "Validation: |          | 0/? [00:00<?, ?it/s]"
      ]
     },
     "metadata": {},
     "output_type": "display_data"
    },
    {
     "data": {
      "application/vnd.jupyter.widget-view+json": {
       "model_id": "c2158c6a657240f99db1dcc884fd3e6e",
       "version_major": 2,
       "version_minor": 0
      },
      "text/plain": [
       "Testing: |          | 0/? [00:00<?, ?it/s]"
      ]
     },
     "metadata": {},
     "output_type": "display_data"
    },
    {
     "data": {
      "text/html": [
       "<pre style=\"white-space:pre;overflow-x:auto;line-height:normal;font-family:Menlo,'DejaVu Sans Mono',consolas,'Courier New',monospace\">┏━━━━━━━━━━━━━━━━━━━━━━━━━━━┳━━━━━━━━━━━━━━━━━━━━━━━━━━━┓\n",
       "┃<span style=\"font-weight: bold\">        Test metric        </span>┃<span style=\"font-weight: bold\">       DataLoader 0        </span>┃\n",
       "┡━━━━━━━━━━━━━━━━━━━━━━━━━━━╇━━━━━━━━━━━━━━━━━━━━━━━━━━━┩\n",
       "│<span style=\"color: #008080; text-decoration-color: #008080\">         test_loss         </span>│<span style=\"color: #800080; text-decoration-color: #800080\">    0.5016868114471436     </span>│\n",
       "│<span style=\"color: #008080; text-decoration-color: #008080\">         test_rmse         </span>│<span style=\"color: #800080; text-decoration-color: #800080\">    0.7082985043525696     </span>│\n",
       "└───────────────────────────┴───────────────────────────┘\n",
       "</pre>\n"
      ],
      "text/plain": [
       "┏━━━━━━━━━━━━━━━━━━━━━━━━━━━┳━━━━━━━━━━━━━━━━━━━━━━━━━━━┓\n",
       "┃\u001b[1m \u001b[0m\u001b[1m       Test metric       \u001b[0m\u001b[1m \u001b[0m┃\u001b[1m \u001b[0m\u001b[1m      DataLoader 0       \u001b[0m\u001b[1m \u001b[0m┃\n",
       "┡━━━━━━━━━━━━━━━━━━━━━━━━━━━╇━━━━━━━━━━━━━━━━━━━━━━━━━━━┩\n",
       "│\u001b[36m \u001b[0m\u001b[36m        test_loss        \u001b[0m\u001b[36m \u001b[0m│\u001b[35m \u001b[0m\u001b[35m   0.5016868114471436    \u001b[0m\u001b[35m \u001b[0m│\n",
       "│\u001b[36m \u001b[0m\u001b[36m        test_rmse        \u001b[0m\u001b[36m \u001b[0m│\u001b[35m \u001b[0m\u001b[35m   0.7082985043525696    \u001b[0m\u001b[35m \u001b[0m│\n",
       "└───────────────────────────┴───────────────────────────┘\n"
      ]
     },
     "metadata": {},
     "output_type": "display_data"
    },
    {
     "name": "stdout",
     "output_type": "stream",
     "text": [
      "MLP Test RMSE for combined: 0.7083\n",
      "\n",
      "--- Summary of all MLP RMSE results ---\n",
      "{'rdkit': 1.4379535913467407, 'ecfp': 0.6617963910102844, 'maccs': 0.8275595903396606, 'combined': 0.7082985043525696}\n"
     ]
    },
    {
     "data": {
      "image/png": "[encoded data removed]",
      "text/plain": [
       "<Figure size 1000x600 with 1 Axes>"
      ]
     },
     "metadata": {},
     "output_type": "display_data"
    }
   ],
   "source": [
    "from sklearn.model_selection import train_test_split\n",
    "import pandas as pd\n",
    "import torch\n",
    "import pytorch_lightning as pl\n",
    "from torch.utils.data import DataLoader, random_split, TensorDataset\n",
    "from pytorch_lightning.callbacks import ModelCheckpoint, EarlyStopping\n",
    "from Regression.src.MLP import MLP_BACE\n",
    "from pytorch_lightning.loggers import CSVLogger\n",
    "import matplotlib.pyplot as plt\n",
    "import os\n",
    "\n",
    "features_dict = features\n",
    "mlp_results_rmse = {}\n",
    "\n",
    "target_and_smiles = features_dict[list(features_dict.keys())[0]][[\"canonical_smiles\", \"pIC50\"]].reset_index(drop=True)\n",
    "\n",
    "feature_dfs = [df.drop(columns=[\"canonical_smiles\", \"pIC50\"], errors='ignore').reset_index(drop=True)\n",
    "               for df in features_dict.values()]\n",
    "\n",
    "combined_features_only = pd.concat(feature_dfs, axis=1)\n",
    "\n",
    "df_feat_combined = pd.concat([target_and_smiles, combined_features_only], axis=1)\n",
    "\n",
    "all_features_to_run = features_dict.copy()\n",
    "all_features_to_run['combined'] = df_feat_combined\n",
    "\n",
    "for feat_name, df_feat in all_features_to_run.items():\n",
    "\n",
    "    X = df_feat.drop(columns=[\"canonical_smiles\", \"pIC50\"], axis=1).values\n",
    "    y = df_feat[\"pIC50\"].values\n",
    "\n",
    "    X_train, X_test, y_train, y_test = train_test_split(X, y, test_size=0.2, random_state=42)\n",
    "\n",
    "    X_train_tensor = torch.FloatTensor(X_train)\n",
    "    y_train_tensor = torch.FloatTensor(y_train).unsqueeze(1)\n",
    "    X_test_tensor = torch.FloatTensor(X_test)\n",
    "    y_test_tensor = torch.FloatTensor(y_test).unsqueeze(1)\n",
    "\n",
    "    train_dataset_full = TensorDataset(X_train_tensor, y_train_tensor)\n",
    "    test_dataset = TensorDataset(X_test_tensor, y_test_tensor)\n",
    "\n",
    "    train_size = int(0.875 * len(train_dataset_full))\n",
    "    val_size = len(train_dataset_full) - train_size\n",
    "\n",
    "    train_subset, val_subset = random_split(\n",
    "        train_dataset_full, [train_size, val_size],\n",
    "        generator=torch.Generator().manual_seed(42)\n",
    "    )\n",
    "\n",
    "    batch_size = 32\n",
    "    train_loader = DataLoader(train_subset, batch_size=batch_size, shuffle=True)\n",
    "    val_loader = DataLoader(val_subset, batch_size=batch_size, shuffle=False)\n",
    "    test_loader = DataLoader(test_dataset, batch_size=batch_size, shuffle=False)\n",
    "\n",
    "    input_dim = X_train.shape[1]\n",
    "    mlp_model = MLP_BACE(\n",
    "        input_dim=input_dim,\n",
    "        out_dim=1)\n",
    "\n",
    "    logger = CSVLogger('lightning_logs', name=f'mlp_run_{feat_name}')\n",
    "\n",
    "    checkpoint_callback = ModelCheckpoint(\n",
    "        monitor='val_loss',\n",
    "        dirpath='mlp_checkpoints/',\n",
    "        filename=f'best-mlp-{feat_name}-model',\n",
    "        save_top_k=1,\n",
    "        mode='min'\n",
    "    )\n",
    "    early_stop_callback = EarlyStopping(\n",
    "        monitor='val_loss',\n",
    "        patience=15,\n",
    "        mode='min',\n",
    "        verbose=False\n",
    "    )\n",
    "\n",
    "    trainer = pl.Trainer(\n",
    "        max_epochs=100,\n",
    "        callbacks=[checkpoint_callback, early_stop_callback],\n",
    "        logger=logger,\n",
    "        accelerator='auto',\n",
    "        log_every_n_steps=10,\n",
    "        enable_progress_bar=True\n",
    "    )\n",
    "    print(f\"Training MLP model on {feat_name}...\")\n",
    "    trainer.fit(mlp_model, train_loader, val_loader)\n",
    "\n",
    "    test_results = trainer.test(mlp_model, dataloaders=test_loader)\n",
    "\n",
    "    current_rmse = test_results[0].get('test_rmse')\n",
    "    mlp_results_rmse[feat_name] = current_rmse\n",
    "\n",
    "    print(f\"MLP Test RMSE for {feat_name}: {current_rmse:.4f}\")\n",
    "\n",
    "print(\"\\n--- Summary of all MLP RMSE results ---\")\n",
    "print(mlp_results_rmse)\n",
    "\n",
    "plot_results = {}\n",
    "for feat_name in all_features_to_run.keys():\n",
    "    log_dir = os.path.join('lightning_logs', f'mlp_run_{feat_name}')\n",
    "    metrics_path_v0 = os.path.join(log_dir, 'version_0', 'metrics.csv')\n",
    "    metrics_path_v1 = os.path.join(log_dir, 'version_1', 'metrics.csv')\n",
    "\n",
    "    if os.path.exists(metrics_path_v0):\n",
    "        metrics_df = pd.read_csv(metrics_path_v0)\n",
    "    elif os.path.exists(metrics_path_v1):\n",
    "        metrics_df = pd.read_csv(metrics_path_v1)\n",
    "    else:\n",
    "        continue\n",
    "\n",
    "    val_loss = metrics_df['val_loss'].dropna().reset_index(drop=True)\n",
    "    if not val_loss.empty:\n",
    "        plot_results[feat_name] = val_loss\n",
    "\n",
    "plt.figure(figsize=(10, 6))\n",
    "for name, loss_values in plot_results.items():\n",
    "    plt.plot(loss_values.index, loss_values.values, label=name.capitalize())\n",
    "\n",
    "plt.title(\"Validation Loss Comparison (Separate vs. Combined Features)\")\n",
    "plt.xlabel(\"Epochs\")\n",
    "plt.ylabel(\"Validation Loss (MSE)\")\n",
    "plt.legend()\n",
    "plt.grid(True, linestyle='--', alpha=0.6)\n",
    "plt.show()"
   ]
  },
  {
   "cell_type": "code",
   "execution_count": 29,
   "metadata": {
    "colab": {
     "base_uri": "https://localhost:8080/",
     "height": 605
    },
    "id": "xkI_05AGAL_Z",
    "outputId": "aa19bc0e-3a9e-455e-92ad-3322d37bd2e1"
   },
   "outputs": [
    {
     "data": {
      "image/png": "[encoded data removed]",
      "text/plain": [
       "<Figure size 1200x700 with 1 Axes>"
      ]
     },
     "metadata": {},
     "output_type": "display_data"
    }
   ],
   "source": [
    "plt.figure(figsize=(12, 7))\n",
    "markers = ['o', 's', '^', 'D']\n",
    "line_styles = ['-', '--', ':', '-.']\n",
    "color_map = {'rdkit': 'red', 'ecfp': 'green', 'maccs': 'blue', 'combined': 'black'}\n",
    "\n",
    "# Filter RDKit out\n",
    "filtered_plot_results = {k: v for k, v in plot_results.items() if k != 'rdkit'}\n",
    "\n",
    "# Define smoothing window\n",
    "SMOOTHING_WINDOW = 5\n",
    "\n",
    "for i, (name, loss_values) in enumerate(filtered_plot_results.items()):\n",
    "\n",
    "    # Apply rolling average for smoothing\n",
    "    smoothed_loss = loss_values.rolling(window=SMOOTHING_WINDOW, min_periods=1).mean()\n",
    "\n",
    "    plt.plot(\n",
    "        smoothed_loss.index,\n",
    "        smoothed_loss.values,\n",
    "        label=name.capitalize(),\n",
    "        color=color_map.get(name, 'gray'),\n",
    "        linestyle=line_styles[i % 4],\n",
    "        linewidth=2\n",
    "    )\n",
    "\n",
    "plt.title(\"Evolution of the test loss between the three MLP\", fontsize=16)\n",
    "plt.xlabel(\"Epochs\", fontsize=14)\n",
    "plt.ylabel(f\"Test Loss\", fontsize=14)\n",
    "\n",
    "plt.ylim(0.4, 0.75)\n",
    "\n",
    "plt.legend(title=\"Featurisation\", fontsize=12)\n",
    "plt.grid(True, linestyle='--', alpha=0.6)\n",
    "plt.show()"
   ]
  }
 ],
 "metadata": {
  "colab": {
   "provenance": []
  },
  "kernelspec": {
   "display_name": "Python 3 (ipykernel)",
   "language": "python",
   "name": "python3"
  },
  "language_info": {
   "codemirror_mode": {
    "name": "ipython",
    "version": 3
   },
   "file_extension": ".py",
   "mimetype": "text/x-python",
   "name": "python",
   "nbconvert_exporter": "python",
   "pygments_lexer": "ipython3",
   "version": "3.11.13"
  }
 },
 "nbformat": 4,
 "nbformat_minor": 0
}
