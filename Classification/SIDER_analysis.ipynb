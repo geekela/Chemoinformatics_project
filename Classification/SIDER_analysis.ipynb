{
 "cells": [
  {
   "cell_type": "markdown",
   "metadata": {
    "id": "L84ZGQCwFKNY"
   },
   "source": [
    "## Import"
   ]
  },
  {
   "cell_type": "code",
   "execution_count": null,
   "metadata": {
    "collapsed": true,
    "id": "K8jy2HFHJrxy"
   },
   "outputs": [],
   "source": [
    "!pip install -r requirements.txt\n",
    "!pip install deepchem\n",
    "!pip install rdkit\n",
    "!pip install pycm\n",
    "!pip install pytorch-lightning wandb rdkit ogb\n",
    "!pip install torch_geometric\n",
    "!pip install optuna"
   ]
  },
  {
   "cell_type": "code",
   "execution_count": null,
   "metadata": {
    "collapsed": true,
    "id": "vbCsSN36FH3s"
   },
   "outputs": [],
   "source": [
    "import pandas as pd\n",
    "import numpy as np\n",
    "import seaborn as sns\n",
    "import matplotlib.pyplot as plt\n",
    "import deepchem as dc\n",
    "from sklearn.feature_selection import VarianceThreshold\n",
    "from sklearn.decomposition import PCA\n",
    "from sklearn.preprocessing import StandardScaler\n",
    "from sklearn.model_selection import train_test_split\n",
    "from rdkit import Chem\n",
    "from rdkit.Chem import Draw, rdFingerprintGenerator, AllChem\n",
    "from rdkit.Chem.Descriptors import MolWt, TPSA, NumHDonors, NumHAcceptors\n",
    "from rdkit.ML.Descriptors.MoleculeDescriptors import MolecularDescriptorCalculator"
   ]
  },
  {
   "cell_type": "code",
   "execution_count": null,
   "metadata": {
    "executionInfo": {
     "elapsed": 26,
     "status": "ok",
     "timestamp": 1761056820770,
     "user": {
      "displayName": "Bills",
      "userId": "16820590928381597871"
     },
     "user_tz": -120
    },
    "id": "r3hQdk1qFkr2"
   },
   "outputs": [],
   "source": [
    "df=pd.read_csv('content/Chemoinformatics_project/data/raw/sider.csv')"
   ]
  },
  {
   "cell_type": "code",
   "execution_count": null,
   "metadata": {
    "colab": {
     "base_uri": "https://localhost:8080/",
     "height": 342
    },
    "executionInfo": {
     "elapsed": 81,
     "status": "ok",
     "timestamp": 1761056829012,
     "user": {
      "displayName": "Bills",
      "userId": "16820590928381597871"
     },
     "user_tz": -120
    },
    "id": "8LdihGwgGIuE",
    "outputId": "fa19ebda-0c84-4f4a-bbdc-bf5a23ebc994"
   },
   "outputs": [],
   "source": [
    "df.head()"
   ]
  },
  {
   "cell_type": "markdown",
   "metadata": {
    "id": "VT7kFlA7C50I"
   },
   "source": [
    "## Pre-processing"
   ]
  },
  {
   "cell_type": "code",
   "execution_count": null,
   "metadata": {
    "colab": {
     "base_uri": "https://localhost:8080/",
     "height": 1000
    },
    "collapsed": true,
    "executionInfo": {
     "elapsed": 3093,
     "status": "ok",
     "timestamp": 1761056823873,
     "user": {
      "displayName": "Bills",
      "userId": "16820590928381597871"
     },
     "user_tz": -120
    },
    "id": "kyEKHqSKH57g",
    "outputId": "83887781-6dee-484f-f126-e6d688deec34"
   },
   "outputs": [],
   "source": [
    "from Classification.src.sider_preprocessing import sider_preprocessing\n",
    "\n",
    "df_cleaned = sider_preprocessing(df)"
   ]
  },
  {
   "cell_type": "markdown",
   "metadata": {
    "id": "x5UkHe9UC-59"
   },
   "source": [
    "## Featurizer"
   ]
  },
  {
   "cell_type": "code",
   "execution_count": null,
   "metadata": {
    "colab": {
     "base_uri": "https://localhost:8080/"
    },
    "collapsed": true,
    "executionInfo": {
     "elapsed": 4964,
     "status": "ok",
     "timestamp": 1761056828840,
     "user": {
      "displayName": "Bills",
      "userId": "16820590928381597871"
     },
     "user_tz": -120
    },
    "id": "uDlEpP22fHFU",
    "outputId": "4556496c-e7f5-4f79-931c-a97f019f46e8"
   },
   "outputs": [],
   "source": [
    "from Classification.src.sider_featurizer import featurizer\n",
    "\n",
    "df_final = featurizer(df=df_cleaned, mol_col='Molecule', fpSize=2048)"
   ]
  },
  {
   "cell_type": "code",
   "execution_count": null,
   "metadata": {
    "colab": {
     "base_uri": "https://localhost:8080/"
    },
    "collapsed": true,
    "executionInfo": {
     "elapsed": 24,
     "status": "ok",
     "timestamp": 1761056828872,
     "user": {
      "displayName": "Bills",
      "userId": "16820590928381597871"
     },
     "user_tz": -120
    },
    "id": "VPSPRSCMhF_x",
    "outputId": "16b544dd-6081-49d5-c9b7-c901c3f99eae"
   },
   "outputs": [],
   "source": [
    "df_final.columns"
   ]
  },
  {
   "cell_type": "markdown",
   "metadata": {
    "id": "OFSgwiDsjASL"
   },
   "source": [
    "## ACP and feature selection"
   ]
  },
  {
   "cell_type": "code",
   "execution_count": null,
   "metadata": {
    "colab": {
     "base_uri": "https://localhost:8080/",
     "height": 710
    },
    "executionInfo": {
     "elapsed": 1416,
     "status": "ok",
     "timestamp": 1761038033951,
     "user": {
      "displayName": "Bills",
      "userId": "16820590928381597871"
     },
     "user_tz": -120
    },
    "id": "UdqqTr3bwE35",
    "outputId": "14f3ecc5-c759-4847-bf93-42055e8fda88"
   },
   "outputs": [],
   "source": [
    "from Classification.src.sider_pca import analyze_pca_variance\n",
    "analyze_pca_variance(df_final)"
   ]
  },
  {
   "cell_type": "markdown",
   "metadata": {
    "id": "AV9HClARAtgI"
   },
   "source": [
    "Why **PCA is Not an Effective Strategy Here**\n",
    "My analysis showed that using PCA for dimensionality reduction is not a good idea for this dataset.\n",
    "\n",
    "- Low Variance Captured: The scree plot shows that the first principal component (PC1) only explains about 2.7% of the total variance. This is extremely low, as a useful PCA would capture a much larger portion.\n",
    "\n",
    "- Information is Spread Out: This indicates that the information is already distributed very evenly across our original features. In other words, there is very little redundancy for PCA to compress.\n",
    "\n",
    "- Significant Information Loss: If we were to use the top 10 components, we would only capture about 10-12% of the total information. Using PCA here would mean throwing away the vast majority of our data.\n",
    "\n",
    "Note on Feature Scaling\n",
    "For distance-based models like SVMs and Logistic Regression, applying StandardScaler is crucial. It normalizes the features, which is important for these algorithms as they are sensitive to the scale of the input data."
   ]
  },
  {
   "cell_type": "markdown",
   "metadata": {
    "id": "MangafTTE-Pr"
   },
   "source": [
    "## Models"
   ]
  },
  {
   "cell_type": "code",
   "execution_count": null,
   "metadata": {
    "executionInfo": {
     "elapsed": 166,
     "status": "ok",
     "timestamp": 1761052321268,
     "user": {
      "displayName": "Bills",
      "userId": "16820590928381597871"
     },
     "user_tz": -120
    },
    "id": "z2lWHntcSsKi"
   },
   "outputs": [],
   "source": [
    "X = df_final.iloc[:, 29:].copy()\n",
    "y = df_final.iloc[:, 2:29]\n",
    "\n",
    "X = X.select_dtypes(include=np.number)\n",
    "\n",
    "# Apply VarianceThreshold to remove zero-variance features\n",
    "selector = VarianceThreshold(threshold=0.0)\n",
    "X_cleaned_array = selector.fit_transform(X)\n",
    "X = pd.DataFrame(X_cleaned_array, columns=X.columns[selector.get_support()])"
   ]
  },
  {
   "cell_type": "code",
   "execution_count": null,
   "metadata": {
    "colab": {
     "base_uri": "https://localhost:8080/"
    },
    "executionInfo": {
     "elapsed": 132,
     "status": "ok",
     "timestamp": 1761052321447,
     "user": {
      "displayName": "Bills",
      "userId": "16820590928381597871"
     },
     "user_tz": -120
    },
    "id": "5pFly3OSTP7H",
    "outputId": "bc5bb668-8b26-48b8-cd0e-2d90f3969a23"
   },
   "outputs": [],
   "source": [
    "# Split\n",
    "X_train, X_test, y_train, y_test = train_test_split(X, y, train_size=0.8, random_state=0)\n",
    "\n",
    "# Scaling\n",
    "scaler = StandardScaler()\n",
    "X_train_scaled = scaler.fit_transform(X_train)\n",
    "X_test_scaled = scaler.transform(X_test)\n",
    "print(f\"Data split: {len(X_train)} training samples, {len(X_test)} testing samples.\")"
   ]
  },
  {
   "cell_type": "code",
   "execution_count": null,
   "metadata": {
    "colab": {
     "base_uri": "https://localhost:8080/"
    },
    "executionInfo": {
     "elapsed": 313550,
     "status": "ok",
     "timestamp": 1761036094644,
     "user": {
      "displayName": "Bills",
      "userId": "16820590928381597871"
     },
     "user_tz": -120
    },
    "id": "D7dnhs--xZEt",
    "outputId": "e33936b4-9bbc-4bcd-e763-8d1a8bc77ee6"
   },
   "outputs": [],
   "source": [
    "from Classification.sider_baseline_models.py import train_and_evaluate_models\n",
    "train_and_evaluate_models(X_train, X_test, X_train_scaled, X_test_scaled, y_train, y_test)"
   ]
  },
  {
   "cell_type": "markdown",
   "metadata": {
    "id": "D1vvyazkxHZR"
   },
   "source": [
    "## UMAP"
   ]
  },
  {
   "cell_type": "code",
   "execution_count": null,
   "metadata": {
    "colab": {
     "base_uri": "https://localhost:8080/"
    },
    "executionInfo": {
     "elapsed": 40644,
     "status": "ok",
     "timestamp": 1761036135291,
     "user": {
      "displayName": "Bills",
      "userId": "16820590928381597871"
     },
     "user_tz": -120
    },
    "id": "FScWC_CJC1VU",
    "outputId": "44c9f45f-5da0-4976-8a61-1ad34183d0a9"
   },
   "outputs": [],
   "source": [
    "from sklearn.preprocessing import StandardScaler\n",
    "import umap.umap_ as umap\n",
    "\n",
    "# Scale the data once before creating the plots\n",
    "scaler = StandardScaler()\n",
    "X_scaled = scaler.fit_transform(X)\n",
    "\n",
    "# Calculate the UMAP projection\n",
    "reducer = umap.UMAP(n_components=2, random_state=42)\n",
    "embedding = reducer.fit_transform(X_scaled)\n",
    "\n",
    "umap_df = pd.DataFrame(embedding, columns=['UMAP 1', 'UMAP 2'])"
   ]
  },
  {
   "cell_type": "code",
   "execution_count": null,
   "metadata": {
    "colab": {
     "base_uri": "https://localhost:8080/",
     "height": 1000
    },
    "executionInfo": {
     "elapsed": 1142,
     "status": "ok",
     "timestamp": 1761036136438,
     "user": {
      "displayName": "Bills",
      "userId": "16820590928381597871"
     },
     "user_tz": -120
    },
    "id": "GAj4nTckKvyS",
    "outputId": "10f820c0-10a1-4f9a-b0e3-43883fb0529a"
   },
   "outputs": [],
   "source": [
    "# Plot interesting labels\n",
    "\n",
    "from Classification.src.sider_umap import plot_umap\n",
    "\n",
    "plot_umap(umap_df, y, 'Gastrointestinal disorders')\n",
    "plot_umap(umap_df, y, 'Metabolism and nutrition disorders')\n",
    "plot_umap(umap_df, y, 'Product issues')"
   ]
  },
  {
   "cell_type": "markdown",
   "metadata": {
    "id": "9cqfmCx21I-0"
   },
   "source": [
    "1. High Performance: Gastrointestinal disorders\n",
    "Observation: The plot is dominated by yellow dots (class 1), which confirms this is a highly prevalent side effect in the dataset.\n",
    "\n",
    "Interpretation: Although the purple dots (class 0) do not form a single large cluster, they are not random. They group together in specific regions, indicating visual separability.\n",
    "\n",
    "Conclusion: This clear, non-linear separation justifies why models like Random Forest were able to achieve high AUC-ROC scores (up to 0.76) for this label.\n",
    "\n",
    "2. Low Performance: Metabolism and nutrition disorders\n",
    "Observation: The plot shows a complete mix of yellow (class 1) and purple (class 0) dots. There is no discernible structure or clustering.\n",
    "\n",
    "Interpretation: This visually represents a lack of a discriminating signal in the features. The Morgan fingerprints and descriptors do not seem to contain enough information to separate the classes for this specific label.\n",
    "\n",
    "Conclusion: This directly explains why all models performed poorly, with AUC-ROC scores close to the random-guess baseline of 0.5.\n",
    "\n",
    "3. Anomaly and Imbalance: Product issues\n",
    "Observation: The UMAP plot is almost entirely purple (class 0), confirming that this is an extremely rare side effect. The few positive samples (yellow dots) are scattered without forming any clear cluster.\n",
    "\n",
    "Interpretation: Given the extreme rarity of positive samples, the high AUC-ROC score of 0.7573 from XGBoost is highly suspect. There is no visual evidence of a pattern that would allow for such a strong classification.\n",
    "\n",
    "Conclusion: The high score is likely a statistical artifact due to the very small number of positive samples in the test set. Therefore, the model's performance on this label should not be considered robust or reliable."
   ]
  },
  {
   "cell_type": "markdown",
   "metadata": {
    "id": "9a5V9iERw9mE"
   },
   "source": [
    "## SVM Optimization"
   ]
  },
  {
   "cell_type": "markdown",
   "metadata": {
    "id": "v2CMLw1vi5KO"
   },
   "source": [
    "Optimizing the SVM with a Non-Linear Kernel\n",
    "My baseline results showed a clear pattern: tree-based models like Random Forest (Macro AUC-ROC of 0.66) significantly outperformed the linear models like Logistic Regression and the linear SVM (around 0.61).\n",
    "\n",
    "This strongly suggested that the relationship between the molecular features and the side effects is non-linear.\n",
    "\n",
    "The UMAP visualizations confirmed this hypothesis. For well-predicted labels, the classes formed distinct, non-linear clusters that couldn't be separated by a simple line. This visual evidence provided a strong reason to explore a more complex, non-linear SVM.\n",
    "\n",
    "Optimization Strategy\n",
    "Based on this, I decided to optimize an SVM using the RBF kernel to see if it could match the performance of the tree-based models.\n",
    "\n",
    "Since SVMs are very slow to train, I used RandomizedSearchCV instead of an exhaustive GridSearchCV. This is a more efficient way to explore a wide range of hyperparameters (C and gamma) in a reasonable amount of time. If I had more time, a next step would be to try a more advanced technique like Bayesian Optimization.\n",
    "\n",
    "Practical Challenge: Runtime\n",
    "However, I ran into a major practical issue: the runtime.\n",
    "\n",
    "Because this is a multi-label problem, the OneVsRestClassifier has to train 27 separate SVMs. With RandomizedSearchCV configured for 8 iterations and 3-fold cross-validation, this meant training a total of 648 models (27 * 8 * 3).\n",
    "\n",
    "This process was too slow for a standard notebook environment. It's also worth noting that scikit-learn's SVM is CPU-bound, meaning a GPU would not have helped speed up this specific task. This experience showed that while powerful, SVMs can be impractical for hyperparameter tuning on complex, multi-label datasets like this one."
   ]
  },
  {
   "cell_type": "code",
   "execution_count": null,
   "metadata": {
    "id": "CrOfJtaUTOy0"
   },
   "outputs": [],
   "source": [
    "from Classification.src.sider_svm_optimization import optimize_svm\n",
    "\n",
    "# RandomizedSearchCV on non RBF SVM\n",
    "best_svm_model = optimize_svm(X_train_scaled, y_train)"
   ]
  },
  {
   "cell_type": "markdown",
   "metadata": {
    "id": "TE939ucPa1k1"
   },
   "source": [
    "## GNN and Deep Learning"
   ]
  },
  {
   "cell_type": "code",
   "execution_count": null,
   "metadata": {
    "colab": {
     "base_uri": "https://localhost:8080/",
     "height": 900,
     "referenced_widgets": [
      "90e277c50f434240aa8b9b8a148e0e00",
      "78236b01179f4ec5a391dd7c599cdce9",
      "ebb01d6e6b90492db54b968cd7f1cd65",
      "fb5e207a56064c5d8a1db5a317dbfd57",
      "94bd7d28e6ce46a9899a953abb26824f",
      "196a345db0b0496dba2523ce7cd2ccee",
      "2a2f9f7df121423e97d05437d9bfc1c7",
      "5eeae870024a4f89998a8b374c4f9161",
      "f432c3e5c3cd4442be4494992825b7cd",
      "68c3bf192f7345dd8eab4ca9fa2c4326",
      "81038bdfda7d49579a81d43974dea9a7",
      "20d653f91f254638a58023c2981d92c6",
      "af56f98a5e81431da6581d9768797839",
      "19be379a91a2483ba1092748b65508d0",
      "21e755b861a3424e990734659be07546",
      "9a932fac39354ecb812289a2537f17c6",
      "6b4e68722dca41008224dd336912997c",
      "23fde92bed5848b68549a1d98a681d13",
      "7a1dc27213d04abfa54d0f04e0b8ed3d",
      "8349c6d0c3f0461ebc73af1b7198b951",
      "f5306cc45fcd41d195c5a5bcb07d8aaf",
      "de2fd684d56e45d495edea60a56994a8",
      "4a0993b4cc0342ce8c2b6202224e2b8a",
      "3fae6b4f190044248f1b26c35b074b60",
      "fde677966e0e41d4aa368077d6aa1499",
      "fc18388613524a9d81731e32315c66cc",
      "d47833c58e854be994acbfb20a9a7ce4",
      "bca0f5e0201646e1bc8a15b50794b11d",
      "1eec8b3e3d6c4c2880a520aece239ab5",
      "68b590b85cc54a70acffdbabbec9d20d",
      "833afd4ae661412eabf346109d20d3bf",
      "ad43490d9a864487a3eae57a9485579f",
      "579b1554365f4b9380c07c9f48257bf6",
      "e408be4500a441e2bb03eeb7de78535c",
      "d0b4750cd8c7465e81a506a97c350c9f",
      "2d7424a0a12b45dea1784f080f2e7d71",
      "4118639a337c4f01b645d3bb5773d694",
      "3c2f856011bc4ddaba366193a0be25f0",
      "d6fb58d8b53843b1a204af4368c109ed",
      "e31e54dc0eb14d569a8ef24f5ffbf918",
      "92966b5da44a4428abce4006d3ae561d",
      "c5038d97ebcb44ca99d3734b249d2c9a",
      "ff173ba1aefc47f28d0b0c7e9fb4576b",
      "0634f164e229467ab21791e1beb52fb4",
      "bfb6c01795834081bf635ceb96cacfc7",
      "f2018713fa9847ee89d52f6e9d1f170e",
      "debc183bd2f646c5b1cc5eca0cc20935",
      "b505ae4ea1ea4430add1e6f152e88635",
      "6edd889db86246e6947372320527e810",
      "30f1f20201284882aa9fe3005868ab1f",
      "3935ac4714464d568b67c89d05eb278e",
      "e196a7aeb42245d88c5d9a154ef2f2f4",
      "ab542a0078ba4251b1e12fdd09fe87df",
      "1cce0b6a53d54486b2990d15ceab03e1",
      "f734a4ee2853465bba6bed9b378b8985",
      "85d5514faf1f4fa680dca0c2f6078e03",
      "0ef37cdd21a3424e8186560bbeff0d66",
      "b585ed7d3f0242c6a866c10f77932ba4",
      "3ed0afdcf06d4f6886be29727e317dbe",
      "bbcfad12be094639b615d2b684f32564",
      "57a9179f670a4dcabc47dcbaddb6923a",
      "76a1bd971969472ba27d1060f8f00ff9",
      "42d348ae7b1942869ca4ee8344d796bb",
      "c6f769dd14bc4064b87145485ffb23c0",
      "ae6d9c94a8c5462287ddc0ac494aad15",
      "197cc907db0a49028c1c6f1f06136a90",
      "58f98f32faca4a9a92eca94a875a8c68",
      "69fe11f824c04298bba2484de3f5ecb7",
      "0a68d9c9574845e0a399fe07af6a6435",
      "9d4f997371dd4bd9bf41e122bf3b3380",
      "78108a8549a14293922eadf76d57a3b9",
      "f0d0a44e7ef14e6e94b4418e1dd306fb",
      "f7034d4c3e6f4f7b9a9b9be4d1cea3aa",
      "df6280db6abe4dffaa6c039eafce6ce2",
      "e76f5653fa8a4a4ab12aa520c0a845a3",
      "c5472fcd17ec4eb28f9ecb4aed4d7a5d",
      "c101fa482e884955958c4f3310cf717d",
      "b7814b1e655d4f6d824b0e4bb3fae0eb",
      "26fad2c6cfaa4c688b817e2b5374b01c",
      "a1849fd8f192464a8652ef068a002d2a",
      "0a511e115aa2443c8e0bcb823e7e2389",
      "f9d1e460f8c34e1eaa9ada00f7b49fcd",
      "91b018ea0b2a4973b0bd796d16f7d607",
      "deec9525cfbe46e7967ec233ae253963",
      "b5f622941ae14a858e02f3fac9fcc257",
      "24326b6ff92b43b0a5496c7ffb2b8331",
      "02cae7098e2b42a5a31f352ee723abbd",
      "1e3011bfd2204fe3be84043f3fb244f1",
      "3a7d5e5500364ca3b0aef65ba80c9d59",
      "cff76d8ca4094bdc9065f0894587e545",
      "0d1765cbc4c347b98ce30db7a1c4aeb9",
      "5cfb2adc6d4040a9a838704600152d7f",
      "322ffed8e2634e408f233db55b65d132",
      "19c7dfd76dea4d22a15d4f606a2dfd91",
      "5ec790fea30f48b899322da6d2d38024",
      "579095189fb34281b1fa1fe488c1ca9d",
      "7f15933e994b4aec8e9fd77aeb5d3eed",
      "f897f39dfea742e3a50f6ee9e823f755",
      "98be330dc92d494f928c14c41d30caed",
      "a688c37a090e4cdfa8697c65a006ba87",
      "5a06678a35bd46eabe4c4a030b023584",
      "279a3eddfdea44529b02f6e41c7b1588",
      "32ce2ecd96f14009a6853b90f1db2465",
      "6b55d2f7646a44d4b738eabcce07fb02",
      "3da675d273af4379b41b5d39c579b1d1",
      "384634bd23624e4c90f29b3a98e8cb70",
      "e1d7fafa945b4987a4c9d23db60a3895",
      "b5db1a61a1c046b488239dbad0ed0ee2",
      "175bab2031584600ab8259ff5a31e7ac",
      "08d7ace9a7864365b7bc1ad49ec2ed4d",
      "e2ba9513e7be4b96828f0b89a62efff7",
      "ac9c13bdafe9451ba2e9695fb7ef67d4",
      "592654aa284f4e93b1a7a8daf492c670",
      "cf86d30fc8f64ba38263456ec40f71cd",
      "1c7ae7e463f8442093a6a1d3bd6d4b64",
      "0fd533d1bde64d69a6dc72c242d99c65",
      "83a4137f1d384337bd119efa0ee9fd1f",
      "0d88e3a7f338449dbf350c4dfd16b3ca",
      "e45b768caf544b448bbc19d233dbce99",
      "24253f3c1c4645ef8c4cab0c97b81eae",
      "eb12ad7417b843fc95a50cb8406713ba",
      "6fd44344d9a149fe9981e2a0a5154e61",
      "133ed2b0862f42a1b32d598b9cb54b4f",
      "a9109e40cc9e43e6ba33362913c0e66d",
      "f810340c92d3464e97a532c94e7157b9",
      "cf9bea001b524a5880082ad370c5de05",
      "d743a5380f4f453993a88423e36af62c",
      "5c0e087255354a4fbb5cdfdca472ab19",
      "226cc2c7c6774b4cba526eaebc76550a",
      "dcbf8592d7054d1e834a1bc007ed6a04",
      "ff5051a92dde460f80cd8567ea7a853d",
      "99ee46e71f974292b91d5cb5bcacb5f6",
      "e37a7db67374460bb8b8da6deea8f925",
      "32e3a1c48a5846a6adfca3b6dc6847c4",
      "f7b37304474e4bcf895a3cd6f57e8c62",
      "a0c9d3b896864af7941c2e3ee250d3eb",
      "7d4b712334584a46b2238eb2db9cc1a6",
      "5582ae88be624e23a7662a650d39f42c",
      "8ae431d0b1d04562bae19a5230251366",
      "71ddeef34c45489ba45e79357e590a8e",
      "e7b2b7c4dcc048adbd3105339b7a2be8",
      "504528fe3d974249950157a28864b200",
      "a074c21479b445b0b9a8957cdb659674",
      "13ff1da365e844ac9d793e3106bbdf6e",
      "976289963c984af9941bb680b94bab88",
      "aa2b4d99d3464175b58ccda9e6fd3b4d",
      "8866e57aad8b4797bbe7cbab4997f9d6",
      "dd88021b495246f983ddf19c948d5f57",
      "de114e3009c74fe8a18789079ff5b4ea",
      "b693c7f58d37425e8445583e8b0541c4",
      "a1f871a8e08d4ab6a5c43d5e6dc579af",
      "bb0c09a7cf02475b8449c1b3142d6d49",
      "9a49336d09c345d2b2383805d5b34cfc",
      "2d17889057374366b078896282e5ee10",
      "295dd8063a6c46fe816d5efac7113751",
      "6b489a39913841eabec19c2643686fcd",
      "ae7b547cd13b4e11a10adbbd559bb5c0",
      "968f31e68b41472b89fe1503e92aaf86",
      "72c9cdb3f16c46f2837e5211f07599a7",
      "c44b44f7a15a47cda7293d4174647386",
      "8ce18a6997c847ebaab0c818cecac778",
      "12b0f4cbd24d48f6ad6fc45d955324cc",
      "a8b6a79d44ee497aa81652d93a809afb",
      "e7e1b875e3444333a5791fb27ec9094c",
      "26dc840674054b7c8130a1bc4aa16a2d",
      "a503e519ecdd475d958c9e14155386b6",
      "e63a95732b1c4d68bcaaf2a53d991a73",
      "92300a731f014bb699a96b392f87445e",
      "cf1fef7e16914dc88b2587d18596843f",
      "88888a1e5f2e4362b26772eac7d23375",
      "828f54627e394804b832a8b337a8520e",
      "af613c615b9e4a3099ff8e09b6b178d5",
      "850bb6dfcc56476aac383003d886f9c8",
      "47e62a4075754b56b37447be7854992d",
      "4a3ed4a6d0b643b3bd1c0175289e3981",
      "67f7218313a74901ae8ef2accb7d3bc8",
      "a688761bd9eb4dbe9b663662bc27db97",
      "2f9dce30f5914f5c9a3e3bf3a50df28f",
      "a23dd06b69da40b58a1b078e61b53cdb",
      "8b5d686f9e5b4aa9b247caf9c60825ba",
      "dcfd583b2f184ce3a530a5259725ae2e",
      "7c22baa61bf744138d0ae9238e4d3b83",
      "cee774964689406ca1aa459e1d6134fc",
      "a291b5d6798a4fd5947eacc8844ed7e8",
      "1418a45470364b84a949d9d8ec1e93e7",
      "614ea34f56864eeb843e9c0fca77b72e",
      "ef484e3d40684ef2b6e61080082a2b89",
      "12880a1f84554741a93fb79dc393d1f7",
      "4240f79a8296452f93827ca55d5c73fe",
      "4270e431c3bc41fe849aa32c662c099d",
      "3bf0e83ba01b43f3be283f924a5563d6",
      "43ef44e24c2d4e4c81fcc5237fd7f13b",
      "c9539fd26ee1409b85693a3f368f8f76",
      "ce1bf32c33ee422c9b2cc5f4c4d05f18",
      "d7e22ce531114c3c990f551a207d9841",
      "a987dc1c9ac74b11a9e8f936ac4cb64c",
      "b9f6c703762f440784c95046be9f8c48",
      "bf5c08adb27742e58873cb0b803dc6a4",
      "5febbe880eef4e2db9ecae85e4d21c19",
      "aa8e5582af3b4cb8b679f07ff764e325",
      "62f39d61ebed432f9dda0e55c9a1cb93",
      "933a06bb4a274c74a4b3b536512276b6",
      "9ae6f35ea9a047a1803a56e33731e5d8",
      "de2ca76d3b1c4bae8d38ac6a3925912a",
      "bc607edb4fe94ba192d658c0b1cf10fc",
      "22c41e2234e3408c8bc27162926e1de7",
      "6272b0eda328486e95472f686330ef58",
      "7a1019d4ece246dc84d241de02d4fdf7",
      "38b13a5f496e406f9c60e09846c71f17",
      "b911c54e2f63487fbd365b0518117dd7",
      "aa7f3d6ed4c247df8e68265549ecb9b5",
      "9dc6f06917704f41bdac4fe84390e53b",
      "cace2754e5b14e27b52981941b5aa377",
      "87093220c1ab435f81bec539fe48483b",
      "8486297bbb5a49a18b88ea7e1f0ae82b",
      "5b76ad77bfdc4c2b83073ea9b7c3c9d9",
      "125838e988a74633ad5dea3141284dc9",
      "66cdd32f15954bf6903eeec35ca0b80d",
      "3f8ff7be7f204218b2e19a252a5f7fdb",
      "4b781891b9864f898b5696c0a9643461",
      "da3a44b73a964fb3bd1fe34f699180a4",
      "5229de1306684f01a8a1c35f253bf776",
      "fa64182817274d7d9649ecc05401e413",
      "b5dd8b84282945318009331f527d4fd2",
      "da5193b020c24bbe9fd1b5028e1fb4f3",
      "1282350e6b24466bb5a23cc5d1ac56c3",
      "26a73442f17441858c27532983536b10",
      "9174244453d44a8cabcfb75bb5e41cf0",
      "4012b114f41542818625fcbee3db54b2",
      "07f29df5910b40318b1a896c774dc06c",
      "766758b28eb24313a20c02353f9e5ee0",
      "6f64535b27fe42b59b6c57d3bf5373da",
      "d7c5c6ea3bdf4d4fbe770fda37d4676d",
      "52bb151253a64df8aeafe9aa12c45fd2",
      "a013166820d74a27acc10da858c43411",
      "e67e1bcc1cba4bd8aba2443805d49743",
      "dca4379aa5744ccaa63058e7d86af7cf",
      "8e73fe4850614dd890275a4c58e24cc0",
      "3d179243cc89488291564ff3bb4f833e",
      "5fafae97129a44b3a0ac84e898162b29",
      "ace4e3cc232645b9b4b01fdba46007b7",
      "3f7038fc1a2544a6974aca2871dec2cb",
      "d171471525a341689dfa0d7b552e0725",
      "a3c61edb11274162864363e719900f8b",
      "8788a2c5727b4038b953fd8dd2ce3bd5",
      "0eda82cb93124386b6e2d7c16e362b3f",
      "58effe9b0dd84c4f9b1b149f86aacc42",
      "c9bd9c68cc3c4943828f26e9c4fd6555",
      "03c0434373154c65a612f323725d80aa",
      "7de0deee32af4d4c9886ba229ab1b0fe",
      "f14a558769984931ad9996fc0af12f8c",
      "692d20dcbae94aa780fe374cce4539a7",
      "e0dbbd7ca12b4805946b7e5c8f5f556f",
      "bf71ab3cefdb47ccb5f99a4357b62821",
      "fc29f5faea91400d9401411a42f42821",
      "01e8d15437214694862081f28104fb94",
      "c64efc03bfed40388a2eb98d96c0fed0",
      "9dfb5e6c2d57492782e1d5c4280479ed",
      "e50a261f487a4672b1ac9357ae078049",
      "20c948b1ff5241b4b0e6e4fd5f554e98",
      "d62abb11281c4715b44bc35d5f438211",
      "1f9209272a214f9588ffd583349e7730",
      "b87d2d7aa2fb414cbc789b66a58b4e71",
      "abbffdebf78b4c6ea49573fcf24d451b",
      "4982a411fe0b4f98aa5e219e5bbb77ff",
      "28e1b79158c54b05a84e65b3a9768845",
      "82bdf50e1e5c4dc2be97b3048922fbba",
      "55b8fa62455a44b38fb4a838bbc1d9e0",
      "469b10ec992d445f8f67dc1fdd7f7ae9",
      "d14f5347559f43e3b9b0b4a8516afdef",
      "4880e56bea3c4aeb96cf9bd8fc2e9db7",
      "0971072af90f4cd289576bf99fb21823",
      "cd44bb3e8ffa4873ae0c1a13790e73d7",
      "8d2c06348bd4468a9b33054cd1944ccb",
      "5be7faef9bb042a69d5f3b4e420eea74",
      "a2b85bf5222041e6b9a92ef0d401a0d7",
      "fca93186b43d40d39c48150ef23d9619",
      "d93506273dcf47f98afad801296465a9",
      "5cfe01697d2d4f2cb949f74f847e07b5",
      "b264c9f9ccfd42b69716bcecfe083f98",
      "61a5b11f739941539897e0113310147e",
      "9b446ce354a8410e92a4f1f632ca30eb",
      "afd0eb73601d48e5b695701c150d043c",
      "dca4346ac65a4acb93ffd3fc5c7deccc",
      "58306144d0d14605a7de623a28c9ab4d",
      "dab174cb0525415aad25dacff7dea35b",
      "90112053cd5b4baf812e49fc3e14bb93",
      "2f66545cc9634e55a41f7011ec2f05d0",
      "159f48ac40a343c3a5eaae03790c09e5",
      "379ff9140f894e2b9225ff55d15b165e",
      "5a2470a73b9a4a66a5ecc951e308cf0c",
      "8362b92259c54241b580d4d606cf68a3",
      "f67655edea6141a48b6fe0d580519da7",
      "eb8903e6c6e6405fba62a9cf969fe24d",
      "d1fd2ff969014a83a7b079ed4f5de6e3",
      "00a6f5ac79e14fb38e415657d780ae24",
      "89171e346c854c42a0a12c78409d359a",
      "fc131bed10ef4ff4891655408b3df96b",
      "7f815db75d6840be93ad2f7319f96302",
      "cc71959fa13a445fbf8c672fd33aadf8",
      "d6c7d0e36f87404e8b592cc5ea811b20",
      "d996a00f14034f32a64f8f0d02045dfa",
      "c83b581b6223459ab640dcc89f7a5af9",
      "1e1bf48a17b444d2b1ebc2710283426e",
      "5370c99c2b5f49538e66b9aeae959a20",
      "f1a4bb26194c47bc87e802fe4fcf4332",
      "4a3095c665a0405982117fa3f789acc2",
      "792dbbbb11844c3f85e32617d3ec2a5c",
      "d29667cd7b714cff8d727e514d373e96",
      "c9acde8b5e96491486ff46070dba369e",
      "f35c2e388a694444b1f09f0b681cd302",
      "82347cb01c1d439a866eff0a9861a365",
      "1659190dc6464f24af9f38804703f581",
      "fd0e7c810d7f48179e05afa10c08384a",
      "37df9d34ee2446c09f12401e3d6cac4c",
      "18c239f93c7c409295591900157888e4",
      "54b4154b65ba46c6833a626814d01aa2",
      "e7f955af6ec347cfbb15b59487e68e49",
      "577f09d7c74f4b9099ec1e784a47b361",
      "4549cfd17dcc4cfeb764577e70913fb5",
      "dd6f5637f29a4354b2ae8a3928b6280e",
      "7bac274905d94aef8cf60800de7e2a32",
      "b9172ba272a5430d8c990e19d29b7a3e",
      "19b74e0e9a5b440696e4263a388dc648",
      "90ba4ee736d1491589a0c65cc339437f",
      "afbafa1b7adb4eba8fc09129579d0503",
      "101666115c4c4f5c9a1b85732e2bf61a",
      "c788d1cac24f491d8faaaa16575c67c2",
      "9433845a85af40f0a680687a6f72e8c8",
      "5ebf0c37d4ff431fb2326616878d260e",
      "6ff44172c3dd40dd8af5492f464dde1d",
      "70e4a13795434c749e6d02811dea3a1c",
      "ac2205968f3342e68ec5f7ead8158d8b",
      "6cda90c848f54d35b29c0fb940cc8c00",
      "1ee18e016a1c4b6da39c84d28a10ac8b",
      "2dec96228e8143d4a6ae5d05393d73f4",
      "4b3e0a8311a44620ac0b0e0375f360fb",
      "e62c77632c7e42a78e2589504d851f15",
      "e82f6e871a064a619ff3bcb8556759f9",
      "80d07930987347e89dd13c0531f2efb1",
      "871ddcb40be242f6b7021b0822336480",
      "74b3712af5b64aed93fe553acfd03294",
      "faa4964db8524fff9b8d6e1d4d810138",
      "4a6719dfa03940f4a9d22e1e1c2dc91e",
      "ea34dc94be0341c09e5cce2e06108f39",
      "de6168ba2ac041d6a6afb5904837cfc6",
      "d0cedde9da454d228af7769f4da55cb7",
      "7e9ff25f8b8a428689479f469c9beda3",
      "4b0ae515a043413cb8b9172151bc051a",
      "b2db61f97565490eb33f65299fa5d23e",
      "afc425fd5bf34fcda21dd853de476aca",
      "e4e3be368e3140c3981efd9ec96732dd",
      "dd85a76299dc426891c3016982c17722",
      "9161dfbe00f542fb93766a9a9fce1ecc",
      "17f901bde4e440fa8f291d83d7cd4d76",
      "7a4cac86355a4fdd80d6e83d0d81a3e4",
      "68bfd80e7a2647dea72fd4e2ee34d2d3",
      "b2de4b16373e4df591eb5eb96314fccd",
      "42eeba3ed91f46aca59725ffa4aeb663",
      "4a622ba2faef47b8a9b786113531f8d9",
      "e328243759e540998f376f128cd5819e",
      "bf3a8ba243c04ca8bbf60b969578e0bf",
      "325a31f2505144308d378054378aae61",
      "9dd74ccd13af4643972e6052ccc14adc",
      "6751ecdd0e624333aa5b4834fac20c7d",
      "f7d0a0e52d0d45fbbe93647342629677",
      "add414c635f64022bfdfc1b67db3156a",
      "0418c2e3c0fd450d9191c3ff56d67ecc",
      "a8e3d73d11604f8fba19bfd40ebc4386",
      "b6ba1199ff5f49319ce7a91d06d532c2",
      "54b81e54e5a549778a204d474f17e241",
      "07e40375833d45cc968a69484293d2b2",
      "aff14a47c49c4b4da784392878acd877",
      "9840aa357ebe46e58b3fa1e7bfac2467",
      "e31d6c1341a949bb9685d057e9ed8119",
      "a4ffe93d9c4043b2a030019562970c39",
      "2678e0e2d275474e8cd4720f57b89f63",
      "52a12fa8e3664a9db66788db6ffdf150",
      "c458630849ef4359ac6f50994379d0ab",
      "7385699f36ff42c2993cb69ef615b3f7",
      "11f931d1ef474a97a6e7c589a1350d64",
      "79e9cd57ae414ea2ad6ff0db30999674",
      "feb714a7e33348b59295f6e621394a15",
      "dddcd6a430ba4356aa8c221a611c8aca",
      "b3103bb0c2b84637b3ab7b3e99c1fb81",
      "aa02b4b562bf49f1b2f8691f412929d2",
      "27f704b67e704e16b5b46ce536ee9df3",
      "b13de1a9587f47d4995a8210dd5d569b",
      "a05f91d3765e4bd5a9830739b8133986",
      "22221566587840428f7b0ecb3a1ffb0b",
      "9564c73e50e6450fb0499c672cdb791d",
      "66136aeeed42422bb29cc22dd8f7cff7",
      "46bca970c11646fe8db95b84fda87b56",
      "c493fc4e884542f885f034a0ab88ec82",
      "88660058730241d4966647ecadd1d481",
      "b70bb9fce5b1495794f248520d024526",
      "4be26685f3064bf5b9c3a40a38e096db",
      "56459d9122f44d8586fb26f6485a335b",
      "08ccf56f874c48239f783b3b9bd43f59",
      "15fbf61ef72246deb32696b896ad7e84",
      "a05fef315c644a22bc42b544e0a6b57c",
      "ccbc4f0176514e129e9d71407a4dd012",
      "b8ecc3d83df44d54873aea01397a27fd",
      "ed3100065f4949b8826f2c039766faf5",
      "b7527e36570441b2a0bcf32e69d2498d",
      "9c48e8629e954c60845d210800d0f699",
      "da32fc3b05504b4ebf4d9a164409cc48",
      "017c94ea6c1a464493d603ec5c63b379",
      "fa81df971bca41fb9940bcd40f168ef4",
      "c02ff28a786f423a942d16d90434e605",
      "f3f64fd75f7b4196b32d952238e7f645",
      "006d5a9665984782acb53a558a56f61a",
      "bc99eedbee594ef68666ab37b80547aa",
      "019912c1a9014cbeb3e850c8a3d9a858",
      "fe7578701d5741df9a24174bee4e1d62",
      "1362590ed4de4b4d9a8a8aa5611e176c",
      "696f48c716304b7d92c2045634779901",
      "7e8428607f8642719e6cc943cf3e1075",
      "60be21b8ab6446a092174f5e4af2ad9b",
      "5d9fefffc3854b3ebcb27fb12520119f",
      "92f5e7fa817a4237bb7dd64d46948f8d",
      "7368f702c6444338a03af8e4ad642a8d",
      "f623c74514d544d9a7aee7fe729c7230",
      "20c319469dcb462eab139c264fb40e24",
      "76161bdd6b2f472c90512146101aa00e",
      "483a12677d0141d79ad4dd3ef9277ed4",
      "032a5aa4fc0748c5bc78bef51d103629",
      "ed91c6bf8991415cbe51fd3a65cf0151",
      "1974db96794d40e3b402c81e4751e4da",
      "617aeab7050b40c3b6ccf0dcd29f9e74",
      "9135ed1c266a4963bba12e1d6c113849",
      "cacf06c6fb9d4b20894e78f13a67cace",
      "45e49defcabd420d8e38ebfa6ce7d4a0",
      "049e49fcb75c46a098c5223199fa495e",
      "11763eae464649ba915be526f4a5467d",
      "6e3c5d4ee706433b920223ca44d7e69a",
      "ab146eee09174124a48fc91370cfd63d",
      "e2001e13fe414060912ef7932b84f0fc",
      "3c0ed030183649c8bb8629ed303fe9dd",
      "c22dcf752d524949bee4b44aa9c16cc4",
      "b04aa68362d143f6bd8dfa4f6f5f69ad",
      "4a3f8d9f00a445788508081cf56961b3",
      "ab5b23601a604930af980fa146886140",
      "0da68e25c93f420cb869d70278e2d1bf",
      "11225068295443588afca85b009c59a1",
      "991f0e6c20274ca59bb7ed8071816f57",
      "972296e0fdca4338a5678da59a5fe923",
      "b562288eac0c48eab1b3ea5e93354826",
      "820073f9da9745dca6871d057cb1f588",
      "df85a30d6e7745749492dc2e3797209a",
      "2e73c78bf07b46dfa712569534229868",
      "51b40ed9b0aa4632a2c23113c7545e9f",
      "44264b1fb43b4133a43c165bc6f27a15",
      "e5f0f83179e04d76960f6c93a9b924c8",
      "51fd58daeece4a5cab2df3e53eae01b8",
      "63fda8acd2ef4b78b0e633a5ff081756",
      "b35fe8ebf83243c8bef29bd22dedc816",
      "c15eea3eb6064b0e8587801bec618fa5",
      "b0d7d618a53541a6bba03f5efb186ca6",
      "78c9463ba5b94fdb8fbdbefd555ca067",
      "59adc550a39a452da55cb816943216d3",
      "6a7bed587bdc4a289d36e570fc2d3786",
      "980dd0d06962437aa1c35094366073e9",
      "2180dbc3f842482fa935f5169dd4c355",
      "1235523e48c045c6a6a59776daf43c7c",
      "6d58434832d44bfcaf6bbf5e8c504d4f",
      "65ef23f7a07247fc8fa74cce4839be3f",
      "6d479d2216a84bc0b5bafacc481679f6",
      "de9b54884a304ee29e48f53cb22e0557",
      "a76036614d6e4f648841793a29722ff2",
      "e05ede00c3f74cff8c2978a15f642cf0",
      "9a220d5297ca4ca283a3441a958f7b2f",
      "f1436c69f7fc44e59691f1129364f31e",
      "e2bc29f662684ad6809254c30d5ed1a4",
      "45b46753a975497ea121ab74b5147f39",
      "c09742761e3649cab3878d766b475cf9",
      "5122dd500cce42f2bcd52ab54b9af9cf",
      "994eb0f1c3d040f58291fbe8ea450b55",
      "b6f6c68c4b594249ab8a78307d08f2b2",
      "5dcd8f8b1d154e5e8abf89b82a2e70ae",
      "ceb3c7372034460cab961f5be57f4e82",
      "5fecc741ea7a46fbb64d7fc3fb552256",
      "9e264cfbac3f446298f30a439da55476",
      "c93faa9e478149c8986abb558f041dbe",
      "a77d4d13a7754fe8bc5f3cce4d493e24",
      "bc5140da82c24472a41550dc8bac6ca4",
      "4ca4be05dd6e44f6868a68ad139c5f7c",
      "ceff25b4f4434650993fe8aa5aa992c0",
      "9a2e4a901e4d44eebb1cdb1b97f461b3",
      "61c556033dde4840871bc92afadd8acb",
      "1ccafa996d8c4ea0b6a261f0430e69f1",
      "f91561010dc24e9ab2e424822238a143",
      "81a4534590154887b07ab0b12fa902b9",
      "0a65343049b9487b8911e0c279be1cac",
      "51b57032b3c842caa4a80501915aa262",
      "e4f1e0de57d94a09b15c9c45ed5f204a",
      "c413f6dca947492f91f6dfad79143bc5",
      "1ec1c73fba2f476d99e7cafe28152165",
      "bc623ff5be184596b8b2b0748a09df53",
      "edd66d5458e84cb4a52b9beb2559f2ca",
      "4f38a138b6084818a016023481b4de05",
      "f4350d0624e14188b7abe66d7be4e627",
      "239d292bb6b24adb8170d45b3b530ea1",
      "6126ffb6c142442a978f445b1866f843",
      "ad1072125f07403bb363a5b8752ff136",
      "cc9ef95c790b442d8d1b63aea29c3940",
      "1bc6cd0e75164da0930c384d6997e509",
      "d54bc4a1f6a54db58c8321c786d286b5",
      "d04b133c800041c092cceef70cb02570",
      "4ec43e8328f34cc1a599d95c4ff50304",
      "5d13165cd3514338bbb8b063f97f8413",
      "cc0ae0cc306b4246a1595ab4258781ad",
      "fcd1f718ed3c4b28b984b49d30d97575",
      "57c4264607a04a2d8b3467e62919d5bd",
      "a315124acefc478b8089c1fa2dc68df8",
      "d3fbedef33c84bb8b1188fe903a940ae",
      "d6811b89410340afbc89537869896168",
      "ef9d02852d184418b99b9b998fde1a18",
      "e3c29c3901274c0d8b3c22e29d3f2192",
      "bbed5fb43f1e4b6a8269a762e507e7b2",
      "c682eadd918741149c86b0382d294606",
      "fe18210a934642eaaa4ce74d60778629",
      "b9e90ed6362f48d0ab58ce0c95761a91",
      "4153e775e84949a9bc51ceea619c03f8",
      "b72330d5453d4e9f9e78eaddb053b110",
      "f6177c3337c84303861d10a215b78358",
      "dbeb78cd830746e9bc45926647d41e7c",
      "517e0c774f3c420ca15f91ef2590b43a",
      "543ae2a3c9b144eb8d0d2834eebcae58",
      "d3c44425a5b84176a8195b5bcfbb87f1",
      "cbf863f70bd149a3a36faa46c4987a09",
      "475343c484bb440190b7489912bdd580",
      "54bd4d65d7a043b5a528103d96f5327e",
      "25d67c86c0d14848800fe6cb434452a8",
      "bd767480ba1b42d4a0e7a02dc693fe7b",
      "98082ad1ede8426584aa11d165e3d130",
      "06cbca2a47f543f0974b962247215f80",
      "37bebf0ddf2749419ccb9dc27d88efa5",
      "df307adc9d0a4b189fcdd5095600085f",
      "f28de61d01004a4eb159210ccbbc538f",
      "4194e216b2054069904c521488f203b8",
      "10e241a3fee64311b0ee59a16b1a7018",
      "38a60eff49d6453e967f0d10a29ab4e3"
     ]
    },
    "executionInfo": {
     "elapsed": 752408,
     "status": "ok",
     "timestamp": 1761039066885,
     "user": {
      "displayName": "Bills",
      "userId": "16820590928381597871"
     },
     "user_tz": -120
    },
    "id": "5ZJNeq7_HYqJ",
    "outputId": "48cd26a6-98b6-419d-aac7-d02c27d87cb1"
   },
   "outputs": [],
   "source": [
    "# RUN THE TRAINING AND EVALUATION PIPELINE\n",
    "\n",
    "from sklearn.model_selection import train_test_split\n",
    "from torch_geometric.loader import DataLoader\n",
    "import pytorch_lightning as pl\n",
    "from Classification.src.sider_gnn import SIDERGraphDataset, MPNN_SIDER\n",
    "\n",
    "sider_dataset = SIDERGraphDataset(root='./sider_pyg', df=df_cleaned)\n",
    "\n",
    "# Split the dataset\n",
    "# We split the list of graph objects, not X and y matrices.\n",
    "train_data, test_data = train_test_split(\n",
    "    sider_dataset, train_size=0.8, random_state=0, shuffle=True\n",
    ")\n",
    "train_data, val_data = train_test_split(\n",
    "    train_data, train_size=0.9, random_state=42, shuffle=True # 10% of train for validation\n",
    ")\n",
    "\n",
    "# DataLoaders handle batching of graphs for the model\n",
    "train_loader = DataLoader(train_data, batch_size=32, shuffle=True)\n",
    "val_loader = DataLoader(val_data, batch_size=32, shuffle=False)\n",
    "test_loader = DataLoader(test_data, batch_size=32, shuffle=False)\n",
    "\n",
    "# Initialize and Train the Model\n",
    "gnn_model = MPNN_SIDER(hidden_dim=64, out_dim=27, lr=0.001)\n",
    "\n",
    "# PyTorch Lightning Trainer\n",
    "trainer = pl.Trainer(max_epochs=50, log_every_n_steps=10)\n",
    "trainer.fit(model=gnn_model, train_dataloaders=train_loader, val_dataloaders=val_loader)\n",
    "\n",
    "# Evaluation\n",
    "trainer.test(model=gnn_model, dataloaders=test_loader)"
   ]
  },
  {
   "cell_type": "markdown",
   "metadata": {
    "id": "DRtJmfenvrs8"
   },
   "source": [
    "## Bayesian Optimization"
   ]
  },
  {
   "cell_type": "code",
   "execution_count": null,
   "metadata": {
    "executionInfo": {
     "elapsed": 8504,
     "status": "ok",
     "timestamp": 1761056848052,
     "user": {
      "displayName": "Bills",
      "userId": "16820590928381597871"
     },
     "user_tz": -120
    },
    "id": "SFG4q-Ag18Qx"
   },
   "outputs": [],
   "source": [
    "from sklearn.model_selection import train_test_split\n",
    "from torch_geometric.loader import DataLoader\n",
    "import pytorch_lightning as pl\n",
    "from Classification.src.sider_gnn import SIDERGraphDataset, MPNN_SIDER\n",
    "\n",
    "sider_dataset = SIDERGraphDataset(root='./sider_pyg', df=df_cleaned)\n",
    "\n",
    "# Split the dataset\n",
    "# We split the list of graph objects, not X and y matrices.\n",
    "train_data, test_data = train_test_split(\n",
    "    sider_dataset, train_size=0.8, random_state=0, shuffle=True\n",
    ")\n",
    "train_data, val_data = train_test_split(\n",
    "    train_data, train_size=0.9, random_state=42, shuffle=True # 10% of train for validation\n",
    ")\n",
    "\n",
    "# DataLoaders handle batching of graphs for the model\n",
    "train_loader = DataLoader(train_data, batch_size=32, shuffle=True)\n",
    "val_loader = DataLoader(val_data, batch_size=32, shuffle=False)\n",
    "test_loader = DataLoader(test_data, batch_size=32, shuffle=False)"
   ]
  },
  {
   "cell_type": "code",
   "execution_count": null,
   "metadata": {
    "collapsed": true,
    "id": "BTDmVQDNxB2p"
   },
   "outputs": [],
   "source": [
    "from Classification.src.sider_gnn_bayesian_opti import objective\n",
    "\n",
    "import optuna\n",
    "\n",
    "!wandb login\n",
    "\n",
    "# Minimize the validation loss\n",
    "study = optuna.create_study(direction=\"minimize\")\n",
    "study.optimize(\n",
    "    lambda trial: objective(trial, train_loader, val_loader),\n",
    "    n_trials=10)\n",
    "# A trial = one test with a single combination of hyperparameters by training your GNN for the maximum of epochs\n",
    "\n",
    "print(\"\\n--- Bayesian Optimization Complete ---\")\n",
    "print(f\"Best validation loss: {study.best_value:.4f}\")\n",
    "print(\"Best hyperparameters found:\", study.best_params)"
   ]
  },
  {
   "cell_type": "code",
   "execution_count": null,
   "metadata": {
    "colab": {
     "base_uri": "https://localhost:8080/"
    },
    "executionInfo": {
     "elapsed": 43,
     "status": "ok",
     "timestamp": 1761061996108,
     "user": {
      "displayName": "Bills",
      "userId": "16820590928381597871"
     },
     "user_tz": -120
    },
    "id": "G_SsDTUueTM-",
    "outputId": "17cf57ed-ebd6-409d-c527-f6857f014200"
   },
   "outputs": [],
   "source": [
    "completed_trials = len([t for t in study.trials if t.state == optuna.trial.TrialState.COMPLETE])\n",
    "\n",
    "if completed_trials > 0:\n",
    "    print(f\"{completed_trials} trials were completed before stopping.\")\n",
    "\n",
    "    print(\"\\nBest hyperparameters found so far:\")\n",
    "    print(study.best_params)\n",
    "\n",
    "    print(f\"\\nBest validation loss so far: {study.best_value:.4f}\")\n",
    "else:\n",
    "    print(\"No trials were completed before stopping.\")"
   ]
  },
  {
   "cell_type": "code",
   "execution_count": null,
   "metadata": {
    "collapsed": true,
    "id": "WOOkujmYxTY-"
   },
   "outputs": [],
   "source": [
    "from pytorch_lightning.callbacks import ModelCheckpoint\n",
    "\n",
    "best_params = study.best_params\n",
    "print(\"Best hyperparameters found by Bayesian Optimization:\")\n",
    "print(best_params)\n",
    "\n",
    "final_gnn_model = MPNN_SIDER(\n",
    "    hidden_dim=best_params['hidden_dim'],\n",
    "    out_dim=27,\n",
    "    lr=best_params['lr']\n",
    ")\n",
    "\n",
    "# save the best version of this final model\n",
    "final_checkpoint_callback = ModelCheckpoint(\n",
    "    monitor=\"val_loss\",\n",
    "    dirpath=\"final_model_checkpoints/\",\n",
    "    filename=\"best-final-gnn-model\",\n",
    "    save_top_k=1,\n",
    "    mode=\"min\"\n",
    ")\n",
    "\n",
    "final_trainer = pl.Trainer(\n",
    "    max_epochs=50,\n",
    "    callbacks=[final_checkpoint_callback],\n",
    "    accelerator=\"auto\"\n",
    ")\n",
    "\n",
    "print(\"\\n--- Training the final GNN model with the best hyperparameters... ---\")\n",
    "\n",
    "# Train the final model\n",
    "final_trainer.fit(model=final_gnn_model, train_dataloaders=train_loader, val_dataloaders=val_loader)\n",
    "\n",
    "print(\"\\n--- Final evaluation on the test set... ---\")\n",
    "final_trainer.test(model=final_gnn_model, dataloaders=test_loader, ckpt_path=\"best\")"
   ]
  },
  {
   "cell_type": "code",
   "execution_count": null,
   "metadata": {
    "colab": {
     "base_uri": "https://localhost:8080/",
     "height": 279,
     "referenced_widgets": [
      "0a5293c996fa4506ad3b30fdc6fe8d50",
      "21afc02bf6384a15a5e9e89ca3c0773b",
      "40e5c2c61b8e44a49e9d095500c72d6d",
      "14d5456af8e44b7a878a0770b84b7d49",
      "48a642d68932405d95130e37b8677580",
      "9a97cdb498a04c40965fb203b4339574",
      "375950639a5542e7b14ce35346e7113c",
      "5fd79e1304a14a0cb93801d9f633f550",
      "06d6828212304eeda7b00a670f8f5051",
      "7c4fecedeb22476e84ba9b2a2b0e2e1b",
      "21f070155a1e412d95782011628d455c"
     ]
    },
    "executionInfo": {
     "elapsed": 17317,
     "status": "ok",
     "timestamp": 1761066678232,
     "user": {
      "displayName": "Bills",
      "userId": "16820590928381597871"
     },
     "user_tz": -120
    },
    "id": "wNLO4GswtKaO",
    "outputId": "669a03d6-0f49-48b9-b19c-2c81b52d798c"
   },
   "outputs": [],
   "source": [
    "checkpoint_path = \"final_model_checkpoints/best-final-gnn-model.ckpt\"\n",
    "\n",
    "best_model_from_checkpoint = MPNN_SIDER.load_from_checkpoint(\n",
    "    checkpoint_path,\n",
    "    hidden_dim=best_params['hidden_dim'], # Use the value found from optimization\n",
    "    out_dim=27\n",
    ")\n",
    "\n",
    "test_trainer = pl.Trainer()\n",
    "test_trainer.test(model=best_model_from_checkpoint, dataloaders=test_loader)"
   ]
  },
  {
   "cell_type": "markdown",
   "metadata": {
    "id": "vWN0FibTdl-a"
   },
   "source": [
    "## Use a pre-trained Transformer"
   ]
  },
  {
   "cell_type": "code",
   "execution_count": null,
   "metadata": {
    "executionInfo": {
     "elapsed": 66,
     "status": "ok",
     "timestamp": 1761072934025,
     "user": {
      "displayName": "Bills",
      "userId": "16820590928381597871"
     },
     "user_tz": -120
    },
    "id": "N7ZSIQTAdprK"
   },
   "outputs": [],
   "source": [
    "import torch\n",
    "import numpy as np\n",
    "from transformers import AutoTokenizer, AutoModel\n",
    "import pandas as pd\n",
    "from tqdm import tqdm\n",
    "\n",
    "def get_chemberta_embeddings(smiles_list):\n",
    "    \"\"\"\n",
    "    Generates embeddings for a list of SMILES strings using a pretrained ChemBERTa model.\n",
    "    \"\"\"\n",
    "    tokenizer = AutoTokenizer.from_pretrained(\"seyonec/ChemBERTa-zinc-base-v1\")\n",
    "    model = AutoModel.from_pretrained(\"seyonec/ChemBERTa-zinc-base-v1\")\n",
    "\n",
    "    model.eval()\n",
    "\n",
    "    all_embeddings = []\n",
    "\n",
    "    for smiles in tqdm(smiles_list):\n",
    "        inputs = tokenizer(smiles, return_tensors=\"pt\", padding=True, truncation=True, max_length=128)\n",
    "\n",
    "        # Get embeddings without calculating gradients for faster inference\n",
    "        with torch.no_grad():\n",
    "            outputs = model(**inputs)\n",
    "\n",
    "        # Use the representation of the [CLS] token, which summarizes the entire molecule\n",
    "        embedding = outputs.last_hidden_state[0, 0, :].numpy()\n",
    "        all_embeddings.append(embedding)\n",
    "\n",
    "    return np.array(all_embeddings)"
   ]
  },
  {
   "cell_type": "code",
   "execution_count": null,
   "metadata": {
    "id": "vCJrj-ABduZV"
   },
   "outputs": [],
   "source": [
    "X_transformer_features = get_chemberta_embeddings(df_cleaned['canonical_smiles'].tolist())"
   ]
  },
  {
   "cell_type": "code",
   "execution_count": null,
   "metadata": {
    "colab": {
     "base_uri": "https://localhost:8080/"
    },
    "executionInfo": {
     "elapsed": 29,
     "status": "ok",
     "timestamp": 1761073873004,
     "user": {
      "displayName": "Bills",
      "userId": "16820590928381597871"
     },
     "user_tz": -120
    },
    "id": "N5zupY2RJTxH",
    "outputId": "1c74c88e-de68-46e8-b94a-2c0d0adfc007"
   },
   "outputs": [],
   "source": [
    "print(f\"Shape of the feature matrix (X): {X_transformer_features.shape}\")"
   ]
  },
  {
   "cell_type": "code",
   "execution_count": null,
   "metadata": {
    "colab": {
     "base_uri": "https://localhost:8080/"
    },
    "executionInfo": {
     "elapsed": 101341,
     "status": "ok",
     "timestamp": 1761075177087,
     "user": {
      "displayName": "Bills",
      "userId": "16820590928381597871"
     },
     "user_tz": -120
    },
    "id": "OKO5IvtGLXM9",
    "outputId": "2ba9ea9c-1732-4f69-a408-f06122b9646a"
   },
   "outputs": [],
   "source": [
    "from sklearn.model_selection import train_test_split\n",
    "from sklearn.ensemble import RandomForestClassifier\n",
    "from sklearn.multioutput import MultiOutputClassifier\n",
    "from sklearn.metrics import hamming_loss, classification_report, roc_auc_score\n",
    "\n",
    "y = df_final.iloc[:, 2:29]\n",
    "X_train, X_test, y_train, y_test = train_test_split(X_transformer_features, y, test_size=0.2, random_state=42)\n",
    "\n",
    "# Choose the best parameters from grid search\n",
    "base_classifier = RandomForestClassifier(max_depth=50, n_estimators=100, random_state=42, class_weight='balanced')\n",
    "\n",
    "multi_label_model = MultiOutputClassifier(estimator=base_classifier)\n",
    "\n",
    "print(\"Training the multi-label model\")\n",
    "multi_label_model.fit(X_train, y_train)\n",
    "\n",
    "# 1. Get the list of probability arrays\n",
    "y_pred_proba_list = multi_label_model.predict_proba(X_test)\n",
    "\n",
    "# 2. Reshape the probabilities into a proper 2D DataFrame\n",
    "# We iterate through the list and extract the probability of the positive class (column at index 1) for each label.\n",
    "y_pred_proba_df = pd.DataFrame({\n",
    "    y_test.columns[i]: proba[:, 1]\n",
    "    for i, proba in enumerate(y_pred_proba_list)\n",
    "})\n",
    "\n",
    "# 3. Calculate metrics\n",
    "predictions = multi_label_model.predict(X_test)\n",
    "loss = hamming_loss(y_test, predictions)\n",
    "\n",
    "# Use the correctly formatted probabilities DataFrame for roc_auc_score\n",
    "roc_auc_macro = roc_auc_score(y_test, y_pred_proba_df, average='macro')\n",
    "roc_auc_micro = roc_auc_score(y_test, y_pred_proba_df, average='micro')\n",
    "\n",
    "print(f\"\\nHamming Loss: {loss:.4f}\")\n",
    "print(f\"ROC AUC Score (Macro Average): {roc_auc_macro:.4f}\")\n",
    "print(f\"ROC AUC Score (Micro Average): {roc_auc_micro:.4f}\")"
   ]
  },
  {
   "cell_type": "code",
   "execution_count": null,
   "metadata": {
    "colab": {
     "base_uri": "https://localhost:8080/"
    },
    "executionInfo": {
     "elapsed": 63,
     "status": "ok",
     "timestamp": 1761074763298,
     "user": {
      "displayName": "Bills",
      "userId": "16820590928381597871"
     },
     "user_tz": -120
    },
    "id": "bScqra9LMMY9",
    "outputId": "84aa711e-ba46-4e50-8efb-78d677b09a01"
   },
   "outputs": [],
   "source": [
    "print(classification_report(y_test, predictions, target_names=y.columns))"
   ]
  },
  {
   "cell_type": "markdown",
   "metadata": {},
   "source": [
    "## Multi-Layer Perceptron (MLP)"
   ]
  },
  {
   "cell_type": "code",
   "execution_count": null,
   "metadata": {},
   "outputs": [],
   "source": [
    "import torch\n",
    "import torch.nn as nn\n",
    "import pytorch_lightning as pl\n",
    "from torch.utils.data import Dataset, DataLoader, random_split\n",
    "from pytorch_lightning.callbacks import ModelCheckpoint, EarlyStopping\n",
    "from sklearn.metrics import roc_auc_score\n",
    "import numpy as np\n",
    "\n",
    "\n",
    "class SIDERDataset(Dataset):\n",
    "    \"\"\"PyTorch Dataset wrapper for SIDER data.\"\"\"\n",
    "    def __init__(self, X, y):\n",
    "        self.X = torch.FloatTensor(X)\n",
    "        self.y = torch.FloatTensor(y.values if hasattr(y, 'values') else y)\n",
    "\n",
    "    def __len__(self):\n",
    "        return len(self.X)\n",
    "\n",
    "    def __getitem__(self, idx):\n",
    "        return self.X[idx], self.y[idx]\n",
    "\n",
    "\n",
    "class MLP_SIDER(pl.LightningModule):\n",
    "    \"\"\"\n",
    "    Multi-Layer Perceptron for SIDER multi-label classification.\n",
    "    \n",
    "    Args:\n",
    "        input_dim: Number of input features\n",
    "        hidden_dims: List of hidden layer dimensions\n",
    "        out_dim: Number of output labels (27 for SIDER)\n",
    "        dropout: Dropout probability for regularization\n",
    "        lr: Learning rate\n",
    "    \"\"\"\n",
    "    \n",
    "    def __init__(self, input_dim, hidden_dims=[512, 256, 128], out_dim=27, dropout=0.3, lr=0.001):\n",
    "        super().__init__()\n",
    "        self.save_hyperparameters()\n",
    "        self.lr = lr\n",
    "        \n",
    "        # Build MLP architecture dynamically\n",
    "        layers = []\n",
    "        prev_dim = input_dim\n",
    "        \n",
    "        # Add hidden layers with activation, batch norm, and dropout\n",
    "        for hidden_dim in hidden_dims:\n",
    "            layers.append(nn.Linear(prev_dim, hidden_dim))\n",
    "            layers.append(nn.ReLU())\n",
    "            layers.append(nn.BatchNorm1d(hidden_dim))\n",
    "            layers.append(nn.Dropout(dropout))\n",
    "            prev_dim = hidden_dim\n",
    "        \n",
    "        # Output layer (no activation - using BCEWithLogitsLoss)\n",
    "        layers.append(nn.Linear(prev_dim, out_dim))\n",
    "        \n",
    "        self.network = nn.Sequential(*layers)\n",
    "        \n",
    "        # Loss function for multi-label classification\n",
    "        self.criterion = nn.BCEWithLogitsLoss()\n",
    "        \n",
    "    def forward(self, x):\n",
    "        return self.network(x)\n",
    "    \n",
    "    def training_step(self, batch, batch_idx):\n",
    "        x, y = batch\n",
    "        logits = self(x)\n",
    "        loss = self.criterion(logits, y)\n",
    "        self.log('train_loss', loss, on_step=False, on_epoch=True, prog_bar=True)\n",
    "        return loss\n",
    "    \n",
    "    def validation_step(self, batch, batch_idx):\n",
    "        x, y = batch\n",
    "        logits = self(x)\n",
    "        loss = self.criterion(logits, y)\n",
    "        self.log('val_loss', loss, on_step=False, on_epoch=True, prog_bar=True)\n",
    "        return loss\n",
    "    \n",
    "    def test_step(self, batch, batch_idx):\n",
    "        x, y = batch\n",
    "        logits = self(x)\n",
    "        probs = torch.sigmoid(logits)\n",
    "        return {'preds': probs, 'targets': y}\n",
    "    \n",
    "    def configure_optimizers(self):\n",
    "        optimizer = torch.optim.Adam(self.parameters(), lr=self.lr)\n",
    "        scheduler = torch.optim.lr_scheduler.ReduceLROnPlateau(\n",
    "            optimizer, mode='min', factor=0.5, patience=5\n",
    "        )\n",
    "        return {\n",
    "            'optimizer': optimizer,\n",
    "            'lr_scheduler': {\n",
    "                'scheduler': scheduler,\n",
    "                'monitor': 'val_loss'\n",
    "            }\n",
    "        }"
   ]
  },
  {
   "cell_type": "code",
   "execution_count": null,
   "metadata": {},
   "outputs": [],
   "source": [
    "# Prepare data for MLP\n",
    "# Using the same split as before (X_train_scaled, X_test_scaled from cell 15)\n",
    "\n",
    "train_dataset = SIDERDataset(X_train_scaled, y_train)\n",
    "test_dataset = SIDERDataset(X_test_scaled, y_test)\n",
    "\n",
    "# Create validation split from training data\n",
    "train_size = int(0.9 * len(train_dataset))\n",
    "val_size = len(train_dataset) - train_size\n",
    "train_subset, val_subset = random_split(\n",
    "    train_dataset, [train_size, val_size],\n",
    "    generator=torch.Generator().manual_seed(42)\n",
    ")\n",
    "\n",
    "# Create data loaders\n",
    "batch_size = 32\n",
    "train_loader = DataLoader(train_subset, batch_size=batch_size, shuffle=True)\n",
    "val_loader = DataLoader(val_subset, batch_size=batch_size, shuffle=False)\n",
    "test_loader = DataLoader(test_dataset, batch_size=batch_size, shuffle=False)\n",
    "\n",
    "print(f\"Training samples: {len(train_subset)}\")\n",
    "print(f\"Validation samples: {len(val_subset)}\")\n",
    "print(f\"Test samples: {len(test_dataset)}\")\n",
    "print(f\"Input features: {X_train_scaled.shape[1]}\")"
   ]
  },
  {
   "cell_type": "code",
   "execution_count": null,
   "metadata": {},
   "outputs": [],
   "source": [
    "# Initialize MLP model\n",
    "input_dim = X_train_scaled.shape[1]\n",
    "mlp_model = MLP_SIDER(\n",
    "    input_dim=input_dim,\n",
    "    hidden_dims=[512, 256, 128],\n",
    "    out_dim=27,\n",
    "    dropout=0.3,\n",
    "    lr=0.001\n",
    ")\n",
    "\n",
    "# Setup callbacks\n",
    "checkpoint_callback = ModelCheckpoint(\n",
    "    monitor='val_loss',\n",
    "    dirpath='mlp_checkpoints/',\n",
    "    filename='best-mlp-model',\n",
    "    save_top_k=1,\n",
    "    mode='min'\n",
    ")\n",
    "\n",
    "early_stop_callback = EarlyStopping(\n",
    "    monitor='val_loss',\n",
    "    patience=15,\n",
    "    mode='min',\n",
    "    verbose=True\n",
    ")\n",
    "\n",
    "# Train the model\n",
    "trainer = pl.Trainer(\n",
    "    max_epochs=100,\n",
    "    callbacks=[checkpoint_callback, early_stop_callback],\n",
    "    accelerator='auto',\n",
    "    log_every_n_steps=10\n",
    ")\n",
    "\n",
    "print(\"--- Training MLP model... ---\")\n",
    "trainer.fit(mlp_model, train_loader, val_loader)"
   ]
  },
  {
   "cell_type": "code",
   "execution_count": null,
   "metadata": {},
   "outputs": [],
   "source": [
    "# Evaluate on test set\n",
    "print(\"\\n--- Evaluating MLP on test set... ---\")\n",
    "\n",
    "mlp_model.eval()\n",
    "all_preds = []\n",
    "all_targets = []\n",
    "\n",
    "with torch.no_grad():\n",
    "    for batch in test_loader:\n",
    "        x, y = batch\n",
    "        logits = mlp_model(x)\n",
    "        probs = torch.sigmoid(logits)\n",
    "        all_preds.append(probs.cpu().numpy())\n",
    "        all_targets.append(y.cpu().numpy())\n",
    "\n",
    "all_preds = np.vstack(all_preds)\n",
    "all_targets = np.vstack(all_targets)\n",
    "\n",
    "# Calculate macro AUC-ROC\n",
    "macro_auc = roc_auc_score(all_targets, all_preds, average='macro')\n",
    "micro_auc = roc_auc_score(all_targets, all_preds, average='micro')\n",
    "\n",
    "print(f\"\\nMLP Performance:\")\n",
    "print(f\"Macro AUC-ROC: {macro_auc:.4f}\")\n",
    "print(f\"Micro AUC-ROC: {micro_auc:.4f}\")"
   ]
  }
 ],
 "metadata": {
  "colab": {
   "authorship_tag": "ABX9TyOghjmCSkVubGCwJVboA8i1",
   "collapsed_sections": [
    "L84ZGQCwFKNY",
    "VT7kFlA7C50I",
    "x5UkHe9UC-59",
    "OFSgwiDsjASL",
    "MangafTTE-Pr",
    "D1vvyazkxHZR",
    "9a5V9iERw9mE",
    "TE939ucPa1k1",
    "DRtJmfenvrs8",
    "vWN0FibTdl-a"
   ],
   "provenance": [
    {
     "file_id": "1qGQskK2O1R0hsLtyQm0FGNhrbCrN4VHD",
     "timestamp": 1760622540773
    }
   ]
  },
  "kernelspec": {
   "display_name": "Python 3",
   "name": "python3"
  },
  "language_info": {
   "codemirror_mode": {
    "name": "ipython",
    "version": 3
   },
   "file_extension": ".py",
   "mimetype": "text/x-python",
   "name": "python",
   "nbconvert_exporter": "python",
   "pygments_lexer": "ipython3",
   "version": "3.11.12"
  }
 },
 "nbformat": 4,
 "nbformat_minor": 0
}
