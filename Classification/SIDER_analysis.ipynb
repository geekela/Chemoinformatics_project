{
 "cells": [
  {
   "cell_type": "markdown",
   "metadata": {
    "colab_type": "text",
    "id": "view-in-github"
   },
   "source": [
    "<a href=\"https://colab.research.google.com/github/geekela/Chemoinformatics_project/blob/main/Classification/SIDER_analysis.ipynb\" target=\"_parent\"><img src=\"https://colab.research.google.com/assets/colab-badge.svg\" alt=\"Open In Colab\"/></a>"
   ]
  },
  {
   "cell_type": "markdown",
   "metadata": {
    "id": "L84ZGQCwFKNY"
   },
   "source": [
    "## Import"
   ]
  },
  {
   "cell_type": "code",
   "execution_count": null,
   "metadata": {
    "collapsed": true,
    "id": "K8jy2HFHJrxy"
   },
   "outputs": [],
   "source": [
    "!pip install -r requirements.txt\n",
    "!pip install deepchem\n",
    "!pip install rdkit\n",
    "!pip install pycm\n",
    "!pip install pytorch-lightning wandb rdkit ogb\n",
    "!pip install torch_geometric\n",
    "!pip install optuna"
   ]
  },
  {
   "cell_type": "code",
   "execution_count": null,
   "metadata": {
    "collapsed": true,
    "id": "vbCsSN36FH3s"
   },
   "outputs": [],
   "source": [
    "import pandas as pd\n",
    "import numpy as np\n",
    "import seaborn as sns\n",
    "import matplotlib.pyplot as plt\n",
    "import deepchem as dc\n",
    "from sklearn.feature_selection import VarianceThreshold\n",
    "from sklearn.decomposition import PCA\n",
    "from sklearn.preprocessing import StandardScaler\n",
    "from sklearn.model_selection import train_test_split\n",
    "from rdkit import Chem\n",
    "from rdkit.Chem import Draw, rdFingerprintGenerator, AllChem\n",
    "from rdkit.Chem.Descriptors import MolWt, TPSA, NumHDonors, NumHAcceptors\n",
    "from rdkit.ML.Descriptors.MoleculeDescriptors import MolecularDescriptorCalculator"
   ]
  },
  {
   "cell_type": "code",
   "execution_count": null,
   "metadata": {
    "id": "r3hQdk1qFkr2"
   },
   "outputs": [],
   "source": [
    "df=pd.read_csv('content/Chemoinformatics_project/data/raw/sider.csv')"
   ]
  },
  {
   "cell_type": "code",
   "execution_count": null,
   "metadata": {
    "colab": {
     "base_uri": "https://localhost:8080/",
     "height": 342
    },
    "id": "8LdihGwgGIuE",
    "outputId": "fa19ebda-0c84-4f4a-bbdc-bf5a23ebc994"
   },
   "outputs": [],
   "source": [
    "df.head()"
   ]
  },
  {
   "cell_type": "markdown",
   "metadata": {
    "id": "VT7kFlA7C50I"
   },
   "source": [
    "## Pre-processing"
   ]
  },
  {
   "cell_type": "code",
   "execution_count": null,
   "metadata": {
    "colab": {
     "base_uri": "https://localhost:8080/",
     "height": 1000
    },
    "collapsed": true,
    "id": "kyEKHqSKH57g",
    "outputId": "9068ae54-5df0-42e6-b54c-ada81cfeed63"
   },
<<<<<<< HEAD
   "outputs": [],
=======
   "outputs": [
    {
     "name": "stdout",
     "output_type": "stream",
     "text": [
      "\n",
      "Non-Numeric Columns (Categorical/Objects):\n",
      "['smiles']\n"
     ]
    },
    {
     "name": "stderr",
     "output_type": "stream",
     "text": [
      "[14:27:44] WARNING: not removing hydrogen atom without neighbors\n",
      "[14:27:44] WARNING: not removing hydrogen atom without neighbors\n",
      "[14:27:44] WARNING: not removing hydrogen atom without neighbors\n",
      "[14:27:44] WARNING: not removing hydrogen atom without neighbors\n",
      "[14:27:44] WARNING: not removing hydrogen atom without neighbors\n",
      "[14:27:44] WARNING: not removing hydrogen atom without neighbors\n",
      "[14:27:44] WARNING: not removing hydrogen atom without neighbors\n",
      "[14:27:44] WARNING: not removing hydrogen atom without neighbors\n",
      "[14:27:45] WARNING: not removing hydrogen atom without neighbors\n",
      "[14:27:45] WARNING: not removing hydrogen atom without neighbors\n",
      "[14:27:45] WARNING: not removing hydrogen atom without neighbors\n",
      "[14:27:45] WARNING: not removing hydrogen atom without neighbors\n",
      "[14:27:45] WARNING: not removing hydrogen atom without neighbors\n",
      "[14:27:46] WARNING: not removing hydrogen atom without neighbors\n",
      "[14:27:46] WARNING: not removing hydrogen atom without neighbors\n",
      "[14:27:46] WARNING: not removing hydrogen atom without neighbors\n",
      "[14:27:46] WARNING: not removing hydrogen atom without neighbors\n",
      "[14:27:46] WARNING: not removing hydrogen atom without neighbors\n",
      "[14:27:46] WARNING: not removing hydrogen atom without neighbors\n",
      "[14:27:46] WARNING: not removing hydrogen atom without neighbors\n",
      "[14:27:46] WARNING: not removing hydrogen atom without neighbors\n",
      "[14:27:46] WARNING: not removing hydrogen atom without neighbors\n",
      "[14:27:46] WARNING: not removing hydrogen atom without neighbors\n",
      "[14:27:46] WARNING: not removing hydrogen atom without neighbors\n",
      "[14:27:46] WARNING: not removing hydrogen atom without neighbors\n",
      "[14:27:46] WARNING: not removing hydrogen atom without neighbors\n"
     ]
    },
    {
     "name": "stdout",
     "output_type": "stream",
     "text": [
      "\n",
      "--- SIDER Preprocessing Report ---\n",
      "\n",
      "Final dataset size: (1427, 29)\n",
      "\n"
     ]
    },
    {
     "data": {
      "application/vnd.google.colaboratory.intrinsic+json": {
       "type": "dataframe"
      },
      "text/html": [
       "\n",
       "  <div id=\"df-ac624b06-11d1-41ee-975b-1662f1e490d3\" class=\"colab-df-container\">\n",
       "    <div>\n",
       "<style scoped>\n",
       "    .dataframe tbody tr th:only-of-type {\n",
       "        vertical-align: middle;\n",
       "    }\n",
       "\n",
       "    .dataframe tbody tr th {\n",
       "        vertical-align: top;\n",
       "    }\n",
       "\n",
       "    .dataframe thead th {\n",
       "        text-align: right;\n",
       "    }\n",
       "</style>\n",
       "<table border=\"1\" class=\"dataframe\">\n",
       "  <thead>\n",
       "    <tr style=\"text-align: right;\">\n",
       "      <th></th>\n",
       "      <th>canonical_smiles</th>\n",
       "      <th>Hepatobiliary disorders</th>\n",
       "      <th>Metabolism and nutrition disorders</th>\n",
       "      <th>Product issues</th>\n",
       "      <th>Eye disorders</th>\n",
       "      <th>Investigations</th>\n",
       "      <th>Musculoskeletal and connective tissue disorders</th>\n",
       "      <th>Gastrointestinal disorders</th>\n",
       "      <th>Social circumstances</th>\n",
       "      <th>Immune system disorders</th>\n",
       "      <th>...</th>\n",
       "      <th>Infections and infestations</th>\n",
       "      <th>Respiratory, thoracic and mediastinal disorders</th>\n",
       "      <th>Psychiatric disorders</th>\n",
       "      <th>Renal and urinary disorders</th>\n",
       "      <th>Pregnancy, puerperium and perinatal conditions</th>\n",
       "      <th>Ear and labyrinth disorders</th>\n",
       "      <th>Cardiac disorders</th>\n",
       "      <th>Nervous system disorders</th>\n",
       "      <th>Injury, poisoning and procedural complications</th>\n",
       "      <th>Molecule</th>\n",
       "    </tr>\n",
       "  </thead>\n",
       "  <tbody>\n",
       "    <tr>\n",
       "      <th>0</th>\n",
       "      <td>NCCNCCNCCNCCN</td>\n",
       "      <td>1</td>\n",
       "      <td>1</td>\n",
       "      <td>0</td>\n",
       "      <td>0</td>\n",
       "      <td>1</td>\n",
       "      <td>1</td>\n",
       "      <td>1</td>\n",
       "      <td>0</td>\n",
       "      <td>0</td>\n",
       "      <td>...</td>\n",
       "      <td>0</td>\n",
       "      <td>1</td>\n",
       "      <td>1</td>\n",
       "      <td>0</td>\n",
       "      <td>0</td>\n",
       "      <td>1</td>\n",
       "      <td>1</td>\n",
       "      <td>1</td>\n",
       "      <td>0</td>\n",
       "      <td style=\"text-align: center;\"><div style=\"width: 200px; height: 200px\" data-content=\"rdkit/molecule\"><img src=\"data:image/png;base64,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\" alt=\"Mol\"/></div></td>\n",
       "    </tr>\n",
       "    <tr>\n",
       "      <th>1</th>\n",
       "      <td>CC(C)(C)c1cc(C(C)(C)C)c(NC(=O)c2c[nH]c3ccccc3c...</td>\n",
       "      <td>0</td>\n",
       "      <td>1</td>\n",
       "      <td>0</td>\n",
       "      <td>0</td>\n",
       "      <td>1</td>\n",
       "      <td>1</td>\n",
       "      <td>1</td>\n",
       "      <td>0</td>\n",
       "      <td>0</td>\n",
       "      <td>...</td>\n",
       "      <td>1</td>\n",
       "      <td>1</td>\n",
       "      <td>0</td>\n",
       "      <td>0</td>\n",
       "      <td>0</td>\n",
       "      <td>1</td>\n",
       "      <td>0</td>\n",
       "      <td>1</td>\n",
       "      <td>0</td>\n",
       "      <td style=\"text-align: center;\"><div style=\"width: 200px; height: 200px\" data-content=\"rdkit/molecule\"><img src=\"data:image/png;base64,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\" alt=\"Mol\"/></div></td>\n",
       "    </tr>\n",
       "    <tr>\n",
       "      <th>2</th>\n",
       "      <td>C#C[C@]1(O)CC[C@H]2[C@@H]3CCC4=CCCC[C@@H]4[C@H...</td>\n",
       "      <td>0</td>\n",
       "      <td>1</td>\n",
       "      <td>0</td>\n",
       "      <td>1</td>\n",
       "      <td>1</td>\n",
       "      <td>0</td>\n",
       "      <td>1</td>\n",
       "      <td>0</td>\n",
       "      <td>1</td>\n",
       "      <td>...</td>\n",
       "      <td>0</td>\n",
       "      <td>0</td>\n",
       "      <td>1</td>\n",
       "      <td>0</td>\n",
       "      <td>0</td>\n",
       "      <td>0</td>\n",
       "      <td>0</td>\n",
       "      <td>1</td>\n",
       "      <td>0</td>\n",
       "      <td style=\"text-align: center;\"><div style=\"width: 200px; height: 200px\" data-content=\"rdkit/molecule\"><img src=\"data:image/png;base64,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\" alt=\"Mol\"/></div></td>\n",
       "    </tr>\n",
       "    <tr>\n",
       "      <th>3</th>\n",
       "      <td>C#C[C@]1(O)CCC2C3CCC4=CC(=O)CCC4C3C(=C)CC21CC</td>\n",
       "      <td>1</td>\n",
       "      <td>1</td>\n",
       "      <td>0</td>\n",
       "      <td>1</td>\n",
       "      <td>1</td>\n",
       "      <td>1</td>\n",
       "      <td>1</td>\n",
       "      <td>0</td>\n",
       "      <td>1</td>\n",
       "      <td>...</td>\n",
       "      <td>1</td>\n",
       "      <td>1</td>\n",
       "      <td>1</td>\n",
       "      <td>1</td>\n",
       "      <td>1</td>\n",
       "      <td>0</td>\n",
       "      <td>0</td>\n",
       "      <td>1</td>\n",
       "      <td>1</td>\n",
       "      <td style=\"text-align: center;\"><div style=\"width: 200px; height: 200px\" data-content=\"rdkit/molecule\"><img src=\"data:image/png;base64,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\" alt=\"Mol\"/></div></td>\n",
       "    </tr>\n",
       "    <tr>\n",
       "      <th>4</th>\n",
       "      <td>NC(=O)N1c2ccccc2CC(O)c2ccccc21</td>\n",
       "      <td>1</td>\n",
       "      <td>1</td>\n",
       "      <td>0</td>\n",
       "      <td>1</td>\n",
       "      <td>1</td>\n",
       "      <td>1</td>\n",
       "      <td>1</td>\n",
       "      <td>0</td>\n",
       "      <td>1</td>\n",
       "      <td>...</td>\n",
       "      <td>1</td>\n",
       "      <td>1</td>\n",
       "      <td>1</td>\n",
       "      <td>0</td>\n",
       "      <td>0</td>\n",
       "      <td>1</td>\n",
       "      <td>0</td>\n",
       "      <td>1</td>\n",
       "      <td>0</td>\n",
       "      <td style=\"text-align: center;\"><div style=\"width: 200px; height: 200px\" data-content=\"rdkit/molecule\"><img src=\"data:image/png;base64,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\" alt=\"Mol\"/></div></td>\n",
       "    </tr>\n",
       "    <tr>\n",
       "      <th>...</th>\n",
       "      <td>...</td>\n",
       "      <td>...</td>\n",
       "      <td>...</td>\n",
       "      <td>...</td>\n",
       "      <td>...</td>\n",
       "      <td>...</td>\n",
       "      <td>...</td>\n",
       "      <td>...</td>\n",
       "      <td>...</td>\n",
       "      <td>...</td>\n",
       "      <td>...</td>\n",
       "      <td>...</td>\n",
       "      <td>...</td>\n",
       "      <td>...</td>\n",
       "      <td>...</td>\n",
       "      <td>...</td>\n",
       "      <td>...</td>\n",
       "      <td>...</td>\n",
       "      <td>...</td>\n",
       "      <td>...</td>\n",
       "      <td>...</td>\n",
       "    </tr>\n",
       "    <tr>\n",
       "      <th>1422</th>\n",
       "      <td>C[C@H]1CN(C[C@H](Cc2ccccc2)C(=O)NCC(=O)O)CC[C@...</td>\n",
       "      <td>0</td>\n",
       "      <td>1</td>\n",
       "      <td>0</td>\n",
       "      <td>0</td>\n",
       "      <td>0</td>\n",
       "      <td>1</td>\n",
       "      <td>1</td>\n",
       "      <td>0</td>\n",
       "      <td>0</td>\n",
       "      <td>...</td>\n",
       "      <td>0</td>\n",
       "      <td>0</td>\n",
       "      <td>0</td>\n",
       "      <td>1</td>\n",
       "      <td>0</td>\n",
       "      <td>0</td>\n",
       "      <td>0</td>\n",
       "      <td>0</td>\n",
       "      <td>0</td>\n",
       "      <td style=\"text-align: center;\"><div style=\"width: 200px; height: 200px\" data-content=\"rdkit/molecule\"><img src=\"data:image/png;base64,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\" alt=\"Mol\"/></div></td>\n",
       "    </tr>\n",
       "    <tr>\n",
       "      <th>1423</th>\n",
       "      <td>CC[C@H]1OC(=O)[C@H](C)C(=O)[C@H](C)[C@@H](O[C@...</td>\n",
       "      <td>1</td>\n",
       "      <td>1</td>\n",
       "      <td>0</td>\n",
       "      <td>1</td>\n",
       "      <td>1</td>\n",
       "      <td>1</td>\n",
       "      <td>1</td>\n",
       "      <td>0</td>\n",
       "      <td>1</td>\n",
       "      <td>...</td>\n",
       "      <td>1</td>\n",
       "      <td>1</td>\n",
       "      <td>1</td>\n",
       "      <td>1</td>\n",
       "      <td>0</td>\n",
       "      <td>1</td>\n",
       "      <td>1</td>\n",
       "      <td>1</td>\n",
       "      <td>1</td>\n",
       "      <td style=\"text-align: center;\"><div style=\"width: 200px; height: 200px\" data-content=\"rdkit/molecule\"><img src=\"data:image/png;base64,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\" alt=\"Mol\"/></div></td>\n",
       "    </tr>\n",
       "    <tr>\n",
       "      <th>1424</th>\n",
       "      <td>CCOc1ccc(Cc2cc([C@@H]3O[C@H](CO)[C@@H](O)[C@H]...</td>\n",
       "      <td>1</td>\n",
       "      <td>1</td>\n",
       "      <td>0</td>\n",
       "      <td>0</td>\n",
       "      <td>1</td>\n",
       "      <td>1</td>\n",
       "      <td>1</td>\n",
       "      <td>0</td>\n",
       "      <td>1</td>\n",
       "      <td>...</td>\n",
       "      <td>1</td>\n",
       "      <td>0</td>\n",
       "      <td>0</td>\n",
       "      <td>1</td>\n",
       "      <td>0</td>\n",
       "      <td>0</td>\n",
       "      <td>1</td>\n",
       "      <td>1</td>\n",
       "      <td>1</td>\n",
       "      <td style=\"text-align: center;\"><div style=\"width: 200px; height: 200px\" data-content=\"rdkit/molecule\"><img src=\"data:image/png;base64,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\" alt=\"Mol\"/></div></td>\n",
       "    </tr>\n",
       "    <tr>\n",
       "      <th>1425</th>\n",
       "      <td>O=c1[nH]c2ccccc2n1C1CCN(CCCC(c2ccc(F)cc2)c2ccc...</td>\n",
       "      <td>0</td>\n",
       "      <td>1</td>\n",
       "      <td>0</td>\n",
       "      <td>1</td>\n",
       "      <td>1</td>\n",
       "      <td>1</td>\n",
       "      <td>1</td>\n",
       "      <td>0</td>\n",
       "      <td>0</td>\n",
       "      <td>...</td>\n",
       "      <td>0</td>\n",
       "      <td>0</td>\n",
       "      <td>1</td>\n",
       "      <td>1</td>\n",
       "      <td>0</td>\n",
       "      <td>0</td>\n",
       "      <td>1</td>\n",
       "      <td>1</td>\n",
       "      <td>1</td>\n",
       "      <td style=\"text-align: center;\"><div style=\"width: 200px; height: 200px\" data-content=\"rdkit/molecule\"><img src=\"data:image/png;base64,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\" alt=\"Mol\"/></div></td>\n",
       "    </tr>\n",
       "    <tr>\n",
       "      <th>1426</th>\n",
       "      <td>CCC(=O)C(CC(C)N(C)C)(c1ccccc1)c1ccccc1</td>\n",
       "      <td>1</td>\n",
       "      <td>1</td>\n",
       "      <td>0</td>\n",
       "      <td>1</td>\n",
       "      <td>1</td>\n",
       "      <td>1</td>\n",
       "      <td>1</td>\n",
       "      <td>0</td>\n",
       "      <td>1</td>\n",
       "      <td>...</td>\n",
       "      <td>1</td>\n",
       "      <td>1</td>\n",
       "      <td>1</td>\n",
       "      <td>1</td>\n",
       "      <td>0</td>\n",
       "      <td>1</td>\n",
       "      <td>1</td>\n",
       "      <td>1</td>\n",
       "      <td>1</td>\n",
       "      <td style=\"text-align: center;\"><div style=\"width: 200px; height: 200px\" data-content=\"rdkit/molecule\"><img src=\"data:image/png;base64,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\" alt=\"Mol\"/></div></td>\n",
       "    </tr>\n",
       "  </tbody>\n",
       "</table>\n",
       "<p>1427 rows × 29 columns</p>\n",
       "</div>\n",
       "    <div class=\"colab-df-buttons\">\n",
       "\n",
       "  <div class=\"colab-df-container\">\n",
       "    <button class=\"colab-df-convert\" onclick=\"convertToInteractive('df-ac624b06-11d1-41ee-975b-1662f1e490d3')\"\n",
       "            title=\"Convert this dataframe to an interactive table.\"\n",
       "            style=\"display:none;\">\n",
       "\n",
       "  <svg xmlns=\"http://www.w3.org/2000/svg\" height=\"24px\" viewBox=\"0 -960 960 960\">\n",
       "    <path d=\"M120-120v-720h720v720H120Zm60-500h600v-160H180v160Zm220 220h160v-160H400v160Zm0 220h160v-160H400v160ZM180-400h160v-160H180v160Zm440 0h160v-160H620v160ZM180-180h160v-160H180v160Zm440 0h160v-160H620v160Z\"/>\n",
       "  </svg>\n",
       "    </button>\n",
       "\n",
       "  <style>\n",
       "    .colab-df-container {\n",
       "      display:flex;\n",
       "      gap: 12px;\n",
       "    }\n",
       "\n",
       "    .colab-df-convert {\n",
       "      background-color: #E8F0FE;\n",
       "      border: none;\n",
       "      border-radius: 50%;\n",
       "      cursor: pointer;\n",
       "      display: none;\n",
       "      fill: #1967D2;\n",
       "      height: 32px;\n",
       "      padding: 0 0 0 0;\n",
       "      width: 32px;\n",
       "    }\n",
       "\n",
       "    .colab-df-convert:hover {\n",
       "      background-color: #E2EBFA;\n",
       "      box-shadow: 0px 1px 2px rgba(60, 64, 67, 0.3), 0px 1px 3px 1px rgba(60, 64, 67, 0.15);\n",
       "      fill: #174EA6;\n",
       "    }\n",
       "\n",
       "    .colab-df-buttons div {\n",
       "      margin-bottom: 4px;\n",
       "    }\n",
       "\n",
       "    [theme=dark] .colab-df-convert {\n",
       "      background-color: #3B4455;\n",
       "      fill: #D2E3FC;\n",
       "    }\n",
       "\n",
       "    [theme=dark] .colab-df-convert:hover {\n",
       "      background-color: #434B5C;\n",
       "      box-shadow: 0px 1px 3px 1px rgba(0, 0, 0, 0.15);\n",
       "      filter: drop-shadow(0px 1px 2px rgba(0, 0, 0, 0.3));\n",
       "      fill: #FFFFFF;\n",
       "    }\n",
       "  </style>\n",
       "\n",
       "    <script>\n",
       "      const buttonEl =\n",
       "        document.querySelector('#df-ac624b06-11d1-41ee-975b-1662f1e490d3 button.colab-df-convert');\n",
       "      buttonEl.style.display =\n",
       "        google.colab.kernel.accessAllowed ? 'block' : 'none';\n",
       "\n",
       "      async function convertToInteractive(key) {\n",
       "        const element = document.querySelector('#df-ac624b06-11d1-41ee-975b-1662f1e490d3');\n",
       "        const dataTable =\n",
       "          await google.colab.kernel.invokeFunction('convertToInteractive',\n",
       "                                                    [key], {});\n",
       "        if (!dataTable) return;\n",
       "\n",
       "        const docLinkHtml = 'Like what you see? Visit the ' +\n",
       "          '<a target=\"_blank\" href=https://colab.research.google.com/notebooks/data_table.ipynb>data table notebook</a>'\n",
       "          + ' to learn more about interactive tables.';\n",
       "        element.innerHTML = '';\n",
       "        dataTable['output_type'] = 'display_data';\n",
       "        await google.colab.output.renderOutput(dataTable, element);\n",
       "        const docLink = document.createElement('div');\n",
       "        docLink.innerHTML = docLinkHtml;\n",
       "        element.appendChild(docLink);\n",
       "      }\n",
       "    </script>\n",
       "  </div>\n",
       "\n",
       "\n",
       "    <div id=\"df-fa24e011-80ea-4bfc-bc5c-cc71456f0a9a\">\n",
       "      <button class=\"colab-df-quickchart\" onclick=\"quickchart('df-fa24e011-80ea-4bfc-bc5c-cc71456f0a9a')\"\n",
       "                title=\"Suggest charts\"\n",
       "                style=\"display:none;\">\n",
       "\n",
       "<svg xmlns=\"http://www.w3.org/2000/svg\" height=\"24px\"viewBox=\"0 0 24 24\"\n",
       "     width=\"24px\">\n",
       "    <g>\n",
       "        <path d=\"M19 3H5c-1.1 0-2 .9-2 2v14c0 1.1.9 2 2 2h14c1.1 0 2-.9 2-2V5c0-1.1-.9-2-2-2zM9 17H7v-7h2v7zm4 0h-2V7h2v10zm4 0h-2v-4h2v4z\"/>\n",
       "    </g>\n",
       "</svg>\n",
       "      </button>\n",
       "\n",
       "<style>\n",
       "  .colab-df-quickchart {\n",
       "      --bg-color: #E8F0FE;\n",
       "      --fill-color: #1967D2;\n",
       "      --hover-bg-color: #E2EBFA;\n",
       "      --hover-fill-color: #174EA6;\n",
       "      --disabled-fill-color: #AAA;\n",
       "      --disabled-bg-color: #DDD;\n",
       "  }\n",
       "\n",
       "  [theme=dark] .colab-df-quickchart {\n",
       "      --bg-color: #3B4455;\n",
       "      --fill-color: #D2E3FC;\n",
       "      --hover-bg-color: #434B5C;\n",
       "      --hover-fill-color: #FFFFFF;\n",
       "      --disabled-bg-color: #3B4455;\n",
       "      --disabled-fill-color: #666;\n",
       "  }\n",
       "\n",
       "  .colab-df-quickchart {\n",
       "    background-color: var(--bg-color);\n",
       "    border: none;\n",
       "    border-radius: 50%;\n",
       "    cursor: pointer;\n",
       "    display: none;\n",
       "    fill: var(--fill-color);\n",
       "    height: 32px;\n",
       "    padding: 0;\n",
       "    width: 32px;\n",
       "  }\n",
       "\n",
       "  .colab-df-quickchart:hover {\n",
       "    background-color: var(--hover-bg-color);\n",
       "    box-shadow: 0 1px 2px rgba(60, 64, 67, 0.3), 0 1px 3px 1px rgba(60, 64, 67, 0.15);\n",
       "    fill: var(--button-hover-fill-color);\n",
       "  }\n",
       "\n",
       "  .colab-df-quickchart-complete:disabled,\n",
       "  .colab-df-quickchart-complete:disabled:hover {\n",
       "    background-color: var(--disabled-bg-color);\n",
       "    fill: var(--disabled-fill-color);\n",
       "    box-shadow: none;\n",
       "  }\n",
       "\n",
       "  .colab-df-spinner {\n",
       "    border: 2px solid var(--fill-color);\n",
       "    border-color: transparent;\n",
       "    border-bottom-color: var(--fill-color);\n",
       "    animation:\n",
       "      spin 1s steps(1) infinite;\n",
       "  }\n",
       "\n",
       "  @keyframes spin {\n",
       "    0% {\n",
       "      border-color: transparent;\n",
       "      border-bottom-color: var(--fill-color);\n",
       "      border-left-color: var(--fill-color);\n",
       "    }\n",
       "    20% {\n",
       "      border-color: transparent;\n",
       "      border-left-color: var(--fill-color);\n",
       "      border-top-color: var(--fill-color);\n",
       "    }\n",
       "    30% {\n",
       "      border-color: transparent;\n",
       "      border-left-color: var(--fill-color);\n",
       "      border-top-color: var(--fill-color);\n",
       "      border-right-color: var(--fill-color);\n",
       "    }\n",
       "    40% {\n",
       "      border-color: transparent;\n",
       "      border-right-color: var(--fill-color);\n",
       "      border-top-color: var(--fill-color);\n",
       "    }\n",
       "    60% {\n",
       "      border-color: transparent;\n",
       "      border-right-color: var(--fill-color);\n",
       "    }\n",
       "    80% {\n",
       "      border-color: transparent;\n",
       "      border-right-color: var(--fill-color);\n",
       "      border-bottom-color: var(--fill-color);\n",
       "    }\n",
       "    90% {\n",
       "      border-color: transparent;\n",
       "      border-bottom-color: var(--fill-color);\n",
       "    }\n",
       "  }\n",
       "</style>\n",
       "\n",
       "      <script>\n",
       "        async function quickchart(key) {\n",
       "          const quickchartButtonEl =\n",
       "            document.querySelector('#' + key + ' button');\n",
       "          quickchartButtonEl.disabled = true;  // To prevent multiple clicks.\n",
       "          quickchartButtonEl.classList.add('colab-df-spinner');\n",
       "          try {\n",
       "            const charts = await google.colab.kernel.invokeFunction(\n",
       "                'suggestCharts', [key], {});\n",
       "          } catch (error) {\n",
       "            console.error('Error during call to suggestCharts:', error);\n",
       "          }\n",
       "          quickchartButtonEl.classList.remove('colab-df-spinner');\n",
       "          quickchartButtonEl.classList.add('colab-df-quickchart-complete');\n",
       "        }\n",
       "        (() => {\n",
       "          let quickchartButtonEl =\n",
       "            document.querySelector('#df-fa24e011-80ea-4bfc-bc5c-cc71456f0a9a button');\n",
       "          quickchartButtonEl.style.display =\n",
       "            google.colab.kernel.accessAllowed ? 'block' : 'none';\n",
       "        })();\n",
       "      </script>\n",
       "    </div>\n",
       "\n",
       "    </div>\n",
       "  </div>\n"
      ],
      "text/plain": [
       "                                       canonical_smiles  \\\n",
       "0                                         NCCNCCNCCNCCN   \n",
       "1     CC(C)(C)c1cc(C(C)(C)C)c(NC(=O)c2c[nH]c3ccccc3c...   \n",
       "2     C#C[C@]1(O)CC[C@H]2[C@@H]3CCC4=CCCC[C@@H]4[C@H...   \n",
       "3         C#C[C@]1(O)CCC2C3CCC4=CC(=O)CCC4C3C(=C)CC21CC   \n",
       "4                        NC(=O)N1c2ccccc2CC(O)c2ccccc21   \n",
       "...                                                 ...   \n",
       "1422  C[C@H]1CN(C[C@H](Cc2ccccc2)C(=O)NCC(=O)O)CC[C@...   \n",
       "1423  CC[C@H]1OC(=O)[C@H](C)C(=O)[C@H](C)[C@@H](O[C@...   \n",
       "1424  CCOc1ccc(Cc2cc([C@@H]3O[C@H](CO)[C@@H](O)[C@H]...   \n",
       "1425  O=c1[nH]c2ccccc2n1C1CCN(CCCC(c2ccc(F)cc2)c2ccc...   \n",
       "1426             CCC(=O)C(CC(C)N(C)C)(c1ccccc1)c1ccccc1   \n",
       "\n",
       "      Hepatobiliary disorders  Metabolism and nutrition disorders  \\\n",
       "0                           1                                   1   \n",
       "1                           0                                   1   \n",
       "2                           0                                   1   \n",
       "3                           1                                   1   \n",
       "4                           1                                   1   \n",
       "...                       ...                                 ...   \n",
       "1422                        0                                   1   \n",
       "1423                        1                                   1   \n",
       "1424                        1                                   1   \n",
       "1425                        0                                   1   \n",
       "1426                        1                                   1   \n",
       "\n",
       "      Product issues  Eye disorders  Investigations  \\\n",
       "0                  0              0               1   \n",
       "1                  0              0               1   \n",
       "2                  0              1               1   \n",
       "3                  0              1               1   \n",
       "4                  0              1               1   \n",
       "...              ...            ...             ...   \n",
       "1422               0              0               0   \n",
       "1423               0              1               1   \n",
       "1424               0              0               1   \n",
       "1425               0              1               1   \n",
       "1426               0              1               1   \n",
       "\n",
       "      Musculoskeletal and connective tissue disorders  \\\n",
       "0                                                   1   \n",
       "1                                                   1   \n",
       "2                                                   0   \n",
       "3                                                   1   \n",
       "4                                                   1   \n",
       "...                                               ...   \n",
       "1422                                                1   \n",
       "1423                                                1   \n",
       "1424                                                1   \n",
       "1425                                                1   \n",
       "1426                                                1   \n",
       "\n",
       "      Gastrointestinal disorders  Social circumstances  \\\n",
       "0                              1                     0   \n",
       "1                              1                     0   \n",
       "2                              1                     0   \n",
       "3                              1                     0   \n",
       "4                              1                     0   \n",
       "...                          ...                   ...   \n",
       "1422                           1                     0   \n",
       "1423                           1                     0   \n",
       "1424                           1                     0   \n",
       "1425                           1                     0   \n",
       "1426                           1                     0   \n",
       "\n",
       "      Immune system disorders  ...  Infections and infestations  \\\n",
       "0                           0  ...                            0   \n",
       "1                           0  ...                            1   \n",
       "2                           1  ...                            0   \n",
       "3                           1  ...                            1   \n",
       "4                           1  ...                            1   \n",
       "...                       ...  ...                          ...   \n",
       "1422                        0  ...                            0   \n",
       "1423                        1  ...                            1   \n",
       "1424                        1  ...                            1   \n",
       "1425                        0  ...                            0   \n",
       "1426                        1  ...                            1   \n",
       "\n",
       "      Respiratory, thoracic and mediastinal disorders  Psychiatric disorders  \\\n",
       "0                                                   1                      1   \n",
       "1                                                   1                      0   \n",
       "2                                                   0                      1   \n",
       "3                                                   1                      1   \n",
       "4                                                   1                      1   \n",
       "...                                               ...                    ...   \n",
       "1422                                                0                      0   \n",
       "1423                                                1                      1   \n",
       "1424                                                0                      0   \n",
       "1425                                                0                      1   \n",
       "1426                                                1                      1   \n",
       "\n",
       "      Renal and urinary disorders  \\\n",
       "0                               0   \n",
       "1                               0   \n",
       "2                               0   \n",
       "3                               1   \n",
       "4                               0   \n",
       "...                           ...   \n",
       "1422                            1   \n",
       "1423                            1   \n",
       "1424                            1   \n",
       "1425                            1   \n",
       "1426                            1   \n",
       "\n",
       "      Pregnancy, puerperium and perinatal conditions  \\\n",
       "0                                                  0   \n",
       "1                                                  0   \n",
       "2                                                  0   \n",
       "3                                                  1   \n",
       "4                                                  0   \n",
       "...                                              ...   \n",
       "1422                                               0   \n",
       "1423                                               0   \n",
       "1424                                               0   \n",
       "1425                                               0   \n",
       "1426                                               0   \n",
       "\n",
       "      Ear and labyrinth disorders  Cardiac disorders  \\\n",
       "0                               1                  1   \n",
       "1                               1                  0   \n",
       "2                               0                  0   \n",
       "3                               0                  0   \n",
       "4                               1                  0   \n",
       "...                           ...                ...   \n",
       "1422                            0                  0   \n",
       "1423                            1                  1   \n",
       "1424                            0                  1   \n",
       "1425                            0                  1   \n",
       "1426                            1                  1   \n",
       "\n",
       "      Nervous system disorders  \\\n",
       "0                            1   \n",
       "1                            1   \n",
       "2                            1   \n",
       "3                            1   \n",
       "4                            1   \n",
       "...                        ...   \n",
       "1422                         0   \n",
       "1423                         1   \n",
       "1424                         1   \n",
       "1425                         1   \n",
       "1426                         1   \n",
       "\n",
       "      Injury, poisoning and procedural complications  \\\n",
       "0                                                  0   \n",
       "1                                                  0   \n",
       "2                                                  0   \n",
       "3                                                  1   \n",
       "4                                                  0   \n",
       "...                                              ...   \n",
       "1422                                               0   \n",
       "1423                                               1   \n",
       "1424                                               1   \n",
       "1425                                               1   \n",
       "1426                                               1   \n",
       "\n",
       "                                              Molecule  \n",
       "0     <rdkit.Chem.rdchem.Mol object at 0x7962fefc0ba0>  \n",
       "1     <rdkit.Chem.rdchem.Mol object at 0x7962fefc0c10>  \n",
       "2     <rdkit.Chem.rdchem.Mol object at 0x7962fefc0c80>  \n",
       "3     <rdkit.Chem.rdchem.Mol object at 0x7962fefc0cf0>  \n",
       "4     <rdkit.Chem.rdchem.Mol object at 0x7962fefc0d60>  \n",
       "...                                                ...  \n",
       "1422  <rdkit.Chem.rdchem.Mol object at 0x7962feff7ed0>  \n",
       "1423  <rdkit.Chem.rdchem.Mol object at 0x7962feff7f40>  \n",
       "1424  <rdkit.Chem.rdchem.Mol object at 0x7962feff8040>  \n",
       "1425  <rdkit.Chem.rdchem.Mol object at 0x7962feff80b0>  \n",
       "1426  <rdkit.Chem.rdchem.Mol object at 0x7962feff8120>  \n",
       "\n",
       "[1427 rows x 29 columns]"
      ]
     },
     "metadata": {},
     "output_type": "display_data"
    }
   ],
>>>>>>> 735c03c2280a1faea90193a0cf4fd08d342bf5e2
   "source": [
    "from Classification.src.sider_preprocessing import sider_preprocessing\n",
    "\n",
    "df_cleaned = sider_preprocessing(df)"
   ]
  },
  {
   "cell_type": "markdown",
   "metadata": {
    "id": "x5UkHe9UC-59"
   },
   "source": [
    "## Featurizer"
   ]
  },
  {
   "cell_type": "code",
   "execution_count": null,
   "metadata": {
    "colab": {
     "base_uri": "https://localhost:8080/"
    },
    "collapsed": true,
    "id": "uDlEpP22fHFU",
    "outputId": "8d44aadd-d869-45ba-ada5-18b4bf53a4e2"
   },
   "outputs": [],
   "source": [
    "from Classification.src.sider_featurizer import featurizer\n",
    "\n",
    "df_final = featurizer(df=df_cleaned, mol_col='Molecule', fpSize=2048)"
   ]
  },
  {
   "cell_type": "code",
   "execution_count": null,
   "metadata": {
    "colab": {
     "base_uri": "https://localhost:8080/"
    },
    "collapsed": true,
    "id": "VPSPRSCMhF_x",
    "outputId": "2855dbf8-5156-4f92-f569-f0b0add7a52e"
   },
<<<<<<< HEAD
   "outputs": [],
=======
   "outputs": [
    {
     "data": {
      "text/plain": [
       "Index(['canonical_smiles', 'Molecule', 'Hepatobiliary disorders',\n",
       "       'Metabolism and nutrition disorders', 'Product issues', 'Eye disorders',\n",
       "       'Investigations', 'Musculoskeletal and connective tissue disorders',\n",
       "       'Gastrointestinal disorders', 'Social circumstances',\n",
       "       ...\n",
       "       'Morgan_2038', 'Morgan_2039', 'Morgan_2040', 'Morgan_2041',\n",
       "       'Morgan_2042', 'Morgan_2043', 'Morgan_2044', 'Morgan_2045',\n",
       "       'Morgan_2046', 'Morgan_2047'],\n",
       "      dtype='object', length=2085)"
      ]
     },
     "execution_count": 12,
     "metadata": {},
     "output_type": "execute_result"
    }
   ],
>>>>>>> 735c03c2280a1faea90193a0cf4fd08d342bf5e2
   "source": [
    "df_final.columns"
   ]
  },
  {
   "cell_type": "markdown",
   "metadata": {
    "id": "OFSgwiDsjASL"
   },
   "source": [
    "## ACP and feature selection"
   ]
  },
  {
   "cell_type": "code",
   "execution_count": null,
   "metadata": {
    "colab": {
     "base_uri": "https://localhost:8080/",
     "height": 710
    },
    "id": "UdqqTr3bwE35",
    "outputId": "14f3ecc5-c759-4847-bf93-42055e8fda88"
   },
   "outputs": [],
   "source": [
    "from Classification.src.sider_pca import analyze_pca_variance\n",
    "analyze_pca_variance(df_final)"
   ]
  },
  {
   "cell_type": "markdown",
   "metadata": {
    "id": "MangafTTE-Pr"
   },
   "source": [
    "## Models"
   ]
  },
  {
   "cell_type": "code",
   "execution_count": null,
   "metadata": {
    "id": "z2lWHntcSsKi"
   },
   "outputs": [],
   "source": [
    "X = df_final.iloc[:, 29:].copy()\n",
    "y = df_final.iloc[:, 2:29]\n",
    "\n",
    "X = X.select_dtypes(include=np.number)\n",
    "\n",
    "# Apply VarianceThreshold to remove zero-variance features\n",
    "selector = VarianceThreshold(threshold=0.0)\n",
    "X_cleaned_array = selector.fit_transform(X)\n",
    "X = pd.DataFrame(X_cleaned_array, columns=X.columns[selector.get_support()])"
   ]
  },
  {
   "cell_type": "code",
   "execution_count": null,
   "metadata": {
    "colab": {
     "base_uri": "https://localhost:8080/"
    },
    "id": "5pFly3OSTP7H",
    "outputId": "b7477ece-f336-41ae-9ae2-805555c93d47"
   },
   "outputs": [],
   "source": [
    "# Split\n",
    "X_train, X_test, y_train, y_test = train_test_split(X, y, train_size=0.8, random_state=0)\n",
    "\n",
    "# Scaling\n",
    "scaler = StandardScaler()\n",
    "X_train_scaled = scaler.fit_transform(X_train)\n",
    "X_test_scaled = scaler.transform(X_test)\n",
    "print(f\"Data split: {len(X_train)} training samples, {len(X_test)} testing samples.\")"
   ]
  },
  {
   "cell_type": "code",
   "execution_count": null,
   "metadata": {
    "colab": {
     "base_uri": "https://localhost:8080/"
    },
    "id": "D7dnhs--xZEt",
    "outputId": "e33936b4-9bbc-4bcd-e763-8d1a8bc77ee6"
   },
   "outputs": [],
   "source": [
    "from Classification.sider_baseline_models.py import train_and_evaluate_models\n",
    "train_and_evaluate_models(X_train, X_test, X_train_scaled, X_test_scaled, y_train, y_test)"
   ]
  },
  {
   "cell_type": "markdown",
   "metadata": {
    "id": "D1vvyazkxHZR"
   },
   "source": [
    "## UMAP"
   ]
  },
  {
   "cell_type": "code",
   "execution_count": null,
   "metadata": {
    "colab": {
     "base_uri": "https://localhost:8080/"
    },
    "id": "FScWC_CJC1VU",
    "outputId": "44c9f45f-5da0-4976-8a61-1ad34183d0a9"
   },
   "outputs": [],
   "source": [
    "from sklearn.preprocessing import StandardScaler\n",
    "import umap.umap_ as umap\n",
    "\n",
    "# Scale the data once before creating the plots\n",
    "scaler = StandardScaler()\n",
    "X_scaled = scaler.fit_transform(X)\n",
    "\n",
    "# Calculate the UMAP projection\n",
    "reducer = umap.UMAP(n_components=2, random_state=42)\n",
    "embedding = reducer.fit_transform(X_scaled)\n",
    "\n",
    "umap_df = pd.DataFrame(embedding, columns=['UMAP 1', 'UMAP 2'])"
   ]
  },
  {
   "cell_type": "code",
   "execution_count": null,
   "metadata": {
    "colab": {
     "base_uri": "https://localhost:8080/",
     "height": 1000
    },
    "id": "GAj4nTckKvyS",
    "outputId": "10f820c0-10a1-4f9a-b0e3-43883fb0529a"
   },
   "outputs": [],
   "source": [
    "# Plot interesting labels\n",
    "\n",
    "from Classification.src.sider_umap import plot_umap\n",
    "\n",
    "plot_umap(umap_df, y, 'Gastrointestinal disorders')\n",
    "plot_umap(umap_df, y, 'Metabolism and nutrition disorders')\n",
    "plot_umap(umap_df, y, 'Product issues')"
   ]
  },
  {
   "cell_type": "markdown",
   "metadata": {
    "id": "9a5V9iERw9mE"
   },
   "source": [
    "## SVM Optimization"
   ]
  },
  {
   "cell_type": "code",
   "execution_count": null,
   "metadata": {
    "id": "CrOfJtaUTOy0"
   },
   "outputs": [],
   "source": [
    "from Classification.src.sider_svm_optimization import optimize_svm\n",
    "\n",
    "# RandomizedSearchCV on non RBF SVM\n",
    "best_svm_model = optimize_svm(X_train_scaled, y_train)"
   ]
  },
  {
   "cell_type": "markdown",
   "metadata": {
    "id": "FakkET8IhUVY"
   },
   "source": [
    "## MLP"
   ]
  },
  {
   "cell_type": "code",
   "execution_count": null,
   "metadata": {
    "colab": {
     "base_uri": "https://localhost:8080/"
    },
    "id": "LerYgMeShZpY",
    "outputId": "d3116e50-94b1-48f5-ae19-1cdbfb879769"
   },
   "outputs": [
    {
     "name": "stdout",
     "output_type": "stream",
     "text": [
      "Training samples: 1026\n",
      "Validation samples: 115\n",
      "Test samples: 286\n",
      "Input features: 2049\n"
     ]
    }
   ],
   "source": [
    "from Classification.src.MLP import SIDERDataset\n",
    "import torch\n",
    "import torch.nn as nn\n",
    "import pytorch_lightning as pl\n",
    "from torch.utils.data import Dataset, DataLoader, random_split\n",
    "from pytorch_lightning.callbacks import ModelCheckpoint, EarlyStopping\n",
    "from sklearn.metrics import roc_auc_score\n",
    "\n",
    "# Prepare data for MLP\n",
    "# Using the same split as before (X_train_scaled, X_test_scaled from cell 15)\n",
    "\n",
    "\n",
    "train_dataset = SIDERDataset(X_train_scaled, y_train)\n",
    "test_dataset = SIDERDataset(X_test_scaled, y_test)\n",
    "\n",
    "# Create validation split from training data\n",
    "train_size = int(0.9 * len(train_dataset))\n",
    "val_size = len(train_dataset) - train_size\n",
    "train_subset, val_subset = random_split(\n",
    "    train_dataset, [train_size, val_size],\n",
    "    generator=torch.Generator().manual_seed(42)\n",
    ")\n",
    "\n",
    "# Create data loaders\n",
    "batch_size = 32\n",
    "train_loader = DataLoader(train_subset, batch_size=batch_size, shuffle=True)\n",
    "val_loader = DataLoader(val_subset, batch_size=batch_size, shuffle=False)\n",
    "test_loader = DataLoader(test_dataset, batch_size=batch_size, shuffle=False)\n",
    "\n",
    "print(f\"Training samples: {len(train_subset)}\")\n",
    "print(f\"Validation samples: {len(val_subset)}\")\n",
    "print(f\"Test samples: {len(test_dataset)}\")\n",
    "print(f\"Input features: {X_train_scaled.shape[1]}\")\n"
   ]
  },
  {
   "cell_type": "code",
   "execution_count": null,
   "metadata": {
    "colab": {
     "base_uri": "https://localhost:8080/",
     "height": 520,
     "referenced_widgets": [
      "72e4af838ae642ae83a9b38173da3b5f",
      "3fa30f58d8e24f6cbca95c67bb840f29",
      "2f3b08a93dbf4621843f2560727511aa",
      "c9ec0c8ce8ab4fd0a23a5b7267449690",
      "efea0cff8f114fa68726f958d0c12402",
      "fae66bc070864bdfb608ed799f53a1d1",
      "a0c57dd07d934b35b8f549e41a1543cc",
      "0d608d8387524066be64175d858d3b38",
      "cd2877c8ecc94f1aad4d4ab7f1a16833",
      "96342c2eac324674a5a4f4c76d9e9069",
      "be78f1a2d0974017a88287d3862d83f6",
      "cb062defbe344a3db06d662a0e893c4a",
      "e571379851ed4b859a4e975c57320779",
      "1e46cca3823e41bc9c4f8eab5f695c6c",
      "91b1d41d1fb649e99678dedd22aeec87",
      "7ce68f32030f41db8ad006be69930494",
      "0e5054bf47114dcbb88a176f041103b0",
      "fd24580a96e8447399b6904297d4ff99",
      "3e22b64fd4214a538b8ada9e101a1773",
      "35e77aeb745f4fb2a9b59ba07c2a825e",
      "9916c14748b74e64b3ad45bae57487c1",
      "d121a7e9cd484bbab25c9b0571c86ab8",
      "b14f99b45aaf4c9085f0cdada8628c72",
      "16b35af15f2a467aa77eceb85481ae25",
      "22c7adaa63d746a88d570a48c060023e",
      "77e7a9ebd45947f7991ec0844e8f2387",
      "0bbcdc87eba34d428893d6b9d5ac28e7",
      "3fc44c9642d84c228b1555c1fe2e77e9",
      "15e020b4b0594a44b1e5e2a9a4e5db99",
      "5489d89cbe21484f862080bbd6bd5362",
      "6d9842a6276940108a3d4160fbac6b97",
      "e695a609427f412491f3f158575542a0",
      "2514c51512b74725bb08e24fea51071b",
      "a939cd2cb190445baed38b90f58dd364",
      "b860fd2cd2f444d0bae494c85d5d2319",
      "7db811d9f79b4515b13085431da8f56a",
      "541fa2534c0446f6b88cfddb8703365c",
      "8d5126f69ab848adb3326aaf96ab7e2c",
      "4d87c2fcf29043f8b70ac55be48cbf6b",
      "4376e30300f54c0d8927cc19aa057b7d",
      "e06aa958244a4ea791e11443fd33678a",
      "c61e4d9deb614ed182176effa513f10c",
      "21c65de34cf84d2488de530d38a7ea84",
      "3f3d2ae0f9164fc190e5f6246eb91cfa",
      "bdf0c10c18844a3fa3b1c8cf112ea439",
      "87c522f937114791862e7f7fcf1c6119",
      "73c7ea1be82c4b0ba85da949de473903",
      "fcd269ed45a04200bf3b392bf5259b07",
      "42c6478837684e85ae7e301b34379323",
      "7a444d784dc841058a322dc13bd779f5",
      "c1dde4e1b4fb4248990cef045c948735",
      "62d355ddfbfc490eb548460f09b76fce",
      "ffcb25b7ed3a494dbae76e5fca872bc6",
      "023e9910838f4febb5b194b34b13baf2",
      "27ea6126aae948c5b05930b305bd52db",
      "f65dac50c4fa463b8ed644553b04f08b",
      "e6d25c11571f4ddb9a675d03db3831ca",
      "d21328b5f3ca42619b50fbee45cb8aef",
      "76ef4307ea3a4fef98512cecfdf28fd1",
      "db0cd5736ad34ed3b1705032b4efab98",
      "aa6b758300384670886b830c89cea48a",
      "649599820242446aa6737b049e070709",
      "221c1b34d0b749ffbea34937cb8ecb10",
      "46e8c9ab1e9f47d784f54c1d7a528702",
      "475de94e2d5a4815a8b315c7c075a074",
      "d53b94502a9149f18c5ccfa7f7743831",
      "70e0a7021a3e41549bc9736070dd41c8",
      "23e9ce513cfc47ada18672589c618957",
      "4b9ba8eec74f458d9a09c8c265613ad8",
      "d50adfd86e14442490fa70f49c8878a3",
      "ce7ba9271a0d476eb8a6d5fc3ae935bc",
      "a65f345a8fb344f781683cfd5eb2b468",
      "4447bede3f614d2c9c13f9afb489782c",
      "2281c417e912486f9192d282d0221874",
      "ac64ee643f324ebd87f51b099db2f341",
      "bfec2df45961400180a3af4ce3ce73c5",
      "b37c95ae759d4edea342cef265e4ffb9",
      "0c2e5c33bc0642a0a09064e29ff45c49",
      "006f1e4795a14f15b3e95025f1be67b2",
      "2f90db8292534c2a9bdbb50d33e06e2a",
      "30bd620403b24b759de14fe7c93fa61f",
      "387559183be745d8954f831dde40ac93",
      "7a6d5625258c425fb355f442575e14d0",
      "ead235bf161e48b495cc7d355191abd2",
      "7a679232a8e14952865d51cdce7e84f3",
      "c92bdeed391e45a3806b172027093e00",
      "0ce91fb057c74208b1edb3db013e494b",
      "dea7978b4d1449219284957cf893f410",
      "ec9db9854f754af1b61f96fcb8aaba50",
      "ec6bf19d1ec14afd9a3197f33bbb5176",
      "7f4aa7db930749f3aa6aec7765936491",
      "6ae3435a925647e9bd687e4cfff25cf0",
      "b42873df370a417c85bc81b1bf2b4e19",
      "f5167f85e3954a7ab7910cb94d6de7f6",
      "b436b65fe0c648799745f155f5b67a1d",
      "c0e9944586fb465fa2ddcb51160687f7",
      "f750713267db44ecbe0ce4bddab21b6d",
      "4f5528f0c22a4aa987abfa55b5434bc2",
      "6199f61978ae4818967d24843148bd05",
      "9b7b7b50a2e445c69f83896837446561",
      "fd721d7f2b834e4d836b6f7f3db16250",
      "b5e97446a9c1430a87ad14c9de068a2a",
      "7a57e323eaa94ed69859bdf4147da548",
      "66a11c5d44be469680c2317599993ea1",
      "7afca9f51b4346e39928b6ed5ade5dea",
      "60c2ca46ee454c44bfb7db4976465c49",
      "2190cd7734414a22991a755bab33e5b6",
      "78bfb7875f6740fe83c4f0d0e2761d7c",
      "756d38282f0c4c3c877c684b85363306",
      "499942ce690145328ec748506412e001",
      "a71254764161411d8c7f80b1b465c3c7",
      "e24c3a3f26bc4af588cba2214e37260e",
      "6d134ca2e75342f3a50261ffc6c330a2",
      "6433ae68b1cf4acfa77fe1d9b65e473a",
      "a5c3d6fd54944b15848f0b1806c16878",
      "6e724198b0644599b5ea25ce86a4b474",
      "f8ce2c5b5621471d88f5c651f80933a3",
      "2ec35caec6e84037a7ceda8edcea25a3",
      "b41202edaa5d46bd8ddd099180420ef5",
      "f09dc20ca3e84246845cea9f4531515d",
      "dbc23275d6ad4e2e810b1cd0ea9cfa92",
      "b9d442d7ac1d429b9ec095a362c62155",
      "17dff8e15bc3408a9660823278b7ed5c",
      "b830d55a39d5424a9ea9c5909942303e",
      "5dc1ea57a77f49178a8b1e6395a97cdc",
      "3182c6bae155486f8891a4438d356106",
      "186d53878e2d48338e5866f55925d1d9",
      "b598b31c810e45a7b49629fe73f88f49",
      "94ad73c15a7044a6a9322f368500b380",
      "42daf9e13564439a9da8b6f1e3a6e349",
      "489c55b9b9d943d9935a8161ab8ae929",
      "7b70bfbabc70460fb5995d721d58b390",
      "277bb7706c174cf78cfa0b656729936a",
      "666ecb138c18497f80726e2324b0d712",
      "a36ade6d27e74e7caee9f6aef4d17157",
      "6d7f964ffb8f4d9ab06ebca65b9b431e",
      "d95a340679814387b8ad209f455a3870",
      "3cb87311a5354021b1f3645c72366216",
      "4405c4b351ec4ef49db0bd6a39a046ee",
      "e95b2b7664544a2f89c6e4e9f6396edb",
      "fd1d43b70d1445f79d5adb0793a7fdc1",
      "13e7b17610a0495dbba99d27e3787dfe",
      "cafb5534b3dd4fbb9f103b0a6293138e",
      "7ab9369691e64dd0827e2e534ff8ad65",
      "eea5ad661eee4a519fe7dbf27888fcad",
      "6b5ecc6c5c984966b4419cfcc21ca7c4",
      "8ba845195416497e8889a99af4a9de14",
      "d0af0e6e1df84322b23f81ca0cd0758d",
      "ab449db03f394be69ffbdb56e795952f",
      "a051629404bf4c5b8b0c256e5c862b12",
      "6dd9ebdb77d6449bbfaff0a39fbf1f44",
      "1d78872299734b6f821570e97a1bab5f",
      "fc9efecae1184ab692094f5edfd59df2",
      "5eda167eefa44f5783052d1a9a419cb9",
      "90591e12c2654599a3d5c0538125d84d",
      "9ac833dcbc734c00b8554262d21b5f1b",
      "3c2032be1ba84d58943ff9f248c9f488",
      "75873ae38a374176afb329a00e36b2db",
      "ef6bfae3b7a64e99ad778fd890c04449",
      "e4d5880a4de34676ad7ed0c02582e9d6",
      "0784f1bc4be44d46b9244eb3f92b2c00",
      "6d83218aa40244e1907a4b22a6c4aeef",
      "ef8cbc49a844402d8752c7b6e3913369",
      "115907728a7640c582cb5d5c22ce6a2d",
      "f2689f8f6146425db8c820a5c95266bc",
      "e2adf654558f4d66996d0a83693e188b",
      "6f1e41bd95e247b8890fd7f89bcfd649",
      "27d33153d43b47cf83a7fcea8ce3b6ac",
      "f1e46c7c300f46c594fe7a1547e34e20",
      "283454887e2b4d03a6feeab5bd0b03a4",
      "4f86aef677b040b8859de01d7d3590c0",
      "484a1406113d4273a29688bf380af1e6",
      "966a1333d4904ac6bc1ff0b817f82220",
      "64f86f7352d74627a3d5d539a8771bda",
      "1c9596917ccd40b4b85de2946bc81dce",
      "45b6261ecf9c41b2a1b423f0a00718cb",
      "a882f5cff8574808872f8f0d9ffefb70",
      "31638fd61f704193965d957b52758864",
      "c047d2aaadd140b096439a89fc58b200",
      "8cf0e00a80c741478a5f61c0afd438c1",
      "1e029cf5082c4dc3b8fc843908ad059e",
      "b6170698a75744fba4c11cc0f66edd99",
      "ba4339a1d88a43bd976936e20ecc8111",
      "10b8dbc1b63a4a809f8794e1e3809079",
      "85276961837c4d5e90d5a4736814497a",
      "65ecbb8e8d5a49b2abe33747b11a47f5",
      "12c8e58676fd411381d70f4a1cc3e266",
      "a51095578b564333b1a06aff422918b3",
      "1a48199f380d4268a159ff129ba59fb4",
      "fa6f56e5fc974ec18e32c0ca1b34fc1a",
      "8a365daae91a42edb73399a6b0225d48",
      "efd2f6a08ddc488791faba28ad2327fe",
      "7a65e2a950744126b8938d252ed7dae1",
      "e3e05f801a1d4401a08655c1305275dd",
      "0d80caa987ad4fde868fbe7739857f1c",
      "982f2c0447394df7abced403d14a8081",
      "e954a8701cf74efdac1393db57ed5098",
      "28b757123acb4d6494251fd8ba1be432",
      "3afdd55ee38b497d950e557c366989ac",
      "ba1ea6ef83224e27b1d435e37e6fda53",
      "85fa680c954a4b9c9d86c25531d68af1",
      "3b365645adb64dcd98b2b217d590305d",
      "0cff94fb01094b92940d4541839e00e0",
      "1e36b3de4dd84134bb976d6aac5b3fdf",
      "d9ecbdbea7104ef0a3fa01d6411fc095",
      "748717ff74ee4d1f9995f159788f11a5",
      "1249c801df8b446da884d3b58f39b875",
      "20a52b3779cd4ef8802287851eba07ac",
      "e6a6e24eb59f4a9e8ad73ce00329a06c",
      "0ecd5a239ce24db78f2410dedfc91eec",
      "d4b9fa2ffcab4bcca8b562fa5a285219",
      "22f291e409f24caaa65c23bbf42a089a",
      "de3b86e0752047b19f6b97705730c75b",
      "568b50b207924f149e64cb40884fdd9a",
      "43b304b79e094b4b8dd3dd180a736b88",
      "c81577b62393410ba932700ca558394e",
      "2c04f68a69164fc28cb5f6a2f25b0142",
      "7713e705fe494513829e04935e5e7436",
      "e82ec8a1a30244ed97d39792a09e13c7",
      "b19467bfb68b4f5e9147ea193429b071",
      "48aee3f9e35a404a8256a6e8b7b6c589",
      "3632e9855b8c49f78b2067c0c73167ad",
      "4e96fd678ba04a0cbce12e724db378f1",
      "c9b80067a9fe44f493def86783cfdc25",
      "d6423d2c5eff44ec88870bc3310ef33e",
      "a075b85edfb74072a07c812aa2555df2",
      "4bfaee8b98dd419bbea54f17d480fb0e",
      "94a748d15e924e97bd241b46d41c99b3",
      "ff2bac2bd1844f41894c178cf8a0251e",
      "1f0484a627ab45308895b69e4a07b453",
      "ec2e4686fbdd47fe8f9967617ba9ed78",
      "90c5242ba19944b9a1c7b98aaab403cb",
      "2bc49c9a64524948b7528532ef9c399d",
      "9eb82ac680b94ab9a307744a911403a1",
      "278ac4d574af44b8a4bd3295db43954a",
      "13769413197f490096975c7c1c2cb774",
      "18a90c4a48e44a0c88d080e480844315",
      "e10f72f9d37c4f8ead0b5fadd7784552",
      "d2bbb733b0e14cae84acc52b5449e953",
      "0b1a3e0eca8445bd8921465d213176f8",
      "689772d94b5e41168951acceab524978",
      "c583da9885544b8f97a245b40c2a8f99",
      "9b643edc737f4b70954479492c27b5ba",
      "3f55c362d8d049489754c5a2b96d87a9",
      "f4d8609e6a14444eafaefbffef1a52c0",
      "7342180daa8147398b7ddccfe1ed489d",
      "281437e4106d45babbaf5a7b0124b52a",
      "3b6f2974dd744a20a1e0c257b75c3971",
      "3e6b02500ca34be7b070729b977855d0",
      "6ff063a6ddf34f14894809f5f6250219",
      "dc61d0ab90c14b74acf2ecf00238655d",
      "478570bc368b4ba5ad0f436db5f25960",
      "35d9e24d60ef43a8b99e7f58516c479a",
      "c5acf8ce8e5a46578d0d64b409560c52",
      "7641e2e6262647b088ef157bf0818c90",
      "0ec7debc3ec242e0b09926c51a253ed5",
      "9a3c9fbfbd6342b896528b7d47574674",
      "a704086b3e6740678e7ad5e407e0132d",
      "5e8943a9b58d48618eb877faf963ae36",
      "cf4def3403fe4332abd82c973037e611",
      "0ba45a0a050b45f6b0be5123d1c955bf",
      "35ff2c9638a84cfdb6dee36850b207d1",
      "8c05b7476ff942048b4939a525005dd7",
      "8b5458c156724cb4b76621052fb0aa97",
      "a3c3b4fb116448c5af291b1f3e498024",
      "a6dcf9d9412548bd96ef8e66770146d1",
      "5086fcd6963c44f3bced49af3fddafbd",
      "1beffca7ade64188b10edc9b7283fa94",
      "5f523ed5394d4e63a3e92159aaab40bf",
      "f253246549694aeeab8b676807feb5a9",
      "a04d464b151f454eb0d633946913216c",
      "0383a40e28554041905dc7b665548c58",
      "919d1efdfe75418cbb6a2c5ccff1cb99",
      "21bf98c15e1248d28c7cef5013ab0a78",
      "44f9cdfc3aa746d69ce4928a8cf1709d",
      "41270e5991864b6dad1a7021f6f1c21c",
      "d8df1e23ab664b6dbfc7c626d81dc243",
      "763a8c5aceff4ad8b53e200b0c850b4e",
      "ef73b3c2fce34fe4945e98520a843f4c",
      "51606bb3ffac417191a5a20a730d237e",
      "5c2bb9ffd84c49da8c94cf033a6147da",
      "148a46c410a444e0b02a203484fea63f",
      "9b60af2b8dea429d8be163f0d410b306",
      "98597ad0874c45cbb28a2b5272e268b0",
      "2765adef2b1b40c7a02b0c1e865a2636",
      "327d8136a9274eb8940dacdb698682fc"
     ]
    },
    "id": "Q9PSarbki6MS",
    "outputId": "23b7ff75-98cd-4310-f0f0-95f9ddeda787"
   },
   "outputs": [
    {
     "name": "stderr",
     "output_type": "stream",
     "text": [
      "INFO:pytorch_lightning.utilities.rank_zero:GPU available: False, used: False\n",
      "INFO:pytorch_lightning.utilities.rank_zero:TPU available: False, using: 0 TPU cores\n",
      "INFO:pytorch_lightning.utilities.rank_zero:HPU available: False, using: 0 HPUs\n"
     ]
    },
    {
     "name": "stdout",
     "output_type": "stream",
     "text": [
      "--- Training MLP model... ---\n"
     ]
    },
    {
     "name": "stderr",
     "output_type": "stream",
     "text": [
      "INFO:pytorch_lightning.callbacks.model_summary:\n",
      "  | Name      | Type              | Params | Mode \n",
      "--------------------------------------------------------\n",
      "0 | network   | Sequential        | 1.2 M  | train\n",
      "1 | criterion | BCEWithLogitsLoss | 0      | train\n",
      "--------------------------------------------------------\n",
      "1.2 M     Trainable params\n",
      "0         Non-trainable params\n",
      "1.2 M     Total params\n",
      "4.876     Total estimated model params size (MB)\n",
      "15        Modules in train mode\n",
      "0         Modules in eval mode\n"
     ]
    },
    {
     "data": {
      "application/vnd.jupyter.widget-view+json": {
       "model_id": "72e4af838ae642ae83a9b38173da3b5f",
       "version_major": 2,
       "version_minor": 0
      },
      "text/plain": [
       "Sanity Checking: |          | 0/? [00:00<?, ?it/s]"
      ]
     },
     "metadata": {},
     "output_type": "display_data"
    },
    {
     "data": {
      "application/vnd.jupyter.widget-view+json": {
       "model_id": "cb062defbe344a3db06d662a0e893c4a",
       "version_major": 2,
       "version_minor": 0
      },
      "text/plain": [
       "Training: |          | 0/? [00:00<?, ?it/s]"
      ]
     },
     "metadata": {},
     "output_type": "display_data"
    },
    {
     "data": {
      "application/vnd.jupyter.widget-view+json": {
       "model_id": "b14f99b45aaf4c9085f0cdada8628c72",
       "version_major": 2,
       "version_minor": 0
      },
      "text/plain": [
       "Validation: |          | 0/? [00:00<?, ?it/s]"
      ]
     },
     "metadata": {},
     "output_type": "display_data"
    },
    {
     "name": "stderr",
     "output_type": "stream",
     "text": [
      "INFO:pytorch_lightning.callbacks.early_stopping:Metric val_loss improved. New best score: 0.678\n"
     ]
    },
    {
     "data": {
      "application/vnd.jupyter.widget-view+json": {
       "model_id": "a939cd2cb190445baed38b90f58dd364",
       "version_major": 2,
       "version_minor": 0
      },
      "text/plain": [
       "Validation: |          | 0/? [00:00<?, ?it/s]"
      ]
     },
     "metadata": {},
     "output_type": "display_data"
    },
    {
     "name": "stderr",
     "output_type": "stream",
     "text": [
      "INFO:pytorch_lightning.callbacks.early_stopping:Metric val_loss improved by 0.033 >= min_delta = 0.0. New best score: 0.645\n"
     ]
    },
    {
     "data": {
      "application/vnd.jupyter.widget-view+json": {
       "model_id": "bdf0c10c18844a3fa3b1c8cf112ea439",
       "version_major": 2,
       "version_minor": 0
      },
      "text/plain": [
       "Validation: |          | 0/? [00:00<?, ?it/s]"
      ]
     },
     "metadata": {},
     "output_type": "display_data"
    },
    {
     "name": "stderr",
     "output_type": "stream",
     "text": [
      "INFO:pytorch_lightning.callbacks.early_stopping:Metric val_loss improved by 0.041 >= min_delta = 0.0. New best score: 0.603\n"
     ]
    },
    {
     "data": {
      "application/vnd.jupyter.widget-view+json": {
       "model_id": "f65dac50c4fa463b8ed644553b04f08b",
       "version_major": 2,
       "version_minor": 0
      },
      "text/plain": [
       "Validation: |          | 0/? [00:00<?, ?it/s]"
      ]
     },
     "metadata": {},
     "output_type": "display_data"
    },
    {
     "name": "stderr",
     "output_type": "stream",
     "text": [
      "INFO:pytorch_lightning.callbacks.early_stopping:Metric val_loss improved by 0.039 >= min_delta = 0.0. New best score: 0.564\n"
     ]
    },
    {
     "data": {
      "application/vnd.jupyter.widget-view+json": {
       "model_id": "70e0a7021a3e41549bc9736070dd41c8",
       "version_major": 2,
       "version_minor": 0
      },
      "text/plain": [
       "Validation: |          | 0/? [00:00<?, ?it/s]"
      ]
     },
     "metadata": {},
     "output_type": "display_data"
    },
    {
     "name": "stderr",
     "output_type": "stream",
     "text": [
      "INFO:pytorch_lightning.callbacks.early_stopping:Metric val_loss improved by 0.012 >= min_delta = 0.0. New best score: 0.553\n"
     ]
    },
    {
     "data": {
      "application/vnd.jupyter.widget-view+json": {
       "model_id": "0c2e5c33bc0642a0a09064e29ff45c49",
       "version_major": 2,
       "version_minor": 0
      },
      "text/plain": [
       "Validation: |          | 0/? [00:00<?, ?it/s]"
      ]
     },
     "metadata": {},
     "output_type": "display_data"
    },
    {
     "name": "stderr",
     "output_type": "stream",
     "text": [
      "INFO:pytorch_lightning.callbacks.early_stopping:Metric val_loss improved by 0.040 >= min_delta = 0.0. New best score: 0.512\n"
     ]
    },
    {
     "data": {
      "application/vnd.jupyter.widget-view+json": {
       "model_id": "ec9db9854f754af1b61f96fcb8aaba50",
       "version_major": 2,
       "version_minor": 0
      },
      "text/plain": [
       "Validation: |          | 0/? [00:00<?, ?it/s]"
      ]
     },
     "metadata": {},
     "output_type": "display_data"
    },
    {
     "name": "stderr",
     "output_type": "stream",
     "text": [
      "INFO:pytorch_lightning.callbacks.early_stopping:Metric val_loss improved by 0.001 >= min_delta = 0.0. New best score: 0.511\n"
     ]
    },
    {
     "data": {
      "application/vnd.jupyter.widget-view+json": {
       "model_id": "9b7b7b50a2e445c69f83896837446561",
       "version_major": 2,
       "version_minor": 0
      },
      "text/plain": [
       "Validation: |          | 0/? [00:00<?, ?it/s]"
      ]
     },
     "metadata": {},
     "output_type": "display_data"
    },
    {
     "name": "stderr",
     "output_type": "stream",
     "text": [
      "INFO:pytorch_lightning.callbacks.early_stopping:Metric val_loss improved by 0.006 >= min_delta = 0.0. New best score: 0.504\n"
     ]
    },
    {
     "data": {
      "application/vnd.jupyter.widget-view+json": {
       "model_id": "a71254764161411d8c7f80b1b465c3c7",
       "version_major": 2,
       "version_minor": 0
      },
      "text/plain": [
       "Validation: |          | 0/? [00:00<?, ?it/s]"
      ]
     },
     "metadata": {},
     "output_type": "display_data"
    },
    {
     "name": "stderr",
     "output_type": "stream",
     "text": [
      "INFO:pytorch_lightning.callbacks.early_stopping:Metric val_loss improved by 0.001 >= min_delta = 0.0. New best score: 0.503\n"
     ]
    },
    {
     "data": {
      "application/vnd.jupyter.widget-view+json": {
       "model_id": "b9d442d7ac1d429b9ec095a362c62155",
       "version_major": 2,
       "version_minor": 0
      },
      "text/plain": [
       "Validation: |          | 0/? [00:00<?, ?it/s]"
      ]
     },
     "metadata": {},
     "output_type": "display_data"
    },
    {
     "data": {
      "application/vnd.jupyter.widget-view+json": {
       "model_id": "277bb7706c174cf78cfa0b656729936a",
       "version_major": 2,
       "version_minor": 0
      },
      "text/plain": [
       "Validation: |          | 0/? [00:00<?, ?it/s]"
      ]
     },
     "metadata": {},
     "output_type": "display_data"
    },
    {
     "data": {
      "application/vnd.jupyter.widget-view+json": {
       "model_id": "7ab9369691e64dd0827e2e534ff8ad65",
       "version_major": 2,
       "version_minor": 0
      },
      "text/plain": [
       "Validation: |          | 0/? [00:00<?, ?it/s]"
      ]
     },
     "metadata": {},
     "output_type": "display_data"
    },
    {
     "data": {
      "application/vnd.jupyter.widget-view+json": {
       "model_id": "90591e12c2654599a3d5c0538125d84d",
       "version_major": 2,
       "version_minor": 0
      },
      "text/plain": [
       "Validation: |          | 0/? [00:00<?, ?it/s]"
      ]
     },
     "metadata": {},
     "output_type": "display_data"
    },
    {
     "data": {
      "application/vnd.jupyter.widget-view+json": {
       "model_id": "e2adf654558f4d66996d0a83693e188b",
       "version_major": 2,
       "version_minor": 0
      },
      "text/plain": [
       "Validation: |          | 0/? [00:00<?, ?it/s]"
      ]
     },
     "metadata": {},
     "output_type": "display_data"
    },
    {
     "data": {
      "application/vnd.jupyter.widget-view+json": {
       "model_id": "a882f5cff8574808872f8f0d9ffefb70",
       "version_major": 2,
       "version_minor": 0
      },
      "text/plain": [
       "Validation: |          | 0/? [00:00<?, ?it/s]"
      ]
     },
     "metadata": {},
     "output_type": "display_data"
    },
    {
     "data": {
      "application/vnd.jupyter.widget-view+json": {
       "model_id": "a51095578b564333b1a06aff422918b3",
       "version_major": 2,
       "version_minor": 0
      },
      "text/plain": [
       "Validation: |          | 0/? [00:00<?, ?it/s]"
      ]
     },
     "metadata": {},
     "output_type": "display_data"
    },
    {
     "data": {
      "application/vnd.jupyter.widget-view+json": {
       "model_id": "3afdd55ee38b497d950e557c366989ac",
       "version_major": 2,
       "version_minor": 0
      },
      "text/plain": [
       "Validation: |          | 0/? [00:00<?, ?it/s]"
      ]
     },
     "metadata": {},
     "output_type": "display_data"
    },
    {
     "data": {
      "application/vnd.jupyter.widget-view+json": {
       "model_id": "0ecd5a239ce24db78f2410dedfc91eec",
       "version_major": 2,
       "version_minor": 0
      },
      "text/plain": [
       "Validation: |          | 0/? [00:00<?, ?it/s]"
      ]
     },
     "metadata": {},
     "output_type": "display_data"
    },
    {
     "data": {
      "application/vnd.jupyter.widget-view+json": {
       "model_id": "48aee3f9e35a404a8256a6e8b7b6c589",
       "version_major": 2,
       "version_minor": 0
      },
      "text/plain": [
       "Validation: |          | 0/? [00:00<?, ?it/s]"
      ]
     },
     "metadata": {},
     "output_type": "display_data"
    },
    {
     "data": {
      "application/vnd.jupyter.widget-view+json": {
       "model_id": "90c5242ba19944b9a1c7b98aaab403cb",
       "version_major": 2,
       "version_minor": 0
      },
      "text/plain": [
       "Validation: |          | 0/? [00:00<?, ?it/s]"
      ]
     },
     "metadata": {},
     "output_type": "display_data"
    },
    {
     "data": {
      "application/vnd.jupyter.widget-view+json": {
       "model_id": "9b643edc737f4b70954479492c27b5ba",
       "version_major": 2,
       "version_minor": 0
      },
      "text/plain": [
       "Validation: |          | 0/? [00:00<?, ?it/s]"
      ]
     },
     "metadata": {},
     "output_type": "display_data"
    },
    {
     "data": {
      "application/vnd.jupyter.widget-view+json": {
       "model_id": "c5acf8ce8e5a46578d0d64b409560c52",
       "version_major": 2,
       "version_minor": 0
      },
      "text/plain": [
       "Validation: |          | 0/? [00:00<?, ?it/s]"
      ]
     },
     "metadata": {},
     "output_type": "display_data"
    },
    {
     "data": {
      "application/vnd.jupyter.widget-view+json": {
       "model_id": "a3c3b4fb116448c5af291b1f3e498024",
       "version_major": 2,
       "version_minor": 0
      },
      "text/plain": [
       "Validation: |          | 0/? [00:00<?, ?it/s]"
      ]
     },
     "metadata": {},
     "output_type": "display_data"
    },
    {
     "data": {
      "application/vnd.jupyter.widget-view+json": {
       "model_id": "41270e5991864b6dad1a7021f6f1c21c",
       "version_major": 2,
       "version_minor": 0
      },
      "text/plain": [
       "Validation: |          | 0/? [00:00<?, ?it/s]"
      ]
     },
     "metadata": {},
     "output_type": "display_data"
    },
    {
     "name": "stderr",
     "output_type": "stream",
     "text": [
      "INFO:pytorch_lightning.callbacks.early_stopping:Monitored metric val_loss did not improve in the last 15 records. Best score: 0.503. Signaling Trainer to stop.\n"
     ]
    }
   ],
   "source": [
    "from Classification.src.MLP import MLP_SIDER\n",
    "\n",
    "# Initialize MLP model\n",
    "input_dim = X_train_scaled.shape[1]\n",
    "mlp_model = MLP_SIDER(\n",
    "    input_dim=input_dim,\n",
    "    hidden_dims=[512, 256, 128],\n",
    "    out_dim=27,\n",
    "    dropout=0.3,\n",
    "    lr=0.001\n",
    ")\n",
    "\n",
    "# Setup callbacks\n",
    "checkpoint_callback = ModelCheckpoint(\n",
    "    monitor='val_loss',\n",
    "    dirpath='mlp_checkpoints/',\n",
    "    filename='best-mlp-model',\n",
    "    save_top_k=1,\n",
    "    mode='min'\n",
    ")\n",
    "\n",
    "early_stop_callback = EarlyStopping(\n",
    "    monitor='val_loss',\n",
    "    patience=15,\n",
    "    mode='min',\n",
    "    verbose=True\n",
    ")\n",
    "\n",
    "# Train the model\n",
    "trainer = pl.Trainer(\n",
    "    max_epochs=100,\n",
    "    callbacks=[checkpoint_callback, early_stop_callback],\n",
    "    accelerator='auto',\n",
    "    log_every_n_steps=10\n",
    ")\n",
    "\n",
    "print(\"--- Training MLP model... ---\")\n",
    "trainer.fit(mlp_model, train_loader, val_loader)\n"
   ]
  },
  {
   "cell_type": "code",
   "execution_count": null,
   "metadata": {
    "colab": {
     "base_uri": "https://localhost:8080/"
    },
    "id": "uyM3FQvTi6jK",
    "outputId": "bcdb4efe-0bc2-4a21-d43f-0f86c28e76d8"
   },
   "outputs": [
    {
     "name": "stdout",
     "output_type": "stream",
     "text": [
      "\n",
      "--- Evaluating MLP on test set... ---\n",
      "\n",
      "MLP Performance:\n",
      "Macro AUC-ROC: 0.6446\n",
      "Micro AUC-ROC: 0.8101\n"
     ]
    }
   ],
   "source": [
    "\n",
    "# Evaluate on test set\n",
    "print(\"\\n--- Evaluating MLP on test set... ---\")\n",
    "\n",
    "mlp_model.eval()\n",
    "all_preds = []\n",
    "all_targets = []\n",
    "\n",
    "with torch.no_grad():\n",
    "    for batch in test_loader:\n",
    "        x, y = batch\n",
    "        logits = mlp_model(x)\n",
    "        probs = torch.sigmoid(logits)\n",
    "        all_preds.append(probs.cpu().numpy())\n",
    "        all_targets.append(y.cpu().numpy())\n",
    "\n",
    "all_preds = np.vstack(all_preds)\n",
    "all_targets = np.vstack(all_targets)\n",
    "\n",
    "# Calculate macro AUC-ROC\n",
    "macro_auc = roc_auc_score(all_targets, all_preds, average='macro')\n",
    "micro_auc = roc_auc_score(all_targets, all_preds, average='micro')\n",
    "\n",
    "print(f\"\\nMLP Performance:\")\n",
    "print(f\"Macro AUC-ROC: {macro_auc:.4f}\")\n",
    "print(f\"Micro AUC-ROC: {micro_auc:.4f}\")"
   ]
  },
  {
   "cell_type": "markdown",
   "metadata": {
    "id": "TE939ucPa1k1"
   },
   "source": [
    "## GNN and Deep Learning"
   ]
  },
  {
   "cell_type": "code",
   "execution_count": null,
   "metadata": {
    "colab": {
     "base_uri": "https://localhost:8080/",
     "height": 900,
     "referenced_widgets": [
      "90e277c50f434240aa8b9b8a148e0e00",
      "78236b01179f4ec5a391dd7c599cdce9",
      "ebb01d6e6b90492db54b968cd7f1cd65",
      "fb5e207a56064c5d8a1db5a317dbfd57",
      "94bd7d28e6ce46a9899a953abb26824f",
      "196a345db0b0496dba2523ce7cd2ccee",
      "2a2f9f7df121423e97d05437d9bfc1c7",
      "5eeae870024a4f89998a8b374c4f9161",
      "f432c3e5c3cd4442be4494992825b7cd",
      "68c3bf192f7345dd8eab4ca9fa2c4326",
      "81038bdfda7d49579a81d43974dea9a7",
      "20d653f91f254638a58023c2981d92c6",
      "af56f98a5e81431da6581d9768797839",
      "19be379a91a2483ba1092748b65508d0",
      "21e755b861a3424e990734659be07546",
      "9a932fac39354ecb812289a2537f17c6",
      "6b4e68722dca41008224dd336912997c",
      "23fde92bed5848b68549a1d98a681d13",
      "7a1dc27213d04abfa54d0f04e0b8ed3d",
      "8349c6d0c3f0461ebc73af1b7198b951",
      "f5306cc45fcd41d195c5a5bcb07d8aaf",
      "de2fd684d56e45d495edea60a56994a8",
      "4a0993b4cc0342ce8c2b6202224e2b8a",
      "3fae6b4f190044248f1b26c35b074b60",
      "fde677966e0e41d4aa368077d6aa1499",
      "fc18388613524a9d81731e32315c66cc",
      "d47833c58e854be994acbfb20a9a7ce4",
      "bca0f5e0201646e1bc8a15b50794b11d",
      "1eec8b3e3d6c4c2880a520aece239ab5",
      "68b590b85cc54a70acffdbabbec9d20d",
      "833afd4ae661412eabf346109d20d3bf",
      "ad43490d9a864487a3eae57a9485579f",
      "579b1554365f4b9380c07c9f48257bf6",
      "e408be4500a441e2bb03eeb7de78535c",
      "d0b4750cd8c7465e81a506a97c350c9f",
      "2d7424a0a12b45dea1784f080f2e7d71",
      "4118639a337c4f01b645d3bb5773d694",
      "3c2f856011bc4ddaba366193a0be25f0",
      "d6fb58d8b53843b1a204af4368c109ed",
      "e31e54dc0eb14d569a8ef24f5ffbf918",
      "92966b5da44a4428abce4006d3ae561d",
      "c5038d97ebcb44ca99d3734b249d2c9a",
      "ff173ba1aefc47f28d0b0c7e9fb4576b",
      "0634f164e229467ab21791e1beb52fb4",
      "bfb6c01795834081bf635ceb96cacfc7",
      "f2018713fa9847ee89d52f6e9d1f170e",
      "debc183bd2f646c5b1cc5eca0cc20935",
      "b505ae4ea1ea4430add1e6f152e88635",
      "6edd889db86246e6947372320527e810",
      "30f1f20201284882aa9fe3005868ab1f",
      "3935ac4714464d568b67c89d05eb278e",
      "e196a7aeb42245d88c5d9a154ef2f2f4",
      "ab542a0078ba4251b1e12fdd09fe87df",
      "1cce0b6a53d54486b2990d15ceab03e1",
      "f734a4ee2853465bba6bed9b378b8985",
      "85d5514faf1f4fa680dca0c2f6078e03",
      "0ef37cdd21a3424e8186560bbeff0d66",
      "b585ed7d3f0242c6a866c10f77932ba4",
      "3ed0afdcf06d4f6886be29727e317dbe",
      "bbcfad12be094639b615d2b684f32564",
      "57a9179f670a4dcabc47dcbaddb6923a",
      "76a1bd971969472ba27d1060f8f00ff9",
      "42d348ae7b1942869ca4ee8344d796bb",
      "c6f769dd14bc4064b87145485ffb23c0",
      "ae6d9c94a8c5462287ddc0ac494aad15",
      "197cc907db0a49028c1c6f1f06136a90",
      "58f98f32faca4a9a92eca94a875a8c68",
      "69fe11f824c04298bba2484de3f5ecb7",
      "0a68d9c9574845e0a399fe07af6a6435",
      "9d4f997371dd4bd9bf41e122bf3b3380",
      "78108a8549a14293922eadf76d57a3b9",
      "f0d0a44e7ef14e6e94b4418e1dd306fb",
      "f7034d4c3e6f4f7b9a9b9be4d1cea3aa",
      "df6280db6abe4dffaa6c039eafce6ce2",
      "e76f5653fa8a4a4ab12aa520c0a845a3",
      "c5472fcd17ec4eb28f9ecb4aed4d7a5d",
      "c101fa482e884955958c4f3310cf717d",
      "b7814b1e655d4f6d824b0e4bb3fae0eb",
      "26fad2c6cfaa4c688b817e2b5374b01c",
      "a1849fd8f192464a8652ef068a002d2a",
      "0a511e115aa2443c8e0bcb823e7e2389",
      "f9d1e460f8c34e1eaa9ada00f7b49fcd",
      "91b018ea0b2a4973b0bd796d16f7d607",
      "deec9525cfbe46e7967ec233ae253963",
      "b5f622941ae14a858e02f3fac9fcc257",
      "24326b6ff92b43b0a5496c7ffb2b8331",
      "02cae7098e2b42a5a31f352ee723abbd",
      "1e3011bfd2204fe3be84043f3fb244f1",
      "3a7d5e5500364ca3b0aef65ba80c9d59",
      "cff76d8ca4094bdc9065f0894587e545",
      "0d1765cbc4c347b98ce30db7a1c4aeb9",
      "5cfb2adc6d4040a9a838704600152d7f",
      "322ffed8e2634e408f233db55b65d132",
      "19c7dfd76dea4d22a15d4f606a2dfd91",
      "5ec790fea30f48b899322da6d2d38024",
      "579095189fb34281b1fa1fe488c1ca9d",
      "7f15933e994b4aec8e9fd77aeb5d3eed",
      "f897f39dfea742e3a50f6ee9e823f755",
      "98be330dc92d494f928c14c41d30caed",
      "a688c37a090e4cdfa8697c65a006ba87",
      "5a06678a35bd46eabe4c4a030b023584",
      "279a3eddfdea44529b02f6e41c7b1588",
      "32ce2ecd96f14009a6853b90f1db2465",
      "6b55d2f7646a44d4b738eabcce07fb02",
      "3da675d273af4379b41b5d39c579b1d1",
      "384634bd23624e4c90f29b3a98e8cb70",
      "e1d7fafa945b4987a4c9d23db60a3895",
      "b5db1a61a1c046b488239dbad0ed0ee2",
      "175bab2031584600ab8259ff5a31e7ac",
      "08d7ace9a7864365b7bc1ad49ec2ed4d",
      "e2ba9513e7be4b96828f0b89a62efff7",
      "ac9c13bdafe9451ba2e9695fb7ef67d4",
      "592654aa284f4e93b1a7a8daf492c670",
      "cf86d30fc8f64ba38263456ec40f71cd",
      "1c7ae7e463f8442093a6a1d3bd6d4b64",
      "0fd533d1bde64d69a6dc72c242d99c65",
      "83a4137f1d384337bd119efa0ee9fd1f",
      "0d88e3a7f338449dbf350c4dfd16b3ca",
      "e45b768caf544b448bbc19d233dbce99",
      "24253f3c1c4645ef8c4cab0c97b81eae",
      "eb12ad7417b843fc95a50cb8406713ba",
      "6fd44344d9a149fe9981e2a0a5154e61",
      "133ed2b0862f42a1b32d598b9cb54b4f",
      "a9109e40cc9e43e6ba33362913c0e66d",
      "f810340c92d3464e97a532c94e7157b9",
      "cf9bea001b524a5880082ad370c5de05",
      "d743a5380f4f453993a88423e36af62c",
      "5c0e087255354a4fbb5cdfdca472ab19",
      "226cc2c7c6774b4cba526eaebc76550a",
      "dcbf8592d7054d1e834a1bc007ed6a04",
      "ff5051a92dde460f80cd8567ea7a853d",
      "99ee46e71f974292b91d5cb5bcacb5f6",
      "e37a7db67374460bb8b8da6deea8f925",
      "32e3a1c48a5846a6adfca3b6dc6847c4",
      "f7b37304474e4bcf895a3cd6f57e8c62",
      "a0c9d3b896864af7941c2e3ee250d3eb",
      "7d4b712334584a46b2238eb2db9cc1a6",
      "5582ae88be624e23a7662a650d39f42c",
      "8ae431d0b1d04562bae19a5230251366",
      "71ddeef34c45489ba45e79357e590a8e",
      "e7b2b7c4dcc048adbd3105339b7a2be8",
      "504528fe3d974249950157a28864b200",
      "a074c21479b445b0b9a8957cdb659674",
      "13ff1da365e844ac9d793e3106bbdf6e",
      "976289963c984af9941bb680b94bab88",
      "aa2b4d99d3464175b58ccda9e6fd3b4d",
      "8866e57aad8b4797bbe7cbab4997f9d6",
      "dd88021b495246f983ddf19c948d5f57",
      "de114e3009c74fe8a18789079ff5b4ea",
      "b693c7f58d37425e8445583e8b0541c4",
      "a1f871a8e08d4ab6a5c43d5e6dc579af",
      "bb0c09a7cf02475b8449c1b3142d6d49",
      "9a49336d09c345d2b2383805d5b34cfc",
      "2d17889057374366b078896282e5ee10",
      "295dd8063a6c46fe816d5efac7113751",
      "6b489a39913841eabec19c2643686fcd",
      "ae7b547cd13b4e11a10adbbd559bb5c0",
      "968f31e68b41472b89fe1503e92aaf86",
      "72c9cdb3f16c46f2837e5211f07599a7",
      "c44b44f7a15a47cda7293d4174647386",
      "8ce18a6997c847ebaab0c818cecac778",
      "12b0f4cbd24d48f6ad6fc45d955324cc",
      "a8b6a79d44ee497aa81652d93a809afb",
      "e7e1b875e3444333a5791fb27ec9094c",
      "26dc840674054b7c8130a1bc4aa16a2d",
      "a503e519ecdd475d958c9e14155386b6",
      "e63a95732b1c4d68bcaaf2a53d991a73",
      "92300a731f014bb699a96b392f87445e",
      "cf1fef7e16914dc88b2587d18596843f",
      "88888a1e5f2e4362b26772eac7d23375",
      "828f54627e394804b832a8b337a8520e",
      "af613c615b9e4a3099ff8e09b6b178d5",
      "850bb6dfcc56476aac383003d886f9c8",
      "47e62a4075754b56b37447be7854992d",
      "4a3ed4a6d0b643b3bd1c0175289e3981",
      "67f7218313a74901ae8ef2accb7d3bc8",
      "a688761bd9eb4dbe9b663662bc27db97",
      "2f9dce30f5914f5c9a3e3bf3a50df28f",
      "a23dd06b69da40b58a1b078e61b53cdb",
      "8b5d686f9e5b4aa9b247caf9c60825ba",
      "dcfd583b2f184ce3a530a5259725ae2e",
      "7c22baa61bf744138d0ae9238e4d3b83",
      "cee774964689406ca1aa459e1d6134fc",
      "a291b5d6798a4fd5947eacc8844ed7e8",
      "1418a45470364b84a949d9d8ec1e93e7",
      "614ea34f56864eeb843e9c0fca77b72e",
      "ef484e3d40684ef2b6e61080082a2b89",
      "12880a1f84554741a93fb79dc393d1f7",
      "4240f79a8296452f93827ca55d5c73fe",
      "4270e431c3bc41fe849aa32c662c099d",
      "3bf0e83ba01b43f3be283f924a5563d6",
      "43ef44e24c2d4e4c81fcc5237fd7f13b",
      "c9539fd26ee1409b85693a3f368f8f76",
      "ce1bf32c33ee422c9b2cc5f4c4d05f18",
      "d7e22ce531114c3c990f551a207d9841",
      "a987dc1c9ac74b11a9e8f936ac4cb64c",
      "b9f6c703762f440784c95046be9f8c48",
      "bf5c08adb27742e58873cb0b803dc6a4",
      "5febbe880eef4e2db9ecae85e4d21c19",
      "aa8e5582af3b4cb8b679f07ff764e325",
      "62f39d61ebed432f9dda0e55c9a1cb93",
      "933a06bb4a274c74a4b3b536512276b6",
      "9ae6f35ea9a047a1803a56e33731e5d8",
      "de2ca76d3b1c4bae8d38ac6a3925912a",
      "bc607edb4fe94ba192d658c0b1cf10fc",
      "22c41e2234e3408c8bc27162926e1de7",
      "6272b0eda328486e95472f686330ef58",
      "7a1019d4ece246dc84d241de02d4fdf7",
      "38b13a5f496e406f9c60e09846c71f17",
      "b911c54e2f63487fbd365b0518117dd7",
      "aa7f3d6ed4c247df8e68265549ecb9b5",
      "9dc6f06917704f41bdac4fe84390e53b",
      "cace2754e5b14e27b52981941b5aa377",
      "87093220c1ab435f81bec539fe48483b",
      "8486297bbb5a49a18b88ea7e1f0ae82b",
      "5b76ad77bfdc4c2b83073ea9b7c3c9d9",
      "125838e988a74633ad5dea3141284dc9",
      "66cdd32f15954bf6903eeec35ca0b80d",
      "3f8ff7be7f204218b2e19a252a5f7fdb",
      "4b781891b9864f898b5696c0a9643461",
      "da3a44b73a964fb3bd1fe34f699180a4",
      "5229de1306684f01a8a1c35f253bf776",
      "fa64182817274d7d9649ecc05401e413",
      "b5dd8b84282945318009331f527d4fd2",
      "da5193b020c24bbe9fd1b5028e1fb4f3",
      "1282350e6b24466bb5a23cc5d1ac56c3",
      "26a73442f17441858c27532983536b10",
      "9174244453d44a8cabcfb75bb5e41cf0",
      "4012b114f41542818625fcbee3db54b2",
      "07f29df5910b40318b1a896c774dc06c",
      "766758b28eb24313a20c02353f9e5ee0",
      "6f64535b27fe42b59b6c57d3bf5373da",
      "d7c5c6ea3bdf4d4fbe770fda37d4676d",
      "52bb151253a64df8aeafe9aa12c45fd2",
      "a013166820d74a27acc10da858c43411",
      "e67e1bcc1cba4bd8aba2443805d49743",
      "dca4379aa5744ccaa63058e7d86af7cf",
      "8e73fe4850614dd890275a4c58e24cc0",
      "3d179243cc89488291564ff3bb4f833e",
      "5fafae97129a44b3a0ac84e898162b29",
      "ace4e3cc232645b9b4b01fdba46007b7",
      "3f7038fc1a2544a6974aca2871dec2cb",
      "d171471525a341689dfa0d7b552e0725",
      "a3c61edb11274162864363e719900f8b",
      "8788a2c5727b4038b953fd8dd2ce3bd5",
      "0eda82cb93124386b6e2d7c16e362b3f",
      "58effe9b0dd84c4f9b1b149f86aacc42",
      "c9bd9c68cc3c4943828f26e9c4fd6555",
      "03c0434373154c65a612f323725d80aa",
      "7de0deee32af4d4c9886ba229ab1b0fe",
      "f14a558769984931ad9996fc0af12f8c",
      "692d20dcbae94aa780fe374cce4539a7",
      "e0dbbd7ca12b4805946b7e5c8f5f556f",
      "bf71ab3cefdb47ccb5f99a4357b62821",
      "fc29f5faea91400d9401411a42f42821",
      "01e8d15437214694862081f28104fb94",
      "c64efc03bfed40388a2eb98d96c0fed0",
      "9dfb5e6c2d57492782e1d5c4280479ed",
      "e50a261f487a4672b1ac9357ae078049",
      "20c948b1ff5241b4b0e6e4fd5f554e98",
      "d62abb11281c4715b44bc35d5f438211",
      "1f9209272a214f9588ffd583349e7730",
      "b87d2d7aa2fb414cbc789b66a58b4e71",
      "abbffdebf78b4c6ea49573fcf24d451b",
      "4982a411fe0b4f98aa5e219e5bbb77ff",
      "28e1b79158c54b05a84e65b3a9768845",
      "82bdf50e1e5c4dc2be97b3048922fbba",
      "55b8fa62455a44b38fb4a838bbc1d9e0",
      "469b10ec992d445f8f67dc1fdd7f7ae9",
      "d14f5347559f43e3b9b0b4a8516afdef",
      "4880e56bea3c4aeb96cf9bd8fc2e9db7",
      "0971072af90f4cd289576bf99fb21823",
      "cd44bb3e8ffa4873ae0c1a13790e73d7",
      "8d2c06348bd4468a9b33054cd1944ccb",
      "5be7faef9bb042a69d5f3b4e420eea74",
      "a2b85bf5222041e6b9a92ef0d401a0d7",
      "fca93186b43d40d39c48150ef23d9619",
      "d93506273dcf47f98afad801296465a9",
      "5cfe01697d2d4f2cb949f74f847e07b5",
      "b264c9f9ccfd42b69716bcecfe083f98",
      "61a5b11f739941539897e0113310147e",
      "9b446ce354a8410e92a4f1f632ca30eb",
      "afd0eb73601d48e5b695701c150d043c",
      "dca4346ac65a4acb93ffd3fc5c7deccc",
      "58306144d0d14605a7de623a28c9ab4d",
      "dab174cb0525415aad25dacff7dea35b",
      "90112053cd5b4baf812e49fc3e14bb93",
      "2f66545cc9634e55a41f7011ec2f05d0",
      "159f48ac40a343c3a5eaae03790c09e5",
      "379ff9140f894e2b9225ff55d15b165e",
      "5a2470a73b9a4a66a5ecc951e308cf0c",
      "8362b92259c54241b580d4d606cf68a3",
      "f67655edea6141a48b6fe0d580519da7",
      "eb8903e6c6e6405fba62a9cf969fe24d",
      "d1fd2ff969014a83a7b079ed4f5de6e3",
      "00a6f5ac79e14fb38e415657d780ae24",
      "89171e346c854c42a0a12c78409d359a",
      "fc131bed10ef4ff4891655408b3df96b",
      "7f815db75d6840be93ad2f7319f96302",
      "cc71959fa13a445fbf8c672fd33aadf8",
      "d6c7d0e36f87404e8b592cc5ea811b20",
      "d996a00f14034f32a64f8f0d02045dfa",
      "c83b581b6223459ab640dcc89f7a5af9",
      "1e1bf48a17b444d2b1ebc2710283426e",
      "5370c99c2b5f49538e66b9aeae959a20",
      "f1a4bb26194c47bc87e802fe4fcf4332",
      "4a3095c665a0405982117fa3f789acc2",
      "792dbbbb11844c3f85e32617d3ec2a5c",
      "d29667cd7b714cff8d727e514d373e96",
      "c9acde8b5e96491486ff46070dba369e",
      "f35c2e388a694444b1f09f0b681cd302",
      "82347cb01c1d439a866eff0a9861a365",
      "1659190dc6464f24af9f38804703f581",
      "fd0e7c810d7f48179e05afa10c08384a",
      "37df9d34ee2446c09f12401e3d6cac4c",
      "18c239f93c7c409295591900157888e4",
      "54b4154b65ba46c6833a626814d01aa2",
      "e7f955af6ec347cfbb15b59487e68e49",
      "577f09d7c74f4b9099ec1e784a47b361",
      "4549cfd17dcc4cfeb764577e70913fb5",
      "dd6f5637f29a4354b2ae8a3928b6280e",
      "7bac274905d94aef8cf60800de7e2a32",
      "b9172ba272a5430d8c990e19d29b7a3e",
      "19b74e0e9a5b440696e4263a388dc648",
      "90ba4ee736d1491589a0c65cc339437f",
      "afbafa1b7adb4eba8fc09129579d0503",
      "101666115c4c4f5c9a1b85732e2bf61a",
      "c788d1cac24f491d8faaaa16575c67c2",
      "9433845a85af40f0a680687a6f72e8c8",
      "5ebf0c37d4ff431fb2326616878d260e",
      "6ff44172c3dd40dd8af5492f464dde1d",
      "70e4a13795434c749e6d02811dea3a1c",
      "ac2205968f3342e68ec5f7ead8158d8b",
      "6cda90c848f54d35b29c0fb940cc8c00",
      "1ee18e016a1c4b6da39c84d28a10ac8b",
      "2dec96228e8143d4a6ae5d05393d73f4",
      "4b3e0a8311a44620ac0b0e0375f360fb",
      "e62c77632c7e42a78e2589504d851f15",
      "e82f6e871a064a619ff3bcb8556759f9",
      "80d07930987347e89dd13c0531f2efb1",
      "871ddcb40be242f6b7021b0822336480",
      "74b3712af5b64aed93fe553acfd03294",
      "faa4964db8524fff9b8d6e1d4d810138",
      "4a6719dfa03940f4a9d22e1e1c2dc91e",
      "ea34dc94be0341c09e5cce2e06108f39",
      "de6168ba2ac041d6a6afb5904837cfc6",
      "d0cedde9da454d228af7769f4da55cb7",
      "7e9ff25f8b8a428689479f469c9beda3",
      "4b0ae515a043413cb8b9172151bc051a",
      "b2db61f97565490eb33f65299fa5d23e",
      "afc425fd5bf34fcda21dd853de476aca",
      "e4e3be368e3140c3981efd9ec96732dd",
      "dd85a76299dc426891c3016982c17722",
      "9161dfbe00f542fb93766a9a9fce1ecc",
      "17f901bde4e440fa8f291d83d7cd4d76",
      "7a4cac86355a4fdd80d6e83d0d81a3e4",
      "68bfd80e7a2647dea72fd4e2ee34d2d3",
      "b2de4b16373e4df591eb5eb96314fccd",
      "42eeba3ed91f46aca59725ffa4aeb663",
      "4a622ba2faef47b8a9b786113531f8d9",
      "e328243759e540998f376f128cd5819e",
      "bf3a8ba243c04ca8bbf60b969578e0bf",
      "325a31f2505144308d378054378aae61",
      "9dd74ccd13af4643972e6052ccc14adc",
      "6751ecdd0e624333aa5b4834fac20c7d",
      "f7d0a0e52d0d45fbbe93647342629677",
      "add414c635f64022bfdfc1b67db3156a",
      "0418c2e3c0fd450d9191c3ff56d67ecc",
      "a8e3d73d11604f8fba19bfd40ebc4386",
      "b6ba1199ff5f49319ce7a91d06d532c2",
      "54b81e54e5a549778a204d474f17e241",
      "07e40375833d45cc968a69484293d2b2",
      "aff14a47c49c4b4da784392878acd877",
      "9840aa357ebe46e58b3fa1e7bfac2467",
      "e31d6c1341a949bb9685d057e9ed8119",
      "a4ffe93d9c4043b2a030019562970c39",
      "2678e0e2d275474e8cd4720f57b89f63",
      "52a12fa8e3664a9db66788db6ffdf150",
      "c458630849ef4359ac6f50994379d0ab",
      "7385699f36ff42c2993cb69ef615b3f7",
      "11f931d1ef474a97a6e7c589a1350d64",
      "79e9cd57ae414ea2ad6ff0db30999674",
      "feb714a7e33348b59295f6e621394a15",
      "dddcd6a430ba4356aa8c221a611c8aca",
      "b3103bb0c2b84637b3ab7b3e99c1fb81",
      "aa02b4b562bf49f1b2f8691f412929d2",
      "27f704b67e704e16b5b46ce536ee9df3",
      "b13de1a9587f47d4995a8210dd5d569b",
      "a05f91d3765e4bd5a9830739b8133986",
      "22221566587840428f7b0ecb3a1ffb0b",
      "9564c73e50e6450fb0499c672cdb791d",
      "66136aeeed42422bb29cc22dd8f7cff7",
      "46bca970c11646fe8db95b84fda87b56",
      "c493fc4e884542f885f034a0ab88ec82",
      "88660058730241d4966647ecadd1d481",
      "b70bb9fce5b1495794f248520d024526",
      "4be26685f3064bf5b9c3a40a38e096db",
      "56459d9122f44d8586fb26f6485a335b",
      "08ccf56f874c48239f783b3b9bd43f59",
      "15fbf61ef72246deb32696b896ad7e84",
      "a05fef315c644a22bc42b544e0a6b57c",
      "ccbc4f0176514e129e9d71407a4dd012",
      "b8ecc3d83df44d54873aea01397a27fd",
      "ed3100065f4949b8826f2c039766faf5",
      "b7527e36570441b2a0bcf32e69d2498d",
      "9c48e8629e954c60845d210800d0f699",
      "da32fc3b05504b4ebf4d9a164409cc48",
      "017c94ea6c1a464493d603ec5c63b379",
      "fa81df971bca41fb9940bcd40f168ef4",
      "c02ff28a786f423a942d16d90434e605",
      "f3f64fd75f7b4196b32d952238e7f645",
      "006d5a9665984782acb53a558a56f61a",
      "bc99eedbee594ef68666ab37b80547aa",
      "019912c1a9014cbeb3e850c8a3d9a858",
      "fe7578701d5741df9a24174bee4e1d62",
      "1362590ed4de4b4d9a8a8aa5611e176c",
      "696f48c716304b7d92c2045634779901",
      "7e8428607f8642719e6cc943cf3e1075",
      "60be21b8ab6446a092174f5e4af2ad9b",
      "5d9fefffc3854b3ebcb27fb12520119f",
      "92f5e7fa817a4237bb7dd64d46948f8d",
      "7368f702c6444338a03af8e4ad642a8d",
      "f623c74514d544d9a7aee7fe729c7230",
      "20c319469dcb462eab139c264fb40e24",
      "76161bdd6b2f472c90512146101aa00e",
      "483a12677d0141d79ad4dd3ef9277ed4",
      "032a5aa4fc0748c5bc78bef51d103629",
      "ed91c6bf8991415cbe51fd3a65cf0151",
      "1974db96794d40e3b402c81e4751e4da",
      "617aeab7050b40c3b6ccf0dcd29f9e74",
      "9135ed1c266a4963bba12e1d6c113849",
      "cacf06c6fb9d4b20894e78f13a67cace",
      "45e49defcabd420d8e38ebfa6ce7d4a0",
      "049e49fcb75c46a098c5223199fa495e",
      "11763eae464649ba915be526f4a5467d",
      "6e3c5d4ee706433b920223ca44d7e69a",
      "ab146eee09174124a48fc91370cfd63d",
      "e2001e13fe414060912ef7932b84f0fc",
      "3c0ed030183649c8bb8629ed303fe9dd",
      "c22dcf752d524949bee4b44aa9c16cc4",
      "b04aa68362d143f6bd8dfa4f6f5f69ad",
      "4a3f8d9f00a445788508081cf56961b3",
      "ab5b23601a604930af980fa146886140",
      "0da68e25c93f420cb869d70278e2d1bf",
      "11225068295443588afca85b009c59a1",
      "991f0e6c20274ca59bb7ed8071816f57",
      "972296e0fdca4338a5678da59a5fe923",
      "b562288eac0c48eab1b3ea5e93354826",
      "820073f9da9745dca6871d057cb1f588",
      "df85a30d6e7745749492dc2e3797209a",
      "2e73c78bf07b46dfa712569534229868",
      "51b40ed9b0aa4632a2c23113c7545e9f",
      "44264b1fb43b4133a43c165bc6f27a15",
      "e5f0f83179e04d76960f6c93a9b924c8",
      "51fd58daeece4a5cab2df3e53eae01b8",
      "63fda8acd2ef4b78b0e633a5ff081756",
      "b35fe8ebf83243c8bef29bd22dedc816",
      "c15eea3eb6064b0e8587801bec618fa5",
      "b0d7d618a53541a6bba03f5efb186ca6",
      "78c9463ba5b94fdb8fbdbefd555ca067",
      "59adc550a39a452da55cb816943216d3",
      "6a7bed587bdc4a289d36e570fc2d3786",
      "980dd0d06962437aa1c35094366073e9",
      "2180dbc3f842482fa935f5169dd4c355",
      "1235523e48c045c6a6a59776daf43c7c",
      "6d58434832d44bfcaf6bbf5e8c504d4f",
      "65ef23f7a07247fc8fa74cce4839be3f",
      "6d479d2216a84bc0b5bafacc481679f6",
      "de9b54884a304ee29e48f53cb22e0557",
      "a76036614d6e4f648841793a29722ff2",
      "e05ede00c3f74cff8c2978a15f642cf0",
      "9a220d5297ca4ca283a3441a958f7b2f",
      "f1436c69f7fc44e59691f1129364f31e",
      "e2bc29f662684ad6809254c30d5ed1a4",
      "45b46753a975497ea121ab74b5147f39",
      "c09742761e3649cab3878d766b475cf9",
      "5122dd500cce42f2bcd52ab54b9af9cf",
      "994eb0f1c3d040f58291fbe8ea450b55",
      "b6f6c68c4b594249ab8a78307d08f2b2",
      "5dcd8f8b1d154e5e8abf89b82a2e70ae",
      "ceb3c7372034460cab961f5be57f4e82",
      "5fecc741ea7a46fbb64d7fc3fb552256",
      "9e264cfbac3f446298f30a439da55476",
      "c93faa9e478149c8986abb558f041dbe",
      "a77d4d13a7754fe8bc5f3cce4d493e24",
      "bc5140da82c24472a41550dc8bac6ca4",
      "4ca4be05dd6e44f6868a68ad139c5f7c",
      "ceff25b4f4434650993fe8aa5aa992c0",
      "9a2e4a901e4d44eebb1cdb1b97f461b3",
      "61c556033dde4840871bc92afadd8acb",
      "1ccafa996d8c4ea0b6a261f0430e69f1",
      "f91561010dc24e9ab2e424822238a143",
      "81a4534590154887b07ab0b12fa902b9",
      "0a65343049b9487b8911e0c279be1cac",
      "51b57032b3c842caa4a80501915aa262",
      "e4f1e0de57d94a09b15c9c45ed5f204a",
      "c413f6dca947492f91f6dfad79143bc5",
      "1ec1c73fba2f476d99e7cafe28152165",
      "bc623ff5be184596b8b2b0748a09df53",
      "edd66d5458e84cb4a52b9beb2559f2ca",
      "4f38a138b6084818a016023481b4de05",
      "f4350d0624e14188b7abe66d7be4e627",
      "239d292bb6b24adb8170d45b3b530ea1",
      "6126ffb6c142442a978f445b1866f843",
      "ad1072125f07403bb363a5b8752ff136",
      "cc9ef95c790b442d8d1b63aea29c3940",
      "1bc6cd0e75164da0930c384d6997e509",
      "d54bc4a1f6a54db58c8321c786d286b5",
      "d04b133c800041c092cceef70cb02570",
      "4ec43e8328f34cc1a599d95c4ff50304",
      "5d13165cd3514338bbb8b063f97f8413",
      "cc0ae0cc306b4246a1595ab4258781ad",
      "fcd1f718ed3c4b28b984b49d30d97575",
      "57c4264607a04a2d8b3467e62919d5bd",
      "a315124acefc478b8089c1fa2dc68df8",
      "d3fbedef33c84bb8b1188fe903a940ae",
      "d6811b89410340afbc89537869896168",
      "ef9d02852d184418b99b9b998fde1a18",
      "e3c29c3901274c0d8b3c22e29d3f2192",
      "bbed5fb43f1e4b6a8269a762e507e7b2",
      "c682eadd918741149c86b0382d294606",
      "fe18210a934642eaaa4ce74d60778629",
      "b9e90ed6362f48d0ab58ce0c95761a91",
      "4153e775e84949a9bc51ceea619c03f8",
      "b72330d5453d4e9f9e78eaddb053b110",
      "f6177c3337c84303861d10a215b78358",
      "dbeb78cd830746e9bc45926647d41e7c",
      "517e0c774f3c420ca15f91ef2590b43a",
      "543ae2a3c9b144eb8d0d2834eebcae58",
      "d3c44425a5b84176a8195b5bcfbb87f1",
      "cbf863f70bd149a3a36faa46c4987a09",
      "475343c484bb440190b7489912bdd580",
      "54bd4d65d7a043b5a528103d96f5327e",
      "25d67c86c0d14848800fe6cb434452a8",
      "bd767480ba1b42d4a0e7a02dc693fe7b",
      "98082ad1ede8426584aa11d165e3d130",
      "06cbca2a47f543f0974b962247215f80",
      "37bebf0ddf2749419ccb9dc27d88efa5",
      "df307adc9d0a4b189fcdd5095600085f",
      "f28de61d01004a4eb159210ccbbc538f",
      "4194e216b2054069904c521488f203b8",
      "10e241a3fee64311b0ee59a16b1a7018",
      "38a60eff49d6453e967f0d10a29ab4e3"
     ]
    },
    "id": "5ZJNeq7_HYqJ",
    "outputId": "48cd26a6-98b6-419d-aac7-d02c27d87cb1"
   },
   "outputs": [],
   "source": [
    "# RUN THE TRAINING AND EVALUATION PIPELINE\n",
    "\n",
    "from sklearn.model_selection import train_test_split\n",
    "from torch_geometric.loader import DataLoader\n",
    "import pytorch_lightning as pl\n",
    "from Classification.src.sider_gnn import SIDERGraphDataset, MPNN_SIDER\n",
    "\n",
    "sider_dataset = SIDERGraphDataset(root='./sider_pyg', df=df_cleaned)\n",
    "\n",
    "# Split the dataset\n",
    "# We split the list of graph objects, not X and y matrices.\n",
    "train_data, test_data = train_test_split(\n",
    "    sider_dataset, train_size=0.8, random_state=0, shuffle=True\n",
    ")\n",
    "train_data, val_data = train_test_split(\n",
    "    train_data, train_size=0.9, random_state=42, shuffle=True # 10% of train for validation\n",
    ")\n",
    "\n",
    "# DataLoaders handle batching of graphs for the model\n",
    "train_loader = DataLoader(train_data, batch_size=32, shuffle=True)\n",
    "val_loader = DataLoader(val_data, batch_size=32, shuffle=False)\n",
    "test_loader = DataLoader(test_data, batch_size=32, shuffle=False)\n",
    "\n",
    "# Initialize and Train the Model\n",
    "gnn_model = MPNN_SIDER(hidden_dim=64, out_dim=27, lr=0.001)\n",
    "\n",
    "# PyTorch Lightning Trainer\n",
    "trainer = pl.Trainer(max_epochs=50, log_every_n_steps=10)\n",
    "trainer.fit(model=gnn_model, train_dataloaders=train_loader, val_dataloaders=val_loader)\n",
    "\n",
    "# Evaluation\n",
    "trainer.test(model=gnn_model, dataloaders=test_loader)"
   ]
  },
  {
   "cell_type": "markdown",
   "metadata": {
    "id": "DRtJmfenvrs8"
   },
   "source": [
    "## Bayesian Optimization"
   ]
  },
  {
   "cell_type": "code",
   "execution_count": null,
   "metadata": {
    "id": "SFG4q-Ag18Qx"
   },
   "outputs": [],
   "source": [
    "from sklearn.model_selection import train_test_split\n",
    "from torch_geometric.loader import DataLoader\n",
    "import pytorch_lightning as pl\n",
    "from Classification.src.sider_gnn import SIDERGraphDataset, MPNN_SIDER\n",
    "\n",
    "sider_dataset = SIDERGraphDataset(root='./sider_pyg', df=df_cleaned)\n",
    "\n",
    "# Split the dataset\n",
    "# We split the list of graph objects, not X and y matrices.\n",
    "train_data, test_data = train_test_split(\n",
    "    sider_dataset, train_size=0.8, random_state=0, shuffle=True\n",
    ")\n",
    "train_data, val_data = train_test_split(\n",
    "    train_data, train_size=0.9, random_state=42, shuffle=True # 10% of train for validation\n",
    ")\n",
    "\n",
    "# DataLoaders handle batching of graphs for the model\n",
    "train_loader = DataLoader(train_data, batch_size=32, shuffle=True)\n",
    "val_loader = DataLoader(val_data, batch_size=32, shuffle=False)\n",
    "test_loader = DataLoader(test_data, batch_size=32, shuffle=False)"
   ]
  },
  {
   "cell_type": "code",
   "execution_count": null,
   "metadata": {
    "collapsed": true,
    "id": "BTDmVQDNxB2p"
   },
   "outputs": [],
   "source": [
    "from Classification.src.sider_gnn_bayesian_opti import objective\n",
    "\n",
    "import optuna\n",
    "\n",
    "!wandb login\n",
    "\n",
    "# Minimize the validation loss\n",
    "study = optuna.create_study(direction=\"minimize\")\n",
    "study.optimize(\n",
    "    lambda trial: objective(trial, train_loader, val_loader),\n",
    "    n_trials=10)\n",
    "# A trial = one test with a single combination of hyperparameters by training your GNN for the maximum of epochs\n",
    "\n",
    "print(\"\\n--- Bayesian Optimization Complete ---\")\n",
    "print(f\"Best validation loss: {study.best_value:.4f}\")\n",
    "print(\"Best hyperparameters found:\", study.best_params)"
   ]
  },
  {
   "cell_type": "code",
   "execution_count": null,
   "metadata": {
    "colab": {
     "base_uri": "https://localhost:8080/"
    },
    "id": "G_SsDTUueTM-",
    "outputId": "17cf57ed-ebd6-409d-c527-f6857f014200"
   },
   "outputs": [],
   "source": [
    "completed_trials = len([t for t in study.trials if t.state == optuna.trial.TrialState.COMPLETE])\n",
    "\n",
    "if completed_trials > 0:\n",
    "    print(f\"{completed_trials} trials were completed before stopping.\")\n",
    "\n",
    "    print(\"\\nBest hyperparameters found so far:\")\n",
    "    print(study.best_params)\n",
    "\n",
    "    print(f\"\\nBest validation loss so far: {study.best_value:.4f}\")\n",
    "else:\n",
    "    print(\"No trials were completed before stopping.\")"
   ]
  },
  {
   "cell_type": "code",
   "execution_count": null,
   "metadata": {
    "collapsed": true,
    "id": "WOOkujmYxTY-"
   },
   "outputs": [],
   "source": [
    "from pytorch_lightning.callbacks import ModelCheckpoint\n",
    "\n",
    "best_params = study.best_params\n",
    "print(\"Best hyperparameters found by Bayesian Optimization:\")\n",
    "print(best_params)\n",
    "\n",
    "final_gnn_model = MPNN_SIDER(\n",
    "    hidden_dim=best_params['hidden_dim'],\n",
    "    out_dim=27,\n",
    "    lr=best_params['lr']\n",
    ")\n",
    "\n",
    "# save the best version of this final model\n",
    "final_checkpoint_callback = ModelCheckpoint(\n",
    "    monitor=\"val_loss\",\n",
    "    dirpath=\"final_model_checkpoints/\",\n",
    "    filename=\"best-final-gnn-model\",\n",
    "    save_top_k=1,\n",
    "    mode=\"min\"\n",
    ")\n",
    "\n",
    "final_trainer = pl.Trainer(\n",
    "    max_epochs=50,\n",
    "    callbacks=[final_checkpoint_callback],\n",
    "    accelerator=\"auto\"\n",
    ")\n",
    "\n",
    "print(\"\\n--- Training the final GNN model with the best hyperparameters... ---\")\n",
    "\n",
    "# Train the final model\n",
    "final_trainer.fit(model=final_gnn_model, train_dataloaders=train_loader, val_dataloaders=val_loader)\n",
    "\n",
    "print(\"\\n--- Final evaluation on the test set... ---\")\n",
    "final_trainer.test(model=final_gnn_model, dataloaders=test_loader, ckpt_path=\"best\")"
   ]
  },
  {
   "cell_type": "code",
   "execution_count": null,
   "metadata": {
    "colab": {
     "base_uri": "https://localhost:8080/",
     "height": 279,
     "referenced_widgets": [
      "0a5293c996fa4506ad3b30fdc6fe8d50",
      "21afc02bf6384a15a5e9e89ca3c0773b",
      "40e5c2c61b8e44a49e9d095500c72d6d",
      "14d5456af8e44b7a878a0770b84b7d49",
      "48a642d68932405d95130e37b8677580",
      "9a97cdb498a04c40965fb203b4339574",
      "375950639a5542e7b14ce35346e7113c",
      "5fd79e1304a14a0cb93801d9f633f550",
      "06d6828212304eeda7b00a670f8f5051",
      "7c4fecedeb22476e84ba9b2a2b0e2e1b",
      "21f070155a1e412d95782011628d455c"
     ]
    },
    "id": "wNLO4GswtKaO",
    "outputId": "669a03d6-0f49-48b9-b19c-2c81b52d798c"
   },
   "outputs": [],
   "source": [
    "checkpoint_path = \"final_model_checkpoints/best-final-gnn-model.ckpt\"\n",
    "\n",
    "best_model_from_checkpoint = MPNN_SIDER.load_from_checkpoint(\n",
    "    checkpoint_path,\n",
    "    hidden_dim=best_params['hidden_dim'], # Use the value found from optimization\n",
    "    out_dim=27\n",
    ")\n",
    "\n",
    "test_trainer = pl.Trainer()\n",
    "test_trainer.test(model=best_model_from_checkpoint, dataloaders=test_loader)"
   ]
  },
  {
   "cell_type": "markdown",
   "metadata": {
    "id": "vWN0FibTdl-a"
   },
   "source": [
    "## $\\text{MLP}$ and $\\text{Random Forest}$ with $\\text{ChemBERT}$ Embeddings"
   ]
  },
  {
   "cell_type": "code",
<<<<<<< HEAD
   "execution_count": null,
=======
   "execution_count": 11,
>>>>>>> 735c03c2280a1faea90193a0cf4fd08d342bf5e2
   "metadata": {
    "id": "N7ZSIQTAdprK"
   },
   "outputs": [],
   "source": [
    "import torch\n",
    "import numpy as np\n",
    "from transformers import AutoTokenizer, AutoModel\n",
    "import pandas as pd\n",
    "from tqdm import tqdm\n",
    "\n",
    "def get_chemberta_embeddings(smiles_list):\n",
    "    \"\"\"\n",
    "    Generates embeddings for a list of SMILES strings using a pretrained ChemBERTa model.\n",
    "    \"\"\"\n",
    "    tokenizer = AutoTokenizer.from_pretrained(\"seyonec/ChemBERTa-zinc-base-v1\")\n",
    "    model = AutoModel.from_pretrained(\"seyonec/ChemBERTa-zinc-base-v1\")\n",
    "\n",
    "    model.eval()\n",
    "\n",
    "    all_embeddings = []\n",
    "\n",
    "    for smiles in tqdm(smiles_list):\n",
    "        inputs = tokenizer(smiles, return_tensors=\"pt\", padding=True, truncation=True, max_length=128)\n",
    "\n",
    "        # Get embeddings without calculating gradients for faster inference\n",
    "        with torch.no_grad():\n",
    "            outputs = model(**inputs)\n",
    "\n",
    "        # Use the representation of the [CLS] token, which summarizes the entire molecule\n",
    "        embedding = outputs.last_hidden_state[0, 0, :].numpy()\n",
    "        all_embeddings.append(embedding)\n",
    "\n",
    "    return np.array(all_embeddings)"
   ]
  },
  {
   "cell_type": "code",
   "execution_count": null,
   "metadata": {
    "id": "vCJrj-ABduZV"
   },
   "outputs": [],
   "source": [
    "X_transformer_features = get_chemberta_embeddings(df_cleaned['canonical_smiles'].tolist())"
   ]
  },
  {
   "cell_type": "code",
<<<<<<< HEAD
   "execution_count": null,
=======
   "execution_count": 13,
>>>>>>> 735c03c2280a1faea90193a0cf4fd08d342bf5e2
   "metadata": {
    "colab": {
     "base_uri": "https://localhost:8080/"
    },
    "id": "N5zupY2RJTxH",
    "outputId": "ab205cf7-89bc-43f4-8850-96dff9e626f3"
   },
   "outputs": [],
   "source": [
    "print(f\"Shape of the feature matrix (X): {X_transformer_features.shape}\")"
   ]
  },
  {
   "cell_type": "code",
   "execution_count": null,
   "metadata": {
    "colab": {
     "base_uri": "https://localhost:8080/"
    },
    "id": "OKO5IvtGLXM9",
    "outputId": "2ba9ea9c-1732-4f69-a408-f06122b9646a"
   },
   "outputs": [],
   "source": [
    "from sklearn.model_selection import train_test_split\n",
    "from sklearn.ensemble import RandomForestClassifier\n",
    "from sklearn.multioutput import MultiOutputClassifier\n",
    "from sklearn.metrics import hamming_loss, classification_report, roc_auc_score\n",
    "\n",
    "y = df_final.iloc[:, 2:29]\n",
    "X_train, X_test, y_train, y_test = train_test_split(X_transformer_features, y, test_size=0.2, random_state=42)\n",
    "\n",
    "# Choose the best parameters from grid search\n",
    "base_classifier = RandomForestClassifier(max_depth=50, n_estimators=100, random_state=42, class_weight='balanced')\n",
    "\n",
    "multi_label_model = MultiOutputClassifier(estimator=base_classifier)\n",
    "\n",
    "print(\"Training the multi-label model\")\n",
    "multi_label_model.fit(X_train, y_train)\n",
    "\n",
    "# 1. Get the list of probability arrays\n",
    "y_pred_proba_list = multi_label_model.predict_proba(X_test)\n",
    "\n",
    "# 2. Reshape the probabilities into a proper 2D DataFrame\n",
    "# We iterate through the list and extract the probability of the positive class (column at index 1) for each label.\n",
    "y_pred_proba_df = pd.DataFrame({\n",
    "    y_test.columns[i]: proba[:, 1]\n",
    "    for i, proba in enumerate(y_pred_proba_list)\n",
    "})\n",
    "\n",
    "# 3. Calculate metrics\n",
    "predictions = multi_label_model.predict(X_test)\n",
    "loss = hamming_loss(y_test, predictions)\n",
    "\n",
    "# Use the correctly formatted probabilities DataFrame for roc_auc_score\n",
    "roc_auc_macro = roc_auc_score(y_test, y_pred_proba_df, average='macro')\n",
    "roc_auc_micro = roc_auc_score(y_test, y_pred_proba_df, average='micro')\n",
    "\n",
    "print(f\"\\nHamming Loss: {loss:.4f}\")\n",
    "print(f\"ROC AUC Score (Macro Average): {roc_auc_macro:.4f}\")\n",
    "print(f\"ROC AUC Score (Micro Average): {roc_auc_micro:.4f}\")"
   ]
  },
  {
   "cell_type": "code",
   "execution_count": null,
   "metadata": {
    "colab": {
     "base_uri": "https://localhost:8080/"
    },
    "id": "bScqra9LMMY9",
    "outputId": "84aa711e-ba46-4e50-8efb-78d677b09a01"
   },
   "outputs": [],
   "source": [
    "print(classification_report(y_test, predictions, target_names=y.columns))"
   ]
  },
  {
<<<<<<< HEAD
   "cell_type": "markdown",
   "metadata": {},
   "source": [
    "## Multi-Layer Perceptron (MLP)"
   ]
  },
  {
   "cell_type": "code",
   "execution_count": null,
   "metadata": {},
   "outputs": [],
   "source": [
=======
   "cell_type": "code",
   "execution_count": 29,
   "metadata": {
    "colab": {
     "base_uri": "https://localhost:8080/"
    },
    "id": "g5-aerGYSTXM",
    "outputId": "217e26e3-2628-4d02-b652-9460fc98d390"
   },
   "outputs": [
    {
     "name": "stdout",
     "output_type": "stream",
     "text": [
      "Training samples: 1026\n",
      "Validation samples: 115\n",
      "Test samples: 286\n",
      "Input features: 768\n"
     ]
    }
   ],
   "source": [
    "from Classification.src.MLP import SIDERDataset\n",
>>>>>>> 735c03c2280a1faea90193a0cf4fd08d342bf5e2
    "import torch\n",
    "import torch.nn as nn\n",
    "import pytorch_lightning as pl\n",
    "from torch.utils.data import Dataset, DataLoader, random_split\n",
    "from pytorch_lightning.callbacks import ModelCheckpoint, EarlyStopping\n",
    "from sklearn.metrics import roc_auc_score\n",
<<<<<<< HEAD
    "import numpy as np\n",
    "\n",
    "\n",
    "class SIDERDataset(Dataset):\n",
    "    \"\"\"PyTorch Dataset wrapper for SIDER data.\"\"\"\n",
    "    def __init__(self, X, y):\n",
    "        self.X = torch.FloatTensor(X)\n",
    "        self.y = torch.FloatTensor(y.values if hasattr(y, 'values') else y)\n",
    "\n",
    "    def __len__(self):\n",
    "        return len(self.X)\n",
    "\n",
    "    def __getitem__(self, idx):\n",
    "        return self.X[idx], self.y[idx]\n",
    "\n",
    "\n",
    "class MLP_SIDER(pl.LightningModule):\n",
    "    \"\"\"\n",
    "    Multi-Layer Perceptron for SIDER multi-label classification.\n",
    "    \n",
    "    Args:\n",
    "        input_dim: Number of input features\n",
    "        hidden_dims: List of hidden layer dimensions\n",
    "        out_dim: Number of output labels (27 for SIDER)\n",
    "        dropout: Dropout probability for regularization\n",
    "        lr: Learning rate\n",
    "    \"\"\"\n",
    "    \n",
    "    def __init__(self, input_dim, hidden_dims=[512, 256, 128], out_dim=27, dropout=0.3, lr=0.001):\n",
    "        super().__init__()\n",
    "        self.save_hyperparameters()\n",
    "        self.lr = lr\n",
    "        \n",
    "        # Build MLP architecture dynamically\n",
    "        layers = []\n",
    "        prev_dim = input_dim\n",
    "        \n",
    "        # Add hidden layers with activation, batch norm, and dropout\n",
    "        for hidden_dim in hidden_dims:\n",
    "            layers.append(nn.Linear(prev_dim, hidden_dim))\n",
    "            layers.append(nn.ReLU())\n",
    "            layers.append(nn.BatchNorm1d(hidden_dim))\n",
    "            layers.append(nn.Dropout(dropout))\n",
    "            prev_dim = hidden_dim\n",
    "        \n",
    "        # Output layer (no activation - using BCEWithLogitsLoss)\n",
    "        layers.append(nn.Linear(prev_dim, out_dim))\n",
    "        \n",
    "        self.network = nn.Sequential(*layers)\n",
    "        \n",
    "        # Loss function for multi-label classification\n",
    "        self.criterion = nn.BCEWithLogitsLoss()\n",
    "        \n",
    "    def forward(self, x):\n",
    "        return self.network(x)\n",
    "    \n",
    "    def training_step(self, batch, batch_idx):\n",
    "        x, y = batch\n",
    "        logits = self(x)\n",
    "        loss = self.criterion(logits, y)\n",
    "        self.log('train_loss', loss, on_step=False, on_epoch=True, prog_bar=True)\n",
    "        return loss\n",
    "    \n",
    "    def validation_step(self, batch, batch_idx):\n",
    "        x, y = batch\n",
    "        logits = self(x)\n",
    "        loss = self.criterion(logits, y)\n",
    "        self.log('val_loss', loss, on_step=False, on_epoch=True, prog_bar=True)\n",
    "        return loss\n",
    "    \n",
    "    def test_step(self, batch, batch_idx):\n",
    "        x, y = batch\n",
    "        logits = self(x)\n",
    "        probs = torch.sigmoid(logits)\n",
    "        return {'preds': probs, 'targets': y}\n",
    "    \n",
    "    def configure_optimizers(self):\n",
    "        optimizer = torch.optim.Adam(self.parameters(), lr=self.lr)\n",
    "        scheduler = torch.optim.lr_scheduler.ReduceLROnPlateau(\n",
    "            optimizer, mode='min', factor=0.5, patience=5\n",
    "        )\n",
    "        return {\n",
    "            'optimizer': optimizer,\n",
    "            'lr_scheduler': {\n",
    "                'scheduler': scheduler,\n",
    "                'monitor': 'val_loss'\n",
    "            }\n",
    "        }"
   ]
  },
  {
   "cell_type": "code",
   "execution_count": null,
   "metadata": {},
   "outputs": [],
   "source": [
    "# Prepare data for MLP\n",
    "# Using the same split as before (X_train_scaled, X_test_scaled from cell 15)\n",
    "\n",
    "train_dataset = SIDERDataset(X_train_scaled, y_train)\n",
    "test_dataset = SIDERDataset(X_test_scaled, y_test)\n",
=======
    "from sklearn.model_selection import train_test_split\n",
    "\n",
    "y = df_final.iloc[:, 2:29]\n",
    "X_train, X_test, y_train, y_test = train_test_split(X_transformer_features, y, test_size=0.2, random_state=42)\n",
    "\n",
    "train_dataset = SIDERDataset(X_train, y_train)\n",
    "test_dataset = SIDERDataset(X_test, y_test)\n",
>>>>>>> 735c03c2280a1faea90193a0cf4fd08d342bf5e2
    "\n",
    "# Create validation split from training data\n",
    "train_size = int(0.9 * len(train_dataset))\n",
    "val_size = len(train_dataset) - train_size\n",
    "train_subset, val_subset = random_split(\n",
    "    train_dataset, [train_size, val_size],\n",
    "    generator=torch.Generator().manual_seed(42)\n",
    ")\n",
    "\n",
    "# Create data loaders\n",
    "batch_size = 32\n",
    "train_loader = DataLoader(train_subset, batch_size=batch_size, shuffle=True)\n",
    "val_loader = DataLoader(val_subset, batch_size=batch_size, shuffle=False)\n",
    "test_loader = DataLoader(test_dataset, batch_size=batch_size, shuffle=False)\n",
    "\n",
    "print(f\"Training samples: {len(train_subset)}\")\n",
    "print(f\"Validation samples: {len(val_subset)}\")\n",
    "print(f\"Test samples: {len(test_dataset)}\")\n",
<<<<<<< HEAD
    "print(f\"Input features: {X_train_scaled.shape[1]}\")"
=======
    "print(f\"Input features: {X_train.shape[1]}\")\n"
>>>>>>> 735c03c2280a1faea90193a0cf4fd08d342bf5e2
   ]
  },
  {
   "cell_type": "code",
<<<<<<< HEAD
   "execution_count": null,
   "metadata": {},
   "outputs": [],
   "source": [
    "# Initialize MLP model\n",
    "input_dim = X_train_scaled.shape[1]\n",
=======
   "execution_count": 37,
   "metadata": {
    "colab": {
     "base_uri": "https://localhost:8080/",
     "height": 555,
     "referenced_widgets": [
      "0b287779792147699bdf1fbeecdd4c44",
      "c83ee4f30f8f4fac824a3e27c866ccce",
      "4dd2f3992ebb4fc59f31eb8f04d7dc93",
      "01ff096de6af4167b374e6cff509440c",
      "610a4d3155524999887b7961c4c46bfa",
      "920097aa7806459495372fdb99a00e5b",
      "7ba2381b8c2a4a188dfef684fdaa431f",
      "4602a1e7ab3a4747a54f924521beb7ce",
      "3b1c9b60c66e4165af0d61785a36814f",
      "44b7e2d4da704f7c926047042d5d31ef",
      "471915ab664d4f4c8c80b55be6daa7de",
      "97d5de32b83346cb9d2806569aeab946",
      "9516670b7d5a480397d90be746e13869",
      "7b9c8338d0cd4ecc9642b6e515b9558c",
      "4d86761b79104e139b45c0ad8837859d",
      "16515812a8344488b79fbca220f0f854",
      "676052a643144ab68e9a05d492aed5c2",
      "5b26116aeb8c44abbabb1c7ecb6023c5",
      "a0665002f1b84972ad4fd1a3329ccc26",
      "2beb9d858024442fadb9355b14efb5ef",
      "0d7c214a8f274691a06a657d04402c25",
      "af663941a84b47a3a1d0068a1bc6c009",
      "389bae8b5e5d4fe2a9d146a2b66ff6d2",
      "fd616500435747b7ac0b2d89d70ecb20",
      "c37d25262edf41608995e1eb14ad0aa0",
      "80efefd01c8f4e9db68bc94d9aadc32b",
      "e2ecce42b06d42909fddc0af03c01a1d",
      "66a53bdef08e499bbfa113824e46aef9",
      "dd82bbf0cb724d1884081b171918d64a",
      "4c4248a296a545bab45f7230a5574ffe",
      "88ec8499f52540a28e9d5ddc119c49ca",
      "7dfbb8bb515a4492bbf5969e1e2a05be",
      "0c06092d005d455facd91a23350e6866",
      "5b6a3cd603bf4b3598186788b5b47b45",
      "40f397768a9c41148998e0b408619a46",
      "f07ff7d2bd5b4aa7984470d61ce3e2c2",
      "00ee4573f1b9467c8fb6a5937252ab91",
      "44eae78bce9e4e1997ba262a5edfdff3",
      "8d8b6aeacda54b63bce3a0c9aac545b2",
      "fbfcd7bbf69b492882f2a5f492b95c53",
      "2ea4c07dfa7e445d855efbdfe1fec66d",
      "810ae23dad054fd0b7026e883b23cdb4",
      "9f054fcb17c74f6a8cc9df70c0dd9fe5",
      "c067aabc36dc4408b37c92fd64547e48",
      "d42c1299fa1b427ca76538998b251083",
      "df18d916ea14445eb3aacd0c74f033b8",
      "3cb3b22b69db4cc4af251547274d2ea6",
      "b96e1b562bc84310b0b21b9c4327bc9f",
      "451c79f064294f85b8a35fb0681e9054",
      "ca8511b304fc4dcc9d401e6b1e823d6e",
      "ac7f9f0c813c49d2b280583248cea918",
      "7b1e016ac51c48a79fb0ffa79182cf41",
      "5cd31c60f24e4fa88ce134b1714c93d4",
      "d49bf25a92cb49cd84efded05cdb3740",
      "498a08df8efd48ca851296e6f065824b",
      "1f2f7a08bb634fbc8cb5171b5bfb3b60",
      "105d7c0ac4b548c8b54e05e4e8406582",
      "87402b34608f4b07a449a6b4b9c7c9a4",
      "5bdbbc357ce1416195dd8b81081160a4",
      "5301da699bc3426588484e6e873b015c",
      "741479cfb35e4ade947cb8c485c94bc0",
      "5a709901b839437fb8eaa84ca0b3203d",
      "9f6538d8e24d415ebbcb18c0bda92416",
      "22dd8b9ffda44aeab44023d06fd269ff",
      "8762b6bbf1664e5a8c5dd47be01a2d5a",
      "ad080b2b295147859cca098497dbb600",
      "f73792b889d64526a8dcdd515c6e6062",
      "82e40c0afb28438eb32efe6c6f237418",
      "290646b5cdce4124b23eef785d49b03d",
      "d708dea88021491bbbf0a961d7f8496f",
      "d2053083d2f749139e969f34bc30f45c",
      "ce96ec3135114744a218747804c9b23f",
      "7c567742f9dd4393b67740f3a16ea6ff",
      "0636a678e5094caeb0569945c863956d",
      "6410fd66edf94a65b6f8490d96183153",
      "7042d018940a4c6a8a8dc29efa24f0f6",
      "37d20e9ffb31466eb22702a4570e5677",
      "3187137e3122422e9ddcd46a5a4adb9f",
      "4125a4acdd964237a582b4e9ef6b2ed0",
      "8846fcc4b35f4857af439b7789656988",
      "5dc90c932e0c42d5a148f8f00693a6e4",
      "3c0583cb31ad467b87668fce6edb49d2",
      "812ba11971bb43ce8badb82eb3bec510",
      "3a98531d854b40a3a5186873786143de",
      "de379dbf3211499a879b2822639eac60",
      "8a98032b15ca4e67bded7a38316b213e",
      "3d7e14bc720a4c5bb3eed79abc3064d7",
      "be7e9c161987475db616c655618a787e",
      "e18c3bae588c4d6fa3e25ae69df19e28",
      "5559a36592f842aa88626fe0aafbfea0",
      "f2779e9b270349c38b6ca972f5dce59e",
      "3ef938b7353b41398e4af8239d822db5",
      "2e68263fcb9545a4bf1783332dafd5c2",
      "854a22e495dc48959f6e1c3bd1e918e3",
      "742ea28185aa4befb0c50a4f74f39619",
      "009fc023ea134e82bd8a6b36397baca8",
      "8537f283db35463a82d5a06a669e866f",
      "13b5e524f3c54b8c905224eb66dd5257",
      "bc8759ca7cd241929c94368000b55f1c",
      "988149cd651848fb91890a846c1bab80",
      "97bc834c6f1d4386b7348225838cc128",
      "f5dc89fef47b4a73b84ec607f775cf20",
      "dc28afa367c948388d0a92ba88c0aafa",
      "19a03d136dfa4de98c0ff0258d390815",
      "4143df8d9aa343f8a10d23141fc64a63",
      "1ff17ed345e24c8f8486e15fa9f118e1",
      "51bda4bb6edb41cc8422df86129da04c",
      "331b122e750a479e883dcad4cd5e7c6f",
      "73b875a7f047475fa08c534b0e65d893",
      "af859813f4aa46829d76e3f5b406dedc",
      "e38b2bbb68d94c2a9f7a4b3d0fc14954",
      "61d32a3baec54c6eb2552d075546890d",
      "8fce1e3b99c0470aad4f87b1a1adbfb9",
      "fe1a1481b6dc4c58905adaff71c0369b",
      "0f0c4e0dd41743d3a927987745c7fdb5",
      "36f62010cbec436bab4d8a6578c3a513",
      "7a97c0ae38ec4640b7e2a4cfeeac89cc",
      "39ef1a7e94cb4718bb8c71a78b478bb1",
      "014be93144f54a70b208e2380f236e21",
      "8295562b3e0946fba9b06aac7fb34c11",
      "ca479647a768485eaf7af356e5643df5",
      "c355d2059dbb42a3b5c53f9b830edcec",
      "f454ce7d46b64eb8b8f27166a4647d15",
      "ff2a988063cd4a738ac02ba37925e552",
      "146ea8c76b214109950fd1ac8f1f8fc7",
      "3ad2bf6ed45b42dd982bf11cb10dce52",
      "e9bf662fbe18409ab14a20305da3217a",
      "98313d94a649438291ce727a21b7d3cf",
      "808c054c8a734b8aa8b3ca8d304c9cc8",
      "aa3def8948b84037b3a1a57eac33e169",
      "8a8243cb8c6f4e569f9fd697e969479e",
      "4250943d1c4b493b8340a00004aeca35",
      "ea30cd94e3cc4cfda8766104ae646c5d",
      "c18f845a2a3e47bebe1ea271078ec58d",
      "a7ef9fa14ddd4d06b5130ce477dfc80b",
      "471416df98ed472f8b471951f16119ac",
      "dcb3bef9807748288dc9aefa82edc91c",
      "d80caff764cd4649bad234ebbbcb3c3c",
      "05914500b3d1463b99d5ae74c56882d3",
      "5ec07f5ab80441d7a4ec57dc9feffe2a",
      "e4f93e61dde44f72a0b87db84541548d",
      "cd50c77a46d34bdba2ac1e4e41c7e415",
      "a0280c85b14b4da09807ac12471681b2",
      "a3b3da6d18a34184916afea27ae861ec",
      "b819f2a1f01b4e18b2598d22e5bc4546",
      "bfe6c9894d8d47209531eddeac290405",
      "15b631096f3148888071319313b6743e",
      "92a7e21dc9754a66ba9dee7ee478f873",
      "79ef3ef602b94931b892c7203ac1d449",
      "f8b7345517aa4eb5b59814a4fdb7be74",
      "f71065dfee85490b919dd2b219be6e11",
      "d7163f95eecf4b16af945bc5eb7adf34",
      "e2c5d265f86e473192c94d0ee14c2900",
      "1b84c8f4a6f04ef88deae169879f0409",
      "df111814bc944da58abbb15bdd3d1895",
      "a9eb981d03fe41e381e1d8e97a60515f",
      "303e2b1ad1b64072af13df85737b0289",
      "3691fb2d97224ef78b8c12baf9a94081",
      "550a7d39bc574378941c78a8e59e94fb",
      "efd48ab40c3d42ef959fc1bc09cb4fa5",
      "bae835aaab714861aadfd0be505f57fb",
      "467411a61d9b4fcc96fa561ca3e44663",
      "80651d07a5f940308557baffafb10701",
      "10c9c2dfd7d14054b440b0685dafe234",
      "520e28bba00a4f7f960dd447708068d6",
      "634c4d9223e147f1b6e767fe0a67801d",
      "65bbaa37eda84ef4a4aea46582a66629",
      "e77c0f40c88c49bba2bdc57fc2a00a86",
      "be48d1cec7394765b0078d271b95472a",
      "a42daa0f73c24678ad8bcbe64043c2b3",
      "6ff3985ea7274b7683b830426e072ec4",
      "0523fb390dc94866b570491d91eda1d0",
      "a25ed2ba95be427b9bd20596f9ca44cb",
      "b1f93bb2e74e460f9d625579b1bca55d",
      "9bdc3dfa524f40fa9ec5e7a168573625",
      "4a8222771ca543119b5542af494e997e",
      "fe67156e73a04e54858093931ec74f19",
      "e28b9a0fe0d34eaa90036f84c821331f",
      "2f9720b599b147a08f1cb0ba34a98234",
      "a6106fb0dbf3441f93353f0c1c60969d",
      "54629ebdce0243a59b374871e3af69ee",
      "2099e34a32d142c1a5c14a7f4a33d764",
      "821e9999f357407989fe0615a49a28dd",
      "88c575e4ba6e4d44832d26cb1b4c8ca1",
      "19fd7d5785764a6fbc03d4d76a485fdd",
      "a2f18bc2a2a749988df37d4ed6085949",
      "f432b3e402c04343b485f2bc14793153",
      "bc7382c0ee3448c6902b0b07be65691c",
      "2391cbf0b5df4953a9c7b4053557bf72",
      "731ac927fbbd4b559b468309152aa7cc",
      "ef6cb7a639054712bc2cac492b8bf39f",
      "d81b47a7ae1c445fa1361923b70d0bab",
      "c1a3db1c4fd441aab34df410b0f4eb3c",
      "8e8b3e5ee5ef4310be880a09fe5372c3",
      "56ef7e05ed794fb3874e14b3af7bff3d",
      "2397feddce8846f180774743278ed854",
      "b914c061c44c4be981222c0c59841730",
      "a7932e29813c4d9ea786cc7026f59b11",
      "9516d5f0b059401c8d3b0781a441bc9a",
      "fa4e4d8aacb54c2eb812219699c550bb",
      "c88f942262684881836fc24bab2296ca",
      "94cccc4aea9b4517b69ffb88e7e32a12",
      "7cea75c12a704e42a557a7b683f9a1b3",
      "38f79550cd3944ce96c4eeaaf207743b",
      "7779865562504b928734ad59cd386085",
      "2643cd0a5b9b4ac889238cf14a27e0e0",
      "fbe8e33f060a4364b3ae97c3bf64a9df",
      "2f068a8f81654de9843abe45ecb9f2fa",
      "e895979d5c3041a1b2f102b823047400",
      "b24b34da2703437facf1e2f16a8302e4",
      "289bf8df1e8c4e9587fe1d7d64fff35b",
      "326031c0c7b240308a029d8c8792adec",
      "07418412395d4103811efc1e99233411",
      "2eba7aee2ccf4aebb8235f32da242d73",
      "eac3f4599cd54459b577e0eedab66b46",
      "f40d11a6c6154776afe7d232f978946a",
      "d220fc67118846309b7891712b7f211c",
      "e5416834a50e489b964773df522629e5",
      "70cf866cc01c45aaa2841af6bd2810f6",
      "e58ba08000e34662ab2fb599c35e0cfd",
      "9b13896dcbc746788d94d2cfa5ea16d3",
      "d2a39664e58a40768f3abd473aee1207",
      "321d2e7b201c4be58c73aa0f14cae0af",
      "dce1542e2981476eb117b8f75c7ac3ad",
      "ba090f17432a47da9bb520e4c16a1b04",
      "971492d70f704fb5b0cd648dabd13e1d",
      "52a1de72b2b842e59bf6039690c2b8e8",
      "3185d0de174e4c4f95b77da85276515e",
      "01a4591e9ef84f5ab76b3e6f3b5f2c4d",
      "5da928d158c24c0e993ad1456ba0f321",
      "7451f3f7269a44bd8094ad589eea457b",
      "1c086bc6cf2741b586c6dd4793f5d57b",
      "05a4ccbb576c455590dc873927b5783a",
      "e2d18e32555d4ddc9789d945be83c42b",
      "d1dd01fe02aa42bdb23f67de4ccb6238",
      "6450e945420c4f5da46cc550c575197c",
      "b5f44bbb0f7c4d4e9f9b235bc73b2540",
      "72671d78cb784a8db5d20b1cb3e66a7c",
      "10451af952054466affe8e66a68d57d5",
      "8fec63a2410c4b6c901f40e9b201836c",
      "c01fae74959f4dbf8bcec5ab46cd2502",
      "1ff6332fa6724318a0d6a1c30f20348b",
      "d0b75f9dac7e49149def69a5c41aa05c",
      "c75441c6a01c4972bffd34031acac85f",
      "f77dc50e05e04bfcaf18f03948812a67",
      "aadd7d7478a14ea8ac2b9358eda0297d",
      "375b67fb69a6412b86d1a214a2fa312a",
      "931d7d97d0a84cecb6bcabbb6d9c9717",
      "097e2cd87a4e464ead763ed78e40812a",
      "63a899c6c66a4c0e8bfe2cde81bab830",
      "549e1ff979ca499f8156e891e6bced08",
      "f7d05153b729496daaeefa0c878692e3",
      "062e6b7bb1d2477ab0416c270c824d16",
      "9b0d67666fd942bcb70c7fd5daa5f3da",
      "41dd888b4cc2486fbf1a58f2b1300f79",
      "17f13b8f18d44b44a692e23e19d7bf77",
      "8facd29ff166451a8ad78c933b1e0815",
      "d15ba7efaeb3473e861e2ffaacef9bd8",
      "0a6e633f7b78410983bb50520b2378be",
      "1846eb7eb12a463b9e605937f80be597",
      "caa1e30b04be4b389d219d99a79a41e1",
      "13e2fc83cb404b0fbbd1e0bc0727c6a7",
      "9cb58f1f0bf74793b68f63bc96ba0b04",
      "f3719f0f57e54910b9b1e4044eed76fd",
      "7043dcc7619047f0b01f0776f3a2b127",
      "853a4a2d0854445f8d01c066720ac22b",
      "e95e3dac832143e5b8c78ca21271caa0",
      "01bab6c16b8b4965806b6808cf8bdc88",
      "e0432a62bc7b454d9105fbc44c9574a3",
      "6e868524105b44b1a1295dfb6436d4cb",
      "a0b5b3b085cb4708add4127fde41d06c",
      "970787e8c28146f3bbe1df57389ccbe5",
      "1aaa754bf89b43f7ad72d0fd71a8f4d5",
      "c6cb39a00cee461c836758777ce7aa3c",
      "5fb52cb2f9f04543a6c05b72c7867267",
      "0d8ac4f86f8f47bbb71b7f824bd5acc5",
      "8d9dc7856e2b454cb21b8e77f499b09d",
      "769db2e0326a402abc396c4c9f1ee700",
      "c97246229dd04c0787ec1dfae8e5b287",
      "7ece3b2c85ec48c888f96a60e635b070",
      "6d8cb085991e49168a5dafb625f77aa3",
      "8002387edea242c5809d9bb43b46daf6",
      "5cae17c7e5ab4f0eadf2e6581b7f8df2",
      "75212242929a4806a03ca7288f0e3b98",
      "123bd6631db74125bc6f866c187d1ae7",
      "bb288e43361941c185efa6397fc949a1",
      "f1a952ec63254bfdbbb26abb8a728dc9",
      "01dd0bed103a492c9f92f1fbb0b06fc3",
      "391765e2f8d24ee287628b86c6ee10a0",
      "6ac49d0cd4ec4b8d872c4d25c230fd09",
      "bc7abaf12c0840bb8b48c3a6d987a7bf",
      "4e6f4c83c66d449ca29f22ac0822f96a",
      "375caad8a7d649c28ef56407a98b790a",
      "b9903d01ab3541069285d0d30220f1e9",
      "794bd6aa39214a848c2e0d5ebd9556a4",
      "1e58aec8d66644f5a43cf0aca8dc48ae",
      "cdb04e3c58c94c6ca14a41163d51c71c"
     ]
    },
    "id": "S4I2l1hjSfTx",
    "outputId": "5ebd8720-f460-4639-bfd3-5ff174427445"
   },
   "outputs": [
    {
     "name": "stderr",
     "output_type": "stream",
     "text": [
      "INFO:pytorch_lightning.utilities.rank_zero:GPU available: False, used: False\n",
      "INFO:pytorch_lightning.utilities.rank_zero:TPU available: False, using: 0 TPU cores\n",
      "INFO:pytorch_lightning.utilities.rank_zero:HPU available: False, using: 0 HPUs\n",
      "/usr/local/lib/python3.12/dist-packages/pytorch_lightning/callbacks/model_checkpoint.py:751: Checkpoint directory /content/Chemoinformatics_project/mlp_checkpoints exists and is not empty.\n",
      "INFO:pytorch_lightning.callbacks.model_summary:\n",
      "  | Name      | Type              | Params | Mode \n",
      "--------------------------------------------------------\n",
      "0 | network   | Sequential        | 563 K  | train\n",
      "1 | criterion | BCEWithLogitsLoss | 0      | train\n",
      "--------------------------------------------------------\n",
      "563 K     Trainable params\n",
      "0         Non-trainable params\n",
      "563 K     Total params\n",
      "2.253     Total estimated model params size (MB)\n",
      "15        Modules in train mode\n",
      "0         Modules in eval mode\n"
     ]
    },
    {
     "name": "stdout",
     "output_type": "stream",
     "text": [
      "--- Training MLP model... ---\n"
     ]
    },
    {
     "data": {
      "application/vnd.jupyter.widget-view+json": {
       "model_id": "0b287779792147699bdf1fbeecdd4c44",
       "version_major": 2,
       "version_minor": 0
      },
      "text/plain": [
       "Sanity Checking: |          | 0/? [00:00<?, ?it/s]"
      ]
     },
     "metadata": {},
     "output_type": "display_data"
    },
    {
     "data": {
      "application/vnd.jupyter.widget-view+json": {
       "model_id": "97d5de32b83346cb9d2806569aeab946",
       "version_major": 2,
       "version_minor": 0
      },
      "text/plain": [
       "Training: |          | 0/? [00:00<?, ?it/s]"
      ]
     },
     "metadata": {},
     "output_type": "display_data"
    },
    {
     "data": {
      "application/vnd.jupyter.widget-view+json": {
       "model_id": "389bae8b5e5d4fe2a9d146a2b66ff6d2",
       "version_major": 2,
       "version_minor": 0
      },
      "text/plain": [
       "Validation: |          | 0/? [00:00<?, ?it/s]"
      ]
     },
     "metadata": {},
     "output_type": "display_data"
    },
    {
     "name": "stderr",
     "output_type": "stream",
     "text": [
      "INFO:pytorch_lightning.callbacks.early_stopping:Metric val_loss improved. New best score: 0.694\n"
     ]
    },
    {
     "data": {
      "application/vnd.jupyter.widget-view+json": {
       "model_id": "5b6a3cd603bf4b3598186788b5b47b45",
       "version_major": 2,
       "version_minor": 0
      },
      "text/plain": [
       "Validation: |          | 0/? [00:00<?, ?it/s]"
      ]
     },
     "metadata": {},
     "output_type": "display_data"
    },
    {
     "name": "stderr",
     "output_type": "stream",
     "text": [
      "INFO:pytorch_lightning.callbacks.early_stopping:Metric val_loss improved by 0.023 >= min_delta = 0.0. New best score: 0.671\n"
     ]
    },
    {
     "data": {
      "application/vnd.jupyter.widget-view+json": {
       "model_id": "d42c1299fa1b427ca76538998b251083",
       "version_major": 2,
       "version_minor": 0
      },
      "text/plain": [
       "Validation: |          | 0/? [00:00<?, ?it/s]"
      ]
     },
     "metadata": {},
     "output_type": "display_data"
    },
    {
     "name": "stderr",
     "output_type": "stream",
     "text": [
      "INFO:pytorch_lightning.callbacks.early_stopping:Metric val_loss improved by 0.035 >= min_delta = 0.0. New best score: 0.636\n"
     ]
    },
    {
     "data": {
      "application/vnd.jupyter.widget-view+json": {
       "model_id": "1f2f7a08bb634fbc8cb5171b5bfb3b60",
       "version_major": 2,
       "version_minor": 0
      },
      "text/plain": [
       "Validation: |          | 0/? [00:00<?, ?it/s]"
      ]
     },
     "metadata": {},
     "output_type": "display_data"
    },
    {
     "name": "stderr",
     "output_type": "stream",
     "text": [
      "INFO:pytorch_lightning.callbacks.early_stopping:Metric val_loss improved by 0.038 >= min_delta = 0.0. New best score: 0.598\n"
     ]
    },
    {
     "data": {
      "application/vnd.jupyter.widget-view+json": {
       "model_id": "f73792b889d64526a8dcdd515c6e6062",
       "version_major": 2,
       "version_minor": 0
      },
      "text/plain": [
       "Validation: |          | 0/? [00:00<?, ?it/s]"
      ]
     },
     "metadata": {},
     "output_type": "display_data"
    },
    {
     "name": "stderr",
     "output_type": "stream",
     "text": [
      "INFO:pytorch_lightning.callbacks.early_stopping:Metric val_loss improved by 0.040 >= min_delta = 0.0. New best score: 0.558\n"
     ]
    },
    {
     "data": {
      "application/vnd.jupyter.widget-view+json": {
       "model_id": "3187137e3122422e9ddcd46a5a4adb9f",
       "version_major": 2,
       "version_minor": 0
      },
      "text/plain": [
       "Validation: |          | 0/? [00:00<?, ?it/s]"
      ]
     },
     "metadata": {},
     "output_type": "display_data"
    },
    {
     "name": "stderr",
     "output_type": "stream",
     "text": [
      "INFO:pytorch_lightning.callbacks.early_stopping:Metric val_loss improved by 0.010 >= min_delta = 0.0. New best score: 0.548\n"
     ]
    },
    {
     "data": {
      "application/vnd.jupyter.widget-view+json": {
       "model_id": "e18c3bae588c4d6fa3e25ae69df19e28",
       "version_major": 2,
       "version_minor": 0
      },
      "text/plain": [
       "Validation: |          | 0/? [00:00<?, ?it/s]"
      ]
     },
     "metadata": {},
     "output_type": "display_data"
    },
    {
     "name": "stderr",
     "output_type": "stream",
     "text": [
      "INFO:pytorch_lightning.callbacks.early_stopping:Metric val_loss improved by 0.018 >= min_delta = 0.0. New best score: 0.530\n"
     ]
    },
    {
     "data": {
      "application/vnd.jupyter.widget-view+json": {
       "model_id": "988149cd651848fb91890a846c1bab80",
       "version_major": 2,
       "version_minor": 0
      },
      "text/plain": [
       "Validation: |          | 0/? [00:00<?, ?it/s]"
      ]
     },
     "metadata": {},
     "output_type": "display_data"
    },
    {
     "name": "stderr",
     "output_type": "stream",
     "text": [
      "INFO:pytorch_lightning.callbacks.early_stopping:Metric val_loss improved by 0.002 >= min_delta = 0.0. New best score: 0.528\n"
     ]
    },
    {
     "data": {
      "application/vnd.jupyter.widget-view+json": {
       "model_id": "e38b2bbb68d94c2a9f7a4b3d0fc14954",
       "version_major": 2,
       "version_minor": 0
      },
      "text/plain": [
       "Validation: |          | 0/? [00:00<?, ?it/s]"
      ]
     },
     "metadata": {},
     "output_type": "display_data"
    },
    {
     "name": "stderr",
     "output_type": "stream",
     "text": [
      "INFO:pytorch_lightning.callbacks.early_stopping:Metric val_loss improved by 0.013 >= min_delta = 0.0. New best score: 0.515\n"
     ]
    },
    {
     "data": {
      "application/vnd.jupyter.widget-view+json": {
       "model_id": "c355d2059dbb42a3b5c53f9b830edcec",
       "version_major": 2,
       "version_minor": 0
      },
      "text/plain": [
       "Validation: |          | 0/? [00:00<?, ?it/s]"
      ]
     },
     "metadata": {},
     "output_type": "display_data"
    },
    {
     "name": "stderr",
     "output_type": "stream",
     "text": [
      "INFO:pytorch_lightning.callbacks.early_stopping:Metric val_loss improved by 0.006 >= min_delta = 0.0. New best score: 0.509\n"
     ]
    },
    {
     "data": {
      "application/vnd.jupyter.widget-view+json": {
       "model_id": "ea30cd94e3cc4cfda8766104ae646c5d",
       "version_major": 2,
       "version_minor": 0
      },
      "text/plain": [
       "Validation: |          | 0/? [00:00<?, ?it/s]"
      ]
     },
     "metadata": {},
     "output_type": "display_data"
    },
    {
     "data": {
      "application/vnd.jupyter.widget-view+json": {
       "model_id": "a3b3da6d18a34184916afea27ae861ec",
       "version_major": 2,
       "version_minor": 0
      },
      "text/plain": [
       "Validation: |          | 0/? [00:00<?, ?it/s]"
      ]
     },
     "metadata": {},
     "output_type": "display_data"
    },
    {
     "data": {
      "application/vnd.jupyter.widget-view+json": {
       "model_id": "df111814bc944da58abbb15bdd3d1895",
       "version_major": 2,
       "version_minor": 0
      },
      "text/plain": [
       "Validation: |          | 0/? [00:00<?, ?it/s]"
      ]
     },
     "metadata": {},
     "output_type": "display_data"
    },
    {
     "data": {
      "application/vnd.jupyter.widget-view+json": {
       "model_id": "634c4d9223e147f1b6e767fe0a67801d",
       "version_major": 2,
       "version_minor": 0
      },
      "text/plain": [
       "Validation: |          | 0/? [00:00<?, ?it/s]"
      ]
     },
     "metadata": {},
     "output_type": "display_data"
    },
    {
     "data": {
      "application/vnd.jupyter.widget-view+json": {
       "model_id": "fe67156e73a04e54858093931ec74f19",
       "version_major": 2,
       "version_minor": 0
      },
      "text/plain": [
       "Validation: |          | 0/? [00:00<?, ?it/s]"
      ]
     },
     "metadata": {},
     "output_type": "display_data"
    },
    {
     "data": {
      "application/vnd.jupyter.widget-view+json": {
       "model_id": "bc7382c0ee3448c6902b0b07be65691c",
       "version_major": 2,
       "version_minor": 0
      },
      "text/plain": [
       "Validation: |          | 0/? [00:00<?, ?it/s]"
      ]
     },
     "metadata": {},
     "output_type": "display_data"
    },
    {
     "data": {
      "application/vnd.jupyter.widget-view+json": {
       "model_id": "9516d5f0b059401c8d3b0781a441bc9a",
       "version_major": 2,
       "version_minor": 0
      },
      "text/plain": [
       "Validation: |          | 0/? [00:00<?, ?it/s]"
      ]
     },
     "metadata": {},
     "output_type": "display_data"
    },
    {
     "data": {
      "application/vnd.jupyter.widget-view+json": {
       "model_id": "b24b34da2703437facf1e2f16a8302e4",
       "version_major": 2,
       "version_minor": 0
      },
      "text/plain": [
       "Validation: |          | 0/? [00:00<?, ?it/s]"
      ]
     },
     "metadata": {},
     "output_type": "display_data"
    },
    {
     "data": {
      "application/vnd.jupyter.widget-view+json": {
       "model_id": "9b13896dcbc746788d94d2cfa5ea16d3",
       "version_major": 2,
       "version_minor": 0
      },
      "text/plain": [
       "Validation: |          | 0/? [00:00<?, ?it/s]"
      ]
     },
     "metadata": {},
     "output_type": "display_data"
    },
    {
     "data": {
      "application/vnd.jupyter.widget-view+json": {
       "model_id": "1c086bc6cf2741b586c6dd4793f5d57b",
       "version_major": 2,
       "version_minor": 0
      },
      "text/plain": [
       "Validation: |          | 0/? [00:00<?, ?it/s]"
      ]
     },
     "metadata": {},
     "output_type": "display_data"
    },
    {
     "data": {
      "application/vnd.jupyter.widget-view+json": {
       "model_id": "d0b75f9dac7e49149def69a5c41aa05c",
       "version_major": 2,
       "version_minor": 0
      },
      "text/plain": [
       "Validation: |          | 0/? [00:00<?, ?it/s]"
      ]
     },
     "metadata": {},
     "output_type": "display_data"
    },
    {
     "data": {
      "application/vnd.jupyter.widget-view+json": {
       "model_id": "9b0d67666fd942bcb70c7fd5daa5f3da",
       "version_major": 2,
       "version_minor": 0
      },
      "text/plain": [
       "Validation: |          | 0/? [00:00<?, ?it/s]"
      ]
     },
     "metadata": {},
     "output_type": "display_data"
    },
    {
     "data": {
      "application/vnd.jupyter.widget-view+json": {
       "model_id": "7043dcc7619047f0b01f0776f3a2b127",
       "version_major": 2,
       "version_minor": 0
      },
      "text/plain": [
       "Validation: |          | 0/? [00:00<?, ?it/s]"
      ]
     },
     "metadata": {},
     "output_type": "display_data"
    },
    {
     "data": {
      "application/vnd.jupyter.widget-view+json": {
       "model_id": "0d8ac4f86f8f47bbb71b7f824bd5acc5",
       "version_major": 2,
       "version_minor": 0
      },
      "text/plain": [
       "Validation: |          | 0/? [00:00<?, ?it/s]"
      ]
     },
     "metadata": {},
     "output_type": "display_data"
    },
    {
     "data": {
      "application/vnd.jupyter.widget-view+json": {
       "model_id": "f1a952ec63254bfdbbb26abb8a728dc9",
       "version_major": 2,
       "version_minor": 0
      },
      "text/plain": [
       "Validation: |          | 0/? [00:00<?, ?it/s]"
      ]
     },
     "metadata": {},
     "output_type": "display_data"
    },
    {
     "name": "stderr",
     "output_type": "stream",
     "text": [
      "INFO:pytorch_lightning.callbacks.early_stopping:Monitored metric val_loss did not improve in the last 15 records. Best score: 0.509. Signaling Trainer to stop.\n"
     ]
    }
   ],
   "source": [
    "from Classification.src.MLP import MLP_SIDER\n",
    "from pytorch_lightning.loggers import CSVLogger\n",
    "\n",
    "LOG_NAME = 'mlp_sider_roc_auc_run'\n",
    "logger = CSVLogger('lightning_logs', name=LOG_NAME)\n",
    "\n",
    "# Initialize MLP model\n",
    "input_dim = X_train.shape[1]\n",
>>>>>>> 735c03c2280a1faea90193a0cf4fd08d342bf5e2
    "mlp_model = MLP_SIDER(\n",
    "    input_dim=input_dim,\n",
    "    hidden_dims=[512, 256, 128],\n",
    "    out_dim=27,\n",
    "    dropout=0.3,\n",
    "    lr=0.001\n",
    ")\n",
    "\n",
    "# Setup callbacks\n",
    "checkpoint_callback = ModelCheckpoint(\n",
    "    monitor='val_loss',\n",
    "    dirpath='mlp_checkpoints/',\n",
    "    filename='best-mlp-model',\n",
    "    save_top_k=1,\n",
<<<<<<< HEAD
    "    mode='min'\n",
=======
    "    mode='max'\n",
>>>>>>> 735c03c2280a1faea90193a0cf4fd08d342bf5e2
    ")\n",
    "\n",
    "early_stop_callback = EarlyStopping(\n",
    "    monitor='val_loss',\n",
    "    patience=15,\n",
    "    mode='min',\n",
    "    verbose=True\n",
    ")\n",
    "\n",
    "# Train the model\n",
    "trainer = pl.Trainer(\n",
    "    max_epochs=100,\n",
    "    callbacks=[checkpoint_callback, early_stop_callback],\n",
<<<<<<< HEAD
=======
    "    logger=logger,\n",
>>>>>>> 735c03c2280a1faea90193a0cf4fd08d342bf5e2
    "    accelerator='auto',\n",
    "    log_every_n_steps=10\n",
    ")\n",
    "\n",
    "print(\"--- Training MLP model... ---\")\n",
<<<<<<< HEAD
    "trainer.fit(mlp_model, train_loader, val_loader)"
=======
    "trainer.fit(mlp_model, train_loader, val_loader)\n"
>>>>>>> 735c03c2280a1faea90193a0cf4fd08d342bf5e2
   ]
  },
  {
   "cell_type": "code",
<<<<<<< HEAD
   "execution_count": null,
   "metadata": {},
   "outputs": [],
=======
   "execution_count": 38,
   "metadata": {
    "colab": {
     "base_uri": "https://localhost:8080/"
    },
    "id": "Q6LLFrAcSn7C",
    "outputId": "e26d81d2-76cb-4284-d8ad-2aefbb431196"
   },
   "outputs": [
    {
     "name": "stdout",
     "output_type": "stream",
     "text": [
      "\n",
      "--- Evaluating MLP on test set... ---\n",
      "\n",
      "MLP Performance:\n",
      "Macro AUC-ROC: 0.5762\n",
      "Micro AUC-ROC: 0.7855\n"
     ]
    }
   ],
>>>>>>> 735c03c2280a1faea90193a0cf4fd08d342bf5e2
   "source": [
    "# Evaluate on test set\n",
    "print(\"\\n--- Evaluating MLP on test set... ---\")\n",
    "\n",
    "mlp_model.eval()\n",
    "all_preds = []\n",
    "all_targets = []\n",
    "\n",
    "with torch.no_grad():\n",
    "    for batch in test_loader:\n",
    "        x, y = batch\n",
    "        logits = mlp_model(x)\n",
    "        probs = torch.sigmoid(logits)\n",
    "        all_preds.append(probs.cpu().numpy())\n",
    "        all_targets.append(y.cpu().numpy())\n",
    "\n",
    "all_preds = np.vstack(all_preds)\n",
    "all_targets = np.vstack(all_targets)\n",
    "\n",
    "# Calculate macro AUC-ROC\n",
    "macro_auc = roc_auc_score(all_targets, all_preds, average='macro')\n",
    "micro_auc = roc_auc_score(all_targets, all_preds, average='micro')\n",
    "\n",
    "print(f\"\\nMLP Performance:\")\n",
    "print(f\"Macro AUC-ROC: {macro_auc:.4f}\")\n",
    "print(f\"Micro AUC-ROC: {micro_auc:.4f}\")"
   ]
  }
 ],
 "metadata": {
  "colab": {
   "authorship_tag": "ABX9TyP47VZT8DahbuzbwfGaYs0g",
   "collapsed_sections": [
    "L84ZGQCwFKNY",
    "VT7kFlA7C50I",
    "x5UkHe9UC-59",
    "OFSgwiDsjASL",
    "MangafTTE-Pr",
    "D1vvyazkxHZR",
    "FakkET8IhUVY"
   ],
   "include_colab_link": true,
   "provenance": []
  },
  "kernelspec": {
   "display_name": "Python 3",
   "name": "python3"
  },
  "language_info": {
   "codemirror_mode": {
    "name": "ipython",
    "version": 3
   },
   "file_extension": ".py",
   "mimetype": "text/x-python",
   "name": "python",
   "nbconvert_exporter": "python",
   "pygments_lexer": "ipython3",
   "version": "3.11.12"
  }
 },
 "nbformat": 4,
 "nbformat_minor": 0
}
