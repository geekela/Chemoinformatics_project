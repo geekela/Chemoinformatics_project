
--- Hyperparameter search: Logistic Regression ---

--- Hyperparameter search: SVM ---


--- EVALUATION AND RESULTS COLLECTION ---

================================================================================
                     MODEL PERFORMANCE SUMMARY
                     Features: MorganFP
================================================================================
                     Features Macro AUC-ROC                                               Hyperparameters
XGBoost              MorganFP        0.6480                                                      Defaults
Logistic Regression  MorganFP        0.6454                             C=1.0 (Default), Solver=liblinear
Random Forest        MorganFP        0.6436  {'estimator__max_depth': 25, 'estimator__n_estimators': 200}
SVM                  MorganFP        0.6238                                Kernel=linear, C=1.0 (Default)

--- TOP 5 LABELS ---
                                   Label  Random Forest  Logistic Regression    SVM  XGBoost
                       Cardiac disorders         0.7469               0.7313 0.7283   0.7183
Reproductive system and breast disorders         0.7730               0.7176 0.7102   0.7085
                Nervous system disorders         0.6949               0.6879 0.7759   0.7123
                 Hepatobiliary disorders         0.7177               0.7168 0.7162   0.7018
                     Endocrine disorders         0.7431               0.7269 0.7007   0.6773

--- BOTTOM 5 LABELS ---
                                     Label  Random Forest  Logistic Regression    SVM  XGBoost
                            Product issues         0.5315               0.5732 0.4403   0.5607
        Metabolism and nutrition disorders         0.5798               0.5618 0.5729   0.5297
Congenital, familial and genetic disorders         0.5223               0.6100 0.5407   0.5826
                   Immune system disorders         0.5659               0.5654 0.5839   0.5869
           Surgical and medical procedures         0.5360               0.6213 0.6126   0.5776
