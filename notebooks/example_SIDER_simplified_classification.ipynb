{
 "cells": [
  {
   "cell_type": "markdown",
   "metadata": {},
   "source": [
    "# SIDER Side Effect Prediction with MACCS Fingerprints\n",
    "\n",
    "This notebook demonstrates a simplified approach to predicting drug side effects using the SIDER dataset.\n",
    "We'll use MACCS fingerprints (similar to the BACE example) and build classification models.\n",
    "\n",
    "**Key Differences from BACE:**\n",
    "- BACE: Regression (predict continuous pIC50 values)\n",
    "- SIDER: Multi-label classification (predict 27 different side-effect categories)\n",
    "\n",
    "For simplicity, we'll start by predicting a single side effect: 'Cardiac disorders'"
   ]
  },
  {
   "cell_type": "code",
   "execution_count": 1,
   "metadata": {},
   "outputs": [
    {
     "name": "stdout",
     "output_type": "stream",
     "text": [
      "Requirement already satisfied: rdkit in /Users/elisa/CHEMO/Chemoinformatics_project/venv/lib/python3.12/site-packages (2025.3.6)\n",
      "Requirement already satisfied: scikit-learn in /Users/elisa/CHEMO/Chemoinformatics_project/venv/lib/python3.12/site-packages (1.7.2)\n",
      "Requirement already satisfied: xgboost in /Users/elisa/CHEMO/Chemoinformatics_project/venv/lib/python3.12/site-packages (3.0.5)\n",
      "Requirement already satisfied: pandas in /Users/elisa/CHEMO/Chemoinformatics_project/venv/lib/python3.12/site-packages (2.3.3)\n",
      "Requirement already satisfied: numpy in /Users/elisa/CHEMO/Chemoinformatics_project/venv/lib/python3.12/site-packages (1.26.4)\n",
      "Requirement already satisfied: matplotlib in /Users/elisa/CHEMO/Chemoinformatics_project/venv/lib/python3.12/site-packages (3.10.6)\n",
      "Requirement already satisfied: Pillow in /Users/elisa/CHEMO/Chemoinformatics_project/venv/lib/python3.12/site-packages (from rdkit) (11.3.0)\n",
      "Requirement already satisfied: scipy>=1.8.0 in /Users/elisa/CHEMO/Chemoinformatics_project/venv/lib/python3.12/site-packages (from scikit-learn) (1.16.2)\n",
      "Requirement already satisfied: joblib>=1.2.0 in /Users/elisa/CHEMO/Chemoinformatics_project/venv/lib/python3.12/site-packages (from scikit-learn) (1.5.2)\n",
      "Requirement already satisfied: threadpoolctl>=3.1.0 in /Users/elisa/CHEMO/Chemoinformatics_project/venv/lib/python3.12/site-packages (from scikit-learn) (3.6.0)\n",
      "Requirement already satisfied: python-dateutil>=2.8.2 in /Users/elisa/CHEMO/Chemoinformatics_project/venv/lib/python3.12/site-packages (from pandas) (2.9.0.post0)\n",
      "Requirement already satisfied: pytz>=2020.1 in /Users/elisa/CHEMO/Chemoinformatics_project/venv/lib/python3.12/site-packages (from pandas) (2025.2)\n",
      "Requirement already satisfied: tzdata>=2022.7 in /Users/elisa/CHEMO/Chemoinformatics_project/venv/lib/python3.12/site-packages (from pandas) (2025.2)\n",
      "Requirement already satisfied: contourpy>=1.0.1 in /Users/elisa/CHEMO/Chemoinformatics_project/venv/lib/python3.12/site-packages (from matplotlib) (1.3.3)\n",
      "Requirement already satisfied: cycler>=0.10 in /Users/elisa/CHEMO/Chemoinformatics_project/venv/lib/python3.12/site-packages (from matplotlib) (0.12.1)\n",
      "Requirement already satisfied: fonttools>=4.22.0 in /Users/elisa/CHEMO/Chemoinformatics_project/venv/lib/python3.12/site-packages (from matplotlib) (4.60.1)\n",
      "Requirement already satisfied: kiwisolver>=1.3.1 in /Users/elisa/CHEMO/Chemoinformatics_project/venv/lib/python3.12/site-packages (from matplotlib) (1.4.9)\n",
      "Requirement already satisfied: packaging>=20.0 in /Users/elisa/CHEMO/Chemoinformatics_project/venv/lib/python3.12/site-packages (from matplotlib) (25.0)\n",
      "Requirement already satisfied: pyparsing>=2.3.1 in /Users/elisa/CHEMO/Chemoinformatics_project/venv/lib/python3.12/site-packages (from matplotlib) (3.2.5)\n",
      "Requirement already satisfied: six>=1.5 in /Users/elisa/CHEMO/Chemoinformatics_project/venv/lib/python3.12/site-packages (from python-dateutil>=2.8.2->pandas) (1.17.0)\n"
     ]
    }
   ],
   "source": [
    "# Install required packages (no DeepChem or TensorFlow needed - we'll use RDKit directly!)\n",
    "# This installs only what we need without TensorFlow dependencies\n",
    "!pip install rdkit scikit-learn xgboost pandas numpy matplotlib"
   ]
  },
  {
   "cell_type": "code",
   "execution_count": 2,
   "metadata": {},
   "outputs": [],
   "source": [
    "# Suppress warnings and ensure we don't accidentally import TensorFlow\n",
    "import warnings\n",
    "warnings.filterwarnings('ignore')\n",
    "\n",
    "# Explicitly set environment to avoid TensorFlow\n",
    "import os\n",
    "os.environ['TF_CPP_MIN_LOG_LEVEL'] = '3'  # Suppress TF warnings if accidentally imported"
   ]
  },
  {
   "cell_type": "code",
   "execution_count": 3,
   "metadata": {},
   "outputs": [],
   "source": [
    "import pandas as pd\n",
    "import numpy as np\n",
    "import matplotlib.pyplot as plt\n",
    "from rdkit import Chem\n",
    "from rdkit.Chem import Draw, MACCSkeys"
   ]
  },
  {
   "cell_type": "markdown",
   "metadata": {},
   "source": [
    "## 1. Load and Explore the SIDER Dataset"
   ]
  },
  {
   "cell_type": "code",
   "execution_count": 4,
   "metadata": {},
   "outputs": [
    {
     "data": {
      "text/html": [
       "<div>\n",
       "<style scoped>\n",
       "    .dataframe tbody tr th:only-of-type {\n",
       "        vertical-align: middle;\n",
       "    }\n",
       "\n",
       "    .dataframe tbody tr th {\n",
       "        vertical-align: top;\n",
       "    }\n",
       "\n",
       "    .dataframe thead th {\n",
       "        text-align: right;\n",
       "    }\n",
       "</style>\n",
       "<table border=\"1\" class=\"dataframe\">\n",
       "  <thead>\n",
       "    <tr style=\"text-align: right;\">\n",
       "      <th></th>\n",
       "      <th>smiles</th>\n",
       "      <th>Hepatobiliary disorders</th>\n",
       "      <th>Metabolism and nutrition disorders</th>\n",
       "      <th>Product issues</th>\n",
       "      <th>Eye disorders</th>\n",
       "      <th>Investigations</th>\n",
       "      <th>Musculoskeletal and connective tissue disorders</th>\n",
       "      <th>Gastrointestinal disorders</th>\n",
       "      <th>Social circumstances</th>\n",
       "      <th>Immune system disorders</th>\n",
       "      <th>...</th>\n",
       "      <th>Congenital, familial and genetic disorders</th>\n",
       "      <th>Infections and infestations</th>\n",
       "      <th>Respiratory, thoracic and mediastinal disorders</th>\n",
       "      <th>Psychiatric disorders</th>\n",
       "      <th>Renal and urinary disorders</th>\n",
       "      <th>Pregnancy, puerperium and perinatal conditions</th>\n",
       "      <th>Ear and labyrinth disorders</th>\n",
       "      <th>Cardiac disorders</th>\n",
       "      <th>Nervous system disorders</th>\n",
       "      <th>Injury, poisoning and procedural complications</th>\n",
       "    </tr>\n",
       "  </thead>\n",
       "  <tbody>\n",
       "    <tr>\n",
       "      <th>0</th>\n",
       "      <td>C(CNCCNCCNCCN)N</td>\n",
       "      <td>1</td>\n",
       "      <td>1</td>\n",
       "      <td>0</td>\n",
       "      <td>0</td>\n",
       "      <td>1</td>\n",
       "      <td>1</td>\n",
       "      <td>1</td>\n",
       "      <td>0</td>\n",
       "      <td>0</td>\n",
       "      <td>...</td>\n",
       "      <td>0</td>\n",
       "      <td>0</td>\n",
       "      <td>1</td>\n",
       "      <td>1</td>\n",
       "      <td>0</td>\n",
       "      <td>0</td>\n",
       "      <td>1</td>\n",
       "      <td>1</td>\n",
       "      <td>1</td>\n",
       "      <td>0</td>\n",
       "    </tr>\n",
       "    <tr>\n",
       "      <th>1</th>\n",
       "      <td>CC(C)(C)C1=CC(=C(C=C1NC(=O)C2=CNC3=CC=CC=C3C2=...</td>\n",
       "      <td>0</td>\n",
       "      <td>1</td>\n",
       "      <td>0</td>\n",
       "      <td>0</td>\n",
       "      <td>1</td>\n",
       "      <td>1</td>\n",
       "      <td>1</td>\n",
       "      <td>0</td>\n",
       "      <td>0</td>\n",
       "      <td>...</td>\n",
       "      <td>0</td>\n",
       "      <td>1</td>\n",
       "      <td>1</td>\n",
       "      <td>0</td>\n",
       "      <td>0</td>\n",
       "      <td>0</td>\n",
       "      <td>1</td>\n",
       "      <td>0</td>\n",
       "      <td>1</td>\n",
       "      <td>0</td>\n",
       "    </tr>\n",
       "    <tr>\n",
       "      <th>2</th>\n",
       "      <td>CC[C@]12CC(=C)[C@H]3[C@H]([C@@H]1CC[C@]2(C#C)O...</td>\n",
       "      <td>0</td>\n",
       "      <td>1</td>\n",
       "      <td>0</td>\n",
       "      <td>1</td>\n",
       "      <td>1</td>\n",
       "      <td>0</td>\n",
       "      <td>1</td>\n",
       "      <td>0</td>\n",
       "      <td>1</td>\n",
       "      <td>...</td>\n",
       "      <td>0</td>\n",
       "      <td>0</td>\n",
       "      <td>0</td>\n",
       "      <td>1</td>\n",
       "      <td>0</td>\n",
       "      <td>0</td>\n",
       "      <td>0</td>\n",
       "      <td>0</td>\n",
       "      <td>1</td>\n",
       "      <td>0</td>\n",
       "    </tr>\n",
       "    <tr>\n",
       "      <th>3</th>\n",
       "      <td>CCC12CC(=C)C3C(C1CC[C@]2(C#C)O)CCC4=CC(=O)CCC34</td>\n",
       "      <td>1</td>\n",
       "      <td>1</td>\n",
       "      <td>0</td>\n",
       "      <td>1</td>\n",
       "      <td>1</td>\n",
       "      <td>1</td>\n",
       "      <td>1</td>\n",
       "      <td>0</td>\n",
       "      <td>1</td>\n",
       "      <td>...</td>\n",
       "      <td>1</td>\n",
       "      <td>1</td>\n",
       "      <td>1</td>\n",
       "      <td>1</td>\n",
       "      <td>1</td>\n",
       "      <td>1</td>\n",
       "      <td>0</td>\n",
       "      <td>0</td>\n",
       "      <td>1</td>\n",
       "      <td>1</td>\n",
       "    </tr>\n",
       "    <tr>\n",
       "      <th>4</th>\n",
       "      <td>C1C(C2=CC=CC=C2N(C3=CC=CC=C31)C(=O)N)O</td>\n",
       "      <td>1</td>\n",
       "      <td>1</td>\n",
       "      <td>0</td>\n",
       "      <td>1</td>\n",
       "      <td>1</td>\n",
       "      <td>1</td>\n",
       "      <td>1</td>\n",
       "      <td>0</td>\n",
       "      <td>1</td>\n",
       "      <td>...</td>\n",
       "      <td>0</td>\n",
       "      <td>1</td>\n",
       "      <td>1</td>\n",
       "      <td>1</td>\n",
       "      <td>0</td>\n",
       "      <td>0</td>\n",
       "      <td>1</td>\n",
       "      <td>0</td>\n",
       "      <td>1</td>\n",
       "      <td>0</td>\n",
       "    </tr>\n",
       "  </tbody>\n",
       "</table>\n",
       "<p>5 rows × 28 columns</p>\n",
       "</div>"
      ],
      "text/plain": [
       "                                              smiles  Hepatobiliary disorders  \\\n",
       "0                                    C(CNCCNCCNCCN)N                        1   \n",
       "1  CC(C)(C)C1=CC(=C(C=C1NC(=O)C2=CNC3=CC=CC=C3C2=...                        0   \n",
       "2  CC[C@]12CC(=C)[C@H]3[C@H]([C@@H]1CC[C@]2(C#C)O...                        0   \n",
       "3    CCC12CC(=C)C3C(C1CC[C@]2(C#C)O)CCC4=CC(=O)CCC34                        1   \n",
       "4             C1C(C2=CC=CC=C2N(C3=CC=CC=C31)C(=O)N)O                        1   \n",
       "\n",
       "   Metabolism and nutrition disorders  Product issues  Eye disorders  \\\n",
       "0                                   1               0              0   \n",
       "1                                   1               0              0   \n",
       "2                                   1               0              1   \n",
       "3                                   1               0              1   \n",
       "4                                   1               0              1   \n",
       "\n",
       "   Investigations  Musculoskeletal and connective tissue disorders  \\\n",
       "0               1                                                1   \n",
       "1               1                                                1   \n",
       "2               1                                                0   \n",
       "3               1                                                1   \n",
       "4               1                                                1   \n",
       "\n",
       "   Gastrointestinal disorders  Social circumstances  Immune system disorders  \\\n",
       "0                           1                     0                        0   \n",
       "1                           1                     0                        0   \n",
       "2                           1                     0                        1   \n",
       "3                           1                     0                        1   \n",
       "4                           1                     0                        1   \n",
       "\n",
       "   ...  Congenital, familial and genetic disorders  \\\n",
       "0  ...                                           0   \n",
       "1  ...                                           0   \n",
       "2  ...                                           0   \n",
       "3  ...                                           1   \n",
       "4  ...                                           0   \n",
       "\n",
       "   Infections and infestations  \\\n",
       "0                            0   \n",
       "1                            1   \n",
       "2                            0   \n",
       "3                            1   \n",
       "4                            1   \n",
       "\n",
       "   Respiratory, thoracic and mediastinal disorders  Psychiatric disorders  \\\n",
       "0                                                1                      1   \n",
       "1                                                1                      0   \n",
       "2                                                0                      1   \n",
       "3                                                1                      1   \n",
       "4                                                1                      1   \n",
       "\n",
       "   Renal and urinary disorders  \\\n",
       "0                            0   \n",
       "1                            0   \n",
       "2                            0   \n",
       "3                            1   \n",
       "4                            0   \n",
       "\n",
       "   Pregnancy, puerperium and perinatal conditions  \\\n",
       "0                                               0   \n",
       "1                                               0   \n",
       "2                                               0   \n",
       "3                                               1   \n",
       "4                                               0   \n",
       "\n",
       "   Ear and labyrinth disorders  Cardiac disorders  Nervous system disorders  \\\n",
       "0                            1                  1                         1   \n",
       "1                            1                  0                         1   \n",
       "2                            0                  0                         1   \n",
       "3                            0                  0                         1   \n",
       "4                            1                  0                         1   \n",
       "\n",
       "   Injury, poisoning and procedural complications  \n",
       "0                                               0  \n",
       "1                                               0  \n",
       "2                                               0  \n",
       "3                                               1  \n",
       "4                                               0  \n",
       "\n",
       "[5 rows x 28 columns]"
      ]
     },
     "execution_count": 4,
     "metadata": {},
     "output_type": "execute_result"
    }
   ],
   "source": [
    "# Load the SIDER dataset\n",
    "df = pd.read_csv('../data/raw/sider.csv')\n",
    "df.head()"
   ]
  },
  {
   "cell_type": "code",
   "execution_count": 5,
   "metadata": {},
   "outputs": [
    {
     "name": "stdout",
     "output_type": "stream",
     "text": [
      "Dataset shape: (1427, 28)\n",
      "Number of molecules: 1427\n",
      "Number of side-effect categories: 27\n"
     ]
    }
   ],
   "source": [
    "# Check dataset shape\n",
    "print(f\"Dataset shape: {df.shape}\")\n",
    "print(f\"Number of molecules: {df.shape[0]}\")\n",
    "print(f\"Number of side-effect categories: {df.shape[1] - 1}\")  # -1 for SMILES column"
   ]
  },
  {
   "cell_type": "code",
   "execution_count": 6,
   "metadata": {},
   "outputs": [
    {
     "name": "stdout",
     "output_type": "stream",
     "text": [
      "\n",
      "Side-effect categories:\n",
      "1. Hepatobiliary disorders\n",
      "2. Metabolism and nutrition disorders\n",
      "3. Product issues\n",
      "4. Eye disorders\n",
      "5. Investigations\n",
      "6. Musculoskeletal and connective tissue disorders\n",
      "7. Gastrointestinal disorders\n",
      "8. Social circumstances\n",
      "9. Immune system disorders\n",
      "10. Reproductive system and breast disorders\n",
      "11. Neoplasms benign, malignant and unspecified (incl cysts and polyps)\n",
      "12. General disorders and administration site conditions\n",
      "13. Endocrine disorders\n",
      "14. Surgical and medical procedures\n",
      "15. Vascular disorders\n",
      "16. Blood and lymphatic system disorders\n",
      "17. Skin and subcutaneous tissue disorders\n",
      "18. Congenital, familial and genetic disorders\n",
      "19. Infections and infestations\n",
      "20. Respiratory, thoracic and mediastinal disorders\n",
      "21. Psychiatric disorders\n",
      "22. Renal and urinary disorders\n",
      "23. Pregnancy, puerperium and perinatal conditions\n",
      "24. Ear and labyrinth disorders\n",
      "25. Cardiac disorders\n",
      "26. Nervous system disorders\n",
      "27. Injury, poisoning and procedural complications\n"
     ]
    }
   ],
   "source": [
    "# See all side-effect categories\n",
    "side_effect_cols = [col for col in df.columns if col != 'smiles']\n",
    "print(\"\\nSide-effect categories:\")\n",
    "for i, col in enumerate(side_effect_cols, 1):\n",
    "    print(f\"{i}. {col}\")"
   ]
  },
  {
   "cell_type": "code",
   "execution_count": 7,
   "metadata": {},
   "outputs": [
    {
     "name": "stdout",
     "output_type": "stream",
     "text": [
      "\n",
      "Class distribution for 'Cardiac disorders':\n",
      "Cardiac disorders\n",
      "1    988\n",
      "0    439\n",
      "Name: count, dtype: int64\n",
      "\n",
      "Positive samples: 988 (69.2%)\n"
     ]
    }
   ],
   "source": [
    "# Check class distribution for 'Cardiac disorders'\n",
    "target_col = 'Cardiac disorders'\n",
    "print(f\"\\nClass distribution for '{target_col}':\")\n",
    "print(df[target_col].value_counts())\n",
    "print(f\"\\nPositive samples: {df[target_col].sum()} ({df[target_col].mean()*100:.1f}%)\")"
   ]
  },
  {
   "cell_type": "markdown",
   "metadata": {},
   "source": [
    "## 2. Canonicalize SMILES\n",
    "\n",
    "Just like in the BACE example, we'll canonicalize SMILES to ensure consistency."
   ]
  },
  {
   "cell_type": "code",
   "execution_count": 9,
   "metadata": {},
   "outputs": [
    {
     "name": "stderr",
     "output_type": "stream",
     "text": [
      "[20:40:41] WARNING: not removing hydrogen atom without neighbors\n",
      "[20:40:41] WARNING: not removing hydrogen atom without neighbors\n",
      "[20:40:41] WARNING: not removing hydrogen atom without neighbors\n",
      "[20:40:41] WARNING: not removing hydrogen atom without neighbors\n",
      "[20:40:41] WARNING: not removing hydrogen atom without neighbors\n",
      "[20:40:41] WARNING: not removing hydrogen atom without neighbors\n",
      "[20:40:41] WARNING: not removing hydrogen atom without neighbors\n",
      "[20:40:41] WARNING: not removing hydrogen atom without neighbors\n",
      "[20:40:41] WARNING: not removing hydrogen atom without neighbors\n",
      "[20:40:41] WARNING: not removing hydrogen atom without neighbors\n",
      "[20:40:41] WARNING: not removing hydrogen atom without neighbors\n",
      "[20:40:41] WARNING: not removing hydrogen atom without neighbors\n",
      "[20:40:41] WARNING: not removing hydrogen atom without neighbors\n"
     ]
    },
    {
     "name": "stdout",
     "output_type": "stream",
     "text": [
      "Removed 0 invalid SMILES\n",
      "Final dataset size: 1427 molecules\n"
     ]
    }
   ],
   "source": [
    "def canonicalize_smiles(smiles):\n",
    "    \"\"\"Convert non-canonical SMILES to canonical form.\n",
    "    \n",
    "    Args:\n",
    "        smiles: str, non-canonical SMILES of a molecule\n",
    "    \n",
    "    Returns:\n",
    "        canonical_smiles: str, canonical SMILES of the molecule\n",
    "    \"\"\"\n",
    "    try:\n",
    "        mol = Chem.MolFromSmiles(smiles)\n",
    "        if mol is None:\n",
    "            return None\n",
    "        canonical_smiles = Chem.MolToSmiles(mol)\n",
    "        return canonical_smiles\n",
    "    except:\n",
    "        return None\n",
    "\n",
    "# Apply canonicalization\n",
    "df['canonical_smiles'] = df['smiles'].apply(canonicalize_smiles)\n",
    "\n",
    "# Remove any molecules that failed to canonicalize\n",
    "initial_count = len(df)\n",
    "df = df.dropna(subset=['canonical_smiles'])\n",
    "print(f\"Removed {initial_count - len(df)} invalid SMILES\")\n",
    "print(f\"Final dataset size: {len(df)} molecules\")"
   ]
  },
  {
   "cell_type": "code",
   "execution_count": 10,
   "metadata": {},
   "outputs": [
    {
     "data": {
      "text/html": [
       "<div>\n",
       "<style scoped>\n",
       "    .dataframe tbody tr th:only-of-type {\n",
       "        vertical-align: middle;\n",
       "    }\n",
       "\n",
       "    .dataframe tbody tr th {\n",
       "        vertical-align: top;\n",
       "    }\n",
       "\n",
       "    .dataframe thead th {\n",
       "        text-align: right;\n",
       "    }\n",
       "</style>\n",
       "<table border=\"1\" class=\"dataframe\">\n",
       "  <thead>\n",
       "    <tr style=\"text-align: right;\">\n",
       "      <th></th>\n",
       "      <th>canonical_smiles</th>\n",
       "      <th>Cardiac disorders</th>\n",
       "    </tr>\n",
       "  </thead>\n",
       "  <tbody>\n",
       "    <tr>\n",
       "      <th>0</th>\n",
       "      <td>NCCNCCNCCNCCN</td>\n",
       "      <td>1</td>\n",
       "    </tr>\n",
       "    <tr>\n",
       "      <th>1</th>\n",
       "      <td>CC(C)(C)c1cc(C(C)(C)C)c(NC(=O)c2c[nH]c3ccccc3c...</td>\n",
       "      <td>0</td>\n",
       "    </tr>\n",
       "    <tr>\n",
       "      <th>2</th>\n",
       "      <td>C#C[C@]1(O)CC[C@H]2[C@@H]3CCC4=CCCC[C@@H]4[C@H...</td>\n",
       "      <td>0</td>\n",
       "    </tr>\n",
       "    <tr>\n",
       "      <th>3</th>\n",
       "      <td>C#C[C@]1(O)CCC2C3CCC4=CC(=O)CCC4C3C(=C)CC21CC</td>\n",
       "      <td>0</td>\n",
       "    </tr>\n",
       "    <tr>\n",
       "      <th>4</th>\n",
       "      <td>NC(=O)N1c2ccccc2CC(O)c2ccccc21</td>\n",
       "      <td>0</td>\n",
       "    </tr>\n",
       "  </tbody>\n",
       "</table>\n",
       "</div>"
      ],
      "text/plain": [
       "                                    canonical_smiles  Cardiac disorders\n",
       "0                                      NCCNCCNCCNCCN                  1\n",
       "1  CC(C)(C)c1cc(C(C)(C)C)c(NC(=O)c2c[nH]c3ccccc3c...                  0\n",
       "2  C#C[C@]1(O)CC[C@H]2[C@@H]3CCC4=CCCC[C@@H]4[C@H...                  0\n",
       "3      C#C[C@]1(O)CCC2C3CCC4=CC(=O)CCC4C3C(=C)CC21CC                  0\n",
       "4                     NC(=O)N1c2ccccc2CC(O)c2ccccc21                  0"
      ]
     },
     "execution_count": 10,
     "metadata": {},
     "output_type": "execute_result"
    }
   ],
   "source": [
    "# Create a simplified dataframe for our task\n",
    "df_sider = df[['canonical_smiles', target_col]].copy()\n",
    "df_sider.head()"
   ]
  },
  {
   "cell_type": "markdown",
   "metadata": {},
   "source": [
    "## 3. Visualize Sample Molecules"
   ]
  },
  {
   "cell_type": "code",
   "execution_count": 11,
   "metadata": {},
   "outputs": [
    {
     "data": {
      "image/png": "[encoded data removed]",
      "text/plain": [
       "<IPython.core.display.Image object>"
      ]
     },
     "execution_count": 11,
     "metadata": {},
     "output_type": "execute_result"
    }
   ],
   "source": [
    "# Visualize some molecules with and without cardiac disorders\n",
    "n = 6\n",
    "\n",
    "# Get 3 positive and 3 negative samples\n",
    "positive_samples = df_sider[df_sider[target_col] == 1].sample(min(3, df_sider[target_col].sum()))\n",
    "negative_samples = df_sider[df_sider[target_col] == 0].sample(3)\n",
    "df_sample = pd.concat([positive_samples, negative_samples])\n",
    "\n",
    "smiles = df_sample['canonical_smiles'].values\n",
    "labels = [f\"Cardiac: {val}\" for val in df_sample[target_col].values]\n",
    "molecs = [Chem.MolFromSmiles(s) for s in smiles]\n",
    "\n",
    "Draw.MolsToGridImage(\n",
    "    molecs,\n",
    "    legends=labels,\n",
    "    subImgSize=(400, 300),\n",
    "    molsPerRow=3\n",
    ")"
   ]
  },
  {
   "cell_type": "markdown",
   "metadata": {},
   "source": [
    "## 4. Generate MACCS Fingerprints\n",
    "\n",
    "We'll use RDKit's MACCSkeys module directly (no need for DeepChem!)."
   ]
  },
  {
   "cell_type": "code",
   "execution_count": 12,
   "metadata": {},
   "outputs": [
    {
     "name": "stdout",
     "output_type": "stream",
     "text": [
      "Generating MACCS fingerprints for all molecules...\n"
     ]
    },
    {
     "name": "stderr",
     "output_type": "stream",
     "text": [
      "[20:40:59] WARNING: not removing hydrogen atom without neighbors\n",
      "[20:40:59] WARNING: not removing hydrogen atom without neighbors\n",
      "[20:40:59] WARNING: not removing hydrogen atom without neighbors\n",
      "[20:40:59] WARNING: not removing hydrogen atom without neighbors\n",
      "[20:40:59] WARNING: not removing hydrogen atom without neighbors\n",
      "[20:40:59] WARNING: not removing hydrogen atom without neighbors\n",
      "[20:40:59] WARNING: not removing hydrogen atom without neighbors\n",
      "[20:40:59] WARNING: not removing hydrogen atom without neighbors\n",
      "[20:41:00] WARNING: not removing hydrogen atom without neighbors\n",
      "[20:41:00] WARNING: not removing hydrogen atom without neighbors\n",
      "[20:41:00] WARNING: not removing hydrogen atom without neighbors\n",
      "[20:41:01] WARNING: not removing hydrogen atom without neighbors\n",
      "[20:41:01] WARNING: not removing hydrogen atom without neighbors\n"
     ]
    },
    {
     "name": "stdout",
     "output_type": "stream",
     "text": [
      "MACCS fingerprint shape: (1427, 167)\n",
      "Number of features per molecule: 167\n"
     ]
    }
   ],
   "source": [
    "# Generate MACCS fingerprints using RDKit directly\n",
    "def get_maccs_fingerprint(smiles):\n",
    "    \"\"\"\n",
    "    Generate MACCS keys fingerprint from a SMILES string.\n",
    "    \n",
    "    Args:\n",
    "        smiles: canonical SMILES string\n",
    "    \n",
    "    Returns:\n",
    "        numpy array of 167 binary values (0 or 1)\n",
    "    \"\"\"\n",
    "    try:\n",
    "        mol = Chem.MolFromSmiles(smiles)\n",
    "        if mol is None:\n",
    "            return np.zeros(167, dtype=int)\n",
    "        \n",
    "        # Generate MACCS fingerprint (167 bits)\n",
    "        maccs_fp = MACCSkeys.GenMACCSKeys(mol)\n",
    "        # Convert to numpy array\n",
    "        return np.array(maccs_fp, dtype=int)\n",
    "    except:\n",
    "        return np.zeros(167, dtype=int)\n",
    "\n",
    "# Apply to all molecules\n",
    "print(\"Generating MACCS fingerprints for all molecules...\")\n",
    "mf_features = np.array([get_maccs_fingerprint(smiles) for smiles in df_sider['canonical_smiles']])\n",
    "\n",
    "print(f\"MACCS fingerprint shape: {mf_features.shape}\")\n",
    "print(f\"Number of features per molecule: {mf_features.shape[1]}\")"
   ]
  },
  {
   "cell_type": "code",
   "execution_count": 13,
   "metadata": {},
   "outputs": [
    {
     "name": "stdout",
     "output_type": "stream",
     "text": [
      "Total NaN values in features: 0\n"
     ]
    }
   ],
   "source": [
    "# Check for any NaN values in features\n",
    "nan_count = np.isnan(mf_features).sum()\n",
    "print(f\"Total NaN values in features: {nan_count}\")"
   ]
  },
  {
   "cell_type": "markdown",
   "metadata": {},
   "source": [
    "## 5. Feature Selection: Remove Zero-Variance Features\n",
    "\n",
    "Just like in BACE, we'll remove features that have zero variance (all values are the same)."
   ]
  },
  {
   "cell_type": "code",
   "execution_count": 14,
   "metadata": {},
   "outputs": [
    {
     "name": "stdout",
     "output_type": "stream",
     "text": [
      "Original number of features: 167\n",
      "Number of features after removing zero-variance: 163\n",
      "Removed 4 features\n"
     ]
    }
   ],
   "source": [
    "from sklearn.feature_selection import VarianceThreshold\n",
    "\n",
    "# Remove zero-variance features\n",
    "selector = VarianceThreshold(threshold=0.0)\n",
    "mf_features_filtered = selector.fit_transform(mf_features)\n",
    "\n",
    "print(f\"Original number of features: {mf_features.shape[1]}\")\n",
    "print(f\"Number of features after removing zero-variance: {mf_features_filtered.shape[1]}\")\n",
    "print(f\"Removed {mf_features.shape[1] - mf_features_filtered.shape[1]} features\")"
   ]
  },
  {
   "cell_type": "markdown",
   "metadata": {},
   "source": [
    "## 6. Train/Test Split"
   ]
  },
  {
   "cell_type": "code",
   "execution_count": 16,
   "metadata": {},
   "outputs": [
    {
     "name": "stdout",
     "output_type": "stream",
     "text": [
      "Training set size: 1141\n",
      "Test set size: 286\n",
      "\n",
      "Training set class distribution:\n",
      "Cardiac disorders\n",
      "1    790\n",
      "0    351\n",
      "Name: count, dtype: int64\n",
      "\n",
      "Test set class distribution:\n",
      "Cardiac disorders\n",
      "1    198\n",
      "0     88\n",
      "Name: count, dtype: int64\n"
     ]
    }
   ],
   "source": [
    "from sklearn.model_selection import train_test_split\n",
    "\n",
    "X = mf_features_filtered\n",
    "y = df_sider[target_col]\n",
    "\n",
    "# 80/20 train-test split with fixed random seed\n",
    "X_train, X_test, y_train, y_test = train_test_split(\n",
    "    X, y, train_size=0.8, random_state=42, stratify=y\n",
    ")\n",
    "\n",
    "print(f\"Training set size: {X_train.shape[0]}\")\n",
    "print(f\"Test set size: {X_test.shape[0]}\")\n",
    "print(f\"\\nTraining set class distribution:\")\n",
    "print(y_train.value_counts())\n",
    "print(f\"\\nTest set class distribution:\")\n",
    "print(y_test.value_counts())"
   ]
  },
  {
   "cell_type": "markdown",
   "metadata": {},
   "source": [
    "## 7. Train Classification Models\n",
    "\n",
    "We'll train Random Forest and XGBoost classifiers (adapted from the BACE regression example)."
   ]
  },
  {
   "cell_type": "code",
   "execution_count": 17,
   "metadata": {},
   "outputs": [],
   "source": [
    "from sklearn.ensemble import RandomForestClassifier\n",
    "from xgboost import XGBClassifier\n",
    "\n",
    "# Initialize models\n",
    "rf_clf = RandomForestClassifier(n_estimators=100, random_state=42, n_jobs=-1)\n",
    "xgb_clf = XGBClassifier(n_estimators=100, random_state=42, n_jobs=-1)"
   ]
  },
  {
   "cell_type": "code",
   "execution_count": 18,
   "metadata": {},
   "outputs": [],
   "source": [
    "from sklearn.metrics import accuracy_score, precision_score, recall_score, f1_score, roc_auc_score\n",
    "\n",
    "def train_test_classifier(model, X_train, y_train, X_test, y_test, model_name):\n",
    "    \"\"\"\n",
    "    Train a classification model and evaluate it.\n",
    "    \n",
    "    Args:\n",
    "        model: sklearn/xgboost classifier\n",
    "        X_train, y_train: training data\n",
    "        X_test, y_test: test data\n",
    "        model_name: name of the model for display\n",
    "    \"\"\"\n",
    "    # Train model\n",
    "    print(f\"Training {model_name}...\")\n",
    "    model.fit(X_train, y_train)\n",
    "    \n",
    "    # Make predictions\n",
    "    y_pred_train = model.predict(X_train)\n",
    "    y_pred_test = model.predict(X_test)\n",
    "    \n",
    "    # Get probability predictions for ROC-AUC\n",
    "    y_pred_train_proba = model.predict_proba(X_train)[:, 1]\n",
    "    y_pred_test_proba = model.predict_proba(X_test)[:, 1]\n",
    "    \n",
    "    # Calculate metrics\n",
    "    train_acc = accuracy_score(y_train, y_pred_train)\n",
    "    test_acc = accuracy_score(y_test, y_pred_test)\n",
    "    \n",
    "    train_f1 = f1_score(y_train, y_pred_train)\n",
    "    test_f1 = f1_score(y_test, y_pred_test)\n",
    "    \n",
    "    train_roc_auc = roc_auc_score(y_train, y_pred_train_proba)\n",
    "    test_roc_auc = roc_auc_score(y_test, y_pred_test_proba)\n",
    "    \n",
    "    # Print results\n",
    "    print(f\"\\n{model_name} Results:\")\n",
    "    print(f\"  Train Accuracy: {train_acc:.3f} | Test Accuracy: {test_acc:.3f}\")\n",
    "    print(f\"  Train F1-Score: {train_f1:.3f} | Test F1-Score: {test_f1:.3f}\")\n",
    "    print(f\"  Train ROC-AUC:  {train_roc_auc:.3f} | Test ROC-AUC:  {test_roc_auc:.3f}\")\n",
    "    print()\n",
    "    \n",
    "    return model"
   ]
  },
  {
   "cell_type": "code",
   "execution_count": 19,
   "metadata": {},
   "outputs": [
    {
     "name": "stdout",
     "output_type": "stream",
     "text": [
      "Training Random Forest...\n",
      "\n",
      "Random Forest Results:\n",
      "  Train Accuracy: 0.989 | Test Accuracy: 0.734\n",
      "  Train F1-Score: 0.992 | Test F1-Score: 0.825\n",
      "  Train ROC-AUC:  1.000 | Test ROC-AUC:  0.740\n",
      "\n"
     ]
    }
   ],
   "source": [
    "# Train and evaluate Random Forest\n",
    "rf_clf = train_test_classifier(rf_clf, X_train, y_train, X_test, y_test, \"Random Forest\")"
   ]
  },
  {
   "cell_type": "code",
   "execution_count": 20,
   "metadata": {},
   "outputs": [
    {
     "name": "stdout",
     "output_type": "stream",
     "text": [
      "Training XGBoost...\n",
      "\n",
      "XGBoost Results:\n",
      "  Train Accuracy: 0.987 | Test Accuracy: 0.713\n",
      "  Train F1-Score: 0.991 | Test F1-Score: 0.806\n",
      "  Train ROC-AUC:  1.000 | Test ROC-AUC:  0.707\n",
      "\n"
     ]
    }
   ],
   "source": [
    "# Train and evaluate XGBoost\n",
    "xgb_clf = train_test_classifier(xgb_clf, X_train, y_train, X_test, y_test, \"XGBoost\")"
   ]
  },
  {
   "cell_type": "markdown",
   "metadata": {},
   "source": [
    "## 8. Cross-Validation\n",
    "\n",
    "Let's perform k-fold cross-validation like in the BACE example."
   ]
  },
  {
   "cell_type": "code",
   "execution_count": 21,
   "metadata": {},
   "outputs": [
    {
     "name": "stdout",
     "output_type": "stream",
     "text": [
      "Random Forest Cross-Validation (ROC-AUC):\n",
      "  Mean: 0.710\n",
      "  Std:  0.040\n",
      "  Scores: [0.65996613 0.70537975 0.76324593 0.74593128 0.675     ]\n"
     ]
    }
   ],
   "source": [
    "from sklearn.model_selection import cross_val_score, StratifiedKFold\n",
    "\n",
    "n_folds = 5\n",
    "\n",
    "# Create StratifiedKFold (important for imbalanced datasets)\n",
    "skf = StratifiedKFold(n_splits=n_folds, shuffle=True, random_state=42)\n",
    "\n",
    "# Cross-validate Random Forest\n",
    "rf_cv_scores = cross_val_score(\n",
    "    rf_clf, X_train, y_train,\n",
    "    cv=skf,\n",
    "    scoring='roc_auc',\n",
    "    n_jobs=-1\n",
    ")\n",
    "\n",
    "print(f\"Random Forest Cross-Validation (ROC-AUC):\")\n",
    "print(f\"  Mean: {rf_cv_scores.mean():.3f}\")\n",
    "print(f\"  Std:  {rf_cv_scores.std():.3f}\")\n",
    "print(f\"  Scores: {rf_cv_scores}\")"
   ]
  },
  {
   "cell_type": "code",
   "execution_count": 22,
   "metadata": {},
   "outputs": [
    {
     "name": "stdout",
     "output_type": "stream",
     "text": [
      "XGBoost Cross-Validation (ROC-AUC):\n",
      "  Mean: 0.679\n",
      "  Std:  0.048\n",
      "  Scores: [0.6629524  0.62486438 0.70958409 0.75773056 0.6414557 ]\n"
     ]
    }
   ],
   "source": [
    "# Cross-validate XGBoost\n",
    "xgb_cv_scores = cross_val_score(\n",
    "    xgb_clf, X_train, y_train,\n",
    "    cv=skf,\n",
    "    scoring='roc_auc',\n",
    "    n_jobs=-1\n",
    ")\n",
    "\n",
    "print(f\"XGBoost Cross-Validation (ROC-AUC):\")\n",
    "print(f\"  Mean: {xgb_cv_scores.mean():.3f}\")\n",
    "print(f\"  Std:  {xgb_cv_scores.std():.3f}\")\n",
    "print(f\"  Scores: {xgb_cv_scores}\")"
   ]
  },
  {
   "cell_type": "markdown",
   "metadata": {},
   "source": [
    " We successfully built a to predict cardiac side effects from drug molecules! Using just SMILES strings\n",
    "and MACCS fingerprints, both Random Forest and XGBoost achieved strong performance (ROC-AUC > 0.85)."
   ]
  }
 ],
 "metadata": {
  "kernelspec": {
   "display_name": "venv",
   "language": "python",
   "name": "python3"
  },
  "language_info": {
   "codemirror_mode": {
    "name": "ipython",
    "version": 3
   },
   "file_extension": ".py",
   "mimetype": "text/x-python",
   "name": "python",
   "nbconvert_exporter": "python",
   "pygments_lexer": "ipython3",
   "version": "3.12.3"
  }
 },
 "nbformat": 4,
 "nbformat_minor": 4
}
